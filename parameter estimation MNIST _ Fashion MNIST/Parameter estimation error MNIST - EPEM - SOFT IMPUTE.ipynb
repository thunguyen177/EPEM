{
 "cells": [
  {
   "cell_type": "markdown",
   "metadata": {
    "id": "01Q1wGI3uIdg"
   },
   "source": [
    "## libraries and function "
   ]
  },
  {
   "cell_type": "code",
   "execution_count": 1,
   "metadata": {
    "colab": {
     "base_uri": "https://localhost:8080/"
    },
    "executionInfo": {
     "elapsed": 8814,
     "status": "ok",
     "timestamp": 1605317624656,
     "user": {
      "displayName": "Thu Nguyễn",
      "photoUrl": "https://lh3.googleusercontent.com/a-/AOh14GjaRl8WgKOjLdrEa69IqFm__Rq7udZ763hhFDl9=s64",
      "userId": "04714273295929622355"
     },
     "user_tz": 360
    },
    "id": "iEdO9dJPION8",
    "outputId": "e73a4476-3bf7-4cc6-e755-736143365d58"
   },
   "outputs": [
    {
     "name": "stdout",
     "output_type": "stream",
     "text": [
      "Collecting impyute\n",
      "  Downloading https://files.pythonhosted.org/packages/37/28/86829f67c9affb847facaab94687761d3555539ec675f7577778c5b2680a/impyute-0.0.8-py2.py3-none-any.whl\n",
      "Requirement already satisfied: numpy in /usr/local/lib/python3.6/dist-packages (from impyute) (1.18.5)\n",
      "Requirement already satisfied: scipy in /usr/local/lib/python3.6/dist-packages (from impyute) (1.4.1)\n",
      "Requirement already satisfied: scikit-learn in /usr/local/lib/python3.6/dist-packages (from impyute) (0.22.2.post1)\n",
      "Requirement already satisfied: joblib>=0.11 in /usr/local/lib/python3.6/dist-packages (from scikit-learn->impyute) (0.17.0)\n",
      "Installing collected packages: impyute\n",
      "Successfully installed impyute-0.0.8\n"
     ]
    },
    {
     "name": "stderr",
     "output_type": "stream",
     "text": [
      "/usr/local/lib/python3.6/dist-packages/sklearn/externals/six.py:31: FutureWarning: The module is deprecated in version 0.21 and will be removed in version 0.23 since we've dropped support for Python 2.7. Please rely on the official version of six (https://pypi.org/project/six/).\n",
      "  \"(https://pypi.org/project/six/).\", FutureWarning)\n"
     ]
    }
   ],
   "source": [
    "!pip install impyute\n",
    "from sklearn import datasets\n",
    "from sklearn.preprocessing import LabelEncoder, StandardScaler\n",
    "from sklearn.discriminant_analysis import LinearDiscriminantAnalysis as skLDA\n",
    "from sklearn.experimental import enable_iterative_imputer\n",
    "from sklearn.impute import IterativeImputer\n",
    "from scipy import stats\n",
    "import numpy as np\n",
    "import impyute as impy\n",
    "from fancyimpute import IterativeSVD, SoftImpute, NuclearNormMinimization\n",
    "import pandas as pd\n",
    "import time"
   ]
  },
  {
   "cell_type": "markdown",
   "metadata": {
    "id": "YxZbkGo8IOOS"
   },
   "source": [
    "The function `mle` allows us to compute the MLEs from training data with monotone missing data.\n",
    "\n",
    "We denote\n",
    "$$n = \\begin{pmatrix}\n",
    "n_1^{(1)} & n_1^{(2)} &...&n_1^{(K)}\\\\\n",
    "\\vdots & \\vdots &\\ddots&\\vdots\\\\\n",
    "n_G^{(1)} & n_G^{(2)} &...&n_G^{(K)}\n",
    "\\end{pmatrix}$$\n",
    "$$p = (p_1,p_2,...,p_K)$$\n",
    "G is the number of classes.\n"
   ]
  },
  {
   "cell_type": "markdown",
   "metadata": {
    "id": "zJsxuiuVOWch"
   },
   "source": [
    "### MLE function "
   ]
  },
  {
   "cell_type": "code",
   "execution_count": 2,
   "metadata": {
    "executionInfo": {
     "elapsed": 8798,
     "status": "ok",
     "timestamp": 1605317624661,
     "user": {
      "displayName": "Thu Nguyễn",
      "photoUrl": "https://lh3.googleusercontent.com/a-/AOh14GjaRl8WgKOjLdrEa69IqFm__Rq7udZ763hhFDl9=s64",
      "userId": "04714273295929622355"
     },
     "user_tz": 360
    },
    "id": "9iL76sKnIOOU"
   },
   "outputs": [],
   "source": [
    "import numpy as np\n",
    "def mle(Xtrain, n, p, G):\n",
    "    '''\n",
    "    Xtrain: list of input. The ith element of the list contains the sample from\n",
    "    the ith class.\n",
    "    '''\n",
    "    if p[0]==1:\n",
    "        # the array that contains the means of each block for the 1st block\n",
    "        mus = [np.mean(Xtrain[g][:,0]) for g in np.arange(G)]\n",
    "        S = [(n[g,0]-1)*np.var(Xtrain[g][:,0]) for g in np.arange(G)]\n",
    "    else:\n",
    "        mus = [np.mean(Xtrain[g][:,0:p[0]], axis = 0) for g  in np.arange(G)]\n",
    "        S = [(n[g,0]-1)*np.cov(Xtrain[g][:,0:p[0]],rowvar =False) \n",
    "             for g in np.arange(G)]\n",
    "    \n",
    "    mus = np.asarray(mus).T # so that each column is the mean of a class\n",
    "    S = sum(S)/(sum(n[:,0])) \n",
    "    S = S.reshape((p[0],-1))\n",
    "    for i in np.arange(1,len(p)):\n",
    "        W = [(n[g,i]-1)*np.cov(Xtrain[g][0:n[g,i],0:p[i]],\n",
    "                              rowvar=False) for g in np.arange(G)]\n",
    "        W = sum(W)\n",
    "        \n",
    "        P = np.matmul(W[(p[i-1]):p[i], 0:p[i-1]],\n",
    "                      np.linalg.inv(W[0:p[i-1],0:p[i-1]]))\n",
    "        Q = (W[p[i-1]:p[i],p[i-1]:p[i]]-\n",
    "            np.matmul(P, W[0:p[i-1],p[i-1]:p[i]]))/sum(n[:,i])\n",
    "        xmeans = [np.mean(Xtrain[g][0:n[g,i],0:p[i]], axis = 0) \n",
    "                  for g in np.arange(G)]\n",
    "        \n",
    "        xmeans = np.asarray(xmeans)\n",
    "        xmeans = xmeans.T\n",
    "        mus = np.vstack((mus, xmeans[p[i-1]:p[i],:]\n",
    "                       - np.matmul(P, xmeans[0:p[i-1]]-mus)))\n",
    "        S21 = np.matmul(P, S)\n",
    "        S = np.vstack((np.hstack((S, S21.T)),\n",
    "                       np.hstack((S21, Q+np.matmul(P, S21.T)))))\n",
    "    return [mus, S]"
   ]
  },
  {
   "cell_type": "markdown",
   "metadata": {
    "id": "5Kk3Z0jcObqQ"
   },
   "source": [
    "### nan function \n"
   ]
  },
  {
   "cell_type": "code",
   "execution_count": 3,
   "metadata": {
    "executionInfo": {
     "elapsed": 817,
     "status": "ok",
     "timestamp": 1605317625487,
     "user": {
      "displayName": "Thu Nguyễn",
      "photoUrl": "https://lh3.googleusercontent.com/a-/AOh14GjaRl8WgKOjLdrEa69IqFm__Rq7udZ763hhFDl9=s64",
      "userId": "04714273295929622355"
     },
     "user_tz": 360
    },
    "id": "V4-kNYKJIOOd"
   },
   "outputs": [],
   "source": [
    "'''\n",
    "function that create data list that contain missing values\n",
    "The input X is a numpy array, y is the label\n",
    "the function return a list where the ith element of \n",
    "the list belongs to the ith class\n",
    "'''\n",
    "\n",
    "def make_nan_list(X,y,G, n, p):\n",
    "    # note that the label should go from 0 to G-1\n",
    "    data = []\n",
    "    for g in np.arange(G):\n",
    "        data.append(X[y==g,:])\n",
    "        for k in np.arange(len(p)-1):\n",
    "            data[g][n[g,k+1]:n[g,k], p[k]:] = np.nan\n",
    "    return data\n"
   ]
  },
  {
   "cell_type": "code",
   "execution_count": 4,
   "metadata": {
    "executionInfo": {
     "elapsed": 815,
     "status": "ok",
     "timestamp": 1605317625495,
     "user": {
      "displayName": "Thu Nguyễn",
      "photoUrl": "https://lh3.googleusercontent.com/a-/AOh14GjaRl8WgKOjLdrEa69IqFm__Rq7udZ763hhFDl9=s64",
      "userId": "04714273295929622355"
     },
     "user_tz": 360
    },
    "id": "8oXh1_ou0BPS"
   },
   "outputs": [],
   "source": [
    "def missing_rate(Xtrain, ytrain, n, p, G):\n",
    "    # function that compute the missing rate of a given pattern    \n",
    "    Xtr_nan_list = make_nan_list(Xtrain,ytrain,G, n, p)\n",
    "    # make NA data\n",
    "    # since making function changes the order of observation\n",
    "    # we need to generate new ytr from Xtr_nan    \n",
    "    Xtr_nan, ytr = Xtr_nan_list[0], np.repeat(0, len(Xtr_nan_list[0]))\n",
    "    for g in np.arange(1,G):\n",
    "        Xtr_nan = np.vstack((Xtr_nan, Xtr_nan_list[g]))\n",
    "        ytr = np.hstack((ytr, np.repeat(g, len(Xtr_nan_list[g]))))\n",
    "\n",
    "    # percentage of missing values\n",
    "    per_missing = np.mean(np.isnan(Xtr_nan))\n",
    "    return per_missing"
   ]
  },
  {
   "cell_type": "markdown",
   "metadata": {
    "id": "IwG2bsDOOxls"
   },
   "source": [
    "### compute_err function "
   ]
  },
  {
   "cell_type": "code",
   "execution_count": 5,
   "metadata": {
    "executionInfo": {
     "elapsed": 680,
     "status": "ok",
     "timestamp": 1605317625978,
     "user": {
      "displayName": "Thu Nguyễn",
      "photoUrl": "https://lh3.googleusercontent.com/a-/AOh14GjaRl8WgKOjLdrEa69IqFm__Rq7udZ763hhFDl9=s64",
      "userId": "04714273295929622355"
     },
     "user_tz": 360
    },
    "id": "ChlCr7wvl2Uw"
   },
   "outputs": [],
   "source": [
    "def err(mus, S, mus_est, S_est):\n",
    "  err_rate = (np.linalg.norm(mus_est-mus))/mus.size \n",
    "  err_rate += (np.linalg.norm(S_est-S))/S.size \n",
    "  return err_rate"
   ]
  },
  {
   "cell_type": "code",
   "execution_count": 6,
   "metadata": {
    "executionInfo": {
     "elapsed": 1054,
     "status": "ok",
     "timestamp": 1605317627443,
     "user": {
      "displayName": "Thu Nguyễn",
      "photoUrl": "https://lh3.googleusercontent.com/a-/AOh14GjaRl8WgKOjLdrEa69IqFm__Rq7udZ763hhFDl9=s64",
      "userId": "04714273295929622355"
     },
     "user_tz": 360
    },
    "id": "wBqdLKZAz22W"
   },
   "outputs": [],
   "source": [
    "def compute_err_mice(Xtrain, ytrain, n, p, G):      \n",
    "    # make NAs\n",
    "    Xtr_nan_list = make_nan_list(Xtrain,ytrain,G, n, p)\n",
    "    # make NA data\n",
    "    # since making function changes the order of observation\n",
    "    # we need to generate new ytr from Xtr_nan    \n",
    "    Xtr_nan, ytr = Xtr_nan_list[0], np.repeat(0, len(Xtr_nan_list[0]))\n",
    "    for g in np.arange(1,G):\n",
    "        Xtr_nan = np.vstack((Xtr_nan, Xtr_nan_list[g]))\n",
    "        ytr = np.hstack((ytr, np.repeat(g, len(Xtr_nan_list[g]))))\n",
    "\n",
    "    scaler = StandardScaler()\n",
    "    scaler.fit(Xtr_nan)\n",
    "    Xtr_nan = scaler.transform(Xtr_nan)\n",
    "    Xtrain = scaler.transform(Xtrain)\n",
    "    for g in range(G):\n",
    "      Xtr_nan_list[g] = scaler.transform(Xtr_nan_list[g])\n",
    "\n",
    "    mus = [np.mean(Xtrain[ytrain==g,:], axis=0) for g in np.arange(G)]\n",
    "    mus = np.asarray(mus) # each row is a mean of a class\n",
    "    S = [(sum(ytrain==g)-1)*np.cov(Xtrain[ytrain==g,:],rowvar =False) \n",
    "             for g in np.arange(G)]\n",
    "    S = np.asarray(S)/len(ytrain)\n",
    "\n",
    "    # percentage of missing values\n",
    "    per_missing = np.mean(np.isnan(Xtr_nan))\n",
    "\n",
    "    start = time.time()\n",
    "    Xtr_mice = IterativeImputer(max_iter=100).fit(Xtr_nan).transform(Xtr_nan)\n",
    "    mus_mice = np.asarray([np.mean(Xtr_mice[ytrain==g,:], axis=0\n",
    "                                   ) for g in np.arange(G)])\n",
    "    S_mice = np.asarray([(sum(ytrain==g)-1)*np.cov(Xtr_mice[ytrain==g,:], rowvar =False) \n",
    "             for g in np.arange(G)])\n",
    "    S_mice = S_mice/len(ytrain)\n",
    "    mice_err = err(mus, S, mus_mice, S_mice)\n",
    "    mice_time = time.time()-start\n",
    "\n",
    "    return mice_err, mice_time, per_missing"
   ]
  },
  {
   "cell_type": "code",
   "execution_count": 7,
   "metadata": {
    "executionInfo": {
     "elapsed": 708,
     "status": "ok",
     "timestamp": 1605317628877,
     "user": {
      "displayName": "Thu Nguyễn",
      "photoUrl": "https://lh3.googleusercontent.com/a-/AOh14GjaRl8WgKOjLdrEa69IqFm__Rq7udZ763hhFDl9=s64",
      "userId": "04714273295929622355"
     },
     "user_tz": 360
    },
    "id": "PH3SDKirW3Zf"
   },
   "outputs": [],
   "source": [
    "def compute_err_EM(Xtrain, ytrain, n, p, G):      \n",
    "    # make NAs\n",
    "    Xtr_nan_list = make_nan_list(Xtrain,ytrain,G, n, p)\n",
    "    # make NA data\n",
    "    # since making function changes the order of observation\n",
    "    # we need to generate new ytr from Xtr_nan    \n",
    "    Xtr_nan, ytr = Xtr_nan_list[0], np.repeat(0, len(Xtr_nan_list[0]))\n",
    "    for g in np.arange(1,G):\n",
    "        Xtr_nan = np.vstack((Xtr_nan, Xtr_nan_list[g]))\n",
    "        ytr = np.hstack((ytr, np.repeat(g, len(Xtr_nan_list[g]))))\n",
    "\n",
    "    scaler = StandardScaler()\n",
    "    scaler.fit(Xtr_nan)\n",
    "    Xtr_nan = scaler.transform(Xtr_nan)\n",
    "    Xtrain = scaler.transform(Xtrain)\n",
    "    for g in range(G):\n",
    "      Xtr_nan_list[g] = scaler.transform(Xtr_nan_list[g])\n",
    "\n",
    "    mus = [np.mean(Xtrain[ytrain==g,:], axis=0) for g in np.arange(G)]\n",
    "    mus = np.asarray(mus) # each row is a mean of a class\n",
    "    S = [(sum(ytrain==g)-1)*np.cov(Xtrain[ytrain==g,:],rowvar =False) \n",
    "             for g in np.arange(G)]\n",
    "    S = np.asarray(S)/len(ytrain)\n",
    "\n",
    "    # percentage of missing values\n",
    "    per_missing = np.mean(np.isnan(Xtr_nan))\n",
    "\n",
    "    start = time.time()\n",
    "    Xtr_em = impy.em(Xtr_nan, loops=10)\n",
    "    mus_em = np.array([np.mean(Xtr_em[ytrain==g,:], axis=0) for g in np.arange(G)])\n",
    "    S_em = np.array([(sum(ytrain==g)-1)*np.cov(Xtr_em[ytrain==g,:], rowvar =False) \n",
    "             for g in np.arange(G)])\n",
    "    S_em = S_em/len(ytrain)\n",
    "    em_err = err(mus, S, mus_em, S_em)\n",
    "    em_time = time.time()-start   \n",
    "\n",
    "    return em_err, em_time, per_missing"
   ]
  },
  {
   "cell_type": "code",
   "execution_count": 8,
   "metadata": {
    "executionInfo": {
     "elapsed": 1104,
     "status": "ok",
     "timestamp": 1605317633671,
     "user": {
      "displayName": "Thu Nguyễn",
      "photoUrl": "https://lh3.googleusercontent.com/a-/AOh14GjaRl8WgKOjLdrEa69IqFm__Rq7udZ763hhFDl9=s64",
      "userId": "04714273295929622355"
     },
     "user_tz": 360
    },
    "id": "6pqzH24ol-Ar"
   },
   "outputs": [],
   "source": [
    "def compute_err_MLE(Xtrain, ytrain, n, p, G):      \n",
    "    # make NAs\n",
    "    Xtr_nan_list = make_nan_list(Xtrain,ytrain,G, n, p)\n",
    "    # make NA data\n",
    "    # since making function changes the order of observation\n",
    "    # we need to generate new ytr from Xtr_nan    \n",
    "    Xtr_nan, ytr = Xtr_nan_list[0], np.repeat(0, len(Xtr_nan_list[0]))\n",
    "    for g in np.arange(1,G):\n",
    "        Xtr_nan = np.vstack((Xtr_nan, Xtr_nan_list[g]))\n",
    "        ytr = np.hstack((ytr, np.repeat(g, len(Xtr_nan_list[g]))))\n",
    "\n",
    "    scaler = StandardScaler()\n",
    "    scaler.fit(Xtr_nan)\n",
    "    Xtr_nan = scaler.transform(Xtr_nan)\n",
    "    Xtrain = scaler.transform(Xtrain)\n",
    "    for g in range(G):\n",
    "      Xtr_nan_list[g] = scaler.transform(Xtr_nan_list[g])\n",
    "\n",
    "    mus = [np.mean(Xtrain[ytrain==g,:], axis=0) for g in np.arange(G)]\n",
    "    mus = np.asarray(mus) # each row is a mean of a class\n",
    "    S = [(sum(ytrain==g)-1)*np.cov(Xtrain[ytrain==g,:],rowvar =False) \n",
    "             for g in np.arange(G)]\n",
    "    S = np.asarray(S)/len(ytrain)\n",
    "\n",
    "    # percentage of missing values\n",
    "    per_missing = np.mean(np.isnan(Xtr_nan))\n",
    "    # MLEs approach\n",
    "    start = time.time()\n",
    "    mus_mle, S_mle = mle(Xtr_nan_list, n, p, G)\n",
    "    mle_err = err(mus, S, mus_mle.T, S_mle)\n",
    "    mle_time = time.time()-start    \n",
    "\n",
    "    return mle_err, mle_time, per_missing"
   ]
  },
  {
   "cell_type": "code",
   "execution_count": 9,
   "metadata": {
    "executionInfo": {
     "elapsed": 847,
     "status": "ok",
     "timestamp": 1605317635190,
     "user": {
      "displayName": "Thu Nguyễn",
      "photoUrl": "https://lh3.googleusercontent.com/a-/AOh14GjaRl8WgKOjLdrEa69IqFm__Rq7udZ763hhFDl9=s64",
      "userId": "04714273295929622355"
     },
     "user_tz": 360
    },
    "id": "ZB6GFD2lvbbE"
   },
   "outputs": [],
   "source": [
    "def compute_err_SOFT(Xtrain, ytrain, n, p, G):      \n",
    "    # make NAs\n",
    "    Xtr_nan_list = make_nan_list(Xtrain,ytrain,G, n, p)\n",
    "    # make NA data\n",
    "    # since making function changes the order of observation\n",
    "    # we need to generate new ytr from Xtr_nan    \n",
    "    Xtr_nan, ytr = Xtr_nan_list[0], np.repeat(0, len(Xtr_nan_list[0]))\n",
    "    for g in np.arange(1,G):\n",
    "        Xtr_nan = np.vstack((Xtr_nan, Xtr_nan_list[g]))\n",
    "        ytr = np.hstack((ytr, np.repeat(g, len(Xtr_nan_list[g]))))\n",
    "\n",
    "    scaler = StandardScaler()\n",
    "    scaler.fit(Xtr_nan)\n",
    "    Xtr_nan = scaler.transform(Xtr_nan)\n",
    "    Xtrain = scaler.transform(Xtrain)\n",
    "    for g in range(G):\n",
    "      Xtr_nan_list[g] = scaler.transform(Xtr_nan_list[g])\n",
    "\n",
    "    mus = [np.mean(Xtrain[ytrain==g,:], axis=0) for g in np.arange(G)]\n",
    "    mus = np.asarray(mus) # each row is a mean of a class\n",
    "    S = [(sum(ytrain==g)-1)*np.cov(Xtrain[ytrain==g,:],rowvar =False) \n",
    "             for g in np.arange(G)]\n",
    "    S = np.asarray(S)/len(ytrain)\n",
    "\n",
    "    # percentage of missing values\n",
    "    per_missing = np.mean(np.isnan(Xtr_nan))\n",
    "\n",
    "    start = time.time()\n",
    "    Xtr_softimpute = SoftImpute(max_iters = 100).fit_transform(Xtr_nan)\n",
    "    mus_softimpute = np.asarray([np.mean(Xtr_softimpute[ytrain==g,:], axis=0\n",
    "                                         ) for g in np.arange(G)])\n",
    "    S_softimpute = np.asarray([(sum(ytrain==g)-1)*np.cov(Xtr_softimpute[ytrain==g,:], rowvar =False) \n",
    "             for g in np.arange(G)])\n",
    "    S_softimpute = S_softimpute/len(ytrain)\n",
    "    softimpute_err =  err(mus, S, mus_softimpute, S_softimpute)\n",
    "    softimpute_time = time.time()-start    \n",
    "\n",
    "    return softimpute_err, softimpute_time, per_missing"
   ]
  },
  {
   "cell_type": "markdown",
   "metadata": {
    "id": "ORCtMttLn-8J"
   },
   "source": [
    "# Import MNIST"
   ]
  },
  {
   "cell_type": "code",
   "execution_count": 10,
   "metadata": {
    "colab": {
     "base_uri": "https://localhost:8080/",
     "height": 220,
     "referenced_widgets": [
      "fe2fa7607e4c4040a86612d2b79fd810",
      "2351387b4c1b486b990e5ad96d2e0dad",
      "d7bdc7e9ff5f42dcbfac51d5470b54c4",
      "8876880e618245a79b3b0b83810c8f0d",
      "ca1cffa17f804777b3733549fbd40b8f",
      "6547aaea867942b79b8de01eb612af3f",
      "9ff14dc2c13643d5bfcc03d00582485f",
      "0b648a5274d3442aaec7b73fe35c997a"
     ]
    },
    "executionInfo": {
     "elapsed": 4273,
     "status": "ok",
     "timestamp": 1605317647694,
     "user": {
      "displayName": "Thu Nguyễn",
      "photoUrl": "https://lh3.googleusercontent.com/a-/AOh14GjaRl8WgKOjLdrEa69IqFm__Rq7udZ763hhFDl9=s64",
      "userId": "04714273295929622355"
     },
     "user_tz": 360
    },
    "id": "pmzNbWU8n-UW",
    "outputId": "276bdabe-a053-48d9-f0be-5eeac4d28945"
   },
   "outputs": [
    {
     "name": "stdout",
     "output_type": "stream",
     "text": [
      "\u001b[1mDownloading and preparing dataset mnist/3.0.1 (download: 11.06 MiB, generated: 21.00 MiB, total: 32.06 MiB) to /root/tensorflow_datasets/mnist/3.0.1...\u001b[0m\n"
     ]
    },
    {
     "name": "stderr",
     "output_type": "stream",
     "text": [
      "WARNING:absl:Dataset mnist is hosted on GCS. It will automatically be downloaded to your\n",
      "local data directory. If you'd instead prefer to read directly from our public\n",
      "GCS bucket (recommended if you're running on GCP), you can instead pass\n",
      "`try_gcs=True` to `tfds.load` or set `data_dir=gs://tfds-data/datasets`.\n",
      "\n"
     ]
    },
    {
     "data": {
      "application/vnd.jupyter.widget-view+json": {
       "model_id": "fe2fa7607e4c4040a86612d2b79fd810",
       "version_major": 2,
       "version_minor": 0
      },
      "text/plain": [
       "HBox(children=(FloatProgress(value=0.0, description='Dl Completed...', max=4.0, style=ProgressStyle(descriptio…"
      ]
     },
     "metadata": {
      "tags": []
     },
     "output_type": "display_data"
    },
    {
     "name": "stdout",
     "output_type": "stream",
     "text": [
      "\n",
      "\n",
      "\u001b[1mDataset mnist downloaded and prepared to /root/tensorflow_datasets/mnist/3.0.1. Subsequent calls will reuse this data.\u001b[0m\n"
     ]
    }
   ],
   "source": [
    "import tensorflow as tf\n",
    "import tensorflow_datasets as tfds\n",
    "\n",
    "# Fetch the dataset directly\n",
    "mnist = tfds.image.MNIST()\n",
    "# or by string name\n",
    "mnist = tfds.builder('mnist')\n",
    "\n",
    "# Download the data, prepare it, and write it to disk\n",
    "mnist.download_and_prepare()\n",
    "\n",
    "# Load data from disk as tf.data.Datasets\n",
    "datasets = mnist.as_dataset()\n",
    "train_dataset, test_dataset = datasets['train'], datasets['test']"
   ]
  },
  {
   "cell_type": "code",
   "execution_count": 11,
   "metadata": {
    "executionInfo": {
     "elapsed": 21455,
     "status": "ok",
     "timestamp": 1605317746185,
     "user": {
      "displayName": "Thu Nguyễn",
      "photoUrl": "https://lh3.googleusercontent.com/a-/AOh14GjaRl8WgKOjLdrEa69IqFm__Rq7udZ763hhFDl9=s64",
      "userId": "04714273295929622355"
     },
     "user_tz": 360
    },
    "id": "Q9F0HbRaoVZR"
   },
   "outputs": [],
   "source": [
    "# convert the Dataset to NumPy arrays and flatten the data\n",
    "Xtrain, ytrain = [], []\n",
    "for example in tfds.as_numpy(train_dataset):\n",
    "  Xtrain.append(example['image'].flatten())\n",
    "  ytrain.append(example['label'])\n",
    "\n",
    "Xtrain, ytrain = np.asarray(Xtrain), np.asarray(ytrain)\n",
    "Xtrain = Xtrain.astype(float)\n",
    "\n",
    "# convert the test set to NumPy arrays and flatten the data\n",
    "Xtest, ytest = [], []\n",
    "for example in tfds.as_numpy(test_dataset):\n",
    "  Xtest.append(example['image'].flatten())\n",
    "  ytest.append(example['label'])\n",
    "\n",
    "Xtest, ytest = np.asarray(Xtest), np.asarray(ytest)\n",
    "Xtest = Xtest.astype(float)"
   ]
  },
  {
   "cell_type": "code",
   "execution_count": 12,
   "metadata": {
    "colab": {
     "base_uri": "https://localhost:8080/"
    },
    "executionInfo": {
     "elapsed": 11164,
     "status": "ok",
     "timestamp": 1605317746188,
     "user": {
      "displayName": "Thu Nguyễn",
      "photoUrl": "https://lh3.googleusercontent.com/a-/AOh14GjaRl8WgKOjLdrEa69IqFm__Rq7udZ763hhFDl9=s64",
      "userId": "04714273295929622355"
     },
     "user_tz": 360
    },
    "id": "vAioCr-8pJ84",
    "outputId": "47812792-6e4b-4304-95c2-46de4fa550ce"
   },
   "outputs": [
    {
     "data": {
      "text/plain": [
       "((70000, 784), (70000,))"
      ]
     },
     "execution_count": 12,
     "metadata": {
      "tags": []
     },
     "output_type": "execute_result"
    }
   ],
   "source": [
    "X = np.vstack((Xtrain,Xtest))\n",
    "y = np.hstack((ytrain,ytest))\n",
    "X.shape, y.shape"
   ]
  },
  {
   "cell_type": "code",
   "execution_count": 13,
   "metadata": {
    "colab": {
     "base_uri": "https://localhost:8080/"
    },
    "executionInfo": {
     "elapsed": 1011,
     "status": "ok",
     "timestamp": 1605317754002,
     "user": {
      "displayName": "Thu Nguyễn",
      "photoUrl": "https://lh3.googleusercontent.com/a-/AOh14GjaRl8WgKOjLdrEa69IqFm__Rq7udZ763hhFDl9=s64",
      "userId": "04714273295929622355"
     },
     "user_tz": 360
    },
    "id": "ki7UuUntoowV",
    "outputId": "922806df-ca5e-4090-d7b3-4f24ec39d3b8"
   },
   "outputs": [
    {
     "name": "stdout",
     "output_type": "stream",
     "text": [
      "135\n"
     ]
    },
    {
     "data": {
      "text/plain": [
       "649"
      ]
     },
     "execution_count": 13,
     "metadata": {
      "tags": []
     },
     "output_type": "execute_result"
    }
   ],
   "source": [
    "# check if a column is all 0\n",
    "id = [np.sum(Xtrain[:,i] != 0)>10 for i in range(28**2)]\n",
    "# number of columns that mostly zero\n",
    "print(28**2-np.sum(id))\n",
    "# number of columns that has at least more than 10 non-zero\n",
    "np.sum(id)"
   ]
  },
  {
   "cell_type": "code",
   "execution_count": 14,
   "metadata": {
    "executionInfo": {
     "elapsed": 1175,
     "status": "ok",
     "timestamp": 1605317755577,
     "user": {
      "displayName": "Thu Nguyễn",
      "photoUrl": "https://lh3.googleusercontent.com/a-/AOh14GjaRl8WgKOjLdrEa69IqFm__Rq7udZ763hhFDl9=s64",
      "userId": "04714273295929622355"
     },
     "user_tz": 360
    },
    "id": "YakxlntRo9o8"
   },
   "outputs": [],
   "source": [
    "X = X[:, id]"
   ]
  },
  {
   "cell_type": "code",
   "execution_count": 15,
   "metadata": {
    "colab": {
     "base_uri": "https://localhost:8080/"
    },
    "executionInfo": {
     "elapsed": 2362,
     "status": "ok",
     "timestamp": 1605317759288,
     "user": {
      "displayName": "Thu Nguyễn",
      "photoUrl": "https://lh3.googleusercontent.com/a-/AOh14GjaRl8WgKOjLdrEa69IqFm__Rq7udZ763hhFDl9=s64",
      "userId": "04714273295929622355"
     },
     "user_tz": 360
    },
    "id": "sdzEyBKBq29K",
    "outputId": "b5d9a44e-21e4-41da-e417-78f8afbcd7c8"
   },
   "outputs": [
    {
     "data": {
      "text/plain": [
       "array([5923, 6742, 5958, 6131, 5842, 5421, 5918, 6265, 5851, 5949])"
      ]
     },
     "execution_count": 15,
     "metadata": {
      "tags": []
     },
     "output_type": "execute_result"
    }
   ],
   "source": [
    "# number of sample per class in training data\n",
    "ng = np.asarray([sum(ytrain==i) for i in np.arange(10)])\n",
    "ng"
   ]
  },
  {
   "cell_type": "markdown",
   "metadata": {
    "id": "Yogx2GqgqOOE"
   },
   "source": [
    "### 20%"
   ]
  },
  {
   "cell_type": "code",
   "execution_count": 16,
   "metadata": {
    "colab": {
     "base_uri": "https://localhost:8080/"
    },
    "executionInfo": {
     "elapsed": 2795,
     "status": "ok",
     "timestamp": 1605317767137,
     "user": {
      "displayName": "Thu Nguyễn",
      "photoUrl": "https://lh3.googleusercontent.com/a-/AOh14GjaRl8WgKOjLdrEa69IqFm__Rq7udZ763hhFDl9=s64",
      "userId": "04714273295929622355"
     },
     "user_tz": 360
    },
    "id": "VuOauwVRqRJc",
    "outputId": "484ba2db-479a-43fe-8c7b-f9e992d90e25"
   },
   "outputs": [
    {
     "data": {
      "text/plain": [
       "0.20184899845916796"
      ]
     },
     "execution_count": 16,
     "metadata": {
      "tags": []
     },
     "output_type": "execute_result"
    }
   ],
   "source": [
    "n = np.hstack((ng.reshape((-1,1)), np.tile([4500,4000,3200, 3000],\n",
    "                                 10).reshape((10,-1))))\n",
    "p = np.array([300,320,400, 500,649]) \n",
    "missing_rate(X, y, n, p, 10)"
   ]
  },
  {
   "cell_type": "code",
   "execution_count": 19,
   "metadata": {
    "colab": {
     "base_uri": "https://localhost:8080/"
    },
    "executionInfo": {
     "elapsed": 730,
     "status": "ok",
     "timestamp": 1605318040827,
     "user": {
      "displayName": "Thu Nguyễn",
      "photoUrl": "https://lh3.googleusercontent.com/a-/AOh14GjaRl8WgKOjLdrEa69IqFm__Rq7udZ763hhFDl9=s64",
      "userId": "04714273295929622355"
     },
     "user_tz": 360
    },
    "id": "AYoYiNmCaRNQ",
    "outputId": "5412bdf6-9822-4661-cf0c-3c987f2ca992"
   },
   "outputs": [
    {
     "data": {
      "text/plain": [
       "0.00014"
      ]
     },
     "execution_count": 19,
     "metadata": {
      "tags": []
     },
     "output_type": "execute_result"
    }
   ],
   "source": [
    "1.4e-4"
   ]
  },
  {
   "cell_type": "code",
   "execution_count": 17,
   "metadata": {
    "colab": {
     "base_uri": "https://localhost:8080/"
    },
    "executionInfo": {
     "elapsed": 8971,
     "status": "ok",
     "timestamp": 1605317789467,
     "user": {
      "displayName": "Thu Nguyễn",
      "photoUrl": "https://lh3.googleusercontent.com/a-/AOh14GjaRl8WgKOjLdrEa69IqFm__Rq7udZ763hhFDl9=s64",
      "userId": "04714273295929622355"
     },
     "user_tz": 360
    },
    "id": "-pAcmGFpqPxE",
    "outputId": "ebac940d-3802-47eb-f53a-244a78a6689f"
   },
   "outputs": [
    {
     "data": {
      "text/plain": [
       "(0.00014187348312083472, 1.7265172004699707, 0.20184899845916796)"
      ]
     },
     "execution_count": 17,
     "metadata": {
      "tags": []
     },
     "output_type": "execute_result"
    }
   ],
   "source": [
    "compute_err_MLE(X, y, n, p, 10)"
   ]
  },
  {
   "cell_type": "code",
   "execution_count": 20,
   "metadata": {
    "colab": {
     "base_uri": "https://localhost:8080/"
    },
    "executionInfo": {
     "elapsed": 63747,
     "status": "ok",
     "timestamp": 1605318844050,
     "user": {
      "displayName": "Thu Nguyễn",
      "photoUrl": "https://lh3.googleusercontent.com/a-/AOh14GjaRl8WgKOjLdrEa69IqFm__Rq7udZ763hhFDl9=s64",
      "userId": "04714273295929622355"
     },
     "user_tz": 360
    },
    "id": "9H2CqXt8yyjM",
    "outputId": "53396bb6-666c-4c76-e1c8-252d730b4e2c"
   },
   "outputs": [
    {
     "name": "stdout",
     "output_type": "stream",
     "text": [
      "[SoftImpute] Max Singular Value of X_init = 1413.173113\n",
      "[SoftImpute] Iter 1: observed MAE=0.050222 rank=649\n",
      "[SoftImpute] Iter 2: observed MAE=0.050351 rank=649\n",
      "[SoftImpute] Iter 3: observed MAE=0.050434 rank=649\n",
      "[SoftImpute] Iter 4: observed MAE=0.050490 rank=649\n",
      "[SoftImpute] Iter 5: observed MAE=0.050528 rank=649\n",
      "[SoftImpute] Iter 6: observed MAE=0.050556 rank=649\n",
      "[SoftImpute] Iter 7: observed MAE=0.050577 rank=649\n",
      "[SoftImpute] Iter 8: observed MAE=0.050592 rank=649\n",
      "[SoftImpute] Iter 9: observed MAE=0.050605 rank=649\n",
      "[SoftImpute] Iter 10: observed MAE=0.050615 rank=649\n",
      "[SoftImpute] Iter 11: observed MAE=0.050623 rank=649\n",
      "[SoftImpute] Iter 12: observed MAE=0.050630 rank=649\n",
      "[SoftImpute] Iter 13: observed MAE=0.050636 rank=649\n",
      "[SoftImpute] Iter 14: observed MAE=0.050641 rank=649\n",
      "[SoftImpute] Iter 15: observed MAE=0.050646 rank=649\n",
      "[SoftImpute] Iter 16: observed MAE=0.050650 rank=649\n",
      "[SoftImpute] Iter 17: observed MAE=0.050654 rank=649\n",
      "[SoftImpute] Iter 18: observed MAE=0.050657 rank=649\n",
      "[SoftImpute] Iter 19: observed MAE=0.050660 rank=649\n",
      "[SoftImpute] Iter 20: observed MAE=0.050663 rank=649\n",
      "[SoftImpute] Iter 21: observed MAE=0.050666 rank=649\n",
      "[SoftImpute] Iter 22: observed MAE=0.050668 rank=649\n",
      "[SoftImpute] Iter 23: observed MAE=0.050671 rank=649\n",
      "[SoftImpute] Iter 24: observed MAE=0.050673 rank=649\n",
      "[SoftImpute] Iter 25: observed MAE=0.050675 rank=649\n",
      "[SoftImpute] Iter 26: observed MAE=0.050676 rank=649\n",
      "[SoftImpute] Iter 27: observed MAE=0.050678 rank=649\n",
      "[SoftImpute] Iter 28: observed MAE=0.050680 rank=649\n",
      "[SoftImpute] Iter 29: observed MAE=0.050681 rank=649\n",
      "[SoftImpute] Iter 30: observed MAE=0.050683 rank=649\n",
      "[SoftImpute] Iter 31: observed MAE=0.050684 rank=649\n",
      "[SoftImpute] Iter 32: observed MAE=0.050685 rank=649\n",
      "[SoftImpute] Iter 33: observed MAE=0.050686 rank=649\n",
      "[SoftImpute] Iter 34: observed MAE=0.050687 rank=649\n",
      "[SoftImpute] Iter 35: observed MAE=0.050688 rank=649\n",
      "[SoftImpute] Iter 36: observed MAE=0.050689 rank=649\n",
      "[SoftImpute] Iter 37: observed MAE=0.050690 rank=649\n",
      "[SoftImpute] Iter 38: observed MAE=0.050691 rank=649\n",
      "[SoftImpute] Iter 39: observed MAE=0.050691 rank=649\n",
      "[SoftImpute] Iter 40: observed MAE=0.050692 rank=649\n",
      "[SoftImpute] Iter 41: observed MAE=0.050693 rank=649\n",
      "[SoftImpute] Iter 42: observed MAE=0.050693 rank=649\n",
      "[SoftImpute] Iter 43: observed MAE=0.050694 rank=649\n",
      "[SoftImpute] Iter 44: observed MAE=0.050694 rank=649\n",
      "[SoftImpute] Iter 45: observed MAE=0.050695 rank=649\n",
      "[SoftImpute] Iter 46: observed MAE=0.050695 rank=649\n",
      "[SoftImpute] Iter 47: observed MAE=0.050696 rank=649\n",
      "[SoftImpute] Iter 48: observed MAE=0.050696 rank=649\n",
      "[SoftImpute] Iter 49: observed MAE=0.050696 rank=649\n",
      "[SoftImpute] Iter 50: observed MAE=0.050697 rank=649\n",
      "[SoftImpute] Iter 51: observed MAE=0.050697 rank=649\n",
      "[SoftImpute] Iter 52: observed MAE=0.050697 rank=649\n",
      "[SoftImpute] Iter 53: observed MAE=0.050697 rank=649\n",
      "[SoftImpute] Iter 54: observed MAE=0.050698 rank=649\n",
      "[SoftImpute] Iter 55: observed MAE=0.050698 rank=649\n",
      "[SoftImpute] Iter 56: observed MAE=0.050698 rank=649\n",
      "[SoftImpute] Iter 57: observed MAE=0.050698 rank=649\n",
      "[SoftImpute] Iter 58: observed MAE=0.050698 rank=649\n",
      "[SoftImpute] Iter 59: observed MAE=0.050699 rank=649\n",
      "[SoftImpute] Iter 60: observed MAE=0.050699 rank=649\n",
      "[SoftImpute] Iter 61: observed MAE=0.050699 rank=649\n",
      "[SoftImpute] Iter 62: observed MAE=0.050699 rank=649\n",
      "[SoftImpute] Iter 63: observed MAE=0.050699 rank=649\n",
      "[SoftImpute] Iter 64: observed MAE=0.050699 rank=649\n",
      "[SoftImpute] Iter 65: observed MAE=0.050699 rank=649\n",
      "[SoftImpute] Iter 66: observed MAE=0.050699 rank=649\n",
      "[SoftImpute] Iter 67: observed MAE=0.050699 rank=649\n",
      "[SoftImpute] Iter 68: observed MAE=0.050699 rank=649\n",
      "[SoftImpute] Iter 69: observed MAE=0.050699 rank=649\n",
      "[SoftImpute] Iter 70: observed MAE=0.050700 rank=649\n",
      "[SoftImpute] Iter 71: observed MAE=0.050700 rank=649\n",
      "[SoftImpute] Iter 72: observed MAE=0.050700 rank=649\n",
      "[SoftImpute] Iter 73: observed MAE=0.050700 rank=649\n",
      "[SoftImpute] Iter 74: observed MAE=0.050700 rank=649\n",
      "[SoftImpute] Iter 75: observed MAE=0.050700 rank=649\n",
      "[SoftImpute] Iter 76: observed MAE=0.050700 rank=649\n",
      "[SoftImpute] Iter 77: observed MAE=0.050700 rank=649\n",
      "[SoftImpute] Iter 78: observed MAE=0.050700 rank=649\n",
      "[SoftImpute] Iter 79: observed MAE=0.050700 rank=649\n",
      "[SoftImpute] Iter 80: observed MAE=0.050700 rank=649\n",
      "[SoftImpute] Iter 81: observed MAE=0.050700 rank=649\n",
      "[SoftImpute] Iter 82: observed MAE=0.050700 rank=649\n",
      "[SoftImpute] Iter 83: observed MAE=0.050700 rank=649\n",
      "[SoftImpute] Iter 84: observed MAE=0.050700 rank=649\n",
      "[SoftImpute] Iter 85: observed MAE=0.050700 rank=649\n",
      "[SoftImpute] Iter 86: observed MAE=0.050700 rank=649\n",
      "[SoftImpute] Iter 87: observed MAE=0.050700 rank=649\n",
      "[SoftImpute] Iter 88: observed MAE=0.050700 rank=649\n",
      "[SoftImpute] Iter 89: observed MAE=0.050700 rank=649\n",
      "[SoftImpute] Iter 90: observed MAE=0.050700 rank=649\n",
      "[SoftImpute] Iter 91: observed MAE=0.050700 rank=649\n",
      "[SoftImpute] Iter 92: observed MAE=0.050700 rank=649\n",
      "[SoftImpute] Iter 93: observed MAE=0.050700 rank=649\n",
      "[SoftImpute] Iter 94: observed MAE=0.050700 rank=649\n",
      "[SoftImpute] Iter 95: observed MAE=0.050700 rank=649\n",
      "[SoftImpute] Iter 96: observed MAE=0.050700 rank=649\n",
      "[SoftImpute] Iter 97: observed MAE=0.050700 rank=649\n",
      "[SoftImpute] Iter 98: observed MAE=0.050700 rank=649\n",
      "[SoftImpute] Iter 99: observed MAE=0.050700 rank=649\n",
      "[SoftImpute] Iter 100: observed MAE=0.050700 rank=649\n",
      "[SoftImpute] Stopped after iteration 100 for lambda=28.263462\n"
     ]
    },
    {
     "data": {
      "text/plain": [
       "(0.004419352954880458, 759.3949704170227, 0.20184899845916796)"
      ]
     },
     "execution_count": 20,
     "metadata": {
      "tags": []
     },
     "output_type": "execute_result"
    }
   ],
   "source": [
    "compute_err_SOFT(X, y, n, p, 10)"
   ]
  },
  {
   "cell_type": "markdown",
   "metadata": {
    "id": "k3us3LxFuzoS"
   },
   "source": [
    "### 30%"
   ]
  },
  {
   "cell_type": "code",
   "execution_count": 21,
   "metadata": {
    "colab": {
     "base_uri": "https://localhost:8080/"
    },
    "executionInfo": {
     "elapsed": 1848,
     "status": "ok",
     "timestamp": 1605319099969,
     "user": {
      "displayName": "Thu Nguyễn",
      "photoUrl": "https://lh3.googleusercontent.com/a-/AOh14GjaRl8WgKOjLdrEa69IqFm__Rq7udZ763hhFDl9=s64",
      "userId": "04714273295929622355"
     },
     "user_tz": 360
    },
    "id": "mDpQc9YItJR0",
    "outputId": "866caefd-6e94-4eff-cf77-7ff381f3657d"
   },
   "outputs": [
    {
     "data": {
      "text/plain": [
       "0.29672022892361877"
      ]
     },
     "execution_count": 21,
     "metadata": {
      "tags": []
     },
     "output_type": "execute_result"
    }
   ],
   "source": [
    "n = np.hstack((ng.reshape((-1,1)), np.tile([4000,3500,3200, 3000],\n",
    "                                 10).reshape((10,-1))))\n",
    "p = np.array([150,270,300, 370,649]) \n",
    "missing_rate(X, y, n, p, 10)"
   ]
  },
  {
   "cell_type": "code",
   "execution_count": 22,
   "metadata": {
    "colab": {
     "base_uri": "https://localhost:8080/"
    },
    "executionInfo": {
     "elapsed": 8206,
     "status": "ok",
     "timestamp": 1605319114497,
     "user": {
      "displayName": "Thu Nguyễn",
      "photoUrl": "https://lh3.googleusercontent.com/a-/AOh14GjaRl8WgKOjLdrEa69IqFm__Rq7udZ763hhFDl9=s64",
      "userId": "04714273295929622355"
     },
     "user_tz": 360
    },
    "id": "1gM7Fh7auybP",
    "outputId": "68720a07-4007-4dae-acbe-bcb956ebb2e1"
   },
   "outputs": [
    {
     "data": {
      "text/plain": [
       "(0.00017380888876023136, 1.2581579685211182, 0.29672022892361877)"
      ]
     },
     "execution_count": 22,
     "metadata": {
      "tags": []
     },
     "output_type": "execute_result"
    }
   ],
   "source": [
    "compute_err_MLE(X, y, n, p, 10)"
   ]
  },
  {
   "cell_type": "code",
   "execution_count": 23,
   "metadata": {
    "colab": {
     "base_uri": "https://localhost:8080/"
    },
    "executionInfo": {
     "elapsed": 754604,
     "status": "ok",
     "timestamp": 1605320005188,
     "user": {
      "displayName": "Thu Nguyễn",
      "photoUrl": "https://lh3.googleusercontent.com/a-/AOh14GjaRl8WgKOjLdrEa69IqFm__Rq7udZ763hhFDl9=s64",
      "userId": "04714273295929622355"
     },
     "user_tz": 360
    },
    "id": "fY1IPp3X5fcD",
    "outputId": "677d8933-2def-400d-a0bf-bcca0cadc613"
   },
   "outputs": [
    {
     "name": "stdout",
     "output_type": "stream",
     "text": [
      "[SoftImpute] Max Singular Value of X_init = 1294.818222\n",
      "[SoftImpute] Iter 1: observed MAE=0.048632 rank=649\n",
      "[SoftImpute] Iter 2: observed MAE=0.048753 rank=649\n",
      "[SoftImpute] Iter 3: observed MAE=0.048831 rank=649\n",
      "[SoftImpute] Iter 4: observed MAE=0.048883 rank=649\n",
      "[SoftImpute] Iter 5: observed MAE=0.048920 rank=649\n",
      "[SoftImpute] Iter 6: observed MAE=0.048948 rank=649\n",
      "[SoftImpute] Iter 7: observed MAE=0.048970 rank=649\n",
      "[SoftImpute] Iter 8: observed MAE=0.048987 rank=649\n",
      "[SoftImpute] Iter 9: observed MAE=0.049001 rank=649\n",
      "[SoftImpute] Iter 10: observed MAE=0.049013 rank=649\n",
      "[SoftImpute] Iter 11: observed MAE=0.049024 rank=649\n",
      "[SoftImpute] Iter 12: observed MAE=0.049033 rank=649\n",
      "[SoftImpute] Iter 13: observed MAE=0.049040 rank=649\n",
      "[SoftImpute] Iter 14: observed MAE=0.049047 rank=649\n",
      "[SoftImpute] Iter 15: observed MAE=0.049053 rank=649\n",
      "[SoftImpute] Iter 16: observed MAE=0.049059 rank=649\n",
      "[SoftImpute] Iter 17: observed MAE=0.049064 rank=649\n",
      "[SoftImpute] Iter 18: observed MAE=0.049069 rank=649\n",
      "[SoftImpute] Iter 19: observed MAE=0.049073 rank=649\n",
      "[SoftImpute] Iter 20: observed MAE=0.049076 rank=649\n",
      "[SoftImpute] Iter 21: observed MAE=0.049080 rank=649\n",
      "[SoftImpute] Iter 22: observed MAE=0.049083 rank=649\n",
      "[SoftImpute] Iter 23: observed MAE=0.049086 rank=649\n",
      "[SoftImpute] Iter 24: observed MAE=0.049089 rank=649\n",
      "[SoftImpute] Iter 25: observed MAE=0.049091 rank=649\n",
      "[SoftImpute] Iter 26: observed MAE=0.049093 rank=649\n",
      "[SoftImpute] Iter 27: observed MAE=0.049096 rank=649\n",
      "[SoftImpute] Iter 28: observed MAE=0.049097 rank=649\n",
      "[SoftImpute] Iter 29: observed MAE=0.049099 rank=649\n",
      "[SoftImpute] Iter 30: observed MAE=0.049101 rank=649\n",
      "[SoftImpute] Iter 31: observed MAE=0.049103 rank=649\n",
      "[SoftImpute] Iter 32: observed MAE=0.049104 rank=649\n",
      "[SoftImpute] Iter 33: observed MAE=0.049105 rank=649\n",
      "[SoftImpute] Iter 34: observed MAE=0.049107 rank=649\n",
      "[SoftImpute] Iter 35: observed MAE=0.049108 rank=649\n",
      "[SoftImpute] Iter 36: observed MAE=0.049109 rank=649\n",
      "[SoftImpute] Iter 37: observed MAE=0.049110 rank=649\n",
      "[SoftImpute] Iter 38: observed MAE=0.049111 rank=649\n",
      "[SoftImpute] Iter 39: observed MAE=0.049112 rank=649\n",
      "[SoftImpute] Iter 40: observed MAE=0.049112 rank=649\n",
      "[SoftImpute] Iter 41: observed MAE=0.049113 rank=649\n",
      "[SoftImpute] Iter 42: observed MAE=0.049114 rank=649\n",
      "[SoftImpute] Iter 43: observed MAE=0.049114 rank=649\n",
      "[SoftImpute] Iter 44: observed MAE=0.049115 rank=649\n",
      "[SoftImpute] Iter 45: observed MAE=0.049116 rank=649\n",
      "[SoftImpute] Iter 46: observed MAE=0.049116 rank=649\n",
      "[SoftImpute] Iter 47: observed MAE=0.049117 rank=649\n",
      "[SoftImpute] Iter 48: observed MAE=0.049117 rank=649\n",
      "[SoftImpute] Iter 49: observed MAE=0.049118 rank=649\n",
      "[SoftImpute] Iter 50: observed MAE=0.049118 rank=649\n",
      "[SoftImpute] Iter 51: observed MAE=0.049118 rank=649\n",
      "[SoftImpute] Iter 52: observed MAE=0.049119 rank=649\n",
      "[SoftImpute] Iter 53: observed MAE=0.049119 rank=649\n",
      "[SoftImpute] Iter 54: observed MAE=0.049119 rank=649\n",
      "[SoftImpute] Iter 55: observed MAE=0.049120 rank=649\n",
      "[SoftImpute] Iter 56: observed MAE=0.049120 rank=649\n",
      "[SoftImpute] Iter 57: observed MAE=0.049120 rank=649\n",
      "[SoftImpute] Iter 58: observed MAE=0.049120 rank=649\n",
      "[SoftImpute] Iter 59: observed MAE=0.049121 rank=649\n",
      "[SoftImpute] Iter 60: observed MAE=0.049121 rank=649\n",
      "[SoftImpute] Iter 61: observed MAE=0.049121 rank=649\n",
      "[SoftImpute] Iter 62: observed MAE=0.049121 rank=649\n",
      "[SoftImpute] Iter 63: observed MAE=0.049121 rank=649\n",
      "[SoftImpute] Iter 64: observed MAE=0.049122 rank=649\n",
      "[SoftImpute] Iter 65: observed MAE=0.049122 rank=649\n",
      "[SoftImpute] Iter 66: observed MAE=0.049122 rank=649\n",
      "[SoftImpute] Iter 67: observed MAE=0.049122 rank=649\n",
      "[SoftImpute] Iter 68: observed MAE=0.049122 rank=649\n",
      "[SoftImpute] Iter 69: observed MAE=0.049122 rank=649\n",
      "[SoftImpute] Iter 70: observed MAE=0.049122 rank=649\n",
      "[SoftImpute] Iter 71: observed MAE=0.049123 rank=649\n",
      "[SoftImpute] Iter 72: observed MAE=0.049123 rank=649\n",
      "[SoftImpute] Iter 73: observed MAE=0.049123 rank=649\n",
      "[SoftImpute] Iter 74: observed MAE=0.049123 rank=649\n",
      "[SoftImpute] Iter 75: observed MAE=0.049123 rank=649\n",
      "[SoftImpute] Iter 76: observed MAE=0.049123 rank=649\n",
      "[SoftImpute] Iter 77: observed MAE=0.049123 rank=649\n",
      "[SoftImpute] Iter 78: observed MAE=0.049123 rank=649\n",
      "[SoftImpute] Iter 79: observed MAE=0.049123 rank=649\n",
      "[SoftImpute] Iter 80: observed MAE=0.049123 rank=649\n",
      "[SoftImpute] Iter 81: observed MAE=0.049123 rank=649\n",
      "[SoftImpute] Iter 82: observed MAE=0.049124 rank=649\n",
      "[SoftImpute] Iter 83: observed MAE=0.049124 rank=649\n",
      "[SoftImpute] Iter 84: observed MAE=0.049124 rank=649\n",
      "[SoftImpute] Iter 85: observed MAE=0.049124 rank=649\n",
      "[SoftImpute] Iter 86: observed MAE=0.049124 rank=649\n",
      "[SoftImpute] Iter 87: observed MAE=0.049124 rank=649\n",
      "[SoftImpute] Iter 88: observed MAE=0.049124 rank=649\n",
      "[SoftImpute] Iter 89: observed MAE=0.049124 rank=649\n",
      "[SoftImpute] Iter 90: observed MAE=0.049124 rank=649\n",
      "[SoftImpute] Iter 91: observed MAE=0.049124 rank=649\n",
      "[SoftImpute] Iter 92: observed MAE=0.049124 rank=649\n",
      "[SoftImpute] Iter 93: observed MAE=0.049124 rank=649\n",
      "[SoftImpute] Iter 94: observed MAE=0.049124 rank=649\n",
      "[SoftImpute] Iter 95: observed MAE=0.049124 rank=649\n",
      "[SoftImpute] Iter 96: observed MAE=0.049124 rank=649\n",
      "[SoftImpute] Iter 97: observed MAE=0.049124 rank=649\n",
      "[SoftImpute] Iter 98: observed MAE=0.049124 rank=649\n",
      "[SoftImpute] Iter 99: observed MAE=0.049124 rank=649\n",
      "[SoftImpute] Iter 100: observed MAE=0.049124 rank=649\n",
      "[SoftImpute] Stopped after iteration 100 for lambda=25.896364\n"
     ]
    },
    {
     "data": {
      "text/plain": [
       "(0.004415414072399755, 747.4917542934418, 0.29672022892361877)"
      ]
     },
     "execution_count": 23,
     "metadata": {
      "tags": []
     },
     "output_type": "execute_result"
    }
   ],
   "source": [
    "compute_err_SOFT(X, y, n, p, 10)"
   ]
  },
  {
   "cell_type": "markdown",
   "metadata": {
    "id": "ZILx8177vKsh"
   },
   "source": [
    "## 40%"
   ]
  },
  {
   "cell_type": "code",
   "execution_count": 24,
   "metadata": {
    "colab": {
     "base_uri": "https://localhost:8080/"
    },
    "executionInfo": {
     "elapsed": 2207,
     "status": "ok",
     "timestamp": 1605320408631,
     "user": {
      "displayName": "Thu Nguyễn",
      "photoUrl": "https://lh3.googleusercontent.com/a-/AOh14GjaRl8WgKOjLdrEa69IqFm__Rq7udZ763hhFDl9=s64",
      "userId": "04714273295929622355"
     },
     "user_tz": 360
    },
    "id": "dEkeZuU4u6Cq",
    "outputId": "851f3d10-d326-4d35-c829-174f8a676560"
   },
   "outputs": [
    {
     "data": {
      "text/plain": [
       "0.39865727492846137"
      ]
     },
     "execution_count": 24,
     "metadata": {
      "tags": []
     },
     "output_type": "execute_result"
    }
   ],
   "source": [
    "n = np.hstack((ng.reshape((-1,1)), np.tile([3500,3000,2500, 2100],\n",
    "                                 10).reshape((10,-1))))\n",
    "p = np.array([150,200,250, 300,649]) \n",
    "missing_rate(X, y, n, p, 10)"
   ]
  },
  {
   "cell_type": "code",
   "execution_count": 26,
   "metadata": {
    "colab": {
     "base_uri": "https://localhost:8080/"
    },
    "executionInfo": {
     "elapsed": 8339,
     "status": "ok",
     "timestamp": 1605320429498,
     "user": {
      "displayName": "Thu Nguyễn",
      "photoUrl": "https://lh3.googleusercontent.com/a-/AOh14GjaRl8WgKOjLdrEa69IqFm__Rq7udZ763hhFDl9=s64",
      "userId": "04714273295929622355"
     },
     "user_tz": 360
    },
    "id": "YwOKhnGpvJKX",
    "outputId": "1c470c2b-1d69-4569-b3da-343fa72573f5"
   },
   "outputs": [
    {
     "data": {
      "text/plain": [
       "(0.00021260549283617935, 0.8734626770019531, 0.39865727492846137)"
      ]
     },
     "execution_count": 26,
     "metadata": {
      "tags": []
     },
     "output_type": "execute_result"
    }
   ],
   "source": [
    "compute_err_MLE(X, y, n, p, 10)"
   ]
  },
  {
   "cell_type": "code",
   "execution_count": 27,
   "metadata": {
    "colab": {
     "base_uri": "https://localhost:8080/"
    },
    "executionInfo": {
     "elapsed": 779905,
     "status": "ok",
     "timestamp": 1605321215377,
     "user": {
      "displayName": "Thu Nguyễn",
      "photoUrl": "https://lh3.googleusercontent.com/a-/AOh14GjaRl8WgKOjLdrEa69IqFm__Rq7udZ763hhFDl9=s64",
      "userId": "04714273295929622355"
     },
     "user_tz": 360
    },
    "id": "9EAlV-IYAPVA",
    "outputId": "ba1ee937-6faa-44ad-890c-883bfb211a41"
   },
   "outputs": [
    {
     "name": "stdout",
     "output_type": "stream",
     "text": [
      "[SoftImpute] Max Singular Value of X_init = 1152.837490\n",
      "[SoftImpute] Iter 1: observed MAE=0.046065 rank=649\n",
      "[SoftImpute] Iter 2: observed MAE=0.046196 rank=649\n",
      "[SoftImpute] Iter 3: observed MAE=0.046285 rank=649\n",
      "[SoftImpute] Iter 4: observed MAE=0.046346 rank=649\n",
      "[SoftImpute] Iter 5: observed MAE=0.046391 rank=649\n",
      "[SoftImpute] Iter 6: observed MAE=0.046424 rank=649\n",
      "[SoftImpute] Iter 7: observed MAE=0.046449 rank=649\n",
      "[SoftImpute] Iter 8: observed MAE=0.046469 rank=649\n",
      "[SoftImpute] Iter 9: observed MAE=0.046486 rank=649\n",
      "[SoftImpute] Iter 10: observed MAE=0.046499 rank=649\n",
      "[SoftImpute] Iter 11: observed MAE=0.046511 rank=649\n",
      "[SoftImpute] Iter 12: observed MAE=0.046521 rank=649\n",
      "[SoftImpute] Iter 13: observed MAE=0.046529 rank=649\n",
      "[SoftImpute] Iter 14: observed MAE=0.046537 rank=649\n",
      "[SoftImpute] Iter 15: observed MAE=0.046543 rank=649\n",
      "[SoftImpute] Iter 16: observed MAE=0.046549 rank=649\n",
      "[SoftImpute] Iter 17: observed MAE=0.046554 rank=649\n",
      "[SoftImpute] Iter 18: observed MAE=0.046559 rank=649\n",
      "[SoftImpute] Iter 19: observed MAE=0.046563 rank=649\n",
      "[SoftImpute] Iter 20: observed MAE=0.046567 rank=649\n",
      "[SoftImpute] Iter 21: observed MAE=0.046571 rank=649\n",
      "[SoftImpute] Iter 22: observed MAE=0.046574 rank=649\n",
      "[SoftImpute] Iter 23: observed MAE=0.046577 rank=649\n",
      "[SoftImpute] Iter 24: observed MAE=0.046580 rank=649\n",
      "[SoftImpute] Iter 25: observed MAE=0.046582 rank=649\n",
      "[SoftImpute] Iter 26: observed MAE=0.046585 rank=649\n",
      "[SoftImpute] Iter 27: observed MAE=0.046587 rank=649\n",
      "[SoftImpute] Iter 28: observed MAE=0.046589 rank=649\n",
      "[SoftImpute] Iter 29: observed MAE=0.046591 rank=649\n",
      "[SoftImpute] Iter 30: observed MAE=0.046592 rank=649\n",
      "[SoftImpute] Iter 31: observed MAE=0.046594 rank=649\n",
      "[SoftImpute] Iter 32: observed MAE=0.046596 rank=649\n",
      "[SoftImpute] Iter 33: observed MAE=0.046597 rank=649\n",
      "[SoftImpute] Iter 34: observed MAE=0.046599 rank=649\n",
      "[SoftImpute] Iter 35: observed MAE=0.046600 rank=649\n",
      "[SoftImpute] Iter 36: observed MAE=0.046601 rank=649\n",
      "[SoftImpute] Iter 37: observed MAE=0.046602 rank=649\n",
      "[SoftImpute] Iter 38: observed MAE=0.046603 rank=649\n",
      "[SoftImpute] Iter 39: observed MAE=0.046604 rank=649\n",
      "[SoftImpute] Iter 40: observed MAE=0.046605 rank=649\n",
      "[SoftImpute] Iter 41: observed MAE=0.046606 rank=649\n",
      "[SoftImpute] Iter 42: observed MAE=0.046607 rank=649\n",
      "[SoftImpute] Iter 43: observed MAE=0.046608 rank=649\n",
      "[SoftImpute] Iter 44: observed MAE=0.046608 rank=649\n",
      "[SoftImpute] Iter 45: observed MAE=0.046609 rank=649\n",
      "[SoftImpute] Iter 46: observed MAE=0.046610 rank=649\n",
      "[SoftImpute] Iter 47: observed MAE=0.046610 rank=649\n",
      "[SoftImpute] Iter 48: observed MAE=0.046611 rank=649\n",
      "[SoftImpute] Iter 49: observed MAE=0.046612 rank=649\n",
      "[SoftImpute] Iter 50: observed MAE=0.046612 rank=649\n",
      "[SoftImpute] Iter 51: observed MAE=0.046613 rank=649\n",
      "[SoftImpute] Iter 52: observed MAE=0.046613 rank=649\n",
      "[SoftImpute] Iter 53: observed MAE=0.046614 rank=649\n",
      "[SoftImpute] Iter 54: observed MAE=0.046614 rank=649\n",
      "[SoftImpute] Iter 55: observed MAE=0.046614 rank=649\n",
      "[SoftImpute] Iter 56: observed MAE=0.046615 rank=649\n",
      "[SoftImpute] Iter 57: observed MAE=0.046615 rank=649\n",
      "[SoftImpute] Iter 58: observed MAE=0.046615 rank=649\n",
      "[SoftImpute] Iter 59: observed MAE=0.046616 rank=649\n",
      "[SoftImpute] Iter 60: observed MAE=0.046616 rank=649\n",
      "[SoftImpute] Iter 61: observed MAE=0.046616 rank=649\n",
      "[SoftImpute] Iter 62: observed MAE=0.046617 rank=649\n",
      "[SoftImpute] Iter 63: observed MAE=0.046617 rank=649\n",
      "[SoftImpute] Iter 64: observed MAE=0.046617 rank=649\n",
      "[SoftImpute] Iter 65: observed MAE=0.046617 rank=649\n",
      "[SoftImpute] Iter 66: observed MAE=0.046618 rank=649\n",
      "[SoftImpute] Iter 67: observed MAE=0.046618 rank=649\n",
      "[SoftImpute] Iter 68: observed MAE=0.046618 rank=649\n",
      "[SoftImpute] Iter 69: observed MAE=0.046618 rank=649\n",
      "[SoftImpute] Iter 70: observed MAE=0.046618 rank=649\n",
      "[SoftImpute] Iter 71: observed MAE=0.046619 rank=649\n",
      "[SoftImpute] Iter 72: observed MAE=0.046619 rank=649\n",
      "[SoftImpute] Iter 73: observed MAE=0.046619 rank=649\n",
      "[SoftImpute] Iter 74: observed MAE=0.046619 rank=649\n",
      "[SoftImpute] Iter 75: observed MAE=0.046619 rank=649\n",
      "[SoftImpute] Iter 76: observed MAE=0.046619 rank=649\n",
      "[SoftImpute] Iter 77: observed MAE=0.046619 rank=649\n",
      "[SoftImpute] Iter 78: observed MAE=0.046620 rank=649\n",
      "[SoftImpute] Iter 79: observed MAE=0.046620 rank=649\n",
      "[SoftImpute] Iter 80: observed MAE=0.046620 rank=649\n",
      "[SoftImpute] Iter 81: observed MAE=0.046620 rank=649\n",
      "[SoftImpute] Iter 82: observed MAE=0.046620 rank=649\n",
      "[SoftImpute] Iter 83: observed MAE=0.046620 rank=649\n",
      "[SoftImpute] Iter 84: observed MAE=0.046620 rank=649\n",
      "[SoftImpute] Iter 85: observed MAE=0.046620 rank=649\n",
      "[SoftImpute] Iter 86: observed MAE=0.046620 rank=649\n",
      "[SoftImpute] Iter 87: observed MAE=0.046620 rank=649\n",
      "[SoftImpute] Iter 88: observed MAE=0.046620 rank=649\n",
      "[SoftImpute] Iter 89: observed MAE=0.046621 rank=649\n",
      "[SoftImpute] Iter 90: observed MAE=0.046621 rank=649\n",
      "[SoftImpute] Iter 91: observed MAE=0.046621 rank=649\n",
      "[SoftImpute] Iter 92: observed MAE=0.046621 rank=649\n",
      "[SoftImpute] Iter 93: observed MAE=0.046621 rank=649\n",
      "[SoftImpute] Iter 94: observed MAE=0.046621 rank=649\n",
      "[SoftImpute] Iter 95: observed MAE=0.046621 rank=649\n",
      "[SoftImpute] Iter 96: observed MAE=0.046621 rank=649\n",
      "[SoftImpute] Iter 97: observed MAE=0.046621 rank=649\n",
      "[SoftImpute] Iter 98: observed MAE=0.046621 rank=649\n",
      "[SoftImpute] Iter 99: observed MAE=0.046621 rank=649\n",
      "[SoftImpute] Iter 100: observed MAE=0.046621 rank=649\n",
      "[SoftImpute] Stopped after iteration 100 for lambda=23.056750\n"
     ]
    },
    {
     "data": {
      "text/plain": [
       "(0.004419438615915401, 772.528190612793, 0.39865727492846137)"
      ]
     },
     "execution_count": 27,
     "metadata": {
      "tags": []
     },
     "output_type": "execute_result"
    }
   ],
   "source": [
    "compute_err_SOFT(X, y, n, p, 10)"
   ]
  },
  {
   "cell_type": "markdown",
   "metadata": {
    "id": "Dar_v0XY1vd2"
   },
   "source": [
    "## 50 %"
   ]
  },
  {
   "cell_type": "code",
   "execution_count": 28,
   "metadata": {
    "colab": {
     "base_uri": "https://localhost:8080/"
    },
    "executionInfo": {
     "elapsed": 2407,
     "status": "ok",
     "timestamp": 1605321497749,
     "user": {
      "displayName": "Thu Nguyễn",
      "photoUrl": "https://lh3.googleusercontent.com/a-/AOh14GjaRl8WgKOjLdrEa69IqFm__Rq7udZ763hhFDl9=s64",
      "userId": "04714273295929622355"
     },
     "user_tz": 360
    },
    "id": "hJZ0OioKAQtG",
    "outputId": "5097e963-67d2-46eb-e732-bb209a2a6453"
   },
   "outputs": [
    {
     "data": {
      "text/plain": [
       "0.501848998459168"
      ]
     },
     "execution_count": 28,
     "metadata": {
      "tags": []
     },
     "output_type": "execute_result"
    }
   ],
   "source": [
    "n = np.hstack((ng.reshape((-1,1)), np.tile([2300,2100,2000, 1900],\n",
    "                                 10).reshape((10,-1))))\n",
    "p = np.array([90,110,120, 140,649]) \n",
    "missing_rate(X, y, n, p, 10)"
   ]
  },
  {
   "cell_type": "code",
   "execution_count": 29,
   "metadata": {
    "colab": {
     "base_uri": "https://localhost:8080/"
    },
    "executionInfo": {
     "elapsed": 7812,
     "status": "ok",
     "timestamp": 1605321512420,
     "user": {
      "displayName": "Thu Nguyễn",
      "photoUrl": "https://lh3.googleusercontent.com/a-/AOh14GjaRl8WgKOjLdrEa69IqFm__Rq7udZ763hhFDl9=s64",
      "userId": "04714273295929622355"
     },
     "user_tz": 360
    },
    "id": "OCxLMeXY12ut",
    "outputId": "a129b9e9-7ddb-431e-b161-bc327e804b7f"
   },
   "outputs": [
    {
     "data": {
      "text/plain": [
       "(0.00026134444805738476, 0.573082447052002, 0.501848998459168)"
      ]
     },
     "execution_count": 29,
     "metadata": {
      "tags": []
     },
     "output_type": "execute_result"
    }
   ],
   "source": [
    "compute_err_MLE(X, y, n, p, 10)"
   ]
  },
  {
   "cell_type": "code",
   "execution_count": 30,
   "metadata": {
    "colab": {
     "base_uri": "https://localhost:8080/"
    },
    "executionInfo": {
     "elapsed": 793334,
     "status": "ok",
     "timestamp": 1605322327792,
     "user": {
      "displayName": "Thu Nguyễn",
      "photoUrl": "https://lh3.googleusercontent.com/a-/AOh14GjaRl8WgKOjLdrEa69IqFm__Rq7udZ763hhFDl9=s64",
      "userId": "04714273295929622355"
     },
     "user_tz": 360
    },
    "id": "LiDnDBOif9EL",
    "outputId": "20d3f4dd-bd17-43e6-ea23-604be93200c8"
   },
   "outputs": [
    {
     "name": "stdout",
     "output_type": "stream",
     "text": [
      "[SoftImpute] Max Singular Value of X_init = 1085.423121\n",
      "[SoftImpute] Iter 1: observed MAE=0.047194 rank=649\n",
      "[SoftImpute] Iter 2: observed MAE=0.047262 rank=649\n",
      "[SoftImpute] Iter 3: observed MAE=0.047312 rank=649\n",
      "[SoftImpute] Iter 4: observed MAE=0.047350 rank=649\n",
      "[SoftImpute] Iter 5: observed MAE=0.047380 rank=649\n",
      "[SoftImpute] Iter 6: observed MAE=0.047405 rank=649\n",
      "[SoftImpute] Iter 7: observed MAE=0.047425 rank=649\n",
      "[SoftImpute] Iter 8: observed MAE=0.047442 rank=649\n",
      "[SoftImpute] Iter 9: observed MAE=0.047457 rank=649\n",
      "[SoftImpute] Iter 10: observed MAE=0.047469 rank=649\n",
      "[SoftImpute] Iter 11: observed MAE=0.047480 rank=649\n",
      "[SoftImpute] Iter 12: observed MAE=0.047490 rank=649\n",
      "[SoftImpute] Iter 13: observed MAE=0.047498 rank=649\n",
      "[SoftImpute] Iter 14: observed MAE=0.047505 rank=649\n",
      "[SoftImpute] Iter 15: observed MAE=0.047512 rank=649\n",
      "[SoftImpute] Iter 16: observed MAE=0.047518 rank=649\n",
      "[SoftImpute] Iter 17: observed MAE=0.047523 rank=649\n",
      "[SoftImpute] Iter 18: observed MAE=0.047528 rank=649\n",
      "[SoftImpute] Iter 19: observed MAE=0.047532 rank=649\n",
      "[SoftImpute] Iter 20: observed MAE=0.047536 rank=649\n",
      "[SoftImpute] Iter 21: observed MAE=0.047539 rank=649\n",
      "[SoftImpute] Iter 22: observed MAE=0.047542 rank=649\n",
      "[SoftImpute] Iter 23: observed MAE=0.047545 rank=649\n",
      "[SoftImpute] Iter 24: observed MAE=0.047548 rank=649\n",
      "[SoftImpute] Iter 25: observed MAE=0.047550 rank=649\n",
      "[SoftImpute] Iter 26: observed MAE=0.047553 rank=649\n",
      "[SoftImpute] Iter 27: observed MAE=0.047555 rank=649\n",
      "[SoftImpute] Iter 28: observed MAE=0.047557 rank=649\n",
      "[SoftImpute] Iter 29: observed MAE=0.047558 rank=649\n",
      "[SoftImpute] Iter 30: observed MAE=0.047560 rank=649\n",
      "[SoftImpute] Iter 31: observed MAE=0.047562 rank=649\n",
      "[SoftImpute] Iter 32: observed MAE=0.047563 rank=649\n",
      "[SoftImpute] Iter 33: observed MAE=0.047564 rank=649\n",
      "[SoftImpute] Iter 34: observed MAE=0.047566 rank=649\n",
      "[SoftImpute] Iter 35: observed MAE=0.047567 rank=649\n",
      "[SoftImpute] Iter 36: observed MAE=0.047568 rank=649\n",
      "[SoftImpute] Iter 37: observed MAE=0.047569 rank=649\n",
      "[SoftImpute] Iter 38: observed MAE=0.047570 rank=649\n",
      "[SoftImpute] Iter 39: observed MAE=0.047571 rank=649\n",
      "[SoftImpute] Iter 40: observed MAE=0.047572 rank=649\n",
      "[SoftImpute] Iter 41: observed MAE=0.047572 rank=649\n",
      "[SoftImpute] Iter 42: observed MAE=0.047573 rank=649\n",
      "[SoftImpute] Iter 43: observed MAE=0.047574 rank=649\n",
      "[SoftImpute] Iter 44: observed MAE=0.047575 rank=649\n",
      "[SoftImpute] Iter 45: observed MAE=0.047575 rank=649\n",
      "[SoftImpute] Iter 46: observed MAE=0.047576 rank=649\n",
      "[SoftImpute] Iter 47: observed MAE=0.047576 rank=649\n",
      "[SoftImpute] Iter 48: observed MAE=0.047577 rank=649\n",
      "[SoftImpute] Iter 49: observed MAE=0.047578 rank=649\n",
      "[SoftImpute] Iter 50: observed MAE=0.047578 rank=649\n",
      "[SoftImpute] Iter 51: observed MAE=0.047578 rank=649\n",
      "[SoftImpute] Iter 52: observed MAE=0.047579 rank=649\n",
      "[SoftImpute] Iter 53: observed MAE=0.047579 rank=649\n",
      "[SoftImpute] Iter 54: observed MAE=0.047580 rank=649\n",
      "[SoftImpute] Iter 55: observed MAE=0.047580 rank=649\n",
      "[SoftImpute] Iter 56: observed MAE=0.047581 rank=649\n",
      "[SoftImpute] Iter 57: observed MAE=0.047581 rank=649\n",
      "[SoftImpute] Iter 58: observed MAE=0.047581 rank=649\n",
      "[SoftImpute] Iter 59: observed MAE=0.047582 rank=649\n",
      "[SoftImpute] Iter 60: observed MAE=0.047582 rank=649\n",
      "[SoftImpute] Iter 61: observed MAE=0.047582 rank=649\n",
      "[SoftImpute] Iter 62: observed MAE=0.047582 rank=649\n",
      "[SoftImpute] Iter 63: observed MAE=0.047583 rank=649\n",
      "[SoftImpute] Iter 64: observed MAE=0.047583 rank=649\n",
      "[SoftImpute] Iter 65: observed MAE=0.047583 rank=649\n",
      "[SoftImpute] Iter 66: observed MAE=0.047583 rank=649\n",
      "[SoftImpute] Iter 67: observed MAE=0.047584 rank=649\n",
      "[SoftImpute] Iter 68: observed MAE=0.047584 rank=649\n",
      "[SoftImpute] Iter 69: observed MAE=0.047584 rank=649\n",
      "[SoftImpute] Iter 70: observed MAE=0.047584 rank=649\n",
      "[SoftImpute] Iter 71: observed MAE=0.047584 rank=649\n",
      "[SoftImpute] Iter 72: observed MAE=0.047585 rank=649\n",
      "[SoftImpute] Iter 73: observed MAE=0.047585 rank=649\n",
      "[SoftImpute] Iter 74: observed MAE=0.047585 rank=649\n",
      "[SoftImpute] Iter 75: observed MAE=0.047585 rank=649\n",
      "[SoftImpute] Iter 76: observed MAE=0.047585 rank=649\n",
      "[SoftImpute] Iter 77: observed MAE=0.047585 rank=649\n",
      "[SoftImpute] Iter 78: observed MAE=0.047586 rank=649\n",
      "[SoftImpute] Iter 79: observed MAE=0.047586 rank=649\n",
      "[SoftImpute] Iter 80: observed MAE=0.047586 rank=649\n",
      "[SoftImpute] Iter 81: observed MAE=0.047586 rank=649\n",
      "[SoftImpute] Iter 82: observed MAE=0.047586 rank=649\n",
      "[SoftImpute] Iter 83: observed MAE=0.047586 rank=649\n",
      "[SoftImpute] Iter 84: observed MAE=0.047586 rank=649\n",
      "[SoftImpute] Iter 85: observed MAE=0.047586 rank=649\n",
      "[SoftImpute] Iter 86: observed MAE=0.047587 rank=649\n",
      "[SoftImpute] Iter 87: observed MAE=0.047587 rank=649\n",
      "[SoftImpute] Iter 88: observed MAE=0.047587 rank=649\n",
      "[SoftImpute] Iter 89: observed MAE=0.047587 rank=649\n",
      "[SoftImpute] Iter 90: observed MAE=0.047587 rank=649\n",
      "[SoftImpute] Iter 91: observed MAE=0.047587 rank=649\n",
      "[SoftImpute] Iter 92: observed MAE=0.047587 rank=649\n",
      "[SoftImpute] Iter 93: observed MAE=0.047587 rank=649\n",
      "[SoftImpute] Iter 94: observed MAE=0.047587 rank=649\n",
      "[SoftImpute] Iter 95: observed MAE=0.047587 rank=649\n",
      "[SoftImpute] Iter 96: observed MAE=0.047588 rank=649\n",
      "[SoftImpute] Iter 97: observed MAE=0.047588 rank=649\n",
      "[SoftImpute] Iter 98: observed MAE=0.047588 rank=649\n",
      "[SoftImpute] Iter 99: observed MAE=0.047588 rank=649\n",
      "[SoftImpute] Iter 100: observed MAE=0.047588 rank=649\n",
      "[SoftImpute] Stopped after iteration 100 for lambda=21.708462\n"
     ]
    },
    {
     "data": {
      "text/plain": [
       "(0.004422495330523784, 785.9886567592621, 0.501848998459168)"
      ]
     },
     "execution_count": 30,
     "metadata": {
      "tags": []
     },
     "output_type": "execute_result"
    }
   ],
   "source": [
    "compute_err_SOFT(X, y, n, p, 10)"
   ]
  },
  {
   "cell_type": "code",
   "execution_count": null,
   "metadata": {
    "id": "bq4OjOhJrUkS"
   },
   "outputs": [],
   "source": []
  }
 ],
 "metadata": {
  "colab": {
   "collapsed_sections": [],
   "machine_shape": "hm",
   "name": "Parameter estimation error MNIST.ipynb",
   "provenance": [
    {
     "file_id": "1pPLNIgIh1UBufB_1AbhK-0b6wVw-kFP2",
     "timestamp": 1605317361947
    },
    {
     "file_id": "1MF5wo74OJrNZ6-GtIQBCJymB0d1dm_Aw",
     "timestamp": 1603961946800
    },
    {
     "file_id": "1eazQvNk_WLTaG8heDoHQ3AgEg59y9f0v",
     "timestamp": 1603955217908
    },
    {
     "file_id": "126-leKywWg1oVxbfuH1_ORl8UMYHusn_",
     "timestamp": 1591364956450
    },
    {
     "file_id": "1Lb-WwE7STckIojvf1h3ADYX29-gfA6u-",
     "timestamp": 1590379038322
    },
    {
     "file_id": "1CnbOqwmJydQa8uCCpIR6HRVxw0YnveIP",
     "timestamp": 1590113304994
    }
   ],
   "toc_visible": true
  },
  "kernelspec": {
   "display_name": "Python 3",
   "language": "python",
   "name": "python3"
  },
  "language_info": {
   "codemirror_mode": {
    "name": "ipython",
    "version": 3
   },
   "file_extension": ".py",
   "mimetype": "text/x-python",
   "name": "python",
   "nbconvert_exporter": "python",
   "pygments_lexer": "ipython3",
   "version": "3.8.3"
  },
  "widgets": {
   "application/vnd.jupyter.widget-state+json": {
    "0b648a5274d3442aaec7b73fe35c997a": {
     "model_module": "@jupyter-widgets/base",
     "model_name": "LayoutModel",
     "state": {
      "_model_module": "@jupyter-widgets/base",
      "_model_module_version": "1.2.0",
      "_model_name": "LayoutModel",
      "_view_count": null,
      "_view_module": "@jupyter-widgets/base",
      "_view_module_version": "1.2.0",
      "_view_name": "LayoutView",
      "align_content": null,
      "align_items": null,
      "align_self": null,
      "border": null,
      "bottom": null,
      "display": null,
      "flex": null,
      "flex_flow": null,
      "grid_area": null,
      "grid_auto_columns": null,
      "grid_auto_flow": null,
      "grid_auto_rows": null,
      "grid_column": null,
      "grid_gap": null,
      "grid_row": null,
      "grid_template_areas": null,
      "grid_template_columns": null,
      "grid_template_rows": null,
      "height": null,
      "justify_content": null,
      "justify_items": null,
      "left": null,
      "margin": null,
      "max_height": null,
      "max_width": null,
      "min_height": null,
      "min_width": null,
      "object_fit": null,
      "object_position": null,
      "order": null,
      "overflow": null,
      "overflow_x": null,
      "overflow_y": null,
      "padding": null,
      "right": null,
      "top": null,
      "visibility": null,
      "width": null
     }
    },
    "2351387b4c1b486b990e5ad96d2e0dad": {
     "model_module": "@jupyter-widgets/base",
     "model_name": "LayoutModel",
     "state": {
      "_model_module": "@jupyter-widgets/base",
      "_model_module_version": "1.2.0",
      "_model_name": "LayoutModel",
      "_view_count": null,
      "_view_module": "@jupyter-widgets/base",
      "_view_module_version": "1.2.0",
      "_view_name": "LayoutView",
      "align_content": null,
      "align_items": null,
      "align_self": null,
      "border": null,
      "bottom": null,
      "display": null,
      "flex": null,
      "flex_flow": null,
      "grid_area": null,
      "grid_auto_columns": null,
      "grid_auto_flow": null,
      "grid_auto_rows": null,
      "grid_column": null,
      "grid_gap": null,
      "grid_row": null,
      "grid_template_areas": null,
      "grid_template_columns": null,
      "grid_template_rows": null,
      "height": null,
      "justify_content": null,
      "justify_items": null,
      "left": null,
      "margin": null,
      "max_height": null,
      "max_width": null,
      "min_height": null,
      "min_width": null,
      "object_fit": null,
      "object_position": null,
      "order": null,
      "overflow": null,
      "overflow_x": null,
      "overflow_y": null,
      "padding": null,
      "right": null,
      "top": null,
      "visibility": null,
      "width": null
     }
    },
    "6547aaea867942b79b8de01eb612af3f": {
     "model_module": "@jupyter-widgets/base",
     "model_name": "LayoutModel",
     "state": {
      "_model_module": "@jupyter-widgets/base",
      "_model_module_version": "1.2.0",
      "_model_name": "LayoutModel",
      "_view_count": null,
      "_view_module": "@jupyter-widgets/base",
      "_view_module_version": "1.2.0",
      "_view_name": "LayoutView",
      "align_content": null,
      "align_items": null,
      "align_self": null,
      "border": null,
      "bottom": null,
      "display": null,
      "flex": null,
      "flex_flow": null,
      "grid_area": null,
      "grid_auto_columns": null,
      "grid_auto_flow": null,
      "grid_auto_rows": null,
      "grid_column": null,
      "grid_gap": null,
      "grid_row": null,
      "grid_template_areas": null,
      "grid_template_columns": null,
      "grid_template_rows": null,
      "height": null,
      "justify_content": null,
      "justify_items": null,
      "left": null,
      "margin": null,
      "max_height": null,
      "max_width": null,
      "min_height": null,
      "min_width": null,
      "object_fit": null,
      "object_position": null,
      "order": null,
      "overflow": null,
      "overflow_x": null,
      "overflow_y": null,
      "padding": null,
      "right": null,
      "top": null,
      "visibility": null,
      "width": null
     }
    },
    "8876880e618245a79b3b0b83810c8f0d": {
     "model_module": "@jupyter-widgets/controls",
     "model_name": "HTMLModel",
     "state": {
      "_dom_classes": [],
      "_model_module": "@jupyter-widgets/controls",
      "_model_module_version": "1.5.0",
      "_model_name": "HTMLModel",
      "_view_count": null,
      "_view_module": "@jupyter-widgets/controls",
      "_view_module_version": "1.5.0",
      "_view_name": "HTMLView",
      "description": "",
      "description_tooltip": null,
      "layout": "IPY_MODEL_0b648a5274d3442aaec7b73fe35c997a",
      "placeholder": "​",
      "style": "IPY_MODEL_9ff14dc2c13643d5bfcc03d00582485f",
      "value": " 4/4 [00:00&lt;00:00,  4.65 file/s]"
     }
    },
    "9ff14dc2c13643d5bfcc03d00582485f": {
     "model_module": "@jupyter-widgets/controls",
     "model_name": "DescriptionStyleModel",
     "state": {
      "_model_module": "@jupyter-widgets/controls",
      "_model_module_version": "1.5.0",
      "_model_name": "DescriptionStyleModel",
      "_view_count": null,
      "_view_module": "@jupyter-widgets/base",
      "_view_module_version": "1.2.0",
      "_view_name": "StyleView",
      "description_width": ""
     }
    },
    "ca1cffa17f804777b3733549fbd40b8f": {
     "model_module": "@jupyter-widgets/controls",
     "model_name": "ProgressStyleModel",
     "state": {
      "_model_module": "@jupyter-widgets/controls",
      "_model_module_version": "1.5.0",
      "_model_name": "ProgressStyleModel",
      "_view_count": null,
      "_view_module": "@jupyter-widgets/base",
      "_view_module_version": "1.2.0",
      "_view_name": "StyleView",
      "bar_color": null,
      "description_width": "initial"
     }
    },
    "d7bdc7e9ff5f42dcbfac51d5470b54c4": {
     "model_module": "@jupyter-widgets/controls",
     "model_name": "FloatProgressModel",
     "state": {
      "_dom_classes": [],
      "_model_module": "@jupyter-widgets/controls",
      "_model_module_version": "1.5.0",
      "_model_name": "FloatProgressModel",
      "_view_count": null,
      "_view_module": "@jupyter-widgets/controls",
      "_view_module_version": "1.5.0",
      "_view_name": "ProgressView",
      "bar_style": "success",
      "description": "Dl Completed...: 100%",
      "description_tooltip": null,
      "layout": "IPY_MODEL_6547aaea867942b79b8de01eb612af3f",
      "max": 4,
      "min": 0,
      "orientation": "horizontal",
      "style": "IPY_MODEL_ca1cffa17f804777b3733549fbd40b8f",
      "value": 4
     }
    },
    "fe2fa7607e4c4040a86612d2b79fd810": {
     "model_module": "@jupyter-widgets/controls",
     "model_name": "HBoxModel",
     "state": {
      "_dom_classes": [],
      "_model_module": "@jupyter-widgets/controls",
      "_model_module_version": "1.5.0",
      "_model_name": "HBoxModel",
      "_view_count": null,
      "_view_module": "@jupyter-widgets/controls",
      "_view_module_version": "1.5.0",
      "_view_name": "HBoxView",
      "box_style": "",
      "children": [
       "IPY_MODEL_d7bdc7e9ff5f42dcbfac51d5470b54c4",
       "IPY_MODEL_8876880e618245a79b3b0b83810c8f0d"
      ],
      "layout": "IPY_MODEL_2351387b4c1b486b990e5ad96d2e0dad"
     }
    }
   }
  }
 },
 "nbformat": 4,
 "nbformat_minor": 1
}
