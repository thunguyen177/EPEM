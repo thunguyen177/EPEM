{
 "cells": [
  {
   "cell_type": "markdown",
   "metadata": {
    "id": "01Q1wGI3uIdg"
   },
   "source": [
    "## libraries and function \n"
   ]
  },
  {
   "cell_type": "code",
   "execution_count": 16,
   "metadata": {
    "colab": {
     "base_uri": "https://localhost:8080/"
    },
    "executionInfo": {
     "elapsed": 3389,
     "status": "ok",
     "timestamp": 1604537190636,
     "user": {
      "displayName": "Thu Nguyễn",
      "photoUrl": "https://lh3.googleusercontent.com/a-/AOh14GjaRl8WgKOjLdrEa69IqFm__Rq7udZ763hhFDl9=s64",
      "userId": "04714273295929622355"
     },
     "user_tz": 360
    },
    "id": "iEdO9dJPION8",
    "outputId": "88b10c08-ae7c-40e6-b6dc-9893fb8b78cf"
   },
   "outputs": [
    {
     "name": "stdout",
     "output_type": "stream",
     "text": [
      "Requirement already satisfied: impyute in /usr/local/lib/python3.6/dist-packages (0.0.8)\n",
      "Requirement already satisfied: scipy in /usr/local/lib/python3.6/dist-packages (from impyute) (1.4.1)\n",
      "Requirement already satisfied: scikit-learn in /usr/local/lib/python3.6/dist-packages (from impyute) (0.22.2.post1)\n",
      "Requirement already satisfied: numpy in /usr/local/lib/python3.6/dist-packages (from impyute) (1.18.5)\n",
      "Requirement already satisfied: joblib>=0.11 in /usr/local/lib/python3.6/dist-packages (from scikit-learn->impyute) (0.17.0)\n"
     ]
    }
   ],
   "source": [
    "!pip install impyute\n",
    "from sklearn import datasets\n",
    "from sklearn.preprocessing import LabelEncoder, StandardScaler, MinMaxScaler\n",
    "from sklearn.discriminant_analysis import LinearDiscriminantAnalysis as skLDA\n",
    "from sklearn.experimental import enable_iterative_imputer\n",
    "from sklearn.impute import IterativeImputer\n",
    "from scipy import stats\n",
    "import numpy as np\n",
    "import impyute as impy\n",
    "from fancyimpute import IterativeSVD, SoftImpute, NuclearNormMinimization\n",
    "import pandas as pd\n",
    "import time"
   ]
  },
  {
   "cell_type": "markdown",
   "metadata": {
    "id": "YxZbkGo8IOOS"
   },
   "source": [
    "The function `mle` allows us to compute the MLEs from training data with monotone missing data.\n",
    "\n",
    "We denote\n",
    "$$n = \\begin{pmatrix}\n",
    "n_1^{(1)} & n_1^{(2)} &...&n_1^{(K)}\\\\\n",
    "\\vdots & \\vdots &\\ddots&\\vdots\\\\\n",
    "n_G^{(1)} & n_G^{(2)} &...&n_G^{(K)}\n",
    "\\end{pmatrix}$$\n",
    "$$p = (p_1,p_2,...,p_K)$$\n",
    "G is the number of classes."
   ]
  },
  {
   "cell_type": "markdown",
   "metadata": {
    "id": "zJsxuiuVOWch"
   },
   "source": [
    "### MLE function "
   ]
  },
  {
   "cell_type": "code",
   "execution_count": 17,
   "metadata": {
    "executionInfo": {
     "elapsed": 719,
     "status": "ok",
     "timestamp": 1604537191982,
     "user": {
      "displayName": "Thu Nguyễn",
      "photoUrl": "https://lh3.googleusercontent.com/a-/AOh14GjaRl8WgKOjLdrEa69IqFm__Rq7udZ763hhFDl9=s64",
      "userId": "04714273295929622355"
     },
     "user_tz": 360
    },
    "id": "9iL76sKnIOOU"
   },
   "outputs": [],
   "source": [
    "import numpy as np\n",
    "def mle(Xtrain, n, p, G):\n",
    "    '''\n",
    "    Xtrain: list of input. The ith element of the list contains the sample from\n",
    "    the ith class.\n",
    "    '''\n",
    "    if p[0]==1:\n",
    "        # the array that contains the means of each block for the 1st block\n",
    "        mus = [np.mean(Xtrain[g][:,0]) for g in np.arange(G)]\n",
    "        S = [(n[g,0]-1)*np.var(Xtrain[g][:,0]) for g in np.arange(G)]\n",
    "    else:\n",
    "        mus = [np.mean(Xtrain[g][:,0:p[0]], axis = 0) for g  in np.arange(G)]\n",
    "        S = [(n[g,0]-1)*np.cov(Xtrain[g][:,0:p[0]],rowvar =False) \n",
    "             for g in np.arange(G)]\n",
    "    \n",
    "    mus = np.asarray(mus).T # so that each column is the mean of a class\n",
    "    S = sum(S)/(sum(n[:,0])) \n",
    "    S = S.reshape((p[0],-1))\n",
    "    for i in np.arange(1,len(p)):\n",
    "        W = [(n[g,i]-1)*np.cov(Xtrain[g][0:n[g,i],0:p[i]],\n",
    "                              rowvar=False) for g in np.arange(G)]\n",
    "        W = sum(W)\n",
    "        \n",
    "        P = np.matmul(W[(p[i-1]):p[i], 0:p[i-1]],\n",
    "                      np.linalg.inv(W[0:p[i-1],0:p[i-1]]))\n",
    "        Q = (W[p[i-1]:p[i],p[i-1]:p[i]]-\n",
    "            np.matmul(P, W[0:p[i-1],p[i-1]:p[i]]))/sum(n[:,i])\n",
    "        xmeans = [np.mean(Xtrain[g][0:n[g,i],0:p[i]], axis = 0) \n",
    "                  for g in np.arange(G)]\n",
    "        \n",
    "        xmeans = np.asarray(xmeans)\n",
    "        xmeans = xmeans.T\n",
    "        mus = np.vstack((mus, xmeans[p[i-1]:p[i],:]\n",
    "                       - np.matmul(P, xmeans[0:p[i-1]]-mus)))\n",
    "        S21 = np.matmul(P, S)\n",
    "        S = np.vstack((np.hstack((S, S21.T)),\n",
    "                       np.hstack((S21, Q+np.matmul(P, S21.T)))))\n",
    "    return [mus, S]"
   ]
  },
  {
   "cell_type": "markdown",
   "metadata": {
    "id": "5Kk3Z0jcObqQ"
   },
   "source": [
    "### LDA and nan function \n"
   ]
  },
  {
   "cell_type": "code",
   "execution_count": 18,
   "metadata": {
    "executionInfo": {
     "elapsed": 911,
     "status": "ok",
     "timestamp": 1604537195805,
     "user": {
      "displayName": "Thu Nguyễn",
      "photoUrl": "https://lh3.googleusercontent.com/a-/AOh14GjaRl8WgKOjLdrEa69IqFm__Rq7udZ763hhFDl9=s64",
      "userId": "04714273295929622355"
     },
     "user_tz": 360
    },
    "id": "V4-kNYKJIOOd"
   },
   "outputs": [],
   "source": [
    "# function that return the misclassfication rate\n",
    "# for LDA with missing data\n",
    "def lda_miss(mus, S, Xtest, ytrain, ytest, G):\n",
    "    f = lambda g: np.log(np.mean(ytrain==g)) - np.matmul(\n",
    "                  np.matmul(mus[:,g].T, np.linalg.inv(S)), mus[:,g]/2)\n",
    "    last2 = [f(g) for g in np.arange(G)]\n",
    "    \n",
    "    h = lambda g,i: last2[g] + np.matmul(mus[:,g].T, np.matmul(\n",
    "                    np.linalg.inv(S), Xtest[i,:].T))\n",
    "    pred_label = [np.argmax([h(g,i) for g in np.arange(G)]) \n",
    "                  for i in np.arange(len(Xtest))]\n",
    "    pred_label = np.asarray(pred_label)\n",
    "    return np.mean(pred_label.flatten() != ytest)\n",
    "\n",
    "'''\n",
    "function that create data list that contain missing values\n",
    "The input X is a numpy array, y is the label\n",
    "the function return a list where the ith element of \n",
    "the list belongs to the ith class\n",
    "'''\n",
    "\n",
    "def make_nan_list(X,y,G, n, p):\n",
    "    # note that the label should go from 0 to G-1\n",
    "    data = []\n",
    "    for g in np.arange(G):\n",
    "        data.append(X[y==g,:])\n",
    "        for k in np.arange(len(p)-1):\n",
    "            data[g][n[g,k+1]:n[g,k], p[k]:] = np.nan\n",
    "    return data"
   ]
  },
  {
   "cell_type": "markdown",
   "metadata": {
    "id": "IwG2bsDOOxls"
   },
   "source": [
    "### compute_err function "
   ]
  },
  {
   "cell_type": "code",
   "execution_count": 19,
   "metadata": {
    "executionInfo": {
     "elapsed": 732,
     "status": "ok",
     "timestamp": 1604537200766,
     "user": {
      "displayName": "Thu Nguyễn",
      "photoUrl": "https://lh3.googleusercontent.com/a-/AOh14GjaRl8WgKOjLdrEa69IqFm__Rq7udZ763hhFDl9=s64",
      "userId": "04714273295929622355"
     },
     "user_tz": 360
    },
    "id": "8oXh1_ou0BPS"
   },
   "outputs": [],
   "source": [
    "def missing_rate(Xtrain, ytrain, n, p, G):    \n",
    "    Xtr_nan_list = make_nan_list(Xtrain,ytrain,G, n, p)\n",
    "    # make NA data\n",
    "    # since making function changes the order of observation\n",
    "    # we need to generate new ytr from Xtr_nan    \n",
    "    Xtr_nan, ytr = Xtr_nan_list[0], np.repeat(0, len(Xtr_nan_list[0]))\n",
    "    for g in np.arange(1,G):\n",
    "        Xtr_nan = np.vstack((Xtr_nan, Xtr_nan_list[g]))\n",
    "        ytr = np.hstack((ytr, np.repeat(g, len(Xtr_nan_list[g]))))\n",
    "\n",
    "    # percentage of missing values\n",
    "    per_missing = np.mean(np.isnan(Xtr_nan))\n",
    "    return per_missing"
   ]
  },
  {
   "cell_type": "code",
   "execution_count": 20,
   "metadata": {
    "executionInfo": {
     "elapsed": 597,
     "status": "ok",
     "timestamp": 1604537201735,
     "user": {
      "displayName": "Thu Nguyễn",
      "photoUrl": "https://lh3.googleusercontent.com/a-/AOh14GjaRl8WgKOjLdrEa69IqFm__Rq7udZ763hhFDl9=s64",
      "userId": "04714273295929622355"
     },
     "user_tz": 360
    },
    "id": "ZEAkkeS5IOOo"
   },
   "outputs": [],
   "source": [
    "def compute_err_MLE(Xtrain, ytrain, Xtest, ytest, n, p, G):    \n",
    "    Xtr_nan_list = make_nan_list(Xtrain,ytrain,G, n, p)\n",
    "    # make NA data\n",
    "    # since making function changes the order of observation\n",
    "    # we need to generate new ytr from Xtr_nan    \n",
    "    Xtr_nan, ytr = Xtr_nan_list[0], np.repeat(0, len(Xtr_nan_list[0]))\n",
    "    for g in np.arange(1,G):\n",
    "        Xtr_nan = np.vstack((Xtr_nan, Xtr_nan_list[g]))\n",
    "        ytr = np.hstack((ytr, np.repeat(g, len(Xtr_nan_list[g]))))\n",
    "\n",
    "    # percentage of missing values\n",
    "    per_missing = np.mean(np.isnan(Xtr_nan))\n",
    "\n",
    "    scaler = MinMaxScaler()\n",
    "    scaler.fit(Xtr_nan)\n",
    "    Xtr_nan = scaler.transform(Xtr_nan)\n",
    "    Xtest = scaler.transform(Xtest)\n",
    "    Xtr_nan_list2 = []\n",
    "    for g in range(G):\n",
    "      Xtr_nan_list2.append(scaler.transform(Xtr_nan_list[g]))\n",
    "\n",
    "    # MLEs approach\n",
    "    start = time.time()\n",
    "    mus, S = mle(Xtr_nan_list2, n, p, G)\n",
    "    mle_err = lda_miss(mus, S, Xtest, ytrain, ytest, G)\n",
    "    mle_time = time.time()-start\n",
    "  \n",
    "    return mle_err, mle_time"
   ]
  },
  {
   "cell_type": "markdown",
   "metadata": {
    "id": "AguK8ubkws4v"
   },
   "source": [
    "## Import MNIST"
   ]
  },
  {
   "cell_type": "code",
   "execution_count": 21,
   "metadata": {
    "executionInfo": {
     "elapsed": 922,
     "status": "ok",
     "timestamp": 1604537205404,
     "user": {
      "displayName": "Thu Nguyễn",
      "photoUrl": "https://lh3.googleusercontent.com/a-/AOh14GjaRl8WgKOjLdrEa69IqFm__Rq7udZ763hhFDl9=s64",
      "userId": "04714273295929622355"
     },
     "user_tz": 360
    },
    "id": "nPTl_fTnwviG"
   },
   "outputs": [],
   "source": [
    "import tensorflow as tf\n",
    "import tensorflow_datasets as tfds\n",
    "\n",
    "# Fetch the dataset directly\n",
    "mnist = tfds.image.MNIST()\n",
    "# or by string name\n",
    "mnist = tfds.builder('mnist')\n",
    "\n",
    "# Download the data, prepare it, and write it to disk\n",
    "mnist.download_and_prepare()\n",
    "\n",
    "# Load data from disk as tf.data.Datasets\n",
    "datasets = mnist.as_dataset()\n",
    "train_dataset, test_dataset = datasets['train'], datasets['test']"
   ]
  },
  {
   "cell_type": "code",
   "execution_count": null,
   "metadata": {
    "colab": {
     "base_uri": "https://localhost:8080/",
     "height": 420
    },
    "executionInfo": {
     "elapsed": 884,
     "status": "ok",
     "timestamp": 1603841899745,
     "user": {
      "displayName": "Thu Nguyễn",
      "photoUrl": "https://lh3.googleusercontent.com/a-/AOh14GjaRl8WgKOjLdrEa69IqFm__Rq7udZ763hhFDl9=s64",
      "userId": "04714273295929622355"
     },
     "user_tz": 300
    },
    "id": "aFOgJ3iexlJQ",
    "outputId": "6d576291-8803-4b5c-87b6-b44682c9ab57"
   },
   "outputs": [
    {
     "data": {
      "text/plain": [
       "tfds.core.DatasetInfo(\n",
       "    name='mnist',\n",
       "    version=3.0.1,\n",
       "    description='The MNIST database of handwritten digits.',\n",
       "    homepage='http://yann.lecun.com/exdb/mnist/',\n",
       "    features=FeaturesDict({\n",
       "        'image': Image(shape=(28, 28, 1), dtype=tf.uint8),\n",
       "        'label': ClassLabel(shape=(), dtype=tf.int64, num_classes=10),\n",
       "    }),\n",
       "    total_num_examples=70000,\n",
       "    splits={\n",
       "        'test': 10000,\n",
       "        'train': 60000,\n",
       "    },\n",
       "    supervised_keys=('image', 'label'),\n",
       "    citation=\"\"\"@article{lecun2010mnist,\n",
       "      title={MNIST handwritten digit database},\n",
       "      author={LeCun, Yann and Cortes, Corinna and Burges, CJ},\n",
       "      journal={ATT Labs [Online]. Available: http://yann.lecun.com/exdb/mnist},\n",
       "      volume={2},\n",
       "      year={2010}\n",
       "    }\"\"\",\n",
       "    redistribution_info=,\n",
       ")"
      ]
     },
     "execution_count": 7,
     "metadata": {
      "tags": []
     },
     "output_type": "execute_result"
    }
   ],
   "source": [
    "mnist.info"
   ]
  },
  {
   "cell_type": "code",
   "execution_count": 22,
   "metadata": {
    "colab": {
     "base_uri": "https://localhost:8080/"
    },
    "executionInfo": {
     "elapsed": 23160,
     "status": "ok",
     "timestamp": 1604537233539,
     "user": {
      "displayName": "Thu Nguyễn",
      "photoUrl": "https://lh3.googleusercontent.com/a-/AOh14GjaRl8WgKOjLdrEa69IqFm__Rq7udZ763hhFDl9=s64",
      "userId": "04714273295929622355"
     },
     "user_tz": 360
    },
    "id": "s1SDGIx5zDYc",
    "outputId": "e6ccf35e-ad9c-48d6-ddff-2e34fb7287f6"
   },
   "outputs": [
    {
     "data": {
      "text/plain": [
       "((60000, 784), (60000,))"
      ]
     },
     "execution_count": 22,
     "metadata": {
      "tags": []
     },
     "output_type": "execute_result"
    }
   ],
   "source": [
    "# convert the Dataset to NumPy arrays and flatten the data\n",
    "Xtrain_np, ytrain_np = [], []\n",
    "for example in tfds.as_numpy(train_dataset):\n",
    "  Xtrain_np.append(example['image'].flatten())\n",
    "  ytrain_np.append(example['label'])\n",
    "\n",
    "\n",
    "Xtrain, ytrain = np.asarray(Xtrain_np), np.asarray(ytrain_np)\n",
    "Xtrain = Xtrain.astype(float)\n",
    "\n",
    "# set random seed and shuffle the data\n",
    "np.random.seed(1)\n",
    "idx = np.arange(len(ytrain))\n",
    "np.random.shuffle(idx)\n",
    "Xtrain, ytrain = Xtrain[idx,:], ytrain[idx]  \n",
    "\n",
    "Xtrain.shape, ytrain.shape "
   ]
  },
  {
   "cell_type": "code",
   "execution_count": 23,
   "metadata": {
    "executionInfo": {
     "elapsed": 23130,
     "status": "ok",
     "timestamp": 1604537236707,
     "user": {
      "displayName": "Thu Nguyễn",
      "photoUrl": "https://lh3.googleusercontent.com/a-/AOh14GjaRl8WgKOjLdrEa69IqFm__Rq7udZ763hhFDl9=s64",
      "userId": "04714273295929622355"
     },
     "user_tz": 360
    },
    "id": "kDzlDpqu6k3C"
   },
   "outputs": [],
   "source": [
    "# convert the test set to NumPy arrays and flatten the data\n",
    "Xtest, ytest = [], []\n",
    "for example in tfds.as_numpy(test_dataset):\n",
    "  Xtest.append(example['image'].flatten())\n",
    "  ytest.append(example['label'])\n",
    "\n",
    "Xtest, ytest = np.asarray(Xtest), np.asarray(ytest)\n",
    "Xtest = Xtest.astype(float)"
   ]
  },
  {
   "cell_type": "code",
   "execution_count": 24,
   "metadata": {
    "colab": {
     "base_uri": "https://localhost:8080/"
    },
    "executionInfo": {
     "elapsed": 18939,
     "status": "ok",
     "timestamp": 1604537237271,
     "user": {
      "displayName": "Thu Nguyễn",
      "photoUrl": "https://lh3.googleusercontent.com/a-/AOh14GjaRl8WgKOjLdrEa69IqFm__Rq7udZ763hhFDl9=s64",
      "userId": "04714273295929622355"
     },
     "user_tz": 360
    },
    "id": "mnuVedleA4U-",
    "outputId": "91701938-03b0-4bb6-f409-112a48d5bec4"
   },
   "outputs": [
    {
     "name": "stdout",
     "output_type": "stream",
     "text": [
      "135\n"
     ]
    },
    {
     "data": {
      "text/plain": [
       "649"
      ]
     },
     "execution_count": 24,
     "metadata": {
      "tags": []
     },
     "output_type": "execute_result"
    }
   ],
   "source": [
    "# check if a column is all 0\n",
    "id = [np.sum(Xtrain[:,i] != 0)>10 for i in range(28**2)]\n",
    "# number of columns that mostly zero\n",
    "print(28**2-np.sum(id))\n",
    "# number of columns that has at least more than 10 non-zero\n",
    "np.sum(id)"
   ]
  },
  {
   "cell_type": "code",
   "execution_count": 25,
   "metadata": {
    "executionInfo": {
     "elapsed": 19580,
     "status": "ok",
     "timestamp": 1604537239164,
     "user": {
      "displayName": "Thu Nguyễn",
      "photoUrl": "https://lh3.googleusercontent.com/a-/AOh14GjaRl8WgKOjLdrEa69IqFm__Rq7udZ763hhFDl9=s64",
      "userId": "04714273295929622355"
     },
     "user_tz": 360
    },
    "id": "A8WD9y-kDCBC"
   },
   "outputs": [],
   "source": [
    "Xtrain, Xtest = Xtrain[:,id], Xtest[:,id]"
   ]
  },
  {
   "cell_type": "code",
   "execution_count": 26,
   "metadata": {
    "colab": {
     "base_uri": "https://localhost:8080/"
    },
    "executionInfo": {
     "elapsed": 17795,
     "status": "ok",
     "timestamp": 1604537239167,
     "user": {
      "displayName": "Thu Nguyễn",
      "photoUrl": "https://lh3.googleusercontent.com/a-/AOh14GjaRl8WgKOjLdrEa69IqFm__Rq7udZ763hhFDl9=s64",
      "userId": "04714273295929622355"
     },
     "user_tz": 360
    },
    "id": "ALB2IHmhDnoh",
    "outputId": "f0a521f1-9b5c-4dfc-bfc7-56469ab3f62c"
   },
   "outputs": [
    {
     "data": {
      "text/plain": [
       "((60000, 649), (10000, 649))"
      ]
     },
     "execution_count": 26,
     "metadata": {
      "tags": []
     },
     "output_type": "execute_result"
    }
   ],
   "source": [
    "Xtrain.shape, Xtest.shape"
   ]
  },
  {
   "cell_type": "code",
   "execution_count": 27,
   "metadata": {
    "colab": {
     "base_uri": "https://localhost:8080/"
    },
    "executionInfo": {
     "elapsed": 17192,
     "status": "ok",
     "timestamp": 1604537240252,
     "user": {
      "displayName": "Thu Nguyễn",
      "photoUrl": "https://lh3.googleusercontent.com/a-/AOh14GjaRl8WgKOjLdrEa69IqFm__Rq7udZ763hhFDl9=s64",
      "userId": "04714273295929622355"
     },
     "user_tz": 360
    },
    "id": "AQvbp-Hy2-dB",
    "outputId": "043a993e-3c57-41d6-d5be-2d650f33d5a2"
   },
   "outputs": [
    {
     "data": {
      "text/plain": [
       "array([5923, 6742, 5958, 6131, 5842, 5421, 5918, 6265, 5851, 5949])"
      ]
     },
     "execution_count": 27,
     "metadata": {
      "tags": []
     },
     "output_type": "execute_result"
    }
   ],
   "source": [
    "    # number of sample per class in training data\n",
    "    ng = np.asarray([sum(ytrain==i) for i in np.arange(10)])\n",
    "    ng"
   ]
  },
  {
   "cell_type": "markdown",
   "metadata": {
    "id": "SY0XX7TS1p_6"
   },
   "source": [
    "## 20%"
   ]
  },
  {
   "cell_type": "code",
   "execution_count": null,
   "metadata": {
    "colab": {
     "base_uri": "https://localhost:8080/",
     "height": 34
    },
    "executionInfo": {
     "elapsed": 2161,
     "status": "ok",
     "timestamp": 1603841937341,
     "user": {
      "displayName": "Thu Nguyễn",
      "photoUrl": "https://lh3.googleusercontent.com/a-/AOh14GjaRl8WgKOjLdrEa69IqFm__Rq7udZ763hhFDl9=s64",
      "userId": "04714273295929622355"
     },
     "user_tz": 300
    },
    "id": "5qBxF28a26Ub",
    "outputId": "c882d089-ef25-4a0a-e5e9-87efc3cdddc5"
   },
   "outputs": [
    {
     "data": {
      "text/plain": [
       "0.19940934771443247"
      ]
     },
     "execution_count": 14,
     "metadata": {
      "tags": []
     },
     "output_type": "execute_result"
    }
   ],
   "source": [
    "    n = np.hstack((ng.reshape((-1,1)), np.tile([4500,4200,3700, 3500],\n",
    "                                 10).reshape((10,-1))))\n",
    "    p = np.array([300,320,400, 500,649])   \n",
    "    missing_rate(Xtrain, ytrain, n, p, 10)"
   ]
  },
  {
   "cell_type": "code",
   "execution_count": null,
   "metadata": {
    "colab": {
     "base_uri": "https://localhost:8080/",
     "height": 34
    },
    "executionInfo": {
     "elapsed": 1276,
     "status": "ok",
     "timestamp": 1603846636366,
     "user": {
      "displayName": "Thu Nguyễn",
      "photoUrl": "https://lh3.googleusercontent.com/a-/AOh14GjaRl8WgKOjLdrEa69IqFm__Rq7udZ763hhFDl9=s64",
      "userId": "04714273295929622355"
     },
     "user_tz": 300
    },
    "id": "ox0Gj05GSkWi",
    "outputId": "f7c254c9-c531-402c-8094-cc27d4c97fce"
   },
   "outputs": [
    {
     "data": {
      "text/plain": [
       "(0.128, 4296.8405084609985)"
      ]
     },
     "execution_count": 15,
     "metadata": {
      "tags": []
     },
     "output_type": "execute_result"
    }
   ],
   "source": [
    "compute_err_MLE(Xtrain, ytrain, Xtest, ytest, n, p, 10)"
   ]
  },
  {
   "cell_type": "markdown",
   "metadata": {
    "id": "Hu8vWyBU8Ml4"
   },
   "source": [
    "## 30%"
   ]
  },
  {
   "cell_type": "code",
   "execution_count": null,
   "metadata": {
    "colab": {
     "base_uri": "https://localhost:8080/",
     "height": 34
    },
    "executionInfo": {
     "elapsed": 3963,
     "status": "ok",
     "timestamp": 1603846701177,
     "user": {
      "displayName": "Thu Nguyễn",
      "photoUrl": "https://lh3.googleusercontent.com/a-/AOh14GjaRl8WgKOjLdrEa69IqFm__Rq7udZ763hhFDl9=s64",
      "userId": "04714273295929622355"
     },
     "user_tz": 300
    },
    "id": "u_D1IsiBVOJ4",
    "outputId": "7f64e206-09f2-46bc-bbcd-498de0bd3ed6"
   },
   "outputs": [
    {
     "data": {
      "text/plain": [
       "0.3007190549563431"
      ]
     },
     "execution_count": 16,
     "metadata": {
      "tags": []
     },
     "output_type": "execute_result"
    }
   ],
   "source": [
    "    n = np.hstack((ng.reshape((-1,1)), np.tile([4400,4000,3400, 3000],\n",
    "                                 10).reshape((10,-1))))\n",
    "    p = np.array([200,290,300, 400,649])   \n",
    "    missing_rate(Xtrain, ytrain, n, p, 10)"
   ]
  },
  {
   "cell_type": "code",
   "execution_count": null,
   "metadata": {
    "colab": {
     "base_uri": "https://localhost:8080/",
     "height": 34
    },
    "executionInfo": {
     "elapsed": 719584,
     "status": "ok",
     "timestamp": 1603851010546,
     "user": {
      "displayName": "Thu Nguyễn",
      "photoUrl": "https://lh3.googleusercontent.com/a-/AOh14GjaRl8WgKOjLdrEa69IqFm__Rq7udZ763hhFDl9=s64",
      "userId": "04714273295929622355"
     },
     "user_tz": 300
    },
    "id": "Dble5Apotptn",
    "outputId": "1f5267aa-c19c-480e-f4dd-fc342cf025d9"
   },
   "outputs": [
    {
     "data": {
      "text/plain": [
       "(0.1279, 4294.04793381691)"
      ]
     },
     "execution_count": 17,
     "metadata": {
      "tags": []
     },
     "output_type": "execute_result"
    }
   ],
   "source": [
    "compute_err_MLE(Xtrain, ytrain, Xtest, ytest, n, p, 10)"
   ]
  },
  {
   "cell_type": "markdown",
   "metadata": {
    "id": "Xo5PeajJ9uwb"
   },
   "source": [
    "## 40% \n",
    "\n"
   ]
  },
  {
   "cell_type": "code",
   "execution_count": null,
   "metadata": {
    "colab": {
     "base_uri": "https://localhost:8080/",
     "height": 34
    },
    "executionInfo": {
     "elapsed": 2965,
     "status": "ok",
     "timestamp": 1603851030115,
     "user": {
      "displayName": "Thu Nguyễn",
      "photoUrl": "https://lh3.googleusercontent.com/a-/AOh14GjaRl8WgKOjLdrEa69IqFm__Rq7udZ763hhFDl9=s64",
      "userId": "04714273295929622355"
     },
     "user_tz": 300
    },
    "id": "H_cOdfIt9s1r",
    "outputId": "4019f8d0-089d-4413-878d-a4535fafe65f"
   },
   "outputs": [
    {
     "data": {
      "text/plain": [
       "0.39740626605033386"
      ]
     },
     "execution_count": 18,
     "metadata": {
      "tags": []
     },
     "output_type": "execute_result"
    }
   ],
   "source": [
    "    n = np.hstack((ng.reshape((-1,1)), np.tile([3600,3400,3000, 2500],\n",
    "                                 10).reshape((10,-1))))\n",
    "    p = np.array([150,220,300, 400,649])   \n",
    "    missing_rate(Xtrain, ytrain, n, p, 10)"
   ]
  },
  {
   "cell_type": "code",
   "execution_count": null,
   "metadata": {
    "colab": {
     "base_uri": "https://localhost:8080/",
     "height": 34
    },
    "executionInfo": {
     "elapsed": 4321027,
     "status": "ok",
     "timestamp": 1603855356321,
     "user": {
      "displayName": "Thu Nguyễn",
      "photoUrl": "https://lh3.googleusercontent.com/a-/AOh14GjaRl8WgKOjLdrEa69IqFm__Rq7udZ763hhFDl9=s64",
      "userId": "04714273295929622355"
     },
     "user_tz": 300
    },
    "id": "7kXdgcRD-IAJ",
    "outputId": "41a47ffb-01f2-4b24-8701-5039d03a4737"
   },
   "outputs": [
    {
     "data": {
      "text/plain": [
       "(0.1296, 4318.355123996735)"
      ]
     },
     "execution_count": 19,
     "metadata": {
      "tags": []
     },
     "output_type": "execute_result"
    }
   ],
   "source": [
    "compute_err_MLE(Xtrain, ytrain, Xtest, ytest, n, p, 10)"
   ]
  },
  {
   "cell_type": "markdown",
   "metadata": {
    "id": "2ILmlYaneLGU"
   },
   "source": [
    "## 50%"
   ]
  },
  {
   "cell_type": "code",
   "execution_count": 28,
   "metadata": {
    "colab": {
     "base_uri": "https://localhost:8080/"
    },
    "executionInfo": {
     "elapsed": 2271,
     "status": "ok",
     "timestamp": 1604537241961,
     "user": {
      "displayName": "Thu Nguyễn",
      "photoUrl": "https://lh3.googleusercontent.com/a-/AOh14GjaRl8WgKOjLdrEa69IqFm__Rq7udZ763hhFDl9=s64",
      "userId": "04714273295929622355"
     },
     "user_tz": 360
    },
    "id": "5VyKp6LP-KEE",
    "outputId": "f0b7c20b-6f46-4d87-fe1e-78ceb7a0b2c1"
   },
   "outputs": [
    {
     "data": {
      "text/plain": [
       "0.4957627118644068"
      ]
     },
     "execution_count": 28,
     "metadata": {
      "tags": []
     },
     "output_type": "execute_result"
    }
   ],
   "source": [
    "n = np.hstack((ng.reshape((-1,1)), np.tile([2900,2800,2600, 2500],\n",
    "                                 10).reshape((10,-1))))\n",
    "p = np.array([90,140,155, 170,649])   \n",
    "missing_rate(Xtrain, ytrain, n, p, 10)"
   ]
  },
  {
   "cell_type": "code",
   "execution_count": 14,
   "metadata": {
    "colab": {
     "base_uri": "https://localhost:8080/"
    },
    "executionInfo": {
     "elapsed": 494,
     "status": "ok",
     "timestamp": 1604536594877,
     "user": {
      "displayName": "Thu Nguyễn",
      "photoUrl": "https://lh3.googleusercontent.com/a-/AOh14GjaRl8WgKOjLdrEa69IqFm__Rq7udZ763hhFDl9=s64",
      "userId": "04714273295929622355"
     },
     "user_tz": 360
    },
    "id": "gmMjVRJKeNWi",
    "outputId": "4f7eeb9c-2853-4f39-aadf-1d8adbf56e35"
   },
   "outputs": [
    {
     "data": {
      "text/plain": [
       "(0.1303, 4065.099695920944)"
      ]
     },
     "execution_count": 14,
     "metadata": {
      "tags": []
     },
     "output_type": "execute_result"
    }
   ],
   "source": [
    "compute_err_MLE(Xtrain, ytrain, Xtest, ytest, n, p, 10)"
   ]
  },
  {
   "cell_type": "code",
   "execution_count": null,
   "metadata": {
    "id": "hOffdZaq3hgK"
   },
   "outputs": [],
   "source": []
  }
 ],
 "metadata": {
  "colab": {
   "collapsed_sections": [],
   "name": "application in linear discriminant analysis - MNIST - MLE .ipynb",
   "provenance": [
    {
     "file_id": "1UPCB9FT9px24oZYoQRXSsOmvBFbAACF3",
     "timestamp": 1603789837370
    },
    {
     "file_id": "1tR40bOS9ThPI2uK0uthQ8LnWLmmQaDr8",
     "timestamp": 1603678172225
    },
    {
     "file_id": "1CnbOqwmJydQa8uCCpIR6HRVxw0YnveIP",
     "timestamp": 1591365193693
    }
   ],
   "toc_visible": true
  },
  "kernelspec": {
   "display_name": "Python 3",
   "language": "python",
   "name": "python3"
  },
  "language_info": {
   "codemirror_mode": {
    "name": "ipython",
    "version": 3
   },
   "file_extension": ".py",
   "mimetype": "text/x-python",
   "name": "python",
   "nbconvert_exporter": "python",
   "pygments_lexer": "ipython3",
   "version": "3.8.3"
  }
 },
 "nbformat": 4,
 "nbformat_minor": 1
}
