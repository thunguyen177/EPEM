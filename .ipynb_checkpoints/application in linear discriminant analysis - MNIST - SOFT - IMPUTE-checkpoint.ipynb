{
 "cells": [
  {
   "cell_type": "markdown",
   "metadata": {
    "id": "01Q1wGI3uIdg"
   },
   "source": [
    "## libraries and function \n"
   ]
  },
  {
   "cell_type": "code",
   "execution_count": 1,
   "metadata": {
    "colab": {
     "base_uri": "https://localhost:8080/"
    },
    "executionInfo": {
     "elapsed": 9260,
     "status": "ok",
     "timestamp": 1604530665403,
     "user": {
      "displayName": "Thu Nguyễn",
      "photoUrl": "https://lh3.googleusercontent.com/a-/AOh14GjaRl8WgKOjLdrEa69IqFm__Rq7udZ763hhFDl9=s64",
      "userId": "04714273295929622355"
     },
     "user_tz": 360
    },
    "id": "iEdO9dJPION8",
    "outputId": "2f1079b7-880a-446b-bf37-90649bbfa470"
   },
   "outputs": [
    {
     "name": "stdout",
     "output_type": "stream",
     "text": [
      "Collecting impyute\n",
      "  Downloading https://files.pythonhosted.org/packages/37/28/86829f67c9affb847facaab94687761d3555539ec675f7577778c5b2680a/impyute-0.0.8-py2.py3-none-any.whl\n",
      "Requirement already satisfied: scipy in /usr/local/lib/python3.6/dist-packages (from impyute) (1.4.1)\n",
      "Requirement already satisfied: numpy in /usr/local/lib/python3.6/dist-packages (from impyute) (1.18.5)\n",
      "Requirement already satisfied: scikit-learn in /usr/local/lib/python3.6/dist-packages (from impyute) (0.22.2.post1)\n",
      "Requirement already satisfied: joblib>=0.11 in /usr/local/lib/python3.6/dist-packages (from scikit-learn->impyute) (0.17.0)\n",
      "Installing collected packages: impyute\n",
      "Successfully installed impyute-0.0.8\n"
     ]
    },
    {
     "name": "stderr",
     "output_type": "stream",
     "text": [
      "/usr/local/lib/python3.6/dist-packages/sklearn/externals/six.py:31: FutureWarning: The module is deprecated in version 0.21 and will be removed in version 0.23 since we've dropped support for Python 2.7. Please rely on the official version of six (https://pypi.org/project/six/).\n",
      "  \"(https://pypi.org/project/six/).\", FutureWarning)\n"
     ]
    }
   ],
   "source": [
    "!pip install impyute\n",
    "from sklearn import datasets\n",
    "from sklearn.preprocessing import LabelEncoder, StandardScaler, MinMaxScaler\n",
    "from sklearn.discriminant_analysis import LinearDiscriminantAnalysis as skLDA\n",
    "from sklearn.experimental import enable_iterative_imputer\n",
    "from sklearn.impute import IterativeImputer\n",
    "from scipy import stats\n",
    "import numpy as np\n",
    "import impyute as impy\n",
    "from fancyimpute import IterativeSVD, SoftImpute, NuclearNormMinimization\n",
    "import pandas as pd\n",
    "import time"
   ]
  },
  {
   "cell_type": "markdown",
   "metadata": {
    "id": "YxZbkGo8IOOS"
   },
   "source": [
    "The function `mle` allows us to compute the MLEs from training data with monotone missing data.\n",
    "\n",
    "We denote\n",
    "$$n = \\begin{pmatrix}\n",
    "n_1^{(1)} & n_1^{(2)} &...&n_1^{(K)}\\\\\n",
    "\\vdots & \\vdots &\\ddots&\\vdots\\\\\n",
    "n_G^{(1)} & n_G^{(2)} &...&n_G^{(K)}\n",
    "\\end{pmatrix}$$\n",
    "$$p = (p_1,p_2,...,p_K)$$\n",
    "G is the number of classes."
   ]
  },
  {
   "cell_type": "code",
   "execution_count": 2,
   "metadata": {
    "executionInfo": {
     "elapsed": 9252,
     "status": "ok",
     "timestamp": 1604530665412,
     "user": {
      "displayName": "Thu Nguyễn",
      "photoUrl": "https://lh3.googleusercontent.com/a-/AOh14GjaRl8WgKOjLdrEa69IqFm__Rq7udZ763hhFDl9=s64",
      "userId": "04714273295929622355"
     },
     "user_tz": 360
    },
    "id": "mE9i0PUwcrbq"
   },
   "outputs": [],
   "source": [
    "'''\n",
    "function that create data list that contain missing values\n",
    "The input X is a numpy array, y is the label\n",
    "the function return a list where the ith element of \n",
    "the list belongs to the ith class\n",
    "'''\n",
    "\n",
    "def make_nan_list(X,y,G, n, p):\n",
    "    # note that the label should go from 0 to G-1\n",
    "    data = []\n",
    "    for g in np.arange(G):\n",
    "        data.append(X[y==g,:])\n",
    "        for k in np.arange(len(p)-1):\n",
    "            data[g][n[g,k+1]:n[g,k], p[k]:] = np.nan\n",
    "    return data"
   ]
  },
  {
   "cell_type": "markdown",
   "metadata": {
    "id": "IwG2bsDOOxls"
   },
   "source": [
    "### compute_err function "
   ]
  },
  {
   "cell_type": "code",
   "execution_count": 3,
   "metadata": {
    "executionInfo": {
     "elapsed": 9245,
     "status": "ok",
     "timestamp": 1604530665414,
     "user": {
      "displayName": "Thu Nguyễn",
      "photoUrl": "https://lh3.googleusercontent.com/a-/AOh14GjaRl8WgKOjLdrEa69IqFm__Rq7udZ763hhFDl9=s64",
      "userId": "04714273295929622355"
     },
     "user_tz": 360
    },
    "id": "8oXh1_ou0BPS"
   },
   "outputs": [],
   "source": [
    "def missing_rate(Xtrain, ytrain, n, p, G):    \n",
    "    Xtr_nan_list = make_nan_list(Xtrain,ytrain,G, n, p)\n",
    "    # make NA data\n",
    "    # since making function changes the order of observation\n",
    "    # we need to generate new ytr from Xtr_nan    \n",
    "    Xtr_nan, ytr = Xtr_nan_list[0], np.repeat(0, len(Xtr_nan_list[0]))\n",
    "    for g in np.arange(1,G):\n",
    "        Xtr_nan = np.vstack((Xtr_nan, Xtr_nan_list[g]))\n",
    "        ytr = np.hstack((ytr, np.repeat(g, len(Xtr_nan_list[g]))))\n",
    "\n",
    "    # percentage of missing values\n",
    "    per_missing = np.mean(np.isnan(Xtr_nan))\n",
    "    return per_missing"
   ]
  },
  {
   "cell_type": "code",
   "execution_count": 4,
   "metadata": {
    "executionInfo": {
     "elapsed": 9237,
     "status": "ok",
     "timestamp": 1604530665416,
     "user": {
      "displayName": "Thu Nguyễn",
      "photoUrl": "https://lh3.googleusercontent.com/a-/AOh14GjaRl8WgKOjLdrEa69IqFm__Rq7udZ763hhFDl9=s64",
      "userId": "04714273295929622355"
     },
     "user_tz": 360
    },
    "id": "ZEAkkeS5IOOo"
   },
   "outputs": [],
   "source": [
    "def compute_err_SOFT(Xtrain, ytrain, Xtest, ytest, n, p, G):    \n",
    "    Xtr_nan_list = make_nan_list(Xtrain,ytrain,G, n, p)\n",
    "    # make NA data\n",
    "    # since making function changes the order of observation\n",
    "    # we need to generate new ytr from Xtr_nan    \n",
    "    Xtr_nan, ytr = Xtr_nan_list[0], np.repeat(0, len(Xtr_nan_list[0]))\n",
    "    for g in np.arange(1,G):\n",
    "        Xtr_nan = np.vstack((Xtr_nan, Xtr_nan_list[g]))\n",
    "        ytr = np.hstack((ytr, np.repeat(g, len(Xtr_nan_list[g]))))\n",
    "\n",
    "    # percentage of missing values\n",
    "    per_missing = np.mean(np.isnan(Xtr_nan))\n",
    "\n",
    "    scaler = MinMaxScaler()\n",
    "    scaler.fit(Xtr_nan)\n",
    "    Xtr_nan = scaler.transform(Xtr_nan)\n",
    "    Xtest = scaler.transform(Xtest)\n",
    "    Xtr_nan_list2 = []\n",
    "    for g in range(G):\n",
    "      Xtr_nan_list2.append(scaler.transform(Xtr_nan_list[g]))\n",
    "\n",
    "    start = time.time()\n",
    "    Xtr_softimpute = SoftImpute(max_iters = 100).fit_transform(Xtr_nan)\n",
    "    clf_softimpute = skLDA().fit(Xtr_softimpute, ytr)\n",
    "    softimpute_err = np.mean(clf_softimpute.predict(Xtest).flatten() != ytest)\n",
    "    softimpute_time = time.time()-start\n",
    "\n",
    "    return softimpute_err, softimpute_time"
   ]
  },
  {
   "cell_type": "markdown",
   "metadata": {
    "id": "AguK8ubkws4v"
   },
   "source": [
    "## Import MNIST"
   ]
  },
  {
   "cell_type": "code",
   "execution_count": 5,
   "metadata": {
    "colab": {
     "base_uri": "https://localhost:8080/",
     "height": 220,
     "referenced_widgets": [
      "c936098c2e7342568e177f690486e14b",
      "102e711da25f487291d44f95f04b6f17",
      "aa022087ee1e47b197301dd4eb4f48c8",
      "87d5aca0afec44c7a765c5413f836a89",
      "6b8456b1cb3445c390c3ea9cfef72b92",
      "f0e2b858f29f4012b3062c6d376838a2",
      "d43a4d6e0fbc4d6e99207205d14d8c3f",
      "ae04245797ee4605893301edd277f153"
     ]
    },
    "executionInfo": {
     "elapsed": 11519,
     "status": "ok",
     "timestamp": 1604530668968,
     "user": {
      "displayName": "Thu Nguyễn",
      "photoUrl": "https://lh3.googleusercontent.com/a-/AOh14GjaRl8WgKOjLdrEa69IqFm__Rq7udZ763hhFDl9=s64",
      "userId": "04714273295929622355"
     },
     "user_tz": 360
    },
    "id": "nPTl_fTnwviG",
    "outputId": "92e6a1bb-a8ed-4ed0-8998-6cbce6c70706"
   },
   "outputs": [
    {
     "name": "stdout",
     "output_type": "stream",
     "text": [
      "\u001b[1mDownloading and preparing dataset mnist/3.0.1 (download: 11.06 MiB, generated: 21.00 MiB, total: 32.06 MiB) to /root/tensorflow_datasets/mnist/3.0.1...\u001b[0m\n"
     ]
    },
    {
     "name": "stderr",
     "output_type": "stream",
     "text": [
      "WARNING:absl:Dataset mnist is hosted on GCS. It will automatically be downloaded to your\n",
      "local data directory. If you'd instead prefer to read directly from our public\n",
      "GCS bucket (recommended if you're running on GCP), you can instead pass\n",
      "`try_gcs=True` to `tfds.load` or set `data_dir=gs://tfds-data/datasets`.\n",
      "\n"
     ]
    },
    {
     "data": {
      "application/vnd.jupyter.widget-view+json": {
       "model_id": "c936098c2e7342568e177f690486e14b",
       "version_major": 2,
       "version_minor": 0
      },
      "text/plain": [
       "HBox(children=(FloatProgress(value=0.0, description='Dl Completed...', max=4.0, style=ProgressStyle(descriptio…"
      ]
     },
     "metadata": {
      "tags": []
     },
     "output_type": "display_data"
    },
    {
     "name": "stdout",
     "output_type": "stream",
     "text": [
      "\n",
      "\n",
      "\u001b[1mDataset mnist downloaded and prepared to /root/tensorflow_datasets/mnist/3.0.1. Subsequent calls will reuse this data.\u001b[0m\n"
     ]
    }
   ],
   "source": [
    "import tensorflow as tf\n",
    "import tensorflow_datasets as tfds\n",
    "\n",
    "# Fetch the dataset directly\n",
    "mnist = tfds.image.MNIST()\n",
    "# or by string name\n",
    "mnist = tfds.builder('mnist')\n",
    "\n",
    "# Download the data, prepare it, and write it to disk\n",
    "mnist.download_and_prepare()\n",
    "\n",
    "# Load data from disk as tf.data.Datasets\n",
    "datasets = mnist.as_dataset()\n",
    "train_dataset, test_dataset = datasets['train'], datasets['test']"
   ]
  },
  {
   "cell_type": "code",
   "execution_count": null,
   "metadata": {
    "colab": {
     "base_uri": "https://localhost:8080/",
     "height": 420
    },
    "executionInfo": {
     "elapsed": 4898,
     "status": "ok",
     "timestamp": 1603842177189,
     "user": {
      "displayName": "Thu Nguyễn",
      "photoUrl": "https://lh3.googleusercontent.com/a-/AOh14GjaRl8WgKOjLdrEa69IqFm__Rq7udZ763hhFDl9=s64",
      "userId": "04714273295929622355"
     },
     "user_tz": 300
    },
    "id": "aFOgJ3iexlJQ",
    "outputId": "c94249af-5cef-47bd-caa4-2d721e7722ce"
   },
   "outputs": [
    {
     "data": {
      "text/plain": [
       "tfds.core.DatasetInfo(\n",
       "    name='mnist',\n",
       "    version=3.0.1,\n",
       "    description='The MNIST database of handwritten digits.',\n",
       "    homepage='http://yann.lecun.com/exdb/mnist/',\n",
       "    features=FeaturesDict({\n",
       "        'image': Image(shape=(28, 28, 1), dtype=tf.uint8),\n",
       "        'label': ClassLabel(shape=(), dtype=tf.int64, num_classes=10),\n",
       "    }),\n",
       "    total_num_examples=70000,\n",
       "    splits={\n",
       "        'test': 10000,\n",
       "        'train': 60000,\n",
       "    },\n",
       "    supervised_keys=('image', 'label'),\n",
       "    citation=\"\"\"@article{lecun2010mnist,\n",
       "      title={MNIST handwritten digit database},\n",
       "      author={LeCun, Yann and Cortes, Corinna and Burges, CJ},\n",
       "      journal={ATT Labs [Online]. Available: http://yann.lecun.com/exdb/mnist},\n",
       "      volume={2},\n",
       "      year={2010}\n",
       "    }\"\"\",\n",
       "    redistribution_info=,\n",
       ")"
      ]
     },
     "execution_count": 5,
     "metadata": {
      "tags": []
     },
     "output_type": "execute_result"
    }
   ],
   "source": [
    "mnist.info"
   ]
  },
  {
   "cell_type": "code",
   "execution_count": 6,
   "metadata": {
    "colab": {
     "base_uri": "https://localhost:8080/"
    },
    "executionInfo": {
     "elapsed": 21914,
     "status": "ok",
     "timestamp": 1604530690908,
     "user": {
      "displayName": "Thu Nguyễn",
      "photoUrl": "https://lh3.googleusercontent.com/a-/AOh14GjaRl8WgKOjLdrEa69IqFm__Rq7udZ763hhFDl9=s64",
      "userId": "04714273295929622355"
     },
     "user_tz": 360
    },
    "id": "s1SDGIx5zDYc",
    "outputId": "d2b2fcf0-6e81-4629-bb2d-60079e1c02fb"
   },
   "outputs": [
    {
     "data": {
      "text/plain": [
       "((60000, 784), (60000,))"
      ]
     },
     "execution_count": 6,
     "metadata": {
      "tags": []
     },
     "output_type": "execute_result"
    }
   ],
   "source": [
    "# convert the Dataset to NumPy arrays and flatten the data\n",
    "Xtrain_np, ytrain_np = [], []\n",
    "for example in tfds.as_numpy(train_dataset):\n",
    "  Xtrain_np.append(example['image'].flatten())\n",
    "  ytrain_np.append(example['label'])\n",
    "\n",
    "\n",
    "Xtrain, ytrain = np.asarray(Xtrain_np), np.asarray(ytrain_np)\n",
    "Xtrain = Xtrain.astype(float)\n",
    "\n",
    "# set random seed and shuffle the data\n",
    "np.random.seed(1)\n",
    "idx = np.arange(len(ytrain))\n",
    "np.random.shuffle(idx)\n",
    "Xtrain, ytrain = Xtrain[idx,:], ytrain[idx]  \n",
    "\n",
    "Xtrain.shape, ytrain.shape "
   ]
  },
  {
   "cell_type": "code",
   "execution_count": 7,
   "metadata": {
    "executionInfo": {
     "elapsed": 24840,
     "status": "ok",
     "timestamp": 1604530693846,
     "user": {
      "displayName": "Thu Nguyễn",
      "photoUrl": "https://lh3.googleusercontent.com/a-/AOh14GjaRl8WgKOjLdrEa69IqFm__Rq7udZ763hhFDl9=s64",
      "userId": "04714273295929622355"
     },
     "user_tz": 360
    },
    "id": "kDzlDpqu6k3C"
   },
   "outputs": [],
   "source": [
    "# convert the test set to NumPy arrays and flatten the data\n",
    "Xtest, ytest = [], []\n",
    "for example in tfds.as_numpy(test_dataset):\n",
    "  Xtest.append(example['image'].flatten())\n",
    "  ytest.append(example['label'])\n",
    "\n",
    "Xtest, ytest = np.asarray(Xtest), np.asarray(ytest)\n",
    "Xtest = Xtest.astype(float)"
   ]
  },
  {
   "cell_type": "code",
   "execution_count": 8,
   "metadata": {
    "colab": {
     "base_uri": "https://localhost:8080/"
    },
    "executionInfo": {
     "elapsed": 24821,
     "status": "ok",
     "timestamp": 1604530693852,
     "user": {
      "displayName": "Thu Nguyễn",
      "photoUrl": "https://lh3.googleusercontent.com/a-/AOh14GjaRl8WgKOjLdrEa69IqFm__Rq7udZ763hhFDl9=s64",
      "userId": "04714273295929622355"
     },
     "user_tz": 360
    },
    "id": "mnuVedleA4U-",
    "outputId": "ff0225be-b560-4df6-f977-c974d57907c2"
   },
   "outputs": [
    {
     "name": "stdout",
     "output_type": "stream",
     "text": [
      "135\n"
     ]
    },
    {
     "data": {
      "text/plain": [
       "649"
      ]
     },
     "execution_count": 8,
     "metadata": {
      "tags": []
     },
     "output_type": "execute_result"
    }
   ],
   "source": [
    "# check if a column is all 0\n",
    "id = [np.sum(Xtrain[:,i] != 0)>10 for i in range(28**2)]\n",
    "# number of columns that mostly zero\n",
    "print(28**2-np.sum(id))\n",
    "# number of columns that has at least more than 10 non-zero\n",
    "np.sum(id)"
   ]
  },
  {
   "cell_type": "code",
   "execution_count": 9,
   "metadata": {
    "executionInfo": {
     "elapsed": 24813,
     "status": "ok",
     "timestamp": 1604530693855,
     "user": {
      "displayName": "Thu Nguyễn",
      "photoUrl": "https://lh3.googleusercontent.com/a-/AOh14GjaRl8WgKOjLdrEa69IqFm__Rq7udZ763hhFDl9=s64",
      "userId": "04714273295929622355"
     },
     "user_tz": 360
    },
    "id": "A8WD9y-kDCBC"
   },
   "outputs": [],
   "source": [
    "Xtrain, Xtest = Xtrain[:,id], Xtest[:,id]"
   ]
  },
  {
   "cell_type": "code",
   "execution_count": 10,
   "metadata": {
    "colab": {
     "base_uri": "https://localhost:8080/"
    },
    "executionInfo": {
     "elapsed": 24790,
     "status": "ok",
     "timestamp": 1604530693857,
     "user": {
      "displayName": "Thu Nguyễn",
      "photoUrl": "https://lh3.googleusercontent.com/a-/AOh14GjaRl8WgKOjLdrEa69IqFm__Rq7udZ763hhFDl9=s64",
      "userId": "04714273295929622355"
     },
     "user_tz": 360
    },
    "id": "ALB2IHmhDnoh",
    "outputId": "2f8debc7-2173-4022-a067-425a8a84b769"
   },
   "outputs": [
    {
     "data": {
      "text/plain": [
       "((60000, 649), (10000, 649))"
      ]
     },
     "execution_count": 10,
     "metadata": {
      "tags": []
     },
     "output_type": "execute_result"
    }
   ],
   "source": [
    "Xtrain.shape, Xtest.shape"
   ]
  },
  {
   "cell_type": "code",
   "execution_count": 11,
   "metadata": {
    "colab": {
     "base_uri": "https://localhost:8080/"
    },
    "executionInfo": {
     "elapsed": 27137,
     "status": "ok",
     "timestamp": 1604530696229,
     "user": {
      "displayName": "Thu Nguyễn",
      "photoUrl": "https://lh3.googleusercontent.com/a-/AOh14GjaRl8WgKOjLdrEa69IqFm__Rq7udZ763hhFDl9=s64",
      "userId": "04714273295929622355"
     },
     "user_tz": 360
    },
    "id": "AQvbp-Hy2-dB",
    "outputId": "22311145-81f7-4dcb-e923-7debb012d1b9"
   },
   "outputs": [
    {
     "data": {
      "text/plain": [
       "array([5923, 6742, 5958, 6131, 5842, 5421, 5918, 6265, 5851, 5949])"
      ]
     },
     "execution_count": 11,
     "metadata": {
      "tags": []
     },
     "output_type": "execute_result"
    }
   ],
   "source": [
    "    # number of sample per class in training data\n",
    "    ng = np.asarray([sum(ytrain==i) for i in np.arange(10)])\n",
    "    ng"
   ]
  },
  {
   "cell_type": "markdown",
   "metadata": {
    "id": "SY0XX7TS1p_6"
   },
   "source": [
    "## 20%"
   ]
  },
  {
   "cell_type": "code",
   "execution_count": null,
   "metadata": {
    "colab": {
     "base_uri": "https://localhost:8080/",
     "height": 34
    },
    "executionInfo": {
     "elapsed": 2567,
     "status": "ok",
     "timestamp": 1603842273026,
     "user": {
      "displayName": "Thu Nguyễn",
      "photoUrl": "https://lh3.googleusercontent.com/a-/AOh14GjaRl8WgKOjLdrEa69IqFm__Rq7udZ763hhFDl9=s64",
      "userId": "04714273295929622355"
     },
     "user_tz": 300
    },
    "id": "5qBxF28a26Ub",
    "outputId": "e3186041-10ff-47ae-e8ff-146139279044"
   },
   "outputs": [
    {
     "data": {
      "text/plain": [
       "0.19940934771443247"
      ]
     },
     "execution_count": 14,
     "metadata": {
      "tags": []
     },
     "output_type": "execute_result"
    }
   ],
   "source": [
    "    n = np.hstack((ng.reshape((-1,1)), np.tile([4500,4200,3700, 3500],\n",
    "                                 10).reshape((10,-1))))\n",
    "    p = np.array([300,320,400, 500,649])   \n",
    "    missing_rate(Xtrain, ytrain, n, p, 10)"
   ]
  },
  {
   "cell_type": "code",
   "execution_count": null,
   "metadata": {
    "colab": {
     "base_uri": "https://localhost:8080/",
     "height": 1000
    },
    "executionInfo": {
     "elapsed": 1172,
     "status": "ok",
     "timestamp": 1603844618188,
     "user": {
      "displayName": "Thu Nguyễn",
      "photoUrl": "https://lh3.googleusercontent.com/a-/AOh14GjaRl8WgKOjLdrEa69IqFm__Rq7udZ763hhFDl9=s64",
      "userId": "04714273295929622355"
     },
     "user_tz": 300
    },
    "id": "ox0Gj05GSkWi",
    "outputId": "a5aca201-595d-4dbd-9425-affc632eafc9"
   },
   "outputs": [
    {
     "name": "stdout",
     "output_type": "stream",
     "text": [
      "[SoftImpute] Max Singular Value of X_init = 1281.262364\n",
      "[SoftImpute] Iter 1: observed MAE=0.041620 rank=215\n",
      "[SoftImpute] Iter 2: observed MAE=0.041728 rank=210\n",
      "[SoftImpute] Iter 3: observed MAE=0.041799 rank=209\n",
      "[SoftImpute] Iter 4: observed MAE=0.041848 rank=208\n",
      "[SoftImpute] Iter 5: observed MAE=0.041882 rank=208\n",
      "[SoftImpute] Iter 6: observed MAE=0.041908 rank=208\n",
      "[SoftImpute] Iter 7: observed MAE=0.041928 rank=208\n",
      "[SoftImpute] Iter 8: observed MAE=0.041944 rank=207\n",
      "[SoftImpute] Iter 9: observed MAE=0.041957 rank=207\n",
      "[SoftImpute] Iter 10: observed MAE=0.041968 rank=207\n",
      "[SoftImpute] Iter 11: observed MAE=0.041978 rank=207\n",
      "[SoftImpute] Iter 12: observed MAE=0.041986 rank=207\n",
      "[SoftImpute] Iter 13: observed MAE=0.041994 rank=207\n",
      "[SoftImpute] Iter 14: observed MAE=0.042000 rank=207\n",
      "[SoftImpute] Iter 15: observed MAE=0.042006 rank=207\n",
      "[SoftImpute] Iter 16: observed MAE=0.042012 rank=207\n",
      "[SoftImpute] Iter 17: observed MAE=0.042017 rank=207\n",
      "[SoftImpute] Iter 18: observed MAE=0.042022 rank=207\n",
      "[SoftImpute] Iter 19: observed MAE=0.042027 rank=207\n",
      "[SoftImpute] Iter 20: observed MAE=0.042031 rank=207\n",
      "[SoftImpute] Iter 21: observed MAE=0.042035 rank=207\n",
      "[SoftImpute] Iter 22: observed MAE=0.042039 rank=207\n",
      "[SoftImpute] Iter 23: observed MAE=0.042043 rank=207\n",
      "[SoftImpute] Iter 24: observed MAE=0.042047 rank=207\n",
      "[SoftImpute] Iter 25: observed MAE=0.042051 rank=207\n",
      "[SoftImpute] Iter 26: observed MAE=0.042054 rank=207\n",
      "[SoftImpute] Iter 27: observed MAE=0.042058 rank=207\n",
      "[SoftImpute] Iter 28: observed MAE=0.042061 rank=207\n",
      "[SoftImpute] Iter 29: observed MAE=0.042065 rank=207\n",
      "[SoftImpute] Iter 30: observed MAE=0.042068 rank=207\n",
      "[SoftImpute] Iter 31: observed MAE=0.042072 rank=207\n",
      "[SoftImpute] Iter 32: observed MAE=0.042075 rank=207\n",
      "[SoftImpute] Iter 33: observed MAE=0.042078 rank=207\n",
      "[SoftImpute] Iter 34: observed MAE=0.042082 rank=207\n",
      "[SoftImpute] Iter 35: observed MAE=0.042085 rank=207\n",
      "[SoftImpute] Iter 36: observed MAE=0.042088 rank=207\n",
      "[SoftImpute] Iter 37: observed MAE=0.042091 rank=207\n",
      "[SoftImpute] Iter 38: observed MAE=0.042094 rank=207\n",
      "[SoftImpute] Iter 39: observed MAE=0.042097 rank=207\n",
      "[SoftImpute] Iter 40: observed MAE=0.042100 rank=207\n",
      "[SoftImpute] Iter 41: observed MAE=0.042103 rank=207\n",
      "[SoftImpute] Iter 42: observed MAE=0.042106 rank=207\n",
      "[SoftImpute] Iter 43: observed MAE=0.042109 rank=207\n",
      "[SoftImpute] Iter 44: observed MAE=0.042112 rank=207\n",
      "[SoftImpute] Iter 45: observed MAE=0.042115 rank=207\n",
      "[SoftImpute] Iter 46: observed MAE=0.042117 rank=207\n",
      "[SoftImpute] Iter 47: observed MAE=0.042120 rank=207\n",
      "[SoftImpute] Iter 48: observed MAE=0.042123 rank=207\n",
      "[SoftImpute] Iter 49: observed MAE=0.042125 rank=207\n",
      "[SoftImpute] Iter 50: observed MAE=0.042127 rank=207\n",
      "[SoftImpute] Iter 51: observed MAE=0.042130 rank=207\n",
      "[SoftImpute] Iter 52: observed MAE=0.042132 rank=207\n",
      "[SoftImpute] Iter 53: observed MAE=0.042134 rank=207\n",
      "[SoftImpute] Iter 54: observed MAE=0.042136 rank=207\n",
      "[SoftImpute] Iter 55: observed MAE=0.042139 rank=207\n",
      "[SoftImpute] Iter 56: observed MAE=0.042141 rank=207\n",
      "[SoftImpute] Iter 57: observed MAE=0.042143 rank=207\n",
      "[SoftImpute] Iter 58: observed MAE=0.042144 rank=207\n",
      "[SoftImpute] Iter 59: observed MAE=0.042146 rank=207\n",
      "[SoftImpute] Iter 60: observed MAE=0.042148 rank=207\n",
      "[SoftImpute] Iter 61: observed MAE=0.042150 rank=207\n",
      "[SoftImpute] Iter 62: observed MAE=0.042151 rank=207\n",
      "[SoftImpute] Iter 63: observed MAE=0.042153 rank=207\n",
      "[SoftImpute] Iter 64: observed MAE=0.042154 rank=207\n",
      "[SoftImpute] Iter 65: observed MAE=0.042156 rank=207\n",
      "[SoftImpute] Iter 66: observed MAE=0.042157 rank=207\n",
      "[SoftImpute] Iter 67: observed MAE=0.042158 rank=207\n",
      "[SoftImpute] Iter 68: observed MAE=0.042160 rank=207\n",
      "[SoftImpute] Iter 69: observed MAE=0.042161 rank=207\n",
      "[SoftImpute] Iter 70: observed MAE=0.042162 rank=207\n",
      "[SoftImpute] Iter 71: observed MAE=0.042163 rank=207\n",
      "[SoftImpute] Iter 72: observed MAE=0.042164 rank=207\n",
      "[SoftImpute] Iter 73: observed MAE=0.042165 rank=207\n",
      "[SoftImpute] Iter 74: observed MAE=0.042166 rank=207\n",
      "[SoftImpute] Iter 75: observed MAE=0.042167 rank=207\n",
      "[SoftImpute] Iter 76: observed MAE=0.042168 rank=207\n",
      "[SoftImpute] Iter 77: observed MAE=0.042169 rank=207\n",
      "[SoftImpute] Iter 78: observed MAE=0.042169 rank=207\n",
      "[SoftImpute] Iter 79: observed MAE=0.042170 rank=207\n",
      "[SoftImpute] Iter 80: observed MAE=0.042171 rank=207\n",
      "[SoftImpute] Iter 81: observed MAE=0.042172 rank=207\n",
      "[SoftImpute] Iter 82: observed MAE=0.042172 rank=207\n",
      "[SoftImpute] Iter 83: observed MAE=0.042173 rank=207\n",
      "[SoftImpute] Iter 84: observed MAE=0.042173 rank=207\n",
      "[SoftImpute] Iter 85: observed MAE=0.042174 rank=207\n",
      "[SoftImpute] Iter 86: observed MAE=0.042175 rank=207\n",
      "[SoftImpute] Iter 87: observed MAE=0.042175 rank=207\n",
      "[SoftImpute] Iter 88: observed MAE=0.042176 rank=207\n",
      "[SoftImpute] Iter 89: observed MAE=0.042176 rank=207\n",
      "[SoftImpute] Iter 90: observed MAE=0.042176 rank=207\n",
      "[SoftImpute] Iter 91: observed MAE=0.042177 rank=207\n",
      "[SoftImpute] Iter 92: observed MAE=0.042177 rank=207\n",
      "[SoftImpute] Iter 93: observed MAE=0.042178 rank=207\n",
      "[SoftImpute] Iter 94: observed MAE=0.042178 rank=207\n",
      "[SoftImpute] Iter 95: observed MAE=0.042178 rank=207\n",
      "[SoftImpute] Stopped after iteration 95 for lambda=25.625247\n"
     ]
    },
    {
     "data": {
      "text/plain": [
       "(0.1395, 958.3851203918457)"
      ]
     },
     "execution_count": 15,
     "metadata": {
      "tags": []
     },
     "output_type": "execute_result"
    }
   ],
   "source": [
    "compute_err_SOFT(Xtrain, ytrain, Xtest, ytest, n, p, 10)"
   ]
  },
  {
   "cell_type": "markdown",
   "metadata": {
    "id": "tWpiDWOiIf92"
   },
   "source": [
    "## 30 %"
   ]
  },
  {
   "cell_type": "code",
   "execution_count": null,
   "metadata": {
    "colab": {
     "base_uri": "https://localhost:8080/",
     "height": 34
    },
    "executionInfo": {
     "elapsed": 2426,
     "status": "ok",
     "timestamp": 1603844729796,
     "user": {
      "displayName": "Thu Nguyễn",
      "photoUrl": "https://lh3.googleusercontent.com/a-/AOh14GjaRl8WgKOjLdrEa69IqFm__Rq7udZ763hhFDl9=s64",
      "userId": "04714273295929622355"
     },
     "user_tz": 300
    },
    "id": "KRLJJiPjIkqD",
    "outputId": "01a6e59a-2dde-472d-8e8d-57499095896b"
   },
   "outputs": [
    {
     "data": {
      "text/plain": [
       "0.3007190549563431"
      ]
     },
     "execution_count": 16,
     "metadata": {
      "tags": []
     },
     "output_type": "execute_result"
    }
   ],
   "source": [
    "    n = np.hstack((ng.reshape((-1,1)), np.tile([4400,4000,3400, 3000],\n",
    "                                 10).reshape((10,-1))))\n",
    "    p = np.array([200,290,300, 400,649])   \n",
    "    missing_rate(Xtrain, ytrain, n, p, 10)"
   ]
  },
  {
   "cell_type": "code",
   "execution_count": null,
   "metadata": {
    "colab": {
     "base_uri": "https://localhost:8080/",
     "height": 1000
    },
    "executionInfo": {
     "elapsed": 96,
     "status": "ok",
     "timestamp": 1603846637506,
     "user": {
      "displayName": "Thu Nguyễn",
      "photoUrl": "https://lh3.googleusercontent.com/a-/AOh14GjaRl8WgKOjLdrEa69IqFm__Rq7udZ763hhFDl9=s64",
      "userId": "04714273295929622355"
     },
     "user_tz": 300
    },
    "id": "UAu6rjM4mGk0",
    "outputId": "7c3f0fcd-a5df-4fbc-a91c-d28fb492b985"
   },
   "outputs": [
    {
     "name": "stdout",
     "output_type": "stream",
     "text": [
      "[SoftImpute] Max Singular Value of X_init = 1162.477247\n",
      "[SoftImpute] Iter 1: observed MAE=0.040079 rank=220\n",
      "[SoftImpute] Iter 2: observed MAE=0.040171 rank=216\n",
      "[SoftImpute] Iter 3: observed MAE=0.040236 rank=214\n",
      "[SoftImpute] Iter 4: observed MAE=0.040282 rank=213\n",
      "[SoftImpute] Iter 5: observed MAE=0.040316 rank=213\n",
      "[SoftImpute] Iter 6: observed MAE=0.040341 rank=212\n",
      "[SoftImpute] Iter 7: observed MAE=0.040361 rank=212\n",
      "[SoftImpute] Iter 8: observed MAE=0.040377 rank=212\n",
      "[SoftImpute] Iter 9: observed MAE=0.040391 rank=212\n",
      "[SoftImpute] Iter 10: observed MAE=0.040403 rank=212\n",
      "[SoftImpute] Iter 11: observed MAE=0.040413 rank=212\n",
      "[SoftImpute] Iter 12: observed MAE=0.040421 rank=212\n",
      "[SoftImpute] Iter 13: observed MAE=0.040429 rank=212\n",
      "[SoftImpute] Iter 14: observed MAE=0.040436 rank=212\n",
      "[SoftImpute] Iter 15: observed MAE=0.040442 rank=212\n",
      "[SoftImpute] Iter 16: observed MAE=0.040447 rank=212\n",
      "[SoftImpute] Iter 17: observed MAE=0.040452 rank=212\n",
      "[SoftImpute] Iter 18: observed MAE=0.040457 rank=212\n",
      "[SoftImpute] Iter 19: observed MAE=0.040461 rank=212\n",
      "[SoftImpute] Iter 20: observed MAE=0.040465 rank=212\n",
      "[SoftImpute] Iter 21: observed MAE=0.040468 rank=212\n",
      "[SoftImpute] Iter 22: observed MAE=0.040472 rank=212\n",
      "[SoftImpute] Iter 23: observed MAE=0.040475 rank=212\n",
      "[SoftImpute] Iter 24: observed MAE=0.040478 rank=212\n",
      "[SoftImpute] Iter 25: observed MAE=0.040481 rank=212\n",
      "[SoftImpute] Iter 26: observed MAE=0.040483 rank=212\n",
      "[SoftImpute] Iter 27: observed MAE=0.040486 rank=212\n",
      "[SoftImpute] Iter 28: observed MAE=0.040488 rank=212\n",
      "[SoftImpute] Iter 29: observed MAE=0.040491 rank=212\n",
      "[SoftImpute] Iter 30: observed MAE=0.040493 rank=212\n",
      "[SoftImpute] Iter 31: observed MAE=0.040495 rank=212\n",
      "[SoftImpute] Iter 32: observed MAE=0.040497 rank=212\n",
      "[SoftImpute] Iter 33: observed MAE=0.040500 rank=212\n",
      "[SoftImpute] Iter 34: observed MAE=0.040502 rank=212\n",
      "[SoftImpute] Iter 35: observed MAE=0.040504 rank=212\n",
      "[SoftImpute] Iter 36: observed MAE=0.040506 rank=212\n",
      "[SoftImpute] Iter 37: observed MAE=0.040508 rank=212\n",
      "[SoftImpute] Iter 38: observed MAE=0.040509 rank=212\n",
      "[SoftImpute] Iter 39: observed MAE=0.040511 rank=212\n",
      "[SoftImpute] Iter 40: observed MAE=0.040513 rank=212\n",
      "[SoftImpute] Iter 41: observed MAE=0.040515 rank=212\n",
      "[SoftImpute] Iter 42: observed MAE=0.040517 rank=212\n",
      "[SoftImpute] Iter 43: observed MAE=0.040518 rank=212\n",
      "[SoftImpute] Iter 44: observed MAE=0.040520 rank=212\n",
      "[SoftImpute] Iter 45: observed MAE=0.040522 rank=212\n",
      "[SoftImpute] Iter 46: observed MAE=0.040523 rank=212\n",
      "[SoftImpute] Iter 47: observed MAE=0.040525 rank=212\n",
      "[SoftImpute] Iter 48: observed MAE=0.040527 rank=212\n",
      "[SoftImpute] Iter 49: observed MAE=0.040528 rank=212\n",
      "[SoftImpute] Iter 50: observed MAE=0.040530 rank=212\n",
      "[SoftImpute] Iter 51: observed MAE=0.040531 rank=212\n",
      "[SoftImpute] Iter 52: observed MAE=0.040533 rank=212\n",
      "[SoftImpute] Iter 53: observed MAE=0.040534 rank=212\n",
      "[SoftImpute] Iter 54: observed MAE=0.040536 rank=212\n",
      "[SoftImpute] Iter 55: observed MAE=0.040537 rank=212\n",
      "[SoftImpute] Iter 56: observed MAE=0.040539 rank=212\n",
      "[SoftImpute] Iter 57: observed MAE=0.040540 rank=212\n",
      "[SoftImpute] Iter 58: observed MAE=0.040541 rank=212\n",
      "[SoftImpute] Iter 59: observed MAE=0.040543 rank=212\n",
      "[SoftImpute] Iter 60: observed MAE=0.040544 rank=212\n",
      "[SoftImpute] Iter 61: observed MAE=0.040545 rank=212\n",
      "[SoftImpute] Iter 62: observed MAE=0.040546 rank=212\n",
      "[SoftImpute] Iter 63: observed MAE=0.040548 rank=212\n",
      "[SoftImpute] Iter 64: observed MAE=0.040549 rank=212\n",
      "[SoftImpute] Iter 65: observed MAE=0.040550 rank=212\n",
      "[SoftImpute] Iter 66: observed MAE=0.040551 rank=212\n",
      "[SoftImpute] Iter 67: observed MAE=0.040552 rank=212\n",
      "[SoftImpute] Iter 68: observed MAE=0.040553 rank=212\n",
      "[SoftImpute] Iter 69: observed MAE=0.040555 rank=212\n",
      "[SoftImpute] Iter 70: observed MAE=0.040556 rank=212\n",
      "[SoftImpute] Iter 71: observed MAE=0.040557 rank=212\n",
      "[SoftImpute] Iter 72: observed MAE=0.040558 rank=212\n",
      "[SoftImpute] Iter 73: observed MAE=0.040559 rank=212\n",
      "[SoftImpute] Iter 74: observed MAE=0.040560 rank=212\n",
      "[SoftImpute] Iter 75: observed MAE=0.040561 rank=212\n",
      "[SoftImpute] Iter 76: observed MAE=0.040562 rank=212\n",
      "[SoftImpute] Iter 77: observed MAE=0.040563 rank=212\n",
      "[SoftImpute] Iter 78: observed MAE=0.040563 rank=212\n",
      "[SoftImpute] Iter 79: observed MAE=0.040564 rank=212\n",
      "[SoftImpute] Iter 80: observed MAE=0.040565 rank=212\n",
      "[SoftImpute] Iter 81: observed MAE=0.040566 rank=212\n",
      "[SoftImpute] Iter 82: observed MAE=0.040567 rank=212\n",
      "[SoftImpute] Iter 83: observed MAE=0.040568 rank=212\n",
      "[SoftImpute] Iter 84: observed MAE=0.040568 rank=212\n",
      "[SoftImpute] Iter 85: observed MAE=0.040569 rank=212\n",
      "[SoftImpute] Iter 86: observed MAE=0.040570 rank=212\n",
      "[SoftImpute] Iter 87: observed MAE=0.040571 rank=212\n",
      "[SoftImpute] Iter 88: observed MAE=0.040571 rank=212\n",
      "[SoftImpute] Iter 89: observed MAE=0.040572 rank=212\n",
      "[SoftImpute] Iter 90: observed MAE=0.040573 rank=212\n",
      "[SoftImpute] Iter 91: observed MAE=0.040573 rank=212\n",
      "[SoftImpute] Iter 92: observed MAE=0.040574 rank=212\n",
      "[SoftImpute] Iter 93: observed MAE=0.040575 rank=212\n",
      "[SoftImpute] Iter 94: observed MAE=0.040575 rank=212\n",
      "[SoftImpute] Iter 95: observed MAE=0.040576 rank=212\n",
      "[SoftImpute] Iter 96: observed MAE=0.040576 rank=212\n",
      "[SoftImpute] Iter 97: observed MAE=0.040577 rank=212\n",
      "[SoftImpute] Iter 98: observed MAE=0.040578 rank=212\n",
      "[SoftImpute] Iter 99: observed MAE=0.040578 rank=212\n",
      "[SoftImpute] Iter 100: observed MAE=0.040579 rank=212\n",
      "[SoftImpute] Stopped after iteration 100 for lambda=23.249545\n"
     ]
    },
    {
     "data": {
      "text/plain": [
       "(0.1512, 1026.3849368095398)"
      ]
     },
     "execution_count": 17,
     "metadata": {
      "tags": []
     },
     "output_type": "execute_result"
    }
   ],
   "source": [
    "compute_err_SOFT(Xtrain, ytrain, Xtest, ytest, n, p, 10)"
   ]
  },
  {
   "cell_type": "markdown",
   "metadata": {
    "id": "tmO2xO33O3B8"
   },
   "source": [
    "## 40%"
   ]
  },
  {
   "cell_type": "code",
   "execution_count": null,
   "metadata": {
    "colab": {
     "base_uri": "https://localhost:8080/",
     "height": 34
    },
    "executionInfo": {
     "elapsed": 1594,
     "status": "ok",
     "timestamp": 1603846795175,
     "user": {
      "displayName": "Thu Nguyễn",
      "photoUrl": "https://lh3.googleusercontent.com/a-/AOh14GjaRl8WgKOjLdrEa69IqFm__Rq7udZ763hhFDl9=s64",
      "userId": "04714273295929622355"
     },
     "user_tz": 300
    },
    "id": "Cm4WwbtFt6Fc",
    "outputId": "0e8bd2b2-7756-4461-dc78-33fe7442fa92"
   },
   "outputs": [
    {
     "data": {
      "text/plain": [
       "0.39740626605033386"
      ]
     },
     "execution_count": 19,
     "metadata": {
      "tags": []
     },
     "output_type": "execute_result"
    }
   ],
   "source": [
    "    n = np.hstack((ng.reshape((-1,1)), np.tile([3600,3400,3000, 2500],\n",
    "                                 10).reshape((10,-1))))\n",
    "    p = np.array([150,220,300, 400,649])   \n",
    "    missing_rate(Xtrain, ytrain, n, p, 10)"
   ]
  },
  {
   "cell_type": "code",
   "execution_count": null,
   "metadata": {
    "colab": {
     "base_uri": "https://localhost:8080/",
     "height": 1000
    },
    "executionInfo": {
     "elapsed": 567697,
     "status": "ok",
     "timestamp": 1603847854560,
     "user": {
      "displayName": "Thu Nguyễn",
      "photoUrl": "https://lh3.googleusercontent.com/a-/AOh14GjaRl8WgKOjLdrEa69IqFm__Rq7udZ763hhFDl9=s64",
      "userId": "04714273295929622355"
     },
     "user_tz": 300
    },
    "id": "wn3sLsyKuFTx",
    "outputId": "7f82133c-51b0-4d10-bbb6-22dbdf71dbb1"
   },
   "outputs": [
    {
     "name": "stdout",
     "output_type": "stream",
     "text": [
      "[SoftImpute] Max Singular Value of X_init = 1056.302670\n",
      "[SoftImpute] Iter 1: observed MAE=0.038729 rank=222\n",
      "[SoftImpute] Iter 2: observed MAE=0.038825 rank=218\n",
      "[SoftImpute] Iter 3: observed MAE=0.038893 rank=217\n",
      "[SoftImpute] Iter 4: observed MAE=0.038940 rank=216\n",
      "[SoftImpute] Iter 5: observed MAE=0.038975 rank=215\n",
      "[SoftImpute] Iter 6: observed MAE=0.039002 rank=215\n",
      "[SoftImpute] Iter 7: observed MAE=0.039024 rank=215\n",
      "[SoftImpute] Iter 8: observed MAE=0.039042 rank=215\n",
      "[SoftImpute] Iter 9: observed MAE=0.039057 rank=214\n",
      "[SoftImpute] Iter 10: observed MAE=0.039070 rank=214\n",
      "[SoftImpute] Iter 11: observed MAE=0.039082 rank=214\n",
      "[SoftImpute] Iter 12: observed MAE=0.039091 rank=214\n",
      "[SoftImpute] Iter 13: observed MAE=0.039100 rank=214\n",
      "[SoftImpute] Iter 14: observed MAE=0.039108 rank=214\n",
      "[SoftImpute] Iter 15: observed MAE=0.039115 rank=214\n",
      "[SoftImpute] Iter 16: observed MAE=0.039121 rank=214\n",
      "[SoftImpute] Iter 17: observed MAE=0.039127 rank=214\n",
      "[SoftImpute] Iter 18: observed MAE=0.039132 rank=214\n",
      "[SoftImpute] Iter 19: observed MAE=0.039137 rank=214\n",
      "[SoftImpute] Iter 20: observed MAE=0.039142 rank=214\n",
      "[SoftImpute] Iter 21: observed MAE=0.039146 rank=214\n",
      "[SoftImpute] Iter 22: observed MAE=0.039150 rank=214\n",
      "[SoftImpute] Iter 23: observed MAE=0.039154 rank=214\n",
      "[SoftImpute] Iter 24: observed MAE=0.039157 rank=214\n",
      "[SoftImpute] Iter 25: observed MAE=0.039161 rank=214\n",
      "[SoftImpute] Iter 26: observed MAE=0.039164 rank=214\n",
      "[SoftImpute] Iter 27: observed MAE=0.039167 rank=214\n",
      "[SoftImpute] Iter 28: observed MAE=0.039170 rank=214\n",
      "[SoftImpute] Iter 29: observed MAE=0.039173 rank=214\n",
      "[SoftImpute] Iter 30: observed MAE=0.039175 rank=214\n",
      "[SoftImpute] Iter 31: observed MAE=0.039178 rank=214\n",
      "[SoftImpute] Iter 32: observed MAE=0.039180 rank=214\n",
      "[SoftImpute] Iter 33: observed MAE=0.039183 rank=214\n",
      "[SoftImpute] Iter 34: observed MAE=0.039185 rank=214\n",
      "[SoftImpute] Iter 35: observed MAE=0.039187 rank=214\n",
      "[SoftImpute] Iter 36: observed MAE=0.039190 rank=214\n",
      "[SoftImpute] Iter 37: observed MAE=0.039192 rank=214\n",
      "[SoftImpute] Iter 38: observed MAE=0.039194 rank=214\n",
      "[SoftImpute] Iter 39: observed MAE=0.039196 rank=214\n",
      "[SoftImpute] Iter 40: observed MAE=0.039197 rank=214\n",
      "[SoftImpute] Iter 41: observed MAE=0.039199 rank=214\n",
      "[SoftImpute] Iter 42: observed MAE=0.039201 rank=214\n",
      "[SoftImpute] Iter 43: observed MAE=0.039203 rank=214\n",
      "[SoftImpute] Iter 44: observed MAE=0.039204 rank=214\n",
      "[SoftImpute] Iter 45: observed MAE=0.039206 rank=214\n",
      "[SoftImpute] Iter 46: observed MAE=0.039207 rank=214\n",
      "[SoftImpute] Iter 47: observed MAE=0.039209 rank=214\n",
      "[SoftImpute] Iter 48: observed MAE=0.039210 rank=214\n",
      "[SoftImpute] Iter 49: observed MAE=0.039212 rank=214\n",
      "[SoftImpute] Iter 50: observed MAE=0.039213 rank=214\n",
      "[SoftImpute] Iter 51: observed MAE=0.039214 rank=214\n",
      "[SoftImpute] Iter 52: observed MAE=0.039216 rank=214\n",
      "[SoftImpute] Iter 53: observed MAE=0.039217 rank=214\n",
      "[SoftImpute] Iter 54: observed MAE=0.039218 rank=214\n",
      "[SoftImpute] Iter 55: observed MAE=0.039219 rank=214\n",
      "[SoftImpute] Iter 56: observed MAE=0.039220 rank=214\n",
      "[SoftImpute] Iter 57: observed MAE=0.039221 rank=214\n",
      "[SoftImpute] Iter 58: observed MAE=0.039222 rank=214\n",
      "[SoftImpute] Iter 59: observed MAE=0.039223 rank=214\n",
      "[SoftImpute] Iter 60: observed MAE=0.039224 rank=214\n",
      "[SoftImpute] Iter 61: observed MAE=0.039225 rank=214\n",
      "[SoftImpute] Iter 62: observed MAE=0.039226 rank=214\n",
      "[SoftImpute] Iter 63: observed MAE=0.039227 rank=214\n",
      "[SoftImpute] Iter 64: observed MAE=0.039228 rank=214\n",
      "[SoftImpute] Iter 65: observed MAE=0.039229 rank=214\n",
      "[SoftImpute] Iter 66: observed MAE=0.039230 rank=214\n",
      "[SoftImpute] Iter 67: observed MAE=0.039230 rank=214\n",
      "[SoftImpute] Iter 68: observed MAE=0.039231 rank=214\n",
      "[SoftImpute] Iter 69: observed MAE=0.039232 rank=214\n",
      "[SoftImpute] Iter 70: observed MAE=0.039233 rank=214\n",
      "[SoftImpute] Iter 71: observed MAE=0.039233 rank=214\n",
      "[SoftImpute] Iter 72: observed MAE=0.039234 rank=214\n",
      "[SoftImpute] Iter 73: observed MAE=0.039235 rank=214\n",
      "[SoftImpute] Iter 74: observed MAE=0.039235 rank=214\n",
      "[SoftImpute] Iter 75: observed MAE=0.039236 rank=214\n",
      "[SoftImpute] Iter 76: observed MAE=0.039236 rank=214\n",
      "[SoftImpute] Iter 77: observed MAE=0.039237 rank=214\n",
      "[SoftImpute] Iter 78: observed MAE=0.039238 rank=214\n",
      "[SoftImpute] Iter 79: observed MAE=0.039238 rank=214\n",
      "[SoftImpute] Iter 80: observed MAE=0.039239 rank=214\n",
      "[SoftImpute] Iter 81: observed MAE=0.039239 rank=214\n",
      "[SoftImpute] Iter 82: observed MAE=0.039240 rank=214\n",
      "[SoftImpute] Iter 83: observed MAE=0.039240 rank=214\n",
      "[SoftImpute] Iter 84: observed MAE=0.039241 rank=214\n",
      "[SoftImpute] Iter 85: observed MAE=0.039241 rank=214\n",
      "[SoftImpute] Iter 86: observed MAE=0.039241 rank=214\n",
      "[SoftImpute] Iter 87: observed MAE=0.039242 rank=214\n",
      "[SoftImpute] Iter 88: observed MAE=0.039242 rank=214\n",
      "[SoftImpute] Iter 89: observed MAE=0.039243 rank=214\n",
      "[SoftImpute] Iter 90: observed MAE=0.039243 rank=214\n",
      "[SoftImpute] Iter 91: observed MAE=0.039243 rank=214\n",
      "[SoftImpute] Iter 92: observed MAE=0.039244 rank=214\n",
      "[SoftImpute] Iter 93: observed MAE=0.039244 rank=214\n",
      "[SoftImpute] Iter 94: observed MAE=0.039245 rank=214\n",
      "[SoftImpute] Iter 95: observed MAE=0.039245 rank=214\n",
      "[SoftImpute] Iter 96: observed MAE=0.039245 rank=214\n",
      "[SoftImpute] Iter 97: observed MAE=0.039245 rank=214\n",
      "[SoftImpute] Iter 98: observed MAE=0.039246 rank=214\n",
      "[SoftImpute] Iter 99: observed MAE=0.039246 rank=214\n",
      "[SoftImpute] Iter 100: observed MAE=0.039246 rank=214\n",
      "[SoftImpute] Stopped after iteration 100 for lambda=21.126053\n"
     ]
    },
    {
     "data": {
      "text/plain": [
       "(0.1513, 1027.803083896637)"
      ]
     },
     "execution_count": 20,
     "metadata": {
      "tags": []
     },
     "output_type": "execute_result"
    }
   ],
   "source": [
    "compute_err_SOFT(Xtrain, ytrain, Xtest, ytest, n, p, 10)"
   ]
  },
  {
   "cell_type": "markdown",
   "metadata": {
    "id": "9gRPmMlGeolj"
   },
   "source": [
    "## 50%"
   ]
  },
  {
   "cell_type": "code",
   "execution_count": 12,
   "metadata": {
    "colab": {
     "base_uri": "https://localhost:8080/"
    },
    "executionInfo": {
     "elapsed": 1983,
     "status": "ok",
     "timestamp": 1604530698247,
     "user": {
      "displayName": "Thu Nguyễn",
      "photoUrl": "https://lh3.googleusercontent.com/a-/AOh14GjaRl8WgKOjLdrEa69IqFm__Rq7udZ763hhFDl9=s64",
      "userId": "04714273295929622355"
     },
     "user_tz": 360
    },
    "id": "bkRZxlgUUKUK",
    "outputId": "75dafafd-d6d3-4fb7-daa8-64b85a61281b"
   },
   "outputs": [
    {
     "data": {
      "text/plain": [
       "0.4957627118644068"
      ]
     },
     "execution_count": 12,
     "metadata": {
      "tags": []
     },
     "output_type": "execute_result"
    }
   ],
   "source": [
    "n = np.hstack((ng.reshape((-1,1)), np.tile([2900,2800,2600, 2500],\n",
    "                                 10).reshape((10,-1))))\n",
    "p = np.array([90,140,155, 170,649])   \n",
    "missing_rate(Xtrain, ytrain, n, p, 10)"
   ]
  },
  {
   "cell_type": "code",
   "execution_count": 13,
   "metadata": {
    "colab": {
     "base_uri": "https://localhost:8080/"
    },
    "executionInfo": {
     "elapsed": 2067,
     "status": "ok",
     "timestamp": 1604536595599,
     "user": {
      "displayName": "Thu Nguyễn",
      "photoUrl": "https://lh3.googleusercontent.com/a-/AOh14GjaRl8WgKOjLdrEa69IqFm__Rq7udZ763hhFDl9=s64",
      "userId": "04714273295929622355"
     },
     "user_tz": 360
    },
    "id": "QG3QYEsTexsQ",
    "outputId": "a42905f2-3703-496e-d596-7cd69c6158fd"
   },
   "outputs": [
    {
     "name": "stdout",
     "output_type": "stream",
     "text": [
      "[SoftImpute] Max Singular Value of X_init = 981.752595\n",
      "[SoftImpute] Iter 1: observed MAE=0.038407 rank=211\n",
      "[SoftImpute] Iter 2: observed MAE=0.038479 rank=209\n",
      "[SoftImpute] Iter 3: observed MAE=0.038529 rank=208\n",
      "[SoftImpute] Iter 4: observed MAE=0.038565 rank=207\n",
      "[SoftImpute] Iter 5: observed MAE=0.038591 rank=207\n",
      "[SoftImpute] Iter 6: observed MAE=0.038610 rank=207\n",
      "[SoftImpute] Iter 7: observed MAE=0.038626 rank=207\n",
      "[SoftImpute] Iter 8: observed MAE=0.038639 rank=207\n",
      "[SoftImpute] Iter 9: observed MAE=0.038649 rank=207\n",
      "[SoftImpute] Iter 10: observed MAE=0.038658 rank=207\n",
      "[SoftImpute] Iter 11: observed MAE=0.038666 rank=207\n",
      "[SoftImpute] Iter 12: observed MAE=0.038672 rank=207\n",
      "[SoftImpute] Iter 13: observed MAE=0.038678 rank=207\n",
      "[SoftImpute] Iter 14: observed MAE=0.038683 rank=207\n",
      "[SoftImpute] Iter 15: observed MAE=0.038688 rank=207\n",
      "[SoftImpute] Iter 16: observed MAE=0.038692 rank=207\n",
      "[SoftImpute] Iter 17: observed MAE=0.038695 rank=207\n",
      "[SoftImpute] Iter 18: observed MAE=0.038698 rank=207\n",
      "[SoftImpute] Iter 19: observed MAE=0.038701 rank=207\n",
      "[SoftImpute] Iter 20: observed MAE=0.038704 rank=207\n",
      "[SoftImpute] Iter 21: observed MAE=0.038706 rank=207\n",
      "[SoftImpute] Iter 22: observed MAE=0.038709 rank=207\n",
      "[SoftImpute] Iter 23: observed MAE=0.038711 rank=207\n",
      "[SoftImpute] Iter 24: observed MAE=0.038713 rank=207\n",
      "[SoftImpute] Iter 25: observed MAE=0.038714 rank=207\n",
      "[SoftImpute] Iter 26: observed MAE=0.038716 rank=207\n",
      "[SoftImpute] Iter 27: observed MAE=0.038717 rank=207\n",
      "[SoftImpute] Iter 28: observed MAE=0.038719 rank=207\n",
      "[SoftImpute] Iter 29: observed MAE=0.038720 rank=207\n",
      "[SoftImpute] Iter 30: observed MAE=0.038721 rank=207\n",
      "[SoftImpute] Iter 31: observed MAE=0.038723 rank=207\n",
      "[SoftImpute] Iter 32: observed MAE=0.038724 rank=207\n",
      "[SoftImpute] Iter 33: observed MAE=0.038725 rank=207\n",
      "[SoftImpute] Iter 34: observed MAE=0.038726 rank=207\n",
      "[SoftImpute] Iter 35: observed MAE=0.038726 rank=207\n",
      "[SoftImpute] Iter 36: observed MAE=0.038727 rank=207\n",
      "[SoftImpute] Iter 37: observed MAE=0.038728 rank=207\n",
      "[SoftImpute] Iter 38: observed MAE=0.038729 rank=207\n",
      "[SoftImpute] Iter 39: observed MAE=0.038730 rank=207\n",
      "[SoftImpute] Iter 40: observed MAE=0.038730 rank=207\n",
      "[SoftImpute] Iter 41: observed MAE=0.038731 rank=207\n",
      "[SoftImpute] Iter 42: observed MAE=0.038732 rank=207\n",
      "[SoftImpute] Iter 43: observed MAE=0.038732 rank=207\n",
      "[SoftImpute] Iter 44: observed MAE=0.038733 rank=207\n",
      "[SoftImpute] Iter 45: observed MAE=0.038733 rank=207\n",
      "[SoftImpute] Iter 46: observed MAE=0.038734 rank=207\n",
      "[SoftImpute] Iter 47: observed MAE=0.038734 rank=207\n",
      "[SoftImpute] Iter 48: observed MAE=0.038735 rank=207\n",
      "[SoftImpute] Iter 49: observed MAE=0.038735 rank=207\n",
      "[SoftImpute] Iter 50: observed MAE=0.038736 rank=207\n",
      "[SoftImpute] Iter 51: observed MAE=0.038736 rank=207\n",
      "[SoftImpute] Iter 52: observed MAE=0.038737 rank=207\n",
      "[SoftImpute] Iter 53: observed MAE=0.038737 rank=207\n",
      "[SoftImpute] Iter 54: observed MAE=0.038737 rank=207\n",
      "[SoftImpute] Iter 55: observed MAE=0.038738 rank=207\n",
      "[SoftImpute] Iter 56: observed MAE=0.038738 rank=207\n",
      "[SoftImpute] Iter 57: observed MAE=0.038738 rank=207\n",
      "[SoftImpute] Iter 58: observed MAE=0.038739 rank=207\n",
      "[SoftImpute] Iter 59: observed MAE=0.038739 rank=207\n",
      "[SoftImpute] Iter 60: observed MAE=0.038739 rank=207\n",
      "[SoftImpute] Iter 61: observed MAE=0.038740 rank=207\n",
      "[SoftImpute] Iter 62: observed MAE=0.038740 rank=207\n",
      "[SoftImpute] Iter 63: observed MAE=0.038740 rank=207\n",
      "[SoftImpute] Iter 64: observed MAE=0.038740 rank=207\n",
      "[SoftImpute] Iter 65: observed MAE=0.038741 rank=207\n",
      "[SoftImpute] Iter 66: observed MAE=0.038741 rank=207\n",
      "[SoftImpute] Iter 67: observed MAE=0.038741 rank=207\n",
      "[SoftImpute] Iter 68: observed MAE=0.038741 rank=207\n",
      "[SoftImpute] Iter 69: observed MAE=0.038741 rank=207\n",
      "[SoftImpute] Iter 70: observed MAE=0.038742 rank=207\n",
      "[SoftImpute] Iter 71: observed MAE=0.038742 rank=207\n",
      "[SoftImpute] Iter 72: observed MAE=0.038742 rank=207\n",
      "[SoftImpute] Iter 73: observed MAE=0.038742 rank=207\n",
      "[SoftImpute] Iter 74: observed MAE=0.038742 rank=207\n",
      "[SoftImpute] Iter 75: observed MAE=0.038743 rank=207\n",
      "[SoftImpute] Iter 76: observed MAE=0.038743 rank=207\n",
      "[SoftImpute] Iter 77: observed MAE=0.038743 rank=207\n",
      "[SoftImpute] Iter 78: observed MAE=0.038743 rank=207\n",
      "[SoftImpute] Iter 79: observed MAE=0.038743 rank=207\n",
      "[SoftImpute] Iter 80: observed MAE=0.038743 rank=207\n",
      "[SoftImpute] Iter 81: observed MAE=0.038743 rank=207\n",
      "[SoftImpute] Iter 82: observed MAE=0.038744 rank=207\n",
      "[SoftImpute] Iter 83: observed MAE=0.038744 rank=207\n",
      "[SoftImpute] Iter 84: observed MAE=0.038744 rank=207\n",
      "[SoftImpute] Iter 85: observed MAE=0.038744 rank=207\n",
      "[SoftImpute] Iter 86: observed MAE=0.038744 rank=207\n",
      "[SoftImpute] Iter 87: observed MAE=0.038744 rank=207\n",
      "[SoftImpute] Iter 88: observed MAE=0.038744 rank=207\n",
      "[SoftImpute] Iter 89: observed MAE=0.038744 rank=207\n",
      "[SoftImpute] Iter 90: observed MAE=0.038744 rank=207\n",
      "[SoftImpute] Iter 91: observed MAE=0.038745 rank=207\n",
      "[SoftImpute] Iter 92: observed MAE=0.038745 rank=207\n",
      "[SoftImpute] Iter 93: observed MAE=0.038745 rank=207\n",
      "[SoftImpute] Iter 94: observed MAE=0.038745 rank=207\n",
      "[SoftImpute] Iter 95: observed MAE=0.038745 rank=207\n",
      "[SoftImpute] Iter 96: observed MAE=0.038745 rank=207\n",
      "[SoftImpute] Iter 97: observed MAE=0.038745 rank=207\n",
      "[SoftImpute] Iter 98: observed MAE=0.038745 rank=207\n",
      "[SoftImpute] Iter 99: observed MAE=0.038745 rank=207\n",
      "[SoftImpute] Iter 100: observed MAE=0.038745 rank=207\n",
      "[SoftImpute] Stopped after iteration 100 for lambda=19.635052\n"
     ]
    },
    {
     "data": {
      "text/plain": [
       "(0.1547, 798.8074636459351)"
      ]
     },
     "execution_count": 13,
     "metadata": {
      "tags": []
     },
     "output_type": "execute_result"
    }
   ],
   "source": [
    "compute_err_SOFT(Xtrain, ytrain, Xtest, ytest, n, p, 10)"
   ]
  },
  {
   "cell_type": "code",
   "execution_count": null,
   "metadata": {
    "id": "9710NgAge0Tx"
   },
   "outputs": [],
   "source": []
  }
 ],
 "metadata": {
  "colab": {
   "collapsed_sections": [],
   "name": "application in linear discriminant analysis - MNIST - SOFT - IMPUTE.ipynb",
   "provenance": [
    {
     "file_id": "1arXCMY131I_hMzl3EnfSKESUQmwIHoZM",
     "timestamp": 1603783037611
    },
    {
     "file_id": "1UPCB9FT9px24oZYoQRXSsOmvBFbAACF3",
     "timestamp": 1603782625541
    },
    {
     "file_id": "1tR40bOS9ThPI2uK0uthQ8LnWLmmQaDr8",
     "timestamp": 1603678172225
    },
    {
     "file_id": "1CnbOqwmJydQa8uCCpIR6HRVxw0YnveIP",
     "timestamp": 1591365193693
    }
   ],
   "toc_visible": true
  },
  "kernelspec": {
   "display_name": "Python 3",
   "language": "python",
   "name": "python3"
  },
  "language_info": {
   "codemirror_mode": {
    "name": "ipython",
    "version": 3
   },
   "file_extension": ".py",
   "mimetype": "text/x-python",
   "name": "python",
   "nbconvert_exporter": "python",
   "pygments_lexer": "ipython3",
   "version": "3.8.3"
  },
  "widgets": {
   "application/vnd.jupyter.widget-state+json": {
    "102e711da25f487291d44f95f04b6f17": {
     "model_module": "@jupyter-widgets/base",
     "model_name": "LayoutModel",
     "state": {
      "_model_module": "@jupyter-widgets/base",
      "_model_module_version": "1.2.0",
      "_model_name": "LayoutModel",
      "_view_count": null,
      "_view_module": "@jupyter-widgets/base",
      "_view_module_version": "1.2.0",
      "_view_name": "LayoutView",
      "align_content": null,
      "align_items": null,
      "align_self": null,
      "border": null,
      "bottom": null,
      "display": null,
      "flex": null,
      "flex_flow": null,
      "grid_area": null,
      "grid_auto_columns": null,
      "grid_auto_flow": null,
      "grid_auto_rows": null,
      "grid_column": null,
      "grid_gap": null,
      "grid_row": null,
      "grid_template_areas": null,
      "grid_template_columns": null,
      "grid_template_rows": null,
      "height": null,
      "justify_content": null,
      "justify_items": null,
      "left": null,
      "margin": null,
      "max_height": null,
      "max_width": null,
      "min_height": null,
      "min_width": null,
      "object_fit": null,
      "object_position": null,
      "order": null,
      "overflow": null,
      "overflow_x": null,
      "overflow_y": null,
      "padding": null,
      "right": null,
      "top": null,
      "visibility": null,
      "width": null
     }
    },
    "6b8456b1cb3445c390c3ea9cfef72b92": {
     "model_module": "@jupyter-widgets/controls",
     "model_name": "ProgressStyleModel",
     "state": {
      "_model_module": "@jupyter-widgets/controls",
      "_model_module_version": "1.5.0",
      "_model_name": "ProgressStyleModel",
      "_view_count": null,
      "_view_module": "@jupyter-widgets/base",
      "_view_module_version": "1.2.0",
      "_view_name": "StyleView",
      "bar_color": null,
      "description_width": "initial"
     }
    },
    "87d5aca0afec44c7a765c5413f836a89": {
     "model_module": "@jupyter-widgets/controls",
     "model_name": "HTMLModel",
     "state": {
      "_dom_classes": [],
      "_model_module": "@jupyter-widgets/controls",
      "_model_module_version": "1.5.0",
      "_model_name": "HTMLModel",
      "_view_count": null,
      "_view_module": "@jupyter-widgets/controls",
      "_view_module_version": "1.5.0",
      "_view_name": "HTMLView",
      "description": "",
      "description_tooltip": null,
      "layout": "IPY_MODEL_ae04245797ee4605893301edd277f153",
      "placeholder": "​",
      "style": "IPY_MODEL_d43a4d6e0fbc4d6e99207205d14d8c3f",
      "value": " 4/4 [00:01&lt;00:00,  3.68 file/s]"
     }
    },
    "aa022087ee1e47b197301dd4eb4f48c8": {
     "model_module": "@jupyter-widgets/controls",
     "model_name": "FloatProgressModel",
     "state": {
      "_dom_classes": [],
      "_model_module": "@jupyter-widgets/controls",
      "_model_module_version": "1.5.0",
      "_model_name": "FloatProgressModel",
      "_view_count": null,
      "_view_module": "@jupyter-widgets/controls",
      "_view_module_version": "1.5.0",
      "_view_name": "ProgressView",
      "bar_style": "success",
      "description": "Dl Completed...: 100%",
      "description_tooltip": null,
      "layout": "IPY_MODEL_f0e2b858f29f4012b3062c6d376838a2",
      "max": 4,
      "min": 0,
      "orientation": "horizontal",
      "style": "IPY_MODEL_6b8456b1cb3445c390c3ea9cfef72b92",
      "value": 4
     }
    },
    "ae04245797ee4605893301edd277f153": {
     "model_module": "@jupyter-widgets/base",
     "model_name": "LayoutModel",
     "state": {
      "_model_module": "@jupyter-widgets/base",
      "_model_module_version": "1.2.0",
      "_model_name": "LayoutModel",
      "_view_count": null,
      "_view_module": "@jupyter-widgets/base",
      "_view_module_version": "1.2.0",
      "_view_name": "LayoutView",
      "align_content": null,
      "align_items": null,
      "align_self": null,
      "border": null,
      "bottom": null,
      "display": null,
      "flex": null,
      "flex_flow": null,
      "grid_area": null,
      "grid_auto_columns": null,
      "grid_auto_flow": null,
      "grid_auto_rows": null,
      "grid_column": null,
      "grid_gap": null,
      "grid_row": null,
      "grid_template_areas": null,
      "grid_template_columns": null,
      "grid_template_rows": null,
      "height": null,
      "justify_content": null,
      "justify_items": null,
      "left": null,
      "margin": null,
      "max_height": null,
      "max_width": null,
      "min_height": null,
      "min_width": null,
      "object_fit": null,
      "object_position": null,
      "order": null,
      "overflow": null,
      "overflow_x": null,
      "overflow_y": null,
      "padding": null,
      "right": null,
      "top": null,
      "visibility": null,
      "width": null
     }
    },
    "c936098c2e7342568e177f690486e14b": {
     "model_module": "@jupyter-widgets/controls",
     "model_name": "HBoxModel",
     "state": {
      "_dom_classes": [],
      "_model_module": "@jupyter-widgets/controls",
      "_model_module_version": "1.5.0",
      "_model_name": "HBoxModel",
      "_view_count": null,
      "_view_module": "@jupyter-widgets/controls",
      "_view_module_version": "1.5.0",
      "_view_name": "HBoxView",
      "box_style": "",
      "children": [
       "IPY_MODEL_aa022087ee1e47b197301dd4eb4f48c8",
       "IPY_MODEL_87d5aca0afec44c7a765c5413f836a89"
      ],
      "layout": "IPY_MODEL_102e711da25f487291d44f95f04b6f17"
     }
    },
    "d43a4d6e0fbc4d6e99207205d14d8c3f": {
     "model_module": "@jupyter-widgets/controls",
     "model_name": "DescriptionStyleModel",
     "state": {
      "_model_module": "@jupyter-widgets/controls",
      "_model_module_version": "1.5.0",
      "_model_name": "DescriptionStyleModel",
      "_view_count": null,
      "_view_module": "@jupyter-widgets/base",
      "_view_module_version": "1.2.0",
      "_view_name": "StyleView",
      "description_width": ""
     }
    },
    "f0e2b858f29f4012b3062c6d376838a2": {
     "model_module": "@jupyter-widgets/base",
     "model_name": "LayoutModel",
     "state": {
      "_model_module": "@jupyter-widgets/base",
      "_model_module_version": "1.2.0",
      "_model_name": "LayoutModel",
      "_view_count": null,
      "_view_module": "@jupyter-widgets/base",
      "_view_module_version": "1.2.0",
      "_view_name": "LayoutView",
      "align_content": null,
      "align_items": null,
      "align_self": null,
      "border": null,
      "bottom": null,
      "display": null,
      "flex": null,
      "flex_flow": null,
      "grid_area": null,
      "grid_auto_columns": null,
      "grid_auto_flow": null,
      "grid_auto_rows": null,
      "grid_column": null,
      "grid_gap": null,
      "grid_row": null,
      "grid_template_areas": null,
      "grid_template_columns": null,
      "grid_template_rows": null,
      "height": null,
      "justify_content": null,
      "justify_items": null,
      "left": null,
      "margin": null,
      "max_height": null,
      "max_width": null,
      "min_height": null,
      "min_width": null,
      "object_fit": null,
      "object_position": null,
      "order": null,
      "overflow": null,
      "overflow_x": null,
      "overflow_y": null,
      "padding": null,
      "right": null,
      "top": null,
      "visibility": null,
      "width": null
     }
    }
   }
  }
 },
 "nbformat": 4,
 "nbformat_minor": 1
}
