{
 "cells": [
  {
   "cell_type": "markdown",
   "metadata": {
    "id": "01Q1wGI3uIdg"
   },
   "source": [
    "## libraries and function "
   ]
  },
  {
   "cell_type": "code",
   "execution_count": null,
   "metadata": {
    "colab": {
     "base_uri": "https://localhost:8080/"
    },
    "executionInfo": {
     "elapsed": 3819,
     "status": "ok",
     "timestamp": 1604886650528,
     "user": {
      "displayName": "Thu Nguyễn",
      "photoUrl": "https://lh3.googleusercontent.com/a-/AOh14GjaRl8WgKOjLdrEa69IqFm__Rq7udZ763hhFDl9=s64",
      "userId": "04714273295929622355"
     },
     "user_tz": 360
    },
    "id": "iEdO9dJPION8",
    "outputId": "3cd18921-56c4-4230-bfa0-c6f367cae351"
   },
   "outputs": [
    {
     "name": "stdout",
     "output_type": "stream",
     "text": [
      "Requirement already satisfied: impyute in /usr/local/lib/python3.6/dist-packages (0.0.8)\n",
      "Requirement already satisfied: scipy in /usr/local/lib/python3.6/dist-packages (from impyute) (1.4.1)\n",
      "Requirement already satisfied: scikit-learn in /usr/local/lib/python3.6/dist-packages (from impyute) (0.22.2.post1)\n",
      "Requirement already satisfied: numpy in /usr/local/lib/python3.6/dist-packages (from impyute) (1.18.5)\n",
      "Requirement already satisfied: joblib>=0.11 in /usr/local/lib/python3.6/dist-packages (from scikit-learn->impyute) (0.17.0)\n"
     ]
    }
   ],
   "source": [
    "!pip install impyute\n",
    "from sklearn import datasets\n",
    "from sklearn.preprocessing import LabelEncoder, StandardScaler\n",
    "from sklearn.discriminant_analysis import LinearDiscriminantAnalysis as skLDA\n",
    "from sklearn.experimental import enable_iterative_imputer\n",
    "from sklearn.impute import IterativeImputer\n",
    "from scipy import stats\n",
    "import numpy as np\n",
    "import impyute as impy\n",
    "from fancyimpute import IterativeSVD, SoftImpute, NuclearNormMinimization, BiScaler\n",
    "import pandas as pd\n",
    "import time"
   ]
  },
  {
   "cell_type": "markdown",
   "metadata": {
    "id": "YxZbkGo8IOOS"
   },
   "source": [
    "The function `mle` allows us to compute the MLEs from training data with monotone missing data.\n",
    "\n",
    "We denote\n",
    "$$n = \\begin{pmatrix}\n",
    "n_1^{(1)} & n_1^{(2)} &...&n_1^{(K)}\\\\\n",
    "\\vdots & \\vdots &\\ddots&\\vdots\\\\\n",
    "n_G^{(1)} & n_G^{(2)} &...&n_G^{(K)}\n",
    "\\end{pmatrix}$$\n",
    "$$p = (p_1,p_2,...,p_K)$$\n",
    "G is the number of classes."
   ]
  },
  {
   "cell_type": "markdown",
   "metadata": {
    "id": "zJsxuiuVOWch"
   },
   "source": [
    "### MLE function "
   ]
  },
  {
   "cell_type": "code",
   "execution_count": null,
   "metadata": {
    "id": "9iL76sKnIOOU"
   },
   "outputs": [],
   "source": [
    "import numpy as np\n",
    "def mle(Xtrain, n, p, G):\n",
    "    '''\n",
    "    Xtrain: list of input. The ith element of the list contains the sample from\n",
    "    the ith class.\n",
    "    '''\n",
    "    if p[0]==1:\n",
    "        # the array that contains the means of each block for the 1st block\n",
    "        mus = [np.mean(Xtrain[g][:,0]) for g in np.arange(G)]\n",
    "        S = [(n[g,0]-1)*np.var(Xtrain[g][:,0]) for g in np.arange(G)]\n",
    "    else:\n",
    "        mus = [np.mean(Xtrain[g][:,0:p[0]], axis = 0) for g  in np.arange(G)]\n",
    "        S = [(n[g,0]-1)*np.cov(Xtrain[g][:,0:p[0]],rowvar =False) \n",
    "             for g in np.arange(G)]\n",
    "    \n",
    "    mus = np.asarray(mus).T # so that each column is the mean of a class\n",
    "    S = sum(S)/(sum(n[:,0])) \n",
    "    S = S.reshape((p[0],-1))\n",
    "    for i in np.arange(1,len(p)):\n",
    "        W = [(n[g,i]-1)*np.cov(Xtrain[g][0:n[g,i],0:p[i]],\n",
    "                              rowvar=False) for g in np.arange(G)]\n",
    "        W = sum(W)\n",
    "        \n",
    "        P = np.matmul(W[(p[i-1]):p[i], 0:p[i-1]],\n",
    "                      np.linalg.inv(W[0:p[i-1],0:p[i-1]]))\n",
    "        Q = (W[p[i-1]:p[i],p[i-1]:p[i]]-\n",
    "            np.matmul(P, W[0:p[i-1],p[i-1]:p[i]]))/sum(n[:,i])\n",
    "        xmeans = [np.mean(Xtrain[g][0:n[g,i],0:p[i]], axis = 0) \n",
    "                  for g in np.arange(G)]\n",
    "        \n",
    "        xmeans = np.asarray(xmeans)\n",
    "        xmeans = xmeans.T\n",
    "        mus = np.vstack((mus, xmeans[p[i-1]:p[i],:]\n",
    "                       - np.matmul(P, xmeans[0:p[i-1]]-mus)))\n",
    "        S21 = np.matmul(P, S)\n",
    "        S = np.vstack((np.hstack((S, S21.T)),\n",
    "                       np.hstack((S21, Q+np.matmul(P, S21.T)))))\n",
    "    return [mus, S]"
   ]
  },
  {
   "cell_type": "markdown",
   "metadata": {
    "id": "5Kk3Z0jcObqQ"
   },
   "source": [
    "### nan function \n"
   ]
  },
  {
   "cell_type": "code",
   "execution_count": null,
   "metadata": {
    "id": "V4-kNYKJIOOd"
   },
   "outputs": [],
   "source": [
    "'''\n",
    "function that create data list that contain missing values\n",
    "The input X is a numpy array, y is the label\n",
    "the function return a list where the ith element of \n",
    "the list belongs to the ith class\n",
    "'''\n",
    "\n",
    "def make_nan_list(X,y,G, n, p):\n",
    "    # note that the label should go from 0 to G-1\n",
    "    data = []\n",
    "    for g in np.arange(G):\n",
    "        data.append(X[y==g,:])\n",
    "        for k in np.arange(len(p)-1):\n",
    "            data[g][n[g,k+1]:n[g,k], p[k]:] = np.nan\n",
    "    return data\n"
   ]
  },
  {
   "cell_type": "code",
   "execution_count": null,
   "metadata": {
    "id": "8oXh1_ou0BPS"
   },
   "outputs": [],
   "source": [
    "def missing_rate(Xtrain, ytrain, n, p, G):\n",
    "    # function that compute the missing rate of a given pattern    \n",
    "    Xtr_nan_list = make_nan_list(Xtrain,ytrain,G, n, p)\n",
    "    # make NA data\n",
    "    # since making function changes the order of observation\n",
    "    # we need to generate new ytr from Xtr_nan    \n",
    "    Xtr_nan, ytr = Xtr_nan_list[0], np.repeat(0, len(Xtr_nan_list[0]))\n",
    "    for g in np.arange(1,G):\n",
    "        Xtr_nan = np.vstack((Xtr_nan, Xtr_nan_list[g]))\n",
    "        ytr = np.hstack((ytr, np.repeat(g, len(Xtr_nan_list[g]))))\n",
    "\n",
    "    # percentage of missing values\n",
    "    per_missing = np.mean(np.isnan(Xtr_nan))\n",
    "    return per_missing"
   ]
  },
  {
   "cell_type": "markdown",
   "metadata": {
    "id": "IwG2bsDOOxls"
   },
   "source": [
    "### compute_err function "
   ]
  },
  {
   "cell_type": "code",
   "execution_count": null,
   "metadata": {
    "id": "ZEAkkeS5IOOo"
   },
   "outputs": [],
   "source": [
    "def err(mus, S, mus_est, S_est):\n",
    "  err_rate = (np.linalg.norm(mus_est-mus))/mus.size \n",
    "  err_rate += (np.linalg.norm(S_est-S))/S.size \n",
    "  return err_rate\n",
    "\n",
    "def compute_err(Xtrain, ytrain, n, p, G):      \n",
    "    # make NAs\n",
    "    Xtr_nan_list = make_nan_list(Xtrain,ytrain,G, n, p)\n",
    "    # make NA data\n",
    "    # since making function changes the order of observation\n",
    "    # we need to generate new ytr from Xtr_nan    \n",
    "    Xtr_nan, ytr = Xtr_nan_list[0], np.repeat(0, len(Xtr_nan_list[0]))\n",
    "    for g in np.arange(1,G):\n",
    "        Xtr_nan = np.vstack((Xtr_nan, Xtr_nan_list[g]))\n",
    "        ytr = np.hstack((ytr, np.repeat(g, len(Xtr_nan_list[g]))))\n",
    "\n",
    "    scaler = StandardScaler()\n",
    "    scaler.fit(Xtr_nan)\n",
    "    Xtr_nan = scaler.transform(Xtr_nan)\n",
    "    Xtrain = scaler.transform(Xtrain)\n",
    "    for g in range(G):\n",
    "      Xtr_nan_list[g] = scaler.transform(Xtr_nan_list[g])\n",
    "\n",
    "    mus = [np.mean(Xtrain[ytrain==g,:], axis=0) for g in np.arange(G)]\n",
    "    mus = np.asarray(mus) # each row is a mean of a class\n",
    "    S = [(sum(ytrain==g)-1)*np.cov(Xtrain[ytrain==g,:],rowvar =False) \n",
    "             for g in np.arange(G)]\n",
    "    S = np.asarray(S)/len(ytrain)\n",
    "\n",
    "    # percentage of missing values\n",
    "    per_missing = np.mean(np.isnan(Xtr_nan))\n",
    "    # MLEs approach\n",
    "    start = time.time()\n",
    "    mus_mle, S_mle = mle(Xtr_nan_list, n, p, G)\n",
    "    mle_err = err(mus, S, mus_mle.T, S_mle)\n",
    "    mle_time = time.time()-start\n",
    "    \n",
    "    start = time.time()\n",
    "    Xtr_em = impy.em(Xtr_nan)\n",
    "    mus_em = np.array([np.mean(Xtr_em[ytrain==g,:], axis=0) for g in np.arange(G)])\n",
    "    S_em = np.array([(sum(ytrain==g)-1)*np.cov(Xtr_em[ytrain==g,:], rowvar =False) \n",
    "             for g in np.arange(G)])\n",
    "    S_em = S_em/len(ytrain)\n",
    "    em_err = err(mus, S, mus_em, S_em)\n",
    "    em_time = time.time()-start       \n",
    "\n",
    "    start = time.time()\n",
    "    Xtr_knn = impy.fast_knn(Xtr_nan)\n",
    "    mus_knn = np.asarray([np.mean(Xtr_knn[ytrain==g,:], axis=0) for g in np.arange(G)])\n",
    "    S_knn = np.asarray([(sum(ytrain==g)-1)*np.cov(Xtr_knn[ytrain==g,:], rowvar =False) \n",
    "             for g in np.arange(G)])\n",
    "    S_knn = S_knn/len(ytrain)\n",
    "    knn_err =  err(mus, S, mus_knn, S_knn)\n",
    "    knn_time = time.time()-start \n",
    "\n",
    "    start = time.time()\n",
    "    Xtr_softimpute = SoftImpute(max_iters = 100).fit_transform(Xtr_nan)\n",
    "    mus_softimpute = np.asarray([np.mean(Xtr_softimpute[ytrain==g,:], axis=0\n",
    "                                         ) for g in np.arange(G)])\n",
    "    S_softimpute = np.asarray([(sum(ytrain==g)-1)*np.cov(Xtr_softimpute[ytrain==g,:], rowvar =False) \n",
    "             for g in np.arange(G)])\n",
    "    S_softimpute = S_softimpute/len(ytrain)\n",
    "    softimpute_err =  err(mus, S, mus_softimpute, S_softimpute)\n",
    "    softimpute_time = time.time()-start\n",
    "\n",
    "    start = time.time()\n",
    "    Xtr_mice = IterativeImputer(max_iter=100).fit(Xtr_nan).transform(Xtr_nan)\n",
    "    mus_mice = np.asarray([np.mean(Xtr_mice[ytrain==g,:], axis=0\n",
    "                                   ) for g in np.arange(G)])\n",
    "    S_mice = np.asarray([(sum(ytrain==g)-1)*np.cov(Xtr_mice[ytrain==g,:], rowvar =False) \n",
    "             for g in np.arange(G)])\n",
    "    S_mice = S_mice/len(ytrain)\n",
    "    mice_err = err(mus, S, mus_mice, S_mice)\n",
    "    mice_time = time.time()-start\n",
    "\n",
    "    start = time.time()\n",
    "    Xtr_nuclear = NuclearNormMinimization(max_iters=100).fit_transform(Xtr_nan)\n",
    "    mus_nuclear = np.asarray([np.mean(Xtr_nuclear[ytrain==g,:], axis=0\n",
    "                                      ) for g in np.arange(G)])\n",
    "    S_nuclear = np.asarray([(sum(ytrain==g)-1)*np.cov(Xtr_nuclear[ytrain==g,:], rowvar =False) \n",
    "             for g in np.arange(G)])\n",
    "    S_nuclear = S_nuclear/len(ytrain)\n",
    "    nuclear_err = err(mus, S, mus_nuclear, S_nuclear)\n",
    "    nuclear_time = time.time()-start \n",
    "    \n",
    "    err_rate = np.array([mle_err, knn_err, mice_err, softimpute_err, em_err,\n",
    "           nuclear_err,per_missing])\n",
    "    return err_rate"
   ]
  },
  {
   "cell_type": "markdown",
   "metadata": {
    "id": "3AFVM7FZs2oJ"
   },
   "source": [
    "### compute_time"
   ]
  },
  {
   "cell_type": "code",
   "execution_count": null,
   "metadata": {
    "id": "bUmhL6KAs5oL"
   },
   "outputs": [],
   "source": [
    "def compute_time(Xtrain, ytrain, n, p, G):  \n",
    "    Xtr_nan_list = make_nan_list(Xtrain,ytrain,G, n, p)\n",
    "    # make NA data\n",
    "    # since making function changes the order of observation\n",
    "    # we need to generate new ytr from Xtr_nan    \n",
    "    Xtr_nan, ytr = Xtr_nan_list[0], np.repeat(0, len(Xtr_nan_list[0]))\n",
    "    for g in np.arange(1,G):\n",
    "        Xtr_nan = np.vstack((Xtr_nan, Xtr_nan_list[g]))\n",
    "        ytr = np.hstack((ytr, np.repeat(g, len(Xtr_nan_list[g]))))\n",
    "\n",
    "    scaler = StandardScaler()\n",
    "    scaler.fit(Xtr_nan)\n",
    "    Xtr_nan = scaler.transform(Xtr_nan)\n",
    "    Xtrain = scaler.transform(Xtrain)\n",
    "    for g in range(G):\n",
    "      Xtr_nan_list[g] = scaler.transform(Xtr_nan_list[g])\n",
    "\n",
    "    mus = [np.mean(Xtrain[ytrain==g,:], axis=0) for g in np.arange(G)]\n",
    "    mus = np.asarray(mus) # each row is a mean of a class\n",
    "    S = [(sum(ytrain==g)-1)*np.cov(Xtrain[ytrain==g,:],rowvar =False) \n",
    "             for g in np.arange(G)]\n",
    "    S = np.asarray(S)/len(ytrain)\n",
    "\n",
    "    # percentage of missing values\n",
    "    per_missing = np.mean(np.isnan(Xtr_nan))\n",
    "    # MLEs approach\n",
    "    start = time.time()\n",
    "    mus_mle, S_mle = mle(Xtr_nan_list, n, p, G)\n",
    "    mle_err = err(mus, S, mus_mle.T, S_mle)\n",
    "    mle_time = time.time()-start\n",
    "    \n",
    "    start = time.time()\n",
    "    Xtr_em = impy.em(Xtr_nan)\n",
    "    mus_em = np.array([np.mean(Xtr_em[ytrain==g,:], axis=0) for g in np.arange(G)])\n",
    "    S_em = np.array([(sum(ytrain==g)-1)*np.cov(Xtr_em[ytrain==g,:], rowvar =False) \n",
    "             for g in np.arange(G)])\n",
    "    S_em = S_em/len(ytrain)\n",
    "    em_err = err(mus, S, mus_em, S_em)\n",
    "    em_time = time.time()-start      \n",
    "\n",
    "    start = time.time()\n",
    "    Xtr_knn = impy.fast_knn(Xtr_nan)\n",
    "    mus_knn = np.asarray([np.mean(Xtr_knn[ytrain==g,:], axis=0) for g in np.arange(G)])\n",
    "    S_knn = np.asarray([(sum(ytrain==g)-1)*np.cov(Xtr_knn[ytrain==g,:], rowvar =False) \n",
    "             for g in np.arange(G)])\n",
    "    S_knn = S_knn/len(ytrain)\n",
    "    knn_err =  err(mus, S, mus_knn, S_knn)\n",
    "    knn_time = time.time()-start \n",
    "\n",
    "    start = time.time()\n",
    "    Xtr_softimpute = SoftImpute(max_iters = 100).fit_transform(Xtr_nan)\n",
    "    mus_softimpute = np.asarray([np.mean(Xtr_softimpute[ytrain==g,:], axis=0\n",
    "                                         ) for g in np.arange(G)])\n",
    "    S_softimpute = np.asarray([(sum(ytrain==g)-1)*np.cov(Xtr_softimpute[ytrain==g,:], rowvar =False) \n",
    "             for g in np.arange(G)])\n",
    "    S_softimpute = S_softimpute/len(ytrain)\n",
    "    softimpute_err =  err(mus, S, mus_softimpute, S_softimpute)\n",
    "    softimpute_time = time.time()-start\n",
    "\n",
    "    start = time.time()\n",
    "    Xtr_mice = IterativeImputer(max_iter=100).fit(Xtr_nan).transform(Xtr_nan)\n",
    "    mus_mice = np.asarray([np.mean(Xtr_mice[ytrain==g,:], axis=0\n",
    "                                   ) for g in np.arange(G)])\n",
    "    S_mice = np.asarray([(sum(ytrain==g)-1)*np.cov(Xtr_mice[ytrain==g,:], rowvar =False) \n",
    "             for g in np.arange(G)])\n",
    "    S_mice = S_mice/len(ytrain)\n",
    "    mice_err = err(mus, S, mus_mice, S_mice)\n",
    "    mice_time = time.time()-start\n",
    "\n",
    "    start = time.time()\n",
    "    Xtr_nuclear = NuclearNormMinimization(max_iters=100).fit_transform(Xtr_nan)\n",
    "    mus_nuclear = np.asarray([np.mean(Xtr_nuclear[ytrain==g,:], axis=0\n",
    "                                      ) for g in np.arange(G)])\n",
    "    S_nuclear = np.asarray([(sum(ytrain==g)-1)*np.cov(Xtr_nuclear[ytrain==g,:], rowvar =False) \n",
    "             for g in np.arange(G)])\n",
    "    S_nuclear = S_nuclear/len(ytrain)\n",
    "    nuclear_err = err(mus, S, mus_nuclear, S_nuclear)\n",
    "    nuclear_time = time.time()-start\n",
    "  \n",
    "    running_time = np.array([mle_time, knn_time,mice_time,\n",
    "                             softimpute_time,em_time, nuclear_time,\n",
    "                            ])\n",
    "    return running_time"
   ]
  },
  {
   "cell_type": "markdown",
   "metadata": {
    "id": "nAz9dbKRRcRb"
   },
   "source": [
    "## Inosphere"
   ]
  },
  {
   "cell_type": "code",
   "execution_count": null,
   "metadata": {
    "colab": {
     "base_uri": "https://localhost:8080/"
    },
    "executionInfo": {
     "elapsed": 1469,
     "status": "ok",
     "timestamp": 1604888065794,
     "user": {
      "displayName": "Thu Nguyễn",
      "photoUrl": "https://lh3.googleusercontent.com/a-/AOh14GjaRl8WgKOjLdrEa69IqFm__Rq7udZ763hhFDl9=s64",
      "userId": "04714273295929622355"
     },
     "user_tz": 360
    },
    "id": "kJBwudfzRoHp",
    "outputId": "03e8ffb1-aa47-442f-865c-293f20154a01"
   },
   "outputs": [
    {
     "name": "stdout",
     "output_type": "stream",
     "text": [
      "   0   1        2        3        4   ...       30       31       32       33  34\n",
      "0   1   0  0.99539 -0.05889  0.85243  ...  0.42267 -0.54487  0.18641 -0.45300   g\n",
      "1   1   0  1.00000 -0.18829  0.93035  ... -0.16626 -0.06288 -0.13738 -0.02447   b\n",
      "2   1   0  1.00000 -0.03365  1.00000  ...  0.60436 -0.24180  0.56045 -0.38238   g\n",
      "3   1   0  1.00000 -0.45161  1.00000  ...  0.25682  1.00000 -0.32382  1.00000   b\n",
      "4   1   0  1.00000 -0.02401  0.94140  ... -0.05707 -0.59573 -0.04608 -0.65697   g\n",
      "\n",
      "[5 rows x 35 columns]\n",
      "351\n"
     ]
    },
    {
     "data": {
      "text/plain": [
       "array([100.8, 180. ])"
      ]
     },
     "execution_count": 33,
     "metadata": {
      "tags": []
     },
     "output_type": "execute_result"
    }
   ],
   "source": [
    "data = pd.read_csv('http://archive.ics.uci.edu/ml/machine-learning-databases/ionosphere/ionosphere.data',\n",
    "                  sep = \",\", header = None)\n",
    "print(data.head())\n",
    "data = pd.DataFrame.to_numpy(data)\n",
    "X, y = data[:,:34].astype(np.float64), data[:,34]\n",
    "le2 = LabelEncoder()\n",
    "y = le2.fit_transform(y)\n",
    "print(len(y))\n",
    "4/5*np.array([sum(y==0), sum(y==1)])"
   ]
  },
  {
   "cell_type": "code",
   "execution_count": null,
   "metadata": {
    "colab": {
     "base_uri": "https://localhost:8080/"
    },
    "executionInfo": {
     "elapsed": 1367,
     "status": "ok",
     "timestamp": 1604888068732,
     "user": {
      "displayName": "Thu Nguyễn",
      "photoUrl": "https://lh3.googleusercontent.com/a-/AOh14GjaRl8WgKOjLdrEa69IqFm__Rq7udZ763hhFDl9=s64",
      "userId": "04714273295929622355"
     },
     "user_tz": 360
    },
    "id": "mzaMn7cmSjYm",
    "outputId": "bb37c320-94e4-4782-89cb-9f66630655a2"
   },
   "outputs": [
    {
     "data": {
      "text/plain": [
       "(351, 32)"
      ]
     },
     "execution_count": 34,
     "metadata": {
      "tags": []
     },
     "output_type": "execute_result"
    }
   ],
   "source": [
    "X = np.delete(X,[0,1], axis = 1)\n",
    "X.shape"
   ]
  },
  {
   "cell_type": "code",
   "execution_count": null,
   "metadata": {
    "id": "R74PUD2vSjOi"
   },
   "outputs": [],
   "source": [
    "# set random seed and shuffle the data\n",
    "np.random.seed(1)\n",
    "idx = np.arange(len(y))\n",
    "np.random.shuffle(idx)\n",
    "X, y = X[idx,:], y[idx]  "
   ]
  },
  {
   "cell_type": "markdown",
   "metadata": {
    "id": "O4Hevi9NWAiP"
   },
   "source": [
    "### 20%"
   ]
  },
  {
   "cell_type": "code",
   "execution_count": null,
   "metadata": {
    "colab": {
     "base_uri": "https://localhost:8080/"
    },
    "executionInfo": {
     "elapsed": 22281,
     "status": "ok",
     "timestamp": 1604888092644,
     "user": {
      "displayName": "Thu Nguyễn",
      "photoUrl": "https://lh3.googleusercontent.com/a-/AOh14GjaRl8WgKOjLdrEa69IqFm__Rq7udZ763hhFDl9=s64",
      "userId": "04714273295929622355"
     },
     "user_tz": 360
    },
    "id": "vCo_XuEcUZCp",
    "outputId": "ba6e759c-93b6-42cf-8e5b-df70c7e6f439"
   },
   "outputs": [
    {
     "name": "stdout",
     "output_type": "stream",
     "text": [
      "[SoftImpute] Max Singular Value of X_init = 48.959812\n",
      "[SoftImpute] Iter 1: observed MAE=0.039539 rank=32\n",
      "[SoftImpute] Iter 2: observed MAE=0.039578 rank=32\n",
      "[SoftImpute] Iter 3: observed MAE=0.039611 rank=32\n",
      "[SoftImpute] Iter 4: observed MAE=0.039639 rank=32\n",
      "[SoftImpute] Iter 5: observed MAE=0.039662 rank=32\n",
      "[SoftImpute] Iter 6: observed MAE=0.039681 rank=32\n",
      "[SoftImpute] Iter 7: observed MAE=0.039697 rank=32\n",
      "[SoftImpute] Iter 8: observed MAE=0.039710 rank=32\n",
      "[SoftImpute] Iter 9: observed MAE=0.039719 rank=32\n",
      "[SoftImpute] Iter 10: observed MAE=0.039727 rank=32\n",
      "[SoftImpute] Iter 11: observed MAE=0.039734 rank=32\n",
      "[SoftImpute] Iter 12: observed MAE=0.039739 rank=32\n",
      "[SoftImpute] Iter 13: observed MAE=0.039743 rank=32\n",
      "[SoftImpute] Iter 14: observed MAE=0.039746 rank=32\n",
      "[SoftImpute] Iter 15: observed MAE=0.039749 rank=32\n",
      "[SoftImpute] Iter 16: observed MAE=0.039750 rank=32\n",
      "[SoftImpute] Iter 17: observed MAE=0.039752 rank=32\n",
      "[SoftImpute] Iter 18: observed MAE=0.039752 rank=32\n",
      "[SoftImpute] Iter 19: observed MAE=0.039753 rank=32\n",
      "[SoftImpute] Iter 20: observed MAE=0.039753 rank=32\n",
      "[SoftImpute] Iter 21: observed MAE=0.039753 rank=32\n",
      "[SoftImpute] Iter 22: observed MAE=0.039752 rank=32\n",
      "[SoftImpute] Iter 23: observed MAE=0.039752 rank=32\n",
      "[SoftImpute] Iter 24: observed MAE=0.039751 rank=32\n",
      "[SoftImpute] Iter 25: observed MAE=0.039750 rank=32\n",
      "[SoftImpute] Iter 26: observed MAE=0.039748 rank=32\n",
      "[SoftImpute] Iter 27: observed MAE=0.039747 rank=32\n",
      "[SoftImpute] Iter 28: observed MAE=0.039746 rank=32\n",
      "[SoftImpute] Iter 29: observed MAE=0.039744 rank=32\n",
      "[SoftImpute] Iter 30: observed MAE=0.039743 rank=32\n",
      "[SoftImpute] Iter 31: observed MAE=0.039741 rank=32\n",
      "[SoftImpute] Iter 32: observed MAE=0.039739 rank=32\n",
      "[SoftImpute] Iter 33: observed MAE=0.039738 rank=32\n",
      "[SoftImpute] Iter 34: observed MAE=0.039736 rank=32\n",
      "[SoftImpute] Iter 35: observed MAE=0.039734 rank=32\n",
      "[SoftImpute] Iter 36: observed MAE=0.039733 rank=32\n",
      "[SoftImpute] Iter 37: observed MAE=0.039731 rank=32\n",
      "[SoftImpute] Iter 38: observed MAE=0.039729 rank=32\n",
      "[SoftImpute] Iter 39: observed MAE=0.039727 rank=32\n",
      "[SoftImpute] Iter 40: observed MAE=0.039726 rank=32\n",
      "[SoftImpute] Iter 41: observed MAE=0.039724 rank=32\n",
      "[SoftImpute] Iter 42: observed MAE=0.039723 rank=32\n",
      "[SoftImpute] Iter 43: observed MAE=0.039721 rank=32\n",
      "[SoftImpute] Iter 44: observed MAE=0.039719 rank=32\n",
      "[SoftImpute] Iter 45: observed MAE=0.039718 rank=32\n",
      "[SoftImpute] Iter 46: observed MAE=0.039716 rank=32\n",
      "[SoftImpute] Iter 47: observed MAE=0.039715 rank=32\n",
      "[SoftImpute] Iter 48: observed MAE=0.039713 rank=32\n",
      "[SoftImpute] Iter 49: observed MAE=0.039712 rank=32\n",
      "[SoftImpute] Iter 50: observed MAE=0.039711 rank=32\n",
      "[SoftImpute] Iter 51: observed MAE=0.039709 rank=32\n",
      "[SoftImpute] Iter 52: observed MAE=0.039708 rank=32\n",
      "[SoftImpute] Iter 53: observed MAE=0.039707 rank=32\n",
      "[SoftImpute] Iter 54: observed MAE=0.039705 rank=32\n",
      "[SoftImpute] Iter 55: observed MAE=0.039704 rank=32\n",
      "[SoftImpute] Iter 56: observed MAE=0.039703 rank=32\n",
      "[SoftImpute] Iter 57: observed MAE=0.039702 rank=32\n",
      "[SoftImpute] Iter 58: observed MAE=0.039700 rank=32\n",
      "[SoftImpute] Iter 59: observed MAE=0.039699 rank=32\n",
      "[SoftImpute] Iter 60: observed MAE=0.039698 rank=32\n",
      "[SoftImpute] Iter 61: observed MAE=0.039697 rank=32\n",
      "[SoftImpute] Iter 62: observed MAE=0.039696 rank=32\n",
      "[SoftImpute] Iter 63: observed MAE=0.039695 rank=32\n",
      "[SoftImpute] Iter 64: observed MAE=0.039694 rank=32\n",
      "[SoftImpute] Iter 65: observed MAE=0.039693 rank=32\n",
      "[SoftImpute] Iter 66: observed MAE=0.039692 rank=32\n",
      "[SoftImpute] Iter 67: observed MAE=0.039691 rank=32\n",
      "[SoftImpute] Iter 68: observed MAE=0.039690 rank=32\n",
      "[SoftImpute] Iter 69: observed MAE=0.039690 rank=32\n",
      "[SoftImpute] Iter 70: observed MAE=0.039689 rank=32\n",
      "[SoftImpute] Iter 71: observed MAE=0.039688 rank=32\n",
      "[SoftImpute] Iter 72: observed MAE=0.039687 rank=32\n",
      "[SoftImpute] Iter 73: observed MAE=0.039686 rank=32\n",
      "[SoftImpute] Iter 74: observed MAE=0.039686 rank=32\n",
      "[SoftImpute] Iter 75: observed MAE=0.039685 rank=32\n",
      "[SoftImpute] Iter 76: observed MAE=0.039684 rank=32\n",
      "[SoftImpute] Iter 77: observed MAE=0.039684 rank=32\n",
      "[SoftImpute] Iter 78: observed MAE=0.039683 rank=32\n",
      "[SoftImpute] Iter 79: observed MAE=0.039682 rank=32\n",
      "[SoftImpute] Iter 80: observed MAE=0.039682 rank=32\n",
      "[SoftImpute] Iter 81: observed MAE=0.039681 rank=32\n",
      "[SoftImpute] Iter 82: observed MAE=0.039681 rank=32\n",
      "[SoftImpute] Iter 83: observed MAE=0.039680 rank=32\n",
      "[SoftImpute] Iter 84: observed MAE=0.039680 rank=32\n",
      "[SoftImpute] Iter 85: observed MAE=0.039679 rank=32\n",
      "[SoftImpute] Iter 86: observed MAE=0.039679 rank=32\n",
      "[SoftImpute] Iter 87: observed MAE=0.039678 rank=32\n",
      "[SoftImpute] Iter 88: observed MAE=0.039678 rank=32\n",
      "[SoftImpute] Iter 89: observed MAE=0.039677 rank=32\n",
      "[SoftImpute] Iter 90: observed MAE=0.039677 rank=32\n",
      "[SoftImpute] Iter 91: observed MAE=0.039676 rank=32\n",
      "[SoftImpute] Iter 92: observed MAE=0.039676 rank=32\n",
      "[SoftImpute] Iter 93: observed MAE=0.039676 rank=32\n",
      "[SoftImpute] Iter 94: observed MAE=0.039675 rank=32\n",
      "[SoftImpute] Iter 95: observed MAE=0.039675 rank=32\n",
      "[SoftImpute] Iter 96: observed MAE=0.039675 rank=32\n",
      "[SoftImpute] Iter 97: observed MAE=0.039674 rank=32\n",
      "[SoftImpute] Iter 98: observed MAE=0.039674 rank=32\n",
      "[SoftImpute] Iter 99: observed MAE=0.039674 rank=32\n",
      "[SoftImpute] Iter 100: observed MAE=0.039673 rank=32\n",
      "[SoftImpute] Stopped after iteration 100 for lambda=0.979196\n",
      "----------------------------------------------------------------------------\n",
      "\tSCS v2.1.2 - Splitting Conic Solver\n",
      "\t(c) Brendan O'Donoghue, Stanford University, 2012\n",
      "----------------------------------------------------------------------------\n",
      "Lin-sys: sparse-direct, nnz in A = 147650\n",
      "eps = 1.00e-04, alpha = 1.50, max_iters = 100, normalize = 1, scale = 1.00\n",
      "acceleration_lookback = 10, rho_x = 1.00e-03\n",
      "Variables n = 96000, constraints m = 118464\n",
      "Cones:\tprimal zero / dual free vars: 11232\n",
      "\tlinear vars: 33696\n",
      "\tsd vars: 73536, sd blks: 1\n",
      "Setup time: 1.17e-01s\n",
      "----------------------------------------------------------------------------\n",
      " Iter | pri res | dua res | rel gap | pri obj | dua obj | kap/tau | time (s)\n",
      "----------------------------------------------------------------------------\n",
      "     0| 3.93e+21  3.72e+21  1.00e+00 -3.72e+24  7.53e+23  1.20e+24  5.55e-02 \n",
      "   100| 7.13e-04  1.14e-03  4.03e-06  4.47e+02  4.47e+02  2.01e-15  1.32e+01 \n",
      "----------------------------------------------------------------------------\n",
      "Status: Solved/Inaccurate\n",
      "Hit max_iters, solution may be inaccurate, returning best found solution.\n",
      "Timing: Solve time: 1.33e+01s\n",
      "\tLin-sys: nnz in L factor: 371091, avg solve time: 2.79e-03s\n",
      "\tCones: avg projection time: 9.24e-02s\n",
      "\tAcceleration: avg step time: 2.97e-02s\n",
      "----------------------------------------------------------------------------\n",
      "Error metrics:\n",
      "dist(s, K) = 1.6361e-09, dist(y, K*) = 4.2919e-09, s'y/|s||y| = 1.2913e-13\n",
      "primal res: |Ax + s - b|_2 / (1 + |b|_2) = 6.2208e-04\n",
      "dual res:   |A'y + c|_2 / (1 + |c|_2) = 7.5827e-04\n",
      "rel gap:    |c'x + b'y| / (1 + |c'x| + |b'y|) = 2.1740e-04\n",
      "----------------------------------------------------------------------------\n",
      "c'x = 447.2877, -b'y = 447.0930\n",
      "============================================================================\n"
     ]
    }
   ],
   "source": [
    "    n = np.array([[sum(y==0),95,80,70],\n",
    "                  [sum(y==1),120,110,100]])\n",
    "    p = np.array([17,25,30,32])\n",
    "    res20 = compute_err(X,y,n,p,2)"
   ]
  },
  {
   "cell_type": "code",
   "execution_count": null,
   "metadata": {
    "colab": {
     "base_uri": "https://localhost:8080/"
    },
    "executionInfo": {
     "elapsed": 1080,
     "status": "ok",
     "timestamp": 1604887260469,
     "user": {
      "displayName": "Thu Nguyễn",
      "photoUrl": "https://lh3.googleusercontent.com/a-/AOh14GjaRl8WgKOjLdrEa69IqFm__Rq7udZ763hhFDl9=s64",
      "userId": "04714273295929622355"
     },
     "user_tz": 360
    },
    "id": "GAWo9cf8ujMp",
    "outputId": "2676b0b6-d0de-4c5d-b347-333b0e5ecfc9"
   },
   "outputs": [
    {
     "data": {
      "text/plain": [
       "array([0.00943456, 0.03284996, 0.03243629, 0.03272348, 0.03342111,\n",
       "       0.03270583,        nan, 0.20076567])"
      ]
     },
     "execution_count": 16,
     "metadata": {
      "tags": []
     },
     "output_type": "execute_result"
    }
   ],
   "source": [
    "res20"
   ]
  },
  {
   "cell_type": "markdown",
   "metadata": {
    "id": "CLggLlOOZRHX"
   },
   "source": [
    "### 30%"
   ]
  },
  {
   "cell_type": "code",
   "execution_count": null,
   "metadata": {
    "colab": {
     "base_uri": "https://localhost:8080/"
    },
    "executionInfo": {
     "elapsed": 24823,
     "status": "ok",
     "timestamp": 1603957214691,
     "user": {
      "displayName": "Thu Nguyễn",
      "photoUrl": "https://lh3.googleusercontent.com/a-/AOh14GjaRl8WgKOjLdrEa69IqFm__Rq7udZ763hhFDl9=s64",
      "userId": "04714273295929622355"
     },
     "user_tz": 300
    },
    "id": "V-K7q1ANZUY_",
    "outputId": "af06c08f-b7ed-4d10-8bc2-49c9b61f7caa"
   },
   "outputs": [
    {
     "name": "stdout",
     "output_type": "stream",
     "text": [
      "[SoftImpute] Max Singular Value of X_init = 43.073685\n",
      "[SoftImpute] Iter 1: observed MAE=0.037598 rank=32\n",
      "[SoftImpute] Iter 2: observed MAE=0.037641 rank=32\n",
      "[SoftImpute] Iter 3: observed MAE=0.037679 rank=32\n",
      "[SoftImpute] Iter 4: observed MAE=0.037711 rank=32\n",
      "[SoftImpute] Iter 5: observed MAE=0.037738 rank=32\n",
      "[SoftImpute] Iter 6: observed MAE=0.037761 rank=32\n",
      "[SoftImpute] Iter 7: observed MAE=0.037781 rank=32\n",
      "[SoftImpute] Iter 8: observed MAE=0.037798 rank=32\n",
      "[SoftImpute] Iter 9: observed MAE=0.037813 rank=32\n",
      "[SoftImpute] Iter 10: observed MAE=0.037825 rank=32\n",
      "[SoftImpute] Iter 11: observed MAE=0.037835 rank=32\n",
      "[SoftImpute] Iter 12: observed MAE=0.037844 rank=32\n",
      "[SoftImpute] Iter 13: observed MAE=0.037850 rank=32\n",
      "[SoftImpute] Iter 14: observed MAE=0.037856 rank=32\n",
      "[SoftImpute] Iter 15: observed MAE=0.037860 rank=32\n",
      "[SoftImpute] Iter 16: observed MAE=0.037863 rank=32\n",
      "[SoftImpute] Iter 17: observed MAE=0.037866 rank=32\n",
      "[SoftImpute] Iter 18: observed MAE=0.037867 rank=32\n",
      "[SoftImpute] Iter 19: observed MAE=0.037869 rank=32\n",
      "[SoftImpute] Iter 20: observed MAE=0.037870 rank=32\n",
      "[SoftImpute] Iter 21: observed MAE=0.037870 rank=32\n",
      "[SoftImpute] Iter 22: observed MAE=0.037871 rank=32\n",
      "[SoftImpute] Iter 23: observed MAE=0.037871 rank=32\n",
      "[SoftImpute] Iter 24: observed MAE=0.037871 rank=32\n",
      "[SoftImpute] Iter 25: observed MAE=0.037870 rank=32\n",
      "[SoftImpute] Iter 26: observed MAE=0.037870 rank=32\n",
      "[SoftImpute] Iter 27: observed MAE=0.037869 rank=32\n",
      "[SoftImpute] Iter 28: observed MAE=0.037868 rank=32\n",
      "[SoftImpute] Iter 29: observed MAE=0.037867 rank=32\n",
      "[SoftImpute] Iter 30: observed MAE=0.037866 rank=32\n",
      "[SoftImpute] Iter 31: observed MAE=0.037865 rank=32\n",
      "[SoftImpute] Iter 32: observed MAE=0.037864 rank=32\n",
      "[SoftImpute] Iter 33: observed MAE=0.037863 rank=32\n",
      "[SoftImpute] Iter 34: observed MAE=0.037862 rank=32\n",
      "[SoftImpute] Iter 35: observed MAE=0.037860 rank=32\n",
      "[SoftImpute] Iter 36: observed MAE=0.037859 rank=32\n",
      "[SoftImpute] Iter 37: observed MAE=0.037858 rank=32\n",
      "[SoftImpute] Iter 38: observed MAE=0.037856 rank=32\n",
      "[SoftImpute] Iter 39: observed MAE=0.037855 rank=32\n",
      "[SoftImpute] Iter 40: observed MAE=0.037854 rank=32\n",
      "[SoftImpute] Iter 41: observed MAE=0.037852 rank=32\n",
      "[SoftImpute] Iter 42: observed MAE=0.037851 rank=32\n",
      "[SoftImpute] Iter 43: observed MAE=0.037850 rank=32\n",
      "[SoftImpute] Iter 44: observed MAE=0.037848 rank=32\n",
      "[SoftImpute] Iter 45: observed MAE=0.037847 rank=32\n",
      "[SoftImpute] Iter 46: observed MAE=0.037845 rank=32\n",
      "[SoftImpute] Iter 47: observed MAE=0.037844 rank=32\n",
      "[SoftImpute] Iter 48: observed MAE=0.037843 rank=32\n",
      "[SoftImpute] Iter 49: observed MAE=0.037842 rank=32\n",
      "[SoftImpute] Iter 50: observed MAE=0.037840 rank=32\n",
      "[SoftImpute] Iter 51: observed MAE=0.037839 rank=32\n",
      "[SoftImpute] Iter 52: observed MAE=0.037838 rank=32\n",
      "[SoftImpute] Iter 53: observed MAE=0.037836 rank=32\n",
      "[SoftImpute] Iter 54: observed MAE=0.037835 rank=32\n",
      "[SoftImpute] Iter 55: observed MAE=0.037834 rank=32\n",
      "[SoftImpute] Iter 56: observed MAE=0.037832 rank=32\n",
      "[SoftImpute] Iter 57: observed MAE=0.037831 rank=32\n",
      "[SoftImpute] Iter 58: observed MAE=0.037830 rank=32\n",
      "[SoftImpute] Iter 59: observed MAE=0.037829 rank=32\n",
      "[SoftImpute] Iter 60: observed MAE=0.037827 rank=32\n",
      "[SoftImpute] Iter 61: observed MAE=0.037826 rank=32\n",
      "[SoftImpute] Iter 62: observed MAE=0.037825 rank=32\n",
      "[SoftImpute] Iter 63: observed MAE=0.037824 rank=32\n",
      "[SoftImpute] Iter 64: observed MAE=0.037823 rank=32\n",
      "[SoftImpute] Iter 65: observed MAE=0.037822 rank=32\n",
      "[SoftImpute] Iter 66: observed MAE=0.037821 rank=32\n",
      "[SoftImpute] Iter 67: observed MAE=0.037820 rank=32\n",
      "[SoftImpute] Iter 68: observed MAE=0.037818 rank=32\n",
      "[SoftImpute] Iter 69: observed MAE=0.037817 rank=32\n",
      "[SoftImpute] Iter 70: observed MAE=0.037816 rank=32\n",
      "[SoftImpute] Iter 71: observed MAE=0.037815 rank=32\n",
      "[SoftImpute] Iter 72: observed MAE=0.037814 rank=32\n",
      "[SoftImpute] Iter 73: observed MAE=0.037814 rank=32\n",
      "[SoftImpute] Iter 74: observed MAE=0.037813 rank=32\n",
      "[SoftImpute] Iter 75: observed MAE=0.037812 rank=32\n",
      "[SoftImpute] Iter 76: observed MAE=0.037811 rank=32\n",
      "[SoftImpute] Iter 77: observed MAE=0.037810 rank=32\n",
      "[SoftImpute] Iter 78: observed MAE=0.037809 rank=32\n",
      "[SoftImpute] Iter 79: observed MAE=0.037808 rank=32\n",
      "[SoftImpute] Iter 80: observed MAE=0.037807 rank=32\n",
      "[SoftImpute] Iter 81: observed MAE=0.037807 rank=32\n",
      "[SoftImpute] Iter 82: observed MAE=0.037806 rank=32\n",
      "[SoftImpute] Iter 83: observed MAE=0.037805 rank=32\n",
      "[SoftImpute] Iter 84: observed MAE=0.037804 rank=32\n",
      "[SoftImpute] Iter 85: observed MAE=0.037804 rank=32\n",
      "[SoftImpute] Iter 86: observed MAE=0.037803 rank=32\n",
      "[SoftImpute] Iter 87: observed MAE=0.037802 rank=32\n",
      "[SoftImpute] Iter 88: observed MAE=0.037801 rank=32\n",
      "[SoftImpute] Iter 89: observed MAE=0.037801 rank=32\n",
      "[SoftImpute] Iter 90: observed MAE=0.037800 rank=32\n",
      "[SoftImpute] Iter 91: observed MAE=0.037799 rank=32\n",
      "[SoftImpute] Iter 92: observed MAE=0.037799 rank=32\n",
      "[SoftImpute] Iter 93: observed MAE=0.037798 rank=32\n",
      "[SoftImpute] Iter 94: observed MAE=0.037797 rank=32\n",
      "[SoftImpute] Iter 95: observed MAE=0.037797 rank=32\n",
      "[SoftImpute] Iter 96: observed MAE=0.037796 rank=32\n",
      "[SoftImpute] Iter 97: observed MAE=0.037796 rank=32\n",
      "[SoftImpute] Iter 98: observed MAE=0.037795 rank=32\n",
      "[SoftImpute] Iter 99: observed MAE=0.037794 rank=32\n",
      "[SoftImpute] Iter 100: observed MAE=0.037794 rank=32\n",
      "[SoftImpute] Stopped after iteration 100 for lambda=0.861474\n",
      "----------------------------------------------------------------------------\n",
      "\tSCS v2.1.2 - Splitting Conic Solver\n",
      "\t(c) Brendan O'Donoghue, Stanford University, 2012\n",
      "----------------------------------------------------------------------------\n",
      "Lin-sys: sparse-direct, nnz in A = 145330\n",
      "eps = 1.00e-04, alpha = 1.50, max_iters = 100, normalize = 1, scale = 1.00\n",
      "acceleration_lookback = 10, rho_x = 1.00e-03\n",
      "Variables n = 96000, constraints m = 118464\n",
      "Cones:\tprimal zero / dual free vars: 11232\n",
      "\tlinear vars: 33696\n",
      "\tsd vars: 73536, sd blks: 1\n",
      "Setup time: 1.17e-01s\n",
      "----------------------------------------------------------------------------\n",
      " Iter | pri res | dua res | rel gap | pri obj | dua obj | kap/tau | time (s)\n",
      "----------------------------------------------------------------------------\n",
      "     0| 3.96e+21  3.75e+21  1.00e+00 -3.51e+24  7.09e+23  1.10e+24  5.52e-02 \n",
      "   100| 4.76e-04  6.37e-04  5.29e-05  4.21e+02  4.21e+02  2.64e-14  1.32e+01 \n",
      "----------------------------------------------------------------------------\n",
      "Status: Solved/Inaccurate\n",
      "Hit max_iters, solution may be inaccurate, returning best found solution.\n",
      "Timing: Solve time: 1.32e+01s\n",
      "\tLin-sys: nnz in L factor: 367611, avg solve time: 2.76e-03s\n",
      "\tCones: avg projection time: 9.21e-02s\n",
      "\tAcceleration: avg step time: 2.92e-02s\n",
      "----------------------------------------------------------------------------\n",
      "Error metrics:\n",
      "dist(s, K) = 2.6533e-09, dist(y, K*) = 1.8738e-09, s'y/|s||y| = -1.4953e-13\n",
      "primal res: |Ax + s - b|_2 / (1 + |b|_2) = 2.4516e-04\n",
      "dual res:   |A'y + c|_2 / (1 + |c|_2) = 3.0140e-04\n",
      "rel gap:    |c'x + b'y| / (1 + |c'x| + |b'y|) = 2.8479e-06\n",
      "----------------------------------------------------------------------------\n",
      "c'x = 420.4912, -b'y = 420.4936\n",
      "============================================================================\n"
     ]
    }
   ],
   "source": [
    "    n = np.array([[sum(y==0),85,80,75],\n",
    "                  [sum(y==1),100,90,85]])\n",
    "    p = np.array([12,27,30,32])  \n",
    "    res30 = compute_err(X,y,n,p,2)"
   ]
  },
  {
   "cell_type": "markdown",
   "metadata": {
    "id": "iPeqpzqeZWnt"
   },
   "source": [
    "### 40%"
   ]
  },
  {
   "cell_type": "code",
   "execution_count": null,
   "metadata": {
    "colab": {
     "base_uri": "https://localhost:8080/"
    },
    "executionInfo": {
     "elapsed": 29693,
     "status": "ok",
     "timestamp": 1603957296512,
     "user": {
      "displayName": "Thu Nguyễn",
      "photoUrl": "https://lh3.googleusercontent.com/a-/AOh14GjaRl8WgKOjLdrEa69IqFm__Rq7udZ763hhFDl9=s64",
      "userId": "04714273295929622355"
     },
     "user_tz": 300
    },
    "id": "zSayAOXDZYbX",
    "outputId": "545a2e66-f3a9-407b-c47a-9d27bd5941c3"
   },
   "outputs": [
    {
     "name": "stdout",
     "output_type": "stream",
     "text": [
      "[SoftImpute] Max Singular Value of X_init = 39.508962\n",
      "[SoftImpute] Iter 1: observed MAE=0.036746 rank=32\n",
      "[SoftImpute] Iter 2: observed MAE=0.036808 rank=32\n",
      "[SoftImpute] Iter 3: observed MAE=0.036865 rank=32\n",
      "[SoftImpute] Iter 4: observed MAE=0.036915 rank=32\n",
      "[SoftImpute] Iter 5: observed MAE=0.036961 rank=32\n",
      "[SoftImpute] Iter 6: observed MAE=0.037002 rank=32\n",
      "[SoftImpute] Iter 7: observed MAE=0.037037 rank=32\n",
      "[SoftImpute] Iter 8: observed MAE=0.037068 rank=32\n",
      "[SoftImpute] Iter 9: observed MAE=0.037096 rank=32\n",
      "[SoftImpute] Iter 10: observed MAE=0.037120 rank=32\n",
      "[SoftImpute] Iter 11: observed MAE=0.037141 rank=32\n",
      "[SoftImpute] Iter 12: observed MAE=0.037160 rank=32\n",
      "[SoftImpute] Iter 13: observed MAE=0.037177 rank=32\n",
      "[SoftImpute] Iter 14: observed MAE=0.037193 rank=32\n",
      "[SoftImpute] Iter 15: observed MAE=0.037208 rank=32\n",
      "[SoftImpute] Iter 16: observed MAE=0.037220 rank=32\n",
      "[SoftImpute] Iter 17: observed MAE=0.037231 rank=32\n",
      "[SoftImpute] Iter 18: observed MAE=0.037241 rank=32\n",
      "[SoftImpute] Iter 19: observed MAE=0.037250 rank=32\n",
      "[SoftImpute] Iter 20: observed MAE=0.037257 rank=32\n",
      "[SoftImpute] Iter 21: observed MAE=0.037264 rank=32\n",
      "[SoftImpute] Iter 22: observed MAE=0.037270 rank=32\n",
      "[SoftImpute] Iter 23: observed MAE=0.037275 rank=32\n",
      "[SoftImpute] Iter 24: observed MAE=0.037280 rank=32\n",
      "[SoftImpute] Iter 25: observed MAE=0.037284 rank=32\n",
      "[SoftImpute] Iter 26: observed MAE=0.037288 rank=32\n",
      "[SoftImpute] Iter 27: observed MAE=0.037291 rank=32\n",
      "[SoftImpute] Iter 28: observed MAE=0.037295 rank=32\n",
      "[SoftImpute] Iter 29: observed MAE=0.037297 rank=32\n",
      "[SoftImpute] Iter 30: observed MAE=0.037300 rank=32\n",
      "[SoftImpute] Iter 31: observed MAE=0.037302 rank=32\n",
      "[SoftImpute] Iter 32: observed MAE=0.037304 rank=32\n",
      "[SoftImpute] Iter 33: observed MAE=0.037306 rank=32\n",
      "[SoftImpute] Iter 34: observed MAE=0.037307 rank=32\n",
      "[SoftImpute] Iter 35: observed MAE=0.037308 rank=32\n",
      "[SoftImpute] Iter 36: observed MAE=0.037309 rank=32\n",
      "[SoftImpute] Iter 37: observed MAE=0.037310 rank=32\n",
      "[SoftImpute] Iter 38: observed MAE=0.037311 rank=32\n",
      "[SoftImpute] Iter 39: observed MAE=0.037312 rank=32\n",
      "[SoftImpute] Iter 40: observed MAE=0.037312 rank=32\n",
      "[SoftImpute] Iter 41: observed MAE=0.037312 rank=32\n",
      "[SoftImpute] Iter 42: observed MAE=0.037313 rank=32\n",
      "[SoftImpute] Iter 43: observed MAE=0.037313 rank=32\n",
      "[SoftImpute] Iter 44: observed MAE=0.037313 rank=32\n",
      "[SoftImpute] Iter 45: observed MAE=0.037313 rank=32\n",
      "[SoftImpute] Iter 46: observed MAE=0.037313 rank=32\n",
      "[SoftImpute] Iter 47: observed MAE=0.037312 rank=32\n",
      "[SoftImpute] Iter 48: observed MAE=0.037312 rank=32\n",
      "[SoftImpute] Iter 49: observed MAE=0.037312 rank=32\n",
      "[SoftImpute] Iter 50: observed MAE=0.037312 rank=32\n",
      "[SoftImpute] Iter 51: observed MAE=0.037311 rank=32\n",
      "[SoftImpute] Iter 52: observed MAE=0.037311 rank=32\n",
      "[SoftImpute] Iter 53: observed MAE=0.037311 rank=32\n",
      "[SoftImpute] Iter 54: observed MAE=0.037310 rank=32\n",
      "[SoftImpute] Iter 55: observed MAE=0.037310 rank=32\n",
      "[SoftImpute] Iter 56: observed MAE=0.037309 rank=32\n",
      "[SoftImpute] Iter 57: observed MAE=0.037309 rank=32\n",
      "[SoftImpute] Iter 58: observed MAE=0.037308 rank=32\n",
      "[SoftImpute] Iter 59: observed MAE=0.037308 rank=32\n",
      "[SoftImpute] Iter 60: observed MAE=0.037307 rank=32\n",
      "[SoftImpute] Iter 61: observed MAE=0.037307 rank=32\n",
      "[SoftImpute] Iter 62: observed MAE=0.037306 rank=32\n",
      "[SoftImpute] Iter 63: observed MAE=0.037306 rank=32\n",
      "[SoftImpute] Iter 64: observed MAE=0.037305 rank=32\n",
      "[SoftImpute] Iter 65: observed MAE=0.037304 rank=32\n",
      "[SoftImpute] Iter 66: observed MAE=0.037304 rank=32\n",
      "[SoftImpute] Iter 67: observed MAE=0.037303 rank=32\n",
      "[SoftImpute] Iter 68: observed MAE=0.037303 rank=32\n",
      "[SoftImpute] Iter 69: observed MAE=0.037302 rank=32\n",
      "[SoftImpute] Iter 70: observed MAE=0.037302 rank=32\n",
      "[SoftImpute] Iter 71: observed MAE=0.037301 rank=32\n",
      "[SoftImpute] Iter 72: observed MAE=0.037301 rank=32\n",
      "[SoftImpute] Iter 73: observed MAE=0.037300 rank=32\n",
      "[SoftImpute] Iter 74: observed MAE=0.037300 rank=32\n",
      "[SoftImpute] Iter 75: observed MAE=0.037299 rank=32\n",
      "[SoftImpute] Iter 76: observed MAE=0.037299 rank=32\n",
      "[SoftImpute] Iter 77: observed MAE=0.037298 rank=32\n",
      "[SoftImpute] Iter 78: observed MAE=0.037298 rank=32\n",
      "[SoftImpute] Iter 79: observed MAE=0.037297 rank=32\n",
      "[SoftImpute] Iter 80: observed MAE=0.037297 rank=32\n",
      "[SoftImpute] Iter 81: observed MAE=0.037296 rank=32\n",
      "[SoftImpute] Iter 82: observed MAE=0.037295 rank=32\n",
      "[SoftImpute] Iter 83: observed MAE=0.037295 rank=32\n",
      "[SoftImpute] Iter 84: observed MAE=0.037294 rank=32\n",
      "[SoftImpute] Iter 85: observed MAE=0.037294 rank=32\n",
      "[SoftImpute] Iter 86: observed MAE=0.037293 rank=32\n",
      "[SoftImpute] Iter 87: observed MAE=0.037293 rank=32\n",
      "[SoftImpute] Iter 88: observed MAE=0.037292 rank=32\n",
      "[SoftImpute] Iter 89: observed MAE=0.037292 rank=32\n",
      "[SoftImpute] Iter 90: observed MAE=0.037291 rank=32\n",
      "[SoftImpute] Iter 91: observed MAE=0.037291 rank=32\n",
      "[SoftImpute] Iter 92: observed MAE=0.037290 rank=32\n",
      "[SoftImpute] Iter 93: observed MAE=0.037290 rank=32\n",
      "[SoftImpute] Iter 94: observed MAE=0.037289 rank=32\n",
      "[SoftImpute] Iter 95: observed MAE=0.037289 rank=32\n",
      "[SoftImpute] Iter 96: observed MAE=0.037288 rank=32\n",
      "[SoftImpute] Iter 97: observed MAE=0.037288 rank=32\n",
      "[SoftImpute] Iter 98: observed MAE=0.037288 rank=32\n",
      "[SoftImpute] Iter 99: observed MAE=0.037287 rank=32\n",
      "[SoftImpute] Iter 100: observed MAE=0.037287 rank=32\n",
      "[SoftImpute] Stopped after iteration 100 for lambda=0.790179\n",
      "----------------------------------------------------------------------------\n",
      "\tSCS v2.1.2 - Splitting Conic Solver\n",
      "\t(c) Brendan O'Donoghue, Stanford University, 2012\n",
      "----------------------------------------------------------------------------\n",
      "Lin-sys: sparse-direct, nnz in A = 143186\n",
      "eps = 1.00e-04, alpha = 1.50, max_iters = 100, normalize = 1, scale = 1.00\n",
      "acceleration_lookback = 10, rho_x = 1.00e-03\n",
      "Variables n = 96000, constraints m = 118464\n",
      "Cones:\tprimal zero / dual free vars: 11232\n",
      "\tlinear vars: 33696\n",
      "\tsd vars: 73536, sd blks: 1\n",
      "Setup time: 1.13e-01s\n",
      "----------------------------------------------------------------------------\n",
      " Iter | pri res | dua res | rel gap | pri obj | dua obj | kap/tau | time (s)\n",
      "----------------------------------------------------------------------------\n",
      "     0| 3.99e+21  3.78e+21  1.00e+00 -3.28e+24  6.64e+23  1.00e+24  6.11e-02 \n",
      "   100| 8.53e-04  1.30e-03  2.08e-05  3.85e+02  3.85e+02  4.34e-14  1.33e+01 \n",
      "----------------------------------------------------------------------------\n",
      "Status: Solved/Inaccurate\n",
      "Hit max_iters, solution may be inaccurate, returning best found solution.\n",
      "Timing: Solve time: 1.33e+01s\n",
      "\tLin-sys: nnz in L factor: 364395, avg solve time: 2.74e-03s\n",
      "\tCones: avg projection time: 9.26e-02s\n",
      "\tAcceleration: avg step time: 2.98e-02s\n",
      "----------------------------------------------------------------------------\n",
      "Error metrics:\n",
      "dist(s, K) = 1.4426e-09, dist(y, K*) = 9.5795e-09, s'y/|s||y| = 1.4820e-13\n",
      "primal res: |Ax + s - b|_2 / (1 + |b|_2) = 1.9192e-04\n",
      "dual res:   |A'y + c|_2 / (1 + |c|_2) = 2.0208e-04\n",
      "rel gap:    |c'x + b'y| / (1 + |c'x| + |b'y|) = 4.9050e-05\n",
      "----------------------------------------------------------------------------\n",
      "c'x = 385.3170, -b'y = 385.2791\n",
      "============================================================================\n"
     ]
    }
   ],
   "source": [
    "    n = np.array([[sum(y==0),85,70,55],\n",
    "                  [sum(y==1),100,80,75]])\n",
    "    p = np.array([10,15,20,32])  \n",
    "    res40 = compute_err(X,y,n,p,2)"
   ]
  },
  {
   "cell_type": "markdown",
   "metadata": {
    "id": "tlojlRmL8k2J"
   },
   "source": [
    "### 50%\n",
    "\n",
    "\n"
   ]
  },
  {
   "cell_type": "code",
   "execution_count": null,
   "metadata": {
    "colab": {
     "base_uri": "https://localhost:8080/"
    },
    "executionInfo": {
     "elapsed": 880,
     "status": "ok",
     "timestamp": 1604538610814,
     "user": {
      "displayName": "Thu Nguyễn",
      "photoUrl": "https://lh3.googleusercontent.com/a-/AOh14GjaRl8WgKOjLdrEa69IqFm__Rq7udZ763hhFDl9=s64",
      "userId": "04714273295929622355"
     },
     "user_tz": 360
    },
    "id": "2MDthFcN8m1O",
    "outputId": "d5544c21-02ba-4a9b-fc73-f20d20eb0078"
   },
   "outputs": [
    {
     "data": {
      "text/plain": [
       "0.4998219373219373"
      ]
     },
     "execution_count": 15,
     "metadata": {
      "tags": []
     },
     "output_type": "execute_result"
    }
   ],
   "source": [
    "    n = np.array([[sum(y==0),65,55,45],\n",
    "                  [sum(y==1),80,70,65]])\n",
    "    p = np.array([8,12,14,32])\n",
    "    missing_rate(X,y,n,p,2)  "
   ]
  },
  {
   "cell_type": "code",
   "execution_count": null,
   "metadata": {
    "colab": {
     "base_uri": "https://localhost:8080/"
    },
    "executionInfo": {
     "elapsed": 36606,
     "status": "ok",
     "timestamp": 1604538657304,
     "user": {
      "displayName": "Thu Nguyễn",
      "photoUrl": "https://lh3.googleusercontent.com/a-/AOh14GjaRl8WgKOjLdrEa69IqFm__Rq7udZ763hhFDl9=s64",
      "userId": "04714273295929622355"
     },
     "user_tz": 360
    },
    "id": "7SbIzx259D1b",
    "outputId": "1624ac43-2e8b-4ea3-c798-861ba4e97176"
   },
   "outputs": [
    {
     "name": "stdout",
     "output_type": "stream",
     "text": [
      "[SoftImpute] Max Singular Value of X_init = 34.966795\n",
      "[SoftImpute] Iter 1: observed MAE=0.035461 rank=32\n",
      "[SoftImpute] Iter 2: observed MAE=0.035533 rank=32\n",
      "[SoftImpute] Iter 3: observed MAE=0.035599 rank=32\n",
      "[SoftImpute] Iter 4: observed MAE=0.035662 rank=32\n",
      "[SoftImpute] Iter 5: observed MAE=0.035722 rank=32\n",
      "[SoftImpute] Iter 6: observed MAE=0.035778 rank=32\n",
      "[SoftImpute] Iter 7: observed MAE=0.035829 rank=32\n",
      "[SoftImpute] Iter 8: observed MAE=0.035876 rank=32\n",
      "[SoftImpute] Iter 9: observed MAE=0.035918 rank=32\n",
      "[SoftImpute] Iter 10: observed MAE=0.035957 rank=32\n",
      "[SoftImpute] Iter 11: observed MAE=0.035992 rank=32\n",
      "[SoftImpute] Iter 12: observed MAE=0.036024 rank=32\n",
      "[SoftImpute] Iter 13: observed MAE=0.036054 rank=32\n",
      "[SoftImpute] Iter 14: observed MAE=0.036080 rank=32\n",
      "[SoftImpute] Iter 15: observed MAE=0.036105 rank=32\n",
      "[SoftImpute] Iter 16: observed MAE=0.036127 rank=32\n",
      "[SoftImpute] Iter 17: observed MAE=0.036147 rank=32\n",
      "[SoftImpute] Iter 18: observed MAE=0.036166 rank=32\n",
      "[SoftImpute] Iter 19: observed MAE=0.036183 rank=32\n",
      "[SoftImpute] Iter 20: observed MAE=0.036198 rank=32\n",
      "[SoftImpute] Iter 21: observed MAE=0.036211 rank=32\n",
      "[SoftImpute] Iter 22: observed MAE=0.036224 rank=32\n",
      "[SoftImpute] Iter 23: observed MAE=0.036235 rank=32\n",
      "[SoftImpute] Iter 24: observed MAE=0.036245 rank=32\n",
      "[SoftImpute] Iter 25: observed MAE=0.036255 rank=32\n",
      "[SoftImpute] Iter 26: observed MAE=0.036263 rank=32\n",
      "[SoftImpute] Iter 27: observed MAE=0.036272 rank=32\n",
      "[SoftImpute] Iter 28: observed MAE=0.036279 rank=32\n",
      "[SoftImpute] Iter 29: observed MAE=0.036286 rank=32\n",
      "[SoftImpute] Iter 30: observed MAE=0.036293 rank=32\n",
      "[SoftImpute] Iter 31: observed MAE=0.036299 rank=32\n",
      "[SoftImpute] Iter 32: observed MAE=0.036304 rank=32\n",
      "[SoftImpute] Iter 33: observed MAE=0.036309 rank=32\n",
      "[SoftImpute] Iter 34: observed MAE=0.036314 rank=32\n",
      "[SoftImpute] Iter 35: observed MAE=0.036318 rank=32\n",
      "[SoftImpute] Iter 36: observed MAE=0.036322 rank=32\n",
      "[SoftImpute] Iter 37: observed MAE=0.036326 rank=32\n",
      "[SoftImpute] Iter 38: observed MAE=0.036330 rank=32\n",
      "[SoftImpute] Iter 39: observed MAE=0.036333 rank=32\n",
      "[SoftImpute] Iter 40: observed MAE=0.036336 rank=32\n",
      "[SoftImpute] Iter 41: observed MAE=0.036339 rank=32\n",
      "[SoftImpute] Iter 42: observed MAE=0.036342 rank=32\n",
      "[SoftImpute] Iter 43: observed MAE=0.036344 rank=32\n",
      "[SoftImpute] Iter 44: observed MAE=0.036346 rank=32\n",
      "[SoftImpute] Iter 45: observed MAE=0.036348 rank=32\n",
      "[SoftImpute] Iter 46: observed MAE=0.036350 rank=32\n",
      "[SoftImpute] Iter 47: observed MAE=0.036352 rank=32\n",
      "[SoftImpute] Iter 48: observed MAE=0.036353 rank=32\n",
      "[SoftImpute] Iter 49: observed MAE=0.036355 rank=32\n",
      "[SoftImpute] Iter 50: observed MAE=0.036357 rank=32\n",
      "[SoftImpute] Iter 51: observed MAE=0.036358 rank=32\n",
      "[SoftImpute] Iter 52: observed MAE=0.036359 rank=32\n",
      "[SoftImpute] Iter 53: observed MAE=0.036361 rank=32\n",
      "[SoftImpute] Iter 54: observed MAE=0.036362 rank=32\n",
      "[SoftImpute] Iter 55: observed MAE=0.036363 rank=32\n",
      "[SoftImpute] Iter 56: observed MAE=0.036364 rank=32\n",
      "[SoftImpute] Iter 57: observed MAE=0.036365 rank=32\n",
      "[SoftImpute] Iter 58: observed MAE=0.036366 rank=32\n",
      "[SoftImpute] Iter 59: observed MAE=0.036367 rank=32\n",
      "[SoftImpute] Iter 60: observed MAE=0.036367 rank=32\n",
      "[SoftImpute] Iter 61: observed MAE=0.036368 rank=32\n",
      "[SoftImpute] Iter 62: observed MAE=0.036369 rank=32\n",
      "[SoftImpute] Iter 63: observed MAE=0.036369 rank=32\n",
      "[SoftImpute] Iter 64: observed MAE=0.036370 rank=32\n",
      "[SoftImpute] Iter 65: observed MAE=0.036370 rank=32\n",
      "[SoftImpute] Iter 66: observed MAE=0.036371 rank=32\n",
      "[SoftImpute] Iter 67: observed MAE=0.036371 rank=32\n",
      "[SoftImpute] Iter 68: observed MAE=0.036371 rank=32\n",
      "[SoftImpute] Iter 69: observed MAE=0.036372 rank=32\n",
      "[SoftImpute] Iter 70: observed MAE=0.036372 rank=32\n",
      "[SoftImpute] Iter 71: observed MAE=0.036372 rank=32\n",
      "[SoftImpute] Iter 72: observed MAE=0.036373 rank=32\n",
      "[SoftImpute] Iter 73: observed MAE=0.036373 rank=32\n",
      "[SoftImpute] Iter 74: observed MAE=0.036373 rank=32\n",
      "[SoftImpute] Iter 75: observed MAE=0.036373 rank=32\n",
      "[SoftImpute] Iter 76: observed MAE=0.036374 rank=32\n",
      "[SoftImpute] Iter 77: observed MAE=0.036374 rank=32\n",
      "[SoftImpute] Iter 78: observed MAE=0.036374 rank=32\n",
      "[SoftImpute] Iter 79: observed MAE=0.036374 rank=32\n",
      "[SoftImpute] Iter 80: observed MAE=0.036374 rank=32\n",
      "[SoftImpute] Iter 81: observed MAE=0.036374 rank=32\n",
      "[SoftImpute] Iter 82: observed MAE=0.036374 rank=32\n",
      "[SoftImpute] Iter 83: observed MAE=0.036374 rank=32\n",
      "[SoftImpute] Iter 84: observed MAE=0.036374 rank=32\n",
      "[SoftImpute] Iter 85: observed MAE=0.036374 rank=32\n",
      "[SoftImpute] Iter 86: observed MAE=0.036374 rank=32\n",
      "[SoftImpute] Iter 87: observed MAE=0.036374 rank=32\n",
      "[SoftImpute] Iter 88: observed MAE=0.036374 rank=32\n",
      "[SoftImpute] Iter 89: observed MAE=0.036374 rank=32\n",
      "[SoftImpute] Iter 90: observed MAE=0.036374 rank=32\n",
      "[SoftImpute] Iter 91: observed MAE=0.036374 rank=32\n",
      "[SoftImpute] Iter 92: observed MAE=0.036374 rank=32\n",
      "[SoftImpute] Iter 93: observed MAE=0.036374 rank=32\n",
      "[SoftImpute] Iter 94: observed MAE=0.036374 rank=32\n",
      "[SoftImpute] Iter 95: observed MAE=0.036374 rank=32\n",
      "[SoftImpute] Iter 96: observed MAE=0.036374 rank=32\n",
      "[SoftImpute] Iter 97: observed MAE=0.036374 rank=32\n",
      "[SoftImpute] Iter 98: observed MAE=0.036374 rank=32\n",
      "[SoftImpute] Iter 99: observed MAE=0.036374 rank=32\n",
      "[SoftImpute] Iter 100: observed MAE=0.036374 rank=32\n",
      "[SoftImpute] Stopped after iteration 100 for lambda=0.699336\n",
      "----------------------------------------------------------------------------\n",
      "\tSCS v2.1.2 - Splitting Conic Solver\n",
      "\t(c) Brendan O'Donoghue, Stanford University, 2012\n",
      "----------------------------------------------------------------------------\n",
      "Lin-sys: sparse-direct, nnz in A = 140932\n",
      "eps = 1.00e-04, alpha = 1.50, max_iters = 100, normalize = 1, scale = 1.00\n",
      "acceleration_lookback = 10, rho_x = 1.00e-03\n",
      "Variables n = 96000, constraints m = 118464\n",
      "Cones:\tprimal zero / dual free vars: 11232\n",
      "\tlinear vars: 33696\n",
      "\tsd vars: 73536, sd blks: 1\n",
      "Setup time: 1.88e-01s\n",
      "----------------------------------------------------------------------------\n",
      " Iter | pri res | dua res | rel gap | pri obj | dua obj | kap/tau | time (s)\n",
      "----------------------------------------------------------------------------\n",
      "     0| 4.03e+21  3.81e+21  1.00e+00 -3.02e+24  6.11e+23  8.91e+23  6.99e-02 \n",
      "   100| 8.61e-04  8.65e-04  1.36e-04  3.42e+02  3.42e+02  3.03e-14  1.28e+01 \n",
      "----------------------------------------------------------------------------\n",
      "Status: Solved/Inaccurate\n",
      "Hit max_iters, solution may be inaccurate, returning best found solution.\n",
      "Timing: Solve time: 1.28e+01s\n",
      "\tLin-sys: nnz in L factor: 361014, avg solve time: 2.64e-03s\n",
      "\tCones: avg projection time: 8.99e-02s\n",
      "\tAcceleration: avg step time: 2.86e-02s\n",
      "----------------------------------------------------------------------------\n",
      "Error metrics:\n",
      "dist(s, K) = 1.9786e-09, dist(y, K*) = 4.6704e-08, s'y/|s||y| = -4.9566e-14\n",
      "primal res: |Ax + s - b|_2 / (1 + |b|_2) = 1.3138e-04\n",
      "dual res:   |A'y + c|_2 / (1 + |c|_2) = 1.4871e-04\n",
      "rel gap:    |c'x + b'y| / (1 + |c'x| + |b'y|) = 3.4352e-05\n",
      "----------------------------------------------------------------------------\n",
      "c'x = 342.4304, -b'y = 342.4540\n",
      "============================================================================\n"
     ]
    }
   ],
   "source": [
    "res50 = compute_err(X,y,n,p,2)"
   ]
  },
  {
   "cell_type": "code",
   "execution_count": null,
   "metadata": {
    "colab": {
     "base_uri": "https://localhost:8080/"
    },
    "executionInfo": {
     "elapsed": 924,
     "status": "ok",
     "timestamp": 1604538658258,
     "user": {
      "displayName": "Thu Nguyễn",
      "photoUrl": "https://lh3.googleusercontent.com/a-/AOh14GjaRl8WgKOjLdrEa69IqFm__Rq7udZ763hhFDl9=s64",
      "userId": "04714273295929622355"
     },
     "user_tz": 360
    },
    "id": "11Yurq8c9GV6",
    "outputId": "23cee3d2-721f-4d01-ef0f-849915e2fd2c"
   },
   "outputs": [
    {
     "data": {
      "text/plain": [
       "array([0.0165614 , 0.0335176 , 0.03340561, 0.03336637, 0.0338332 ,\n",
       "       0.03334309, 0.49982194])"
      ]
     },
     "execution_count": 17,
     "metadata": {
      "tags": []
     },
     "output_type": "execute_result"
    }
   ],
   "source": [
    "res50"
   ]
  },
  {
   "cell_type": "markdown",
   "metadata": {
    "id": "QyFh2QoIX7Yj"
   },
   "source": [
    "### results"
   ]
  },
  {
   "cell_type": "code",
   "execution_count": null,
   "metadata": {
    "colab": {
     "base_uri": "https://localhost:8080/"
    },
    "executionInfo": {
     "elapsed": 860,
     "status": "ok",
     "timestamp": 1603957346568,
     "user": {
      "displayName": "Thu Nguyễn",
      "photoUrl": "https://lh3.googleusercontent.com/a-/AOh14GjaRl8WgKOjLdrEa69IqFm__Rq7udZ763hhFDl9=s64",
      "userId": "04714273295929622355"
     },
     "user_tz": 300
    },
    "id": "_127rlOnTsF6",
    "outputId": "01f9379f-b566-4592-881b-077910974fb5"
   },
   "outputs": [
    {
     "data": {
      "text/plain": [
       "array([[0.00943456, 0.03284996, 0.03243629, 0.03272348, 0.03319178,\n",
       "        0.03270583, 0.20076567],\n",
       "       [0.01167547, 0.03340321, 0.03303713, 0.03328126, 0.03365646,\n",
       "        0.03324693, 0.30404202],\n",
       "       [0.01493101, 0.03294414, 0.03336559, 0.03304057, 0.03360423,\n",
       "        0.03301359, 0.39948362]])"
      ]
     },
     "execution_count": 17,
     "metadata": {
      "tags": []
     },
     "output_type": "execute_result"
    }
   ],
   "source": [
    "inosphere = np.vstack((res20, res30, res40))\n",
    "inosphere"
   ]
  },
  {
   "cell_type": "markdown",
   "metadata": {
    "id": "VGqInaaIIOOx"
   },
   "source": [
    "# seeds "
   ]
  },
  {
   "cell_type": "code",
   "execution_count": null,
   "metadata": {
    "colab": {
     "base_uri": "https://localhost:8080/"
    },
    "executionInfo": {
     "elapsed": 2141,
     "status": "ok",
     "timestamp": 1604889094874,
     "user": {
      "displayName": "Thu Nguyễn",
      "photoUrl": "https://lh3.googleusercontent.com/a-/AOh14GjaRl8WgKOjLdrEa69IqFm__Rq7udZ763hhFDl9=s64",
      "userId": "04714273295929622355"
     },
     "user_tz": 360
    },
    "id": "_klPa7GkW_5V",
    "outputId": "dba8731d-de8d-469e-9896-61f90b2fb166"
   },
   "outputs": [
    {
     "name": "stdout",
     "output_type": "stream",
     "text": [
      "       0      1       2      3      4      5      6  7\n",
      "0  15.26  14.84  0.8710  5.763  3.312  2.221  5.220  1\n",
      "1  14.88  14.57  0.8811  5.554  3.333  1.018  4.956  1\n",
      "2  14.29  14.09  0.9050  5.291  3.337  2.699  4.825  1\n",
      "3  13.84  13.94  0.8955  5.324  3.379  2.259  4.805  1\n",
      "4  16.14  14.99  0.9034  5.658  3.562  1.355  5.175  1\n"
     ]
    }
   ],
   "source": [
    "data = pd.read_table('https://archive.ics.uci.edu/ml/machine-learning-databases/00236/seeds_dataset.txt',\n",
    "                     sep = '\\s+', header = None)\n",
    "print(data.head())\n",
    "data = pd.DataFrame.to_numpy(data)\n",
    "# reset the labels to go start from 0  \n",
    "X,y = data[:,:7], data[:,7]-1 "
   ]
  },
  {
   "cell_type": "code",
   "execution_count": null,
   "metadata": {
    "id": "eKqI4mBCUZ0A"
   },
   "outputs": [],
   "source": [
    "# set random seed and shuffle the data\n",
    "np.random.seed(1)\n",
    "idx = np.arange(len(y))\n",
    "np.random.shuffle(idx)\n",
    "X, y = X[idx,:], y[idx]  "
   ]
  },
  {
   "cell_type": "markdown",
   "metadata": {
    "id": "43u6wvjISKwG"
   },
   "source": [
    "## 20%"
   ]
  },
  {
   "cell_type": "code",
   "execution_count": null,
   "metadata": {
    "colab": {
     "base_uri": "https://localhost:8080/"
    },
    "executionInfo": {
     "elapsed": 5585,
     "status": "ok",
     "timestamp": 1604889145514,
     "user": {
      "displayName": "Thu Nguyễn",
      "photoUrl": "https://lh3.googleusercontent.com/a-/AOh14GjaRl8WgKOjLdrEa69IqFm__Rq7udZ763hhFDl9=s64",
      "userId": "04714273295929622355"
     },
     "user_tz": 360
    },
    "id": "_f-2AsWk5-mf",
    "outputId": "3386160e-c747-4623-db71-69cf0898a801"
   },
   "outputs": [
    {
     "name": "stdout",
     "output_type": "stream",
     "text": [
      "[SoftImpute] Max Singular Value of X_init = 28.545760\n",
      "[SoftImpute] Iter 1: observed MAE=0.031347 rank=6\n",
      "[SoftImpute] Iter 2: observed MAE=0.031495 rank=6\n",
      "[SoftImpute] Iter 3: observed MAE=0.031634 rank=6\n",
      "[SoftImpute] Iter 4: observed MAE=0.031764 rank=6\n",
      "[SoftImpute] Iter 5: observed MAE=0.031887 rank=6\n",
      "[SoftImpute] Iter 6: observed MAE=0.031997 rank=6\n",
      "[SoftImpute] Iter 7: observed MAE=0.032095 rank=6\n",
      "[SoftImpute] Iter 8: observed MAE=0.032185 rank=6\n",
      "[SoftImpute] Iter 9: observed MAE=0.032261 rank=6\n",
      "[SoftImpute] Iter 10: observed MAE=0.032321 rank=6\n",
      "[SoftImpute] Iter 11: observed MAE=0.032373 rank=6\n",
      "[SoftImpute] Iter 12: observed MAE=0.032416 rank=6\n",
      "[SoftImpute] Iter 13: observed MAE=0.032452 rank=6\n",
      "[SoftImpute] Iter 14: observed MAE=0.032484 rank=6\n",
      "[SoftImpute] Iter 15: observed MAE=0.032510 rank=6\n",
      "[SoftImpute] Iter 16: observed MAE=0.032534 rank=6\n",
      "[SoftImpute] Iter 17: observed MAE=0.032555 rank=6\n",
      "[SoftImpute] Iter 18: observed MAE=0.032576 rank=6\n",
      "[SoftImpute] Iter 19: observed MAE=0.032595 rank=6\n",
      "[SoftImpute] Iter 20: observed MAE=0.032614 rank=6\n",
      "[SoftImpute] Iter 21: observed MAE=0.032633 rank=6\n",
      "[SoftImpute] Iter 22: observed MAE=0.032652 rank=6\n",
      "[SoftImpute] Iter 23: observed MAE=0.032670 rank=6\n",
      "[SoftImpute] Iter 24: observed MAE=0.032687 rank=6\n",
      "[SoftImpute] Iter 25: observed MAE=0.032708 rank=6\n",
      "[SoftImpute] Iter 26: observed MAE=0.032729 rank=6\n",
      "[SoftImpute] Iter 27: observed MAE=0.032750 rank=6\n",
      "[SoftImpute] Iter 28: observed MAE=0.032770 rank=6\n",
      "[SoftImpute] Iter 29: observed MAE=0.032790 rank=6\n",
      "[SoftImpute] Iter 30: observed MAE=0.032810 rank=6\n",
      "[SoftImpute] Iter 31: observed MAE=0.032834 rank=6\n",
      "[SoftImpute] Iter 32: observed MAE=0.032858 rank=6\n",
      "[SoftImpute] Iter 33: observed MAE=0.032883 rank=6\n",
      "[SoftImpute] Iter 34: observed MAE=0.032908 rank=6\n",
      "[SoftImpute] Iter 35: observed MAE=0.032934 rank=6\n",
      "[SoftImpute] Iter 36: observed MAE=0.032959 rank=6\n",
      "[SoftImpute] Iter 37: observed MAE=0.032982 rank=6\n",
      "[SoftImpute] Iter 38: observed MAE=0.033005 rank=6\n",
      "[SoftImpute] Iter 39: observed MAE=0.033025 rank=6\n",
      "[SoftImpute] Iter 40: observed MAE=0.033043 rank=6\n",
      "[SoftImpute] Iter 41: observed MAE=0.033060 rank=6\n",
      "[SoftImpute] Iter 42: observed MAE=0.033075 rank=6\n",
      "[SoftImpute] Iter 43: observed MAE=0.033089 rank=6\n",
      "[SoftImpute] Iter 44: observed MAE=0.033100 rank=6\n",
      "[SoftImpute] Iter 45: observed MAE=0.033110 rank=6\n",
      "[SoftImpute] Iter 46: observed MAE=0.033118 rank=6\n",
      "[SoftImpute] Iter 47: observed MAE=0.033124 rank=6\n",
      "[SoftImpute] Iter 48: observed MAE=0.033128 rank=6\n",
      "[SoftImpute] Iter 49: observed MAE=0.033132 rank=6\n",
      "[SoftImpute] Iter 50: observed MAE=0.033135 rank=6\n",
      "[SoftImpute] Iter 51: observed MAE=0.033137 rank=6\n",
      "[SoftImpute] Iter 52: observed MAE=0.033138 rank=6\n",
      "[SoftImpute] Iter 53: observed MAE=0.033138 rank=6\n",
      "[SoftImpute] Iter 54: observed MAE=0.033139 rank=6\n",
      "[SoftImpute] Iter 55: observed MAE=0.033141 rank=6\n",
      "[SoftImpute] Iter 56: observed MAE=0.033141 rank=6\n",
      "[SoftImpute] Iter 57: observed MAE=0.033142 rank=6\n",
      "[SoftImpute] Iter 58: observed MAE=0.033142 rank=6\n",
      "[SoftImpute] Iter 59: observed MAE=0.033142 rank=6\n",
      "[SoftImpute] Iter 60: observed MAE=0.033141 rank=6\n",
      "[SoftImpute] Iter 61: observed MAE=0.033141 rank=6\n",
      "[SoftImpute] Iter 62: observed MAE=0.033141 rank=6\n",
      "[SoftImpute] Iter 63: observed MAE=0.033142 rank=6\n",
      "[SoftImpute] Iter 64: observed MAE=0.033142 rank=6\n",
      "[SoftImpute] Iter 65: observed MAE=0.033142 rank=6\n",
      "[SoftImpute] Iter 66: observed MAE=0.033142 rank=6\n",
      "[SoftImpute] Iter 67: observed MAE=0.033141 rank=6\n",
      "[SoftImpute] Iter 68: observed MAE=0.033141 rank=6\n",
      "[SoftImpute] Iter 69: observed MAE=0.033141 rank=6\n",
      "[SoftImpute] Iter 70: observed MAE=0.033141 rank=6\n",
      "[SoftImpute] Iter 71: observed MAE=0.033140 rank=6\n",
      "[SoftImpute] Iter 72: observed MAE=0.033140 rank=6\n",
      "[SoftImpute] Stopped after iteration 72 for lambda=0.570915\n",
      "----------------------------------------------------------------------------\n",
      "\tSCS v2.1.2 - Splitting Conic Solver\n",
      "\t(c) Brendan O'Donoghue, Stanford University, 2012\n",
      "----------------------------------------------------------------------------\n",
      "Lin-sys: sparse-direct, nnz in A = 33343\n",
      "eps = 1.00e-04, alpha = 1.50, max_iters = 100, normalize = 1, scale = 1.00\n",
      "acceleration_lookback = 10, rho_x = 1.00e-03\n",
      "Variables n = 26593, constraints m = 29533\n",
      "Cones:\tprimal zero / dual free vars: 1470\n",
      "\tlinear vars: 4410\n",
      "\tsd vars: 23653, sd blks: 1\n",
      "Setup time: 3.11e-02s\n",
      "----------------------------------------------------------------------------\n",
      " Iter | pri res | dua res | rel gap | pri obj | dua obj | kap/tau | time (s)\n",
      "----------------------------------------------------------------------------\n",
      "     0| 2.16e+21  1.97e+21  1.00e+00 -5.75e+23  1.06e+23  1.45e+23  2.60e-02 \n",
      "   100| 4.89e-04  5.96e-04  2.28e-04  6.11e+01  6.11e+01  3.18e-15  3.60e+00 \n",
      "----------------------------------------------------------------------------\n",
      "Status: Solved/Inaccurate\n",
      "Hit max_iters, solution may be inaccurate, returning best found solution.\n",
      "Timing: Solve time: 3.60e+00s\n",
      "\tLin-sys: nnz in L factor: 90639, avg solve time: 6.43e-04s\n",
      "\tCones: avg projection time: 2.59e-02s\n",
      "\tAcceleration: avg step time: 7.48e-03s\n",
      "----------------------------------------------------------------------------\n",
      "Error metrics:\n",
      "dist(s, K) = 2.0071e-09, dist(y, K*) = 3.8132e-09, s'y/|s||y| = -7.2006e-13\n",
      "primal res: |Ax + s - b|_2 / (1 + |b|_2) = 1.6768e-04\n",
      "dual res:   |A'y + c|_2 / (1 + |c|_2) = 1.7501e-04\n",
      "rel gap:    |c'x + b'y| / (1 + |c'x| + |b'y|) = 1.4711e-04\n",
      "----------------------------------------------------------------------------\n",
      "c'x = 61.0957, -b'y = 61.0776\n",
      "============================================================================\n"
     ]
    }
   ],
   "source": [
    "    p = np.array([3,5,7])\n",
    "    n = np.array([[sum(y==0),50,40], [sum(y==1),50,40],\n",
    "                  [sum(y==2),50,40]])    \n",
    "    res20 = compute_err(X,y,n,p,3)"
   ]
  },
  {
   "cell_type": "code",
   "execution_count": null,
   "metadata": {
    "colab": {
     "base_uri": "https://localhost:8080/"
    },
    "executionInfo": {
     "elapsed": 2730,
     "status": "ok",
     "timestamp": 1604889145518,
     "user": {
      "displayName": "Thu Nguyễn",
      "photoUrl": "https://lh3.googleusercontent.com/a-/AOh14GjaRl8WgKOjLdrEa69IqFm__Rq7udZ763hhFDl9=s64",
      "userId": "04714273295929622355"
     },
     "user_tz": 360
    },
    "id": "zQm1sYefEdeU",
    "outputId": "995ba8d8-36b8-4830-9689-ba21116958dc"
   },
   "outputs": [
    {
     "data": {
      "text/plain": [
       "array([0.01553881, 0.19534817, 0.19680394, 0.19630229, 0.19618772,\n",
       "       0.19631132, 0.20408163])"
      ]
     },
     "execution_count": 44,
     "metadata": {
      "tags": []
     },
     "output_type": "execute_result"
    }
   ],
   "source": [
    "res20"
   ]
  },
  {
   "cell_type": "markdown",
   "metadata": {
    "id": "n-ntTticmDKn"
   },
   "source": [
    "## 30%"
   ]
  },
  {
   "cell_type": "code",
   "execution_count": null,
   "metadata": {
    "colab": {
     "base_uri": "https://localhost:8080/"
    },
    "executionInfo": {
     "elapsed": 6594,
     "status": "ok",
     "timestamp": 1604546906856,
     "user": {
      "displayName": "Thu Nguyễn",
      "photoUrl": "https://lh3.googleusercontent.com/a-/AOh14GjaRl8WgKOjLdrEa69IqFm__Rq7udZ763hhFDl9=s64",
      "userId": "04714273295929622355"
     },
     "user_tz": 360
    },
    "id": "UC7uhpy8W_6U",
    "outputId": "51f54f6b-b06e-4444-95f6-d1c34aa45c61"
   },
   "outputs": [
    {
     "name": "stdout",
     "output_type": "stream",
     "text": [
      "[SoftImpute] Max Singular Value of X_init = 26.551899\n",
      "[SoftImpute] Iter 1: observed MAE=0.032275 rank=7\n",
      "[SoftImpute] Iter 2: observed MAE=0.032432 rank=7\n",
      "[SoftImpute] Iter 3: observed MAE=0.032584 rank=7\n",
      "[SoftImpute] Iter 4: observed MAE=0.032723 rank=7\n",
      "[SoftImpute] Iter 5: observed MAE=0.032847 rank=7\n",
      "[SoftImpute] Iter 6: observed MAE=0.032955 rank=7\n",
      "[SoftImpute] Iter 7: observed MAE=0.033056 rank=7\n",
      "[SoftImpute] Iter 8: observed MAE=0.033146 rank=7\n",
      "[SoftImpute] Iter 9: observed MAE=0.033223 rank=7\n",
      "[SoftImpute] Iter 10: observed MAE=0.033287 rank=7\n",
      "[SoftImpute] Iter 11: observed MAE=0.033342 rank=7\n",
      "[SoftImpute] Iter 12: observed MAE=0.033389 rank=7\n",
      "[SoftImpute] Iter 13: observed MAE=0.033428 rank=7\n",
      "[SoftImpute] Iter 14: observed MAE=0.033462 rank=7\n",
      "[SoftImpute] Iter 15: observed MAE=0.033491 rank=7\n",
      "[SoftImpute] Iter 16: observed MAE=0.033518 rank=7\n",
      "[SoftImpute] Iter 17: observed MAE=0.033542 rank=7\n",
      "[SoftImpute] Iter 18: observed MAE=0.033565 rank=7\n",
      "[SoftImpute] Iter 19: observed MAE=0.033586 rank=7\n",
      "[SoftImpute] Iter 20: observed MAE=0.033603 rank=7\n",
      "[SoftImpute] Iter 21: observed MAE=0.033619 rank=7\n",
      "[SoftImpute] Iter 22: observed MAE=0.033633 rank=7\n",
      "[SoftImpute] Iter 23: observed MAE=0.033645 rank=7\n",
      "[SoftImpute] Iter 24: observed MAE=0.033655 rank=7\n",
      "[SoftImpute] Iter 25: observed MAE=0.033663 rank=7\n",
      "[SoftImpute] Iter 26: observed MAE=0.033671 rank=7\n",
      "[SoftImpute] Iter 27: observed MAE=0.033677 rank=7\n",
      "[SoftImpute] Iter 28: observed MAE=0.033683 rank=7\n",
      "[SoftImpute] Iter 29: observed MAE=0.033688 rank=7\n",
      "[SoftImpute] Iter 30: observed MAE=0.033693 rank=7\n",
      "[SoftImpute] Iter 31: observed MAE=0.033698 rank=7\n",
      "[SoftImpute] Iter 32: observed MAE=0.033702 rank=7\n",
      "[SoftImpute] Iter 33: observed MAE=0.033706 rank=7\n",
      "[SoftImpute] Iter 34: observed MAE=0.033710 rank=7\n",
      "[SoftImpute] Iter 35: observed MAE=0.033715 rank=7\n",
      "[SoftImpute] Iter 36: observed MAE=0.033721 rank=7\n",
      "[SoftImpute] Iter 37: observed MAE=0.033728 rank=7\n",
      "[SoftImpute] Iter 38: observed MAE=0.033734 rank=7\n",
      "[SoftImpute] Iter 39: observed MAE=0.033740 rank=7\n",
      "[SoftImpute] Iter 40: observed MAE=0.033746 rank=7\n",
      "[SoftImpute] Iter 41: observed MAE=0.033751 rank=7\n",
      "[SoftImpute] Iter 42: observed MAE=0.033756 rank=7\n",
      "[SoftImpute] Iter 43: observed MAE=0.033761 rank=7\n",
      "[SoftImpute] Iter 44: observed MAE=0.033766 rank=7\n",
      "[SoftImpute] Iter 45: observed MAE=0.033771 rank=7\n",
      "[SoftImpute] Iter 46: observed MAE=0.033777 rank=7\n",
      "[SoftImpute] Iter 47: observed MAE=0.033784 rank=7\n",
      "[SoftImpute] Iter 48: observed MAE=0.033791 rank=7\n",
      "[SoftImpute] Iter 49: observed MAE=0.033799 rank=7\n",
      "[SoftImpute] Iter 50: observed MAE=0.033805 rank=7\n",
      "[SoftImpute] Iter 51: observed MAE=0.033812 rank=7\n",
      "[SoftImpute] Iter 52: observed MAE=0.033819 rank=7\n",
      "[SoftImpute] Iter 53: observed MAE=0.033826 rank=7\n",
      "[SoftImpute] Iter 54: observed MAE=0.033834 rank=7\n",
      "[SoftImpute] Iter 55: observed MAE=0.033842 rank=7\n",
      "[SoftImpute] Iter 56: observed MAE=0.033850 rank=7\n",
      "[SoftImpute] Iter 57: observed MAE=0.033858 rank=7\n",
      "[SoftImpute] Iter 58: observed MAE=0.033866 rank=7\n",
      "[SoftImpute] Iter 59: observed MAE=0.033874 rank=7\n",
      "[SoftImpute] Iter 60: observed MAE=0.033882 rank=7\n",
      "[SoftImpute] Iter 61: observed MAE=0.033891 rank=7\n",
      "[SoftImpute] Iter 62: observed MAE=0.033900 rank=7\n",
      "[SoftImpute] Iter 63: observed MAE=0.033910 rank=7\n",
      "[SoftImpute] Iter 64: observed MAE=0.033919 rank=7\n",
      "[SoftImpute] Iter 65: observed MAE=0.033927 rank=7\n",
      "[SoftImpute] Iter 66: observed MAE=0.033935 rank=7\n",
      "[SoftImpute] Iter 67: observed MAE=0.033942 rank=7\n",
      "[SoftImpute] Iter 68: observed MAE=0.033950 rank=7\n",
      "[SoftImpute] Iter 69: observed MAE=0.033958 rank=7\n",
      "[SoftImpute] Iter 70: observed MAE=0.033966 rank=7\n",
      "[SoftImpute] Iter 71: observed MAE=0.033974 rank=7\n",
      "[SoftImpute] Iter 72: observed MAE=0.033982 rank=7\n",
      "[SoftImpute] Iter 73: observed MAE=0.033989 rank=7\n",
      "[SoftImpute] Iter 74: observed MAE=0.033997 rank=7\n",
      "[SoftImpute] Iter 75: observed MAE=0.034005 rank=7\n",
      "[SoftImpute] Iter 76: observed MAE=0.034012 rank=7\n",
      "[SoftImpute] Iter 77: observed MAE=0.034018 rank=7\n",
      "[SoftImpute] Iter 78: observed MAE=0.034024 rank=7\n",
      "[SoftImpute] Iter 79: observed MAE=0.034030 rank=7\n",
      "[SoftImpute] Iter 80: observed MAE=0.034036 rank=7\n",
      "[SoftImpute] Iter 81: observed MAE=0.034041 rank=7\n",
      "[SoftImpute] Iter 82: observed MAE=0.034045 rank=7\n",
      "[SoftImpute] Iter 83: observed MAE=0.034050 rank=7\n",
      "[SoftImpute] Iter 84: observed MAE=0.034055 rank=7\n",
      "[SoftImpute] Iter 85: observed MAE=0.034060 rank=7\n",
      "[SoftImpute] Iter 86: observed MAE=0.034064 rank=7\n",
      "[SoftImpute] Iter 87: observed MAE=0.034069 rank=7\n",
      "[SoftImpute] Iter 88: observed MAE=0.034073 rank=7\n",
      "[SoftImpute] Iter 89: observed MAE=0.034077 rank=7\n",
      "[SoftImpute] Iter 90: observed MAE=0.034081 rank=7\n",
      "[SoftImpute] Iter 91: observed MAE=0.034084 rank=7\n",
      "[SoftImpute] Iter 92: observed MAE=0.034087 rank=7\n",
      "[SoftImpute] Iter 93: observed MAE=0.034090 rank=7\n",
      "[SoftImpute] Iter 94: observed MAE=0.034093 rank=7\n",
      "[SoftImpute] Iter 95: observed MAE=0.034096 rank=7\n",
      "[SoftImpute] Iter 96: observed MAE=0.034098 rank=7\n",
      "[SoftImpute] Iter 97: observed MAE=0.034101 rank=7\n",
      "[SoftImpute] Iter 98: observed MAE=0.034103 rank=7\n",
      "[SoftImpute] Iter 99: observed MAE=0.034105 rank=7\n",
      "[SoftImpute] Iter 100: observed MAE=0.034107 rank=7\n",
      "[SoftImpute] Stopped after iteration 100 for lambda=0.531038\n",
      "----------------------------------------------------------------------------\n",
      "\tSCS v2.1.2 - Splitting Conic Solver\n",
      "\t(c) Brendan O'Donoghue, Stanford University, 2012\n",
      "----------------------------------------------------------------------------\n",
      "Lin-sys: sparse-direct, nnz in A = 33063\n",
      "eps = 1.00e-04, alpha = 1.50, max_iters = 100, normalize = 1, scale = 1.00\n",
      "acceleration_lookback = 10, rho_x = 1.00e-03\n",
      "Variables n = 26593, constraints m = 29533\n",
      "Cones:\tprimal zero / dual free vars: 1470\n",
      "\tlinear vars: 4410\n",
      "\tsd vars: 23653, sd blks: 1\n",
      "Setup time: 3.05e-02s\n",
      "----------------------------------------------------------------------------\n",
      " Iter | pri res | dua res | rel gap | pri obj | dua obj | kap/tau | time (s)\n",
      "----------------------------------------------------------------------------\n",
      "     0| 2.16e+21  1.98e+21  1.00e+00 -5.42e+23  9.99e+22  1.33e+23  2.50e-02 \n",
      "   100| 5.76e-04  8.41e-04  1.15e-04  5.83e+01  5.83e+01  2.88e-14  3.59e+00 \n",
      "----------------------------------------------------------------------------\n",
      "Status: Solved/Inaccurate\n",
      "Hit max_iters, solution may be inaccurate, returning best found solution.\n",
      "Timing: Solve time: 3.59e+00s\n",
      "\tLin-sys: nnz in L factor: 90219, avg solve time: 6.42e-04s\n",
      "\tCones: avg projection time: 2.59e-02s\n",
      "\tAcceleration: avg step time: 7.41e-03s\n",
      "----------------------------------------------------------------------------\n",
      "Error metrics:\n",
      "dist(s, K) = 1.4349e-09, dist(y, K*) = 9.7052e-10, s'y/|s||y| = 4.1013e-13\n",
      "primal res: |Ax + s - b|_2 / (1 + |b|_2) = 2.6186e-04\n",
      "dual res:   |A'y + c|_2 / (1 + |c|_2) = 2.5886e-04\n",
      "rel gap:    |c'x + b'y| / (1 + |c'x| + |b'y|) = 1.0051e-04\n",
      "----------------------------------------------------------------------------\n",
      "c'x = 58.3116, -b'y = 58.2998\n",
      "============================================================================\n"
     ]
    }
   ],
   "source": [
    "    p = np.array([2,3,5,7])\n",
    "    n = np.array([[sum(y==0),60,40,35], [sum(y==1),60,40,30],\n",
    "                  [sum(y==2),60,40, 30]])    \n",
    "    res30 = compute_err(X,y,n,p,3)"
   ]
  },
  {
   "cell_type": "code",
   "execution_count": null,
   "metadata": {
    "colab": {
     "base_uri": "https://localhost:8080/"
    },
    "executionInfo": {
     "elapsed": 5455,
     "status": "ok",
     "timestamp": 1604546906861,
     "user": {
      "displayName": "Thu Nguyễn",
      "photoUrl": "https://lh3.googleusercontent.com/a-/AOh14GjaRl8WgKOjLdrEa69IqFm__Rq7udZ763hhFDl9=s64",
      "userId": "04714273295929622355"
     },
     "user_tz": 360
    },
    "id": "igBRq2VzUO0C",
    "outputId": "115544b7-b90d-40a8-bd3c-7dcac0702865"
   },
   "outputs": [
    {
     "data": {
      "text/plain": [
       "array([0.01748592, 0.19381187, 0.19554525, 0.19533633, 0.19545069,\n",
       "       0.19538507, 0.29931973])"
      ]
     },
     "execution_count": 129,
     "metadata": {
      "tags": []
     },
     "output_type": "execute_result"
    }
   ],
   "source": [
    "    res30"
   ]
  },
  {
   "cell_type": "markdown",
   "metadata": {
    "id": "cwOIOqZDlxnd"
   },
   "source": [
    "## 40%"
   ]
  },
  {
   "cell_type": "code",
   "execution_count": null,
   "metadata": {
    "colab": {
     "base_uri": "https://localhost:8080/"
    },
    "executionInfo": {
     "elapsed": 1092,
     "status": "ok",
     "timestamp": 1604543172910,
     "user": {
      "displayName": "Thu Nguyễn",
      "photoUrl": "https://lh3.googleusercontent.com/a-/AOh14GjaRl8WgKOjLdrEa69IqFm__Rq7udZ763hhFDl9=s64",
      "userId": "04714273295929622355"
     },
     "user_tz": 360
    },
    "id": "nGE7_LSVMpv1",
    "outputId": "78b3245d-d958-4804-c776-7628667bcb79"
   },
   "outputs": [
    {
     "data": {
      "text/plain": [
       "0.39931972789115644"
      ]
     },
     "execution_count": 123,
     "metadata": {
      "tags": []
     },
     "output_type": "execute_result"
    }
   ],
   "source": [
    "    p = np.array([2,3,5,7])\n",
    "    n = np.array([[sum(y==0),39,30,28], [sum(y==1),39,30,28],\n",
    "                  [sum(y==2),37,30, 28]])  \n",
    "    missing_rate(X,y,n,p,3)"
   ]
  },
  {
   "cell_type": "code",
   "execution_count": null,
   "metadata": {
    "colab": {
     "base_uri": "https://localhost:8080/"
    },
    "executionInfo": {
     "elapsed": 5526,
     "status": "ok",
     "timestamp": 1604543178226,
     "user": {
      "displayName": "Thu Nguyễn",
      "photoUrl": "https://lh3.googleusercontent.com/a-/AOh14GjaRl8WgKOjLdrEa69IqFm__Rq7udZ763hhFDl9=s64",
      "userId": "04714273295929622355"
     },
     "user_tz": 360
    },
    "id": "PUGTfFsTIOO0",
    "outputId": "fb032d01-dff5-43c9-8e1d-1549c33eb4d3"
   },
   "outputs": [
    {
     "name": "stdout",
     "output_type": "stream",
     "text": [
      "[SoftImpute] Max Singular Value of X_init = 24.515657\n",
      "[SoftImpute] Iter 1: observed MAE=0.032039 rank=7\n",
      "[SoftImpute] Iter 2: observed MAE=0.032244 rank=7\n",
      "[SoftImpute] Iter 3: observed MAE=0.032434 rank=7\n",
      "[SoftImpute] Iter 4: observed MAE=0.032597 rank=7\n",
      "[SoftImpute] Iter 5: observed MAE=0.032728 rank=7\n",
      "[SoftImpute] Iter 6: observed MAE=0.032828 rank=7\n",
      "[SoftImpute] Iter 7: observed MAE=0.032901 rank=7\n",
      "[SoftImpute] Iter 8: observed MAE=0.032957 rank=7\n",
      "[SoftImpute] Iter 9: observed MAE=0.033000 rank=7\n",
      "[SoftImpute] Iter 10: observed MAE=0.033029 rank=7\n",
      "[SoftImpute] Iter 11: observed MAE=0.033050 rank=7\n",
      "[SoftImpute] Iter 12: observed MAE=0.033065 rank=7\n",
      "[SoftImpute] Iter 13: observed MAE=0.033074 rank=7\n",
      "[SoftImpute] Iter 14: observed MAE=0.033080 rank=7\n",
      "[SoftImpute] Iter 15: observed MAE=0.033083 rank=7\n",
      "[SoftImpute] Iter 16: observed MAE=0.033084 rank=7\n",
      "[SoftImpute] Iter 17: observed MAE=0.033083 rank=7\n",
      "[SoftImpute] Iter 18: observed MAE=0.033083 rank=7\n",
      "[SoftImpute] Iter 19: observed MAE=0.033081 rank=7\n",
      "[SoftImpute] Iter 20: observed MAE=0.033080 rank=7\n",
      "[SoftImpute] Iter 21: observed MAE=0.033077 rank=7\n",
      "[SoftImpute] Iter 22: observed MAE=0.033075 rank=7\n",
      "[SoftImpute] Iter 23: observed MAE=0.033073 rank=7\n",
      "[SoftImpute] Iter 24: observed MAE=0.033071 rank=7\n",
      "[SoftImpute] Iter 25: observed MAE=0.033070 rank=7\n",
      "[SoftImpute] Iter 26: observed MAE=0.033069 rank=7\n",
      "[SoftImpute] Iter 27: observed MAE=0.033068 rank=7\n",
      "[SoftImpute] Iter 28: observed MAE=0.033067 rank=7\n",
      "[SoftImpute] Iter 29: observed MAE=0.033067 rank=7\n",
      "[SoftImpute] Iter 30: observed MAE=0.033067 rank=7\n",
      "[SoftImpute] Iter 31: observed MAE=0.033067 rank=7\n",
      "[SoftImpute] Iter 32: observed MAE=0.033068 rank=7\n",
      "[SoftImpute] Iter 33: observed MAE=0.033068 rank=7\n",
      "[SoftImpute] Iter 34: observed MAE=0.033068 rank=7\n",
      "[SoftImpute] Iter 35: observed MAE=0.033068 rank=7\n",
      "[SoftImpute] Iter 36: observed MAE=0.033069 rank=7\n",
      "[SoftImpute] Iter 37: observed MAE=0.033069 rank=7\n",
      "[SoftImpute] Iter 38: observed MAE=0.033070 rank=7\n",
      "[SoftImpute] Iter 39: observed MAE=0.033071 rank=7\n",
      "[SoftImpute] Iter 40: observed MAE=0.033072 rank=7\n",
      "[SoftImpute] Iter 41: observed MAE=0.033073 rank=7\n",
      "[SoftImpute] Iter 42: observed MAE=0.033075 rank=7\n",
      "[SoftImpute] Iter 43: observed MAE=0.033076 rank=7\n",
      "[SoftImpute] Iter 44: observed MAE=0.033078 rank=7\n",
      "[SoftImpute] Iter 45: observed MAE=0.033079 rank=7\n",
      "[SoftImpute] Iter 46: observed MAE=0.033080 rank=7\n",
      "[SoftImpute] Iter 47: observed MAE=0.033081 rank=7\n",
      "[SoftImpute] Iter 48: observed MAE=0.033082 rank=7\n",
      "[SoftImpute] Iter 49: observed MAE=0.033084 rank=7\n",
      "[SoftImpute] Iter 50: observed MAE=0.033085 rank=7\n",
      "[SoftImpute] Iter 51: observed MAE=0.033087 rank=7\n",
      "[SoftImpute] Iter 52: observed MAE=0.033088 rank=7\n",
      "[SoftImpute] Iter 53: observed MAE=0.033089 rank=7\n",
      "[SoftImpute] Iter 54: observed MAE=0.033090 rank=7\n",
      "[SoftImpute] Iter 55: observed MAE=0.033091 rank=7\n",
      "[SoftImpute] Iter 56: observed MAE=0.033092 rank=7\n",
      "[SoftImpute] Iter 57: observed MAE=0.033093 rank=7\n",
      "[SoftImpute] Iter 58: observed MAE=0.033094 rank=7\n",
      "[SoftImpute] Iter 59: observed MAE=0.033095 rank=7\n",
      "[SoftImpute] Iter 60: observed MAE=0.033096 rank=7\n",
      "[SoftImpute] Iter 61: observed MAE=0.033096 rank=7\n",
      "[SoftImpute] Iter 62: observed MAE=0.033097 rank=7\n",
      "[SoftImpute] Iter 63: observed MAE=0.033097 rank=7\n",
      "[SoftImpute] Iter 64: observed MAE=0.033098 rank=7\n",
      "[SoftImpute] Iter 65: observed MAE=0.033098 rank=7\n",
      "[SoftImpute] Iter 66: observed MAE=0.033099 rank=7\n",
      "[SoftImpute] Iter 67: observed MAE=0.033099 rank=7\n",
      "[SoftImpute] Iter 68: observed MAE=0.033100 rank=7\n",
      "[SoftImpute] Iter 69: observed MAE=0.033100 rank=7\n",
      "[SoftImpute] Iter 70: observed MAE=0.033101 rank=7\n",
      "[SoftImpute] Iter 71: observed MAE=0.033102 rank=7\n",
      "[SoftImpute] Iter 72: observed MAE=0.033102 rank=7\n",
      "[SoftImpute] Iter 73: observed MAE=0.033103 rank=7\n",
      "[SoftImpute] Iter 74: observed MAE=0.033103 rank=7\n",
      "[SoftImpute] Iter 75: observed MAE=0.033104 rank=7\n",
      "[SoftImpute] Iter 76: observed MAE=0.033105 rank=7\n",
      "[SoftImpute] Iter 77: observed MAE=0.033105 rank=7\n",
      "[SoftImpute] Iter 78: observed MAE=0.033106 rank=7\n",
      "[SoftImpute] Iter 79: observed MAE=0.033106 rank=7\n",
      "[SoftImpute] Iter 80: observed MAE=0.033107 rank=7\n",
      "[SoftImpute] Iter 81: observed MAE=0.033107 rank=7\n",
      "[SoftImpute] Iter 82: observed MAE=0.033108 rank=7\n",
      "[SoftImpute] Iter 83: observed MAE=0.033109 rank=7\n",
      "[SoftImpute] Iter 84: observed MAE=0.033110 rank=7\n",
      "[SoftImpute] Iter 85: observed MAE=0.033111 rank=7\n",
      "[SoftImpute] Iter 86: observed MAE=0.033111 rank=7\n",
      "[SoftImpute] Iter 87: observed MAE=0.033112 rank=7\n",
      "[SoftImpute] Iter 88: observed MAE=0.033112 rank=7\n",
      "[SoftImpute] Iter 89: observed MAE=0.033113 rank=7\n",
      "[SoftImpute] Iter 90: observed MAE=0.033114 rank=7\n",
      "[SoftImpute] Iter 91: observed MAE=0.033115 rank=7\n",
      "[SoftImpute] Iter 92: observed MAE=0.033115 rank=7\n",
      "[SoftImpute] Iter 93: observed MAE=0.033116 rank=7\n",
      "[SoftImpute] Iter 94: observed MAE=0.033117 rank=7\n",
      "[SoftImpute] Iter 95: observed MAE=0.033117 rank=7\n",
      "[SoftImpute] Iter 96: observed MAE=0.033118 rank=7\n",
      "[SoftImpute] Iter 97: observed MAE=0.033119 rank=7\n",
      "[SoftImpute] Iter 98: observed MAE=0.033120 rank=7\n",
      "[SoftImpute] Iter 99: observed MAE=0.033120 rank=7\n",
      "[SoftImpute] Iter 100: observed MAE=0.033121 rank=7\n",
      "[SoftImpute] Stopped after iteration 100 for lambda=0.490313\n",
      "----------------------------------------------------------------------------\n",
      "\tSCS v2.1.2 - Splitting Conic Solver\n",
      "\t(c) Brendan O'Donoghue, Stanford University, 2012\n",
      "----------------------------------------------------------------------------\n",
      "Lin-sys: sparse-direct, nnz in A = 32769\n",
      "eps = 1.00e-04, alpha = 1.50, max_iters = 100, normalize = 1, scale = 1.00\n",
      "acceleration_lookback = 10, rho_x = 1.00e-03\n",
      "Variables n = 26593, constraints m = 29533\n",
      "Cones:\tprimal zero / dual free vars: 1470\n",
      "\tlinear vars: 4410\n",
      "\tsd vars: 23653, sd blks: 1\n",
      "Setup time: 2.73e-02s\n",
      "----------------------------------------------------------------------------\n",
      " Iter | pri res | dua res | rel gap | pri obj | dua obj | kap/tau | time (s)\n",
      "----------------------------------------------------------------------------\n",
      "     0| 2.17e+21  1.98e+21  1.00e+00 -5.04e+23  9.29e+22  1.21e+23  1.92e-02 \n",
      "   100| 1.03e-03  1.00e-03  6.75e-05  5.43e+01  5.43e+01  1.55e-15  3.55e+00 \n",
      "----------------------------------------------------------------------------\n",
      "Status: Solved/Inaccurate\n",
      "Hit max_iters, solution may be inaccurate, returning best found solution.\n",
      "Timing: Solve time: 3.55e+00s\n",
      "\tLin-sys: nnz in L factor: 89778, avg solve time: 6.33e-04s\n",
      "\tCones: avg projection time: 2.57e-02s\n",
      "\tAcceleration: avg step time: 7.27e-03s\n",
      "----------------------------------------------------------------------------\n",
      "Error metrics:\n",
      "dist(s, K) = 1.4786e-09, dist(y, K*) = 9.1549e-09, s'y/|s||y| = 3.1313e-13\n",
      "primal res: |Ax + s - b|_2 / (1 + |b|_2) = 1.8142e-04\n",
      "dual res:   |A'y + c|_2 / (1 + |c|_2) = 1.5781e-04\n",
      "rel gap:    |c'x + b'y| / (1 + |c'x| + |b'y|) = 3.5732e-05\n",
      "----------------------------------------------------------------------------\n",
      "c'x = 54.2713, -b'y = 54.2674\n",
      "============================================================================\n"
     ]
    }
   ],
   "source": [
    "    res40 = compute_err(X,y,n,p,3)"
   ]
  },
  {
   "cell_type": "code",
   "execution_count": null,
   "metadata": {
    "colab": {
     "base_uri": "https://localhost:8080/"
    },
    "executionInfo": {
     "elapsed": 4658,
     "status": "ok",
     "timestamp": 1604543178229,
     "user": {
      "displayName": "Thu Nguyễn",
      "photoUrl": "https://lh3.googleusercontent.com/a-/AOh14GjaRl8WgKOjLdrEa69IqFm__Rq7udZ763hhFDl9=s64",
      "userId": "04714273295929622355"
     },
     "user_tz": 360
    },
    "id": "tTyAeaspM8gZ",
    "outputId": "f001f1ab-c509-4c46-d18e-abc55efbddcd"
   },
   "outputs": [
    {
     "data": {
      "text/plain": [
       "array([0.0224862 , 0.18818759, 0.19397734, 0.19138403, 0.18459814,\n",
       "       0.19221158, 0.39931973])"
      ]
     },
     "execution_count": 125,
     "metadata": {
      "tags": []
     },
     "output_type": "execute_result"
    }
   ],
   "source": [
    "res40"
   ]
  },
  {
   "cell_type": "code",
   "execution_count": null,
   "metadata": {
    "id": "6vIT4fFZOjK3"
   },
   "outputs": [],
   "source": []
  },
  {
   "cell_type": "markdown",
   "metadata": {
    "id": "2g-Vh16oGLTo"
   },
   "source": [
    "## 50% "
   ]
  },
  {
   "cell_type": "code",
   "execution_count": null,
   "metadata": {
    "colab": {
     "base_uri": "https://localhost:8080/"
    },
    "executionInfo": {
     "elapsed": 1113,
     "status": "ok",
     "timestamp": 1604543101646,
     "user": {
      "displayName": "Thu Nguyễn",
      "photoUrl": "https://lh3.googleusercontent.com/a-/AOh14GjaRl8WgKOjLdrEa69IqFm__Rq7udZ763hhFDl9=s64",
      "userId": "04714273295929622355"
     },
     "user_tz": 360
    },
    "id": "ppjBf68jGDmz",
    "outputId": "acfd5b74-2431-438a-9f26-21806609524f"
   },
   "outputs": [
    {
     "data": {
      "text/plain": [
       "0.501360544217687"
      ]
     },
     "execution_count": 115,
     "metadata": {
      "tags": []
     },
     "output_type": "execute_result"
    }
   ],
   "source": [
    "    p = np.array([2,3,4,7])\n",
    "    n = np.array([[sum(y==0),23,22,20], [sum(y==1),23,22,20],\n",
    "                  [sum(y==2),22,21, 20]])  \n",
    "    missing_rate(X,y,n,p,3)"
   ]
  },
  {
   "cell_type": "code",
   "execution_count": null,
   "metadata": {
    "colab": {
     "base_uri": "https://localhost:8080/"
    },
    "executionInfo": {
     "elapsed": 5959,
     "status": "ok",
     "timestamp": 1604543107002,
     "user": {
      "displayName": "Thu Nguyễn",
      "photoUrl": "https://lh3.googleusercontent.com/a-/AOh14GjaRl8WgKOjLdrEa69IqFm__Rq7udZ763hhFDl9=s64",
      "userId": "04714273295929622355"
     },
     "user_tz": 360
    },
    "id": "KR5ROFwwGrpK",
    "outputId": "d817d921-2fe9-4adb-a446-29405be3eaca"
   },
   "outputs": [
    {
     "name": "stdout",
     "output_type": "stream",
     "text": [
      "[SoftImpute] Max Singular Value of X_init = 22.508752\n",
      "[SoftImpute] Iter 1: observed MAE=0.032230 rank=7\n",
      "[SoftImpute] Iter 2: observed MAE=0.032343 rank=7\n",
      "[SoftImpute] Iter 3: observed MAE=0.032446 rank=7\n",
      "[SoftImpute] Iter 4: observed MAE=0.032537 rank=7\n",
      "[SoftImpute] Iter 5: observed MAE=0.032618 rank=7\n",
      "[SoftImpute] Iter 6: observed MAE=0.032690 rank=7\n",
      "[SoftImpute] Iter 7: observed MAE=0.032758 rank=7\n",
      "[SoftImpute] Iter 8: observed MAE=0.032819 rank=7\n",
      "[SoftImpute] Iter 9: observed MAE=0.032874 rank=7\n",
      "[SoftImpute] Iter 10: observed MAE=0.032921 rank=7\n",
      "[SoftImpute] Iter 11: observed MAE=0.032962 rank=7\n",
      "[SoftImpute] Iter 12: observed MAE=0.032999 rank=7\n",
      "[SoftImpute] Iter 13: observed MAE=0.033029 rank=7\n",
      "[SoftImpute] Iter 14: observed MAE=0.033054 rank=7\n",
      "[SoftImpute] Iter 15: observed MAE=0.033074 rank=7\n",
      "[SoftImpute] Iter 16: observed MAE=0.033090 rank=7\n",
      "[SoftImpute] Iter 17: observed MAE=0.033102 rank=7\n",
      "[SoftImpute] Iter 18: observed MAE=0.033111 rank=7\n",
      "[SoftImpute] Iter 19: observed MAE=0.033119 rank=7\n",
      "[SoftImpute] Iter 20: observed MAE=0.033124 rank=7\n",
      "[SoftImpute] Iter 21: observed MAE=0.033127 rank=7\n",
      "[SoftImpute] Iter 22: observed MAE=0.033130 rank=7\n",
      "[SoftImpute] Iter 23: observed MAE=0.033131 rank=7\n",
      "[SoftImpute] Iter 24: observed MAE=0.033132 rank=7\n",
      "[SoftImpute] Iter 25: observed MAE=0.033132 rank=7\n",
      "[SoftImpute] Iter 26: observed MAE=0.033132 rank=7\n",
      "[SoftImpute] Iter 27: observed MAE=0.033132 rank=7\n",
      "[SoftImpute] Iter 28: observed MAE=0.033131 rank=7\n",
      "[SoftImpute] Iter 29: observed MAE=0.033129 rank=7\n",
      "[SoftImpute] Iter 30: observed MAE=0.033128 rank=7\n",
      "[SoftImpute] Iter 31: observed MAE=0.033126 rank=7\n",
      "[SoftImpute] Iter 32: observed MAE=0.033124 rank=7\n",
      "[SoftImpute] Iter 33: observed MAE=0.033122 rank=7\n",
      "[SoftImpute] Iter 34: observed MAE=0.033120 rank=7\n",
      "[SoftImpute] Iter 35: observed MAE=0.033118 rank=7\n",
      "[SoftImpute] Iter 36: observed MAE=0.033115 rank=7\n",
      "[SoftImpute] Iter 37: observed MAE=0.033113 rank=7\n",
      "[SoftImpute] Iter 38: observed MAE=0.033111 rank=7\n",
      "[SoftImpute] Iter 39: observed MAE=0.033109 rank=7\n",
      "[SoftImpute] Iter 40: observed MAE=0.033107 rank=7\n",
      "[SoftImpute] Iter 41: observed MAE=0.033105 rank=7\n",
      "[SoftImpute] Iter 42: observed MAE=0.033103 rank=7\n",
      "[SoftImpute] Iter 43: observed MAE=0.033101 rank=7\n",
      "[SoftImpute] Iter 44: observed MAE=0.033100 rank=7\n",
      "[SoftImpute] Iter 45: observed MAE=0.033098 rank=7\n",
      "[SoftImpute] Iter 46: observed MAE=0.033097 rank=7\n",
      "[SoftImpute] Iter 47: observed MAE=0.033095 rank=7\n",
      "[SoftImpute] Iter 48: observed MAE=0.033094 rank=7\n",
      "[SoftImpute] Iter 49: observed MAE=0.033092 rank=7\n",
      "[SoftImpute] Iter 50: observed MAE=0.033091 rank=7\n",
      "[SoftImpute] Iter 51: observed MAE=0.033089 rank=7\n",
      "[SoftImpute] Iter 52: observed MAE=0.033088 rank=7\n",
      "[SoftImpute] Iter 53: observed MAE=0.033086 rank=7\n",
      "[SoftImpute] Iter 54: observed MAE=0.033085 rank=7\n",
      "[SoftImpute] Iter 55: observed MAE=0.033084 rank=7\n",
      "[SoftImpute] Iter 56: observed MAE=0.033083 rank=7\n",
      "[SoftImpute] Iter 57: observed MAE=0.033082 rank=7\n",
      "[SoftImpute] Iter 58: observed MAE=0.033080 rank=7\n",
      "[SoftImpute] Iter 59: observed MAE=0.033079 rank=7\n",
      "[SoftImpute] Iter 60: observed MAE=0.033078 rank=7\n",
      "[SoftImpute] Iter 61: observed MAE=0.033076 rank=7\n",
      "[SoftImpute] Iter 62: observed MAE=0.033075 rank=7\n",
      "[SoftImpute] Iter 63: observed MAE=0.033074 rank=7\n",
      "[SoftImpute] Iter 64: observed MAE=0.033073 rank=7\n",
      "[SoftImpute] Iter 65: observed MAE=0.033072 rank=7\n",
      "[SoftImpute] Iter 66: observed MAE=0.033071 rank=7\n",
      "[SoftImpute] Iter 67: observed MAE=0.033070 rank=7\n",
      "[SoftImpute] Iter 68: observed MAE=0.033069 rank=7\n",
      "[SoftImpute] Iter 69: observed MAE=0.033069 rank=7\n",
      "[SoftImpute] Iter 70: observed MAE=0.033068 rank=7\n",
      "[SoftImpute] Iter 71: observed MAE=0.033067 rank=7\n",
      "[SoftImpute] Iter 72: observed MAE=0.033066 rank=7\n",
      "[SoftImpute] Iter 73: observed MAE=0.033066 rank=7\n",
      "[SoftImpute] Iter 74: observed MAE=0.033065 rank=7\n",
      "[SoftImpute] Iter 75: observed MAE=0.033064 rank=7\n",
      "[SoftImpute] Iter 76: observed MAE=0.033064 rank=7\n",
      "[SoftImpute] Iter 77: observed MAE=0.033063 rank=7\n",
      "[SoftImpute] Iter 78: observed MAE=0.033062 rank=7\n",
      "[SoftImpute] Iter 79: observed MAE=0.033062 rank=7\n",
      "[SoftImpute] Iter 80: observed MAE=0.033062 rank=7\n",
      "[SoftImpute] Iter 81: observed MAE=0.033061 rank=7\n",
      "[SoftImpute] Iter 82: observed MAE=0.033061 rank=7\n",
      "[SoftImpute] Iter 83: observed MAE=0.033061 rank=7\n",
      "[SoftImpute] Iter 84: observed MAE=0.033060 rank=7\n",
      "[SoftImpute] Iter 85: observed MAE=0.033060 rank=7\n",
      "[SoftImpute] Iter 86: observed MAE=0.033059 rank=7\n",
      "[SoftImpute] Iter 87: observed MAE=0.033059 rank=7\n",
      "[SoftImpute] Iter 88: observed MAE=0.033058 rank=7\n",
      "[SoftImpute] Iter 89: observed MAE=0.033058 rank=7\n",
      "[SoftImpute] Iter 90: observed MAE=0.033057 rank=7\n",
      "[SoftImpute] Iter 91: observed MAE=0.033057 rank=7\n",
      "[SoftImpute] Iter 92: observed MAE=0.033057 rank=7\n",
      "[SoftImpute] Iter 93: observed MAE=0.033056 rank=7\n",
      "[SoftImpute] Iter 94: observed MAE=0.033056 rank=7\n",
      "[SoftImpute] Iter 95: observed MAE=0.033056 rank=7\n",
      "[SoftImpute] Iter 96: observed MAE=0.033055 rank=7\n",
      "[SoftImpute] Iter 97: observed MAE=0.033055 rank=7\n",
      "[SoftImpute] Iter 98: observed MAE=0.033055 rank=7\n",
      "[SoftImpute] Iter 99: observed MAE=0.033055 rank=7\n",
      "[SoftImpute] Iter 100: observed MAE=0.033055 rank=7\n",
      "[SoftImpute] Stopped after iteration 100 for lambda=0.450175\n",
      "----------------------------------------------------------------------------\n",
      "\tSCS v2.1.2 - Splitting Conic Solver\n",
      "\t(c) Brendan O'Donoghue, Stanford University, 2012\n",
      "----------------------------------------------------------------------------\n",
      "Lin-sys: sparse-direct, nnz in A = 32469\n",
      "eps = 1.00e-04, alpha = 1.50, max_iters = 100, normalize = 1, scale = 1.00\n",
      "acceleration_lookback = 10, rho_x = 1.00e-03\n",
      "Variables n = 26593, constraints m = 29533\n",
      "Cones:\tprimal zero / dual free vars: 1470\n",
      "\tlinear vars: 4410\n",
      "\tsd vars: 23653, sd blks: 1\n",
      "Setup time: 3.00e-02s\n",
      "----------------------------------------------------------------------------\n",
      " Iter | pri res | dua res | rel gap | pri obj | dua obj | kap/tau | time (s)\n",
      "----------------------------------------------------------------------------\n",
      "     0| 2.17e+21  1.99e+21  1.00e+00 -4.61e+23  8.51e+22  1.08e+23  3.06e-02 \n",
      "   100| 1.75e-03  2.45e-03  1.37e-04  4.92e+01  4.92e+01  6.19e-15  3.55e+00 \n",
      "----------------------------------------------------------------------------\n",
      "Status: Solved/Inaccurate\n",
      "Hit max_iters, solution may be inaccurate, returning best found solution.\n",
      "Timing: Solve time: 3.55e+00s\n",
      "\tLin-sys: nnz in L factor: 89328, avg solve time: 6.29e-04s\n",
      "\tCones: avg projection time: 2.55e-02s\n",
      "\tAcceleration: avg step time: 7.41e-03s\n",
      "----------------------------------------------------------------------------\n",
      "Error metrics:\n",
      "dist(s, K) = 2.3562e-09, dist(y, K*) = 1.5036e-09, s'y/|s||y| = 5.0681e-13\n",
      "primal res: |Ax + s - b|_2 / (1 + |b|_2) = 1.5393e-04\n",
      "dual res:   |A'y + c|_2 / (1 + |c|_2) = 2.0152e-04\n",
      "rel gap:    |c'x + b'y| / (1 + |c'x| + |b'y|) = 8.2907e-05\n",
      "----------------------------------------------------------------------------\n",
      "c'x = 49.0973, -b'y = 49.0890\n",
      "============================================================================\n"
     ]
    },
    {
     "data": {
      "text/plain": [
       "array([0.02216568, 0.18534898, 0.19231731, 0.18722826, 0.18771439,\n",
       "       0.18842451, 0.50136054])"
      ]
     },
     "execution_count": 116,
     "metadata": {
      "tags": []
     },
     "output_type": "execute_result"
    }
   ],
   "source": [
    "    res50 = compute_err(X,y,n,p,3)\n",
    "    res50"
   ]
  },
  {
   "cell_type": "code",
   "execution_count": null,
   "metadata": {
    "id": "tnJEbYI6MZhR"
   },
   "outputs": [],
   "source": []
  },
  {
   "cell_type": "markdown",
   "metadata": {
    "id": "jVFCvLS54T32"
   },
   "source": [
    "## result"
   ]
  },
  {
   "cell_type": "code",
   "execution_count": null,
   "metadata": {
    "colab": {
     "base_uri": "https://localhost:8080/"
    },
    "executionInfo": {
     "elapsed": 770,
     "status": "ok",
     "timestamp": 1604546911114,
     "user": {
      "displayName": "Thu Nguyễn",
      "photoUrl": "https://lh3.googleusercontent.com/a-/AOh14GjaRl8WgKOjLdrEa69IqFm__Rq7udZ763hhFDl9=s64",
      "userId": "04714273295929622355"
     },
     "user_tz": 360
    },
    "id": "WqUjowQ77IaE",
    "outputId": "a593302c-cf24-45dc-e949-1b57fb106fe3"
   },
   "outputs": [
    {
     "data": {
      "text/plain": [
       "array([[0.01553881, 0.19534817, 0.19680394, 0.19630229, 0.19756143,\n",
       "        0.19631132, 0.20408163],\n",
       "       [0.01748592, 0.19381187, 0.19554525, 0.19533633, 0.19545069,\n",
       "        0.19538507, 0.29931973],\n",
       "       [0.0224862 , 0.18818759, 0.19397734, 0.19138403, 0.18459814,\n",
       "        0.19221158, 0.39931973]])"
      ]
     },
     "execution_count": 130,
     "metadata": {
      "tags": []
     },
     "output_type": "execute_result"
    }
   ],
   "source": [
    "seeds = np.vstack((res20,res30,res40))\n",
    "seeds"
   ]
  },
  {
   "cell_type": "markdown",
   "metadata": {
    "id": "Qwd77MJQKfMO"
   },
   "source": [
    "# Parkinson dataset\n",
    "\n",
    "https://archive.ics.uci.edu/ml/datasets/Parkinsons\n"
   ]
  },
  {
   "cell_type": "code",
   "execution_count": null,
   "metadata": {
    "colab": {
     "base_uri": "https://localhost:8080/"
    },
    "executionInfo": {
     "elapsed": 1009,
     "status": "ok",
     "timestamp": 1604541244218,
     "user": {
      "displayName": "Thu Nguyễn",
      "photoUrl": "https://lh3.googleusercontent.com/a-/AOh14GjaRl8WgKOjLdrEa69IqFm__Rq7udZ763hhFDl9=s64",
      "userId": "04714273295929622355"
     },
     "user_tz": 360
    },
    "id": "VGTaZDhOKiUC",
    "outputId": "37f2d6a4-12ea-4f17-d831-082865c0559b"
   },
   "outputs": [
    {
     "data": {
      "text/plain": [
       "array([ 48, 147])"
      ]
     },
     "execution_count": 37,
     "metadata": {
      "tags": []
     },
     "output_type": "execute_result"
    }
   ],
   "source": [
    "data = pd.read_csv('http://archive.ics.uci.edu/ml/machine-learning-databases/parkinsons/parkinsons.data',\n",
    "                  sep = \",\")\n",
    "data = data.drop(['name'], axis = 1)\n",
    "X, y = data.drop(['status'], axis = 1), data['status']\n",
    "X = pd.DataFrame.to_numpy(X)\n",
    "np.array([sum(y==0), sum(y==1)])                   "
   ]
  },
  {
   "cell_type": "code",
   "execution_count": null,
   "metadata": {
    "id": "AnSQlRQvVZ4J"
   },
   "outputs": [],
   "source": [
    "# set random seed and shuffle the data\n",
    "np.random.seed(1)\n",
    "idx = np.arange(len(y))\n",
    "np.random.shuffle(idx)\n",
    "X, y = X[idx,:], y[idx]  "
   ]
  },
  {
   "cell_type": "markdown",
   "metadata": {
    "id": "k-yzh79t9IZI"
   },
   "source": [
    "## 20%"
   ]
  },
  {
   "cell_type": "code",
   "execution_count": null,
   "metadata": {
    "colab": {
     "base_uri": "https://localhost:8080/"
    },
    "executionInfo": {
     "elapsed": 10279,
     "status": "ok",
     "timestamp": 1603957827898,
     "user": {
      "displayName": "Thu Nguyễn",
      "photoUrl": "https://lh3.googleusercontent.com/a-/AOh14GjaRl8WgKOjLdrEa69IqFm__Rq7udZ763hhFDl9=s64",
      "userId": "04714273295929622355"
     },
     "user_tz": 300
    },
    "id": "fuKqlsUbGkPb",
    "outputId": "695ad1c4-5349-436f-cfaa-48f5d86acc2c"
   },
   "outputs": [
    {
     "name": "stdout",
     "output_type": "stream",
     "text": [
      "[SoftImpute] Max Singular Value of X_init = 43.858609\n",
      "[SoftImpute] Iter 1: observed MAE=0.047508 rank=20\n",
      "[SoftImpute] Iter 2: observed MAE=0.047595 rank=19\n",
      "[SoftImpute] Iter 3: observed MAE=0.047654 rank=19\n",
      "[SoftImpute] Iter 4: observed MAE=0.047692 rank=19\n",
      "[SoftImpute] Iter 5: observed MAE=0.047715 rank=19\n",
      "[SoftImpute] Iter 6: observed MAE=0.047729 rank=19\n",
      "[SoftImpute] Iter 7: observed MAE=0.047732 rank=19\n",
      "[SoftImpute] Iter 8: observed MAE=0.047729 rank=19\n",
      "[SoftImpute] Iter 9: observed MAE=0.047721 rank=19\n",
      "[SoftImpute] Iter 10: observed MAE=0.047709 rank=19\n",
      "[SoftImpute] Iter 11: observed MAE=0.047694 rank=19\n",
      "[SoftImpute] Iter 12: observed MAE=0.047673 rank=19\n",
      "[SoftImpute] Iter 13: observed MAE=0.047644 rank=19\n",
      "[SoftImpute] Iter 14: observed MAE=0.047612 rank=19\n",
      "[SoftImpute] Iter 15: observed MAE=0.047583 rank=19\n",
      "[SoftImpute] Iter 16: observed MAE=0.047554 rank=19\n",
      "[SoftImpute] Iter 17: observed MAE=0.047509 rank=18\n",
      "[SoftImpute] Iter 18: observed MAE=0.047465 rank=18\n",
      "[SoftImpute] Iter 19: observed MAE=0.047431 rank=18\n",
      "[SoftImpute] Iter 20: observed MAE=0.047401 rank=18\n",
      "[SoftImpute] Iter 21: observed MAE=0.047377 rank=18\n",
      "[SoftImpute] Iter 22: observed MAE=0.047359 rank=18\n",
      "[SoftImpute] Iter 23: observed MAE=0.047343 rank=18\n",
      "[SoftImpute] Iter 24: observed MAE=0.047330 rank=18\n",
      "[SoftImpute] Iter 25: observed MAE=0.047319 rank=18\n",
      "[SoftImpute] Iter 26: observed MAE=0.047310 rank=18\n",
      "[SoftImpute] Iter 27: observed MAE=0.047303 rank=18\n",
      "[SoftImpute] Iter 28: observed MAE=0.047298 rank=18\n",
      "[SoftImpute] Iter 29: observed MAE=0.047293 rank=18\n",
      "[SoftImpute] Iter 30: observed MAE=0.047289 rank=18\n",
      "[SoftImpute] Iter 31: observed MAE=0.047286 rank=18\n",
      "[SoftImpute] Iter 32: observed MAE=0.047283 rank=18\n",
      "[SoftImpute] Iter 33: observed MAE=0.047280 rank=18\n",
      "[SoftImpute] Iter 34: observed MAE=0.047278 rank=18\n",
      "[SoftImpute] Iter 35: observed MAE=0.047276 rank=18\n",
      "[SoftImpute] Iter 36: observed MAE=0.047274 rank=18\n",
      "[SoftImpute] Iter 37: observed MAE=0.047273 rank=18\n",
      "[SoftImpute] Iter 38: observed MAE=0.047271 rank=18\n",
      "[SoftImpute] Iter 39: observed MAE=0.047270 rank=18\n",
      "[SoftImpute] Iter 40: observed MAE=0.047269 rank=18\n",
      "[SoftImpute] Iter 41: observed MAE=0.047267 rank=18\n",
      "[SoftImpute] Iter 42: observed MAE=0.047266 rank=18\n",
      "[SoftImpute] Iter 43: observed MAE=0.047265 rank=18\n",
      "[SoftImpute] Iter 44: observed MAE=0.047264 rank=18\n",
      "[SoftImpute] Iter 45: observed MAE=0.047263 rank=18\n",
      "[SoftImpute] Iter 46: observed MAE=0.047262 rank=18\n",
      "[SoftImpute] Iter 47: observed MAE=0.047262 rank=18\n",
      "[SoftImpute] Iter 48: observed MAE=0.047261 rank=18\n",
      "[SoftImpute] Iter 49: observed MAE=0.047260 rank=18\n",
      "[SoftImpute] Iter 50: observed MAE=0.047259 rank=18\n",
      "[SoftImpute] Iter 51: observed MAE=0.047259 rank=18\n",
      "[SoftImpute] Iter 52: observed MAE=0.047258 rank=18\n",
      "[SoftImpute] Iter 53: observed MAE=0.047258 rank=18\n",
      "[SoftImpute] Iter 54: observed MAE=0.047257 rank=18\n",
      "[SoftImpute] Iter 55: observed MAE=0.047256 rank=18\n",
      "[SoftImpute] Iter 56: observed MAE=0.047256 rank=18\n",
      "[SoftImpute] Iter 57: observed MAE=0.047255 rank=18\n",
      "[SoftImpute] Iter 58: observed MAE=0.047255 rank=18\n",
      "[SoftImpute] Iter 59: observed MAE=0.047254 rank=18\n",
      "[SoftImpute] Iter 60: observed MAE=0.047254 rank=18\n",
      "[SoftImpute] Iter 61: observed MAE=0.047253 rank=18\n",
      "[SoftImpute] Iter 62: observed MAE=0.047253 rank=18\n",
      "[SoftImpute] Iter 63: observed MAE=0.047253 rank=18\n",
      "[SoftImpute] Iter 64: observed MAE=0.047252 rank=18\n",
      "[SoftImpute] Iter 65: observed MAE=0.047252 rank=18\n",
      "[SoftImpute] Iter 66: observed MAE=0.047251 rank=18\n",
      "[SoftImpute] Iter 67: observed MAE=0.047251 rank=18\n",
      "[SoftImpute] Iter 68: observed MAE=0.047251 rank=18\n",
      "[SoftImpute] Iter 69: observed MAE=0.047250 rank=18\n",
      "[SoftImpute] Iter 70: observed MAE=0.047250 rank=18\n",
      "[SoftImpute] Iter 71: observed MAE=0.047250 rank=18\n",
      "[SoftImpute] Iter 72: observed MAE=0.047249 rank=18\n",
      "[SoftImpute] Iter 73: observed MAE=0.047249 rank=18\n",
      "[SoftImpute] Iter 74: observed MAE=0.047249 rank=18\n",
      "[SoftImpute] Iter 75: observed MAE=0.047249 rank=18\n",
      "[SoftImpute] Iter 76: observed MAE=0.047248 rank=18\n",
      "[SoftImpute] Iter 77: observed MAE=0.047248 rank=18\n",
      "[SoftImpute] Iter 78: observed MAE=0.047248 rank=18\n",
      "[SoftImpute] Iter 79: observed MAE=0.047248 rank=18\n",
      "[SoftImpute] Iter 80: observed MAE=0.047247 rank=18\n",
      "[SoftImpute] Iter 81: observed MAE=0.047247 rank=18\n",
      "[SoftImpute] Iter 82: observed MAE=0.047247 rank=18\n",
      "[SoftImpute] Iter 83: observed MAE=0.047247 rank=18\n",
      "[SoftImpute] Iter 84: observed MAE=0.047247 rank=18\n",
      "[SoftImpute] Iter 85: observed MAE=0.047246 rank=18\n",
      "[SoftImpute] Iter 86: observed MAE=0.047246 rank=18\n",
      "[SoftImpute] Iter 87: observed MAE=0.047246 rank=18\n",
      "[SoftImpute] Iter 88: observed MAE=0.047246 rank=18\n",
      "[SoftImpute] Iter 89: observed MAE=0.047246 rank=18\n",
      "[SoftImpute] Iter 90: observed MAE=0.047245 rank=18\n",
      "[SoftImpute] Iter 91: observed MAE=0.047245 rank=18\n",
      "[SoftImpute] Iter 92: observed MAE=0.047245 rank=18\n",
      "[SoftImpute] Iter 93: observed MAE=0.047245 rank=18\n",
      "[SoftImpute] Iter 94: observed MAE=0.047245 rank=18\n",
      "[SoftImpute] Iter 95: observed MAE=0.047245 rank=18\n",
      "[SoftImpute] Iter 96: observed MAE=0.047244 rank=18\n",
      "[SoftImpute] Stopped after iteration 96 for lambda=0.877172\n"
     ]
    },
    {
     "name": "stderr",
     "output_type": "stream",
     "text": [
      "/usr/local/lib/python3.6/dist-packages/sklearn/impute/_iterative.py:638: ConvergenceWarning: [IterativeImputer] Early stopping criterion not reached.\n",
      "  \" reached.\", ConvergenceWarning)\n"
     ]
    },
    {
     "name": "stdout",
     "output_type": "stream",
     "text": [
      "----------------------------------------------------------------------------\n",
      "\tSCS v2.1.2 - Splitting Conic Solver\n",
      "\t(c) Brendan O'Donoghue, Stanford University, 2012\n",
      "----------------------------------------------------------------------------\n",
      "Lin-sys: sparse-direct, nnz in A = 51993\n",
      "eps = 1.00e-04, alpha = 1.50, max_iters = 100, normalize = 1, scale = 1.00\n",
      "acceleration_lookback = 10, rho_x = 1.00e-03\n",
      "Variables n = 32233, constraints m = 40813\n",
      "Cones:\tprimal zero / dual free vars: 4290\n",
      "\tlinear vars: 12870\n",
      "\tsd vars: 23653, sd blks: 1\n",
      "Setup time: 4.36e-02s\n",
      "----------------------------------------------------------------------------\n",
      " Iter | pri res | dua res | rel gap | pri obj | dua obj | kap/tau | time (s)\n",
      "----------------------------------------------------------------------------\n",
      "     0| 2.23e+21  2.09e+21  1.00e+00 -9.85e+23  2.04e+23  3.35e+23  4.21e-02 \n",
      "   100| 1.86e-04  1.72e-04  2.54e-05  1.71e+02  1.71e+02  6.82e-15  3.81e+00 \n",
      "----------------------------------------------------------------------------\n",
      "Status: Solved/Inaccurate\n",
      "Hit max_iters, solution may be inaccurate, returning best found solution.\n",
      "Timing: Solve time: 3.81e+00s\n",
      "\tLin-sys: nnz in L factor: 128484, avg solve time: 9.04e-04s\n",
      "\tCones: avg projection time: 2.48e-02s\n",
      "\tAcceleration: avg step time: 9.90e-03s\n",
      "----------------------------------------------------------------------------\n",
      "Error metrics:\n",
      "dist(s, K) = 2.1218e-09, dist(y, K*) = 1.9601e-09, s'y/|s||y| = -1.4175e-13\n",
      "primal res: |Ax + s - b|_2 / (1 + |b|_2) = 1.8588e-04\n",
      "dual res:   |A'y + c|_2 / (1 + |c|_2) = 1.7191e-04\n",
      "rel gap:    |c'x + b'y| / (1 + |c'x| + |b'y|) = 2.5356e-05\n",
      "----------------------------------------------------------------------------\n",
      "c'x = 171.1793, -b'y = 171.1880\n",
      "============================================================================\n"
     ]
    }
   ],
   "source": [
    "    n = np.array([[sum(y==0),40,35, 30],\n",
    "                  [sum(y==1),120,110,100]])\n",
    "    p = np.array([6,10,15,22])\n",
    "    res20 = compute_err(X,y, n, p, 2)"
   ]
  },
  {
   "cell_type": "code",
   "execution_count": null,
   "metadata": {
    "colab": {
     "base_uri": "https://localhost:8080/"
    },
    "executionInfo": {
     "elapsed": 1089,
     "status": "ok",
     "timestamp": 1603957847620,
     "user": {
      "displayName": "Thu Nguyễn",
      "photoUrl": "https://lh3.googleusercontent.com/a-/AOh14GjaRl8WgKOjLdrEa69IqFm__Rq7udZ763hhFDl9=s64",
      "userId": "04714273295929622355"
     },
     "user_tz": 300
    },
    "id": "Evz1DImO5JBm",
    "outputId": "1d53d6d4-8b8b-4788-b5e5-1728e2a435b8"
   },
   "outputs": [
    {
     "data": {
      "text/plain": [
       "array([0.01541584, 0.06242301, 0.05919733, 0.06078882, 0.06369383,\n",
       "       0.0607681 , 0.1969697 ])"
      ]
     },
     "execution_count": 30,
     "metadata": {
      "tags": []
     },
     "output_type": "execute_result"
    }
   ],
   "source": [
    "res20"
   ]
  },
  {
   "cell_type": "markdown",
   "metadata": {
    "id": "9WlMVFJZ9Lcn"
   },
   "source": [
    "## 30%"
   ]
  },
  {
   "cell_type": "code",
   "execution_count": null,
   "metadata": {
    "colab": {
     "base_uri": "https://localhost:8080/"
    },
    "executionInfo": {
     "elapsed": 10827,
     "status": "ok",
     "timestamp": 1603957863290,
     "user": {
      "displayName": "Thu Nguyễn",
      "photoUrl": "https://lh3.googleusercontent.com/a-/AOh14GjaRl8WgKOjLdrEa69IqFm__Rq7udZ763hhFDl9=s64",
      "userId": "04714273295929622355"
     },
     "user_tz": 300
    },
    "id": "tMIXsvmJYWeC",
    "outputId": "4647f654-6a2c-41a5-e99d-bdc31510180e"
   },
   "outputs": [
    {
     "name": "stdout",
     "output_type": "stream",
     "text": [
      "[SoftImpute] Max Singular Value of X_init = 38.482354\n",
      "[SoftImpute] Iter 1: observed MAE=0.042989 rank=19\n",
      "[SoftImpute] Iter 2: observed MAE=0.043168 rank=19\n",
      "[SoftImpute] Iter 3: observed MAE=0.043298 rank=19\n",
      "[SoftImpute] Iter 4: observed MAE=0.043399 rank=19\n",
      "[SoftImpute] Iter 5: observed MAE=0.043478 rank=19\n",
      "[SoftImpute] Iter 6: observed MAE=0.043540 rank=19\n",
      "[SoftImpute] Iter 7: observed MAE=0.043593 rank=19\n",
      "[SoftImpute] Iter 8: observed MAE=0.043640 rank=19\n",
      "[SoftImpute] Iter 9: observed MAE=0.043681 rank=19\n",
      "[SoftImpute] Iter 10: observed MAE=0.043716 rank=19\n",
      "[SoftImpute] Iter 11: observed MAE=0.043747 rank=19\n",
      "[SoftImpute] Iter 12: observed MAE=0.043776 rank=19\n",
      "[SoftImpute] Iter 13: observed MAE=0.043802 rank=19\n",
      "[SoftImpute] Iter 14: observed MAE=0.043825 rank=19\n",
      "[SoftImpute] Iter 15: observed MAE=0.043848 rank=19\n",
      "[SoftImpute] Iter 16: observed MAE=0.043870 rank=19\n",
      "[SoftImpute] Iter 17: observed MAE=0.043891 rank=19\n",
      "[SoftImpute] Iter 18: observed MAE=0.043910 rank=19\n",
      "[SoftImpute] Iter 19: observed MAE=0.043928 rank=19\n",
      "[SoftImpute] Iter 20: observed MAE=0.043945 rank=19\n",
      "[SoftImpute] Iter 21: observed MAE=0.043961 rank=19\n",
      "[SoftImpute] Iter 22: observed MAE=0.043977 rank=19\n",
      "[SoftImpute] Iter 23: observed MAE=0.043995 rank=19\n",
      "[SoftImpute] Iter 24: observed MAE=0.044012 rank=19\n",
      "[SoftImpute] Iter 25: observed MAE=0.044027 rank=19\n",
      "[SoftImpute] Iter 26: observed MAE=0.044042 rank=19\n",
      "[SoftImpute] Iter 27: observed MAE=0.044057 rank=19\n",
      "[SoftImpute] Iter 28: observed MAE=0.044072 rank=19\n",
      "[SoftImpute] Iter 29: observed MAE=0.044086 rank=19\n",
      "[SoftImpute] Iter 30: observed MAE=0.044099 rank=19\n",
      "[SoftImpute] Iter 31: observed MAE=0.044110 rank=19\n",
      "[SoftImpute] Iter 32: observed MAE=0.044120 rank=19\n",
      "[SoftImpute] Iter 33: observed MAE=0.044129 rank=19\n",
      "[SoftImpute] Iter 34: observed MAE=0.044137 rank=19\n",
      "[SoftImpute] Iter 35: observed MAE=0.044143 rank=19\n",
      "[SoftImpute] Iter 36: observed MAE=0.044150 rank=19\n",
      "[SoftImpute] Iter 37: observed MAE=0.044156 rank=19\n",
      "[SoftImpute] Iter 38: observed MAE=0.044163 rank=19\n",
      "[SoftImpute] Iter 39: observed MAE=0.044168 rank=19\n",
      "[SoftImpute] Iter 40: observed MAE=0.044172 rank=19\n",
      "[SoftImpute] Iter 41: observed MAE=0.044176 rank=19\n",
      "[SoftImpute] Iter 42: observed MAE=0.044178 rank=19\n",
      "[SoftImpute] Iter 43: observed MAE=0.044181 rank=19\n",
      "[SoftImpute] Iter 44: observed MAE=0.044183 rank=19\n",
      "[SoftImpute] Iter 45: observed MAE=0.044185 rank=19\n",
      "[SoftImpute] Iter 46: observed MAE=0.044187 rank=19\n",
      "[SoftImpute] Iter 47: observed MAE=0.044188 rank=19\n",
      "[SoftImpute] Iter 48: observed MAE=0.044189 rank=19\n",
      "[SoftImpute] Iter 49: observed MAE=0.044189 rank=19\n",
      "[SoftImpute] Iter 50: observed MAE=0.044190 rank=19\n",
      "[SoftImpute] Iter 51: observed MAE=0.044190 rank=19\n",
      "[SoftImpute] Iter 52: observed MAE=0.044190 rank=19\n",
      "[SoftImpute] Iter 53: observed MAE=0.044191 rank=19\n",
      "[SoftImpute] Iter 54: observed MAE=0.044192 rank=19\n",
      "[SoftImpute] Iter 55: observed MAE=0.044192 rank=19\n",
      "[SoftImpute] Iter 56: observed MAE=0.044193 rank=19\n",
      "[SoftImpute] Iter 57: observed MAE=0.044194 rank=19\n",
      "[SoftImpute] Iter 58: observed MAE=0.044194 rank=19\n",
      "[SoftImpute] Iter 59: observed MAE=0.044195 rank=19\n",
      "[SoftImpute] Iter 60: observed MAE=0.044196 rank=19\n",
      "[SoftImpute] Iter 61: observed MAE=0.044196 rank=19\n",
      "[SoftImpute] Iter 62: observed MAE=0.044197 rank=19\n",
      "[SoftImpute] Iter 63: observed MAE=0.044198 rank=19\n",
      "[SoftImpute] Iter 64: observed MAE=0.044198 rank=19\n",
      "[SoftImpute] Iter 65: observed MAE=0.044199 rank=19\n",
      "[SoftImpute] Iter 66: observed MAE=0.044199 rank=19\n",
      "[SoftImpute] Iter 67: observed MAE=0.044200 rank=19\n",
      "[SoftImpute] Iter 68: observed MAE=0.044200 rank=19\n",
      "[SoftImpute] Iter 69: observed MAE=0.044201 rank=19\n",
      "[SoftImpute] Iter 70: observed MAE=0.044201 rank=19\n",
      "[SoftImpute] Iter 71: observed MAE=0.044202 rank=19\n",
      "[SoftImpute] Iter 72: observed MAE=0.044202 rank=19\n",
      "[SoftImpute] Iter 73: observed MAE=0.044203 rank=19\n",
      "[SoftImpute] Iter 74: observed MAE=0.044203 rank=19\n",
      "[SoftImpute] Iter 75: observed MAE=0.044204 rank=19\n",
      "[SoftImpute] Iter 76: observed MAE=0.044205 rank=19\n",
      "[SoftImpute] Iter 77: observed MAE=0.044205 rank=19\n",
      "[SoftImpute] Iter 78: observed MAE=0.044206 rank=19\n",
      "[SoftImpute] Iter 79: observed MAE=0.044206 rank=19\n",
      "[SoftImpute] Iter 80: observed MAE=0.044207 rank=19\n",
      "[SoftImpute] Iter 81: observed MAE=0.044207 rank=19\n",
      "[SoftImpute] Iter 82: observed MAE=0.044207 rank=19\n",
      "[SoftImpute] Iter 83: observed MAE=0.044208 rank=19\n",
      "[SoftImpute] Iter 84: observed MAE=0.044208 rank=19\n",
      "[SoftImpute] Iter 85: observed MAE=0.044209 rank=19\n",
      "[SoftImpute] Iter 86: observed MAE=0.044209 rank=19\n",
      "[SoftImpute] Iter 87: observed MAE=0.044210 rank=19\n",
      "[SoftImpute] Iter 88: observed MAE=0.044210 rank=19\n",
      "[SoftImpute] Iter 89: observed MAE=0.044211 rank=19\n",
      "[SoftImpute] Iter 90: observed MAE=0.044211 rank=19\n",
      "[SoftImpute] Iter 91: observed MAE=0.044212 rank=19\n",
      "[SoftImpute] Iter 92: observed MAE=0.044212 rank=19\n",
      "[SoftImpute] Iter 93: observed MAE=0.044212 rank=19\n",
      "[SoftImpute] Iter 94: observed MAE=0.044213 rank=19\n",
      "[SoftImpute] Iter 95: observed MAE=0.044213 rank=19\n",
      "[SoftImpute] Iter 96: observed MAE=0.044214 rank=19\n",
      "[SoftImpute] Iter 97: observed MAE=0.044214 rank=19\n",
      "[SoftImpute] Iter 98: observed MAE=0.044215 rank=19\n",
      "[SoftImpute] Iter 99: observed MAE=0.044215 rank=19\n",
      "[SoftImpute] Iter 100: observed MAE=0.044215 rank=19\n",
      "[SoftImpute] Stopped after iteration 100 for lambda=0.769647\n"
     ]
    },
    {
     "name": "stderr",
     "output_type": "stream",
     "text": [
      "/usr/local/lib/python3.6/dist-packages/sklearn/impute/_iterative.py:638: ConvergenceWarning: [IterativeImputer] Early stopping criterion not reached.\n",
      "  \" reached.\", ConvergenceWarning)\n"
     ]
    },
    {
     "name": "stdout",
     "output_type": "stream",
     "text": [
      "----------------------------------------------------------------------------\n",
      "\tSCS v2.1.2 - Splitting Conic Solver\n",
      "\t(c) Brendan O'Donoghue, Stanford University, 2012\n",
      "----------------------------------------------------------------------------\n",
      "Lin-sys: sparse-direct, nnz in A = 51091\n",
      "eps = 1.00e-04, alpha = 1.50, max_iters = 100, normalize = 1, scale = 1.00\n",
      "acceleration_lookback = 10, rho_x = 1.00e-03\n",
      "Variables n = 32233, constraints m = 40813\n",
      "Cones:\tprimal zero / dual free vars: 4290\n",
      "\tlinear vars: 12870\n",
      "\tsd vars: 23653, sd blks: 1\n",
      "Setup time: 4.45e-02s\n",
      "----------------------------------------------------------------------------\n",
      " Iter | pri res | dua res | rel gap | pri obj | dua obj | kap/tau | time (s)\n",
      "----------------------------------------------------------------------------\n",
      "     0| 2.25e+21  2.11e+21  1.00e+00 -9.28e+23  1.93e+23  3.06e+23  2.57e-02 \n",
      "   100| 1.20e-03  1.27e-03  1.59e-04  1.64e+02  1.64e+02  4.93e-14  3.78e+00 \n",
      "----------------------------------------------------------------------------\n",
      "Status: Solved/Inaccurate\n",
      "Hit max_iters, solution may be inaccurate, returning best found solution.\n",
      "Timing: Solve time: 3.79e+00s\n",
      "\tLin-sys: nnz in L factor: 127131, avg solve time: 8.96e-04s\n",
      "\tCones: avg projection time: 2.45e-02s\n",
      "\tAcceleration: avg step time: 9.97e-03s\n",
      "----------------------------------------------------------------------------\n",
      "Error metrics:\n",
      "dist(s, K) = 2.3976e-09, dist(y, K*) = 3.2823e-09, s'y/|s||y| = 2.3118e-13\n",
      "primal res: |Ax + s - b|_2 / (1 + |b|_2) = 2.5111e-04\n",
      "dual res:   |A'y + c|_2 / (1 + |c|_2) = 2.4047e-04\n",
      "rel gap:    |c'x + b'y| / (1 + |c'x| + |b'y|) = 1.0712e-04\n",
      "----------------------------------------------------------------------------\n",
      "c'x = 164.2152, -b'y = 164.1799\n",
      "============================================================================\n"
     ]
    }
   ],
   "source": [
    "    n = np.array([[sum(y==0),30,27,25],\n",
    "                  [sum(y==1),100,90,85]])\n",
    "    p = np.array([5,10,17,22])\n",
    "    res30 = compute_err(X,y, n, p, 2)"
   ]
  },
  {
   "cell_type": "code",
   "execution_count": null,
   "metadata": {
    "colab": {
     "base_uri": "https://localhost:8080/"
    },
    "executionInfo": {
     "elapsed": 906,
     "status": "ok",
     "timestamp": 1603957873229,
     "user": {
      "displayName": "Thu Nguyễn",
      "photoUrl": "https://lh3.googleusercontent.com/a-/AOh14GjaRl8WgKOjLdrEa69IqFm__Rq7udZ763hhFDl9=s64",
      "userId": "04714273295929622355"
     },
     "user_tz": 300
    },
    "id": "XajRZfIhsO5t",
    "outputId": "f7ad1417-a3dd-46ab-8730-9971c788ccff"
   },
   "outputs": [
    {
     "data": {
      "text/plain": [
       "array([0.01718869, 0.06574795, 0.06367668, 0.06340785, 0.06796594,\n",
       "       0.06322138, 0.3020979 ])"
      ]
     },
     "execution_count": 32,
     "metadata": {
      "tags": []
     },
     "output_type": "execute_result"
    }
   ],
   "source": [
    "    res30"
   ]
  },
  {
   "cell_type": "markdown",
   "metadata": {
    "id": "hFkG9R7k9Qof"
   },
   "source": [
    "## 40%"
   ]
  },
  {
   "cell_type": "code",
   "execution_count": null,
   "metadata": {
    "colab": {
     "base_uri": "https://localhost:8080/"
    },
    "executionInfo": {
     "elapsed": 11140,
     "status": "ok",
     "timestamp": 1603957902926,
     "user": {
      "displayName": "Thu Nguyễn",
      "photoUrl": "https://lh3.googleusercontent.com/a-/AOh14GjaRl8WgKOjLdrEa69IqFm__Rq7udZ763hhFDl9=s64",
      "userId": "04714273295929622355"
     },
     "user_tz": 300
    },
    "id": "KBLbdSr4BrD5",
    "outputId": "2bf9b419-1d40-43f0-ccd1-dd1f805045dd"
   },
   "outputs": [
    {
     "name": "stdout",
     "output_type": "stream",
     "text": [
      "[SoftImpute] Max Singular Value of X_init = 34.067043\n",
      "[SoftImpute] Iter 1: observed MAE=0.040371 rank=20\n",
      "[SoftImpute] Iter 2: observed MAE=0.040520 rank=20\n",
      "[SoftImpute] Iter 3: observed MAE=0.040634 rank=20\n",
      "[SoftImpute] Iter 4: observed MAE=0.040730 rank=20\n",
      "[SoftImpute] Iter 5: observed MAE=0.040807 rank=20\n",
      "[SoftImpute] Iter 6: observed MAE=0.040874 rank=20\n",
      "[SoftImpute] Iter 7: observed MAE=0.040930 rank=20\n",
      "[SoftImpute] Iter 8: observed MAE=0.040976 rank=20\n",
      "[SoftImpute] Iter 9: observed MAE=0.041013 rank=20\n",
      "[SoftImpute] Iter 10: observed MAE=0.041046 rank=20\n",
      "[SoftImpute] Iter 11: observed MAE=0.041072 rank=20\n",
      "[SoftImpute] Iter 12: observed MAE=0.041096 rank=20\n",
      "[SoftImpute] Iter 13: observed MAE=0.041117 rank=20\n",
      "[SoftImpute] Iter 14: observed MAE=0.041137 rank=20\n",
      "[SoftImpute] Iter 15: observed MAE=0.041155 rank=20\n",
      "[SoftImpute] Iter 16: observed MAE=0.041170 rank=20\n",
      "[SoftImpute] Iter 17: observed MAE=0.041185 rank=20\n",
      "[SoftImpute] Iter 18: observed MAE=0.041197 rank=20\n",
      "[SoftImpute] Iter 19: observed MAE=0.041207 rank=20\n",
      "[SoftImpute] Iter 20: observed MAE=0.041216 rank=20\n",
      "[SoftImpute] Iter 21: observed MAE=0.041224 rank=20\n",
      "[SoftImpute] Iter 22: observed MAE=0.041231 rank=20\n",
      "[SoftImpute] Iter 23: observed MAE=0.041237 rank=20\n",
      "[SoftImpute] Iter 24: observed MAE=0.041243 rank=20\n",
      "[SoftImpute] Iter 25: observed MAE=0.041247 rank=20\n",
      "[SoftImpute] Iter 26: observed MAE=0.041251 rank=20\n",
      "[SoftImpute] Iter 27: observed MAE=0.041255 rank=20\n",
      "[SoftImpute] Iter 28: observed MAE=0.041258 rank=20\n",
      "[SoftImpute] Iter 29: observed MAE=0.041261 rank=20\n",
      "[SoftImpute] Iter 30: observed MAE=0.041264 rank=20\n",
      "[SoftImpute] Iter 31: observed MAE=0.041266 rank=20\n",
      "[SoftImpute] Iter 32: observed MAE=0.041267 rank=20\n",
      "[SoftImpute] Iter 33: observed MAE=0.041269 rank=20\n",
      "[SoftImpute] Iter 34: observed MAE=0.041270 rank=20\n",
      "[SoftImpute] Iter 35: observed MAE=0.041271 rank=20\n",
      "[SoftImpute] Iter 36: observed MAE=0.041272 rank=20\n",
      "[SoftImpute] Iter 37: observed MAE=0.041274 rank=20\n",
      "[SoftImpute] Iter 38: observed MAE=0.041274 rank=20\n",
      "[SoftImpute] Iter 39: observed MAE=0.041275 rank=20\n",
      "[SoftImpute] Iter 40: observed MAE=0.041276 rank=20\n",
      "[SoftImpute] Iter 41: observed MAE=0.041277 rank=20\n",
      "[SoftImpute] Iter 42: observed MAE=0.041278 rank=20\n",
      "[SoftImpute] Iter 43: observed MAE=0.041280 rank=20\n",
      "[SoftImpute] Iter 44: observed MAE=0.041282 rank=20\n",
      "[SoftImpute] Iter 45: observed MAE=0.041283 rank=20\n",
      "[SoftImpute] Iter 46: observed MAE=0.041285 rank=20\n",
      "[SoftImpute] Iter 47: observed MAE=0.041286 rank=20\n",
      "[SoftImpute] Iter 48: observed MAE=0.041287 rank=20\n",
      "[SoftImpute] Iter 49: observed MAE=0.041289 rank=20\n",
      "[SoftImpute] Iter 50: observed MAE=0.041290 rank=20\n",
      "[SoftImpute] Iter 51: observed MAE=0.041291 rank=20\n",
      "[SoftImpute] Iter 52: observed MAE=0.041292 rank=20\n",
      "[SoftImpute] Iter 53: observed MAE=0.041293 rank=20\n",
      "[SoftImpute] Iter 54: observed MAE=0.041295 rank=20\n",
      "[SoftImpute] Iter 55: observed MAE=0.041297 rank=20\n",
      "[SoftImpute] Iter 56: observed MAE=0.041299 rank=20\n",
      "[SoftImpute] Iter 57: observed MAE=0.041300 rank=20\n",
      "[SoftImpute] Iter 58: observed MAE=0.041302 rank=20\n",
      "[SoftImpute] Iter 59: observed MAE=0.041304 rank=20\n",
      "[SoftImpute] Iter 60: observed MAE=0.041305 rank=20\n",
      "[SoftImpute] Iter 61: observed MAE=0.041307 rank=20\n",
      "[SoftImpute] Iter 62: observed MAE=0.041308 rank=20\n",
      "[SoftImpute] Iter 63: observed MAE=0.041310 rank=20\n",
      "[SoftImpute] Iter 64: observed MAE=0.041311 rank=20\n",
      "[SoftImpute] Iter 65: observed MAE=0.041313 rank=20\n",
      "[SoftImpute] Iter 66: observed MAE=0.041315 rank=20\n",
      "[SoftImpute] Iter 67: observed MAE=0.041317 rank=20\n",
      "[SoftImpute] Iter 68: observed MAE=0.041318 rank=20\n",
      "[SoftImpute] Iter 69: observed MAE=0.041320 rank=20\n",
      "[SoftImpute] Iter 70: observed MAE=0.041322 rank=20\n",
      "[SoftImpute] Iter 71: observed MAE=0.041325 rank=20\n",
      "[SoftImpute] Iter 72: observed MAE=0.041327 rank=20\n",
      "[SoftImpute] Iter 73: observed MAE=0.041329 rank=20\n",
      "[SoftImpute] Iter 74: observed MAE=0.041331 rank=20\n",
      "[SoftImpute] Iter 75: observed MAE=0.041333 rank=20\n",
      "[SoftImpute] Iter 76: observed MAE=0.041334 rank=20\n",
      "[SoftImpute] Iter 77: observed MAE=0.041336 rank=20\n",
      "[SoftImpute] Iter 78: observed MAE=0.041338 rank=20\n",
      "[SoftImpute] Iter 79: observed MAE=0.041340 rank=20\n",
      "[SoftImpute] Iter 80: observed MAE=0.041342 rank=20\n",
      "[SoftImpute] Iter 81: observed MAE=0.041344 rank=20\n",
      "[SoftImpute] Iter 82: observed MAE=0.041346 rank=20\n",
      "[SoftImpute] Iter 83: observed MAE=0.041347 rank=20\n",
      "[SoftImpute] Iter 84: observed MAE=0.041349 rank=20\n",
      "[SoftImpute] Iter 85: observed MAE=0.041351 rank=20\n",
      "[SoftImpute] Iter 86: observed MAE=0.041352 rank=20\n",
      "[SoftImpute] Iter 87: observed MAE=0.041354 rank=20\n",
      "[SoftImpute] Iter 88: observed MAE=0.041355 rank=20\n",
      "[SoftImpute] Iter 89: observed MAE=0.041357 rank=20\n",
      "[SoftImpute] Iter 90: observed MAE=0.041358 rank=20\n",
      "[SoftImpute] Iter 91: observed MAE=0.041360 rank=20\n",
      "[SoftImpute] Iter 92: observed MAE=0.041361 rank=20\n",
      "[SoftImpute] Iter 93: observed MAE=0.041363 rank=20\n",
      "[SoftImpute] Iter 94: observed MAE=0.041364 rank=20\n",
      "[SoftImpute] Iter 95: observed MAE=0.041366 rank=20\n",
      "[SoftImpute] Iter 96: observed MAE=0.041367 rank=20\n",
      "[SoftImpute] Iter 97: observed MAE=0.041368 rank=20\n",
      "[SoftImpute] Iter 98: observed MAE=0.041370 rank=20\n",
      "[SoftImpute] Iter 99: observed MAE=0.041371 rank=20\n",
      "[SoftImpute] Iter 100: observed MAE=0.041372 rank=20\n",
      "[SoftImpute] Stopped after iteration 100 for lambda=0.681341\n"
     ]
    },
    {
     "name": "stderr",
     "output_type": "stream",
     "text": [
      "/usr/local/lib/python3.6/dist-packages/sklearn/impute/_iterative.py:638: ConvergenceWarning: [IterativeImputer] Early stopping criterion not reached.\n",
      "  \" reached.\", ConvergenceWarning)\n"
     ]
    },
    {
     "name": "stdout",
     "output_type": "stream",
     "text": [
      "----------------------------------------------------------------------------\n",
      "\tSCS v2.1.2 - Splitting Conic Solver\n",
      "\t(c) Brendan O'Donoghue, Stanford University, 2012\n",
      "----------------------------------------------------------------------------\n",
      "Lin-sys: sparse-direct, nnz in A = 50293\n",
      "eps = 1.00e-04, alpha = 1.50, max_iters = 100, normalize = 1, scale = 1.00\n",
      "acceleration_lookback = 10, rho_x = 1.00e-03\n",
      "Variables n = 32233, constraints m = 40813\n",
      "Cones:\tprimal zero / dual free vars: 4290\n",
      "\tlinear vars: 12870\n",
      "\tsd vars: 23653, sd blks: 1\n",
      "Setup time: 3.98e-02s\n",
      "----------------------------------------------------------------------------\n",
      " Iter | pri res | dua res | rel gap | pri obj | dua obj | kap/tau | time (s)\n",
      "----------------------------------------------------------------------------\n",
      "     0| 2.27e+21  2.12e+21  1.00e+00 -8.72e+23  1.81e+23  2.79e+23  2.98e-02 \n",
      "   100| 3.89e-04  6.05e-04  1.36e-04  1.58e+02  1.58e+02  2.86e-14  3.75e+00 \n",
      "----------------------------------------------------------------------------\n",
      "Status: Solved/Inaccurate\n",
      "Hit max_iters, solution may be inaccurate, returning best found solution.\n",
      "Timing: Solve time: 3.75e+00s\n",
      "\tLin-sys: nnz in L factor: 125934, avg solve time: 8.85e-04s\n",
      "\tCones: avg projection time: 2.44e-02s\n",
      "\tAcceleration: avg step time: 9.68e-03s\n",
      "----------------------------------------------------------------------------\n",
      "Error metrics:\n",
      "dist(s, K) = 1.6395e-09, dist(y, K*) = 1.3763e-09, s'y/|s||y| = -5.6656e-13\n",
      "primal res: |Ax + s - b|_2 / (1 + |b|_2) = 2.8508e-04\n",
      "dual res:   |A'y + c|_2 / (1 + |c|_2) = 2.6834e-04\n",
      "rel gap:    |c'x + b'y| / (1 + |c'x| + |b'y|) = 7.1417e-05\n",
      "----------------------------------------------------------------------------\n",
      "c'x = 157.5614, -b'y = 157.5840\n",
      "============================================================================\n"
     ]
    }
   ],
   "source": [
    "    n = np.array([[sum(y==0),30,25,21],\n",
    "                  [sum(y==1),90,70,50]])\n",
    "    p = np.array([5,10,17,22])\n",
    "    res40 = compute_err(X,y, n, p, 2)"
   ]
  },
  {
   "cell_type": "code",
   "execution_count": null,
   "metadata": {
    "colab": {
     "base_uri": "https://localhost:8080/"
    },
    "executionInfo": {
     "elapsed": 865,
     "status": "ok",
     "timestamp": 1603957918462,
     "user": {
      "displayName": "Thu Nguyễn",
      "photoUrl": "https://lh3.googleusercontent.com/a-/AOh14GjaRl8WgKOjLdrEa69IqFm__Rq7udZ763hhFDl9=s64",
      "userId": "04714273295929622355"
     },
     "user_tz": 300
    },
    "id": "IvIRhYplBv35",
    "outputId": "85bf1587-2bf1-4494-866b-789ef7a9d239"
   },
   "outputs": [
    {
     "data": {
      "text/plain": [
       "array([[0.01541584, 0.06242301, 0.05919733, 0.06078882, 0.06369383,\n",
       "        0.0607681 , 0.1969697 ],\n",
       "       [0.01718869, 0.06574795, 0.06367668, 0.06340785, 0.06796594,\n",
       "        0.06322138, 0.3020979 ],\n",
       "       [0.02186154, 0.07250771, 0.07307222, 0.06974819, 0.07422517,\n",
       "        0.06905229, 0.3951049 ]])"
      ]
     },
     "execution_count": 34,
     "metadata": {
      "tags": []
     },
     "output_type": "execute_result"
    }
   ],
   "source": [
    "parkinson = np.vstack((res20,res30,res40))\n",
    "parkinson"
   ]
  },
  {
   "cell_type": "markdown",
   "metadata": {
    "id": "BmcXV5vSHJjl"
   },
   "source": [
    "## 50%"
   ]
  },
  {
   "cell_type": "code",
   "execution_count": null,
   "metadata": {
    "colab": {
     "base_uri": "https://localhost:8080/"
    },
    "executionInfo": {
     "elapsed": 745,
     "status": "ok",
     "timestamp": 1604541326226,
     "user": {
      "displayName": "Thu Nguyễn",
      "photoUrl": "https://lh3.googleusercontent.com/a-/AOh14GjaRl8WgKOjLdrEa69IqFm__Rq7udZ763hhFDl9=s64",
      "userId": "04714273295929622355"
     },
     "user_tz": 360
    },
    "id": "XrwipISdHLz2",
    "outputId": "b869c73c-c635-48db-f312-4706506ed107"
   },
   "outputs": [
    {
     "data": {
      "text/plain": [
       "0.4976689976689977"
      ]
     },
     "execution_count": 41,
     "metadata": {
      "tags": []
     },
     "output_type": "execute_result"
    }
   ],
   "source": [
    "    n = np.array([[sum(y==0),30,25,20],\n",
    "                  [sum(y==1),70,45,40]])\n",
    "    p = np.array([5,8,12,22])\n",
    "    missing_rate(X,y, n,p,2)"
   ]
  },
  {
   "cell_type": "code",
   "execution_count": null,
   "metadata": {
    "colab": {
     "base_uri": "https://localhost:8080/"
    },
    "executionInfo": {
     "elapsed": 11731,
     "status": "ok",
     "timestamp": 1604541352389,
     "user": {
      "displayName": "Thu Nguyễn",
      "photoUrl": "https://lh3.googleusercontent.com/a-/AOh14GjaRl8WgKOjLdrEa69IqFm__Rq7udZ763hhFDl9=s64",
      "userId": "04714273295929622355"
     },
     "user_tz": 360
    },
    "id": "t3PMd6JeHa6Y",
    "outputId": "621f5b44-aa64-4436-f30d-40c213d1e3e2"
   },
   "outputs": [
    {
     "name": "stdout",
     "output_type": "stream",
     "text": [
      "[SoftImpute] Max Singular Value of X_init = 28.440608\n",
      "[SoftImpute] Iter 1: observed MAE=0.036377 rank=20\n",
      "[SoftImpute] Iter 2: observed MAE=0.036566 rank=20\n",
      "[SoftImpute] Iter 3: observed MAE=0.036595 rank=19\n",
      "[SoftImpute] Iter 4: observed MAE=0.036556 rank=19\n",
      "[SoftImpute] Iter 5: observed MAE=0.036516 rank=19\n",
      "[SoftImpute] Iter 6: observed MAE=0.036480 rank=19\n",
      "[SoftImpute] Iter 7: observed MAE=0.036448 rank=19\n",
      "[SoftImpute] Iter 8: observed MAE=0.036420 rank=19\n",
      "[SoftImpute] Iter 9: observed MAE=0.036412 rank=19\n",
      "[SoftImpute] Iter 10: observed MAE=0.036415 rank=19\n",
      "[SoftImpute] Iter 11: observed MAE=0.036420 rank=19\n",
      "[SoftImpute] Iter 12: observed MAE=0.036427 rank=19\n",
      "[SoftImpute] Iter 13: observed MAE=0.036432 rank=19\n",
      "[SoftImpute] Iter 14: observed MAE=0.036434 rank=19\n",
      "[SoftImpute] Iter 15: observed MAE=0.036434 rank=19\n",
      "[SoftImpute] Iter 16: observed MAE=0.036433 rank=19\n",
      "[SoftImpute] Iter 17: observed MAE=0.036431 rank=19\n",
      "[SoftImpute] Iter 18: observed MAE=0.036430 rank=19\n",
      "[SoftImpute] Iter 19: observed MAE=0.036428 rank=19\n",
      "[SoftImpute] Iter 20: observed MAE=0.036427 rank=19\n",
      "[SoftImpute] Iter 21: observed MAE=0.036426 rank=19\n",
      "[SoftImpute] Iter 22: observed MAE=0.036427 rank=19\n",
      "[SoftImpute] Iter 23: observed MAE=0.036428 rank=19\n",
      "[SoftImpute] Iter 24: observed MAE=0.036429 rank=19\n",
      "[SoftImpute] Iter 25: observed MAE=0.036432 rank=19\n",
      "[SoftImpute] Iter 26: observed MAE=0.036435 rank=19\n",
      "[SoftImpute] Iter 27: observed MAE=0.036438 rank=19\n",
      "[SoftImpute] Iter 28: observed MAE=0.036441 rank=19\n",
      "[SoftImpute] Iter 29: observed MAE=0.036444 rank=19\n",
      "[SoftImpute] Iter 30: observed MAE=0.036447 rank=19\n",
      "[SoftImpute] Iter 31: observed MAE=0.036449 rank=19\n",
      "[SoftImpute] Iter 32: observed MAE=0.036452 rank=19\n",
      "[SoftImpute] Iter 33: observed MAE=0.036454 rank=19\n",
      "[SoftImpute] Iter 34: observed MAE=0.036457 rank=19\n",
      "[SoftImpute] Iter 35: observed MAE=0.036460 rank=19\n",
      "[SoftImpute] Iter 36: observed MAE=0.036462 rank=19\n",
      "[SoftImpute] Iter 37: observed MAE=0.036465 rank=19\n",
      "[SoftImpute] Iter 38: observed MAE=0.036467 rank=19\n",
      "[SoftImpute] Iter 39: observed MAE=0.036470 rank=19\n",
      "[SoftImpute] Iter 40: observed MAE=0.036472 rank=19\n",
      "[SoftImpute] Iter 41: observed MAE=0.036474 rank=19\n",
      "[SoftImpute] Iter 42: observed MAE=0.036476 rank=19\n",
      "[SoftImpute] Iter 43: observed MAE=0.036478 rank=19\n",
      "[SoftImpute] Iter 44: observed MAE=0.036480 rank=19\n",
      "[SoftImpute] Iter 45: observed MAE=0.036482 rank=19\n",
      "[SoftImpute] Iter 46: observed MAE=0.036483 rank=19\n",
      "[SoftImpute] Iter 47: observed MAE=0.036485 rank=19\n",
      "[SoftImpute] Iter 48: observed MAE=0.036486 rank=19\n",
      "[SoftImpute] Iter 49: observed MAE=0.036488 rank=19\n",
      "[SoftImpute] Iter 50: observed MAE=0.036489 rank=19\n",
      "[SoftImpute] Iter 51: observed MAE=0.036491 rank=19\n",
      "[SoftImpute] Iter 52: observed MAE=0.036492 rank=19\n",
      "[SoftImpute] Iter 53: observed MAE=0.036493 rank=19\n",
      "[SoftImpute] Iter 54: observed MAE=0.036494 rank=19\n",
      "[SoftImpute] Iter 55: observed MAE=0.036495 rank=19\n",
      "[SoftImpute] Iter 56: observed MAE=0.036496 rank=19\n",
      "[SoftImpute] Iter 57: observed MAE=0.036497 rank=19\n",
      "[SoftImpute] Iter 58: observed MAE=0.036498 rank=19\n",
      "[SoftImpute] Iter 59: observed MAE=0.036499 rank=19\n",
      "[SoftImpute] Iter 60: observed MAE=0.036500 rank=19\n",
      "[SoftImpute] Iter 61: observed MAE=0.036501 rank=19\n",
      "[SoftImpute] Iter 62: observed MAE=0.036502 rank=19\n",
      "[SoftImpute] Iter 63: observed MAE=0.036503 rank=19\n",
      "[SoftImpute] Iter 64: observed MAE=0.036503 rank=19\n",
      "[SoftImpute] Iter 65: observed MAE=0.036504 rank=19\n",
      "[SoftImpute] Iter 66: observed MAE=0.036505 rank=19\n",
      "[SoftImpute] Iter 67: observed MAE=0.036505 rank=19\n",
      "[SoftImpute] Iter 68: observed MAE=0.036506 rank=19\n",
      "[SoftImpute] Iter 69: observed MAE=0.036506 rank=19\n",
      "[SoftImpute] Iter 70: observed MAE=0.036507 rank=19\n",
      "[SoftImpute] Iter 71: observed MAE=0.036507 rank=19\n",
      "[SoftImpute] Iter 72: observed MAE=0.036508 rank=19\n",
      "[SoftImpute] Iter 73: observed MAE=0.036508 rank=19\n",
      "[SoftImpute] Iter 74: observed MAE=0.036509 rank=19\n",
      "[SoftImpute] Iter 75: observed MAE=0.036509 rank=19\n",
      "[SoftImpute] Iter 76: observed MAE=0.036510 rank=19\n",
      "[SoftImpute] Iter 77: observed MAE=0.036510 rank=19\n",
      "[SoftImpute] Iter 78: observed MAE=0.036510 rank=19\n",
      "[SoftImpute] Iter 79: observed MAE=0.036511 rank=19\n",
      "[SoftImpute] Iter 80: observed MAE=0.036511 rank=19\n",
      "[SoftImpute] Iter 81: observed MAE=0.036511 rank=19\n",
      "[SoftImpute] Iter 82: observed MAE=0.036511 rank=19\n",
      "[SoftImpute] Iter 83: observed MAE=0.036512 rank=19\n",
      "[SoftImpute] Iter 84: observed MAE=0.036512 rank=19\n",
      "[SoftImpute] Iter 85: observed MAE=0.036512 rank=19\n",
      "[SoftImpute] Iter 86: observed MAE=0.036512 rank=19\n",
      "[SoftImpute] Iter 87: observed MAE=0.036513 rank=19\n",
      "[SoftImpute] Iter 88: observed MAE=0.036513 rank=19\n",
      "[SoftImpute] Iter 89: observed MAE=0.036513 rank=19\n",
      "[SoftImpute] Iter 90: observed MAE=0.036513 rank=19\n",
      "[SoftImpute] Iter 91: observed MAE=0.036513 rank=19\n",
      "[SoftImpute] Iter 92: observed MAE=0.036513 rank=19\n",
      "[SoftImpute] Iter 93: observed MAE=0.036514 rank=19\n",
      "[SoftImpute] Iter 94: observed MAE=0.036514 rank=19\n",
      "[SoftImpute] Iter 95: observed MAE=0.036514 rank=19\n",
      "[SoftImpute] Iter 96: observed MAE=0.036514 rank=19\n",
      "[SoftImpute] Iter 97: observed MAE=0.036514 rank=19\n",
      "[SoftImpute] Iter 98: observed MAE=0.036514 rank=19\n",
      "[SoftImpute] Iter 99: observed MAE=0.036515 rank=19\n",
      "[SoftImpute] Iter 100: observed MAE=0.036515 rank=19\n",
      "[SoftImpute] Stopped after iteration 100 for lambda=0.568812\n"
     ]
    },
    {
     "name": "stderr",
     "output_type": "stream",
     "text": [
      "/usr/local/lib/python3.6/dist-packages/sklearn/impute/_iterative.py:638: ConvergenceWarning: [IterativeImputer] Early stopping criterion not reached.\n",
      "  \" reached.\", ConvergenceWarning)\n"
     ]
    },
    {
     "name": "stdout",
     "output_type": "stream",
     "text": [
      "----------------------------------------------------------------------------\n",
      "\tSCS v2.1.2 - Splitting Conic Solver\n",
      "\t(c) Brendan O'Donoghue, Stanford University, 2012\n",
      "----------------------------------------------------------------------------\n",
      "Lin-sys: sparse-direct, nnz in A = 49413\n",
      "eps = 1.00e-04, alpha = 1.50, max_iters = 100, normalize = 1, scale = 1.00\n",
      "acceleration_lookback = 10, rho_x = 1.00e-03\n",
      "Variables n = 32233, constraints m = 40813\n",
      "Cones:\tprimal zero / dual free vars: 4290\n",
      "\tlinear vars: 12870\n",
      "\tsd vars: 23653, sd blks: 1\n",
      "Setup time: 6.57e-02s\n",
      "----------------------------------------------------------------------------\n",
      " Iter | pri res | dua res | rel gap | pri obj | dua obj | kap/tau | time (s)\n",
      "----------------------------------------------------------------------------\n",
      "     0| 2.29e+21  2.14e+21  1.00e+00 -8.02e+23  1.66e+23  2.48e+23  2.36e-02 \n",
      "   100| 3.58e-04  4.43e-04  1.30e-04  1.46e+02  1.46e+02  2.38e-14  3.59e+00 \n",
      "----------------------------------------------------------------------------\n",
      "Status: Solved/Inaccurate\n",
      "Hit max_iters, solution may be inaccurate, returning best found solution.\n",
      "Timing: Solve time: 3.59e+00s\n",
      "\tLin-sys: nnz in L factor: 124614, avg solve time: 8.78e-04s\n",
      "\tCones: avg projection time: 2.34e-02s\n",
      "\tAcceleration: avg step time: 9.35e-03s\n",
      "----------------------------------------------------------------------------\n",
      "Error metrics:\n",
      "dist(s, K) = 2.1622e-09, dist(y, K*) = 2.0726e-09, s'y/|s||y| = -1.6998e-13\n",
      "primal res: |Ax + s - b|_2 / (1 + |b|_2) = 3.5762e-04\n",
      "dual res:   |A'y + c|_2 / (1 + |c|_2) = 4.4302e-04\n",
      "rel gap:    |c'x + b'y| / (1 + |c'x| + |b'y|) = 1.2989e-04\n",
      "----------------------------------------------------------------------------\n",
      "c'x = 145.5727, -b'y = 145.6106\n",
      "============================================================================\n"
     ]
    },
    {
     "data": {
      "text/plain": [
       "array([0.03036777, 0.08348728, 0.07765944, 0.08100744, 0.08647955,\n",
       "       0.08014575, 0.497669  ])"
      ]
     },
     "execution_count": 42,
     "metadata": {
      "tags": []
     },
     "output_type": "execute_result"
    }
   ],
   "source": [
    "res50 = compute_err(X,y, n, p, 2)\n",
    "res50"
   ]
  },
  {
   "cell_type": "markdown",
   "metadata": {
    "id": "-VB9LJW3IOPk"
   },
   "source": [
    "# wine\n",
    "The data set is also available in sklearn, as noted in the package's website. So, we load it directly from sklearn"
   ]
  },
  {
   "cell_type": "code",
   "execution_count": null,
   "metadata": {
    "colab": {
     "base_uri": "https://localhost:8080/"
    },
    "executionInfo": {
     "elapsed": 806,
     "status": "ok",
     "timestamp": 1604541504741,
     "user": {
      "displayName": "Thu Nguyễn",
      "photoUrl": "https://lh3.googleusercontent.com/a-/AOh14GjaRl8WgKOjLdrEa69IqFm__Rq7udZ763hhFDl9=s64",
      "userId": "04714273295929622355"
     },
     "user_tz": 360
    },
    "id": "zgmq0y4yIOPm",
    "outputId": "4477cc9f-6120-47b0-bb91-6dae2a08554e"
   },
   "outputs": [
    {
     "data": {
      "text/plain": [
       "(59, 71, 48)"
      ]
     },
     "execution_count": 43,
     "metadata": {
      "tags": []
     },
     "output_type": "execute_result"
    }
   ],
   "source": [
    "wine = datasets.load_wine()\n",
    "X,y = wine.data, wine.target.ravel() \n",
    "sum(y==0), sum(y==1), sum(y==2)"
   ]
  },
  {
   "cell_type": "code",
   "execution_count": null,
   "metadata": {
    "id": "myM42aXDWAo_"
   },
   "outputs": [],
   "source": [
    "# set random seed and shuffle the data\n",
    "np.random.seed(1)\n",
    "idx = np.arange(len(y))\n",
    "np.random.shuffle(idx)\n",
    "X, y = X[idx,:], y[idx]  "
   ]
  },
  {
   "cell_type": "markdown",
   "metadata": {
    "id": "J3Ptx_6Ce10t"
   },
   "source": [
    "## 20%"
   ]
  },
  {
   "cell_type": "code",
   "execution_count": null,
   "metadata": {
    "colab": {
     "base_uri": "https://localhost:8080/"
    },
    "executionInfo": {
     "elapsed": 5227,
     "status": "ok",
     "timestamp": 1603957982908,
     "user": {
      "displayName": "Thu Nguyễn",
      "photoUrl": "https://lh3.googleusercontent.com/a-/AOh14GjaRl8WgKOjLdrEa69IqFm__Rq7udZ763hhFDl9=s64",
      "userId": "04714273295929622355"
     },
     "user_tz": 300
    },
    "id": "YoG6jFRHIOPv",
    "outputId": "9df25f06-53a8-4f3a-ce4d-0f472cffe4c1"
   },
   "outputs": [
    {
     "name": "stdout",
     "output_type": "stream",
     "text": [
      "[SoftImpute] Max Singular Value of X_init = 24.757295\n",
      "[SoftImpute] Iter 1: observed MAE=0.032345 rank=13\n",
      "[SoftImpute] Iter 2: observed MAE=0.032369 rank=13\n",
      "[SoftImpute] Iter 3: observed MAE=0.032390 rank=13\n",
      "[SoftImpute] Iter 4: observed MAE=0.032410 rank=13\n",
      "[SoftImpute] Iter 5: observed MAE=0.032429 rank=13\n",
      "[SoftImpute] Iter 6: observed MAE=0.032446 rank=13\n",
      "[SoftImpute] Iter 7: observed MAE=0.032461 rank=13\n",
      "[SoftImpute] Iter 8: observed MAE=0.032476 rank=13\n",
      "[SoftImpute] Iter 9: observed MAE=0.032489 rank=13\n",
      "[SoftImpute] Iter 10: observed MAE=0.032501 rank=13\n",
      "[SoftImpute] Iter 11: observed MAE=0.032511 rank=13\n",
      "[SoftImpute] Iter 12: observed MAE=0.032521 rank=13\n",
      "[SoftImpute] Iter 13: observed MAE=0.032530 rank=13\n",
      "[SoftImpute] Iter 14: observed MAE=0.032538 rank=13\n",
      "[SoftImpute] Iter 15: observed MAE=0.032545 rank=13\n",
      "[SoftImpute] Iter 16: observed MAE=0.032551 rank=13\n",
      "[SoftImpute] Iter 17: observed MAE=0.032557 rank=13\n",
      "[SoftImpute] Iter 18: observed MAE=0.032562 rank=13\n",
      "[SoftImpute] Iter 19: observed MAE=0.032567 rank=13\n",
      "[SoftImpute] Iter 20: observed MAE=0.032571 rank=13\n",
      "[SoftImpute] Iter 21: observed MAE=0.032575 rank=13\n",
      "[SoftImpute] Iter 22: observed MAE=0.032579 rank=13\n",
      "[SoftImpute] Iter 23: observed MAE=0.032582 rank=13\n",
      "[SoftImpute] Iter 24: observed MAE=0.032585 rank=13\n",
      "[SoftImpute] Iter 25: observed MAE=0.032587 rank=13\n",
      "[SoftImpute] Iter 26: observed MAE=0.032590 rank=13\n",
      "[SoftImpute] Iter 27: observed MAE=0.032592 rank=13\n",
      "[SoftImpute] Iter 28: observed MAE=0.032594 rank=13\n",
      "[SoftImpute] Iter 29: observed MAE=0.032596 rank=13\n",
      "[SoftImpute] Iter 30: observed MAE=0.032598 rank=13\n",
      "[SoftImpute] Iter 31: observed MAE=0.032599 rank=13\n",
      "[SoftImpute] Iter 32: observed MAE=0.032601 rank=13\n",
      "[SoftImpute] Iter 33: observed MAE=0.032602 rank=13\n",
      "[SoftImpute] Iter 34: observed MAE=0.032603 rank=13\n",
      "[SoftImpute] Iter 35: observed MAE=0.032604 rank=13\n",
      "[SoftImpute] Iter 36: observed MAE=0.032605 rank=13\n",
      "[SoftImpute] Iter 37: observed MAE=0.032606 rank=13\n",
      "[SoftImpute] Iter 38: observed MAE=0.032607 rank=13\n",
      "[SoftImpute] Iter 39: observed MAE=0.032608 rank=13\n",
      "[SoftImpute] Iter 40: observed MAE=0.032608 rank=13\n",
      "[SoftImpute] Iter 41: observed MAE=0.032609 rank=13\n",
      "[SoftImpute] Iter 42: observed MAE=0.032609 rank=13\n",
      "[SoftImpute] Iter 43: observed MAE=0.032610 rank=13\n",
      "[SoftImpute] Iter 44: observed MAE=0.032610 rank=13\n",
      "[SoftImpute] Iter 45: observed MAE=0.032611 rank=13\n",
      "[SoftImpute] Iter 46: observed MAE=0.032611 rank=13\n",
      "[SoftImpute] Iter 47: observed MAE=0.032612 rank=13\n",
      "[SoftImpute] Iter 48: observed MAE=0.032612 rank=13\n",
      "[SoftImpute] Iter 49: observed MAE=0.032612 rank=13\n",
      "[SoftImpute] Iter 50: observed MAE=0.032613 rank=13\n",
      "[SoftImpute] Iter 51: observed MAE=0.032613 rank=13\n",
      "[SoftImpute] Iter 52: observed MAE=0.032613 rank=13\n",
      "[SoftImpute] Iter 53: observed MAE=0.032613 rank=13\n",
      "[SoftImpute] Iter 54: observed MAE=0.032614 rank=13\n",
      "[SoftImpute] Iter 55: observed MAE=0.032614 rank=13\n",
      "[SoftImpute] Iter 56: observed MAE=0.032614 rank=13\n",
      "[SoftImpute] Iter 57: observed MAE=0.032614 rank=13\n",
      "[SoftImpute] Iter 58: observed MAE=0.032614 rank=13\n",
      "[SoftImpute] Iter 59: observed MAE=0.032614 rank=13\n",
      "[SoftImpute] Iter 60: observed MAE=0.032614 rank=13\n",
      "[SoftImpute] Iter 61: observed MAE=0.032614 rank=13\n",
      "[SoftImpute] Iter 62: observed MAE=0.032614 rank=13\n",
      "[SoftImpute] Iter 63: observed MAE=0.032614 rank=13\n",
      "[SoftImpute] Iter 64: observed MAE=0.032614 rank=13\n",
      "[SoftImpute] Iter 65: observed MAE=0.032614 rank=13\n",
      "[SoftImpute] Iter 66: observed MAE=0.032615 rank=13\n",
      "[SoftImpute] Iter 67: observed MAE=0.032615 rank=13\n",
      "[SoftImpute] Iter 68: observed MAE=0.032615 rank=13\n",
      "[SoftImpute] Iter 69: observed MAE=0.032615 rank=13\n",
      "[SoftImpute] Iter 70: observed MAE=0.032614 rank=13\n",
      "[SoftImpute] Iter 71: observed MAE=0.032614 rank=13\n",
      "[SoftImpute] Iter 72: observed MAE=0.032614 rank=13\n",
      "[SoftImpute] Iter 73: observed MAE=0.032614 rank=13\n",
      "[SoftImpute] Iter 74: observed MAE=0.032614 rank=13\n",
      "[SoftImpute] Iter 75: observed MAE=0.032614 rank=13\n",
      "[SoftImpute] Iter 76: observed MAE=0.032614 rank=13\n",
      "[SoftImpute] Iter 77: observed MAE=0.032614 rank=13\n",
      "[SoftImpute] Iter 78: observed MAE=0.032614 rank=13\n",
      "[SoftImpute] Iter 79: observed MAE=0.032614 rank=13\n",
      "[SoftImpute] Iter 80: observed MAE=0.032614 rank=13\n",
      "[SoftImpute] Iter 81: observed MAE=0.032614 rank=13\n",
      "[SoftImpute] Iter 82: observed MAE=0.032614 rank=13\n",
      "[SoftImpute] Iter 83: observed MAE=0.032614 rank=13\n",
      "[SoftImpute] Iter 84: observed MAE=0.032614 rank=13\n",
      "[SoftImpute] Iter 85: observed MAE=0.032614 rank=13\n",
      "[SoftImpute] Iter 86: observed MAE=0.032614 rank=13\n",
      "[SoftImpute] Iter 87: observed MAE=0.032614 rank=13\n",
      "[SoftImpute] Iter 88: observed MAE=0.032614 rank=13\n",
      "[SoftImpute] Iter 89: observed MAE=0.032614 rank=13\n",
      "[SoftImpute] Iter 90: observed MAE=0.032614 rank=13\n",
      "[SoftImpute] Iter 91: observed MAE=0.032614 rank=13\n",
      "[SoftImpute] Iter 92: observed MAE=0.032614 rank=13\n",
      "[SoftImpute] Iter 93: observed MAE=0.032614 rank=13\n",
      "[SoftImpute] Iter 94: observed MAE=0.032614 rank=13\n",
      "[SoftImpute] Iter 95: observed MAE=0.032613 rank=13\n",
      "[SoftImpute] Iter 96: observed MAE=0.032613 rank=13\n",
      "[SoftImpute] Iter 97: observed MAE=0.032613 rank=13\n",
      "[SoftImpute] Iter 98: observed MAE=0.032613 rank=13\n",
      "[SoftImpute] Iter 99: observed MAE=0.032613 rank=13\n",
      "[SoftImpute] Iter 100: observed MAE=0.032613 rank=13\n",
      "[SoftImpute] Stopped after iteration 100 for lambda=0.495146\n",
      "----------------------------------------------------------------------------\n",
      "\tSCS v2.1.2 - Splitting Conic Solver\n",
      "\t(c) Brendan O'Donoghue, Stanford University, 2012\n",
      "----------------------------------------------------------------------------\n",
      "Lin-sys: sparse-direct, nnz in A = 33624\n",
      "eps = 1.00e-04, alpha = 1.50, max_iters = 100, normalize = 1, scale = 1.00\n",
      "acceleration_lookback = 10, rho_x = 1.00e-03\n",
      "Variables n = 22964, constraints m = 27592\n",
      "Cones:\tprimal zero / dual free vars: 2314\n",
      "\tlinear vars: 6942\n",
      "\tsd vars: 18336, sd blks: 1\n",
      "Setup time: 3.02e-02s\n",
      "----------------------------------------------------------------------------\n",
      " Iter | pri res | dua res | rel gap | pri obj | dua obj | kap/tau | time (s)\n",
      "----------------------------------------------------------------------------\n",
      "     0| 1.93e+21  1.76e+21  1.00e+00 -5.96e+23  1.18e+23  1.82e+23  2.54e-02 \n",
      "   100| 1.04e-03  1.74e-03  7.98e-05  1.34e+02  1.34e+02  5.78e-15  2.90e+00 \n",
      "----------------------------------------------------------------------------\n",
      "Status: Solved/Inaccurate\n",
      "Hit max_iters, solution may be inaccurate, returning best found solution.\n",
      "Timing: Solve time: 2.90e+00s\n",
      "\tLin-sys: nnz in L factor: 86039, avg solve time: 6.04e-04s\n",
      "\tCones: avg projection time: 1.98e-02s\n",
      "\tAcceleration: avg step time: 6.84e-03s\n",
      "----------------------------------------------------------------------------\n",
      "Error metrics:\n",
      "dist(s, K) = 2.2788e-09, dist(y, K*) = 1.0604e-08, s'y/|s||y| = 1.2322e-13\n",
      "primal res: |Ax + s - b|_2 / (1 + |b|_2) = 4.2005e-04\n",
      "dual res:   |A'y + c|_2 / (1 + |c|_2) = 5.2394e-04\n",
      "rel gap:    |c'x + b'y| / (1 + |c'x| + |b'y|) = 1.1778e-04\n",
      "----------------------------------------------------------------------------\n",
      "c'x = 134.3193, -b'y = 134.3510\n",
      "============================================================================\n"
     ]
    },
    {
     "data": {
      "text/plain": [
       "array([0.0137993 , 0.11041898, 0.10881307, 0.10994632, 0.1106833 ,\n",
       "       0.10981267, 0.19662921])"
      ]
     },
     "execution_count": 37,
     "metadata": {
      "tags": []
     },
     "output_type": "execute_result"
    }
   ],
   "source": [
    "    n = np.array([[sum(y==0),50,40,35], [sum(y==1),60,55,50],\n",
    "                  [sum(y==2),40,35,30]])\n",
    "    p = np.array([3,5, 12,13])    \n",
    "    res20 = compute_err(X, y, n, p, 3)\n",
    "    res20"
   ]
  },
  {
   "cell_type": "markdown",
   "metadata": {
    "id": "-mbA9aOCfEaX"
   },
   "source": [
    "## 30%"
   ]
  },
  {
   "cell_type": "code",
   "execution_count": null,
   "metadata": {
    "colab": {
     "base_uri": "https://localhost:8080/"
    },
    "executionInfo": {
     "elapsed": 5524,
     "status": "ok",
     "timestamp": 1603958003173,
     "user": {
      "displayName": "Thu Nguyễn",
      "photoUrl": "https://lh3.googleusercontent.com/a-/AOh14GjaRl8WgKOjLdrEa69IqFm__Rq7udZ763hhFDl9=s64",
      "userId": "04714273295929622355"
     },
     "user_tz": 300
    },
    "id": "IzTn4cIzJ2Ua",
    "outputId": "d849d008-ea52-478e-df2c-686e35447fb8"
   },
   "outputs": [
    {
     "name": "stdout",
     "output_type": "stream",
     "text": [
      "[SoftImpute] Max Singular Value of X_init = 22.856361\n",
      "[SoftImpute] Iter 1: observed MAE=0.031798 rank=13\n",
      "[SoftImpute] Iter 2: observed MAE=0.031824 rank=13\n",
      "[SoftImpute] Iter 3: observed MAE=0.031848 rank=13\n",
      "[SoftImpute] Iter 4: observed MAE=0.031870 rank=13\n",
      "[SoftImpute] Iter 5: observed MAE=0.031890 rank=13\n",
      "[SoftImpute] Iter 6: observed MAE=0.031911 rank=13\n",
      "[SoftImpute] Iter 7: observed MAE=0.031931 rank=13\n",
      "[SoftImpute] Iter 8: observed MAE=0.031950 rank=13\n",
      "[SoftImpute] Iter 9: observed MAE=0.031967 rank=13\n",
      "[SoftImpute] Iter 10: observed MAE=0.031983 rank=13\n",
      "[SoftImpute] Iter 11: observed MAE=0.031999 rank=13\n",
      "[SoftImpute] Iter 12: observed MAE=0.032014 rank=13\n",
      "[SoftImpute] Iter 13: observed MAE=0.032027 rank=13\n",
      "[SoftImpute] Iter 14: observed MAE=0.032040 rank=13\n",
      "[SoftImpute] Iter 15: observed MAE=0.032052 rank=13\n",
      "[SoftImpute] Iter 16: observed MAE=0.032063 rank=13\n",
      "[SoftImpute] Iter 17: observed MAE=0.032073 rank=13\n",
      "[SoftImpute] Iter 18: observed MAE=0.032083 rank=13\n",
      "[SoftImpute] Iter 19: observed MAE=0.032091 rank=13\n",
      "[SoftImpute] Iter 20: observed MAE=0.032100 rank=13\n",
      "[SoftImpute] Iter 21: observed MAE=0.032109 rank=13\n",
      "[SoftImpute] Iter 22: observed MAE=0.032117 rank=13\n",
      "[SoftImpute] Iter 23: observed MAE=0.032125 rank=13\n",
      "[SoftImpute] Iter 24: observed MAE=0.032132 rank=13\n",
      "[SoftImpute] Iter 25: observed MAE=0.032139 rank=13\n",
      "[SoftImpute] Iter 26: observed MAE=0.032145 rank=13\n",
      "[SoftImpute] Iter 27: observed MAE=0.032151 rank=13\n",
      "[SoftImpute] Iter 28: observed MAE=0.032156 rank=13\n",
      "[SoftImpute] Iter 29: observed MAE=0.032162 rank=13\n",
      "[SoftImpute] Iter 30: observed MAE=0.032167 rank=13\n",
      "[SoftImpute] Iter 31: observed MAE=0.032171 rank=13\n",
      "[SoftImpute] Iter 32: observed MAE=0.032176 rank=13\n",
      "[SoftImpute] Iter 33: observed MAE=0.032180 rank=13\n",
      "[SoftImpute] Iter 34: observed MAE=0.032184 rank=13\n",
      "[SoftImpute] Iter 35: observed MAE=0.032187 rank=13\n",
      "[SoftImpute] Iter 36: observed MAE=0.032191 rank=13\n",
      "[SoftImpute] Iter 37: observed MAE=0.032194 rank=13\n",
      "[SoftImpute] Iter 38: observed MAE=0.032197 rank=13\n",
      "[SoftImpute] Iter 39: observed MAE=0.032200 rank=13\n",
      "[SoftImpute] Iter 40: observed MAE=0.032203 rank=13\n",
      "[SoftImpute] Iter 41: observed MAE=0.032206 rank=13\n",
      "[SoftImpute] Iter 42: observed MAE=0.032208 rank=13\n",
      "[SoftImpute] Iter 43: observed MAE=0.032210 rank=13\n",
      "[SoftImpute] Iter 44: observed MAE=0.032212 rank=13\n",
      "[SoftImpute] Iter 45: observed MAE=0.032214 rank=13\n",
      "[SoftImpute] Iter 46: observed MAE=0.032216 rank=13\n",
      "[SoftImpute] Iter 47: observed MAE=0.032218 rank=13\n",
      "[SoftImpute] Iter 48: observed MAE=0.032220 rank=13\n",
      "[SoftImpute] Iter 49: observed MAE=0.032221 rank=13\n",
      "[SoftImpute] Iter 50: observed MAE=0.032223 rank=13\n",
      "[SoftImpute] Iter 51: observed MAE=0.032224 rank=13\n",
      "[SoftImpute] Iter 52: observed MAE=0.032226 rank=13\n",
      "[SoftImpute] Iter 53: observed MAE=0.032227 rank=13\n",
      "[SoftImpute] Iter 54: observed MAE=0.032228 rank=13\n",
      "[SoftImpute] Iter 55: observed MAE=0.032229 rank=13\n",
      "[SoftImpute] Iter 56: observed MAE=0.032230 rank=13\n",
      "[SoftImpute] Iter 57: observed MAE=0.032231 rank=13\n",
      "[SoftImpute] Iter 58: observed MAE=0.032232 rank=13\n",
      "[SoftImpute] Iter 59: observed MAE=0.032233 rank=13\n",
      "[SoftImpute] Iter 60: observed MAE=0.032234 rank=13\n",
      "[SoftImpute] Iter 61: observed MAE=0.032235 rank=13\n",
      "[SoftImpute] Iter 62: observed MAE=0.032235 rank=13\n",
      "[SoftImpute] Iter 63: observed MAE=0.032236 rank=13\n",
      "[SoftImpute] Iter 64: observed MAE=0.032237 rank=13\n",
      "[SoftImpute] Iter 65: observed MAE=0.032237 rank=13\n",
      "[SoftImpute] Iter 66: observed MAE=0.032238 rank=13\n",
      "[SoftImpute] Iter 67: observed MAE=0.032238 rank=13\n",
      "[SoftImpute] Iter 68: observed MAE=0.032239 rank=13\n",
      "[SoftImpute] Iter 69: observed MAE=0.032239 rank=13\n",
      "[SoftImpute] Iter 70: observed MAE=0.032240 rank=13\n",
      "[SoftImpute] Iter 71: observed MAE=0.032240 rank=13\n",
      "[SoftImpute] Iter 72: observed MAE=0.032241 rank=13\n",
      "[SoftImpute] Iter 73: observed MAE=0.032241 rank=13\n",
      "[SoftImpute] Iter 74: observed MAE=0.032242 rank=13\n",
      "[SoftImpute] Iter 75: observed MAE=0.032242 rank=13\n",
      "[SoftImpute] Iter 76: observed MAE=0.032242 rank=13\n",
      "[SoftImpute] Iter 77: observed MAE=0.032243 rank=13\n",
      "[SoftImpute] Iter 78: observed MAE=0.032243 rank=13\n",
      "[SoftImpute] Iter 79: observed MAE=0.032243 rank=13\n",
      "[SoftImpute] Iter 80: observed MAE=0.032244 rank=13\n",
      "[SoftImpute] Iter 81: observed MAE=0.032244 rank=13\n",
      "[SoftImpute] Iter 82: observed MAE=0.032244 rank=13\n",
      "[SoftImpute] Iter 83: observed MAE=0.032244 rank=13\n",
      "[SoftImpute] Iter 84: observed MAE=0.032245 rank=13\n",
      "[SoftImpute] Iter 85: observed MAE=0.032245 rank=13\n",
      "[SoftImpute] Iter 86: observed MAE=0.032245 rank=13\n",
      "[SoftImpute] Iter 87: observed MAE=0.032245 rank=13\n",
      "[SoftImpute] Iter 88: observed MAE=0.032245 rank=13\n",
      "[SoftImpute] Iter 89: observed MAE=0.032245 rank=13\n",
      "[SoftImpute] Iter 90: observed MAE=0.032246 rank=13\n",
      "[SoftImpute] Iter 91: observed MAE=0.032246 rank=13\n",
      "[SoftImpute] Iter 92: observed MAE=0.032246 rank=13\n",
      "[SoftImpute] Iter 93: observed MAE=0.032246 rank=13\n",
      "[SoftImpute] Iter 94: observed MAE=0.032246 rank=13\n",
      "[SoftImpute] Iter 95: observed MAE=0.032246 rank=13\n",
      "[SoftImpute] Iter 96: observed MAE=0.032246 rank=13\n",
      "[SoftImpute] Iter 97: observed MAE=0.032247 rank=13\n",
      "[SoftImpute] Iter 98: observed MAE=0.032247 rank=13\n",
      "[SoftImpute] Iter 99: observed MAE=0.032247 rank=13\n",
      "[SoftImpute] Iter 100: observed MAE=0.032247 rank=13\n",
      "[SoftImpute] Stopped after iteration 100 for lambda=0.457127\n",
      "----------------------------------------------------------------------------\n",
      "\tSCS v2.1.2 - Splitting Conic Solver\n",
      "\t(c) Brendan O'Donoghue, Stanford University, 2012\n",
      "----------------------------------------------------------------------------\n",
      "Lin-sys: sparse-direct, nnz in A = 33130\n",
      "eps = 1.00e-04, alpha = 1.50, max_iters = 100, normalize = 1, scale = 1.00\n",
      "acceleration_lookback = 10, rho_x = 1.00e-03\n",
      "Variables n = 22964, constraints m = 27592\n",
      "Cones:\tprimal zero / dual free vars: 2314\n",
      "\tlinear vars: 6942\n",
      "\tsd vars: 18336, sd blks: 1\n",
      "Setup time: 3.06e-02s\n",
      "----------------------------------------------------------------------------\n",
      " Iter | pri res | dua res | rel gap | pri obj | dua obj | kap/tau | time (s)\n",
      "----------------------------------------------------------------------------\n",
      "     0| 1.94e+21  1.77e+21  1.00e+00 -5.60e+23  1.11e+23  1.66e+23  1.81e-02 \n",
      "   100| 3.01e-03  4.42e-03  2.71e-06  1.25e+02  1.25e+02  1.45e-14  2.95e+00 \n",
      "----------------------------------------------------------------------------\n",
      "Status: Solved/Inaccurate\n",
      "Hit max_iters, solution may be inaccurate, returning best found solution.\n",
      "Timing: Solve time: 2.95e+00s\n",
      "\tLin-sys: nnz in L factor: 85298, avg solve time: 6.01e-04s\n",
      "\tCones: avg projection time: 2.03e-02s\n",
      "\tAcceleration: avg step time: 6.88e-03s\n",
      "----------------------------------------------------------------------------\n",
      "Error metrics:\n",
      "dist(s, K) = 2.1616e-09, dist(y, K*) = 8.6516e-09, s'y/|s||y| = 5.1745e-13\n",
      "primal res: |Ax + s - b|_2 / (1 + |b|_2) = 6.1779e-04\n",
      "dual res:   |A'y + c|_2 / (1 + |c|_2) = 6.6225e-04\n",
      "rel gap:    |c'x + b'y| / (1 + |c'x| + |b'y|) = 4.5863e-05\n",
      "----------------------------------------------------------------------------\n",
      "c'x = 125.0610, -b'y = 125.0725\n",
      "============================================================================\n"
     ]
    },
    {
     "data": {
      "text/plain": [
       "array([0.01573624, 0.11183001, 0.10827662, 0.11034529, 0.11737417,\n",
       "       0.1101785 , 0.30337079])"
      ]
     },
     "execution_count": 38,
     "metadata": {
      "tags": []
     },
     "output_type": "execute_result"
    }
   ],
   "source": [
    "    n = np.array([[sum(y==0),45,40,30], [sum(y==1),45,40,35],\n",
    "                  [sum(y==2),39,35,30]])\n",
    "    p = np.array([3,5,8,13])      \n",
    "    res30 = compute_err(X, y, n, p, 3)\n",
    "    res30"
   ]
  },
  {
   "cell_type": "markdown",
   "metadata": {
    "id": "JJv8_6hJfKcT"
   },
   "source": [
    "## 40%"
   ]
  },
  {
   "cell_type": "code",
   "execution_count": null,
   "metadata": {
    "colab": {
     "base_uri": "https://localhost:8080/"
    },
    "executionInfo": {
     "elapsed": 5667,
     "status": "ok",
     "timestamp": 1603958017820,
     "user": {
      "displayName": "Thu Nguyễn",
      "photoUrl": "https://lh3.googleusercontent.com/a-/AOh14GjaRl8WgKOjLdrEa69IqFm__Rq7udZ763hhFDl9=s64",
      "userId": "04714273295929622355"
     },
     "user_tz": 300
    },
    "id": "WkTgwR-QMGzH",
    "outputId": "6d6ec776-98d4-4af1-9ff7-3d8a17389115"
   },
   "outputs": [
    {
     "name": "stdout",
     "output_type": "stream",
     "text": [
      "[SoftImpute] Max Singular Value of X_init = 20.664846\n",
      "[SoftImpute] Iter 1: observed MAE=0.030691 rank=13\n",
      "[SoftImpute] Iter 2: observed MAE=0.030711 rank=13\n",
      "[SoftImpute] Iter 3: observed MAE=0.030729 rank=13\n",
      "[SoftImpute] Iter 4: observed MAE=0.030747 rank=13\n",
      "[SoftImpute] Iter 5: observed MAE=0.030765 rank=13\n",
      "[SoftImpute] Iter 6: observed MAE=0.030782 rank=13\n",
      "[SoftImpute] Iter 7: observed MAE=0.030797 rank=13\n",
      "[SoftImpute] Iter 8: observed MAE=0.030812 rank=13\n",
      "[SoftImpute] Iter 9: observed MAE=0.030826 rank=13\n",
      "[SoftImpute] Iter 10: observed MAE=0.030838 rank=13\n",
      "[SoftImpute] Iter 11: observed MAE=0.030850 rank=13\n",
      "[SoftImpute] Iter 12: observed MAE=0.030860 rank=13\n",
      "[SoftImpute] Iter 13: observed MAE=0.030870 rank=13\n",
      "[SoftImpute] Iter 14: observed MAE=0.030879 rank=13\n",
      "[SoftImpute] Iter 15: observed MAE=0.030887 rank=13\n",
      "[SoftImpute] Iter 16: observed MAE=0.030894 rank=13\n",
      "[SoftImpute] Iter 17: observed MAE=0.030900 rank=13\n",
      "[SoftImpute] Iter 18: observed MAE=0.030907 rank=13\n",
      "[SoftImpute] Iter 19: observed MAE=0.030913 rank=13\n",
      "[SoftImpute] Iter 20: observed MAE=0.030919 rank=13\n",
      "[SoftImpute] Iter 21: observed MAE=0.030925 rank=13\n",
      "[SoftImpute] Iter 22: observed MAE=0.030930 rank=13\n",
      "[SoftImpute] Iter 23: observed MAE=0.030935 rank=13\n",
      "[SoftImpute] Iter 24: observed MAE=0.030939 rank=13\n",
      "[SoftImpute] Iter 25: observed MAE=0.030943 rank=13\n",
      "[SoftImpute] Iter 26: observed MAE=0.030947 rank=13\n",
      "[SoftImpute] Iter 27: observed MAE=0.030951 rank=13\n",
      "[SoftImpute] Iter 28: observed MAE=0.030954 rank=13\n",
      "[SoftImpute] Iter 29: observed MAE=0.030958 rank=13\n",
      "[SoftImpute] Iter 30: observed MAE=0.030961 rank=13\n",
      "[SoftImpute] Iter 31: observed MAE=0.030964 rank=13\n",
      "[SoftImpute] Iter 32: observed MAE=0.030968 rank=13\n",
      "[SoftImpute] Iter 33: observed MAE=0.030970 rank=13\n",
      "[SoftImpute] Iter 34: observed MAE=0.030973 rank=13\n",
      "[SoftImpute] Iter 35: observed MAE=0.030976 rank=13\n",
      "[SoftImpute] Iter 36: observed MAE=0.030978 rank=13\n",
      "[SoftImpute] Iter 37: observed MAE=0.030980 rank=13\n",
      "[SoftImpute] Iter 38: observed MAE=0.030983 rank=13\n",
      "[SoftImpute] Iter 39: observed MAE=0.030985 rank=13\n",
      "[SoftImpute] Iter 40: observed MAE=0.030987 rank=13\n",
      "[SoftImpute] Iter 41: observed MAE=0.030989 rank=13\n",
      "[SoftImpute] Iter 42: observed MAE=0.030990 rank=13\n",
      "[SoftImpute] Iter 43: observed MAE=0.030992 rank=13\n",
      "[SoftImpute] Iter 44: observed MAE=0.030994 rank=13\n",
      "[SoftImpute] Iter 45: observed MAE=0.030996 rank=13\n",
      "[SoftImpute] Iter 46: observed MAE=0.030997 rank=13\n",
      "[SoftImpute] Iter 47: observed MAE=0.030998 rank=13\n",
      "[SoftImpute] Iter 48: observed MAE=0.031000 rank=13\n",
      "[SoftImpute] Iter 49: observed MAE=0.031001 rank=13\n",
      "[SoftImpute] Iter 50: observed MAE=0.031003 rank=13\n",
      "[SoftImpute] Iter 51: observed MAE=0.031004 rank=13\n",
      "[SoftImpute] Iter 52: observed MAE=0.031005 rank=13\n",
      "[SoftImpute] Iter 53: observed MAE=0.031006 rank=13\n",
      "[SoftImpute] Iter 54: observed MAE=0.031007 rank=13\n",
      "[SoftImpute] Iter 55: observed MAE=0.031008 rank=13\n",
      "[SoftImpute] Iter 56: observed MAE=0.031009 rank=13\n",
      "[SoftImpute] Iter 57: observed MAE=0.031010 rank=13\n",
      "[SoftImpute] Iter 58: observed MAE=0.031011 rank=13\n",
      "[SoftImpute] Iter 59: observed MAE=0.031012 rank=13\n",
      "[SoftImpute] Iter 60: observed MAE=0.031013 rank=13\n",
      "[SoftImpute] Iter 61: observed MAE=0.031013 rank=13\n",
      "[SoftImpute] Iter 62: observed MAE=0.031014 rank=13\n",
      "[SoftImpute] Iter 63: observed MAE=0.031015 rank=13\n",
      "[SoftImpute] Iter 64: observed MAE=0.031016 rank=13\n",
      "[SoftImpute] Iter 65: observed MAE=0.031016 rank=13\n",
      "[SoftImpute] Iter 66: observed MAE=0.031017 rank=13\n",
      "[SoftImpute] Iter 67: observed MAE=0.031017 rank=13\n",
      "[SoftImpute] Iter 68: observed MAE=0.031018 rank=13\n",
      "[SoftImpute] Iter 69: observed MAE=0.031019 rank=13\n",
      "[SoftImpute] Iter 70: observed MAE=0.031019 rank=13\n",
      "[SoftImpute] Iter 71: observed MAE=0.031020 rank=13\n",
      "[SoftImpute] Iter 72: observed MAE=0.031020 rank=13\n",
      "[SoftImpute] Iter 73: observed MAE=0.031021 rank=13\n",
      "[SoftImpute] Iter 74: observed MAE=0.031021 rank=13\n",
      "[SoftImpute] Iter 75: observed MAE=0.031021 rank=13\n",
      "[SoftImpute] Iter 76: observed MAE=0.031022 rank=13\n",
      "[SoftImpute] Iter 77: observed MAE=0.031022 rank=13\n",
      "[SoftImpute] Iter 78: observed MAE=0.031022 rank=13\n",
      "[SoftImpute] Iter 79: observed MAE=0.031023 rank=13\n",
      "[SoftImpute] Iter 80: observed MAE=0.031023 rank=13\n",
      "[SoftImpute] Iter 81: observed MAE=0.031023 rank=13\n",
      "[SoftImpute] Iter 82: observed MAE=0.031024 rank=13\n",
      "[SoftImpute] Iter 83: observed MAE=0.031024 rank=13\n",
      "[SoftImpute] Iter 84: observed MAE=0.031024 rank=13\n",
      "[SoftImpute] Iter 85: observed MAE=0.031024 rank=13\n",
      "[SoftImpute] Iter 86: observed MAE=0.031025 rank=13\n",
      "[SoftImpute] Iter 87: observed MAE=0.031025 rank=13\n",
      "[SoftImpute] Iter 88: observed MAE=0.031025 rank=13\n",
      "[SoftImpute] Iter 89: observed MAE=0.031025 rank=13\n",
      "[SoftImpute] Iter 90: observed MAE=0.031026 rank=13\n",
      "[SoftImpute] Iter 91: observed MAE=0.031026 rank=13\n",
      "[SoftImpute] Iter 92: observed MAE=0.031026 rank=13\n",
      "[SoftImpute] Iter 93: observed MAE=0.031026 rank=13\n",
      "[SoftImpute] Iter 94: observed MAE=0.031026 rank=13\n",
      "[SoftImpute] Iter 95: observed MAE=0.031027 rank=13\n",
      "[SoftImpute] Iter 96: observed MAE=0.031027 rank=13\n",
      "[SoftImpute] Iter 97: observed MAE=0.031027 rank=13\n",
      "[SoftImpute] Iter 98: observed MAE=0.031027 rank=13\n",
      "[SoftImpute] Iter 99: observed MAE=0.031027 rank=13\n",
      "[SoftImpute] Iter 100: observed MAE=0.031028 rank=13\n",
      "[SoftImpute] Stopped after iteration 100 for lambda=0.413297\n",
      "----------------------------------------------------------------------------\n",
      "\tSCS v2.1.2 - Splitting Conic Solver\n",
      "\t(c) Brendan O'Donoghue, Stanford University, 2012\n",
      "----------------------------------------------------------------------------\n",
      "Lin-sys: sparse-direct, nnz in A = 32704\n",
      "eps = 1.00e-04, alpha = 1.50, max_iters = 100, normalize = 1, scale = 1.00\n",
      "acceleration_lookback = 10, rho_x = 1.00e-03\n",
      "Variables n = 22964, constraints m = 27592\n",
      "Cones:\tprimal zero / dual free vars: 2314\n",
      "\tlinear vars: 6942\n",
      "\tsd vars: 18336, sd blks: 1\n",
      "Setup time: 2.89e-02s\n",
      "----------------------------------------------------------------------------\n",
      " Iter | pri res | dua res | rel gap | pri obj | dua obj | kap/tau | time (s)\n",
      "----------------------------------------------------------------------------\n",
      "     0| 1.96e+21  1.79e+21  1.00e+00 -5.25e+23  1.04e+23  1.52e+23  2.19e-02 \n",
      "   100| 6.13e-01  3.17e-01  3.10e-01  1.16e+02  6.08e+01  2.26e-14  2.94e+00 \n",
      "----------------------------------------------------------------------------\n",
      "Status: Solved/Inaccurate\n",
      "Hit max_iters, solution may be inaccurate, returning best found solution.\n",
      "Timing: Solve time: 2.94e+00s\n",
      "\tLin-sys: nnz in L factor: 84659, avg solve time: 6.05e-04s\n",
      "\tCones: avg projection time: 2.01e-02s\n",
      "\tAcceleration: avg step time: 6.96e-03s\n",
      "----------------------------------------------------------------------------\n",
      "Error metrics:\n",
      "dist(s, K) = 2.1512e-09, dist(y, K*) = 3.8735e-09, s'y/|s||y| = 1.0975e-12\n",
      "primal res: |Ax + s - b|_2 / (1 + |b|_2) = 2.4836e-04\n",
      "dual res:   |A'y + c|_2 / (1 + |c|_2) = 2.6712e-04\n",
      "rel gap:    |c'x + b'y| / (1 + |c'x| + |b'y|) = 5.0651e-05\n",
      "----------------------------------------------------------------------------\n",
      "c'x = 115.7997, -b'y = 115.8115\n",
      "============================================================================\n"
     ]
    }
   ],
   "source": [
    "    n = np.array([[sum(y==0),35,30,27], [sum(y==1),37,32,27],\n",
    "                  [sum(y==2),32,27,24]])\n",
    "    p = np.array([3,5,8,13])    \n",
    "    res40 = compute_err(X,y, n, p, 3)"
   ]
  },
  {
   "cell_type": "markdown",
   "metadata": {
    "id": "wONgRx-WIJgF"
   },
   "source": [
    "## 50%"
   ]
  },
  {
   "cell_type": "code",
   "execution_count": null,
   "metadata": {
    "colab": {
     "base_uri": "https://localhost:8080/"
    },
    "executionInfo": {
     "elapsed": 815,
     "status": "ok",
     "timestamp": 1604541774855,
     "user": {
      "displayName": "Thu Nguyễn",
      "photoUrl": "https://lh3.googleusercontent.com/a-/AOh14GjaRl8WgKOjLdrEa69IqFm__Rq7udZ763hhFDl9=s64",
      "userId": "04714273295929622355"
     },
     "user_tz": 360
    },
    "id": "iPMpsUANILl0",
    "outputId": "894b72a1-2791-4950-e142-b0f5f89cb0ae"
   },
   "outputs": [
    {
     "data": {
      "text/plain": [
       "0.5043215211754538"
      ]
     },
     "execution_count": 59,
     "metadata": {
      "tags": []
     },
     "output_type": "execute_result"
    }
   ],
   "source": [
    "    n = np.array([[sum(y==0),35,27,22], [sum(y==1),35,27,22],\n",
    "                  [sum(y==2),30,25,20]])\n",
    "    p = np.array([2,4,5,13])    \n",
    "    missing_rate(X,y,n,p,3)"
   ]
  },
  {
   "cell_type": "code",
   "execution_count": null,
   "metadata": {
    "colab": {
     "base_uri": "https://localhost:8080/"
    },
    "executionInfo": {
     "elapsed": 6224,
     "status": "ok",
     "timestamp": 1604541788706,
     "user": {
      "displayName": "Thu Nguyễn",
      "photoUrl": "https://lh3.googleusercontent.com/a-/AOh14GjaRl8WgKOjLdrEa69IqFm__Rq7udZ763hhFDl9=s64",
      "userId": "04714273295929622355"
     },
     "user_tz": 360
    },
    "id": "T6XdCzvlJIxk",
    "outputId": "d0b9f98c-822b-474d-df32-38487a4e2b37"
   },
   "outputs": [
    {
     "name": "stdout",
     "output_type": "stream",
     "text": [
      "[SoftImpute] Max Singular Value of X_init = 18.613550\n",
      "[SoftImpute] Iter 1: observed MAE=0.030634 rank=13\n",
      "[SoftImpute] Iter 2: observed MAE=0.030655 rank=13\n",
      "[SoftImpute] Iter 3: observed MAE=0.030673 rank=13\n",
      "[SoftImpute] Iter 4: observed MAE=0.030689 rank=13\n",
      "[SoftImpute] Iter 5: observed MAE=0.030702 rank=13\n",
      "[SoftImpute] Iter 6: observed MAE=0.030715 rank=13\n",
      "[SoftImpute] Iter 7: observed MAE=0.030727 rank=13\n",
      "[SoftImpute] Iter 8: observed MAE=0.030738 rank=13\n",
      "[SoftImpute] Iter 9: observed MAE=0.030747 rank=13\n",
      "[SoftImpute] Iter 10: observed MAE=0.030756 rank=13\n",
      "[SoftImpute] Iter 11: observed MAE=0.030763 rank=13\n",
      "[SoftImpute] Iter 12: observed MAE=0.030771 rank=13\n",
      "[SoftImpute] Iter 13: observed MAE=0.030778 rank=13\n",
      "[SoftImpute] Iter 14: observed MAE=0.030785 rank=13\n",
      "[SoftImpute] Iter 15: observed MAE=0.030791 rank=13\n",
      "[SoftImpute] Iter 16: observed MAE=0.030798 rank=13\n",
      "[SoftImpute] Iter 17: observed MAE=0.030804 rank=13\n",
      "[SoftImpute] Iter 18: observed MAE=0.030810 rank=13\n",
      "[SoftImpute] Iter 19: observed MAE=0.030816 rank=13\n",
      "[SoftImpute] Iter 20: observed MAE=0.030821 rank=13\n",
      "[SoftImpute] Iter 21: observed MAE=0.030825 rank=13\n",
      "[SoftImpute] Iter 22: observed MAE=0.030830 rank=13\n",
      "[SoftImpute] Iter 23: observed MAE=0.030834 rank=13\n",
      "[SoftImpute] Iter 24: observed MAE=0.030838 rank=13\n",
      "[SoftImpute] Iter 25: observed MAE=0.030842 rank=13\n",
      "[SoftImpute] Iter 26: observed MAE=0.030845 rank=13\n",
      "[SoftImpute] Iter 27: observed MAE=0.030849 rank=13\n",
      "[SoftImpute] Iter 28: observed MAE=0.030852 rank=13\n",
      "[SoftImpute] Iter 29: observed MAE=0.030856 rank=13\n",
      "[SoftImpute] Iter 30: observed MAE=0.030859 rank=13\n",
      "[SoftImpute] Iter 31: observed MAE=0.030862 rank=13\n",
      "[SoftImpute] Iter 32: observed MAE=0.030865 rank=13\n",
      "[SoftImpute] Iter 33: observed MAE=0.030867 rank=13\n",
      "[SoftImpute] Iter 34: observed MAE=0.030870 rank=13\n",
      "[SoftImpute] Iter 35: observed MAE=0.030872 rank=13\n",
      "[SoftImpute] Iter 36: observed MAE=0.030874 rank=13\n",
      "[SoftImpute] Iter 37: observed MAE=0.030877 rank=13\n",
      "[SoftImpute] Iter 38: observed MAE=0.030879 rank=13\n",
      "[SoftImpute] Iter 39: observed MAE=0.030881 rank=13\n",
      "[SoftImpute] Iter 40: observed MAE=0.030884 rank=13\n",
      "[SoftImpute] Iter 41: observed MAE=0.030886 rank=13\n",
      "[SoftImpute] Iter 42: observed MAE=0.030888 rank=13\n",
      "[SoftImpute] Iter 43: observed MAE=0.030889 rank=13\n",
      "[SoftImpute] Iter 44: observed MAE=0.030891 rank=13\n",
      "[SoftImpute] Iter 45: observed MAE=0.030893 rank=13\n",
      "[SoftImpute] Iter 46: observed MAE=0.030894 rank=13\n",
      "[SoftImpute] Iter 47: observed MAE=0.030896 rank=13\n",
      "[SoftImpute] Iter 48: observed MAE=0.030898 rank=13\n",
      "[SoftImpute] Iter 49: observed MAE=0.030899 rank=13\n",
      "[SoftImpute] Iter 50: observed MAE=0.030900 rank=13\n",
      "[SoftImpute] Iter 51: observed MAE=0.030902 rank=13\n",
      "[SoftImpute] Iter 52: observed MAE=0.030904 rank=13\n",
      "[SoftImpute] Iter 53: observed MAE=0.030905 rank=13\n",
      "[SoftImpute] Iter 54: observed MAE=0.030907 rank=13\n",
      "[SoftImpute] Iter 55: observed MAE=0.030908 rank=13\n",
      "[SoftImpute] Iter 56: observed MAE=0.030910 rank=13\n",
      "[SoftImpute] Iter 57: observed MAE=0.030911 rank=13\n",
      "[SoftImpute] Iter 58: observed MAE=0.030912 rank=13\n",
      "[SoftImpute] Iter 59: observed MAE=0.030913 rank=13\n",
      "[SoftImpute] Iter 60: observed MAE=0.030915 rank=13\n",
      "[SoftImpute] Iter 61: observed MAE=0.030916 rank=13\n",
      "[SoftImpute] Iter 62: observed MAE=0.030917 rank=13\n",
      "[SoftImpute] Iter 63: observed MAE=0.030918 rank=13\n",
      "[SoftImpute] Iter 64: observed MAE=0.030919 rank=13\n",
      "[SoftImpute] Iter 65: observed MAE=0.030920 rank=13\n",
      "[SoftImpute] Iter 66: observed MAE=0.030921 rank=13\n",
      "[SoftImpute] Iter 67: observed MAE=0.030921 rank=13\n",
      "[SoftImpute] Iter 68: observed MAE=0.030922 rank=13\n",
      "[SoftImpute] Iter 69: observed MAE=0.030923 rank=13\n",
      "[SoftImpute] Iter 70: observed MAE=0.030924 rank=13\n",
      "[SoftImpute] Iter 71: observed MAE=0.030924 rank=13\n",
      "[SoftImpute] Iter 72: observed MAE=0.030925 rank=13\n",
      "[SoftImpute] Iter 73: observed MAE=0.030925 rank=13\n",
      "[SoftImpute] Iter 74: observed MAE=0.030926 rank=13\n",
      "[SoftImpute] Iter 75: observed MAE=0.030927 rank=13\n",
      "[SoftImpute] Iter 76: observed MAE=0.030927 rank=13\n",
      "[SoftImpute] Iter 77: observed MAE=0.030928 rank=13\n",
      "[SoftImpute] Iter 78: observed MAE=0.030928 rank=13\n",
      "[SoftImpute] Iter 79: observed MAE=0.030929 rank=13\n",
      "[SoftImpute] Iter 80: observed MAE=0.030929 rank=13\n",
      "[SoftImpute] Iter 81: observed MAE=0.030930 rank=13\n",
      "[SoftImpute] Iter 82: observed MAE=0.030930 rank=13\n",
      "[SoftImpute] Iter 83: observed MAE=0.030931 rank=13\n",
      "[SoftImpute] Iter 84: observed MAE=0.030931 rank=13\n",
      "[SoftImpute] Iter 85: observed MAE=0.030932 rank=13\n",
      "[SoftImpute] Iter 86: observed MAE=0.030932 rank=13\n",
      "[SoftImpute] Iter 87: observed MAE=0.030932 rank=13\n",
      "[SoftImpute] Iter 88: observed MAE=0.030933 rank=13\n",
      "[SoftImpute] Iter 89: observed MAE=0.030933 rank=13\n",
      "[SoftImpute] Iter 90: observed MAE=0.030934 rank=13\n",
      "[SoftImpute] Iter 91: observed MAE=0.030934 rank=13\n",
      "[SoftImpute] Iter 92: observed MAE=0.030934 rank=13\n",
      "[SoftImpute] Iter 93: observed MAE=0.030935 rank=13\n",
      "[SoftImpute] Iter 94: observed MAE=0.030935 rank=13\n",
      "[SoftImpute] Iter 95: observed MAE=0.030935 rank=13\n",
      "[SoftImpute] Iter 96: observed MAE=0.030936 rank=13\n",
      "[SoftImpute] Iter 97: observed MAE=0.030936 rank=13\n",
      "[SoftImpute] Iter 98: observed MAE=0.030936 rank=13\n",
      "[SoftImpute] Iter 99: observed MAE=0.030937 rank=13\n",
      "[SoftImpute] Iter 100: observed MAE=0.030937 rank=13\n",
      "[SoftImpute] Stopped after iteration 100 for lambda=0.372271\n",
      "----------------------------------------------------------------------------\n",
      "\tSCS v2.1.2 - Splitting Conic Solver\n",
      "\t(c) Brendan O'Donoghue, Stanford University, 2012\n",
      "----------------------------------------------------------------------------\n",
      "Lin-sys: sparse-direct, nnz in A = 32200\n",
      "eps = 1.00e-04, alpha = 1.50, max_iters = 100, normalize = 1, scale = 1.00\n",
      "acceleration_lookback = 10, rho_x = 1.00e-03\n",
      "Variables n = 22964, constraints m = 27592\n",
      "Cones:\tprimal zero / dual free vars: 2314\n",
      "\tlinear vars: 6942\n",
      "\tsd vars: 18336, sd blks: 1\n",
      "Setup time: 2.76e-02s\n",
      "----------------------------------------------------------------------------\n",
      " Iter | pri res | dua res | rel gap | pri obj | dua obj | kap/tau | time (s)\n",
      "----------------------------------------------------------------------------\n",
      "     0| 1.97e+21  1.80e+21  1.00e+00 -4.79e+23  9.47e+22  1.34e+23  2.01e-02 \n",
      "   100| 6.10e-04  6.45e-04  9.72e-06  1.04e+02  1.04e+02  2.43e-14  2.85e+00 \n",
      "----------------------------------------------------------------------------\n",
      "Status: Solved/Inaccurate\n",
      "Hit max_iters, solution may be inaccurate, returning best found solution.\n",
      "Timing: Solve time: 2.85e+00s\n",
      "\tLin-sys: nnz in L factor: 83903, avg solve time: 5.97e-04s\n",
      "\tCones: avg projection time: 1.96e-02s\n",
      "\tAcceleration: avg step time: 6.71e-03s\n",
      "----------------------------------------------------------------------------\n",
      "Error metrics:\n",
      "dist(s, K) = 2.3892e-09, dist(y, K*) = 1.6430e-09, s'y/|s||y| = 9.3832e-14\n",
      "primal res: |Ax + s - b|_2 / (1 + |b|_2) = 2.2471e-04\n",
      "dual res:   |A'y + c|_2 / (1 + |c|_2) = 2.8748e-04\n",
      "rel gap:    |c'x + b'y| / (1 + |c'x| + |b'y|) = 7.3022e-05\n",
      "----------------------------------------------------------------------------\n",
      "c'x = 103.6439, -b'y = 103.6591\n",
      "============================================================================\n"
     ]
    },
    {
     "data": {
      "text/plain": [
       "array([0.02202531, 0.11176594, 0.10991095, 0.11121482, 0.11705189,\n",
       "       0.11109865, 0.50432152])"
      ]
     },
     "execution_count": 60,
     "metadata": {
      "tags": []
     },
     "output_type": "execute_result"
    }
   ],
   "source": [
    "    res50 = compute_err(X,y, n, p, 3)\n",
    "    res50"
   ]
  },
  {
   "cell_type": "code",
   "execution_count": null,
   "metadata": {
    "id": "P_-3szBeJN4n"
   },
   "outputs": [],
   "source": []
  },
  {
   "cell_type": "markdown",
   "metadata": {
    "id": "0S8i0kZ97gPY"
   },
   "source": [
    "## results"
   ]
  },
  {
   "cell_type": "code",
   "execution_count": null,
   "metadata": {
    "colab": {
     "base_uri": "https://localhost:8080/"
    },
    "executionInfo": {
     "elapsed": 884,
     "status": "ok",
     "timestamp": 1603958030911,
     "user": {
      "displayName": "Thu Nguyễn",
      "photoUrl": "https://lh3.googleusercontent.com/a-/AOh14GjaRl8WgKOjLdrEa69IqFm__Rq7udZ763hhFDl9=s64",
      "userId": "04714273295929622355"
     },
     "user_tz": 300
    },
    "id": "32B-CF_GMP8i",
    "outputId": "f035c129-e42e-4124-c152-85ea2860a6a8"
   },
   "outputs": [
    {
     "data": {
      "text/plain": [
       "array([[0.0137993 , 0.11041898, 0.10881307, 0.10994632, 0.1106833 ,\n",
       "        0.10981267, 0.19662921],\n",
       "       [0.01573624, 0.11183001, 0.10827662, 0.11034529, 0.11737417,\n",
       "        0.1101785 , 0.30337079],\n",
       "       [0.01860003, 0.11285862, 0.10915379, 0.11180951, 0.11221969,\n",
       "        0.11161653, 0.39541919]])"
      ]
     },
     "execution_count": 40,
     "metadata": {
      "tags": []
     },
     "output_type": "execute_result"
    }
   ],
   "source": [
    "wine = np.vstack((res20, res30, res40))\n",
    "wine"
   ]
  },
  {
   "cell_type": "markdown",
   "metadata": {
    "id": "JE_FulEEAamU"
   },
   "source": [
    "# Iris\n",
    "The data set is also available in sklearn, as noted in the package's website. So, we load it directly from sklearn"
   ]
  },
  {
   "cell_type": "markdown",
   "metadata": {
    "id": "jYreIi6aSr-P"
   },
   "source": [
    "## 20%"
   ]
  },
  {
   "cell_type": "code",
   "execution_count": null,
   "metadata": {
    "id": "a_9LcSZcWd4v"
   },
   "outputs": [],
   "source": [
    "iris = datasets.load_iris()\n",
    "X,y = iris.data, iris.target.ravel() "
   ]
  },
  {
   "cell_type": "code",
   "execution_count": null,
   "metadata": {
    "id": "Xp36YbK_WcC2"
   },
   "outputs": [],
   "source": [
    "# set random seed and shuffle the data\n",
    "np.random.seed(1)\n",
    "idx = np.arange(len(y))\n",
    "np.random.shuffle(idx)\n",
    "X, y = X[idx,:], y[idx]  "
   ]
  },
  {
   "cell_type": "code",
   "execution_count": null,
   "metadata": {
    "colab": {
     "base_uri": "https://localhost:8080/"
    },
    "executionInfo": {
     "elapsed": 3383,
     "status": "ok",
     "timestamp": 1604541875319,
     "user": {
      "displayName": "Thu Nguyễn",
      "photoUrl": "https://lh3.googleusercontent.com/a-/AOh14GjaRl8WgKOjLdrEa69IqFm__Rq7udZ763hhFDl9=s64",
      "userId": "04714273295929622355"
     },
     "user_tz": 360
    },
    "id": "fwQFlV-yStWS",
    "outputId": "e7e84153-eb74-44e5-f54b-67a5b371feb3"
   },
   "outputs": [
    {
     "name": "stdout",
     "output_type": "stream",
     "text": [
      "[SoftImpute] Max Singular Value of X_init = 17.877569\n",
      "[SoftImpute] Iter 1: observed MAE=0.024402 rank=4\n",
      "[SoftImpute] Iter 2: observed MAE=0.024467 rank=4\n",
      "[SoftImpute] Iter 3: observed MAE=0.024532 rank=4\n",
      "[SoftImpute] Iter 4: observed MAE=0.024597 rank=4\n",
      "[SoftImpute] Iter 5: observed MAE=0.024662 rank=4\n",
      "[SoftImpute] Iter 6: observed MAE=0.024728 rank=4\n",
      "[SoftImpute] Iter 7: observed MAE=0.024790 rank=4\n",
      "[SoftImpute] Iter 8: observed MAE=0.024850 rank=4\n",
      "[SoftImpute] Iter 9: observed MAE=0.024906 rank=4\n",
      "[SoftImpute] Iter 10: observed MAE=0.024958 rank=4\n",
      "[SoftImpute] Iter 11: observed MAE=0.025011 rank=4\n",
      "[SoftImpute] Iter 12: observed MAE=0.025067 rank=4\n",
      "[SoftImpute] Iter 13: observed MAE=0.025124 rank=4\n",
      "[SoftImpute] Iter 14: observed MAE=0.025177 rank=4\n",
      "[SoftImpute] Iter 15: observed MAE=0.025229 rank=4\n",
      "[SoftImpute] Iter 16: observed MAE=0.025279 rank=4\n",
      "[SoftImpute] Iter 17: observed MAE=0.025329 rank=4\n",
      "[SoftImpute] Iter 18: observed MAE=0.025375 rank=4\n",
      "[SoftImpute] Iter 19: observed MAE=0.025418 rank=4\n",
      "[SoftImpute] Iter 20: observed MAE=0.025457 rank=4\n",
      "[SoftImpute] Iter 21: observed MAE=0.025493 rank=4\n",
      "[SoftImpute] Iter 22: observed MAE=0.025526 rank=4\n",
      "[SoftImpute] Iter 23: observed MAE=0.025557 rank=4\n",
      "[SoftImpute] Iter 24: observed MAE=0.025586 rank=4\n",
      "[SoftImpute] Iter 25: observed MAE=0.025612 rank=4\n",
      "[SoftImpute] Iter 26: observed MAE=0.025637 rank=4\n",
      "[SoftImpute] Iter 27: observed MAE=0.025659 rank=4\n",
      "[SoftImpute] Iter 28: observed MAE=0.025679 rank=4\n",
      "[SoftImpute] Iter 29: observed MAE=0.025697 rank=4\n",
      "[SoftImpute] Iter 30: observed MAE=0.025713 rank=4\n",
      "[SoftImpute] Iter 31: observed MAE=0.025727 rank=4\n",
      "[SoftImpute] Iter 32: observed MAE=0.025740 rank=4\n",
      "[SoftImpute] Iter 33: observed MAE=0.025751 rank=4\n",
      "[SoftImpute] Iter 34: observed MAE=0.025761 rank=4\n",
      "[SoftImpute] Iter 35: observed MAE=0.025770 rank=4\n",
      "[SoftImpute] Iter 36: observed MAE=0.025778 rank=4\n",
      "[SoftImpute] Iter 37: observed MAE=0.025786 rank=4\n",
      "[SoftImpute] Iter 38: observed MAE=0.025793 rank=4\n",
      "[SoftImpute] Iter 39: observed MAE=0.025800 rank=4\n",
      "[SoftImpute] Iter 40: observed MAE=0.025806 rank=4\n",
      "[SoftImpute] Iter 41: observed MAE=0.025812 rank=4\n",
      "[SoftImpute] Iter 42: observed MAE=0.025818 rank=4\n",
      "[SoftImpute] Iter 43: observed MAE=0.025824 rank=4\n",
      "[SoftImpute] Iter 44: observed MAE=0.025829 rank=4\n",
      "[SoftImpute] Iter 45: observed MAE=0.025834 rank=4\n",
      "[SoftImpute] Iter 46: observed MAE=0.025839 rank=4\n",
      "[SoftImpute] Iter 47: observed MAE=0.025843 rank=4\n",
      "[SoftImpute] Iter 48: observed MAE=0.025846 rank=4\n",
      "[SoftImpute] Iter 49: observed MAE=0.025850 rank=4\n",
      "[SoftImpute] Iter 50: observed MAE=0.025853 rank=4\n",
      "[SoftImpute] Iter 51: observed MAE=0.025856 rank=4\n",
      "[SoftImpute] Iter 52: observed MAE=0.025858 rank=4\n",
      "[SoftImpute] Iter 53: observed MAE=0.025861 rank=4\n",
      "[SoftImpute] Iter 54: observed MAE=0.025863 rank=4\n",
      "[SoftImpute] Iter 55: observed MAE=0.025865 rank=4\n",
      "[SoftImpute] Iter 56: observed MAE=0.025867 rank=4\n",
      "[SoftImpute] Iter 57: observed MAE=0.025869 rank=4\n",
      "[SoftImpute] Iter 58: observed MAE=0.025871 rank=4\n",
      "[SoftImpute] Iter 59: observed MAE=0.025872 rank=4\n",
      "[SoftImpute] Iter 60: observed MAE=0.025874 rank=4\n",
      "[SoftImpute] Iter 61: observed MAE=0.025875 rank=4\n",
      "[SoftImpute] Iter 62: observed MAE=0.025877 rank=4\n",
      "[SoftImpute] Iter 63: observed MAE=0.025878 rank=4\n",
      "[SoftImpute] Iter 64: observed MAE=0.025879 rank=4\n",
      "[SoftImpute] Iter 65: observed MAE=0.025880 rank=4\n",
      "[SoftImpute] Iter 66: observed MAE=0.025881 rank=4\n",
      "[SoftImpute] Iter 67: observed MAE=0.025882 rank=4\n",
      "[SoftImpute] Iter 68: observed MAE=0.025883 rank=4\n",
      "[SoftImpute] Iter 69: observed MAE=0.025884 rank=4\n",
      "[SoftImpute] Iter 70: observed MAE=0.025885 rank=4\n",
      "[SoftImpute] Iter 71: observed MAE=0.025885 rank=4\n",
      "[SoftImpute] Iter 72: observed MAE=0.025886 rank=4\n",
      "[SoftImpute] Iter 73: observed MAE=0.025887 rank=4\n",
      "[SoftImpute] Iter 74: observed MAE=0.025888 rank=4\n",
      "[SoftImpute] Iter 75: observed MAE=0.025888 rank=4\n",
      "[SoftImpute] Iter 76: observed MAE=0.025889 rank=4\n",
      "[SoftImpute] Iter 77: observed MAE=0.025890 rank=4\n",
      "[SoftImpute] Iter 78: observed MAE=0.025890 rank=4\n",
      "[SoftImpute] Iter 79: observed MAE=0.025891 rank=4\n",
      "[SoftImpute] Iter 80: observed MAE=0.025892 rank=4\n",
      "[SoftImpute] Iter 81: observed MAE=0.025892 rank=4\n",
      "[SoftImpute] Iter 82: observed MAE=0.025893 rank=4\n",
      "[SoftImpute] Iter 83: observed MAE=0.025893 rank=4\n",
      "[SoftImpute] Iter 84: observed MAE=0.025894 rank=4\n",
      "[SoftImpute] Iter 85: observed MAE=0.025894 rank=4\n",
      "[SoftImpute] Iter 86: observed MAE=0.025895 rank=4\n",
      "[SoftImpute] Iter 87: observed MAE=0.025895 rank=4\n",
      "[SoftImpute] Iter 88: observed MAE=0.025895 rank=4\n",
      "[SoftImpute] Iter 89: observed MAE=0.025896 rank=4\n",
      "[SoftImpute] Iter 90: observed MAE=0.025896 rank=4\n",
      "[SoftImpute] Iter 91: observed MAE=0.025896 rank=4\n",
      "[SoftImpute] Iter 92: observed MAE=0.025897 rank=4\n",
      "[SoftImpute] Iter 93: observed MAE=0.025897 rank=4\n",
      "[SoftImpute] Iter 94: observed MAE=0.025897 rank=4\n",
      "[SoftImpute] Iter 95: observed MAE=0.025898 rank=4\n",
      "[SoftImpute] Iter 96: observed MAE=0.025898 rank=4\n",
      "[SoftImpute] Iter 97: observed MAE=0.025898 rank=4\n",
      "[SoftImpute] Iter 98: observed MAE=0.025898 rank=4\n",
      "[SoftImpute] Iter 99: observed MAE=0.025899 rank=4\n",
      "[SoftImpute] Iter 100: observed MAE=0.025899 rank=4\n",
      "[SoftImpute] Stopped after iteration 100 for lambda=0.357551\n",
      "----------------------------------------------------------------------------\n",
      "\tSCS v2.1.2 - Splitting Conic Solver\n",
      "\t(c) Brendan O'Donoghue, Stanford University, 2012\n",
      "----------------------------------------------------------------------------\n",
      "Lin-sys: sparse-direct, nnz in A = 15895\n",
      "eps = 1.00e-04, alpha = 1.50, max_iters = 100, normalize = 1, scale = 1.00\n",
      "acceleration_lookback = 10, rho_x = 1.00e-03\n",
      "Variables n = 13135, constraints m = 14335\n",
      "Cones:\tprimal zero / dual free vars: 600\n",
      "\tlinear vars: 1800\n",
      "\tsd vars: 11935, sd blks: 1\n",
      "Setup time: 1.83e-02s\n",
      "----------------------------------------------------------------------------\n",
      " Iter | pri res | dua res | rel gap | pri obj | dua obj | kap/tau | time (s)\n",
      "----------------------------------------------------------------------------\n",
      "     0| 1.51e+21  1.36e+21  1.00e+00 -2.21e+23  4.01e+22  5.27e+22  1.26e-02 \n",
      "   100| 1.98e-01  1.01e-01  5.67e-02  3.59e+01  3.20e+01  3.41e-14  1.71e+00 \n",
      "----------------------------------------------------------------------------\n",
      "Status: Solved/Inaccurate\n",
      "Hit max_iters, solution may be inaccurate, returning best found solution.\n",
      "Timing: Solve time: 1.71e+00s\n",
      "\tLin-sys: nnz in L factor: 43845, avg solve time: 3.32e-04s\n",
      "\tCones: avg projection time: 1.24e-02s\n",
      "\tAcceleration: avg step time: 3.43e-03s\n",
      "----------------------------------------------------------------------------\n",
      "Error metrics:\n",
      "dist(s, K) = 2.3470e-09, dist(y, K*) = 2.3551e-09, s'y/|s||y| = 6.6980e-13\n",
      "primal res: |Ax + s - b|_2 / (1 + |b|_2) = 1.9711e-04\n",
      "dual res:   |A'y + c|_2 / (1 + |c|_2) = 2.4049e-04\n",
      "rel gap:    |c'x + b'y| / (1 + |c'x| + |b'y|) = 7.4490e-05\n",
      "----------------------------------------------------------------------------\n",
      "c'x = 35.9046, -b'y = 35.8992\n",
      "============================================================================\n"
     ]
    },
    {
     "data": {
      "text/plain": [
       "array([0.02617632, 0.28231714, 0.28823217, 0.28583875, 0.28528997,\n",
       "       0.28588525, 0.2       ])"
      ]
     },
     "execution_count": 63,
     "metadata": {
      "tags": []
     },
     "output_type": "execute_result"
    }
   ],
   "source": [
    "n = np.array([[sum(y==0),40,30], [sum(y==1),40,30],\n",
    "                  [sum(y==2),40,30]])\n",
    "p = np.array([1,3,4])    \n",
    "res20 =  compute_err(X,y, n, p, 3)\n",
    "res20"
   ]
  },
  {
   "cell_type": "markdown",
   "metadata": {
    "id": "2sWucEEoSprI"
   },
   "source": [
    "## 30%"
   ]
  },
  {
   "cell_type": "code",
   "execution_count": null,
   "metadata": {
    "colab": {
     "base_uri": "https://localhost:8080/"
    },
    "executionInfo": {
     "elapsed": 3068,
     "status": "ok",
     "timestamp": 1603958119901,
     "user": {
      "displayName": "Thu Nguyễn",
      "photoUrl": "https://lh3.googleusercontent.com/a-/AOh14GjaRl8WgKOjLdrEa69IqFm__Rq7udZ763hhFDl9=s64",
      "userId": "04714273295929622355"
     },
     "user_tz": 300
    },
    "id": "EeD_xY-jAc6h",
    "outputId": "5e5a82f7-1a1b-4fdc-eba3-2624c76c5880"
   },
   "outputs": [
    {
     "name": "stdout",
     "output_type": "stream",
     "text": [
      "[SoftImpute] Max Singular Value of X_init = 16.673944\n",
      "[SoftImpute] Iter 1: observed MAE=0.024106 rank=4\n",
      "[SoftImpute] Iter 2: observed MAE=0.024158 rank=4\n",
      "[SoftImpute] Iter 3: observed MAE=0.024210 rank=4\n",
      "[SoftImpute] Iter 4: observed MAE=0.024261 rank=4\n",
      "[SoftImpute] Iter 5: observed MAE=0.024312 rank=4\n",
      "[SoftImpute] Iter 6: observed MAE=0.024364 rank=4\n",
      "[SoftImpute] Iter 7: observed MAE=0.024415 rank=4\n",
      "[SoftImpute] Iter 8: observed MAE=0.024467 rank=4\n",
      "[SoftImpute] Iter 9: observed MAE=0.024519 rank=4\n",
      "[SoftImpute] Iter 10: observed MAE=0.024571 rank=4\n",
      "[SoftImpute] Iter 11: observed MAE=0.024620 rank=4\n",
      "[SoftImpute] Iter 12: observed MAE=0.024670 rank=4\n",
      "[SoftImpute] Iter 13: observed MAE=0.024719 rank=4\n",
      "[SoftImpute] Iter 14: observed MAE=0.024766 rank=4\n",
      "[SoftImpute] Iter 15: observed MAE=0.024812 rank=4\n",
      "[SoftImpute] Iter 16: observed MAE=0.024859 rank=4\n",
      "[SoftImpute] Iter 17: observed MAE=0.024909 rank=4\n",
      "[SoftImpute] Iter 18: observed MAE=0.024958 rank=4\n",
      "[SoftImpute] Iter 19: observed MAE=0.025005 rank=4\n",
      "[SoftImpute] Iter 20: observed MAE=0.025047 rank=4\n",
      "[SoftImpute] Iter 21: observed MAE=0.025087 rank=4\n",
      "[SoftImpute] Iter 22: observed MAE=0.025124 rank=4\n",
      "[SoftImpute] Iter 23: observed MAE=0.025159 rank=4\n",
      "[SoftImpute] Iter 24: observed MAE=0.025190 rank=4\n",
      "[SoftImpute] Iter 25: observed MAE=0.025219 rank=4\n",
      "[SoftImpute] Iter 26: observed MAE=0.025247 rank=4\n",
      "[SoftImpute] Iter 27: observed MAE=0.025272 rank=4\n",
      "[SoftImpute] Iter 28: observed MAE=0.025295 rank=4\n",
      "[SoftImpute] Iter 29: observed MAE=0.025317 rank=4\n",
      "[SoftImpute] Iter 30: observed MAE=0.025336 rank=4\n",
      "[SoftImpute] Iter 31: observed MAE=0.025354 rank=4\n",
      "[SoftImpute] Iter 32: observed MAE=0.025371 rank=4\n",
      "[SoftImpute] Iter 33: observed MAE=0.025386 rank=4\n",
      "[SoftImpute] Iter 34: observed MAE=0.025401 rank=4\n",
      "[SoftImpute] Iter 35: observed MAE=0.025413 rank=4\n",
      "[SoftImpute] Iter 36: observed MAE=0.025425 rank=4\n",
      "[SoftImpute] Iter 37: observed MAE=0.025436 rank=4\n",
      "[SoftImpute] Iter 38: observed MAE=0.025446 rank=4\n",
      "[SoftImpute] Iter 39: observed MAE=0.025456 rank=4\n",
      "[SoftImpute] Iter 40: observed MAE=0.025464 rank=4\n",
      "[SoftImpute] Iter 41: observed MAE=0.025472 rank=4\n",
      "[SoftImpute] Iter 42: observed MAE=0.025480 rank=4\n",
      "[SoftImpute] Iter 43: observed MAE=0.025486 rank=4\n",
      "[SoftImpute] Iter 44: observed MAE=0.025493 rank=4\n",
      "[SoftImpute] Iter 45: observed MAE=0.025500 rank=4\n",
      "[SoftImpute] Iter 46: observed MAE=0.025506 rank=4\n",
      "[SoftImpute] Iter 47: observed MAE=0.025512 rank=4\n",
      "[SoftImpute] Iter 48: observed MAE=0.025518 rank=4\n",
      "[SoftImpute] Iter 49: observed MAE=0.025523 rank=4\n",
      "[SoftImpute] Iter 50: observed MAE=0.025528 rank=4\n",
      "[SoftImpute] Iter 51: observed MAE=0.025532 rank=4\n",
      "[SoftImpute] Iter 52: observed MAE=0.025537 rank=4\n",
      "[SoftImpute] Iter 53: observed MAE=0.025541 rank=4\n",
      "[SoftImpute] Iter 54: observed MAE=0.025545 rank=4\n",
      "[SoftImpute] Iter 55: observed MAE=0.025548 rank=4\n",
      "[SoftImpute] Iter 56: observed MAE=0.025552 rank=4\n",
      "[SoftImpute] Iter 57: observed MAE=0.025555 rank=4\n",
      "[SoftImpute] Iter 58: observed MAE=0.025558 rank=4\n",
      "[SoftImpute] Iter 59: observed MAE=0.025561 rank=4\n",
      "[SoftImpute] Iter 60: observed MAE=0.025564 rank=4\n",
      "[SoftImpute] Iter 61: observed MAE=0.025567 rank=4\n",
      "[SoftImpute] Iter 62: observed MAE=0.025570 rank=4\n",
      "[SoftImpute] Iter 63: observed MAE=0.025572 rank=4\n",
      "[SoftImpute] Iter 64: observed MAE=0.025575 rank=4\n",
      "[SoftImpute] Iter 65: observed MAE=0.025577 rank=4\n",
      "[SoftImpute] Iter 66: observed MAE=0.025580 rank=4\n",
      "[SoftImpute] Iter 67: observed MAE=0.025582 rank=4\n",
      "[SoftImpute] Iter 68: observed MAE=0.025584 rank=4\n",
      "[SoftImpute] Iter 69: observed MAE=0.025586 rank=4\n",
      "[SoftImpute] Iter 70: observed MAE=0.025588 rank=4\n",
      "[SoftImpute] Iter 71: observed MAE=0.025589 rank=4\n",
      "[SoftImpute] Iter 72: observed MAE=0.025591 rank=4\n",
      "[SoftImpute] Iter 73: observed MAE=0.025593 rank=4\n",
      "[SoftImpute] Iter 74: observed MAE=0.025594 rank=4\n",
      "[SoftImpute] Iter 75: observed MAE=0.025596 rank=4\n",
      "[SoftImpute] Iter 76: observed MAE=0.025598 rank=4\n",
      "[SoftImpute] Iter 77: observed MAE=0.025599 rank=4\n",
      "[SoftImpute] Iter 78: observed MAE=0.025601 rank=4\n",
      "[SoftImpute] Iter 79: observed MAE=0.025602 rank=4\n",
      "[SoftImpute] Iter 80: observed MAE=0.025603 rank=4\n",
      "[SoftImpute] Iter 81: observed MAE=0.025604 rank=4\n",
      "[SoftImpute] Iter 82: observed MAE=0.025606 rank=4\n",
      "[SoftImpute] Iter 83: observed MAE=0.025607 rank=4\n",
      "[SoftImpute] Iter 84: observed MAE=0.025608 rank=4\n",
      "[SoftImpute] Iter 85: observed MAE=0.025609 rank=4\n",
      "[SoftImpute] Iter 86: observed MAE=0.025610 rank=4\n",
      "[SoftImpute] Iter 87: observed MAE=0.025611 rank=4\n",
      "[SoftImpute] Iter 88: observed MAE=0.025612 rank=4\n",
      "[SoftImpute] Iter 89: observed MAE=0.025613 rank=4\n",
      "[SoftImpute] Iter 90: observed MAE=0.025614 rank=4\n",
      "[SoftImpute] Iter 91: observed MAE=0.025615 rank=4\n",
      "[SoftImpute] Iter 92: observed MAE=0.025616 rank=4\n",
      "[SoftImpute] Iter 93: observed MAE=0.025616 rank=4\n",
      "[SoftImpute] Iter 94: observed MAE=0.025617 rank=4\n",
      "[SoftImpute] Iter 95: observed MAE=0.025618 rank=4\n",
      "[SoftImpute] Iter 96: observed MAE=0.025619 rank=4\n",
      "[SoftImpute] Iter 97: observed MAE=0.025619 rank=4\n",
      "[SoftImpute] Iter 98: observed MAE=0.025620 rank=4\n",
      "[SoftImpute] Iter 99: observed MAE=0.025621 rank=4\n",
      "[SoftImpute] Iter 100: observed MAE=0.025621 rank=4\n",
      "[SoftImpute] Stopped after iteration 100 for lambda=0.333479\n",
      "----------------------------------------------------------------------------\n",
      "\tSCS v2.1.2 - Splitting Conic Solver\n",
      "\t(c) Brendan O'Donoghue, Stanford University, 2012\n",
      "----------------------------------------------------------------------------\n",
      "Lin-sys: sparse-direct, nnz in A = 15781\n",
      "eps = 1.00e-04, alpha = 1.50, max_iters = 100, normalize = 1, scale = 1.00\n",
      "acceleration_lookback = 10, rho_x = 1.00e-03\n",
      "Variables n = 13135, constraints m = 14335\n",
      "Cones:\tprimal zero / dual free vars: 600\n",
      "\tlinear vars: 1800\n",
      "\tsd vars: 11935, sd blks: 1\n",
      "Setup time: 1.60e-02s\n",
      "----------------------------------------------------------------------------\n",
      " Iter | pri res | dua res | rel gap | pri obj | dua obj | kap/tau | time (s)\n",
      "----------------------------------------------------------------------------\n",
      "     0| 1.51e+21  1.36e+21  1.00e+00 -2.08e+23  3.78e+22  4.87e+22  1.20e-02 \n",
      "   100| 3.73e-04  5.41e-04  1.48e-04  3.39e+01  3.39e+01  2.46e-15  1.75e+00 \n",
      "----------------------------------------------------------------------------\n",
      "Status: Solved/Inaccurate\n",
      "Hit max_iters, solution may be inaccurate, returning best found solution.\n",
      "Timing: Solve time: 1.75e+00s\n",
      "\tLin-sys: nnz in L factor: 43674, avg solve time: 3.45e-04s\n",
      "\tCones: avg projection time: 1.26e-02s\n",
      "\tAcceleration: avg step time: 3.66e-03s\n",
      "----------------------------------------------------------------------------\n",
      "Error metrics:\n",
      "dist(s, K) = 2.5670e-09, dist(y, K*) = 2.9039e-09, s'y/|s||y| = -1.5518e-12\n",
      "primal res: |Ax + s - b|_2 / (1 + |b|_2) = 1.5120e-04\n",
      "dual res:   |A'y + c|_2 / (1 + |c|_2) = 1.2771e-04\n",
      "rel gap:    |c'x + b'y| / (1 + |c'x| + |b'y|) = 6.4878e-06\n",
      "----------------------------------------------------------------------------\n",
      "c'x = 33.8575, -b'y = 33.8579\n",
      "============================================================================\n"
     ]
    }
   ],
   "source": [
    "n = np.array([[sum(y==0),33,25], [sum(y==1),33,25],\n",
    "                  [sum(y==2),33,25]])\n",
    "p = np.array([1,3,4])\n",
    "res30 = compute_err(X,y, n, p, 3)"
   ]
  },
  {
   "cell_type": "code",
   "execution_count": null,
   "metadata": {
    "colab": {
     "base_uri": "https://localhost:8080/"
    },
    "executionInfo": {
     "elapsed": 1312,
     "status": "ok",
     "timestamp": 1603958149594,
     "user": {
      "displayName": "Thu Nguyễn",
      "photoUrl": "https://lh3.googleusercontent.com/a-/AOh14GjaRl8WgKOjLdrEa69IqFm__Rq7udZ763hhFDl9=s64",
      "userId": "04714273295929622355"
     },
     "user_tz": 300
    },
    "id": "zg2n4GjGKAp5",
    "outputId": "d9b68448-41db-456c-a6fb-5b61c4aa1def"
   },
   "outputs": [
    {
     "data": {
      "text/plain": [
       "array([0.03395849, 0.27457804, 0.28883123, 0.28049099, 0.29109052,\n",
       "       0.28089626, 0.295     ])"
      ]
     },
     "execution_count": 45,
     "metadata": {
      "tags": []
     },
     "output_type": "execute_result"
    }
   ],
   "source": [
    "res30"
   ]
  },
  {
   "cell_type": "markdown",
   "metadata": {
    "id": "Fie3E5JwCWqo"
   },
   "source": [
    "## 40%"
   ]
  },
  {
   "cell_type": "code",
   "execution_count": null,
   "metadata": {
    "colab": {
     "base_uri": "https://localhost:8080/"
    },
    "executionInfo": {
     "elapsed": 3280,
     "status": "ok",
     "timestamp": 1603958161609,
     "user": {
      "displayName": "Thu Nguyễn",
      "photoUrl": "https://lh3.googleusercontent.com/a-/AOh14GjaRl8WgKOjLdrEa69IqFm__Rq7udZ763hhFDl9=s64",
      "userId": "04714273295929622355"
     },
     "user_tz": 300
    },
    "id": "WeVyilQIaaEF",
    "outputId": "22bc2c3c-d6d8-4df0-eed2-a5d4b35edf9d"
   },
   "outputs": [
    {
     "name": "stdout",
     "output_type": "stream",
     "text": [
      "[SoftImpute] Max Singular Value of X_init = 15.236390\n",
      "[SoftImpute] Iter 1: observed MAE=0.024184 rank=4\n",
      "[SoftImpute] Iter 2: observed MAE=0.024225 rank=4\n",
      "[SoftImpute] Iter 3: observed MAE=0.024266 rank=4\n",
      "[SoftImpute] Iter 4: observed MAE=0.024308 rank=4\n",
      "[SoftImpute] Iter 5: observed MAE=0.024351 rank=4\n",
      "[SoftImpute] Iter 6: observed MAE=0.024395 rank=4\n",
      "[SoftImpute] Iter 7: observed MAE=0.024437 rank=4\n",
      "[SoftImpute] Iter 8: observed MAE=0.024480 rank=4\n",
      "[SoftImpute] Iter 9: observed MAE=0.024523 rank=4\n",
      "[SoftImpute] Iter 10: observed MAE=0.024563 rank=4\n",
      "[SoftImpute] Iter 11: observed MAE=0.024601 rank=4\n",
      "[SoftImpute] Iter 12: observed MAE=0.024637 rank=4\n",
      "[SoftImpute] Iter 13: observed MAE=0.024671 rank=4\n",
      "[SoftImpute] Iter 14: observed MAE=0.024704 rank=4\n",
      "[SoftImpute] Iter 15: observed MAE=0.024740 rank=4\n",
      "[SoftImpute] Iter 16: observed MAE=0.024775 rank=4\n",
      "[SoftImpute] Iter 17: observed MAE=0.024807 rank=4\n",
      "[SoftImpute] Iter 18: observed MAE=0.024839 rank=4\n",
      "[SoftImpute] Iter 19: observed MAE=0.024868 rank=4\n",
      "[SoftImpute] Iter 20: observed MAE=0.024900 rank=4\n",
      "[SoftImpute] Iter 21: observed MAE=0.024932 rank=4\n",
      "[SoftImpute] Iter 22: observed MAE=0.024962 rank=4\n",
      "[SoftImpute] Iter 23: observed MAE=0.024991 rank=4\n",
      "[SoftImpute] Iter 24: observed MAE=0.025017 rank=4\n",
      "[SoftImpute] Iter 25: observed MAE=0.025041 rank=4\n",
      "[SoftImpute] Iter 26: observed MAE=0.025064 rank=4\n",
      "[SoftImpute] Iter 27: observed MAE=0.025085 rank=4\n",
      "[SoftImpute] Iter 28: observed MAE=0.025104 rank=4\n",
      "[SoftImpute] Iter 29: observed MAE=0.025123 rank=4\n",
      "[SoftImpute] Iter 30: observed MAE=0.025141 rank=4\n",
      "[SoftImpute] Iter 31: observed MAE=0.025158 rank=4\n",
      "[SoftImpute] Iter 32: observed MAE=0.025174 rank=4\n",
      "[SoftImpute] Iter 33: observed MAE=0.025190 rank=4\n",
      "[SoftImpute] Iter 34: observed MAE=0.025203 rank=4\n",
      "[SoftImpute] Iter 35: observed MAE=0.025216 rank=4\n",
      "[SoftImpute] Iter 36: observed MAE=0.025227 rank=4\n",
      "[SoftImpute] Iter 37: observed MAE=0.025238 rank=4\n",
      "[SoftImpute] Iter 38: observed MAE=0.025247 rank=4\n",
      "[SoftImpute] Iter 39: observed MAE=0.025256 rank=4\n",
      "[SoftImpute] Iter 40: observed MAE=0.025265 rank=4\n",
      "[SoftImpute] Iter 41: observed MAE=0.025273 rank=4\n",
      "[SoftImpute] Iter 42: observed MAE=0.025281 rank=4\n",
      "[SoftImpute] Iter 43: observed MAE=0.025289 rank=4\n",
      "[SoftImpute] Iter 44: observed MAE=0.025297 rank=4\n",
      "[SoftImpute] Iter 45: observed MAE=0.025304 rank=4\n",
      "[SoftImpute] Iter 46: observed MAE=0.025310 rank=4\n",
      "[SoftImpute] Iter 47: observed MAE=0.025317 rank=4\n",
      "[SoftImpute] Iter 48: observed MAE=0.025323 rank=4\n",
      "[SoftImpute] Iter 49: observed MAE=0.025329 rank=4\n",
      "[SoftImpute] Iter 50: observed MAE=0.025334 rank=4\n",
      "[SoftImpute] Iter 51: observed MAE=0.025340 rank=4\n",
      "[SoftImpute] Iter 52: observed MAE=0.025345 rank=4\n",
      "[SoftImpute] Iter 53: observed MAE=0.025350 rank=4\n",
      "[SoftImpute] Iter 54: observed MAE=0.025355 rank=4\n",
      "[SoftImpute] Iter 55: observed MAE=0.025359 rank=4\n",
      "[SoftImpute] Iter 56: observed MAE=0.025364 rank=4\n",
      "[SoftImpute] Iter 57: observed MAE=0.025368 rank=4\n",
      "[SoftImpute] Iter 58: observed MAE=0.025373 rank=4\n",
      "[SoftImpute] Iter 59: observed MAE=0.025377 rank=4\n",
      "[SoftImpute] Iter 60: observed MAE=0.025382 rank=4\n",
      "[SoftImpute] Iter 61: observed MAE=0.025386 rank=4\n",
      "[SoftImpute] Iter 62: observed MAE=0.025389 rank=4\n",
      "[SoftImpute] Iter 63: observed MAE=0.025393 rank=4\n",
      "[SoftImpute] Iter 64: observed MAE=0.025397 rank=4\n",
      "[SoftImpute] Iter 65: observed MAE=0.025400 rank=4\n",
      "[SoftImpute] Iter 66: observed MAE=0.025404 rank=4\n",
      "[SoftImpute] Iter 67: observed MAE=0.025407 rank=4\n",
      "[SoftImpute] Iter 68: observed MAE=0.025410 rank=4\n",
      "[SoftImpute] Iter 69: observed MAE=0.025413 rank=4\n",
      "[SoftImpute] Iter 70: observed MAE=0.025416 rank=4\n",
      "[SoftImpute] Iter 71: observed MAE=0.025419 rank=4\n",
      "[SoftImpute] Iter 72: observed MAE=0.025422 rank=4\n",
      "[SoftImpute] Iter 73: observed MAE=0.025424 rank=4\n",
      "[SoftImpute] Iter 74: observed MAE=0.025427 rank=4\n",
      "[SoftImpute] Iter 75: observed MAE=0.025429 rank=4\n",
      "[SoftImpute] Iter 76: observed MAE=0.025432 rank=4\n",
      "[SoftImpute] Iter 77: observed MAE=0.025434 rank=4\n",
      "[SoftImpute] Iter 78: observed MAE=0.025436 rank=4\n",
      "[SoftImpute] Iter 79: observed MAE=0.025438 rank=4\n",
      "[SoftImpute] Iter 80: observed MAE=0.025440 rank=4\n",
      "[SoftImpute] Iter 81: observed MAE=0.025442 rank=4\n",
      "[SoftImpute] Iter 82: observed MAE=0.025444 rank=4\n",
      "[SoftImpute] Iter 83: observed MAE=0.025446 rank=4\n",
      "[SoftImpute] Iter 84: observed MAE=0.025448 rank=4\n",
      "[SoftImpute] Iter 85: observed MAE=0.025450 rank=4\n",
      "[SoftImpute] Iter 86: observed MAE=0.025452 rank=4\n",
      "[SoftImpute] Iter 87: observed MAE=0.025454 rank=4\n",
      "[SoftImpute] Iter 88: observed MAE=0.025455 rank=4\n",
      "[SoftImpute] Iter 89: observed MAE=0.025457 rank=4\n",
      "[SoftImpute] Iter 90: observed MAE=0.025459 rank=4\n",
      "[SoftImpute] Iter 91: observed MAE=0.025460 rank=4\n",
      "[SoftImpute] Iter 92: observed MAE=0.025462 rank=4\n",
      "[SoftImpute] Iter 93: observed MAE=0.025463 rank=4\n",
      "[SoftImpute] Iter 94: observed MAE=0.025464 rank=4\n",
      "[SoftImpute] Iter 95: observed MAE=0.025466 rank=4\n",
      "[SoftImpute] Iter 96: observed MAE=0.025467 rank=4\n",
      "[SoftImpute] Iter 97: observed MAE=0.025469 rank=4\n",
      "[SoftImpute] Iter 98: observed MAE=0.025470 rank=4\n",
      "[SoftImpute] Iter 99: observed MAE=0.025471 rank=4\n",
      "[SoftImpute] Iter 100: observed MAE=0.025472 rank=4\n",
      "[SoftImpute] Stopped after iteration 100 for lambda=0.304728\n",
      "----------------------------------------------------------------------------\n",
      "\tSCS v2.1.2 - Splitting Conic Solver\n",
      "\t(c) Brendan O'Donoghue, Stanford University, 2012\n",
      "----------------------------------------------------------------------------\n",
      "Lin-sys: sparse-direct, nnz in A = 15651\n",
      "eps = 1.00e-04, alpha = 1.50, max_iters = 100, normalize = 1, scale = 1.00\n",
      "acceleration_lookback = 10, rho_x = 1.00e-03\n",
      "Variables n = 13135, constraints m = 14335\n",
      "Cones:\tprimal zero / dual free vars: 600\n",
      "\tlinear vars: 1800\n",
      "\tsd vars: 11935, sd blks: 1\n",
      "Setup time: 1.85e-02s\n",
      "----------------------------------------------------------------------------\n",
      " Iter | pri res | dua res | rel gap | pri obj | dua obj | kap/tau | time (s)\n",
      "----------------------------------------------------------------------------\n",
      "     0| 1.52e+21  1.37e+21  1.00e+00 -1.92e+23  3.49e+22  4.41e+22  1.43e-02 \n",
      "   100| 9.66e-04  1.13e-03  1.17e-04  3.10e+01  3.10e+01  3.03e-14  1.75e+00 \n",
      "----------------------------------------------------------------------------\n",
      "Status: Solved/Inaccurate\n",
      "Hit max_iters, solution may be inaccurate, returning best found solution.\n",
      "Timing: Solve time: 1.75e+00s\n",
      "\tLin-sys: nnz in L factor: 43479, avg solve time: 3.38e-04s\n",
      "\tCones: avg projection time: 1.26e-02s\n",
      "\tAcceleration: avg step time: 3.67e-03s\n",
      "----------------------------------------------------------------------------\n",
      "Error metrics:\n",
      "dist(s, K) = 2.0014e-09, dist(y, K*) = 1.5651e-09, s'y/|s||y| = 1.6605e-12\n",
      "primal res: |Ax + s - b|_2 / (1 + |b|_2) = 2.2704e-04\n",
      "dual res:   |A'y + c|_2 / (1 + |c|_2) = 2.7049e-04\n",
      "rel gap:    |c'x + b'y| / (1 + |c'x| + |b'y|) = 1.1503e-04\n",
      "----------------------------------------------------------------------------\n",
      "c'x = 30.9720, -b'y = 30.9648\n",
      "============================================================================\n"
     ]
    },
    {
     "data": {
      "text/plain": [
       "array([0.05280262, 0.26091433, 0.27716668, 0.26623964, 0.26205479,\n",
       "       0.26709203, 0.40333333])"
      ]
     },
     "execution_count": 46,
     "metadata": {
      "tags": []
     },
     "output_type": "execute_result"
    }
   ],
   "source": [
    "n = np.array([[sum(y==0),28,20], [sum(y==1),28,20],\n",
    "                  [sum(y==2),20,16]])\n",
    "p = np.array([1,3,4])\n",
    "res40 = compute_err(X, y, n, p, 3)\n",
    "res40 "
   ]
  },
  {
   "cell_type": "code",
   "execution_count": null,
   "metadata": {
    "colab": {
     "base_uri": "https://localhost:8080/"
    },
    "executionInfo": {
     "elapsed": 1203,
     "status": "ok",
     "timestamp": 1603958174375,
     "user": {
      "displayName": "Thu Nguyễn",
      "photoUrl": "https://lh3.googleusercontent.com/a-/AOh14GjaRl8WgKOjLdrEa69IqFm__Rq7udZ763hhFDl9=s64",
      "userId": "04714273295929622355"
     },
     "user_tz": 300
    },
    "id": "Lzh0CvE5axI7",
    "outputId": "0b09c0dc-0d8f-49d9-cde8-abf9c7717fa9"
   },
   "outputs": [
    {
     "data": {
      "text/plain": [
       "array([[0.02617632, 0.28231714, 0.28823217, 0.28583875, 0.28528997,\n",
       "        0.28588525, 0.2       ],\n",
       "       [0.03395849, 0.27457804, 0.28883123, 0.28049099, 0.29109052,\n",
       "        0.28089626, 0.295     ],\n",
       "       [0.05280262, 0.26091433, 0.27716668, 0.26623964, 0.26205479,\n",
       "        0.26709203, 0.40333333]])"
      ]
     },
     "execution_count": 47,
     "metadata": {
      "tags": []
     },
     "output_type": "execute_result"
    }
   ],
   "source": [
    "iris = np.vstack((res20, res30, res40))\n",
    "iris"
   ]
  },
  {
   "cell_type": "markdown",
   "metadata": {
    "id": "3Nc4MP6KJjWl"
   },
   "source": [
    "## 50\\%\n"
   ]
  },
  {
   "cell_type": "code",
   "execution_count": null,
   "metadata": {
    "colab": {
     "base_uri": "https://localhost:8080/"
    },
    "executionInfo": {
     "elapsed": 975,
     "status": "ok",
     "timestamp": 1604541996054,
     "user": {
      "displayName": "Thu Nguyễn",
      "photoUrl": "https://lh3.googleusercontent.com/a-/AOh14GjaRl8WgKOjLdrEa69IqFm__Rq7udZ763hhFDl9=s64",
      "userId": "04714273295929622355"
     },
     "user_tz": 360
    },
    "id": "V0JLdzcyJnFS",
    "outputId": "b620c83a-41e4-4068-d9f5-35adeb301779"
   },
   "outputs": [
    {
     "data": {
      "text/plain": [
       "0.495"
      ]
     },
     "execution_count": 66,
     "metadata": {
      "tags": []
     },
     "output_type": "execute_result"
    }
   ],
   "source": [
    "n = np.array([[sum(y==0),18,15], [sum(y==1),18,15],\n",
    "                  [sum(y==2),18,15]])\n",
    "p = np.array([1,3,4])\n",
    "missing_rate(X,y,n,p,3)"
   ]
  },
  {
   "cell_type": "code",
   "execution_count": null,
   "metadata": {
    "colab": {
     "base_uri": "https://localhost:8080/"
    },
    "executionInfo": {
     "elapsed": 3386,
     "status": "ok",
     "timestamp": 1604542004058,
     "user": {
      "displayName": "Thu Nguyễn",
      "photoUrl": "https://lh3.googleusercontent.com/a-/AOh14GjaRl8WgKOjLdrEa69IqFm__Rq7udZ763hhFDl9=s64",
      "userId": "04714273295929622355"
     },
     "user_tz": 360
    },
    "id": "9g-bOC03J-Sw",
    "outputId": "a66ff691-6b01-4451-cbf6-0d8a36e68572"
   },
   "outputs": [
    {
     "name": "stdout",
     "output_type": "stream",
     "text": [
      "[SoftImpute] Max Singular Value of X_init = 13.991957\n",
      "[SoftImpute] Iter 1: observed MAE=0.023908 rank=4\n",
      "[SoftImpute] Iter 2: observed MAE=0.023949 rank=4\n",
      "[SoftImpute] Iter 3: observed MAE=0.023988 rank=4\n",
      "[SoftImpute] Iter 4: observed MAE=0.024024 rank=4\n",
      "[SoftImpute] Iter 5: observed MAE=0.024058 rank=4\n",
      "[SoftImpute] Iter 6: observed MAE=0.024090 rank=4\n",
      "[SoftImpute] Iter 7: observed MAE=0.024119 rank=4\n",
      "[SoftImpute] Iter 8: observed MAE=0.024147 rank=4\n",
      "[SoftImpute] Iter 9: observed MAE=0.024175 rank=4\n",
      "[SoftImpute] Iter 10: observed MAE=0.024200 rank=4\n",
      "[SoftImpute] Iter 11: observed MAE=0.024227 rank=4\n",
      "[SoftImpute] Iter 12: observed MAE=0.024257 rank=4\n",
      "[SoftImpute] Iter 13: observed MAE=0.024286 rank=4\n",
      "[SoftImpute] Iter 14: observed MAE=0.024315 rank=4\n",
      "[SoftImpute] Iter 15: observed MAE=0.024344 rank=4\n",
      "[SoftImpute] Iter 16: observed MAE=0.024371 rank=4\n",
      "[SoftImpute] Iter 17: observed MAE=0.024395 rank=4\n",
      "[SoftImpute] Iter 18: observed MAE=0.024415 rank=4\n",
      "[SoftImpute] Iter 19: observed MAE=0.024433 rank=4\n",
      "[SoftImpute] Iter 20: observed MAE=0.024448 rank=4\n",
      "[SoftImpute] Iter 21: observed MAE=0.024461 rank=4\n",
      "[SoftImpute] Iter 22: observed MAE=0.024472 rank=4\n",
      "[SoftImpute] Iter 23: observed MAE=0.024481 rank=4\n",
      "[SoftImpute] Iter 24: observed MAE=0.024489 rank=4\n",
      "[SoftImpute] Iter 25: observed MAE=0.024497 rank=4\n",
      "[SoftImpute] Iter 26: observed MAE=0.024503 rank=4\n",
      "[SoftImpute] Iter 27: observed MAE=0.024508 rank=4\n",
      "[SoftImpute] Iter 28: observed MAE=0.024513 rank=4\n",
      "[SoftImpute] Iter 29: observed MAE=0.024521 rank=4\n",
      "[SoftImpute] Iter 30: observed MAE=0.024529 rank=4\n",
      "[SoftImpute] Iter 31: observed MAE=0.024536 rank=4\n",
      "[SoftImpute] Iter 32: observed MAE=0.024543 rank=4\n",
      "[SoftImpute] Iter 33: observed MAE=0.024550 rank=4\n",
      "[SoftImpute] Iter 34: observed MAE=0.024558 rank=4\n",
      "[SoftImpute] Iter 35: observed MAE=0.024566 rank=4\n",
      "[SoftImpute] Iter 36: observed MAE=0.024573 rank=4\n",
      "[SoftImpute] Iter 37: observed MAE=0.024581 rank=4\n",
      "[SoftImpute] Iter 38: observed MAE=0.024587 rank=4\n",
      "[SoftImpute] Iter 39: observed MAE=0.024594 rank=4\n",
      "[SoftImpute] Iter 40: observed MAE=0.024600 rank=4\n",
      "[SoftImpute] Iter 41: observed MAE=0.024606 rank=4\n",
      "[SoftImpute] Iter 42: observed MAE=0.024612 rank=4\n",
      "[SoftImpute] Iter 43: observed MAE=0.024617 rank=4\n",
      "[SoftImpute] Iter 44: observed MAE=0.024623 rank=4\n",
      "[SoftImpute] Iter 45: observed MAE=0.024629 rank=4\n",
      "[SoftImpute] Iter 46: observed MAE=0.024634 rank=4\n",
      "[SoftImpute] Iter 47: observed MAE=0.024639 rank=4\n",
      "[SoftImpute] Iter 48: observed MAE=0.024644 rank=4\n",
      "[SoftImpute] Iter 49: observed MAE=0.024649 rank=4\n",
      "[SoftImpute] Iter 50: observed MAE=0.024653 rank=4\n",
      "[SoftImpute] Iter 51: observed MAE=0.024658 rank=4\n",
      "[SoftImpute] Iter 52: observed MAE=0.024662 rank=4\n",
      "[SoftImpute] Iter 53: observed MAE=0.024666 rank=4\n",
      "[SoftImpute] Iter 54: observed MAE=0.024670 rank=4\n",
      "[SoftImpute] Iter 55: observed MAE=0.024674 rank=4\n",
      "[SoftImpute] Iter 56: observed MAE=0.024678 rank=4\n",
      "[SoftImpute] Iter 57: observed MAE=0.024681 rank=4\n",
      "[SoftImpute] Iter 58: observed MAE=0.024684 rank=4\n",
      "[SoftImpute] Iter 59: observed MAE=0.024688 rank=4\n",
      "[SoftImpute] Iter 60: observed MAE=0.024691 rank=4\n",
      "[SoftImpute] Iter 61: observed MAE=0.024695 rank=4\n",
      "[SoftImpute] Iter 62: observed MAE=0.024698 rank=4\n",
      "[SoftImpute] Iter 63: observed MAE=0.024702 rank=4\n",
      "[SoftImpute] Iter 64: observed MAE=0.024705 rank=4\n",
      "[SoftImpute] Iter 65: observed MAE=0.024708 rank=4\n",
      "[SoftImpute] Iter 66: observed MAE=0.024711 rank=4\n",
      "[SoftImpute] Iter 67: observed MAE=0.024715 rank=4\n",
      "[SoftImpute] Iter 68: observed MAE=0.024718 rank=4\n",
      "[SoftImpute] Iter 69: observed MAE=0.024721 rank=4\n",
      "[SoftImpute] Iter 70: observed MAE=0.024725 rank=4\n",
      "[SoftImpute] Iter 71: observed MAE=0.024728 rank=4\n",
      "[SoftImpute] Iter 72: observed MAE=0.024731 rank=4\n",
      "[SoftImpute] Iter 73: observed MAE=0.024733 rank=4\n",
      "[SoftImpute] Iter 74: observed MAE=0.024736 rank=4\n",
      "[SoftImpute] Iter 75: observed MAE=0.024739 rank=4\n",
      "[SoftImpute] Iter 76: observed MAE=0.024741 rank=4\n",
      "[SoftImpute] Iter 77: observed MAE=0.024744 rank=4\n",
      "[SoftImpute] Iter 78: observed MAE=0.024746 rank=4\n",
      "[SoftImpute] Iter 79: observed MAE=0.024748 rank=4\n",
      "[SoftImpute] Iter 80: observed MAE=0.024751 rank=4\n",
      "[SoftImpute] Iter 81: observed MAE=0.024753 rank=4\n",
      "[SoftImpute] Iter 82: observed MAE=0.024755 rank=4\n",
      "[SoftImpute] Iter 83: observed MAE=0.024758 rank=4\n",
      "[SoftImpute] Iter 84: observed MAE=0.024760 rank=4\n",
      "[SoftImpute] Iter 85: observed MAE=0.024762 rank=4\n",
      "[SoftImpute] Iter 86: observed MAE=0.024764 rank=4\n",
      "[SoftImpute] Iter 87: observed MAE=0.024766 rank=4\n",
      "[SoftImpute] Iter 88: observed MAE=0.024768 rank=4\n",
      "[SoftImpute] Iter 89: observed MAE=0.024770 rank=4\n",
      "[SoftImpute] Iter 90: observed MAE=0.024772 rank=4\n",
      "[SoftImpute] Iter 91: observed MAE=0.024774 rank=4\n",
      "[SoftImpute] Iter 92: observed MAE=0.024776 rank=4\n",
      "[SoftImpute] Iter 93: observed MAE=0.024778 rank=4\n",
      "[SoftImpute] Iter 94: observed MAE=0.024779 rank=4\n",
      "[SoftImpute] Iter 95: observed MAE=0.024781 rank=4\n",
      "[SoftImpute] Iter 96: observed MAE=0.024783 rank=4\n",
      "[SoftImpute] Iter 97: observed MAE=0.024784 rank=4\n",
      "[SoftImpute] Iter 98: observed MAE=0.024786 rank=4\n",
      "[SoftImpute] Iter 99: observed MAE=0.024787 rank=4\n",
      "[SoftImpute] Iter 100: observed MAE=0.024789 rank=4\n",
      "[SoftImpute] Stopped after iteration 100 for lambda=0.279839\n",
      "----------------------------------------------------------------------------\n",
      "\tSCS v2.1.2 - Splitting Conic Solver\n",
      "\t(c) Brendan O'Donoghue, Stanford University, 2012\n",
      "----------------------------------------------------------------------------\n",
      "Lin-sys: sparse-direct, nnz in A = 15541\n",
      "eps = 1.00e-04, alpha = 1.50, max_iters = 100, normalize = 1, scale = 1.00\n",
      "acceleration_lookback = 10, rho_x = 1.00e-03\n",
      "Variables n = 13135, constraints m = 14335\n",
      "Cones:\tprimal zero / dual free vars: 600\n",
      "\tlinear vars: 1800\n",
      "\tsd vars: 11935, sd blks: 1\n",
      "Setup time: 1.69e-02s\n",
      "----------------------------------------------------------------------------\n",
      " Iter | pri res | dua res | rel gap | pri obj | dua obj | kap/tau | time (s)\n",
      "----------------------------------------------------------------------------\n",
      "     0| 1.52e+21  1.37e+21  1.00e+00 -1.77e+23  3.22e+22  3.99e+22  1.57e-02 \n",
      "   100| 7.90e-04  8.60e-04  3.93e-05  2.85e+01  2.85e+01  2.22e-14  1.74e+00 \n",
      "----------------------------------------------------------------------------\n",
      "Status: Solved/Inaccurate\n",
      "Hit max_iters, solution may be inaccurate, returning best found solution.\n",
      "Timing: Solve time: 1.74e+00s\n",
      "\tLin-sys: nnz in L factor: 43314, avg solve time: 3.30e-04s\n",
      "\tCones: avg projection time: 1.25e-02s\n",
      "\tAcceleration: avg step time: 3.64e-03s\n",
      "----------------------------------------------------------------------------\n",
      "Error metrics:\n",
      "dist(s, K) = 2.3325e-09, dist(y, K*) = 2.1460e-09, s'y/|s||y| = 3.3244e-13\n",
      "primal res: |Ax + s - b|_2 / (1 + |b|_2) = 1.3539e-04\n",
      "dual res:   |A'y + c|_2 / (1 + |c|_2) = 1.3178e-04\n",
      "rel gap:    |c'x + b'y| / (1 + |c'x| + |b'y|) = 1.3928e-05\n",
      "----------------------------------------------------------------------------\n",
      "c'x = 28.4900, -b'y = 28.4892\n",
      "============================================================================\n"
     ]
    },
    {
     "data": {
      "text/plain": [
       "array([0.05290464, 0.26600708, 0.28223469, 0.26908135, 0.26718232,\n",
       "       0.26983943, 0.495     ])"
      ]
     },
     "execution_count": 67,
     "metadata": {
      "tags": []
     },
     "output_type": "execute_result"
    }
   ],
   "source": [
    "res50 = compute_err(X, y, n, p, 3)\n",
    "res50 "
   ]
  },
  {
   "cell_type": "markdown",
   "metadata": {
    "id": "yHtyE8f2_yKK"
   },
   "source": [
    "# Digits"
   ]
  },
  {
   "cell_type": "code",
   "execution_count": null,
   "metadata": {
    "colab": {
     "base_uri": "https://localhost:8080/"
    },
    "executionInfo": {
     "elapsed": 1151,
     "status": "ok",
     "timestamp": 1604539087690,
     "user": {
      "displayName": "Thu Nguyễn",
      "photoUrl": "https://lh3.googleusercontent.com/a-/AOh14GjaRl8WgKOjLdrEa69IqFm__Rq7udZ763hhFDl9=s64",
      "userId": "04714273295929622355"
     },
     "user_tz": 360
    },
    "id": "ke4friFzAOp0",
    "outputId": "73cb3f3f-ad71-4415-95f3-a9b3496377ba"
   },
   "outputs": [
    {
     "name": "stdout",
     "output_type": "stream",
     "text": [
      "(1797, 64)\n"
     ]
    },
    {
     "data": {
      "text/plain": [
       "(1797, 54)"
      ]
     },
     "execution_count": 18,
     "metadata": {
      "tags": []
     },
     "output_type": "execute_result"
    }
   ],
   "source": [
    "digits = datasets.load_digits()\n",
    "X,y = digits.data, digits.target.ravel() \n",
    "print(X.shape)\n",
    "rmid = np.where(sum(X!=0)<10)\n",
    "X = np.delete(X, rmid,axis = 1)\n",
    "X.shape"
   ]
  },
  {
   "cell_type": "code",
   "execution_count": null,
   "metadata": {
    "id": "FJYO4faBXLcA"
   },
   "outputs": [],
   "source": [
    "# set random seed and shuffle the data\n",
    "np.random.seed(1)\n",
    "idx = np.arange(len(y))\n",
    "np.random.shuffle(idx)\n",
    "X, y = X[idx,:], y[idx]  "
   ]
  },
  {
   "cell_type": "markdown",
   "metadata": {
    "id": "idCSgJbTrgvm"
   },
   "source": [
    "## 20%"
   ]
  },
  {
   "cell_type": "code",
   "execution_count": null,
   "metadata": {
    "colab": {
     "base_uri": "https://localhost:8080/"
    },
    "executionInfo": {
     "elapsed": 2778,
     "status": "ok",
     "timestamp": 1603960661194,
     "user": {
      "displayName": "Thu Nguyễn",
      "photoUrl": "https://lh3.googleusercontent.com/a-/AOh14GjaRl8WgKOjLdrEa69IqFm__Rq7udZ763hhFDl9=s64",
      "userId": "04714273295929622355"
     },
     "user_tz": 300
    },
    "id": "MPe3MA5D_z_G",
    "outputId": "fda81ee7-4dd2-4858-d7b4-d63946e13127"
   },
   "outputs": [
    {
     "name": "stdout",
     "output_type": "stream",
     "text": [
      "[SoftImpute] Max Singular Value of X_init = 100.751609\n",
      "[SoftImpute] Iter 1: observed MAE=0.037778 rank=54\n",
      "[SoftImpute] Iter 2: observed MAE=0.037813 rank=54\n",
      "[SoftImpute] Iter 3: observed MAE=0.037843 rank=54\n",
      "[SoftImpute] Iter 4: observed MAE=0.037870 rank=54\n",
      "[SoftImpute] Iter 5: observed MAE=0.037893 rank=54\n",
      "[SoftImpute] Iter 6: observed MAE=0.037914 rank=54\n",
      "[SoftImpute] Iter 7: observed MAE=0.037932 rank=54\n",
      "[SoftImpute] Iter 8: observed MAE=0.037947 rank=54\n",
      "[SoftImpute] Iter 9: observed MAE=0.037962 rank=54\n",
      "[SoftImpute] Iter 10: observed MAE=0.037974 rank=54\n",
      "[SoftImpute] Iter 11: observed MAE=0.037985 rank=54\n",
      "[SoftImpute] Iter 12: observed MAE=0.037995 rank=54\n",
      "[SoftImpute] Iter 13: observed MAE=0.038004 rank=54\n",
      "[SoftImpute] Iter 14: observed MAE=0.038011 rank=54\n",
      "[SoftImpute] Iter 15: observed MAE=0.038018 rank=54\n",
      "[SoftImpute] Iter 16: observed MAE=0.038025 rank=54\n",
      "[SoftImpute] Iter 17: observed MAE=0.038030 rank=54\n",
      "[SoftImpute] Iter 18: observed MAE=0.038035 rank=54\n",
      "[SoftImpute] Iter 19: observed MAE=0.038040 rank=54\n",
      "[SoftImpute] Iter 20: observed MAE=0.038044 rank=54\n",
      "[SoftImpute] Iter 21: observed MAE=0.038048 rank=54\n",
      "[SoftImpute] Iter 22: observed MAE=0.038051 rank=54\n",
      "[SoftImpute] Iter 23: observed MAE=0.038054 rank=54\n",
      "[SoftImpute] Iter 24: observed MAE=0.038056 rank=54\n",
      "[SoftImpute] Iter 25: observed MAE=0.038059 rank=54\n",
      "[SoftImpute] Iter 26: observed MAE=0.038061 rank=54\n",
      "[SoftImpute] Iter 27: observed MAE=0.038063 rank=54\n",
      "[SoftImpute] Iter 28: observed MAE=0.038064 rank=54\n",
      "[SoftImpute] Iter 29: observed MAE=0.038066 rank=54\n",
      "[SoftImpute] Iter 30: observed MAE=0.038067 rank=54\n",
      "[SoftImpute] Iter 31: observed MAE=0.038068 rank=54\n",
      "[SoftImpute] Iter 32: observed MAE=0.038069 rank=54\n",
      "[SoftImpute] Iter 33: observed MAE=0.038070 rank=54\n",
      "[SoftImpute] Iter 34: observed MAE=0.038071 rank=54\n",
      "[SoftImpute] Iter 35: observed MAE=0.038072 rank=54\n",
      "[SoftImpute] Iter 36: observed MAE=0.038072 rank=54\n",
      "[SoftImpute] Iter 37: observed MAE=0.038073 rank=54\n",
      "[SoftImpute] Iter 38: observed MAE=0.038073 rank=54\n",
      "[SoftImpute] Iter 39: observed MAE=0.038074 rank=54\n",
      "[SoftImpute] Iter 40: observed MAE=0.038074 rank=54\n",
      "[SoftImpute] Iter 41: observed MAE=0.038075 rank=54\n",
      "[SoftImpute] Iter 42: observed MAE=0.038075 rank=54\n",
      "[SoftImpute] Iter 43: observed MAE=0.038075 rank=54\n",
      "[SoftImpute] Iter 44: observed MAE=0.038075 rank=54\n",
      "[SoftImpute] Iter 45: observed MAE=0.038076 rank=54\n",
      "[SoftImpute] Iter 46: observed MAE=0.038076 rank=54\n",
      "[SoftImpute] Iter 47: observed MAE=0.038076 rank=54\n",
      "[SoftImpute] Iter 48: observed MAE=0.038076 rank=54\n",
      "[SoftImpute] Iter 49: observed MAE=0.038076 rank=54\n",
      "[SoftImpute] Iter 50: observed MAE=0.038076 rank=54\n",
      "[SoftImpute] Iter 51: observed MAE=0.038076 rank=54\n",
      "[SoftImpute] Iter 52: observed MAE=0.038076 rank=54\n",
      "[SoftImpute] Iter 53: observed MAE=0.038076 rank=54\n",
      "[SoftImpute] Iter 54: observed MAE=0.038076 rank=54\n",
      "[SoftImpute] Iter 55: observed MAE=0.038076 rank=54\n",
      "[SoftImpute] Iter 56: observed MAE=0.038076 rank=54\n",
      "[SoftImpute] Iter 57: observed MAE=0.038076 rank=54\n",
      "[SoftImpute] Iter 58: observed MAE=0.038076 rank=54\n",
      "[SoftImpute] Iter 59: observed MAE=0.038076 rank=54\n",
      "[SoftImpute] Iter 60: observed MAE=0.038076 rank=54\n",
      "[SoftImpute] Iter 61: observed MAE=0.038076 rank=54\n",
      "[SoftImpute] Iter 62: observed MAE=0.038076 rank=54\n",
      "[SoftImpute] Iter 63: observed MAE=0.038076 rank=54\n",
      "[SoftImpute] Iter 64: observed MAE=0.038076 rank=54\n",
      "[SoftImpute] Iter 65: observed MAE=0.038076 rank=54\n",
      "[SoftImpute] Iter 66: observed MAE=0.038076 rank=54\n",
      "[SoftImpute] Iter 67: observed MAE=0.038076 rank=54\n",
      "[SoftImpute] Iter 68: observed MAE=0.038076 rank=54\n",
      "[SoftImpute] Iter 69: observed MAE=0.038076 rank=54\n",
      "[SoftImpute] Iter 70: observed MAE=0.038076 rank=54\n",
      "[SoftImpute] Iter 71: observed MAE=0.038076 rank=54\n",
      "[SoftImpute] Iter 72: observed MAE=0.038076 rank=54\n",
      "[SoftImpute] Iter 73: observed MAE=0.038076 rank=54\n",
      "[SoftImpute] Iter 74: observed MAE=0.038076 rank=54\n",
      "[SoftImpute] Iter 75: observed MAE=0.038076 rank=54\n",
      "[SoftImpute] Iter 76: observed MAE=0.038076 rank=54\n",
      "[SoftImpute] Iter 77: observed MAE=0.038076 rank=54\n",
      "[SoftImpute] Iter 78: observed MAE=0.038076 rank=54\n",
      "[SoftImpute] Iter 79: observed MAE=0.038076 rank=54\n",
      "[SoftImpute] Iter 80: observed MAE=0.038076 rank=54\n",
      "[SoftImpute] Iter 81: observed MAE=0.038076 rank=54\n",
      "[SoftImpute] Iter 82: observed MAE=0.038076 rank=54\n",
      "[SoftImpute] Iter 83: observed MAE=0.038076 rank=54\n",
      "[SoftImpute] Iter 84: observed MAE=0.038076 rank=54\n",
      "[SoftImpute] Iter 85: observed MAE=0.038076 rank=54\n",
      "[SoftImpute] Iter 86: observed MAE=0.038076 rank=54\n",
      "[SoftImpute] Iter 87: observed MAE=0.038076 rank=54\n",
      "[SoftImpute] Iter 88: observed MAE=0.038076 rank=54\n",
      "[SoftImpute] Iter 89: observed MAE=0.038076 rank=54\n",
      "[SoftImpute] Iter 90: observed MAE=0.038076 rank=54\n",
      "[SoftImpute] Iter 91: observed MAE=0.038076 rank=54\n",
      "[SoftImpute] Iter 92: observed MAE=0.038076 rank=54\n",
      "[SoftImpute] Iter 93: observed MAE=0.038076 rank=54\n",
      "[SoftImpute] Iter 94: observed MAE=0.038076 rank=54\n",
      "[SoftImpute] Iter 95: observed MAE=0.038076 rank=54\n",
      "[SoftImpute] Iter 96: observed MAE=0.038076 rank=54\n",
      "[SoftImpute] Iter 97: observed MAE=0.038076 rank=54\n",
      "[SoftImpute] Iter 98: observed MAE=0.038076 rank=54\n",
      "[SoftImpute] Iter 99: observed MAE=0.038076 rank=54\n",
      "[SoftImpute] Iter 100: observed MAE=0.038076 rank=54\n",
      "[SoftImpute] Stopped after iteration 100 for lambda=2.015032\n",
      "----------------------------------------------------------------------------\n",
      "\tSCS v2.1.2 - Splitting Conic Solver\n",
      "\t(c) Brendan O'Donoghue, Stanford University, 2012\n",
      "----------------------------------------------------------------------------\n",
      "Lin-sys: sparse-direct, nnz in A = 2354356\n",
      "eps = 1.00e-04, alpha = 1.50, max_iters = 100, normalize = 1, scale = 1.00\n",
      "acceleration_lookback = 10, rho_x = 1.00e-03\n",
      "Variables n = 1908102, constraints m = 2102178\n",
      "Cones:\tprimal zero / dual free vars: 97038\n",
      "\tlinear vars: 291114\n",
      "\tsd vars: 1714026, sd blks: 1\n",
      "Setup time: 3.41e+00s\n",
      "----------------------------------------------------------------------------\n",
      " Iter | pri res | dua res | rel gap | pri obj | dua obj | kap/tau | time (s)\n",
      "----------------------------------------------------------------------------\n",
      "     0| 1.87e+22  1.81e+22  1.00e+00 -1.17e+26  2.13e+25  2.87e+25  2.17e+00 \n",
      "   100| 8.68e-01  2.72e-01  5.27e-01  1.70e+03  5.25e+02  2.51e-13  9.83e+02 \n",
      "----------------------------------------------------------------------------\n",
      "Status: Solved/Inaccurate\n",
      "Hit max_iters, solution may be inaccurate, returning best found solution.\n",
      "Timing: Solve time: 9.83e+02s\n",
      "\tLin-sys: nnz in L factor: 6442206, avg solve time: 5.78e-02s\n",
      "\tCones: avg projection time: 9.06e+00s\n",
      "\tAcceleration: avg step time: 4.86e-01s\n",
      "----------------------------------------------------------------------------\n",
      "Error metrics:\n",
      "dist(s, K) = 5.6935e-08, dist(y, K*) = 3.4845e-09, s'y/|s||y| = -2.8163e-14\n",
      "primal res: |Ax + s - b|_2 / (1 + |b|_2) = 1.0718e-04\n",
      "dual res:   |A'y + c|_2 / (1 + |c|_2) = 1.1458e-04\n",
      "rel gap:    |c'x + b'y| / (1 + |c'x| + |b'y|) = 2.2014e-05\n",
      "----------------------------------------------------------------------------\n",
      "c'x = 1692.8914, -b'y = 1692.8169\n",
      "============================================================================\n"
     ]
    },
    {
     "data": {
      "text/plain": [
       "array([0.00193255, 0.02589197, 0.02600932, 0.02596283, 0.02595153,\n",
       "       0.02596615, 0.20062244])"
      ]
     },
     "execution_count": 50,
     "metadata": {
      "tags": []
     },
     "output_type": "execute_result"
    }
   ],
   "source": [
    "    ng = np.asarray([sum(y==i) for i in np.arange(10)])\n",
    "    n = np.hstack((ng.reshape((-1,1)), np.tile([150,140,130, 120],\n",
    "                                 10).reshape((10,-1))))\n",
    "    p = np.array([10,19, 25,56])    \n",
    "    res20 = compute_err(X,y, n, p, 10) \n",
    "    res20  "
   ]
  },
  {
   "cell_type": "code",
   "execution_count": null,
   "metadata": {
    "colab": {
     "base_uri": "https://localhost:8080/"
    },
    "executionInfo": {
     "elapsed": 1340,
     "status": "ok",
     "timestamp": 1603960711371,
     "user": {
      "displayName": "Thu Nguyễn",
      "photoUrl": "https://lh3.googleusercontent.com/a-/AOh14GjaRl8WgKOjLdrEa69IqFm__Rq7udZ763hhFDl9=s64",
      "userId": "04714273295929622355"
     },
     "user_tz": 300
    },
    "id": "ZqZia1Es9ukU",
    "outputId": "2de7f670-6548-491f-d777-8f4c776ed3d8"
   },
   "outputs": [
    {
     "data": {
      "text/plain": [
       "array([0.00193255, 0.02589197, 0.02600932, 0.02596283, 0.02595153,\n",
       "       0.02596615, 0.20062244])"
      ]
     },
     "execution_count": 51,
     "metadata": {
      "tags": []
     },
     "output_type": "execute_result"
    }
   ],
   "source": [
    "res20"
   ]
  },
  {
   "cell_type": "markdown",
   "metadata": {
    "id": "ONIR0QB7rkqv"
   },
   "source": [
    "## 30%"
   ]
  },
  {
   "cell_type": "code",
   "execution_count": null,
   "metadata": {
    "colab": {
     "base_uri": "https://localhost:8080/"
    },
    "executionInfo": {
     "elapsed": 1104156,
     "status": "ok",
     "timestamp": 1603961949006,
     "user": {
      "displayName": "Thu Nguyễn",
      "photoUrl": "https://lh3.googleusercontent.com/a-/AOh14GjaRl8WgKOjLdrEa69IqFm__Rq7udZ763hhFDl9=s64",
      "userId": "04714273295929622355"
     },
     "user_tz": 300
    },
    "id": "vyTfBT-Y3Uoz",
    "outputId": "2731654f-23c7-4767-8c6c-6cfaeb78def8"
   },
   "outputs": [
    {
     "name": "stdout",
     "output_type": "stream",
     "text": [
      "[SoftImpute] Max Singular Value of X_init = 94.367583\n",
      "[SoftImpute] Iter 1: observed MAE=0.037695 rank=54\n",
      "[SoftImpute] Iter 2: observed MAE=0.037725 rank=54\n",
      "[SoftImpute] Iter 3: observed MAE=0.037751 rank=54\n",
      "[SoftImpute] Iter 4: observed MAE=0.037774 rank=54\n",
      "[SoftImpute] Iter 5: observed MAE=0.037794 rank=54\n",
      "[SoftImpute] Iter 6: observed MAE=0.037812 rank=54\n",
      "[SoftImpute] Iter 7: observed MAE=0.037828 rank=54\n",
      "[SoftImpute] Iter 8: observed MAE=0.037842 rank=54\n",
      "[SoftImpute] Iter 9: observed MAE=0.037855 rank=54\n",
      "[SoftImpute] Iter 10: observed MAE=0.037866 rank=54\n",
      "[SoftImpute] Iter 11: observed MAE=0.037876 rank=54\n",
      "[SoftImpute] Iter 12: observed MAE=0.037885 rank=54\n",
      "[SoftImpute] Iter 13: observed MAE=0.037893 rank=54\n",
      "[SoftImpute] Iter 14: observed MAE=0.037900 rank=54\n",
      "[SoftImpute] Iter 15: observed MAE=0.037907 rank=54\n",
      "[SoftImpute] Iter 16: observed MAE=0.037913 rank=54\n",
      "[SoftImpute] Iter 17: observed MAE=0.037918 rank=54\n",
      "[SoftImpute] Iter 18: observed MAE=0.037923 rank=54\n",
      "[SoftImpute] Iter 19: observed MAE=0.037928 rank=54\n",
      "[SoftImpute] Iter 20: observed MAE=0.037932 rank=54\n",
      "[SoftImpute] Iter 21: observed MAE=0.037936 rank=54\n",
      "[SoftImpute] Iter 22: observed MAE=0.037939 rank=54\n",
      "[SoftImpute] Iter 23: observed MAE=0.037942 rank=54\n",
      "[SoftImpute] Iter 24: observed MAE=0.037945 rank=54\n",
      "[SoftImpute] Iter 25: observed MAE=0.037948 rank=54\n",
      "[SoftImpute] Iter 26: observed MAE=0.037950 rank=54\n",
      "[SoftImpute] Iter 27: observed MAE=0.037952 rank=54\n",
      "[SoftImpute] Iter 28: observed MAE=0.037954 rank=54\n",
      "[SoftImpute] Iter 29: observed MAE=0.037956 rank=54\n",
      "[SoftImpute] Iter 30: observed MAE=0.037957 rank=54\n",
      "[SoftImpute] Iter 31: observed MAE=0.037959 rank=54\n",
      "[SoftImpute] Iter 32: observed MAE=0.037960 rank=54\n",
      "[SoftImpute] Iter 33: observed MAE=0.037961 rank=54\n",
      "[SoftImpute] Iter 34: observed MAE=0.037962 rank=54\n",
      "[SoftImpute] Iter 35: observed MAE=0.037963 rank=54\n",
      "[SoftImpute] Iter 36: observed MAE=0.037963 rank=54\n",
      "[SoftImpute] Iter 37: observed MAE=0.037964 rank=54\n",
      "[SoftImpute] Iter 38: observed MAE=0.037965 rank=54\n",
      "[SoftImpute] Iter 39: observed MAE=0.037965 rank=54\n",
      "[SoftImpute] Iter 40: observed MAE=0.037966 rank=54\n",
      "[SoftImpute] Iter 41: observed MAE=0.037966 rank=54\n",
      "[SoftImpute] Iter 42: observed MAE=0.037966 rank=54\n",
      "[SoftImpute] Iter 43: observed MAE=0.037967 rank=54\n",
      "[SoftImpute] Iter 44: observed MAE=0.037967 rank=54\n",
      "[SoftImpute] Iter 45: observed MAE=0.037967 rank=54\n",
      "[SoftImpute] Iter 46: observed MAE=0.037967 rank=54\n",
      "[SoftImpute] Iter 47: observed MAE=0.037967 rank=54\n",
      "[SoftImpute] Iter 48: observed MAE=0.037967 rank=54\n",
      "[SoftImpute] Iter 49: observed MAE=0.037967 rank=54\n",
      "[SoftImpute] Iter 50: observed MAE=0.037967 rank=54\n",
      "[SoftImpute] Iter 51: observed MAE=0.037967 rank=54\n",
      "[SoftImpute] Iter 52: observed MAE=0.037968 rank=54\n",
      "[SoftImpute] Iter 53: observed MAE=0.037968 rank=54\n",
      "[SoftImpute] Iter 54: observed MAE=0.037968 rank=54\n",
      "[SoftImpute] Iter 55: observed MAE=0.037968 rank=54\n",
      "[SoftImpute] Iter 56: observed MAE=0.037968 rank=54\n",
      "[SoftImpute] Iter 57: observed MAE=0.037967 rank=54\n",
      "[SoftImpute] Iter 58: observed MAE=0.037967 rank=54\n",
      "[SoftImpute] Iter 59: observed MAE=0.037967 rank=54\n",
      "[SoftImpute] Iter 60: observed MAE=0.037967 rank=54\n",
      "[SoftImpute] Iter 61: observed MAE=0.037967 rank=54\n",
      "[SoftImpute] Iter 62: observed MAE=0.037967 rank=54\n",
      "[SoftImpute] Iter 63: observed MAE=0.037967 rank=54\n",
      "[SoftImpute] Iter 64: observed MAE=0.037967 rank=54\n",
      "[SoftImpute] Iter 65: observed MAE=0.037967 rank=54\n",
      "[SoftImpute] Iter 66: observed MAE=0.037967 rank=54\n",
      "[SoftImpute] Iter 67: observed MAE=0.037967 rank=54\n",
      "[SoftImpute] Iter 68: observed MAE=0.037967 rank=54\n",
      "[SoftImpute] Iter 69: observed MAE=0.037967 rank=54\n",
      "[SoftImpute] Iter 70: observed MAE=0.037967 rank=54\n",
      "[SoftImpute] Iter 71: observed MAE=0.037967 rank=54\n",
      "[SoftImpute] Iter 72: observed MAE=0.037967 rank=54\n",
      "[SoftImpute] Iter 73: observed MAE=0.037967 rank=54\n",
      "[SoftImpute] Iter 74: observed MAE=0.037967 rank=54\n",
      "[SoftImpute] Iter 75: observed MAE=0.037967 rank=54\n",
      "[SoftImpute] Iter 76: observed MAE=0.037966 rank=54\n",
      "[SoftImpute] Iter 77: observed MAE=0.037966 rank=54\n",
      "[SoftImpute] Iter 78: observed MAE=0.037966 rank=54\n",
      "[SoftImpute] Iter 79: observed MAE=0.037966 rank=54\n",
      "[SoftImpute] Iter 80: observed MAE=0.037966 rank=54\n",
      "[SoftImpute] Iter 81: observed MAE=0.037966 rank=54\n",
      "[SoftImpute] Iter 82: observed MAE=0.037966 rank=54\n",
      "[SoftImpute] Iter 83: observed MAE=0.037966 rank=54\n",
      "[SoftImpute] Iter 84: observed MAE=0.037966 rank=54\n",
      "[SoftImpute] Iter 85: observed MAE=0.037966 rank=54\n",
      "[SoftImpute] Iter 86: observed MAE=0.037966 rank=54\n",
      "[SoftImpute] Iter 87: observed MAE=0.037966 rank=54\n",
      "[SoftImpute] Iter 88: observed MAE=0.037966 rank=54\n",
      "[SoftImpute] Iter 89: observed MAE=0.037966 rank=54\n",
      "[SoftImpute] Iter 90: observed MAE=0.037966 rank=54\n",
      "[SoftImpute] Iter 91: observed MAE=0.037965 rank=54\n",
      "[SoftImpute] Iter 92: observed MAE=0.037965 rank=54\n",
      "[SoftImpute] Iter 93: observed MAE=0.037965 rank=54\n",
      "[SoftImpute] Iter 94: observed MAE=0.037965 rank=54\n",
      "[SoftImpute] Iter 95: observed MAE=0.037965 rank=54\n",
      "[SoftImpute] Iter 96: observed MAE=0.037965 rank=54\n",
      "[SoftImpute] Iter 97: observed MAE=0.037965 rank=54\n",
      "[SoftImpute] Iter 98: observed MAE=0.037965 rank=54\n",
      "[SoftImpute] Iter 99: observed MAE=0.037965 rank=54\n",
      "[SoftImpute] Iter 100: observed MAE=0.037965 rank=54\n",
      "[SoftImpute] Stopped after iteration 100 for lambda=1.887352\n",
      "----------------------------------------------------------------------------\n",
      "\tSCS v2.1.2 - Splitting Conic Solver\n",
      "\t(c) Brendan O'Donoghue, Stanford University, 2012\n",
      "----------------------------------------------------------------------------\n",
      "Lin-sys: sparse-direct, nnz in A = 2335550\n",
      "eps = 1.00e-04, alpha = 1.50, max_iters = 100, normalize = 1, scale = 1.00\n",
      "acceleration_lookback = 10, rho_x = 1.00e-03\n",
      "Variables n = 1908102, constraints m = 2102178\n",
      "Cones:\tprimal zero / dual free vars: 97038\n",
      "\tlinear vars: 291114\n",
      "\tsd vars: 1714026, sd blks: 1\n",
      "Setup time: 2.16e+00s\n",
      "----------------------------------------------------------------------------\n",
      " Iter | pri res | dua res | rel gap | pri obj | dua obj | kap/tau | time (s)\n",
      "----------------------------------------------------------------------------\n",
      "     0| 1.88e+22  1.82e+22  1.00e+00 -1.10e+26  2.01e+25  2.64e+25  2.11e+00 \n",
      "   100| 2.00e-03  3.20e-03  9.92e-05  1.59e+03  1.59e+03  5.98e-13  9.96e+02 \n",
      "----------------------------------------------------------------------------\n",
      "Status: Solved/Inaccurate\n",
      "Hit max_iters, solution may be inaccurate, returning best found solution.\n",
      "Timing: Solve time: 9.96e+02s\n",
      "\tLin-sys: nnz in L factor: 6413997, avg solve time: 5.71e-02s\n",
      "\tCones: avg projection time: 9.19e+00s\n",
      "\tAcceleration: avg step time: 4.82e-01s\n",
      "----------------------------------------------------------------------------\n",
      "Error metrics:\n",
      "dist(s, K) = 1.0004e-08, dist(y, K*) = 1.2041e-08, s'y/|s||y| = -4.3132e-14\n",
      "primal res: |Ax + s - b|_2 / (1 + |b|_2) = 1.4200e-04\n",
      "dual res:   |A'y + c|_2 / (1 + |c|_2) = 2.0405e-04\n",
      "rel gap:    |c'x + b'y| / (1 + |c'x| + |b'y|) = 2.8399e-05\n",
      "----------------------------------------------------------------------------\n",
      "c'x = 1589.6845, -b'y = 1589.7748\n",
      "============================================================================\n"
     ]
    },
    {
     "data": {
      "text/plain": [
       "array([0.00222284, 0.025957  , 0.0261318 , 0.02603002, 0.02599244,\n",
       "       0.02603767, 0.29752262])"
      ]
     },
     "execution_count": 52,
     "metadata": {
      "tags": []
     },
     "output_type": "execute_result"
    }
   ],
   "source": [
    "    ng = np.asarray([sum(y==i) for i in np.arange(10)])\n",
    "    ng = np.asarray([sum(y==i) for i in np.arange(10)])\n",
    "    n = np.hstack((ng.reshape((-1,1)), np.tile([120,115,110, 85],\n",
    "                                 10).reshape((10,-1))))\n",
    "    p = np.array([11,19, 25,56])     \n",
    "    res30 = compute_err(X,y, n, p, 10) \n",
    "    res30  "
   ]
  },
  {
   "cell_type": "markdown",
   "metadata": {
    "id": "bZY1k465vA6t"
   },
   "source": [
    "## 40%"
   ]
  },
  {
   "cell_type": "code",
   "execution_count": null,
   "metadata": {
    "colab": {
     "base_uri": "https://localhost:8080/"
    },
    "executionInfo": {
     "elapsed": 1230129,
     "status": "ok",
     "timestamp": 1603963201827,
     "user": {
      "displayName": "Thu Nguyễn",
      "photoUrl": "https://lh3.googleusercontent.com/a-/AOh14GjaRl8WgKOjLdrEa69IqFm__Rq7udZ763hhFDl9=s64",
      "userId": "04714273295929622355"
     },
     "user_tz": 300
    },
    "id": "KYUM1-_L3-eQ",
    "outputId": "92b191e6-7e5e-4ed6-d1fb-8f8adeef3cdf"
   },
   "outputs": [
    {
     "name": "stdout",
     "output_type": "stream",
     "text": [
      "[SoftImpute] Max Singular Value of X_init = 86.674251\n",
      "[SoftImpute] Iter 1: observed MAE=0.037383 rank=54\n",
      "[SoftImpute] Iter 2: observed MAE=0.037415 rank=54\n",
      "[SoftImpute] Iter 3: observed MAE=0.037443 rank=54\n",
      "[SoftImpute] Iter 4: observed MAE=0.037468 rank=54\n",
      "[SoftImpute] Iter 5: observed MAE=0.037490 rank=54\n",
      "[SoftImpute] Iter 6: observed MAE=0.037510 rank=54\n",
      "[SoftImpute] Iter 7: observed MAE=0.037527 rank=54\n",
      "[SoftImpute] Iter 8: observed MAE=0.037543 rank=54\n",
      "[SoftImpute] Iter 9: observed MAE=0.037556 rank=54\n",
      "[SoftImpute] Iter 10: observed MAE=0.037569 rank=54\n",
      "[SoftImpute] Iter 11: observed MAE=0.037579 rank=54\n",
      "[SoftImpute] Iter 12: observed MAE=0.037589 rank=54\n",
      "[SoftImpute] Iter 13: observed MAE=0.037597 rank=54\n",
      "[SoftImpute] Iter 14: observed MAE=0.037605 rank=54\n",
      "[SoftImpute] Iter 15: observed MAE=0.037612 rank=54\n",
      "[SoftImpute] Iter 16: observed MAE=0.037618 rank=54\n",
      "[SoftImpute] Iter 17: observed MAE=0.037624 rank=54\n",
      "[SoftImpute] Iter 18: observed MAE=0.037629 rank=54\n",
      "[SoftImpute] Iter 19: observed MAE=0.037633 rank=54\n",
      "[SoftImpute] Iter 20: observed MAE=0.037637 rank=54\n",
      "[SoftImpute] Iter 21: observed MAE=0.037641 rank=54\n",
      "[SoftImpute] Iter 22: observed MAE=0.037644 rank=54\n",
      "[SoftImpute] Iter 23: observed MAE=0.037647 rank=54\n",
      "[SoftImpute] Iter 24: observed MAE=0.037650 rank=54\n",
      "[SoftImpute] Iter 25: observed MAE=0.037652 rank=54\n",
      "[SoftImpute] Iter 26: observed MAE=0.037654 rank=54\n",
      "[SoftImpute] Iter 27: observed MAE=0.037656 rank=54\n",
      "[SoftImpute] Iter 28: observed MAE=0.037658 rank=54\n",
      "[SoftImpute] Iter 29: observed MAE=0.037660 rank=54\n",
      "[SoftImpute] Iter 30: observed MAE=0.037661 rank=54\n",
      "[SoftImpute] Iter 31: observed MAE=0.037662 rank=54\n",
      "[SoftImpute] Iter 32: observed MAE=0.037664 rank=54\n",
      "[SoftImpute] Iter 33: observed MAE=0.037665 rank=54\n",
      "[SoftImpute] Iter 34: observed MAE=0.037666 rank=54\n",
      "[SoftImpute] Iter 35: observed MAE=0.037666 rank=54\n",
      "[SoftImpute] Iter 36: observed MAE=0.037667 rank=54\n",
      "[SoftImpute] Iter 37: observed MAE=0.037668 rank=54\n",
      "[SoftImpute] Iter 38: observed MAE=0.037669 rank=54\n",
      "[SoftImpute] Iter 39: observed MAE=0.037669 rank=54\n",
      "[SoftImpute] Iter 40: observed MAE=0.037670 rank=54\n",
      "[SoftImpute] Iter 41: observed MAE=0.037670 rank=54\n",
      "[SoftImpute] Iter 42: observed MAE=0.037671 rank=54\n",
      "[SoftImpute] Iter 43: observed MAE=0.037671 rank=54\n",
      "[SoftImpute] Iter 44: observed MAE=0.037671 rank=54\n",
      "[SoftImpute] Iter 45: observed MAE=0.037672 rank=54\n",
      "[SoftImpute] Iter 46: observed MAE=0.037672 rank=54\n",
      "[SoftImpute] Iter 47: observed MAE=0.037672 rank=54\n",
      "[SoftImpute] Iter 48: observed MAE=0.037672 rank=54\n",
      "[SoftImpute] Iter 49: observed MAE=0.037673 rank=54\n",
      "[SoftImpute] Iter 50: observed MAE=0.037673 rank=54\n",
      "[SoftImpute] Iter 51: observed MAE=0.037673 rank=54\n",
      "[SoftImpute] Iter 52: observed MAE=0.037673 rank=54\n",
      "[SoftImpute] Iter 53: observed MAE=0.037673 rank=54\n",
      "[SoftImpute] Iter 54: observed MAE=0.037673 rank=54\n",
      "[SoftImpute] Iter 55: observed MAE=0.037673 rank=54\n",
      "[SoftImpute] Iter 56: observed MAE=0.037673 rank=54\n",
      "[SoftImpute] Iter 57: observed MAE=0.037673 rank=54\n",
      "[SoftImpute] Iter 58: observed MAE=0.037673 rank=54\n",
      "[SoftImpute] Iter 59: observed MAE=0.037673 rank=54\n",
      "[SoftImpute] Iter 60: observed MAE=0.037673 rank=54\n",
      "[SoftImpute] Iter 61: observed MAE=0.037673 rank=54\n",
      "[SoftImpute] Iter 62: observed MAE=0.037673 rank=54\n",
      "[SoftImpute] Iter 63: observed MAE=0.037673 rank=54\n",
      "[SoftImpute] Iter 64: observed MAE=0.037673 rank=54\n",
      "[SoftImpute] Iter 65: observed MAE=0.037673 rank=54\n",
      "[SoftImpute] Iter 66: observed MAE=0.037673 rank=54\n",
      "[SoftImpute] Iter 67: observed MAE=0.037673 rank=54\n",
      "[SoftImpute] Iter 68: observed MAE=0.037673 rank=54\n",
      "[SoftImpute] Iter 69: observed MAE=0.037673 rank=54\n",
      "[SoftImpute] Iter 70: observed MAE=0.037673 rank=54\n",
      "[SoftImpute] Iter 71: observed MAE=0.037673 rank=54\n",
      "[SoftImpute] Iter 72: observed MAE=0.037673 rank=54\n",
      "[SoftImpute] Iter 73: observed MAE=0.037673 rank=54\n",
      "[SoftImpute] Iter 74: observed MAE=0.037673 rank=54\n",
      "[SoftImpute] Iter 75: observed MAE=0.037673 rank=54\n",
      "[SoftImpute] Iter 76: observed MAE=0.037673 rank=54\n",
      "[SoftImpute] Iter 77: observed MAE=0.037673 rank=54\n",
      "[SoftImpute] Iter 78: observed MAE=0.037673 rank=54\n",
      "[SoftImpute] Iter 79: observed MAE=0.037673 rank=54\n",
      "[SoftImpute] Iter 80: observed MAE=0.037673 rank=54\n",
      "[SoftImpute] Iter 81: observed MAE=0.037673 rank=54\n",
      "[SoftImpute] Iter 82: observed MAE=0.037673 rank=54\n",
      "[SoftImpute] Iter 83: observed MAE=0.037673 rank=54\n",
      "[SoftImpute] Iter 84: observed MAE=0.037673 rank=54\n",
      "[SoftImpute] Iter 85: observed MAE=0.037673 rank=54\n",
      "[SoftImpute] Iter 86: observed MAE=0.037673 rank=54\n",
      "[SoftImpute] Iter 87: observed MAE=0.037673 rank=54\n",
      "[SoftImpute] Iter 88: observed MAE=0.037673 rank=54\n",
      "[SoftImpute] Iter 89: observed MAE=0.037673 rank=54\n",
      "[SoftImpute] Iter 90: observed MAE=0.037673 rank=54\n",
      "[SoftImpute] Iter 91: observed MAE=0.037672 rank=54\n",
      "[SoftImpute] Iter 92: observed MAE=0.037672 rank=54\n",
      "[SoftImpute] Iter 93: observed MAE=0.037672 rank=54\n",
      "[SoftImpute] Iter 94: observed MAE=0.037672 rank=54\n",
      "[SoftImpute] Iter 95: observed MAE=0.037672 rank=54\n",
      "[SoftImpute] Iter 96: observed MAE=0.037672 rank=54\n",
      "[SoftImpute] Iter 97: observed MAE=0.037672 rank=54\n",
      "[SoftImpute] Iter 98: observed MAE=0.037672 rank=54\n",
      "[SoftImpute] Iter 99: observed MAE=0.037672 rank=54\n",
      "[SoftImpute] Iter 100: observed MAE=0.037672 rank=54\n",
      "[SoftImpute] Stopped after iteration 100 for lambda=1.733485\n",
      "----------------------------------------------------------------------------\n",
      "\tSCS v2.1.2 - Splitting Conic Solver\n",
      "\t(c) Brendan O'Donoghue, Stanford University, 2012\n",
      "----------------------------------------------------------------------------\n",
      "Lin-sys: sparse-direct, nnz in A = 2316186\n",
      "eps = 1.00e-04, alpha = 1.50, max_iters = 100, normalize = 1, scale = 1.00\n",
      "acceleration_lookback = 10, rho_x = 1.00e-03\n",
      "Variables n = 1908102, constraints m = 2102178\n",
      "Cones:\tprimal zero / dual free vars: 97038\n",
      "\tlinear vars: 291114\n",
      "\tsd vars: 1714026, sd blks: 1\n",
      "Setup time: 2.17e+00s\n",
      "----------------------------------------------------------------------------\n",
      " Iter | pri res | dua res | rel gap | pri obj | dua obj | kap/tau | time (s)\n",
      "----------------------------------------------------------------------------\n",
      "     0| 1.88e+22  1.82e+22  1.00e+00 -1.02e+26  1.87e+25  2.41e+25  2.07e+00 \n",
      "   100| 7.89e-04  1.34e-03  2.23e-05  1.47e+03  1.47e+03  5.84e-14  9.47e+02 \n",
      "----------------------------------------------------------------------------\n",
      "Status: Solved/Inaccurate\n",
      "Hit max_iters, solution may be inaccurate, returning best found solution.\n",
      "Timing: Solve time: 9.47e+02s\n",
      "\tLin-sys: nnz in L factor: 6384951, avg solve time: 5.61e-02s\n",
      "\tCones: avg projection time: 8.72e+00s\n",
      "\tAcceleration: avg step time: 4.79e-01s\n",
      "----------------------------------------------------------------------------\n",
      "Error metrics:\n",
      "dist(s, K) = 3.1415e-09, dist(y, K*) = 1.1031e-08, s'y/|s||y| = -9.9791e-14\n",
      "primal res: |Ax + s - b|_2 / (1 + |b|_2) = 1.2464e-04\n",
      "dual res:   |A'y + c|_2 / (1 + |c|_2) = 1.4028e-04\n",
      "rel gap:    |c'x + b'y| / (1 + |c'x| + |b'y|) = 9.4129e-05\n",
      "----------------------------------------------------------------------------\n",
      "c'x = 1470.6295, -b'y = 1470.3526\n",
      "============================================================================\n"
     ]
    },
    {
     "data": {
      "text/plain": [
       "array([0.00253218, 0.02593142, 0.02619103, 0.0260126 , 0.02592944,\n",
       "       0.02602602, 0.39729797])"
      ]
     },
     "execution_count": 53,
     "metadata": {
      "tags": []
     },
     "output_type": "execute_result"
    }
   ],
   "source": [
    "    ng = np.asarray([sum(y==i) for i in np.arange(10)])\n",
    "    n = np.hstack((ng.reshape((-1,1)),  np.tile([120,110,90, 50],\n",
    "                                 10).reshape((10,-1))))    \n",
    "    p = np.array([5,19, 25,56]) \n",
    "    res40 = compute_err(X,y, n, p, 10) \n",
    "    res40  "
   ]
  },
  {
   "cell_type": "markdown",
   "metadata": {
    "id": "RxRE-PkU-7p7"
   },
   "source": [
    "### 50%"
   ]
  },
  {
   "cell_type": "code",
   "execution_count": null,
   "metadata": {
    "colab": {
     "base_uri": "https://localhost:8080/"
    },
    "executionInfo": {
     "elapsed": 915,
     "status": "ok",
     "timestamp": 1604539191933,
     "user": {
      "displayName": "Thu Nguyễn",
      "photoUrl": "https://lh3.googleusercontent.com/a-/AOh14GjaRl8WgKOjLdrEa69IqFm__Rq7udZ763hhFDl9=s64",
      "userId": "04714273295929622355"
     },
     "user_tz": 360
    },
    "id": "T1TzhyDY-9tm",
    "outputId": "00bec0d1-866d-49cd-fc1b-8c9dfc46a97a"
   },
   "outputs": [
    {
     "data": {
      "text/plain": [
       "0.5029266885137781"
      ]
     },
     "execution_count": 23,
     "metadata": {
      "tags": []
     },
     "output_type": "execute_result"
    }
   ],
   "source": [
    "    ng = np.asarray([sum(y==i) for i in np.arange(10)])\n",
    "    n = np.hstack((ng.reshape((-1,1)),  np.tile([110,90,75, 50],\n",
    "                                 10).reshape((10,-1))))    \n",
    "    p = np.array([5,10, 15,56]) \n",
    "    missing_rate(X,y,n,p,10)"
   ]
  },
  {
   "cell_type": "code",
   "execution_count": null,
   "metadata": {
    "colab": {
     "base_uri": "https://localhost:8080/"
    },
    "executionInfo": {
     "elapsed": 1358,
     "status": "ok",
     "timestamp": 1604540832683,
     "user": {
      "displayName": "Thu Nguyễn",
      "photoUrl": "https://lh3.googleusercontent.com/a-/AOh14GjaRl8WgKOjLdrEa69IqFm__Rq7udZ763hhFDl9=s64",
      "userId": "04714273295929622355"
     },
     "user_tz": 360
    },
    "id": "Wo2HbZ1C_C1L",
    "outputId": "7f64f207-698c-4148-f7e6-efdb2ae64f74"
   },
   "outputs": [
    {
     "name": "stdout",
     "output_type": "stream",
     "text": [
      "[SoftImpute] Max Singular Value of X_init = 79.751278\n",
      "[SoftImpute] Iter 1: observed MAE=0.037620 rank=54\n",
      "[SoftImpute] Iter 2: observed MAE=0.037649 rank=54\n",
      "[SoftImpute] Iter 3: observed MAE=0.037675 rank=54\n",
      "[SoftImpute] Iter 4: observed MAE=0.037698 rank=54\n",
      "[SoftImpute] Iter 5: observed MAE=0.037719 rank=54\n",
      "[SoftImpute] Iter 6: observed MAE=0.037738 rank=54\n",
      "[SoftImpute] Iter 7: observed MAE=0.037755 rank=54\n",
      "[SoftImpute] Iter 8: observed MAE=0.037770 rank=54\n",
      "[SoftImpute] Iter 9: observed MAE=0.037783 rank=54\n",
      "[SoftImpute] Iter 10: observed MAE=0.037796 rank=54\n",
      "[SoftImpute] Iter 11: observed MAE=0.037807 rank=54\n",
      "[SoftImpute] Iter 12: observed MAE=0.037817 rank=54\n",
      "[SoftImpute] Iter 13: observed MAE=0.037826 rank=54\n",
      "[SoftImpute] Iter 14: observed MAE=0.037834 rank=54\n",
      "[SoftImpute] Iter 15: observed MAE=0.037842 rank=54\n",
      "[SoftImpute] Iter 16: observed MAE=0.037848 rank=54\n",
      "[SoftImpute] Iter 17: observed MAE=0.037855 rank=54\n",
      "[SoftImpute] Iter 18: observed MAE=0.037860 rank=54\n",
      "[SoftImpute] Iter 19: observed MAE=0.037865 rank=54\n",
      "[SoftImpute] Iter 20: observed MAE=0.037870 rank=54\n",
      "[SoftImpute] Iter 21: observed MAE=0.037874 rank=54\n",
      "[SoftImpute] Iter 22: observed MAE=0.037878 rank=54\n",
      "[SoftImpute] Iter 23: observed MAE=0.037881 rank=54\n",
      "[SoftImpute] Iter 24: observed MAE=0.037884 rank=54\n",
      "[SoftImpute] Iter 25: observed MAE=0.037887 rank=54\n",
      "[SoftImpute] Iter 26: observed MAE=0.037890 rank=54\n",
      "[SoftImpute] Iter 27: observed MAE=0.037893 rank=54\n",
      "[SoftImpute] Iter 28: observed MAE=0.037895 rank=54\n",
      "[SoftImpute] Iter 29: observed MAE=0.037897 rank=54\n",
      "[SoftImpute] Iter 30: observed MAE=0.037899 rank=54\n",
      "[SoftImpute] Iter 31: observed MAE=0.037901 rank=54\n",
      "[SoftImpute] Iter 32: observed MAE=0.037902 rank=54\n",
      "[SoftImpute] Iter 33: observed MAE=0.037904 rank=54\n",
      "[SoftImpute] Iter 34: observed MAE=0.037905 rank=54\n",
      "[SoftImpute] Iter 35: observed MAE=0.037906 rank=54\n",
      "[SoftImpute] Iter 36: observed MAE=0.037908 rank=54\n",
      "[SoftImpute] Iter 37: observed MAE=0.037909 rank=54\n",
      "[SoftImpute] Iter 38: observed MAE=0.037910 rank=54\n",
      "[SoftImpute] Iter 39: observed MAE=0.037911 rank=54\n",
      "[SoftImpute] Iter 40: observed MAE=0.037911 rank=54\n",
      "[SoftImpute] Iter 41: observed MAE=0.037912 rank=54\n",
      "[SoftImpute] Iter 42: observed MAE=0.037913 rank=54\n",
      "[SoftImpute] Iter 43: observed MAE=0.037914 rank=54\n",
      "[SoftImpute] Iter 44: observed MAE=0.037914 rank=54\n",
      "[SoftImpute] Iter 45: observed MAE=0.037915 rank=54\n",
      "[SoftImpute] Iter 46: observed MAE=0.037915 rank=54\n",
      "[SoftImpute] Iter 47: observed MAE=0.037916 rank=54\n",
      "[SoftImpute] Iter 48: observed MAE=0.037916 rank=54\n",
      "[SoftImpute] Iter 49: observed MAE=0.037916 rank=54\n",
      "[SoftImpute] Iter 50: observed MAE=0.037917 rank=54\n",
      "[SoftImpute] Iter 51: observed MAE=0.037917 rank=54\n",
      "[SoftImpute] Iter 52: observed MAE=0.037918 rank=54\n",
      "[SoftImpute] Iter 53: observed MAE=0.037918 rank=54\n",
      "[SoftImpute] Iter 54: observed MAE=0.037918 rank=54\n",
      "[SoftImpute] Iter 55: observed MAE=0.037918 rank=54\n",
      "[SoftImpute] Iter 56: observed MAE=0.037919 rank=54\n",
      "[SoftImpute] Iter 57: observed MAE=0.037919 rank=54\n",
      "[SoftImpute] Iter 58: observed MAE=0.037919 rank=54\n",
      "[SoftImpute] Iter 59: observed MAE=0.037919 rank=54\n",
      "[SoftImpute] Iter 60: observed MAE=0.037919 rank=54\n",
      "[SoftImpute] Iter 61: observed MAE=0.037919 rank=54\n",
      "[SoftImpute] Iter 62: observed MAE=0.037920 rank=54\n",
      "[SoftImpute] Iter 63: observed MAE=0.037920 rank=54\n",
      "[SoftImpute] Iter 64: observed MAE=0.037920 rank=54\n",
      "[SoftImpute] Iter 65: observed MAE=0.037920 rank=54\n",
      "[SoftImpute] Iter 66: observed MAE=0.037920 rank=54\n",
      "[SoftImpute] Iter 67: observed MAE=0.037920 rank=54\n",
      "[SoftImpute] Iter 68: observed MAE=0.037920 rank=54\n",
      "[SoftImpute] Iter 69: observed MAE=0.037920 rank=54\n",
      "[SoftImpute] Iter 70: observed MAE=0.037920 rank=54\n",
      "[SoftImpute] Iter 71: observed MAE=0.037920 rank=54\n",
      "[SoftImpute] Iter 72: observed MAE=0.037920 rank=54\n",
      "[SoftImpute] Iter 73: observed MAE=0.037920 rank=54\n",
      "[SoftImpute] Iter 74: observed MAE=0.037920 rank=54\n",
      "[SoftImpute] Iter 75: observed MAE=0.037920 rank=54\n",
      "[SoftImpute] Iter 76: observed MAE=0.037920 rank=54\n",
      "[SoftImpute] Iter 77: observed MAE=0.037920 rank=54\n",
      "[SoftImpute] Iter 78: observed MAE=0.037920 rank=54\n",
      "[SoftImpute] Iter 79: observed MAE=0.037920 rank=54\n",
      "[SoftImpute] Iter 80: observed MAE=0.037920 rank=54\n",
      "[SoftImpute] Iter 81: observed MAE=0.037920 rank=54\n",
      "[SoftImpute] Iter 82: observed MAE=0.037920 rank=54\n",
      "[SoftImpute] Iter 83: observed MAE=0.037920 rank=54\n",
      "[SoftImpute] Iter 84: observed MAE=0.037920 rank=54\n",
      "[SoftImpute] Iter 85: observed MAE=0.037920 rank=54\n",
      "[SoftImpute] Iter 86: observed MAE=0.037920 rank=54\n",
      "[SoftImpute] Iter 87: observed MAE=0.037920 rank=54\n",
      "[SoftImpute] Iter 88: observed MAE=0.037920 rank=54\n",
      "[SoftImpute] Iter 89: observed MAE=0.037920 rank=54\n",
      "[SoftImpute] Iter 90: observed MAE=0.037920 rank=54\n",
      "[SoftImpute] Iter 91: observed MAE=0.037920 rank=54\n",
      "[SoftImpute] Iter 92: observed MAE=0.037920 rank=54\n",
      "[SoftImpute] Iter 93: observed MAE=0.037920 rank=54\n",
      "[SoftImpute] Iter 94: observed MAE=0.037920 rank=54\n",
      "[SoftImpute] Iter 95: observed MAE=0.037920 rank=54\n",
      "[SoftImpute] Iter 96: observed MAE=0.037920 rank=54\n",
      "[SoftImpute] Iter 97: observed MAE=0.037920 rank=54\n",
      "[SoftImpute] Iter 98: observed MAE=0.037920 rank=54\n",
      "[SoftImpute] Iter 99: observed MAE=0.037920 rank=54\n",
      "[SoftImpute] Iter 100: observed MAE=0.037920 rank=54\n",
      "[SoftImpute] Stopped after iteration 100 for lambda=1.595026\n",
      "----------------------------------------------------------------------------\n",
      "\tSCS v2.1.2 - Splitting Conic Solver\n",
      "\t(c) Brendan O'Donoghue, Stanford University, 2012\n",
      "----------------------------------------------------------------------------\n",
      "Lin-sys: sparse-direct, nnz in A = 2295686\n",
      "eps = 1.00e-04, alpha = 1.50, max_iters = 100, normalize = 1, scale = 1.00\n",
      "acceleration_lookback = 10, rho_x = 1.00e-03\n",
      "Variables n = 1908102, constraints m = 2102178\n",
      "Cones:\tprimal zero / dual free vars: 97038\n",
      "\tlinear vars: 291114\n",
      "\tsd vars: 1714026, sd blks: 1\n",
      "Setup time: 3.25e+00s\n",
      "----------------------------------------------------------------------------\n",
      " Iter | pri res | dua res | rel gap | pri obj | dua obj | kap/tau | time (s)\n",
      "----------------------------------------------------------------------------\n",
      "     0| 1.89e+22  1.83e+22  1.00e+00 -9.32e+25  1.71e+25  2.14e+25  2.12e+00 \n",
      "   100| 5.96e-04  5.79e-04  8.23e-05  1.33e+03  1.33e+03  1.06e-13  8.42e+02 \n",
      "----------------------------------------------------------------------------\n",
      "Status: Solved/Inaccurate\n",
      "Hit max_iters, solution may be inaccurate, returning best found solution.\n",
      "Timing: Solve time: 8.42e+02s\n",
      "\tLin-sys: nnz in L factor: 6354201, avg solve time: 5.52e-02s\n",
      "\tCones: avg projection time: 7.68e+00s\n",
      "\tAcceleration: avg step time: 4.75e-01s\n",
      "----------------------------------------------------------------------------\n",
      "Error metrics:\n",
      "dist(s, K) = 8.7617e-09, dist(y, K*) = 1.9691e-08, s'y/|s||y| = 2.8912e-14\n",
      "primal res: |Ax + s - b|_2 / (1 + |b|_2) = 1.1139e-04\n",
      "dual res:   |A'y + c|_2 / (1 + |c|_2) = 1.4474e-04\n",
      "rel gap:    |c'x + b'y| / (1 + |c'x| + |b'y|) = 3.5581e-05\n",
      "----------------------------------------------------------------------------\n",
      "c'x = 1333.2880, -b'y = 1333.3829\n",
      "============================================================================\n"
     ]
    },
    {
     "data": {
      "text/plain": [
       "array([0.00314743, 0.02580076, 0.02601458, 0.02586622, 0.02579196,\n",
       "       0.02587796, 0.50292669])"
      ]
     },
     "execution_count": 24,
     "metadata": {
      "tags": []
     },
     "output_type": "execute_result"
    }
   ],
   "source": [
    "    res50 = compute_err(X,y, n, p, 10) \n",
    "    res50  "
   ]
  },
  {
   "cell_type": "code",
   "execution_count": null,
   "metadata": {
    "colab": {
     "base_uri": "https://localhost:8080/"
    },
    "executionInfo": {
     "elapsed": 855,
     "status": "ok",
     "timestamp": 1603964746002,
     "user": {
      "displayName": "Thu Nguyễn",
      "photoUrl": "https://lh3.googleusercontent.com/a-/AOh14GjaRl8WgKOjLdrEa69IqFm__Rq7udZ763hhFDl9=s64",
      "userId": "04714273295929622355"
     },
     "user_tz": 300
    },
    "id": "x12FtB5RpT1u",
    "outputId": "8108fb74-3348-402c-a169-2a8d1eeab625"
   },
   "outputs": [
    {
     "data": {
      "text/plain": [
       "array([[0.00193255, 0.02589197, 0.02600932, 0.02596283, 0.02595153,\n",
       "        0.02596615, 0.20062244],\n",
       "       [0.00222284, 0.025957  , 0.0261318 , 0.02603002, 0.02599244,\n",
       "        0.02603767, 0.29752262],\n",
       "       [0.00253218, 0.02593142, 0.02619103, 0.0260126 , 0.02592944,\n",
       "        0.02602602, 0.39729797]])"
      ]
     },
     "execution_count": 55,
     "metadata": {
      "tags": []
     },
     "output_type": "execute_result"
    }
   ],
   "source": [
    "digits = np.vstack((res20,res30,res40))\n",
    "digits"
   ]
  }
 ],
 "metadata": {
  "colab": {
   "collapsed_sections": [
    "CLggLlOOZRHX",
    "9WlMVFJZ9Lcn",
    "J3Ptx_6Ce10t",
    "-mbA9aOCfEaX",
    "2sWucEEoSprI"
   ],
   "machine_shape": "hm",
   "name": "Parameter estimation error updated.ipynb",
   "provenance": [
    {
     "file_id": "1eazQvNk_WLTaG8heDoHQ3AgEg59y9f0v",
     "timestamp": 1603955217908
    },
    {
     "file_id": "126-leKywWg1oVxbfuH1_ORl8UMYHusn_",
     "timestamp": 1591364956450
    },
    {
     "file_id": "1Lb-WwE7STckIojvf1h3ADYX29-gfA6u-",
     "timestamp": 1590379038322
    },
    {
     "file_id": "1CnbOqwmJydQa8uCCpIR6HRVxw0YnveIP",
     "timestamp": 1590113304994
    }
   ],
   "toc_visible": true
  },
  "kernelspec": {
   "display_name": "Python 3",
   "language": "python",
   "name": "python3"
  },
  "language_info": {
   "codemirror_mode": {
    "name": "ipython",
    "version": 3
   },
   "file_extension": ".py",
   "mimetype": "text/x-python",
   "name": "python",
   "nbconvert_exporter": "python",
   "pygments_lexer": "ipython3",
   "version": "3.8.3"
  }
 },
 "nbformat": 4,
 "nbformat_minor": 1
}
