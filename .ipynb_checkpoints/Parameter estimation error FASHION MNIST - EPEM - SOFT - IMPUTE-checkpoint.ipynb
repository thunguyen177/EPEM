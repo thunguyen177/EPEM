{
 "cells": [
  {
   "cell_type": "markdown",
   "metadata": {
    "id": "01Q1wGI3uIdg"
   },
   "source": [
    "## libraries and function "
   ]
  },
  {
   "cell_type": "code",
   "execution_count": 1,
   "metadata": {
    "colab": {
     "base_uri": "https://localhost:8080/"
    },
    "executionInfo": {
     "elapsed": 8856,
     "status": "ok",
     "timestamp": 1605321659902,
     "user": {
      "displayName": "Thu Nguyễn",
      "photoUrl": "https://lh3.googleusercontent.com/a-/AOh14GjaRl8WgKOjLdrEa69IqFm__Rq7udZ763hhFDl9=s64",
      "userId": "04714273295929622355"
     },
     "user_tz": 360
    },
    "id": "iEdO9dJPION8",
    "outputId": "511d6676-e28b-4e56-c848-3ddf93701eb9"
   },
   "outputs": [
    {
     "name": "stdout",
     "output_type": "stream",
     "text": [
      "Collecting impyute\n",
      "  Downloading https://files.pythonhosted.org/packages/37/28/86829f67c9affb847facaab94687761d3555539ec675f7577778c5b2680a/impyute-0.0.8-py2.py3-none-any.whl\n",
      "Requirement already satisfied: scipy in /usr/local/lib/python3.6/dist-packages (from impyute) (1.4.1)\n",
      "Requirement already satisfied: scikit-learn in /usr/local/lib/python3.6/dist-packages (from impyute) (0.22.2.post1)\n",
      "Requirement already satisfied: numpy in /usr/local/lib/python3.6/dist-packages (from impyute) (1.18.5)\n",
      "Requirement already satisfied: joblib>=0.11 in /usr/local/lib/python3.6/dist-packages (from scikit-learn->impyute) (0.17.0)\n",
      "Installing collected packages: impyute\n",
      "Successfully installed impyute-0.0.8\n"
     ]
    },
    {
     "name": "stderr",
     "output_type": "stream",
     "text": [
      "/usr/local/lib/python3.6/dist-packages/sklearn/externals/six.py:31: FutureWarning: The module is deprecated in version 0.21 and will be removed in version 0.23 since we've dropped support for Python 2.7. Please rely on the official version of six (https://pypi.org/project/six/).\n",
      "  \"(https://pypi.org/project/six/).\", FutureWarning)\n"
     ]
    }
   ],
   "source": [
    "!pip install impyute\n",
    "from sklearn import datasets\n",
    "from sklearn.preprocessing import LabelEncoder, StandardScaler\n",
    "from sklearn.discriminant_analysis import LinearDiscriminantAnalysis as skLDA\n",
    "from sklearn.experimental import enable_iterative_imputer\n",
    "from sklearn.impute import IterativeImputer\n",
    "from scipy import stats\n",
    "import numpy as np\n",
    "import impyute as impy\n",
    "from fancyimpute import IterativeSVD, SoftImpute, NuclearNormMinimization\n",
    "import pandas as pd\n",
    "import time"
   ]
  },
  {
   "cell_type": "markdown",
   "metadata": {
    "id": "YxZbkGo8IOOS"
   },
   "source": [
    "The function `mle` allows us to compute the MLEs from training data with monotone missing data.\n",
    "\n",
    "We denote\n",
    "$$n = \\begin{pmatrix}\n",
    "n_1^{(1)} & n_1^{(2)} &...&n_1^{(K)}\\\\\n",
    "\\vdots & \\vdots &\\ddots&\\vdots\\\\\n",
    "n_G^{(1)} & n_G^{(2)} &...&n_G^{(K)}\n",
    "\\end{pmatrix}$$\n",
    "$$p = (p_1,p_2,...,p_K)$$\n"
   ]
  },
  {
   "cell_type": "markdown",
   "metadata": {
    "id": "zJsxuiuVOWch"
   },
   "source": [
    "### MLE function "
   ]
  },
  {
   "cell_type": "code",
   "execution_count": 2,
   "metadata": {
    "executionInfo": {
     "elapsed": 8848,
     "status": "ok",
     "timestamp": 1605321659915,
     "user": {
      "displayName": "Thu Nguyễn",
      "photoUrl": "https://lh3.googleusercontent.com/a-/AOh14GjaRl8WgKOjLdrEa69IqFm__Rq7udZ763hhFDl9=s64",
      "userId": "04714273295929622355"
     },
     "user_tz": 360
    },
    "id": "9iL76sKnIOOU"
   },
   "outputs": [],
   "source": [
    "import numpy as np\n",
    "def mle(Xtrain, n, p, G):\n",
    "    '''\n",
    "    Xtrain: list of input. The ith element of the list contains the sample from\n",
    "    the ith class.\n",
    "    '''\n",
    "    if p[0]==1:\n",
    "        # the array that contains the means of each block for the 1st block\n",
    "        mus = [np.mean(Xtrain[g][:,0]) for g in np.arange(G)]\n",
    "        S = [(n[g,0]-1)*np.var(Xtrain[g][:,0]) for g in np.arange(G)]\n",
    "    else:\n",
    "        mus = [np.mean(Xtrain[g][:,0:p[0]], axis = 0) for g  in np.arange(G)]\n",
    "        S = [(n[g,0]-1)*np.cov(Xtrain[g][:,0:p[0]],rowvar =False) \n",
    "             for g in np.arange(G)]\n",
    "    \n",
    "    mus = np.asarray(mus).T # so that each column is the mean of a class\n",
    "    S = sum(S)/(sum(n[:,0])) \n",
    "    S = S.reshape((p[0],-1))\n",
    "    for i in np.arange(1,len(p)):\n",
    "        W = [(n[g,i]-1)*np.cov(Xtrain[g][0:n[g,i],0:p[i]],\n",
    "                              rowvar=False) for g in np.arange(G)]\n",
    "        W = sum(W)\n",
    "        \n",
    "        P = np.matmul(W[(p[i-1]):p[i], 0:p[i-1]],\n",
    "                      np.linalg.inv(W[0:p[i-1],0:p[i-1]]))\n",
    "        Q = (W[p[i-1]:p[i],p[i-1]:p[i]]-\n",
    "            np.matmul(P, W[0:p[i-1],p[i-1]:p[i]]))/sum(n[:,i])\n",
    "        xmeans = [np.mean(Xtrain[g][0:n[g,i],0:p[i]], axis = 0) \n",
    "                  for g in np.arange(G)]\n",
    "        \n",
    "        xmeans = np.asarray(xmeans)\n",
    "        xmeans = xmeans.T\n",
    "        mus = np.vstack((mus, xmeans[p[i-1]:p[i],:]\n",
    "                       - np.matmul(P, xmeans[0:p[i-1]]-mus)))\n",
    "        S21 = np.matmul(P, S)\n",
    "        S = np.vstack((np.hstack((S, S21.T)),\n",
    "                       np.hstack((S21, Q+np.matmul(P, S21.T)))))\n",
    "    return [mus, S]"
   ]
  },
  {
   "cell_type": "markdown",
   "metadata": {
    "id": "5Kk3Z0jcObqQ"
   },
   "source": [
    "### nan function \n"
   ]
  },
  {
   "cell_type": "code",
   "execution_count": 3,
   "metadata": {
    "executionInfo": {
     "elapsed": 8841,
     "status": "ok",
     "timestamp": 1605321659917,
     "user": {
      "displayName": "Thu Nguyễn",
      "photoUrl": "https://lh3.googleusercontent.com/a-/AOh14GjaRl8WgKOjLdrEa69IqFm__Rq7udZ763hhFDl9=s64",
      "userId": "04714273295929622355"
     },
     "user_tz": 360
    },
    "id": "V4-kNYKJIOOd"
   },
   "outputs": [],
   "source": [
    "'''\n",
    "function that create data list that contain missing values\n",
    "The input X is a numpy array, y is the label\n",
    "the function return a list where the ith element of \n",
    "the list belongs to the ith class\n",
    "'''\n",
    "\n",
    "def make_nan_list(X,y,G, n, p):\n",
    "    # note that the label should go from 0 to G-1\n",
    "    data = []\n",
    "    for g in np.arange(G):\n",
    "        data.append(X[y==g,:])\n",
    "        for k in np.arange(len(p)-1):\n",
    "            data[g][n[g,k+1]:n[g,k], p[k]:] = np.nan\n",
    "    return data\n"
   ]
  },
  {
   "cell_type": "code",
   "execution_count": 4,
   "metadata": {
    "executionInfo": {
     "elapsed": 8832,
     "status": "ok",
     "timestamp": 1605321659919,
     "user": {
      "displayName": "Thu Nguyễn",
      "photoUrl": "https://lh3.googleusercontent.com/a-/AOh14GjaRl8WgKOjLdrEa69IqFm__Rq7udZ763hhFDl9=s64",
      "userId": "04714273295929622355"
     },
     "user_tz": 360
    },
    "id": "8oXh1_ou0BPS"
   },
   "outputs": [],
   "source": [
    "def missing_rate(Xtrain, ytrain, n, p, G):\n",
    "    # function that compute the missing rate of a given pattern    \n",
    "    Xtr_nan_list = make_nan_list(Xtrain,ytrain,G, n, p)\n",
    "    # make NA data\n",
    "    # since making function changes the order of observation\n",
    "    # we need to generate new ytr from Xtr_nan    \n",
    "    Xtr_nan, ytr = Xtr_nan_list[0], np.repeat(0, len(Xtr_nan_list[0]))\n",
    "    for g in np.arange(1,G):\n",
    "        Xtr_nan = np.vstack((Xtr_nan, Xtr_nan_list[g]))\n",
    "        ytr = np.hstack((ytr, np.repeat(g, len(Xtr_nan_list[g]))))\n",
    "\n",
    "    # percentage of missing values\n",
    "    per_missing = np.mean(np.isnan(Xtr_nan))\n",
    "    return per_missing"
   ]
  },
  {
   "cell_type": "markdown",
   "metadata": {
    "id": "IwG2bsDOOxls"
   },
   "source": [
    "### compute_err function "
   ]
  },
  {
   "cell_type": "code",
   "execution_count": 5,
   "metadata": {
    "executionInfo": {
     "elapsed": 8825,
     "status": "ok",
     "timestamp": 1605321659921,
     "user": {
      "displayName": "Thu Nguyễn",
      "photoUrl": "https://lh3.googleusercontent.com/a-/AOh14GjaRl8WgKOjLdrEa69IqFm__Rq7udZ763hhFDl9=s64",
      "userId": "04714273295929622355"
     },
     "user_tz": 360
    },
    "id": "ChlCr7wvl2Uw"
   },
   "outputs": [],
   "source": [
    "def err(mus, S, mus_est, S_est):\n",
    "  err_rate = (np.linalg.norm(mus_est-mus))/mus.size \n",
    "  err_rate += (np.linalg.norm(S_est-S))/S.size \n",
    "  return err_rate"
   ]
  },
  {
   "cell_type": "code",
   "execution_count": 6,
   "metadata": {
    "executionInfo": {
     "elapsed": 8817,
     "status": "ok",
     "timestamp": 1605321659923,
     "user": {
      "displayName": "Thu Nguyễn",
      "photoUrl": "https://lh3.googleusercontent.com/a-/AOh14GjaRl8WgKOjLdrEa69IqFm__Rq7udZ763hhFDl9=s64",
      "userId": "04714273295929622355"
     },
     "user_tz": 360
    },
    "id": "PH3SDKirW3Zf"
   },
   "outputs": [],
   "source": [
    "def compute_err_EM(Xtrain, ytrain, n, p, G):      \n",
    "    # make NAs\n",
    "    Xtr_nan_list = make_nan_list(Xtrain,ytrain,G, n, p)\n",
    "    # make NA data\n",
    "    # since making function changes the order of observation\n",
    "    # we need to generate new ytr from Xtr_nan    \n",
    "    Xtr_nan, ytr = Xtr_nan_list[0], np.repeat(0, len(Xtr_nan_list[0]))\n",
    "    for g in np.arange(1,G):\n",
    "        Xtr_nan = np.vstack((Xtr_nan, Xtr_nan_list[g]))\n",
    "        ytr = np.hstack((ytr, np.repeat(g, len(Xtr_nan_list[g]))))\n",
    "\n",
    "    scaler = StandardScaler()\n",
    "    scaler.fit(Xtr_nan)\n",
    "    Xtr_nan = scaler.transform(Xtr_nan)\n",
    "    Xtrain = scaler.transform(Xtrain)\n",
    "    for g in range(G):\n",
    "      Xtr_nan_list[g] = scaler.transform(Xtr_nan_list[g])\n",
    "\n",
    "    mus = [np.mean(Xtrain[ytrain==g,:], axis=0) for g in np.arange(G)]\n",
    "    mus = np.asarray(mus) # each row is a mean of a class\n",
    "    S = [(sum(ytrain==g)-1)*np.cov(Xtrain[ytrain==g,:],rowvar =False) \n",
    "             for g in np.arange(G)]\n",
    "    S = np.asarray(S)/len(ytrain)\n",
    "\n",
    "    # percentage of missing values\n",
    "    per_missing = np.mean(np.isnan(Xtr_nan))\n",
    "\n",
    "    start = time.time()\n",
    "    Xtr_em = impy.em(Xtr_nan, loops=10)\n",
    "    mus_em = np.array([np.mean(Xtr_em[ytrain==g,:], axis=0) for g in np.arange(G)])\n",
    "    S_em = np.array([(sum(ytrain==g)-1)*np.cov(Xtr_em[ytrain==g,:], rowvar =False) \n",
    "             for g in np.arange(G)])\n",
    "    S_em = S_em/len(ytrain)\n",
    "    em_err = err(mus, S, mus_em, S_em)\n",
    "    em_time = time.time()-start   \n",
    "\n",
    "    return em_err, em_time, per_missing"
   ]
  },
  {
   "cell_type": "code",
   "execution_count": 7,
   "metadata": {
    "executionInfo": {
     "elapsed": 8809,
     "status": "ok",
     "timestamp": 1605321659926,
     "user": {
      "displayName": "Thu Nguyễn",
      "photoUrl": "https://lh3.googleusercontent.com/a-/AOh14GjaRl8WgKOjLdrEa69IqFm__Rq7udZ763hhFDl9=s64",
      "userId": "04714273295929622355"
     },
     "user_tz": 360
    },
    "id": "4l2VuOieLHzD"
   },
   "outputs": [],
   "source": [
    "def compute_err_MICE(Xtrain, ytrain, n, p, G):      \n",
    "    # make NAs\n",
    "    Xtr_nan_list = make_nan_list(Xtrain,ytrain,G, n, p)\n",
    "    # make NA data\n",
    "    # since making function changes the order of observation\n",
    "    # we need to generate new ytr from Xtr_nan    \n",
    "    Xtr_nan, ytr = Xtr_nan_list[0], np.repeat(0, len(Xtr_nan_list[0]))\n",
    "    for g in np.arange(1,G):\n",
    "        Xtr_nan = np.vstack((Xtr_nan, Xtr_nan_list[g]))\n",
    "        ytr = np.hstack((ytr, np.repeat(g, len(Xtr_nan_list[g]))))\n",
    "\n",
    "    scaler = StandardScaler()\n",
    "    scaler.fit(Xtr_nan)\n",
    "    Xtr_nan = scaler.transform(Xtr_nan)\n",
    "    Xtrain = scaler.transform(Xtrain)\n",
    "    for g in range(G):\n",
    "      Xtr_nan_list[g] = scaler.transform(Xtr_nan_list[g])\n",
    "\n",
    "    mus = [np.mean(Xtrain[ytrain==g,:], axis=0) for g in np.arange(G)]\n",
    "    mus = np.asarray(mus) # each row is a mean of a class\n",
    "    S = [(sum(ytrain==g)-1)*np.cov(Xtrain[ytrain==g,:],rowvar =False) \n",
    "             for g in np.arange(G)]\n",
    "    S = np.asarray(S)/len(ytrain)\n",
    "\n",
    "    # percentage of missing values\n",
    "    per_missing = np.mean(np.isnan(Xtr_nan))\n",
    "    # MLEs approach\n",
    "    start = time.time()\n",
    "    Xtr_mice = IterativeImputer(max_iter=10).fit(Xtr_nan).transform(Xtr_nan)\n",
    "    mus_mice = np.asarray([np.mean(Xtr_mice[ytrain==g,:], axis=0\n",
    "                                   ) for g in np.arange(G)])\n",
    "    S_mice = np.asarray([(sum(ytrain==g)-1)*np.cov(Xtr_mice[ytrain==g,:], rowvar =False) \n",
    "             for g in np.arange(G)])\n",
    "    S_mice = S_mice/len(ytrain)\n",
    "    mice_err = err(mus, S, mus_mice, S_mice)\n",
    "    mice_time = time.time()-start  \n",
    "\n",
    "    return mice_err, mice_time, per_missing"
   ]
  },
  {
   "cell_type": "code",
   "execution_count": 8,
   "metadata": {
    "executionInfo": {
     "elapsed": 8802,
     "status": "ok",
     "timestamp": 1605321659928,
     "user": {
      "displayName": "Thu Nguyễn",
      "photoUrl": "https://lh3.googleusercontent.com/a-/AOh14GjaRl8WgKOjLdrEa69IqFm__Rq7udZ763hhFDl9=s64",
      "userId": "04714273295929622355"
     },
     "user_tz": 360
    },
    "id": "6pqzH24ol-Ar"
   },
   "outputs": [],
   "source": [
    "def compute_err_MLE(Xtrain, ytrain, n, p, G):      \n",
    "    # make NAs\n",
    "    Xtr_nan_list = make_nan_list(Xtrain,ytrain,G, n, p)\n",
    "    # make NA data\n",
    "    # since making function changes the order of observation\n",
    "    # we need to generate new ytr from Xtr_nan    \n",
    "    Xtr_nan, ytr = Xtr_nan_list[0], np.repeat(0, len(Xtr_nan_list[0]))\n",
    "    for g in np.arange(1,G):\n",
    "        Xtr_nan = np.vstack((Xtr_nan, Xtr_nan_list[g]))\n",
    "        ytr = np.hstack((ytr, np.repeat(g, len(Xtr_nan_list[g]))))\n",
    "\n",
    "    scaler = StandardScaler()\n",
    "    scaler.fit(Xtr_nan)\n",
    "    Xtr_nan = scaler.transform(Xtr_nan)\n",
    "    Xtrain = scaler.transform(Xtrain)\n",
    "    for g in range(G):\n",
    "      Xtr_nan_list[g] = scaler.transform(Xtr_nan_list[g])\n",
    "\n",
    "    mus = [np.mean(Xtrain[ytrain==g,:], axis=0) for g in np.arange(G)]\n",
    "    mus = np.asarray(mus) # each row is a mean of a class\n",
    "    S = [(sum(ytrain==g)-1)*np.cov(Xtrain[ytrain==g,:],rowvar =False) \n",
    "             for g in np.arange(G)]\n",
    "    S = np.asarray(S)/len(ytrain)\n",
    "\n",
    "    # percentage of missing values\n",
    "    per_missing = np.mean(np.isnan(Xtr_nan))\n",
    "    # MLEs approach\n",
    "    start = time.time()\n",
    "    mus_mle, S_mle = mle(Xtr_nan_list, n, p, G)\n",
    "    mle_err = err(mus, S, mus_mle.T, S_mle)\n",
    "    mle_time = time.time()-start    \n",
    "\n",
    "    return mle_err, mle_time, per_missing"
   ]
  },
  {
   "cell_type": "code",
   "execution_count": 9,
   "metadata": {
    "executionInfo": {
     "elapsed": 7919,
     "status": "ok",
     "timestamp": 1605321659930,
     "user": {
      "displayName": "Thu Nguyễn",
      "photoUrl": "https://lh3.googleusercontent.com/a-/AOh14GjaRl8WgKOjLdrEa69IqFm__Rq7udZ763hhFDl9=s64",
      "userId": "04714273295929622355"
     },
     "user_tz": 360
    },
    "id": "ZB6GFD2lvbbE"
   },
   "outputs": [],
   "source": [
    "def compute_err_SOFT(Xtrain, ytrain, n, p, G):      \n",
    "    # make NAs\n",
    "    Xtr_nan_list = make_nan_list(Xtrain,ytrain,G, n, p)\n",
    "    # make NA data\n",
    "    # since making function changes the order of observation\n",
    "    # we need to generate new ytr from Xtr_nan    \n",
    "    Xtr_nan, ytr = Xtr_nan_list[0], np.repeat(0, len(Xtr_nan_list[0]))\n",
    "    for g in np.arange(1,G):\n",
    "        Xtr_nan = np.vstack((Xtr_nan, Xtr_nan_list[g]))\n",
    "        ytr = np.hstack((ytr, np.repeat(g, len(Xtr_nan_list[g]))))\n",
    "\n",
    "    scaler = StandardScaler()\n",
    "    scaler.fit(Xtr_nan)\n",
    "    Xtr_nan = scaler.transform(Xtr_nan)\n",
    "    Xtrain = scaler.transform(Xtrain)\n",
    "    for g in range(G):\n",
    "      Xtr_nan_list[g] = scaler.transform(Xtr_nan_list[g])\n",
    "\n",
    "    mus = [np.mean(Xtrain[ytrain==g,:], axis=0) for g in np.arange(G)]\n",
    "    mus = np.asarray(mus) # each row is a mean of a class\n",
    "    S = [(sum(ytrain==g)-1)*np.cov(Xtrain[ytrain==g,:],rowvar =False) \n",
    "             for g in np.arange(G)]\n",
    "    S = np.asarray(S)/len(ytrain)\n",
    "\n",
    "    # percentage of missing values\n",
    "    per_missing = np.mean(np.isnan(Xtr_nan))\n",
    "\n",
    "    start = time.time()\n",
    "    Xtr_softimpute = SoftImpute(max_iters = 100).fit_transform(Xtr_nan)\n",
    "    mus_softimpute = np.asarray([np.mean(Xtr_softimpute[ytrain==g,:], axis=0\n",
    "                                         ) for g in np.arange(G)])\n",
    "    S_softimpute = np.asarray([(sum(ytrain==g)-1)*np.cov(Xtr_softimpute[ytrain==g,:], rowvar =False) \n",
    "             for g in np.arange(G)])\n",
    "    S_softimpute = S_softimpute/len(ytrain)\n",
    "    softimpute_err =  err(mus, S, mus_softimpute, S_softimpute)\n",
    "    softimpute_time = time.time()-start    \n",
    "\n",
    "    return softimpute_err, softimpute_time, per_missing"
   ]
  },
  {
   "cell_type": "markdown",
   "metadata": {
    "id": "ORCtMttLn-8J"
   },
   "source": [
    "# Import Fashion MNIST"
   ]
  },
  {
   "cell_type": "code",
   "execution_count": 10,
   "metadata": {
    "colab": {
     "base_uri": "https://localhost:8080/"
    },
    "executionInfo": {
     "elapsed": 3432,
     "status": "ok",
     "timestamp": 1605321663406,
     "user": {
      "displayName": "Thu Nguyễn",
      "photoUrl": "https://lh3.googleusercontent.com/a-/AOh14GjaRl8WgKOjLdrEa69IqFm__Rq7udZ763hhFDl9=s64",
      "userId": "04714273295929622355"
     },
     "user_tz": 360
    },
    "id": "pmzNbWU8n-UW",
    "outputId": "fca3f2d5-19d0-4637-a361-d35f5f8d9745"
   },
   "outputs": [
    {
     "name": "stdout",
     "output_type": "stream",
     "text": [
      "Downloading data from https://storage.googleapis.com/tensorflow/tf-keras-datasets/train-labels-idx1-ubyte.gz\n",
      "32768/29515 [=================================] - 0s 0us/step\n",
      "Downloading data from https://storage.googleapis.com/tensorflow/tf-keras-datasets/train-images-idx3-ubyte.gz\n",
      "26427392/26421880 [==============================] - 1s 0us/step\n",
      "Downloading data from https://storage.googleapis.com/tensorflow/tf-keras-datasets/t10k-labels-idx1-ubyte.gz\n",
      "8192/5148 [===============================================] - 0s 0us/step\n",
      "Downloading data from https://storage.googleapis.com/tensorflow/tf-keras-datasets/t10k-images-idx3-ubyte.gz\n",
      "4423680/4422102 [==============================] - 0s 0us/step\n"
     ]
    }
   ],
   "source": [
    "import tensorflow as tf\n",
    "fashion_mnist = tf.keras.datasets.fashion_mnist\n",
    "(Xtrain, ytrain), (Xtest, ytest) = fashion_mnist.load_data()"
   ]
  },
  {
   "cell_type": "code",
   "execution_count": 11,
   "metadata": {
    "executionInfo": {
     "elapsed": 1327,
     "status": "ok",
     "timestamp": 1605321780140,
     "user": {
      "displayName": "Thu Nguyễn",
      "photoUrl": "https://lh3.googleusercontent.com/a-/AOh14GjaRl8WgKOjLdrEa69IqFm__Rq7udZ763hhFDl9=s64",
      "userId": "04714273295929622355"
     },
     "user_tz": 360
    },
    "id": "Q9F0HbRaoVZR"
   },
   "outputs": [],
   "source": [
    "Xtrain = Xtrain.astype(float).reshape((60000,784))"
   ]
  },
  {
   "cell_type": "code",
   "execution_count": 12,
   "metadata": {
    "executionInfo": {
     "elapsed": 798,
     "status": "ok",
     "timestamp": 1605321780145,
     "user": {
      "displayName": "Thu Nguyễn",
      "photoUrl": "https://lh3.googleusercontent.com/a-/AOh14GjaRl8WgKOjLdrEa69IqFm__Rq7udZ763hhFDl9=s64",
      "userId": "04714273295929622355"
     },
     "user_tz": 360
    },
    "id": "vAioCr-8pJ84"
   },
   "outputs": [],
   "source": [
    "# convert the test set to NumPy arrays and flatten the data\n",
    "Xtest = Xtest.astype(float).reshape((10000,784))"
   ]
  },
  {
   "cell_type": "code",
   "execution_count": 13,
   "metadata": {
    "executionInfo": {
     "elapsed": 1113,
     "status": "ok",
     "timestamp": 1605321781146,
     "user": {
      "displayName": "Thu Nguyễn",
      "photoUrl": "https://lh3.googleusercontent.com/a-/AOh14GjaRl8WgKOjLdrEa69IqFm__Rq7udZ763hhFDl9=s64",
      "userId": "04714273295929622355"
     },
     "user_tz": 360
    },
    "id": "bZexw_33Ar9V"
   },
   "outputs": [],
   "source": [
    "X = np.vstack((Xtrain, Xtest))\n",
    "y = np.hstack((ytrain, ytest))"
   ]
  },
  {
   "cell_type": "code",
   "execution_count": 14,
   "metadata": {
    "colab": {
     "base_uri": "https://localhost:8080/"
    },
    "executionInfo": {
     "elapsed": 2658,
     "status": "ok",
     "timestamp": 1605321783607,
     "user": {
      "displayName": "Thu Nguyễn",
      "photoUrl": "https://lh3.googleusercontent.com/a-/AOh14GjaRl8WgKOjLdrEa69IqFm__Rq7udZ763hhFDl9=s64",
      "userId": "04714273295929622355"
     },
     "user_tz": 360
    },
    "id": "x_MZbrKUo3JG",
    "outputId": "4d389609-0e40-4b00-c05b-e7b10933aca5"
   },
   "outputs": [
    {
     "data": {
      "text/plain": [
       "array([7000, 7000, 7000, 7000, 7000, 7000, 7000, 7000, 7000, 7000])"
      ]
     },
     "execution_count": 14,
     "metadata": {
      "tags": []
     },
     "output_type": "execute_result"
    }
   ],
   "source": [
    "# number of sample per class in training data\n",
    "ng = np.asarray([sum(y==i) for i in np.arange(10)])\n",
    "ng"
   ]
  },
  {
   "cell_type": "markdown",
   "metadata": {
    "id": "Yogx2GqgqOOE"
   },
   "source": [
    "### 20%"
   ]
  },
  {
   "cell_type": "code",
   "execution_count": 15,
   "metadata": {
    "colab": {
     "base_uri": "https://localhost:8080/"
    },
    "executionInfo": {
     "elapsed": 2391,
     "status": "ok",
     "timestamp": 1605321792584,
     "user": {
      "displayName": "Thu Nguyễn",
      "photoUrl": "https://lh3.googleusercontent.com/a-/AOh14GjaRl8WgKOjLdrEa69IqFm__Rq7udZ763hhFDl9=s64",
      "userId": "04714273295929622355"
     },
     "user_tz": 360
    },
    "id": "VuOauwVRqRJc",
    "outputId": "6bc27de6-4d72-4b88-9d27-f6ed5ad1030e"
   },
   "outputs": [
    {
     "data": {
      "text/plain": [
       "0.20280612244897958"
      ]
     },
     "execution_count": 15,
     "metadata": {
      "tags": []
     },
     "output_type": "execute_result"
    }
   ],
   "source": [
    "n = np.hstack((ng.reshape((-1,1)), np.tile([5000,4500,4200, 4000],\n",
    "                                 10).reshape((10,-1))))\n",
    "p = np.array([380,450,500, 520,784])   \n",
    "missing_rate(X, y, n, p, 10)"
   ]
  },
  {
   "cell_type": "code",
   "execution_count": 16,
   "metadata": {
    "colab": {
     "base_uri": "https://localhost:8080/"
    },
    "executionInfo": {
     "elapsed": 10161,
     "status": "ok",
     "timestamp": 1605321812027,
     "user": {
      "displayName": "Thu Nguyễn",
      "photoUrl": "https://lh3.googleusercontent.com/a-/AOh14GjaRl8WgKOjLdrEa69IqFm__Rq7udZ763hhFDl9=s64",
      "userId": "04714273295929622355"
     },
     "user_tz": 360
    },
    "id": "-pAcmGFpqPxE",
    "outputId": "beff55b2-3f0f-4c2b-b449-680cafe9a323"
   },
   "outputs": [
    {
     "data": {
      "text/plain": [
       "(0.00010450153060820514, 2.543551206588745, 0.20280612244897958)"
      ]
     },
     "execution_count": 16,
     "metadata": {
      "tags": []
     },
     "output_type": "execute_result"
    }
   ],
   "source": [
    "compute_err_MLE(X, y, n, p, 10)"
   ]
  },
  {
   "cell_type": "code",
   "execution_count": 17,
   "metadata": {
    "colab": {
     "base_uri": "https://localhost:8080/"
    },
    "executionInfo": {
     "elapsed": 951402,
     "status": "ok",
     "timestamp": 1605322765534,
     "user": {
      "displayName": "Thu Nguyễn",
      "photoUrl": "https://lh3.googleusercontent.com/a-/AOh14GjaRl8WgKOjLdrEa69IqFm__Rq7udZ763hhFDl9=s64",
      "userId": "04714273295929622355"
     },
     "user_tz": 360
    },
    "id": "9H2CqXt8yyjM",
    "outputId": "920b088e-390e-46d4-e00f-6fd9b6b585f7"
   },
   "outputs": [
    {
     "name": "stdout",
     "output_type": "stream",
     "text": [
      "[SoftImpute] Max Singular Value of X_init = 3030.780817\n",
      "[SoftImpute] Iter 1: observed MAE=0.122046 rank=503\n",
      "[SoftImpute] Iter 2: observed MAE=0.122131 rank=498\n",
      "[SoftImpute] Iter 3: observed MAE=0.122177 rank=496\n",
      "[SoftImpute] Iter 4: observed MAE=0.122196 rank=495\n",
      "[SoftImpute] Iter 5: observed MAE=0.122200 rank=494\n",
      "[SoftImpute] Iter 6: observed MAE=0.122198 rank=494\n",
      "[SoftImpute] Iter 7: observed MAE=0.122192 rank=494\n",
      "[SoftImpute] Iter 8: observed MAE=0.122184 rank=494\n",
      "[SoftImpute] Iter 9: observed MAE=0.122175 rank=494\n",
      "[SoftImpute] Iter 10: observed MAE=0.122165 rank=494\n",
      "[SoftImpute] Iter 11: observed MAE=0.122155 rank=494\n",
      "[SoftImpute] Iter 12: observed MAE=0.122146 rank=494\n",
      "[SoftImpute] Iter 13: observed MAE=0.122136 rank=494\n",
      "[SoftImpute] Iter 14: observed MAE=0.122127 rank=494\n",
      "[SoftImpute] Iter 15: observed MAE=0.122118 rank=494\n",
      "[SoftImpute] Iter 16: observed MAE=0.122110 rank=494\n",
      "[SoftImpute] Iter 17: observed MAE=0.122102 rank=494\n",
      "[SoftImpute] Iter 18: observed MAE=0.122094 rank=494\n",
      "[SoftImpute] Iter 19: observed MAE=0.122086 rank=494\n",
      "[SoftImpute] Iter 20: observed MAE=0.122079 rank=494\n",
      "[SoftImpute] Iter 21: observed MAE=0.122072 rank=494\n",
      "[SoftImpute] Iter 22: observed MAE=0.122065 rank=494\n",
      "[SoftImpute] Iter 23: observed MAE=0.122059 rank=494\n",
      "[SoftImpute] Iter 24: observed MAE=0.122053 rank=494\n",
      "[SoftImpute] Iter 25: observed MAE=0.122047 rank=494\n",
      "[SoftImpute] Iter 26: observed MAE=0.122042 rank=494\n",
      "[SoftImpute] Iter 27: observed MAE=0.122036 rank=494\n",
      "[SoftImpute] Iter 28: observed MAE=0.122031 rank=494\n",
      "[SoftImpute] Iter 29: observed MAE=0.122026 rank=494\n",
      "[SoftImpute] Iter 30: observed MAE=0.122021 rank=494\n",
      "[SoftImpute] Iter 31: observed MAE=0.122017 rank=494\n",
      "[SoftImpute] Iter 32: observed MAE=0.122012 rank=494\n",
      "[SoftImpute] Iter 33: observed MAE=0.122008 rank=494\n",
      "[SoftImpute] Iter 34: observed MAE=0.122004 rank=494\n",
      "[SoftImpute] Iter 35: observed MAE=0.122000 rank=494\n",
      "[SoftImpute] Iter 36: observed MAE=0.121996 rank=494\n",
      "[SoftImpute] Iter 37: observed MAE=0.121992 rank=494\n",
      "[SoftImpute] Iter 38: observed MAE=0.121989 rank=494\n",
      "[SoftImpute] Iter 39: observed MAE=0.121986 rank=494\n",
      "[SoftImpute] Iter 40: observed MAE=0.121982 rank=494\n",
      "[SoftImpute] Iter 41: observed MAE=0.121979 rank=494\n",
      "[SoftImpute] Iter 42: observed MAE=0.121976 rank=494\n",
      "[SoftImpute] Iter 43: observed MAE=0.121973 rank=494\n",
      "[SoftImpute] Iter 44: observed MAE=0.121971 rank=494\n",
      "[SoftImpute] Iter 45: observed MAE=0.121968 rank=494\n",
      "[SoftImpute] Iter 46: observed MAE=0.121965 rank=494\n",
      "[SoftImpute] Iter 47: observed MAE=0.121963 rank=494\n",
      "[SoftImpute] Iter 48: observed MAE=0.121961 rank=494\n",
      "[SoftImpute] Iter 49: observed MAE=0.121958 rank=494\n",
      "[SoftImpute] Iter 50: observed MAE=0.121956 rank=494\n",
      "[SoftImpute] Iter 51: observed MAE=0.121954 rank=494\n",
      "[SoftImpute] Iter 52: observed MAE=0.121952 rank=494\n",
      "[SoftImpute] Iter 53: observed MAE=0.121950 rank=494\n",
      "[SoftImpute] Iter 54: observed MAE=0.121948 rank=494\n",
      "[SoftImpute] Iter 55: observed MAE=0.121946 rank=494\n",
      "[SoftImpute] Iter 56: observed MAE=0.121944 rank=494\n",
      "[SoftImpute] Iter 57: observed MAE=0.121943 rank=494\n",
      "[SoftImpute] Iter 58: observed MAE=0.121941 rank=494\n",
      "[SoftImpute] Iter 59: observed MAE=0.121940 rank=494\n",
      "[SoftImpute] Iter 60: observed MAE=0.121938 rank=494\n",
      "[SoftImpute] Iter 61: observed MAE=0.121937 rank=494\n",
      "[SoftImpute] Iter 62: observed MAE=0.121935 rank=494\n",
      "[SoftImpute] Iter 63: observed MAE=0.121934 rank=494\n",
      "[SoftImpute] Iter 64: observed MAE=0.121933 rank=494\n",
      "[SoftImpute] Iter 65: observed MAE=0.121931 rank=494\n",
      "[SoftImpute] Iter 66: observed MAE=0.121930 rank=494\n",
      "[SoftImpute] Iter 67: observed MAE=0.121929 rank=494\n",
      "[SoftImpute] Iter 68: observed MAE=0.121928 rank=494\n",
      "[SoftImpute] Iter 69: observed MAE=0.121927 rank=494\n",
      "[SoftImpute] Iter 70: observed MAE=0.121926 rank=494\n",
      "[SoftImpute] Iter 71: observed MAE=0.121925 rank=494\n",
      "[SoftImpute] Iter 72: observed MAE=0.121924 rank=494\n",
      "[SoftImpute] Iter 73: observed MAE=0.121923 rank=494\n",
      "[SoftImpute] Iter 74: observed MAE=0.121922 rank=494\n",
      "[SoftImpute] Iter 75: observed MAE=0.121921 rank=494\n",
      "[SoftImpute] Iter 76: observed MAE=0.121920 rank=494\n",
      "[SoftImpute] Iter 77: observed MAE=0.121919 rank=494\n",
      "[SoftImpute] Iter 78: observed MAE=0.121919 rank=494\n",
      "[SoftImpute] Iter 79: observed MAE=0.121918 rank=494\n",
      "[SoftImpute] Iter 80: observed MAE=0.121917 rank=494\n",
      "[SoftImpute] Iter 81: observed MAE=0.121916 rank=494\n",
      "[SoftImpute] Iter 82: observed MAE=0.121916 rank=494\n",
      "[SoftImpute] Iter 83: observed MAE=0.121915 rank=494\n",
      "[SoftImpute] Iter 84: observed MAE=0.121915 rank=494\n",
      "[SoftImpute] Iter 85: observed MAE=0.121914 rank=494\n",
      "[SoftImpute] Iter 86: observed MAE=0.121913 rank=494\n",
      "[SoftImpute] Iter 87: observed MAE=0.121913 rank=494\n",
      "[SoftImpute] Iter 88: observed MAE=0.121912 rank=494\n",
      "[SoftImpute] Iter 89: observed MAE=0.121912 rank=494\n",
      "[SoftImpute] Iter 90: observed MAE=0.121911 rank=494\n",
      "[SoftImpute] Iter 91: observed MAE=0.121911 rank=494\n",
      "[SoftImpute] Iter 92: observed MAE=0.121910 rank=494\n",
      "[SoftImpute] Iter 93: observed MAE=0.121910 rank=494\n",
      "[SoftImpute] Iter 94: observed MAE=0.121909 rank=494\n",
      "[SoftImpute] Iter 95: observed MAE=0.121909 rank=494\n",
      "[SoftImpute] Iter 96: observed MAE=0.121909 rank=494\n",
      "[SoftImpute] Stopped after iteration 96 for lambda=60.615616\n"
     ]
    },
    {
     "data": {
      "text/plain": [
       "(0.006429311626715689, 944.2510235309601, 0.20280612244897958)"
      ]
     },
     "execution_count": 17,
     "metadata": {
      "tags": []
     },
     "output_type": "execute_result"
    }
   ],
   "source": [
    "compute_err_SOFT(X, y, n, p, 10)"
   ]
  },
  {
   "cell_type": "markdown",
   "metadata": {
    "id": "k3us3LxFuzoS"
   },
   "source": [
    "### 30%"
   ]
  },
  {
   "cell_type": "code",
   "execution_count": 18,
   "metadata": {
    "colab": {
     "base_uri": "https://localhost:8080/"
    },
    "executionInfo": {
     "elapsed": 2783,
     "status": "ok",
     "timestamp": 1605322809472,
     "user": {
      "displayName": "Thu Nguyễn",
      "photoUrl": "https://lh3.googleusercontent.com/a-/AOh14GjaRl8WgKOjLdrEa69IqFm__Rq7udZ763hhFDl9=s64",
      "userId": "04714273295929622355"
     },
     "user_tz": 360
    },
    "id": "mDpQc9YItJR0",
    "outputId": "b113e1f8-7eeb-427f-f535-b618a7cb56e1"
   },
   "outputs": [
    {
     "data": {
      "text/plain": [
       "0.30317055393586007"
      ]
     },
     "execution_count": 18,
     "metadata": {
      "tags": []
     },
     "output_type": "execute_result"
    }
   ],
   "source": [
    "    n = np.hstack((ng.reshape((-1,1)), np.tile([4000,3500,3000, 2800],\n",
    "                                 10).reshape((10,-1))))\n",
    "    p = np.array([350,450,500, 520,784])   \n",
    "    missing_rate(X, y, n, p, 10)"
   ]
  },
  {
   "cell_type": "code",
   "execution_count": 19,
   "metadata": {
    "colab": {
     "base_uri": "https://localhost:8080/"
    },
    "executionInfo": {
     "elapsed": 9422,
     "status": "ok",
     "timestamp": 1605322825346,
     "user": {
      "displayName": "Thu Nguyễn",
      "photoUrl": "https://lh3.googleusercontent.com/a-/AOh14GjaRl8WgKOjLdrEa69IqFm__Rq7udZ763hhFDl9=s64",
      "userId": "04714273295929622355"
     },
     "user_tz": 360
    },
    "id": "1gM7Fh7auybP",
    "outputId": "7eb2c87c-6e8b-4235-9666-1f6d25ef52c3"
   },
   "outputs": [
    {
     "data": {
      "text/plain": [
       "(0.00012231061717755495, 2.11018705368042, 0.30317055393586007)"
      ]
     },
     "execution_count": 19,
     "metadata": {
      "tags": []
     },
     "output_type": "execute_result"
    }
   ],
   "source": [
    "compute_err_MLE(X, y, n, p, 10)"
   ]
  },
  {
   "cell_type": "code",
   "execution_count": 20,
   "metadata": {
    "colab": {
     "base_uri": "https://localhost:8080/"
    },
    "executionInfo": {
     "elapsed": 996285,
     "status": "ok",
     "timestamp": 1605323816516,
     "user": {
      "displayName": "Thu Nguyễn",
      "photoUrl": "https://lh3.googleusercontent.com/a-/AOh14GjaRl8WgKOjLdrEa69IqFm__Rq7udZ763hhFDl9=s64",
      "userId": "04714273295929622355"
     },
     "user_tz": 360
    },
    "id": "fY1IPp3X5fcD",
    "outputId": "c5f0c077-d591-4c06-ae68-cd468c44146e"
   },
   "outputs": [
    {
     "name": "stdout",
     "output_type": "stream",
     "text": [
      "[SoftImpute] Max Singular Value of X_init = 2853.075334\n",
      "[SoftImpute] Iter 1: observed MAE=0.120687 rank=494\n",
      "[SoftImpute] Iter 2: observed MAE=0.120748 rank=486\n",
      "[SoftImpute] Iter 3: observed MAE=0.120792 rank=482\n",
      "[SoftImpute] Iter 4: observed MAE=0.120814 rank=481\n",
      "[SoftImpute] Iter 5: observed MAE=0.120822 rank=481\n",
      "[SoftImpute] Iter 6: observed MAE=0.120823 rank=480\n",
      "[SoftImpute] Iter 7: observed MAE=0.120819 rank=480\n",
      "[SoftImpute] Iter 8: observed MAE=0.120812 rank=480\n",
      "[SoftImpute] Iter 9: observed MAE=0.120804 rank=480\n",
      "[SoftImpute] Iter 10: observed MAE=0.120796 rank=480\n",
      "[SoftImpute] Iter 11: observed MAE=0.120787 rank=480\n",
      "[SoftImpute] Iter 12: observed MAE=0.120778 rank=480\n",
      "[SoftImpute] Iter 13: observed MAE=0.120769 rank=480\n",
      "[SoftImpute] Iter 14: observed MAE=0.120760 rank=480\n",
      "[SoftImpute] Iter 15: observed MAE=0.120751 rank=480\n",
      "[SoftImpute] Iter 16: observed MAE=0.120743 rank=480\n",
      "[SoftImpute] Iter 17: observed MAE=0.120735 rank=480\n",
      "[SoftImpute] Iter 18: observed MAE=0.120728 rank=480\n",
      "[SoftImpute] Iter 19: observed MAE=0.120720 rank=480\n",
      "[SoftImpute] Iter 20: observed MAE=0.120713 rank=480\n",
      "[SoftImpute] Iter 21: observed MAE=0.120706 rank=480\n",
      "[SoftImpute] Iter 22: observed MAE=0.120700 rank=480\n",
      "[SoftImpute] Iter 23: observed MAE=0.120694 rank=480\n",
      "[SoftImpute] Iter 24: observed MAE=0.120688 rank=480\n",
      "[SoftImpute] Iter 25: observed MAE=0.120682 rank=480\n",
      "[SoftImpute] Iter 26: observed MAE=0.120676 rank=480\n",
      "[SoftImpute] Iter 27: observed MAE=0.120671 rank=480\n",
      "[SoftImpute] Iter 28: observed MAE=0.120666 rank=480\n",
      "[SoftImpute] Iter 29: observed MAE=0.120661 rank=480\n",
      "[SoftImpute] Iter 30: observed MAE=0.120656 rank=480\n",
      "[SoftImpute] Iter 31: observed MAE=0.120651 rank=480\n",
      "[SoftImpute] Iter 32: observed MAE=0.120647 rank=480\n",
      "[SoftImpute] Iter 33: observed MAE=0.120643 rank=480\n",
      "[SoftImpute] Iter 34: observed MAE=0.120638 rank=480\n",
      "[SoftImpute] Iter 35: observed MAE=0.120634 rank=480\n",
      "[SoftImpute] Iter 36: observed MAE=0.120631 rank=480\n",
      "[SoftImpute] Iter 37: observed MAE=0.120627 rank=480\n",
      "[SoftImpute] Iter 38: observed MAE=0.120623 rank=480\n",
      "[SoftImpute] Iter 39: observed MAE=0.120620 rank=480\n",
      "[SoftImpute] Iter 40: observed MAE=0.120616 rank=480\n",
      "[SoftImpute] Iter 41: observed MAE=0.120613 rank=480\n",
      "[SoftImpute] Iter 42: observed MAE=0.120610 rank=480\n",
      "[SoftImpute] Iter 43: observed MAE=0.120607 rank=480\n",
      "[SoftImpute] Iter 44: observed MAE=0.120604 rank=480\n",
      "[SoftImpute] Iter 45: observed MAE=0.120601 rank=480\n",
      "[SoftImpute] Iter 46: observed MAE=0.120598 rank=480\n",
      "[SoftImpute] Iter 47: observed MAE=0.120596 rank=480\n",
      "[SoftImpute] Iter 48: observed MAE=0.120593 rank=480\n",
      "[SoftImpute] Iter 49: observed MAE=0.120591 rank=480\n",
      "[SoftImpute] Iter 50: observed MAE=0.120588 rank=480\n",
      "[SoftImpute] Iter 51: observed MAE=0.120586 rank=480\n",
      "[SoftImpute] Iter 52: observed MAE=0.120584 rank=480\n",
      "[SoftImpute] Iter 53: observed MAE=0.120581 rank=480\n",
      "[SoftImpute] Iter 54: observed MAE=0.120579 rank=480\n",
      "[SoftImpute] Iter 55: observed MAE=0.120577 rank=480\n",
      "[SoftImpute] Iter 56: observed MAE=0.120575 rank=480\n",
      "[SoftImpute] Iter 57: observed MAE=0.120573 rank=480\n",
      "[SoftImpute] Iter 58: observed MAE=0.120571 rank=480\n",
      "[SoftImpute] Iter 59: observed MAE=0.120570 rank=480\n",
      "[SoftImpute] Iter 60: observed MAE=0.120568 rank=480\n",
      "[SoftImpute] Iter 61: observed MAE=0.120566 rank=480\n",
      "[SoftImpute] Iter 62: observed MAE=0.120565 rank=480\n",
      "[SoftImpute] Iter 63: observed MAE=0.120563 rank=480\n",
      "[SoftImpute] Iter 64: observed MAE=0.120561 rank=480\n",
      "[SoftImpute] Iter 65: observed MAE=0.120560 rank=480\n",
      "[SoftImpute] Iter 66: observed MAE=0.120558 rank=480\n",
      "[SoftImpute] Iter 67: observed MAE=0.120557 rank=480\n",
      "[SoftImpute] Iter 68: observed MAE=0.120556 rank=480\n",
      "[SoftImpute] Iter 69: observed MAE=0.120554 rank=480\n",
      "[SoftImpute] Iter 70: observed MAE=0.120553 rank=480\n",
      "[SoftImpute] Iter 71: observed MAE=0.120552 rank=480\n",
      "[SoftImpute] Iter 72: observed MAE=0.120551 rank=480\n",
      "[SoftImpute] Iter 73: observed MAE=0.120549 rank=480\n",
      "[SoftImpute] Iter 74: observed MAE=0.120548 rank=480\n",
      "[SoftImpute] Iter 75: observed MAE=0.120547 rank=480\n",
      "[SoftImpute] Iter 76: observed MAE=0.120546 rank=480\n",
      "[SoftImpute] Iter 77: observed MAE=0.120545 rank=480\n",
      "[SoftImpute] Iter 78: observed MAE=0.120544 rank=480\n",
      "[SoftImpute] Iter 79: observed MAE=0.120543 rank=480\n",
      "[SoftImpute] Iter 80: observed MAE=0.120542 rank=480\n",
      "[SoftImpute] Iter 81: observed MAE=0.120541 rank=480\n",
      "[SoftImpute] Iter 82: observed MAE=0.120540 rank=480\n",
      "[SoftImpute] Iter 83: observed MAE=0.120539 rank=480\n",
      "[SoftImpute] Iter 84: observed MAE=0.120539 rank=480\n",
      "[SoftImpute] Iter 85: observed MAE=0.120538 rank=480\n",
      "[SoftImpute] Iter 86: observed MAE=0.120537 rank=480\n",
      "[SoftImpute] Iter 87: observed MAE=0.120536 rank=480\n",
      "[SoftImpute] Iter 88: observed MAE=0.120535 rank=480\n",
      "[SoftImpute] Iter 89: observed MAE=0.120535 rank=480\n",
      "[SoftImpute] Iter 90: observed MAE=0.120534 rank=480\n",
      "[SoftImpute] Iter 91: observed MAE=0.120533 rank=480\n",
      "[SoftImpute] Iter 92: observed MAE=0.120533 rank=480\n",
      "[SoftImpute] Iter 93: observed MAE=0.120532 rank=480\n",
      "[SoftImpute] Iter 94: observed MAE=0.120531 rank=480\n",
      "[SoftImpute] Iter 95: observed MAE=0.120531 rank=480\n",
      "[SoftImpute] Iter 96: observed MAE=0.120530 rank=480\n",
      "[SoftImpute] Iter 97: observed MAE=0.120530 rank=480\n",
      "[SoftImpute] Iter 98: observed MAE=0.120529 rank=480\n",
      "[SoftImpute] Iter 99: observed MAE=0.120529 rank=480\n",
      "[SoftImpute] Iter 100: observed MAE=0.120528 rank=480\n",
      "[SoftImpute] Stopped after iteration 100 for lambda=57.061507\n"
     ]
    },
    {
     "data": {
      "text/plain": [
       "(0.006425510848236525, 984.7857704162598, 0.30317055393586007)"
      ]
     },
     "execution_count": 20,
     "metadata": {
      "tags": []
     },
     "output_type": "execute_result"
    }
   ],
   "source": [
    "compute_err_SOFT(X, y, n, p, 10)"
   ]
  },
  {
   "cell_type": "markdown",
   "metadata": {
    "id": "ZILx8177vKsh"
   },
   "source": [
    "## 40%"
   ]
  },
  {
   "cell_type": "code",
   "execution_count": 21,
   "metadata": {
    "colab": {
     "base_uri": "https://localhost:8080/"
    },
    "executionInfo": {
     "elapsed": 2089,
     "status": "ok",
     "timestamp": 1605323826722,
     "user": {
      "displayName": "Thu Nguyễn",
      "photoUrl": "https://lh3.googleusercontent.com/a-/AOh14GjaRl8WgKOjLdrEa69IqFm__Rq7udZ763hhFDl9=s64",
      "userId": "04714273295929622355"
     },
     "user_tz": 360
    },
    "id": "dEkeZuU4u6Cq",
    "outputId": "da2bc83d-dc11-49bb-b2ff-d4db2afe03a2"
   },
   "outputs": [
    {
     "data": {
      "text/plain": [
       "0.398432944606414"
      ]
     },
     "execution_count": 21,
     "metadata": {
      "tags": []
     },
     "output_type": "execute_result"
    }
   ],
   "source": [
    "n = np.hstack((ng.reshape((-1,1)), np.tile([4500,3490,3350, 3100],\n",
    "                                 10).reshape((10,-1))))\n",
    "p = np.array([180,250,400, 450,784])   \n",
    "missing_rate(X, y, n, p, 10)"
   ]
  },
  {
   "cell_type": "code",
   "execution_count": 22,
   "metadata": {
    "colab": {
     "base_uri": "https://localhost:8080/"
    },
    "executionInfo": {
     "elapsed": 8909,
     "status": "ok",
     "timestamp": 1605323836973,
     "user": {
      "displayName": "Thu Nguyễn",
      "photoUrl": "https://lh3.googleusercontent.com/a-/AOh14GjaRl8WgKOjLdrEa69IqFm__Rq7udZ763hhFDl9=s64",
      "userId": "04714273295929622355"
     },
     "user_tz": 360
    },
    "id": "YwOKhnGpvJKX",
    "outputId": "cdc96abc-92dc-4421-bc67-9207755341df"
   },
   "outputs": [
    {
     "data": {
      "text/plain": [
       "(0.00014340962350528415, 1.6470777988433838, 0.398432944606414)"
      ]
     },
     "execution_count": 22,
     "metadata": {
      "tags": []
     },
     "output_type": "execute_result"
    }
   ],
   "source": [
    "compute_err_MLE(X, y, n, p, 10)"
   ]
  },
  {
   "cell_type": "code",
   "execution_count": 23,
   "metadata": {
    "colab": {
     "base_uri": "https://localhost:8080/"
    },
    "executionInfo": {
     "elapsed": 1021852,
     "status": "ok",
     "timestamp": 1605324851010,
     "user": {
      "displayName": "Thu Nguyễn",
      "photoUrl": "https://lh3.googleusercontent.com/a-/AOh14GjaRl8WgKOjLdrEa69IqFm__Rq7udZ763hhFDl9=s64",
      "userId": "04714273295929622355"
     },
     "user_tz": 360
    },
    "id": "9EAlV-IYAPVA",
    "outputId": "61f84deb-d7a9-49dc-f6e5-a89aae5d7392"
   },
   "outputs": [
    {
     "name": "stdout",
     "output_type": "stream",
     "text": [
      "[SoftImpute] Max Singular Value of X_init = 2561.391930\n",
      "[SoftImpute] Iter 1: observed MAE=0.117163 rank=503\n",
      "[SoftImpute] Iter 2: observed MAE=0.117282 rank=497\n",
      "[SoftImpute] Iter 3: observed MAE=0.117352 rank=495\n",
      "[SoftImpute] Iter 4: observed MAE=0.117389 rank=495\n",
      "[SoftImpute] Iter 5: observed MAE=0.117407 rank=494\n",
      "[SoftImpute] Iter 6: observed MAE=0.117414 rank=494\n",
      "[SoftImpute] Iter 7: observed MAE=0.117414 rank=493\n",
      "[SoftImpute] Iter 8: observed MAE=0.117411 rank=493\n",
      "[SoftImpute] Iter 9: observed MAE=0.117406 rank=493\n",
      "[SoftImpute] Iter 10: observed MAE=0.117399 rank=493\n",
      "[SoftImpute] Iter 11: observed MAE=0.117392 rank=493\n",
      "[SoftImpute] Iter 12: observed MAE=0.117384 rank=493\n",
      "[SoftImpute] Iter 13: observed MAE=0.117376 rank=493\n",
      "[SoftImpute] Iter 14: observed MAE=0.117368 rank=493\n",
      "[SoftImpute] Iter 15: observed MAE=0.117360 rank=493\n",
      "[SoftImpute] Iter 16: observed MAE=0.117352 rank=493\n",
      "[SoftImpute] Iter 17: observed MAE=0.117344 rank=493\n",
      "[SoftImpute] Iter 18: observed MAE=0.117336 rank=493\n",
      "[SoftImpute] Iter 19: observed MAE=0.117329 rank=493\n",
      "[SoftImpute] Iter 20: observed MAE=0.117321 rank=493\n",
      "[SoftImpute] Iter 21: observed MAE=0.117314 rank=493\n",
      "[SoftImpute] Iter 22: observed MAE=0.117308 rank=493\n",
      "[SoftImpute] Iter 23: observed MAE=0.117301 rank=493\n",
      "[SoftImpute] Iter 24: observed MAE=0.117295 rank=493\n",
      "[SoftImpute] Iter 25: observed MAE=0.117289 rank=493\n",
      "[SoftImpute] Iter 26: observed MAE=0.117283 rank=493\n",
      "[SoftImpute] Iter 27: observed MAE=0.117278 rank=493\n",
      "[SoftImpute] Iter 28: observed MAE=0.117272 rank=493\n",
      "[SoftImpute] Iter 29: observed MAE=0.117267 rank=493\n",
      "[SoftImpute] Iter 30: observed MAE=0.117262 rank=493\n",
      "[SoftImpute] Iter 31: observed MAE=0.117258 rank=493\n",
      "[SoftImpute] Iter 32: observed MAE=0.117253 rank=493\n",
      "[SoftImpute] Iter 33: observed MAE=0.117249 rank=493\n",
      "[SoftImpute] Iter 34: observed MAE=0.117244 rank=493\n",
      "[SoftImpute] Iter 35: observed MAE=0.117240 rank=493\n",
      "[SoftImpute] Iter 36: observed MAE=0.117237 rank=493\n",
      "[SoftImpute] Iter 37: observed MAE=0.117233 rank=493\n",
      "[SoftImpute] Iter 38: observed MAE=0.117229 rank=493\n",
      "[SoftImpute] Iter 39: observed MAE=0.117226 rank=493\n",
      "[SoftImpute] Iter 40: observed MAE=0.117222 rank=493\n",
      "[SoftImpute] Iter 41: observed MAE=0.117219 rank=493\n",
      "[SoftImpute] Iter 42: observed MAE=0.117216 rank=493\n",
      "[SoftImpute] Iter 43: observed MAE=0.117213 rank=493\n",
      "[SoftImpute] Iter 44: observed MAE=0.117210 rank=493\n",
      "[SoftImpute] Iter 45: observed MAE=0.117208 rank=493\n",
      "[SoftImpute] Iter 46: observed MAE=0.117205 rank=493\n",
      "[SoftImpute] Iter 47: observed MAE=0.117202 rank=493\n",
      "[SoftImpute] Iter 48: observed MAE=0.117200 rank=493\n",
      "[SoftImpute] Iter 49: observed MAE=0.117197 rank=493\n",
      "[SoftImpute] Iter 50: observed MAE=0.117195 rank=493\n",
      "[SoftImpute] Iter 51: observed MAE=0.117193 rank=493\n",
      "[SoftImpute] Iter 52: observed MAE=0.117190 rank=493\n",
      "[SoftImpute] Iter 53: observed MAE=0.117188 rank=493\n",
      "[SoftImpute] Iter 54: observed MAE=0.117186 rank=493\n",
      "[SoftImpute] Iter 55: observed MAE=0.117184 rank=493\n",
      "[SoftImpute] Iter 56: observed MAE=0.117182 rank=493\n",
      "[SoftImpute] Iter 57: observed MAE=0.117180 rank=493\n",
      "[SoftImpute] Iter 58: observed MAE=0.117179 rank=493\n",
      "[SoftImpute] Iter 59: observed MAE=0.117177 rank=493\n",
      "[SoftImpute] Iter 60: observed MAE=0.117175 rank=493\n",
      "[SoftImpute] Iter 61: observed MAE=0.117173 rank=493\n",
      "[SoftImpute] Iter 62: observed MAE=0.117172 rank=493\n",
      "[SoftImpute] Iter 63: observed MAE=0.117170 rank=493\n",
      "[SoftImpute] Iter 64: observed MAE=0.117168 rank=493\n",
      "[SoftImpute] Iter 65: observed MAE=0.117167 rank=493\n",
      "[SoftImpute] Iter 66: observed MAE=0.117165 rank=493\n",
      "[SoftImpute] Iter 67: observed MAE=0.117164 rank=493\n",
      "[SoftImpute] Iter 68: observed MAE=0.117163 rank=493\n",
      "[SoftImpute] Iter 69: observed MAE=0.117161 rank=493\n",
      "[SoftImpute] Iter 70: observed MAE=0.117160 rank=493\n",
      "[SoftImpute] Iter 71: observed MAE=0.117159 rank=493\n",
      "[SoftImpute] Iter 72: observed MAE=0.117157 rank=493\n",
      "[SoftImpute] Iter 73: observed MAE=0.117156 rank=493\n",
      "[SoftImpute] Iter 74: observed MAE=0.117155 rank=493\n",
      "[SoftImpute] Iter 75: observed MAE=0.117154 rank=493\n",
      "[SoftImpute] Iter 76: observed MAE=0.117153 rank=493\n",
      "[SoftImpute] Iter 77: observed MAE=0.117152 rank=493\n",
      "[SoftImpute] Iter 78: observed MAE=0.117151 rank=493\n",
      "[SoftImpute] Iter 79: observed MAE=0.117150 rank=493\n",
      "[SoftImpute] Iter 80: observed MAE=0.117149 rank=493\n",
      "[SoftImpute] Iter 81: observed MAE=0.117148 rank=493\n",
      "[SoftImpute] Iter 82: observed MAE=0.117147 rank=493\n",
      "[SoftImpute] Iter 83: observed MAE=0.117146 rank=493\n",
      "[SoftImpute] Iter 84: observed MAE=0.117145 rank=493\n",
      "[SoftImpute] Iter 85: observed MAE=0.117144 rank=493\n",
      "[SoftImpute] Iter 86: observed MAE=0.117143 rank=493\n",
      "[SoftImpute] Iter 87: observed MAE=0.117142 rank=493\n",
      "[SoftImpute] Iter 88: observed MAE=0.117141 rank=493\n",
      "[SoftImpute] Iter 89: observed MAE=0.117141 rank=493\n",
      "[SoftImpute] Iter 90: observed MAE=0.117140 rank=493\n",
      "[SoftImpute] Iter 91: observed MAE=0.117139 rank=493\n",
      "[SoftImpute] Iter 92: observed MAE=0.117138 rank=493\n",
      "[SoftImpute] Iter 93: observed MAE=0.117138 rank=493\n",
      "[SoftImpute] Iter 94: observed MAE=0.117137 rank=493\n",
      "[SoftImpute] Iter 95: observed MAE=0.117136 rank=493\n",
      "[SoftImpute] Iter 96: observed MAE=0.117136 rank=493\n",
      "[SoftImpute] Iter 97: observed MAE=0.117135 rank=493\n",
      "[SoftImpute] Iter 98: observed MAE=0.117134 rank=493\n",
      "[SoftImpute] Iter 99: observed MAE=0.117134 rank=493\n",
      "[SoftImpute] Iter 100: observed MAE=0.117133 rank=493\n",
      "[SoftImpute] Stopped after iteration 100 for lambda=51.227839\n"
     ]
    },
    {
     "data": {
      "text/plain": [
       "(0.006417907480551935, 1006.9230966567993, 0.398432944606414)"
      ]
     },
     "execution_count": 23,
     "metadata": {
      "tags": []
     },
     "output_type": "execute_result"
    }
   ],
   "source": [
    "compute_err_SOFT(X, y, n, p, 10)"
   ]
  },
  {
   "cell_type": "markdown",
   "metadata": {
    "id": "zi4yr_OP3Rze"
   },
   "source": [
    "## 50%"
   ]
  },
  {
   "cell_type": "code",
   "execution_count": 24,
   "metadata": {
    "colab": {
     "base_uri": "https://localhost:8080/"
    },
    "executionInfo": {
     "elapsed": 1975,
     "status": "ok",
     "timestamp": 1605325013556,
     "user": {
      "displayName": "Thu Nguyễn",
      "photoUrl": "https://lh3.googleusercontent.com/a-/AOh14GjaRl8WgKOjLdrEa69IqFm__Rq7udZ763hhFDl9=s64",
      "userId": "04714273295929622355"
     },
     "user_tz": 360
    },
    "id": "hJZ0OioKAQtG",
    "outputId": "4cdd7cdf-a98c-49a5-8a9d-6d4155f3c7a5"
   },
   "outputs": [
    {
     "data": {
      "text/plain": [
       "0.4983418367346939"
      ]
     },
     "execution_count": 24,
     "metadata": {
      "tags": []
     },
     "output_type": "execute_result"
    }
   ],
   "source": [
    "n = np.hstack((ng.reshape((-1,1)), np.tile([3500,3290,3100, 3000],\n",
    "                                 10).reshape((10,-1))))\n",
    "p = np.array([90,110,200, 250,784])   \n",
    "missing_rate(X, y, n, p, 10)"
   ]
  },
  {
   "cell_type": "code",
   "execution_count": 25,
   "metadata": {
    "colab": {
     "base_uri": "https://localhost:8080/"
    },
    "executionInfo": {
     "elapsed": 8575,
     "status": "ok",
     "timestamp": 1605325023619,
     "user": {
      "displayName": "Thu Nguyễn",
      "photoUrl": "https://lh3.googleusercontent.com/a-/AOh14GjaRl8WgKOjLdrEa69IqFm__Rq7udZ763hhFDl9=s64",
      "userId": "04714273295929622355"
     },
     "user_tz": 360
    },
    "id": "8WtawpIe3anp",
    "outputId": "a40e346d-db07-46fc-974b-e40d0160d814"
   },
   "outputs": [
    {
     "data": {
      "text/plain": [
       "(0.00016006886880623065, 1.0960605144500732, 0.4983418367346939)"
      ]
     },
     "execution_count": 25,
     "metadata": {
      "tags": []
     },
     "output_type": "execute_result"
    }
   ],
   "source": [
    "compute_err_MLE(X, y, n, p, 10)"
   ]
  },
  {
   "cell_type": "code",
   "execution_count": 26,
   "metadata": {
    "colab": {
     "base_uri": "https://localhost:8080/"
    },
    "executionInfo": {
     "elapsed": 2517,
     "status": "ok",
     "timestamp": 1605326052149,
     "user": {
      "displayName": "Thu Nguyễn",
      "photoUrl": "https://lh3.googleusercontent.com/a-/AOh14GjaRl8WgKOjLdrEa69IqFm__Rq7udZ763hhFDl9=s64",
      "userId": "04714273295929622355"
     },
     "user_tz": 360
    },
    "id": "GvHrg3oKfTpM",
    "outputId": "23304650-bd37-4920-8826-12955de4f2ae"
   },
   "outputs": [
    {
     "name": "stdout",
     "output_type": "stream",
     "text": [
      "[SoftImpute] Max Singular Value of X_init = 2309.961374\n",
      "[SoftImpute] Iter 1: observed MAE=0.115912 rank=502\n",
      "[SoftImpute] Iter 2: observed MAE=0.116007 rank=500\n",
      "[SoftImpute] Iter 3: observed MAE=0.116066 rank=498\n",
      "[SoftImpute] Iter 4: observed MAE=0.116103 rank=498\n",
      "[SoftImpute] Iter 5: observed MAE=0.116125 rank=498\n",
      "[SoftImpute] Iter 6: observed MAE=0.116139 rank=498\n",
      "[SoftImpute] Iter 7: observed MAE=0.116149 rank=498\n",
      "[SoftImpute] Iter 8: observed MAE=0.116154 rank=498\n",
      "[SoftImpute] Iter 9: observed MAE=0.116158 rank=498\n",
      "[SoftImpute] Iter 10: observed MAE=0.116160 rank=498\n",
      "[SoftImpute] Iter 11: observed MAE=0.116161 rank=498\n",
      "[SoftImpute] Iter 12: observed MAE=0.116161 rank=498\n",
      "[SoftImpute] Iter 13: observed MAE=0.116161 rank=498\n",
      "[SoftImpute] Iter 14: observed MAE=0.116160 rank=498\n",
      "[SoftImpute] Iter 15: observed MAE=0.116159 rank=498\n",
      "[SoftImpute] Iter 16: observed MAE=0.116158 rank=498\n",
      "[SoftImpute] Iter 17: observed MAE=0.116157 rank=498\n",
      "[SoftImpute] Iter 18: observed MAE=0.116155 rank=498\n",
      "[SoftImpute] Iter 19: observed MAE=0.116154 rank=498\n",
      "[SoftImpute] Iter 20: observed MAE=0.116152 rank=498\n",
      "[SoftImpute] Iter 21: observed MAE=0.116150 rank=498\n",
      "[SoftImpute] Iter 22: observed MAE=0.116149 rank=498\n",
      "[SoftImpute] Iter 23: observed MAE=0.116147 rank=498\n",
      "[SoftImpute] Iter 24: observed MAE=0.116146 rank=498\n",
      "[SoftImpute] Iter 25: observed MAE=0.116144 rank=498\n",
      "[SoftImpute] Iter 26: observed MAE=0.116143 rank=498\n",
      "[SoftImpute] Iter 27: observed MAE=0.116141 rank=498\n",
      "[SoftImpute] Iter 28: observed MAE=0.116140 rank=498\n",
      "[SoftImpute] Iter 29: observed MAE=0.116138 rank=498\n",
      "[SoftImpute] Iter 30: observed MAE=0.116137 rank=498\n",
      "[SoftImpute] Iter 31: observed MAE=0.116135 rank=498\n",
      "[SoftImpute] Iter 32: observed MAE=0.116134 rank=498\n",
      "[SoftImpute] Iter 33: observed MAE=0.116133 rank=498\n",
      "[SoftImpute] Iter 34: observed MAE=0.116131 rank=498\n",
      "[SoftImpute] Iter 35: observed MAE=0.116130 rank=498\n",
      "[SoftImpute] Iter 36: observed MAE=0.116129 rank=498\n",
      "[SoftImpute] Iter 37: observed MAE=0.116128 rank=498\n",
      "[SoftImpute] Iter 38: observed MAE=0.116127 rank=498\n",
      "[SoftImpute] Iter 39: observed MAE=0.116126 rank=498\n",
      "[SoftImpute] Iter 40: observed MAE=0.116124 rank=498\n",
      "[SoftImpute] Iter 41: observed MAE=0.116123 rank=498\n",
      "[SoftImpute] Iter 42: observed MAE=0.116122 rank=498\n",
      "[SoftImpute] Iter 43: observed MAE=0.116121 rank=498\n",
      "[SoftImpute] Iter 44: observed MAE=0.116120 rank=498\n",
      "[SoftImpute] Iter 45: observed MAE=0.116120 rank=498\n",
      "[SoftImpute] Iter 46: observed MAE=0.116119 rank=498\n",
      "[SoftImpute] Iter 47: observed MAE=0.116118 rank=498\n",
      "[SoftImpute] Iter 48: observed MAE=0.116117 rank=498\n",
      "[SoftImpute] Iter 49: observed MAE=0.116116 rank=497\n",
      "[SoftImpute] Iter 50: observed MAE=0.116115 rank=497\n",
      "[SoftImpute] Iter 51: observed MAE=0.116114 rank=497\n",
      "[SoftImpute] Iter 52: observed MAE=0.116114 rank=497\n",
      "[SoftImpute] Iter 53: observed MAE=0.116113 rank=497\n",
      "[SoftImpute] Iter 54: observed MAE=0.116112 rank=497\n",
      "[SoftImpute] Iter 55: observed MAE=0.116111 rank=497\n",
      "[SoftImpute] Iter 56: observed MAE=0.116111 rank=497\n",
      "[SoftImpute] Iter 57: observed MAE=0.116110 rank=497\n",
      "[SoftImpute] Iter 58: observed MAE=0.116109 rank=497\n",
      "[SoftImpute] Iter 59: observed MAE=0.116109 rank=497\n",
      "[SoftImpute] Iter 60: observed MAE=0.116108 rank=497\n",
      "[SoftImpute] Iter 61: observed MAE=0.116108 rank=497\n",
      "[SoftImpute] Iter 62: observed MAE=0.116107 rank=497\n",
      "[SoftImpute] Iter 63: observed MAE=0.116106 rank=497\n",
      "[SoftImpute] Iter 64: observed MAE=0.116106 rank=497\n",
      "[SoftImpute] Iter 65: observed MAE=0.116105 rank=497\n",
      "[SoftImpute] Iter 66: observed MAE=0.116105 rank=497\n",
      "[SoftImpute] Iter 67: observed MAE=0.116104 rank=497\n",
      "[SoftImpute] Iter 68: observed MAE=0.116104 rank=497\n",
      "[SoftImpute] Iter 69: observed MAE=0.116103 rank=497\n",
      "[SoftImpute] Iter 70: observed MAE=0.116103 rank=497\n",
      "[SoftImpute] Iter 71: observed MAE=0.116102 rank=497\n",
      "[SoftImpute] Iter 72: observed MAE=0.116102 rank=497\n",
      "[SoftImpute] Iter 73: observed MAE=0.116101 rank=497\n",
      "[SoftImpute] Iter 74: observed MAE=0.116101 rank=497\n",
      "[SoftImpute] Iter 75: observed MAE=0.116101 rank=497\n",
      "[SoftImpute] Iter 76: observed MAE=0.116100 rank=497\n",
      "[SoftImpute] Iter 77: observed MAE=0.116100 rank=497\n",
      "[SoftImpute] Iter 78: observed MAE=0.116099 rank=497\n",
      "[SoftImpute] Iter 79: observed MAE=0.116099 rank=497\n",
      "[SoftImpute] Iter 80: observed MAE=0.116099 rank=497\n",
      "[SoftImpute] Iter 81: observed MAE=0.116098 rank=497\n",
      "[SoftImpute] Iter 82: observed MAE=0.116098 rank=497\n",
      "[SoftImpute] Iter 83: observed MAE=0.116097 rank=497\n",
      "[SoftImpute] Iter 84: observed MAE=0.116097 rank=497\n",
      "[SoftImpute] Iter 85: observed MAE=0.116097 rank=497\n",
      "[SoftImpute] Iter 86: observed MAE=0.116096 rank=497\n",
      "[SoftImpute] Iter 87: observed MAE=0.116096 rank=497\n",
      "[SoftImpute] Iter 88: observed MAE=0.116096 rank=497\n",
      "[SoftImpute] Iter 89: observed MAE=0.116096 rank=497\n",
      "[SoftImpute] Iter 90: observed MAE=0.116095 rank=497\n",
      "[SoftImpute] Iter 91: observed MAE=0.116095 rank=497\n",
      "[SoftImpute] Iter 92: observed MAE=0.116095 rank=497\n",
      "[SoftImpute] Iter 93: observed MAE=0.116094 rank=497\n",
      "[SoftImpute] Iter 94: observed MAE=0.116094 rank=497\n",
      "[SoftImpute] Iter 95: observed MAE=0.116094 rank=497\n",
      "[SoftImpute] Iter 96: observed MAE=0.116094 rank=497\n",
      "[SoftImpute] Iter 97: observed MAE=0.116093 rank=497\n",
      "[SoftImpute] Iter 98: observed MAE=0.116093 rank=497\n",
      "[SoftImpute] Iter 99: observed MAE=0.116093 rank=497\n",
      "[SoftImpute] Iter 100: observed MAE=0.116093 rank=497\n",
      "[SoftImpute] Stopped after iteration 100 for lambda=46.199227\n"
     ]
    },
    {
     "data": {
      "text/plain": [
       "(0.006415598705637204, 1017.2588453292847, 0.4983418367346939)"
      ]
     },
     "execution_count": 26,
     "metadata": {
      "tags": []
     },
     "output_type": "execute_result"
    }
   ],
   "source": [
    "compute_err_SOFT(X, y, n, p, 10)"
   ]
  },
  {
   "cell_type": "code",
   "execution_count": null,
   "metadata": {
    "id": "M9Elw1T5feH8"
   },
   "outputs": [],
   "source": []
  }
 ],
 "metadata": {
  "colab": {
   "collapsed_sections": [],
   "machine_shape": "hm",
   "name": "Parameter estimation error FASHION MNIST.ipynb",
   "provenance": [
    {
     "file_id": "1pPLNIgIh1UBufB_1AbhK-0b6wVw-kFP2",
     "timestamp": 1604237151258
    },
    {
     "file_id": "1MF5wo74OJrNZ6-GtIQBCJymB0d1dm_Aw",
     "timestamp": 1603961946800
    },
    {
     "file_id": "1eazQvNk_WLTaG8heDoHQ3AgEg59y9f0v",
     "timestamp": 1603955217908
    },
    {
     "file_id": "126-leKywWg1oVxbfuH1_ORl8UMYHusn_",
     "timestamp": 1591364956450
    },
    {
     "file_id": "1Lb-WwE7STckIojvf1h3ADYX29-gfA6u-",
     "timestamp": 1590379038322
    },
    {
     "file_id": "1CnbOqwmJydQa8uCCpIR6HRVxw0YnveIP",
     "timestamp": 1590113304994
    }
   ],
   "toc_visible": true
  },
  "kernelspec": {
   "display_name": "Python 3",
   "language": "python",
   "name": "python3"
  },
  "language_info": {
   "codemirror_mode": {
    "name": "ipython",
    "version": 3
   },
   "file_extension": ".py",
   "mimetype": "text/x-python",
   "name": "python",
   "nbconvert_exporter": "python",
   "pygments_lexer": "ipython3",
   "version": "3.8.3"
  }
 },
 "nbformat": 4,
 "nbformat_minor": 1
}
