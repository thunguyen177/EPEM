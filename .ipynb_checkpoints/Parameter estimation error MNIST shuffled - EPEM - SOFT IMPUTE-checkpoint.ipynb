{
 "cells": [
  {
   "cell_type": "markdown",
   "metadata": {
    "id": "01Q1wGI3uIdg"
   },
   "source": [
    "## libraries and function "
   ]
  },
  {
   "cell_type": "code",
   "execution_count": 1,
   "metadata": {
    "colab": {
     "base_uri": "https://localhost:8080/"
    },
    "executionInfo": {
     "elapsed": 9472,
     "status": "ok",
     "timestamp": 1605344355531,
     "user": {
      "displayName": "Thu Nguyễn",
      "photoUrl": "https://lh3.googleusercontent.com/a-/AOh14GjaRl8WgKOjLdrEa69IqFm__Rq7udZ763hhFDl9=s64",
      "userId": "04714273295929622355"
     },
     "user_tz": 360
    },
    "id": "iEdO9dJPION8",
    "outputId": "8e78c71e-f124-4571-f2ae-23eec408b8e8"
   },
   "outputs": [
    {
     "name": "stdout",
     "output_type": "stream",
     "text": [
      "Collecting impyute\n",
      "  Downloading https://files.pythonhosted.org/packages/37/28/86829f67c9affb847facaab94687761d3555539ec675f7577778c5b2680a/impyute-0.0.8-py2.py3-none-any.whl\n",
      "Requirement already satisfied: scikit-learn in /usr/local/lib/python3.6/dist-packages (from impyute) (0.22.2.post1)\n",
      "Requirement already satisfied: numpy in /usr/local/lib/python3.6/dist-packages (from impyute) (1.18.5)\n",
      "Requirement already satisfied: scipy in /usr/local/lib/python3.6/dist-packages (from impyute) (1.4.1)\n",
      "Requirement already satisfied: joblib>=0.11 in /usr/local/lib/python3.6/dist-packages (from scikit-learn->impyute) (0.17.0)\n",
      "Installing collected packages: impyute\n",
      "Successfully installed impyute-0.0.8\n"
     ]
    },
    {
     "name": "stderr",
     "output_type": "stream",
     "text": [
      "/usr/local/lib/python3.6/dist-packages/sklearn/externals/six.py:31: FutureWarning: The module is deprecated in version 0.21 and will be removed in version 0.23 since we've dropped support for Python 2.7. Please rely on the official version of six (https://pypi.org/project/six/).\n",
      "  \"(https://pypi.org/project/six/).\", FutureWarning)\n"
     ]
    }
   ],
   "source": [
    "!pip install impyute\n",
    "from sklearn import datasets\n",
    "from sklearn.preprocessing import LabelEncoder, StandardScaler\n",
    "from sklearn.discriminant_analysis import LinearDiscriminantAnalysis as skLDA\n",
    "from sklearn.experimental import enable_iterative_imputer\n",
    "from sklearn.impute import IterativeImputer\n",
    "from scipy import stats\n",
    "import numpy as np\n",
    "import impyute as impy\n",
    "from fancyimpute import IterativeSVD, SoftImpute, NuclearNormMinimization\n",
    "import pandas as pd\n",
    "import time"
   ]
  },
  {
   "cell_type": "markdown",
   "metadata": {
    "id": "YxZbkGo8IOOS"
   },
   "source": [
    "The function `mle` allows us to compute the MLEs from training data with monotone missing data.\n",
    "\n",
    "We denote\n",
    "$$n = \\begin{pmatrix}\n",
    "n_1^{(1)} & n_1^{(2)} &...&n_1^{(K)}\\\\\n",
    "\\vdots & \\vdots &\\ddots&\\vdots\\\\\n",
    "n_G^{(1)} & n_G^{(2)} &...&n_G^{(K)}\n",
    "\\end{pmatrix}$$\n",
    "$$p = (p_1,p_2,...,p_K)$$\n",
    "G is the number of classes."
   ]
  },
  {
   "cell_type": "markdown",
   "metadata": {
    "id": "zJsxuiuVOWch"
   },
   "source": [
    "### MLE function "
   ]
  },
  {
   "cell_type": "code",
   "execution_count": null,
   "metadata": {
    "id": "9iL76sKnIOOU"
   },
   "outputs": [],
   "source": [
    "import numpy as np\n",
    "def mle(Xtrain, n, p, G):\n",
    "    '''\n",
    "    Xtrain: list of input. The ith element of the list contains the sample from\n",
    "    the ith class.\n",
    "    '''\n",
    "    if p[0]==1:\n",
    "        # the array that contains the means of each block for the 1st block\n",
    "        mus = [np.mean(Xtrain[g][:,0]) for g in np.arange(G)]\n",
    "        S = [(n[g,0]-1)*np.var(Xtrain[g][:,0]) for g in np.arange(G)]\n",
    "    else:\n",
    "        mus = [np.mean(Xtrain[g][:,0:p[0]], axis = 0) for g  in np.arange(G)]\n",
    "        S = [(n[g,0]-1)*np.cov(Xtrain[g][:,0:p[0]],rowvar =False) \n",
    "             for g in np.arange(G)]\n",
    "    \n",
    "    mus = np.asarray(mus).T # so that each column is the mean of a class\n",
    "    S = sum(S)/(sum(n[:,0])) \n",
    "    S = S.reshape((p[0],-1))\n",
    "    for i in np.arange(1,len(p)):\n",
    "        W = [(n[g,i]-1)*np.cov(Xtrain[g][0:n[g,i],0:p[i]],\n",
    "                              rowvar=False) for g in np.arange(G)]\n",
    "        W = sum(W)\n",
    "        \n",
    "        P = np.matmul(W[(p[i-1]):p[i], 0:p[i-1]],\n",
    "                      np.linalg.inv(W[0:p[i-1],0:p[i-1]]))\n",
    "        Q = (W[p[i-1]:p[i],p[i-1]:p[i]]-\n",
    "            np.matmul(P, W[0:p[i-1],p[i-1]:p[i]]))/sum(n[:,i])\n",
    "        xmeans = [np.mean(Xtrain[g][0:n[g,i],0:p[i]], axis = 0) \n",
    "                  for g in np.arange(G)]\n",
    "        \n",
    "        xmeans = np.asarray(xmeans)\n",
    "        xmeans = xmeans.T\n",
    "        mus = np.vstack((mus, xmeans[p[i-1]:p[i],:]\n",
    "                       - np.matmul(P, xmeans[0:p[i-1]]-mus)))\n",
    "        S21 = np.matmul(P, S)\n",
    "        S = np.vstack((np.hstack((S, S21.T)),\n",
    "                       np.hstack((S21, Q+np.matmul(P, S21.T)))))\n",
    "    return [mus, S]"
   ]
  },
  {
   "cell_type": "markdown",
   "metadata": {
    "id": "5Kk3Z0jcObqQ"
   },
   "source": [
    "### nan function \n"
   ]
  },
  {
   "cell_type": "code",
   "execution_count": 2,
   "metadata": {
    "executionInfo": {
     "elapsed": 9450,
     "status": "ok",
     "timestamp": 1605344355539,
     "user": {
      "displayName": "Thu Nguyễn",
      "photoUrl": "https://lh3.googleusercontent.com/a-/AOh14GjaRl8WgKOjLdrEa69IqFm__Rq7udZ763hhFDl9=s64",
      "userId": "04714273295929622355"
     },
     "user_tz": 360
    },
    "id": "V4-kNYKJIOOd"
   },
   "outputs": [],
   "source": [
    "'''\n",
    "function that create data list that contain missing values\n",
    "The input X is a numpy array, y is the label\n",
    "the function return a list where the ith element of \n",
    "the list belongs to the ith class\n",
    "'''\n",
    "\n",
    "def make_nan_list(X,y,G, n, p):\n",
    "    # note that the label should go from 0 to G-1\n",
    "    data = []\n",
    "    for g in np.arange(G):\n",
    "        data.append(X[y==g,:])\n",
    "        for k in np.arange(len(p)-1):\n",
    "            data[g][n[g,k+1]:n[g,k], p[k]:] = np.nan\n",
    "    return data\n"
   ]
  },
  {
   "cell_type": "code",
   "execution_count": 3,
   "metadata": {
    "executionInfo": {
     "elapsed": 1481,
     "status": "ok",
     "timestamp": 1605344358216,
     "user": {
      "displayName": "Thu Nguyễn",
      "photoUrl": "https://lh3.googleusercontent.com/a-/AOh14GjaRl8WgKOjLdrEa69IqFm__Rq7udZ763hhFDl9=s64",
      "userId": "04714273295929622355"
     },
     "user_tz": 360
    },
    "id": "8oXh1_ou0BPS"
   },
   "outputs": [],
   "source": [
    "def missing_rate(Xtrain, ytrain, n, p, G):\n",
    "    # function that compute the missing rate of a given pattern    \n",
    "    Xtr_nan_list = make_nan_list(Xtrain,ytrain,G, n, p)\n",
    "    # make NA data\n",
    "    # since making function changes the order of observation\n",
    "    # we need to generate new ytr from Xtr_nan    \n",
    "    Xtr_nan, ytr = Xtr_nan_list[0], np.repeat(0, len(Xtr_nan_list[0]))\n",
    "    for g in np.arange(1,G):\n",
    "        Xtr_nan = np.vstack((Xtr_nan, Xtr_nan_list[g]))\n",
    "        ytr = np.hstack((ytr, np.repeat(g, len(Xtr_nan_list[g]))))\n",
    "\n",
    "    # percentage of missing values\n",
    "    per_missing = np.mean(np.isnan(Xtr_nan))\n",
    "    return per_missing"
   ]
  },
  {
   "cell_type": "markdown",
   "metadata": {
    "id": "IwG2bsDOOxls"
   },
   "source": [
    "### compute_err function "
   ]
  },
  {
   "cell_type": "code",
   "execution_count": null,
   "metadata": {
    "id": "ChlCr7wvl2Uw"
   },
   "outputs": [],
   "source": [
    "def err(mus, S, mus_est, S_est):\n",
    "  err_rate = (np.linalg.norm(mus_est-mus))/mus.size \n",
    "  err_rate += (np.linalg.norm(S_est-S))/S.size \n",
    "  return err_rate"
   ]
  },
  {
   "cell_type": "code",
   "execution_count": null,
   "metadata": {
    "id": "wBqdLKZAz22W"
   },
   "outputs": [],
   "source": [
    "def compute_err_mice(Xtrain, ytrain, n, p, G):      \n",
    "    # make NAs\n",
    "    Xtr_nan_list = make_nan_list(Xtrain,ytrain,G, n, p)\n",
    "    # make NA data\n",
    "    # since making function changes the order of observation\n",
    "    # we need to generate new ytr from Xtr_nan    \n",
    "    Xtr_nan, ytr = Xtr_nan_list[0], np.repeat(0, len(Xtr_nan_list[0]))\n",
    "    for g in np.arange(1,G):\n",
    "        Xtr_nan = np.vstack((Xtr_nan, Xtr_nan_list[g]))\n",
    "        ytr = np.hstack((ytr, np.repeat(g, len(Xtr_nan_list[g]))))\n",
    "\n",
    "    scaler = StandardScaler()\n",
    "    scaler.fit(Xtr_nan)\n",
    "    Xtr_nan = scaler.transform(Xtr_nan)\n",
    "    Xtrain = scaler.transform(Xtrain)\n",
    "    for g in range(G):\n",
    "      Xtr_nan_list[g] = scaler.transform(Xtr_nan_list[g])\n",
    "\n",
    "    mus = [np.mean(Xtrain[ytrain==g,:], axis=0) for g in np.arange(G)]\n",
    "    mus = np.asarray(mus) # each row is a mean of a class\n",
    "    S = [(sum(ytrain==g)-1)*np.cov(Xtrain[ytrain==g,:],rowvar =False) \n",
    "             for g in np.arange(G)]\n",
    "    S = np.asarray(S)/len(ytrain)\n",
    "\n",
    "    # percentage of missing values\n",
    "    per_missing = np.mean(np.isnan(Xtr_nan))\n",
    "\n",
    "    start = time.time()\n",
    "    Xtr_mice = IterativeImputer(max_iter=100).fit(Xtr_nan).transform(Xtr_nan)\n",
    "    mus_mice = np.asarray([np.mean(Xtr_mice[ytrain==g,:], axis=0\n",
    "                                   ) for g in np.arange(G)])\n",
    "    S_mice = np.asarray([(sum(ytrain==g)-1)*np.cov(Xtr_mice[ytrain==g,:], rowvar =False) \n",
    "             for g in np.arange(G)])\n",
    "    S_mice = S_mice/len(ytrain)\n",
    "    mice_err = err(mus, S, mus_mice, S_mice)\n",
    "    mice_time = time.time()-start\n",
    "\n",
    "    return mice_err, mice_time, per_missing"
   ]
  },
  {
   "cell_type": "code",
   "execution_count": null,
   "metadata": {
    "id": "PH3SDKirW3Zf"
   },
   "outputs": [],
   "source": [
    "def compute_err_EM(Xtrain, ytrain, n, p, G):      \n",
    "    # make NAs\n",
    "    Xtr_nan_list = make_nan_list(Xtrain,ytrain,G, n, p)\n",
    "    # make NA data\n",
    "    # since making function changes the order of observation\n",
    "    # we need to generate new ytr from Xtr_nan    \n",
    "    Xtr_nan, ytr = Xtr_nan_list[0], np.repeat(0, len(Xtr_nan_list[0]))\n",
    "    for g in np.arange(1,G):\n",
    "        Xtr_nan = np.vstack((Xtr_nan, Xtr_nan_list[g]))\n",
    "        ytr = np.hstack((ytr, np.repeat(g, len(Xtr_nan_list[g]))))\n",
    "\n",
    "    scaler = StandardScaler()\n",
    "    scaler.fit(Xtr_nan)\n",
    "    Xtr_nan = scaler.transform(Xtr_nan)\n",
    "    Xtrain = scaler.transform(Xtrain)\n",
    "    for g in range(G):\n",
    "      Xtr_nan_list[g] = scaler.transform(Xtr_nan_list[g])\n",
    "\n",
    "    mus = [np.mean(Xtrain[ytrain==g,:], axis=0) for g in np.arange(G)]\n",
    "    mus = np.asarray(mus) # each row is a mean of a class\n",
    "    S = [(sum(ytrain==g)-1)*np.cov(Xtrain[ytrain==g,:],rowvar =False) \n",
    "             for g in np.arange(G)]\n",
    "    S = np.asarray(S)/len(ytrain)\n",
    "\n",
    "    # percentage of missing values\n",
    "    per_missing = np.mean(np.isnan(Xtr_nan))\n",
    "\n",
    "    start = time.time()\n",
    "    Xtr_em = impy.em(Xtr_nan, loops=10)\n",
    "    mus_em = np.array([np.mean(Xtr_em[ytrain==g,:], axis=0) for g in np.arange(G)])\n",
    "    S_em = np.array([(sum(ytrain==g)-1)*np.cov(Xtr_em[ytrain==g,:], rowvar =False) \n",
    "             for g in np.arange(G)])\n",
    "    S_em = S_em/len(ytrain)\n",
    "    em_err = err(mus, S, mus_em, S_em)\n",
    "    em_time = time.time()-start   \n",
    "\n",
    "    return em_err, em_time, per_missing"
   ]
  },
  {
   "cell_type": "code",
   "execution_count": null,
   "metadata": {
    "id": "6pqzH24ol-Ar"
   },
   "outputs": [],
   "source": [
    "def compute_err_MLE(Xtrain, ytrain, n, p, G):      \n",
    "    # make NAs\n",
    "    Xtr_nan_list = make_nan_list(Xtrain,ytrain,G, n, p)\n",
    "    # make NA data\n",
    "    # since making function changes the order of observation\n",
    "    # we need to generate new ytr from Xtr_nan    \n",
    "    Xtr_nan, ytr = Xtr_nan_list[0], np.repeat(0, len(Xtr_nan_list[0]))\n",
    "    for g in np.arange(1,G):\n",
    "        Xtr_nan = np.vstack((Xtr_nan, Xtr_nan_list[g]))\n",
    "        ytr = np.hstack((ytr, np.repeat(g, len(Xtr_nan_list[g]))))\n",
    "\n",
    "    scaler = StandardScaler()\n",
    "    scaler.fit(Xtr_nan)\n",
    "    Xtr_nan = scaler.transform(Xtr_nan)\n",
    "    Xtrain = scaler.transform(Xtrain)\n",
    "    for g in range(G):\n",
    "      Xtr_nan_list[g] = scaler.transform(Xtr_nan_list[g])\n",
    "\n",
    "    mus = [np.mean(Xtrain[ytrain==g,:], axis=0) for g in np.arange(G)]\n",
    "    mus = np.asarray(mus) # each row is a mean of a class\n",
    "    S = [(sum(ytrain==g)-1)*np.cov(Xtrain[ytrain==g,:],rowvar =False) \n",
    "             for g in np.arange(G)]\n",
    "    S = np.asarray(S)/len(ytrain)\n",
    "\n",
    "    # percentage of missing values\n",
    "    per_missing = np.mean(np.isnan(Xtr_nan))\n",
    "    # MLEs approach\n",
    "    start = time.time()\n",
    "    mus_mle, S_mle = mle(Xtr_nan_list, n, p, G)\n",
    "    mle_err = err(mus, S, mus_mle.T, S_mle)\n",
    "    mle_time = time.time()-start    \n",
    "\n",
    "    return mle_err, mle_time, per_missing"
   ]
  },
  {
   "cell_type": "code",
   "execution_count": null,
   "metadata": {
    "id": "ZB6GFD2lvbbE"
   },
   "outputs": [],
   "source": [
    "def compute_err_SOFT(Xtrain, ytrain, n, p, G):      \n",
    "    # make NAs\n",
    "    Xtr_nan_list = make_nan_list(Xtrain,ytrain,G, n, p)\n",
    "    # make NA data\n",
    "    # since making function changes the order of observation\n",
    "    # we need to generate new ytr from Xtr_nan    \n",
    "    Xtr_nan, ytr = Xtr_nan_list[0], np.repeat(0, len(Xtr_nan_list[0]))\n",
    "    for g in np.arange(1,G):\n",
    "        Xtr_nan = np.vstack((Xtr_nan, Xtr_nan_list[g]))\n",
    "        ytr = np.hstack((ytr, np.repeat(g, len(Xtr_nan_list[g]))))\n",
    "\n",
    "    scaler = StandardScaler()\n",
    "    scaler.fit(Xtr_nan)\n",
    "    Xtr_nan = scaler.transform(Xtr_nan)\n",
    "    Xtrain = scaler.transform(Xtrain)\n",
    "    for g in range(G):\n",
    "      Xtr_nan_list[g] = scaler.transform(Xtr_nan_list[g])\n",
    "\n",
    "    mus = [np.mean(Xtrain[ytrain==g,:], axis=0) for g in np.arange(G)]\n",
    "    mus = np.asarray(mus) # each row is a mean of a class\n",
    "    S = [(sum(ytrain==g)-1)*np.cov(Xtrain[ytrain==g,:],rowvar =False) \n",
    "             for g in np.arange(G)]\n",
    "    S = np.asarray(S)/len(ytrain)\n",
    "\n",
    "    # percentage of missing values\n",
    "    per_missing = np.mean(np.isnan(Xtr_nan))\n",
    "\n",
    "    start = time.time()\n",
    "    Xtr_softimpute = SoftImpute(max_iters = 100).fit_transform(Xtr_nan)\n",
    "    mus_softimpute = np.asarray([np.mean(Xtr_softimpute[ytrain==g,:], axis=0\n",
    "                                         ) for g in np.arange(G)])\n",
    "    S_softimpute = np.asarray([(sum(ytrain==g)-1)*np.cov(Xtr_softimpute[ytrain==g,:], rowvar =False) \n",
    "             for g in np.arange(G)])\n",
    "    S_softimpute = S_softimpute/len(ytrain)\n",
    "    softimpute_err =  err(mus, S, mus_softimpute, S_softimpute)\n",
    "    softimpute_time = time.time()-start    \n",
    "\n",
    "    return softimpute_err, softimpute_time, per_missing"
   ]
  },
  {
   "cell_type": "markdown",
   "metadata": {
    "id": "ORCtMttLn-8J"
   },
   "source": [
    "# Import MNIST"
   ]
  },
  {
   "cell_type": "code",
   "execution_count": 5,
   "metadata": {
    "colab": {
     "base_uri": "https://localhost:8080/",
     "height": 220,
     "referenced_widgets": [
      "89f0e980e0e547bfaa2fb80cb1941282",
      "f862368e1be741c9853aa3d71f83b7ab",
      "aaf993a00f4c4f96b974cf0c02f15684",
      "31d6f95171704d81b314a18221920792",
      "d5355aa7aff44786b055461820ee73fb",
      "ed0a49348c824d64ae3fd05c3d3181d3",
      "d8bd7669f2314055bdc025f9a3448c0f",
      "a1329cf7bc3441a990fcb870d12f3b18"
     ]
    },
    "executionInfo": {
     "elapsed": 3340,
     "status": "ok",
     "timestamp": 1605344401394,
     "user": {
      "displayName": "Thu Nguyễn",
      "photoUrl": "https://lh3.googleusercontent.com/a-/AOh14GjaRl8WgKOjLdrEa69IqFm__Rq7udZ763hhFDl9=s64",
      "userId": "04714273295929622355"
     },
     "user_tz": 360
    },
    "id": "pmzNbWU8n-UW",
    "outputId": "b6585f6d-0241-4abf-a5f1-a44b1f10e52c"
   },
   "outputs": [
    {
     "name": "stdout",
     "output_type": "stream",
     "text": [
      "\u001b[1mDownloading and preparing dataset mnist/3.0.1 (download: 11.06 MiB, generated: 21.00 MiB, total: 32.06 MiB) to /root/tensorflow_datasets/mnist/3.0.1...\u001b[0m\n"
     ]
    },
    {
     "name": "stderr",
     "output_type": "stream",
     "text": [
      "WARNING:absl:Dataset mnist is hosted on GCS. It will automatically be downloaded to your\n",
      "local data directory. If you'd instead prefer to read directly from our public\n",
      "GCS bucket (recommended if you're running on GCP), you can instead pass\n",
      "`try_gcs=True` to `tfds.load` or set `data_dir=gs://tfds-data/datasets`.\n",
      "\n"
     ]
    },
    {
     "data": {
      "application/vnd.jupyter.widget-view+json": {
       "model_id": "89f0e980e0e547bfaa2fb80cb1941282",
       "version_major": 2,
       "version_minor": 0
      },
      "text/plain": [
       "HBox(children=(FloatProgress(value=0.0, description='Dl Completed...', max=4.0, style=ProgressStyle(descriptio…"
      ]
     },
     "metadata": {
      "tags": []
     },
     "output_type": "display_data"
    },
    {
     "name": "stdout",
     "output_type": "stream",
     "text": [
      "\n",
      "\n",
      "\u001b[1mDataset mnist downloaded and prepared to /root/tensorflow_datasets/mnist/3.0.1. Subsequent calls will reuse this data.\u001b[0m\n"
     ]
    }
   ],
   "source": [
    "import tensorflow as tf\n",
    "import tensorflow_datasets as tfds\n",
    "\n",
    "# Fetch the dataset directly\n",
    "mnist = tfds.image.MNIST()\n",
    "# or by string name\n",
    "mnist = tfds.builder('mnist')\n",
    "\n",
    "# Download the data, prepare it, and write it to disk\n",
    "mnist.download_and_prepare()\n",
    "\n",
    "# Load data from disk as tf.data.Datasets\n",
    "datasets = mnist.as_dataset()\n",
    "train_dataset, test_dataset = datasets['train'], datasets['test']"
   ]
  },
  {
   "cell_type": "code",
   "execution_count": 11,
   "metadata": {
    "executionInfo": {
     "elapsed": 13859,
     "status": "ok",
     "timestamp": 1605344464278,
     "user": {
      "displayName": "Thu Nguyễn",
      "photoUrl": "https://lh3.googleusercontent.com/a-/AOh14GjaRl8WgKOjLdrEa69IqFm__Rq7udZ763hhFDl9=s64",
      "userId": "04714273295929622355"
     },
     "user_tz": 360
    },
    "id": "Q9F0HbRaoVZR"
   },
   "outputs": [],
   "source": [
    "# convert the Dataset to NumPy arrays and flatten the data\n",
    "Xtrain, ytrain = [], []\n",
    "for example in tfds.as_numpy(train_dataset):\n",
    "  Xtrain.append(example['image'].flatten())\n",
    "  ytrain.append(example['label'])\n",
    "\n",
    "Xtrain, ytrain = np.asarray(Xtrain), np.asarray(ytrain)\n",
    "Xtrain = Xtrain.astype(float)\n",
    "\n",
    "# convert the test set to NumPy arrays and flatten the data\n",
    "Xtest, ytest = [], []\n",
    "for example in tfds.as_numpy(test_dataset):\n",
    "  Xtest.append(example['image'].flatten())\n",
    "  ytest.append(example['label'])\n",
    "\n",
    "Xtest, ytest = np.asarray(Xtest), np.asarray(ytest)\n",
    "Xtest = Xtest.astype(float)"
   ]
  },
  {
   "cell_type": "code",
   "execution_count": 12,
   "metadata": {
    "colab": {
     "base_uri": "https://localhost:8080/"
    },
    "executionInfo": {
     "elapsed": 9666,
     "status": "ok",
     "timestamp": 1605344464285,
     "user": {
      "displayName": "Thu Nguyễn",
      "photoUrl": "https://lh3.googleusercontent.com/a-/AOh14GjaRl8WgKOjLdrEa69IqFm__Rq7udZ763hhFDl9=s64",
      "userId": "04714273295929622355"
     },
     "user_tz": 360
    },
    "id": "vAioCr-8pJ84",
    "outputId": "0cc34b74-9d89-4168-9b4a-3a10ba6dbcb2"
   },
   "outputs": [
    {
     "data": {
      "text/plain": [
       "((70000, 784), (70000,))"
      ]
     },
     "execution_count": 12,
     "metadata": {
      "tags": []
     },
     "output_type": "execute_result"
    }
   ],
   "source": [
    "X = np.vstack((Xtrain,Xtest))\n",
    "y = np.hstack((ytrain,ytest))\n",
    "X.shape, y.shape"
   ]
  },
  {
   "cell_type": "code",
   "execution_count": 8,
   "metadata": {
    "colab": {
     "base_uri": "https://localhost:8080/"
    },
    "executionInfo": {
     "elapsed": 1333,
     "status": "ok",
     "timestamp": 1605344428483,
     "user": {
      "displayName": "Thu Nguyễn",
      "photoUrl": "https://lh3.googleusercontent.com/a-/AOh14GjaRl8WgKOjLdrEa69IqFm__Rq7udZ763hhFDl9=s64",
      "userId": "04714273295929622355"
     },
     "user_tz": 360
    },
    "id": "x_MZbrKUo3JG",
    "outputId": "d22b4ac8-0a16-48e4-cc57-9d2fc57756ed"
   },
   "outputs": [
    {
     "data": {
      "text/plain": [
       "((70000, 784), (70000,))"
      ]
     },
     "execution_count": 8,
     "metadata": {
      "tags": []
     },
     "output_type": "execute_result"
    }
   ],
   "source": [
    "# set random seed and shuffle the data\n",
    "np.random.seed(1)\n",
    "idx = np.arange(len(y))\n",
    "np.random.shuffle(idx)\n",
    "X, y = X[idx,:], y[idx]  \n",
    "\n",
    "X.shape, y.shape "
   ]
  },
  {
   "cell_type": "code",
   "execution_count": 9,
   "metadata": {
    "colab": {
     "base_uri": "https://localhost:8080/"
    },
    "executionInfo": {
     "elapsed": 982,
     "status": "ok",
     "timestamp": 1605344429316,
     "user": {
      "displayName": "Thu Nguyễn",
      "photoUrl": "https://lh3.googleusercontent.com/a-/AOh14GjaRl8WgKOjLdrEa69IqFm__Rq7udZ763hhFDl9=s64",
      "userId": "04714273295929622355"
     },
     "user_tz": 360
    },
    "id": "ki7UuUntoowV",
    "outputId": "80af1b69-74c9-473e-cdaa-1d46848d3f2e"
   },
   "outputs": [
    {
     "name": "stdout",
     "output_type": "stream",
     "text": [
      "135\n"
     ]
    },
    {
     "data": {
      "text/plain": [
       "649"
      ]
     },
     "execution_count": 9,
     "metadata": {
      "tags": []
     },
     "output_type": "execute_result"
    }
   ],
   "source": [
    "# check if a column is all 0\n",
    "id = [np.sum(Xtrain[:,i] != 0)>10 for i in range(28**2)]\n",
    "# number of columns that mostly zero\n",
    "print(28**2-np.sum(id))\n",
    "# number of columns that has at least more than 10 non-zero\n",
    "np.sum(id)"
   ]
  },
  {
   "cell_type": "code",
   "execution_count": 10,
   "metadata": {
    "executionInfo": {
     "elapsed": 850,
     "status": "ok",
     "timestamp": 1605344436899,
     "user": {
      "displayName": "Thu Nguyễn",
      "photoUrl": "https://lh3.googleusercontent.com/a-/AOh14GjaRl8WgKOjLdrEa69IqFm__Rq7udZ763hhFDl9=s64",
      "userId": "04714273295929622355"
     },
     "user_tz": 360
    },
    "id": "YakxlntRo9o8"
   },
   "outputs": [],
   "source": [
    "X = X[:, id]"
   ]
  },
  {
   "cell_type": "code",
   "execution_count": 13,
   "metadata": {
    "colab": {
     "base_uri": "https://localhost:8080/"
    },
    "executionInfo": {
     "elapsed": 2223,
     "status": "ok",
     "timestamp": 1605344474032,
     "user": {
      "displayName": "Thu Nguyễn",
      "photoUrl": "https://lh3.googleusercontent.com/a-/AOh14GjaRl8WgKOjLdrEa69IqFm__Rq7udZ763hhFDl9=s64",
      "userId": "04714273295929622355"
     },
     "user_tz": 360
    },
    "id": "sdzEyBKBq29K",
    "outputId": "640649b9-4fc0-4fd2-e670-fac6f81344d1"
   },
   "outputs": [
    {
     "data": {
      "text/plain": [
       "array([5923, 6742, 5958, 6131, 5842, 5421, 5918, 6265, 5851, 5949])"
      ]
     },
     "execution_count": 13,
     "metadata": {
      "tags": []
     },
     "output_type": "execute_result"
    }
   ],
   "source": [
    "# number of sample per class in training data\n",
    "ng = np.asarray([sum(ytrain==i) for i in np.arange(10)])\n",
    "ng"
   ]
  },
  {
   "cell_type": "markdown",
   "metadata": {
    "id": "Yogx2GqgqOOE"
   },
   "source": [
    "### 20%"
   ]
  },
  {
   "cell_type": "code",
   "execution_count": null,
   "metadata": {
    "id": "VuOauwVRqRJc"
   },
   "outputs": [],
   "source": [
    "n = np.hstack((ng.reshape((-1,1)), np.tile([4500,4000,3200, 3000],\n",
    "                                 10).reshape((10,-1))))\n",
    "p = np.array([300,320,400, 500,649]) \n",
    "missing_rate(X, y, n, p, 10)"
   ]
  },
  {
   "cell_type": "code",
   "execution_count": null,
   "metadata": {
    "colab": {
     "base_uri": "https://localhost:8080/"
    },
    "executionInfo": {
     "elapsed": 8580,
     "status": "ok",
     "timestamp": 1603964070886,
     "user": {
      "displayName": "Thu Nguyễn",
      "photoUrl": "https://lh3.googleusercontent.com/a-/AOh14GjaRl8WgKOjLdrEa69IqFm__Rq7udZ763hhFDl9=s64",
      "userId": "04714273295929622355"
     },
     "user_tz": 300
    },
    "id": "-pAcmGFpqPxE",
    "outputId": "4efd66e6-692a-4f52-88be-380391abcf6e"
   },
   "outputs": [
    {
     "data": {
      "text/plain": [
       "(0.0001402026140871329, 1.6234865188598633, 0.20184899845916796)"
      ]
     },
     "execution_count": 26,
     "metadata": {
      "tags": []
     },
     "output_type": "execute_result"
    }
   ],
   "source": [
    "compute_err_MLE(X, y, n, p, 10)"
   ]
  },
  {
   "cell_type": "code",
   "execution_count": null,
   "metadata": {
    "colab": {
     "base_uri": "https://localhost:8080/"
    },
    "executionInfo": {
     "elapsed": 938,
     "status": "ok",
     "timestamp": 1603967210059,
     "user": {
      "displayName": "Thu Nguyễn",
      "photoUrl": "https://lh3.googleusercontent.com/a-/AOh14GjaRl8WgKOjLdrEa69IqFm__Rq7udZ763hhFDl9=s64",
      "userId": "04714273295929622355"
     },
     "user_tz": 300
    },
    "id": "9H2CqXt8yyjM",
    "outputId": "ed8fb46c-0d82-42d2-c743-2de92e6b4c94"
   },
   "outputs": [
    {
     "name": "stdout",
     "output_type": "stream",
     "text": [
      "[SoftImpute] Max Singular Value of X_init = 1415.053495\n",
      "[SoftImpute] Iter 1: observed MAE=0.050329 rank=649\n",
      "[SoftImpute] Iter 2: observed MAE=0.050459 rank=649\n",
      "[SoftImpute] Iter 3: observed MAE=0.050542 rank=649\n",
      "[SoftImpute] Iter 4: observed MAE=0.050598 rank=649\n",
      "[SoftImpute] Iter 5: observed MAE=0.050636 rank=649\n",
      "[SoftImpute] Iter 6: observed MAE=0.050664 rank=649\n",
      "[SoftImpute] Iter 7: observed MAE=0.050684 rank=649\n",
      "[SoftImpute] Iter 8: observed MAE=0.050700 rank=649\n",
      "[SoftImpute] Iter 9: observed MAE=0.050712 rank=649\n",
      "[SoftImpute] Iter 10: observed MAE=0.050722 rank=649\n",
      "[SoftImpute] Iter 11: observed MAE=0.050731 rank=649\n",
      "[SoftImpute] Iter 12: observed MAE=0.050738 rank=649\n",
      "[SoftImpute] Iter 13: observed MAE=0.050743 rank=649\n",
      "[SoftImpute] Iter 14: observed MAE=0.050749 rank=649\n",
      "[SoftImpute] Iter 15: observed MAE=0.050753 rank=649\n",
      "[SoftImpute] Iter 16: observed MAE=0.050757 rank=649\n",
      "[SoftImpute] Iter 17: observed MAE=0.050761 rank=649\n",
      "[SoftImpute] Iter 18: observed MAE=0.050765 rank=649\n",
      "[SoftImpute] Iter 19: observed MAE=0.050768 rank=649\n",
      "[SoftImpute] Iter 20: observed MAE=0.050771 rank=649\n",
      "[SoftImpute] Iter 21: observed MAE=0.050773 rank=649\n",
      "[SoftImpute] Iter 22: observed MAE=0.050776 rank=649\n",
      "[SoftImpute] Iter 23: observed MAE=0.050778 rank=649\n",
      "[SoftImpute] Iter 24: observed MAE=0.050780 rank=649\n",
      "[SoftImpute] Iter 25: observed MAE=0.050782 rank=649\n",
      "[SoftImpute] Iter 26: observed MAE=0.050784 rank=649\n",
      "[SoftImpute] Iter 27: observed MAE=0.050786 rank=649\n",
      "[SoftImpute] Iter 28: observed MAE=0.050787 rank=649\n",
      "[SoftImpute] Iter 29: observed MAE=0.050789 rank=649\n",
      "[SoftImpute] Iter 30: observed MAE=0.050790 rank=649\n",
      "[SoftImpute] Iter 31: observed MAE=0.050791 rank=649\n",
      "[SoftImpute] Iter 32: observed MAE=0.050792 rank=649\n",
      "[SoftImpute] Iter 33: observed MAE=0.050794 rank=649\n",
      "[SoftImpute] Iter 34: observed MAE=0.050795 rank=649\n",
      "[SoftImpute] Iter 35: observed MAE=0.050796 rank=649\n",
      "[SoftImpute] Iter 36: observed MAE=0.050796 rank=649\n",
      "[SoftImpute] Iter 37: observed MAE=0.050797 rank=649\n",
      "[SoftImpute] Iter 38: observed MAE=0.050798 rank=649\n",
      "[SoftImpute] Iter 39: observed MAE=0.050799 rank=649\n",
      "[SoftImpute] Iter 40: observed MAE=0.050799 rank=649\n",
      "[SoftImpute] Iter 41: observed MAE=0.050800 rank=649\n",
      "[SoftImpute] Iter 42: observed MAE=0.050801 rank=649\n",
      "[SoftImpute] Iter 43: observed MAE=0.050801 rank=649\n",
      "[SoftImpute] Iter 44: observed MAE=0.050802 rank=649\n",
      "[SoftImpute] Iter 45: observed MAE=0.050802 rank=649\n",
      "[SoftImpute] Iter 46: observed MAE=0.050802 rank=649\n",
      "[SoftImpute] Iter 47: observed MAE=0.050803 rank=649\n",
      "[SoftImpute] Iter 48: observed MAE=0.050803 rank=649\n",
      "[SoftImpute] Iter 49: observed MAE=0.050803 rank=649\n",
      "[SoftImpute] Iter 50: observed MAE=0.050804 rank=649\n",
      "[SoftImpute] Iter 51: observed MAE=0.050804 rank=649\n",
      "[SoftImpute] Iter 52: observed MAE=0.050804 rank=649\n",
      "[SoftImpute] Iter 53: observed MAE=0.050805 rank=649\n",
      "[SoftImpute] Iter 54: observed MAE=0.050805 rank=649\n",
      "[SoftImpute] Iter 55: observed MAE=0.050805 rank=649\n",
      "[SoftImpute] Iter 56: observed MAE=0.050805 rank=649\n",
      "[SoftImpute] Iter 57: observed MAE=0.050805 rank=649\n",
      "[SoftImpute] Iter 58: observed MAE=0.050805 rank=649\n",
      "[SoftImpute] Iter 59: observed MAE=0.050806 rank=649\n",
      "[SoftImpute] Iter 60: observed MAE=0.050806 rank=649\n",
      "[SoftImpute] Iter 61: observed MAE=0.050806 rank=649\n",
      "[SoftImpute] Iter 62: observed MAE=0.050806 rank=649\n",
      "[SoftImpute] Iter 63: observed MAE=0.050806 rank=649\n",
      "[SoftImpute] Iter 64: observed MAE=0.050806 rank=649\n",
      "[SoftImpute] Iter 65: observed MAE=0.050806 rank=649\n",
      "[SoftImpute] Iter 66: observed MAE=0.050806 rank=649\n",
      "[SoftImpute] Iter 67: observed MAE=0.050806 rank=649\n",
      "[SoftImpute] Iter 68: observed MAE=0.050806 rank=649\n",
      "[SoftImpute] Iter 69: observed MAE=0.050807 rank=649\n",
      "[SoftImpute] Iter 70: observed MAE=0.050807 rank=649\n",
      "[SoftImpute] Iter 71: observed MAE=0.050807 rank=649\n",
      "[SoftImpute] Iter 72: observed MAE=0.050807 rank=649\n",
      "[SoftImpute] Iter 73: observed MAE=0.050807 rank=649\n",
      "[SoftImpute] Iter 74: observed MAE=0.050807 rank=649\n",
      "[SoftImpute] Iter 75: observed MAE=0.050807 rank=649\n",
      "[SoftImpute] Iter 76: observed MAE=0.050807 rank=649\n",
      "[SoftImpute] Iter 77: observed MAE=0.050807 rank=649\n",
      "[SoftImpute] Iter 78: observed MAE=0.050807 rank=649\n",
      "[SoftImpute] Iter 79: observed MAE=0.050807 rank=649\n",
      "[SoftImpute] Iter 80: observed MAE=0.050807 rank=649\n",
      "[SoftImpute] Iter 81: observed MAE=0.050807 rank=649\n",
      "[SoftImpute] Iter 82: observed MAE=0.050807 rank=649\n",
      "[SoftImpute] Iter 83: observed MAE=0.050807 rank=649\n",
      "[SoftImpute] Iter 84: observed MAE=0.050807 rank=649\n",
      "[SoftImpute] Iter 85: observed MAE=0.050807 rank=649\n",
      "[SoftImpute] Iter 86: observed MAE=0.050807 rank=649\n",
      "[SoftImpute] Iter 87: observed MAE=0.050807 rank=649\n",
      "[SoftImpute] Iter 88: observed MAE=0.050807 rank=649\n",
      "[SoftImpute] Iter 89: observed MAE=0.050807 rank=649\n",
      "[SoftImpute] Iter 90: observed MAE=0.050807 rank=649\n",
      "[SoftImpute] Iter 91: observed MAE=0.050807 rank=649\n",
      "[SoftImpute] Iter 92: observed MAE=0.050807 rank=649\n",
      "[SoftImpute] Iter 93: observed MAE=0.050807 rank=649\n",
      "[SoftImpute] Iter 94: observed MAE=0.050807 rank=649\n",
      "[SoftImpute] Iter 95: observed MAE=0.050807 rank=649\n",
      "[SoftImpute] Iter 96: observed MAE=0.050807 rank=649\n",
      "[SoftImpute] Iter 97: observed MAE=0.050807 rank=649\n",
      "[SoftImpute] Iter 98: observed MAE=0.050807 rank=649\n",
      "[SoftImpute] Iter 99: observed MAE=0.050807 rank=649\n",
      "[SoftImpute] Iter 100: observed MAE=0.050807 rank=649\n",
      "[SoftImpute] Stopped after iteration 100 for lambda=28.301070\n"
     ]
    },
    {
     "data": {
      "text/plain": [
       "(0.004416498539337015, 737.3151524066925, 0.20184899845916796)"
      ]
     },
     "execution_count": 48,
     "metadata": {
      "tags": []
     },
     "output_type": "execute_result"
    }
   ],
   "source": [
    "compute_err_SOFT(X, y, n, p, 10)"
   ]
  },
  {
   "cell_type": "markdown",
   "metadata": {
    "id": "k3us3LxFuzoS"
   },
   "source": [
    "### 30%"
   ]
  },
  {
   "cell_type": "code",
   "execution_count": null,
   "metadata": {
    "colab": {
     "base_uri": "https://localhost:8080/"
    },
    "executionInfo": {
     "elapsed": 4302,
     "status": "ok",
     "timestamp": 1604136200457,
     "user": {
      "displayName": "Thu Nguyễn",
      "photoUrl": "https://lh3.googleusercontent.com/a-/AOh14GjaRl8WgKOjLdrEa69IqFm__Rq7udZ763hhFDl9=s64",
      "userId": "04714273295929622355"
     },
     "user_tz": 300
    },
    "id": "mDpQc9YItJR0",
    "outputId": "05d015d6-8392-4e10-fbcc-04c1c0b75c1a"
   },
   "outputs": [
    {
     "data": {
      "text/plain": [
       "0.29672022892361877"
      ]
     },
     "execution_count": 16,
     "metadata": {
      "tags": []
     },
     "output_type": "execute_result"
    }
   ],
   "source": [
    "n = np.hstack((ng.reshape((-1,1)), np.tile([4000,3500,3200, 3000],\n",
    "                                 10).reshape((10,-1))))\n",
    "p = np.array([150,270,300, 370,649]) \n",
    "missing_rate(X, y, n, p, 10)"
   ]
  },
  {
   "cell_type": "code",
   "execution_count": null,
   "metadata": {
    "colab": {
     "base_uri": "https://localhost:8080/"
    },
    "executionInfo": {
     "elapsed": 8185,
     "status": "ok",
     "timestamp": 1603964456578,
     "user": {
      "displayName": "Thu Nguyễn",
      "photoUrl": "https://lh3.googleusercontent.com/a-/AOh14GjaRl8WgKOjLdrEa69IqFm__Rq7udZ763hhFDl9=s64",
      "userId": "04714273295929622355"
     },
     "user_tz": 300
    },
    "id": "1gM7Fh7auybP",
    "outputId": "4ebb1a95-4c15-43b9-a076-3c40c2ad7ffd"
   },
   "outputs": [
    {
     "data": {
      "text/plain": [
       "(0.0001628427274835728, 1.193061113357544, 0.29672022892361877)"
      ]
     },
     "execution_count": 38,
     "metadata": {
      "tags": []
     },
     "output_type": "execute_result"
    }
   ],
   "source": [
    "compute_err_MLE(X, y, n, p, 10)"
   ]
  },
  {
   "cell_type": "code",
   "execution_count": null,
   "metadata": {
    "colab": {
     "base_uri": "https://localhost:8080/"
    },
    "executionInfo": {
     "elapsed": 4028,
     "status": "ok",
     "timestamp": 1603968689009,
     "user": {
      "displayName": "Thu Nguyễn",
      "photoUrl": "https://lh3.googleusercontent.com/a-/AOh14GjaRl8WgKOjLdrEa69IqFm__Rq7udZ763hhFDl9=s64",
      "userId": "04714273295929622355"
     },
     "user_tz": 300
    },
    "id": "fY1IPp3X5fcD",
    "outputId": "f34a23ee-d57c-4f96-85cf-34485eae4248"
   },
   "outputs": [
    {
     "name": "stdout",
     "output_type": "stream",
     "text": [
      "[SoftImpute] Max Singular Value of X_init = 1298.623163\n",
      "[SoftImpute] Iter 1: observed MAE=0.048831 rank=649\n",
      "[SoftImpute] Iter 2: observed MAE=0.048952 rank=649\n",
      "[SoftImpute] Iter 3: observed MAE=0.049029 rank=649\n",
      "[SoftImpute] Iter 4: observed MAE=0.049081 rank=649\n",
      "[SoftImpute] Iter 5: observed MAE=0.049118 rank=649\n",
      "[SoftImpute] Iter 6: observed MAE=0.049146 rank=649\n",
      "[SoftImpute] Iter 7: observed MAE=0.049167 rank=649\n",
      "[SoftImpute] Iter 8: observed MAE=0.049184 rank=649\n",
      "[SoftImpute] Iter 9: observed MAE=0.049199 rank=649\n",
      "[SoftImpute] Iter 10: observed MAE=0.049211 rank=649\n",
      "[SoftImpute] Iter 11: observed MAE=0.049221 rank=649\n",
      "[SoftImpute] Iter 12: observed MAE=0.049230 rank=649\n",
      "[SoftImpute] Iter 13: observed MAE=0.049238 rank=649\n",
      "[SoftImpute] Iter 14: observed MAE=0.049244 rank=649\n",
      "[SoftImpute] Iter 15: observed MAE=0.049251 rank=649\n",
      "[SoftImpute] Iter 16: observed MAE=0.049256 rank=649\n",
      "[SoftImpute] Iter 17: observed MAE=0.049261 rank=649\n",
      "[SoftImpute] Iter 18: observed MAE=0.049266 rank=649\n",
      "[SoftImpute] Iter 19: observed MAE=0.049270 rank=649\n",
      "[SoftImpute] Iter 20: observed MAE=0.049274 rank=649\n",
      "[SoftImpute] Iter 21: observed MAE=0.049277 rank=649\n",
      "[SoftImpute] Iter 22: observed MAE=0.049280 rank=649\n",
      "[SoftImpute] Iter 23: observed MAE=0.049283 rank=649\n",
      "[SoftImpute] Iter 24: observed MAE=0.049286 rank=649\n",
      "[SoftImpute] Iter 25: observed MAE=0.049288 rank=649\n",
      "[SoftImpute] Iter 26: observed MAE=0.049291 rank=649\n",
      "[SoftImpute] Iter 27: observed MAE=0.049293 rank=649\n",
      "[SoftImpute] Iter 28: observed MAE=0.049295 rank=649\n",
      "[SoftImpute] Iter 29: observed MAE=0.049296 rank=649\n",
      "[SoftImpute] Iter 30: observed MAE=0.049298 rank=649\n",
      "[SoftImpute] Iter 31: observed MAE=0.049300 rank=649\n",
      "[SoftImpute] Iter 32: observed MAE=0.049301 rank=649\n",
      "[SoftImpute] Iter 33: observed MAE=0.049302 rank=649\n",
      "[SoftImpute] Iter 34: observed MAE=0.049304 rank=649\n",
      "[SoftImpute] Iter 35: observed MAE=0.049305 rank=649\n",
      "[SoftImpute] Iter 36: observed MAE=0.049306 rank=649\n",
      "[SoftImpute] Iter 37: observed MAE=0.049307 rank=649\n",
      "[SoftImpute] Iter 38: observed MAE=0.049308 rank=649\n",
      "[SoftImpute] Iter 39: observed MAE=0.049308 rank=649\n",
      "[SoftImpute] Iter 40: observed MAE=0.049309 rank=649\n",
      "[SoftImpute] Iter 41: observed MAE=0.049310 rank=649\n",
      "[SoftImpute] Iter 42: observed MAE=0.049311 rank=649\n",
      "[SoftImpute] Iter 43: observed MAE=0.049311 rank=649\n",
      "[SoftImpute] Iter 44: observed MAE=0.049312 rank=649\n",
      "[SoftImpute] Iter 45: observed MAE=0.049312 rank=649\n",
      "[SoftImpute] Iter 46: observed MAE=0.049313 rank=649\n",
      "[SoftImpute] Iter 47: observed MAE=0.049314 rank=649\n",
      "[SoftImpute] Iter 48: observed MAE=0.049314 rank=649\n",
      "[SoftImpute] Iter 49: observed MAE=0.049314 rank=649\n",
      "[SoftImpute] Iter 50: observed MAE=0.049315 rank=649\n",
      "[SoftImpute] Iter 51: observed MAE=0.049315 rank=649\n",
      "[SoftImpute] Iter 52: observed MAE=0.049316 rank=649\n",
      "[SoftImpute] Iter 53: observed MAE=0.049316 rank=649\n",
      "[SoftImpute] Iter 54: observed MAE=0.049316 rank=649\n",
      "[SoftImpute] Iter 55: observed MAE=0.049316 rank=649\n",
      "[SoftImpute] Iter 56: observed MAE=0.049317 rank=649\n",
      "[SoftImpute] Iter 57: observed MAE=0.049317 rank=649\n",
      "[SoftImpute] Iter 58: observed MAE=0.049317 rank=649\n",
      "[SoftImpute] Iter 59: observed MAE=0.049317 rank=649\n",
      "[SoftImpute] Iter 60: observed MAE=0.049318 rank=649\n",
      "[SoftImpute] Iter 61: observed MAE=0.049318 rank=649\n",
      "[SoftImpute] Iter 62: observed MAE=0.049318 rank=649\n",
      "[SoftImpute] Iter 63: observed MAE=0.049318 rank=649\n",
      "[SoftImpute] Iter 64: observed MAE=0.049318 rank=649\n",
      "[SoftImpute] Iter 65: observed MAE=0.049318 rank=649\n",
      "[SoftImpute] Iter 66: observed MAE=0.049319 rank=649\n",
      "[SoftImpute] Iter 67: observed MAE=0.049319 rank=649\n",
      "[SoftImpute] Iter 68: observed MAE=0.049319 rank=649\n",
      "[SoftImpute] Iter 69: observed MAE=0.049319 rank=649\n",
      "[SoftImpute] Iter 70: observed MAE=0.049319 rank=649\n",
      "[SoftImpute] Iter 71: observed MAE=0.049319 rank=649\n",
      "[SoftImpute] Iter 72: observed MAE=0.049319 rank=649\n",
      "[SoftImpute] Iter 73: observed MAE=0.049319 rank=649\n",
      "[SoftImpute] Iter 74: observed MAE=0.049320 rank=649\n",
      "[SoftImpute] Iter 75: observed MAE=0.049320 rank=649\n",
      "[SoftImpute] Iter 76: observed MAE=0.049320 rank=649\n",
      "[SoftImpute] Iter 77: observed MAE=0.049320 rank=649\n",
      "[SoftImpute] Iter 78: observed MAE=0.049320 rank=649\n",
      "[SoftImpute] Iter 79: observed MAE=0.049320 rank=649\n",
      "[SoftImpute] Iter 80: observed MAE=0.049320 rank=649\n",
      "[SoftImpute] Iter 81: observed MAE=0.049320 rank=649\n",
      "[SoftImpute] Iter 82: observed MAE=0.049320 rank=649\n",
      "[SoftImpute] Iter 83: observed MAE=0.049320 rank=649\n",
      "[SoftImpute] Iter 84: observed MAE=0.049320 rank=649\n",
      "[SoftImpute] Iter 85: observed MAE=0.049320 rank=649\n",
      "[SoftImpute] Iter 86: observed MAE=0.049320 rank=649\n",
      "[SoftImpute] Iter 87: observed MAE=0.049320 rank=649\n",
      "[SoftImpute] Iter 88: observed MAE=0.049320 rank=649\n",
      "[SoftImpute] Iter 89: observed MAE=0.049320 rank=649\n",
      "[SoftImpute] Iter 90: observed MAE=0.049320 rank=649\n",
      "[SoftImpute] Iter 91: observed MAE=0.049320 rank=649\n",
      "[SoftImpute] Iter 92: observed MAE=0.049321 rank=649\n",
      "[SoftImpute] Iter 93: observed MAE=0.049321 rank=649\n",
      "[SoftImpute] Iter 94: observed MAE=0.049321 rank=649\n",
      "[SoftImpute] Iter 95: observed MAE=0.049321 rank=649\n",
      "[SoftImpute] Iter 96: observed MAE=0.049321 rank=649\n",
      "[SoftImpute] Iter 97: observed MAE=0.049321 rank=649\n",
      "[SoftImpute] Iter 98: observed MAE=0.049321 rank=649\n",
      "[SoftImpute] Iter 99: observed MAE=0.049321 rank=649\n",
      "[SoftImpute] Iter 100: observed MAE=0.049321 rank=649\n",
      "[SoftImpute] Stopped after iteration 100 for lambda=25.972463\n"
     ]
    },
    {
     "data": {
      "text/plain": [
       "(0.004413387361928481, 738.754646062851, 0.29672022892361877)"
      ]
     },
     "execution_count": 50,
     "metadata": {
      "tags": []
     },
     "output_type": "execute_result"
    }
   ],
   "source": [
    "compute_err_SOFT(X, y, n, p, 10)"
   ]
  },
  {
   "cell_type": "markdown",
   "metadata": {
    "id": "ZILx8177vKsh"
   },
   "source": [
    "## 40%"
   ]
  },
  {
   "cell_type": "code",
   "execution_count": null,
   "metadata": {
    "colab": {
     "base_uri": "https://localhost:8080/"
    },
    "executionInfo": {
     "elapsed": 2660,
     "status": "ok",
     "timestamp": 1604143808707,
     "user": {
      "displayName": "Thu Nguyễn",
      "photoUrl": "https://lh3.googleusercontent.com/a-/AOh14GjaRl8WgKOjLdrEa69IqFm__Rq7udZ763hhFDl9=s64",
      "userId": "04714273295929622355"
     },
     "user_tz": 300
    },
    "id": "dEkeZuU4u6Cq",
    "outputId": "1e85975d-f6e7-48fa-e789-f343ba45dce7"
   },
   "outputs": [
    {
     "data": {
      "text/plain": [
       "0.39865727492846137"
      ]
     },
     "execution_count": 16,
     "metadata": {
      "tags": []
     },
     "output_type": "execute_result"
    }
   ],
   "source": [
    "n = np.hstack((ng.reshape((-1,1)), np.tile([3500,3000,2500, 2100],\n",
    "                                 10).reshape((10,-1))))\n",
    "p = np.array([150,200,250, 300,649]) \n",
    "missing_rate(X, y, n, p, 10)"
   ]
  },
  {
   "cell_type": "code",
   "execution_count": null,
   "metadata": {
    "colab": {
     "base_uri": "https://localhost:8080/"
    },
    "executionInfo": {
     "elapsed": 8056,
     "status": "ok",
     "timestamp": 1604143818257,
     "user": {
      "displayName": "Thu Nguyễn",
      "photoUrl": "https://lh3.googleusercontent.com/a-/AOh14GjaRl8WgKOjLdrEa69IqFm__Rq7udZ763hhFDl9=s64",
      "userId": "04714273295929622355"
     },
     "user_tz": 300
    },
    "id": "YwOKhnGpvJKX",
    "outputId": "0a991610-5fc5-4abe-bc4d-2b4c7973454a"
   },
   "outputs": [
    {
     "data": {
      "text/plain": [
       "(0.00019569941735360193, 0.8865010738372803, 0.39865727492846137)"
      ]
     },
     "execution_count": 17,
     "metadata": {
      "tags": []
     },
     "output_type": "execute_result"
    }
   ],
   "source": [
    "compute_err_MLE(X, y, n, p, 10)"
   ]
  },
  {
   "cell_type": "code",
   "execution_count": null,
   "metadata": {
    "colab": {
     "base_uri": "https://localhost:8080/"
    },
    "executionInfo": {
     "elapsed": 911,
     "status": "ok",
     "timestamp": 1603970874279,
     "user": {
      "displayName": "Thu Nguyễn",
      "photoUrl": "https://lh3.googleusercontent.com/a-/AOh14GjaRl8WgKOjLdrEa69IqFm__Rq7udZ763hhFDl9=s64",
      "userId": "04714273295929622355"
     },
     "user_tz": 300
    },
    "id": "9EAlV-IYAPVA",
    "outputId": "5255c916-6366-4f46-fd4c-567bbe45c497"
   },
   "outputs": [
    {
     "name": "stdout",
     "output_type": "stream",
     "text": [
      "[SoftImpute] Max Singular Value of X_init = 1156.273899\n",
      "[SoftImpute] Iter 1: observed MAE=0.046274 rank=649\n",
      "[SoftImpute] Iter 2: observed MAE=0.046406 rank=649\n",
      "[SoftImpute] Iter 3: observed MAE=0.046494 rank=649\n",
      "[SoftImpute] Iter 4: observed MAE=0.046555 rank=649\n",
      "[SoftImpute] Iter 5: observed MAE=0.046599 rank=649\n",
      "[SoftImpute] Iter 6: observed MAE=0.046633 rank=649\n",
      "[SoftImpute] Iter 7: observed MAE=0.046658 rank=649\n",
      "[SoftImpute] Iter 8: observed MAE=0.046678 rank=649\n",
      "[SoftImpute] Iter 9: observed MAE=0.046695 rank=649\n",
      "[SoftImpute] Iter 10: observed MAE=0.046709 rank=649\n",
      "[SoftImpute] Iter 11: observed MAE=0.046720 rank=649\n",
      "[SoftImpute] Iter 12: observed MAE=0.046730 rank=649\n",
      "[SoftImpute] Iter 13: observed MAE=0.046738 rank=649\n",
      "[SoftImpute] Iter 14: observed MAE=0.046746 rank=649\n",
      "[SoftImpute] Iter 15: observed MAE=0.046752 rank=649\n",
      "[SoftImpute] Iter 16: observed MAE=0.046758 rank=649\n",
      "[SoftImpute] Iter 17: observed MAE=0.046764 rank=649\n",
      "[SoftImpute] Iter 18: observed MAE=0.046768 rank=649\n",
      "[SoftImpute] Iter 19: observed MAE=0.046772 rank=649\n",
      "[SoftImpute] Iter 20: observed MAE=0.046776 rank=649\n",
      "[SoftImpute] Iter 21: observed MAE=0.046780 rank=649\n",
      "[SoftImpute] Iter 22: observed MAE=0.046783 rank=649\n",
      "[SoftImpute] Iter 23: observed MAE=0.046786 rank=649\n",
      "[SoftImpute] Iter 24: observed MAE=0.046789 rank=649\n",
      "[SoftImpute] Iter 25: observed MAE=0.046791 rank=649\n",
      "[SoftImpute] Iter 26: observed MAE=0.046794 rank=649\n",
      "[SoftImpute] Iter 27: observed MAE=0.046796 rank=649\n",
      "[SoftImpute] Iter 28: observed MAE=0.046798 rank=649\n",
      "[SoftImpute] Iter 29: observed MAE=0.046800 rank=649\n",
      "[SoftImpute] Iter 30: observed MAE=0.046802 rank=649\n",
      "[SoftImpute] Iter 31: observed MAE=0.046803 rank=649\n",
      "[SoftImpute] Iter 32: observed MAE=0.046805 rank=649\n",
      "[SoftImpute] Iter 33: observed MAE=0.046806 rank=649\n",
      "[SoftImpute] Iter 34: observed MAE=0.046808 rank=649\n",
      "[SoftImpute] Iter 35: observed MAE=0.046809 rank=649\n",
      "[SoftImpute] Iter 36: observed MAE=0.046810 rank=649\n",
      "[SoftImpute] Iter 37: observed MAE=0.046811 rank=649\n",
      "[SoftImpute] Iter 38: observed MAE=0.046812 rank=649\n",
      "[SoftImpute] Iter 39: observed MAE=0.046813 rank=649\n",
      "[SoftImpute] Iter 40: observed MAE=0.046814 rank=649\n",
      "[SoftImpute] Iter 41: observed MAE=0.046815 rank=649\n",
      "[SoftImpute] Iter 42: observed MAE=0.046816 rank=649\n",
      "[SoftImpute] Iter 43: observed MAE=0.046816 rank=649\n",
      "[SoftImpute] Iter 44: observed MAE=0.046817 rank=649\n",
      "[SoftImpute] Iter 45: observed MAE=0.046818 rank=649\n",
      "[SoftImpute] Iter 46: observed MAE=0.046818 rank=649\n",
      "[SoftImpute] Iter 47: observed MAE=0.046819 rank=649\n",
      "[SoftImpute] Iter 48: observed MAE=0.046820 rank=649\n",
      "[SoftImpute] Iter 49: observed MAE=0.046820 rank=649\n",
      "[SoftImpute] Iter 50: observed MAE=0.046821 rank=649\n",
      "[SoftImpute] Iter 51: observed MAE=0.046821 rank=649\n",
      "[SoftImpute] Iter 52: observed MAE=0.046822 rank=649\n",
      "[SoftImpute] Iter 53: observed MAE=0.046822 rank=649\n",
      "[SoftImpute] Iter 54: observed MAE=0.046822 rank=649\n",
      "[SoftImpute] Iter 55: observed MAE=0.046823 rank=649\n",
      "[SoftImpute] Iter 56: observed MAE=0.046823 rank=649\n",
      "[SoftImpute] Iter 57: observed MAE=0.046823 rank=649\n",
      "[SoftImpute] Iter 58: observed MAE=0.046824 rank=649\n",
      "[SoftImpute] Iter 59: observed MAE=0.046824 rank=649\n",
      "[SoftImpute] Iter 60: observed MAE=0.046824 rank=649\n",
      "[SoftImpute] Iter 61: observed MAE=0.046825 rank=649\n",
      "[SoftImpute] Iter 62: observed MAE=0.046825 rank=649\n",
      "[SoftImpute] Iter 63: observed MAE=0.046825 rank=649\n",
      "[SoftImpute] Iter 64: observed MAE=0.046825 rank=649\n",
      "[SoftImpute] Iter 65: observed MAE=0.046825 rank=649\n",
      "[SoftImpute] Iter 66: observed MAE=0.046826 rank=649\n",
      "[SoftImpute] Iter 67: observed MAE=0.046826 rank=649\n",
      "[SoftImpute] Iter 68: observed MAE=0.046826 rank=649\n",
      "[SoftImpute] Iter 69: observed MAE=0.046826 rank=649\n",
      "[SoftImpute] Iter 70: observed MAE=0.046826 rank=649\n",
      "[SoftImpute] Iter 71: observed MAE=0.046827 rank=649\n",
      "[SoftImpute] Iter 72: observed MAE=0.046827 rank=649\n",
      "[SoftImpute] Iter 73: observed MAE=0.046827 rank=649\n",
      "[SoftImpute] Iter 74: observed MAE=0.046827 rank=649\n",
      "[SoftImpute] Iter 75: observed MAE=0.046827 rank=649\n",
      "[SoftImpute] Iter 76: observed MAE=0.046827 rank=649\n",
      "[SoftImpute] Iter 77: observed MAE=0.046827 rank=649\n",
      "[SoftImpute] Iter 78: observed MAE=0.046827 rank=649\n",
      "[SoftImpute] Iter 79: observed MAE=0.046828 rank=649\n",
      "[SoftImpute] Iter 80: observed MAE=0.046828 rank=649\n",
      "[SoftImpute] Iter 81: observed MAE=0.046828 rank=649\n",
      "[SoftImpute] Iter 82: observed MAE=0.046828 rank=649\n",
      "[SoftImpute] Iter 83: observed MAE=0.046828 rank=649\n",
      "[SoftImpute] Iter 84: observed MAE=0.046828 rank=649\n",
      "[SoftImpute] Iter 85: observed MAE=0.046828 rank=649\n",
      "[SoftImpute] Iter 86: observed MAE=0.046828 rank=649\n",
      "[SoftImpute] Iter 87: observed MAE=0.046828 rank=649\n",
      "[SoftImpute] Iter 88: observed MAE=0.046828 rank=649\n",
      "[SoftImpute] Iter 89: observed MAE=0.046828 rank=649\n",
      "[SoftImpute] Iter 90: observed MAE=0.046828 rank=649\n",
      "[SoftImpute] Iter 91: observed MAE=0.046828 rank=649\n",
      "[SoftImpute] Iter 92: observed MAE=0.046828 rank=649\n",
      "[SoftImpute] Iter 93: observed MAE=0.046829 rank=649\n",
      "[SoftImpute] Iter 94: observed MAE=0.046829 rank=649\n",
      "[SoftImpute] Iter 95: observed MAE=0.046829 rank=649\n",
      "[SoftImpute] Iter 96: observed MAE=0.046829 rank=649\n",
      "[SoftImpute] Iter 97: observed MAE=0.046829 rank=649\n",
      "[SoftImpute] Iter 98: observed MAE=0.046829 rank=649\n",
      "[SoftImpute] Iter 99: observed MAE=0.046829 rank=649\n",
      "[SoftImpute] Iter 100: observed MAE=0.046829 rank=649\n",
      "[SoftImpute] Stopped after iteration 100 for lambda=23.125478\n"
     ]
    },
    {
     "data": {
      "text/plain": [
       "(0.004416823925959557, 740.6698009967804, 0.39865727492846137)"
      ]
     },
     "execution_count": 52,
     "metadata": {
      "tags": []
     },
     "output_type": "execute_result"
    }
   ],
   "source": [
    "compute_err_SOFT(X, y, n, p, 10)"
   ]
  },
  {
   "cell_type": "markdown",
   "metadata": {
    "id": "Dar_v0XY1vd2"
   },
   "source": [
    "## 50 %"
   ]
  },
  {
   "cell_type": "code",
   "execution_count": null,
   "metadata": {
    "colab": {
     "base_uri": "https://localhost:8080/"
    },
    "executionInfo": {
     "elapsed": 2211,
     "status": "ok",
     "timestamp": 1604972464192,
     "user": {
      "displayName": "Thu Nguyễn",
      "photoUrl": "https://lh3.googleusercontent.com/a-/AOh14GjaRl8WgKOjLdrEa69IqFm__Rq7udZ763hhFDl9=s64",
      "userId": "04714273295929622355"
     },
     "user_tz": 360
    },
    "id": "hJZ0OioKAQtG",
    "outputId": "48cffc5b-1f70-4c24-bdd1-f7fceced51bd"
   },
   "outputs": [
    {
     "data": {
      "text/plain": [
       "0.501848998459168"
      ]
     },
     "execution_count": 14,
     "metadata": {
      "tags": []
     },
     "output_type": "execute_result"
    }
   ],
   "source": [
    "n = np.hstack((ng.reshape((-1,1)), np.tile([2300,2100,2000, 1900],\n",
    "                                 10).reshape((10,-1))))\n",
    "p = np.array([90,110,120, 140,649]) \n",
    "missing_rate(X, y, n, p, 10)"
   ]
  },
  {
   "cell_type": "code",
   "execution_count": null,
   "metadata": {
    "colab": {
     "base_uri": "https://localhost:8080/"
    },
    "executionInfo": {
     "elapsed": 7850,
     "status": "ok",
     "timestamp": 1604530992063,
     "user": {
      "displayName": "Thu Nguyễn",
      "photoUrl": "https://lh3.googleusercontent.com/a-/AOh14GjaRl8WgKOjLdrEa69IqFm__Rq7udZ763hhFDl9=s64",
      "userId": "04714273295929622355"
     },
     "user_tz": 360
    },
    "id": "OCxLMeXY12ut",
    "outputId": "f782ccbb-299a-4217-bf21-bba92c23916f"
   },
   "outputs": [
    {
     "data": {
      "text/plain": [
       "(0.0002459042236155007, 0.527815580368042, 0.501848998459168)"
      ]
     },
     "execution_count": 17,
     "metadata": {
      "tags": []
     },
     "output_type": "execute_result"
    }
   ],
   "source": [
    "compute_err_MLE(X, y, n, p, 10)"
   ]
  },
  {
   "cell_type": "code",
   "execution_count": null,
   "metadata": {
    "colab": {
     "base_uri": "https://localhost:8080/"
    },
    "executionInfo": {
     "elapsed": 1937,
     "status": "ok",
     "timestamp": 1604536596463,
     "user": {
      "displayName": "Thu Nguyễn",
      "photoUrl": "https://lh3.googleusercontent.com/a-/AOh14GjaRl8WgKOjLdrEa69IqFm__Rq7udZ763hhFDl9=s64",
      "userId": "04714273295929622355"
     },
     "user_tz": 360
    },
    "id": "LiDnDBOif9EL",
    "outputId": "d9b8ac09-2b2e-4f05-b542-9a90ed0f52b4"
   },
   "outputs": [
    {
     "name": "stdout",
     "output_type": "stream",
     "text": [
      "[SoftImpute] Max Singular Value of X_init = 1087.401505\n",
      "[SoftImpute] Iter 1: observed MAE=0.047362 rank=649\n",
      "[SoftImpute] Iter 2: observed MAE=0.047431 rank=649\n",
      "[SoftImpute] Iter 3: observed MAE=0.047481 rank=649\n",
      "[SoftImpute] Iter 4: observed MAE=0.047519 rank=649\n",
      "[SoftImpute] Iter 5: observed MAE=0.047550 rank=649\n",
      "[SoftImpute] Iter 6: observed MAE=0.047575 rank=649\n",
      "[SoftImpute] Iter 7: observed MAE=0.047595 rank=649\n",
      "[SoftImpute] Iter 8: observed MAE=0.047613 rank=649\n",
      "[SoftImpute] Iter 9: observed MAE=0.047628 rank=649\n",
      "[SoftImpute] Iter 10: observed MAE=0.047640 rank=649\n",
      "[SoftImpute] Iter 11: observed MAE=0.047651 rank=649\n",
      "[SoftImpute] Iter 12: observed MAE=0.047661 rank=649\n",
      "[SoftImpute] Iter 13: observed MAE=0.047670 rank=649\n",
      "[SoftImpute] Iter 14: observed MAE=0.047677 rank=649\n",
      "[SoftImpute] Iter 15: observed MAE=0.047684 rank=649\n",
      "[SoftImpute] Iter 16: observed MAE=0.047690 rank=649\n",
      "[SoftImpute] Iter 17: observed MAE=0.047695 rank=649\n",
      "[SoftImpute] Iter 18: observed MAE=0.047700 rank=649\n",
      "[SoftImpute] Iter 19: observed MAE=0.047704 rank=649\n",
      "[SoftImpute] Iter 20: observed MAE=0.047708 rank=649\n",
      "[SoftImpute] Iter 21: observed MAE=0.047712 rank=649\n",
      "[SoftImpute] Iter 22: observed MAE=0.047715 rank=649\n",
      "[SoftImpute] Iter 23: observed MAE=0.047718 rank=649\n",
      "[SoftImpute] Iter 24: observed MAE=0.047720 rank=649\n",
      "[SoftImpute] Iter 25: observed MAE=0.047723 rank=649\n",
      "[SoftImpute] Iter 26: observed MAE=0.047725 rank=649\n",
      "[SoftImpute] Iter 27: observed MAE=0.047727 rank=649\n",
      "[SoftImpute] Iter 28: observed MAE=0.047729 rank=649\n",
      "[SoftImpute] Iter 29: observed MAE=0.047731 rank=649\n",
      "[SoftImpute] Iter 30: observed MAE=0.047733 rank=649\n",
      "[SoftImpute] Iter 31: observed MAE=0.047734 rank=649\n",
      "[SoftImpute] Iter 32: observed MAE=0.047736 rank=649\n",
      "[SoftImpute] Iter 33: observed MAE=0.047737 rank=649\n",
      "[SoftImpute] Iter 34: observed MAE=0.047738 rank=649\n",
      "[SoftImpute] Iter 35: observed MAE=0.047740 rank=649\n",
      "[SoftImpute] Iter 36: observed MAE=0.047741 rank=649\n",
      "[SoftImpute] Iter 37: observed MAE=0.047742 rank=649\n",
      "[SoftImpute] Iter 38: observed MAE=0.047743 rank=649\n",
      "[SoftImpute] Iter 39: observed MAE=0.047744 rank=649\n",
      "[SoftImpute] Iter 40: observed MAE=0.047745 rank=649\n",
      "[SoftImpute] Iter 41: observed MAE=0.047745 rank=649\n",
      "[SoftImpute] Iter 42: observed MAE=0.047746 rank=649\n",
      "[SoftImpute] Iter 43: observed MAE=0.047747 rank=649\n",
      "[SoftImpute] Iter 44: observed MAE=0.047747 rank=649\n",
      "[SoftImpute] Iter 45: observed MAE=0.047748 rank=649\n",
      "[SoftImpute] Iter 46: observed MAE=0.047749 rank=649\n",
      "[SoftImpute] Iter 47: observed MAE=0.047749 rank=649\n",
      "[SoftImpute] Iter 48: observed MAE=0.047750 rank=649\n",
      "[SoftImpute] Iter 49: observed MAE=0.047750 rank=649\n",
      "[SoftImpute] Iter 50: observed MAE=0.047751 rank=649\n",
      "[SoftImpute] Iter 51: observed MAE=0.047751 rank=649\n",
      "[SoftImpute] Iter 52: observed MAE=0.047752 rank=649\n",
      "[SoftImpute] Iter 53: observed MAE=0.047752 rank=649\n",
      "[SoftImpute] Iter 54: observed MAE=0.047753 rank=649\n",
      "[SoftImpute] Iter 55: observed MAE=0.047753 rank=649\n",
      "[SoftImpute] Iter 56: observed MAE=0.047753 rank=649\n",
      "[SoftImpute] Iter 57: observed MAE=0.047754 rank=649\n",
      "[SoftImpute] Iter 58: observed MAE=0.047754 rank=649\n",
      "[SoftImpute] Iter 59: observed MAE=0.047754 rank=649\n",
      "[SoftImpute] Iter 60: observed MAE=0.047755 rank=649\n",
      "[SoftImpute] Iter 61: observed MAE=0.047755 rank=649\n",
      "[SoftImpute] Iter 62: observed MAE=0.047755 rank=649\n",
      "[SoftImpute] Iter 63: observed MAE=0.047756 rank=649\n",
      "[SoftImpute] Iter 64: observed MAE=0.047756 rank=649\n",
      "[SoftImpute] Iter 65: observed MAE=0.047756 rank=649\n",
      "[SoftImpute] Iter 66: observed MAE=0.047756 rank=649\n",
      "[SoftImpute] Iter 67: observed MAE=0.047757 rank=649\n",
      "[SoftImpute] Iter 68: observed MAE=0.047757 rank=649\n",
      "[SoftImpute] Iter 69: observed MAE=0.047757 rank=649\n",
      "[SoftImpute] Iter 70: observed MAE=0.047757 rank=649\n",
      "[SoftImpute] Iter 71: observed MAE=0.047757 rank=649\n",
      "[SoftImpute] Iter 72: observed MAE=0.047758 rank=649\n",
      "[SoftImpute] Iter 73: observed MAE=0.047758 rank=649\n",
      "[SoftImpute] Iter 74: observed MAE=0.047758 rank=649\n",
      "[SoftImpute] Iter 75: observed MAE=0.047758 rank=649\n",
      "[SoftImpute] Iter 76: observed MAE=0.047758 rank=649\n",
      "[SoftImpute] Iter 77: observed MAE=0.047758 rank=649\n",
      "[SoftImpute] Iter 78: observed MAE=0.047758 rank=649\n",
      "[SoftImpute] Iter 79: observed MAE=0.047759 rank=649\n",
      "[SoftImpute] Iter 80: observed MAE=0.047759 rank=649\n",
      "[SoftImpute] Iter 81: observed MAE=0.047759 rank=649\n",
      "[SoftImpute] Iter 82: observed MAE=0.047759 rank=649\n",
      "[SoftImpute] Iter 83: observed MAE=0.047759 rank=649\n",
      "[SoftImpute] Iter 84: observed MAE=0.047759 rank=649\n",
      "[SoftImpute] Iter 85: observed MAE=0.047759 rank=649\n",
      "[SoftImpute] Iter 86: observed MAE=0.047759 rank=649\n",
      "[SoftImpute] Iter 87: observed MAE=0.047760 rank=649\n",
      "[SoftImpute] Iter 88: observed MAE=0.047760 rank=649\n",
      "[SoftImpute] Iter 89: observed MAE=0.047760 rank=649\n",
      "[SoftImpute] Iter 90: observed MAE=0.047760 rank=649\n",
      "[SoftImpute] Iter 91: observed MAE=0.047760 rank=649\n",
      "[SoftImpute] Iter 92: observed MAE=0.047760 rank=649\n",
      "[SoftImpute] Iter 93: observed MAE=0.047760 rank=649\n",
      "[SoftImpute] Iter 94: observed MAE=0.047760 rank=649\n",
      "[SoftImpute] Iter 95: observed MAE=0.047760 rank=649\n",
      "[SoftImpute] Iter 96: observed MAE=0.047760 rank=649\n",
      "[SoftImpute] Iter 97: observed MAE=0.047760 rank=649\n",
      "[SoftImpute] Iter 98: observed MAE=0.047761 rank=649\n",
      "[SoftImpute] Iter 99: observed MAE=0.047761 rank=649\n",
      "[SoftImpute] Iter 100: observed MAE=0.047761 rank=649\n",
      "[SoftImpute] Stopped after iteration 100 for lambda=21.748030\n"
     ]
    },
    {
     "data": {
      "text/plain": [
       "(0.004418477184256866, 755.7259266376495, 0.501848998459168)"
      ]
     },
     "execution_count": 18,
     "metadata": {
      "tags": []
     },
     "output_type": "execute_result"
    }
   ],
   "source": [
    "compute_err_SOFT(X, y, n, p, 10)"
   ]
  },
  {
   "cell_type": "code",
   "execution_count": null,
   "metadata": {
    "id": "qp3cRBW6gBUG"
   },
   "outputs": [],
   "source": []
  }
 ],
 "metadata": {
  "colab": {
   "collapsed_sections": [],
   "machine_shape": "hm",
   "name": "Parameter estimation error MNIST shuffled.ipynb",
   "provenance": [
    {
     "file_id": "1MF5wo74OJrNZ6-GtIQBCJymB0d1dm_Aw",
     "timestamp": 1603961946800
    },
    {
     "file_id": "1eazQvNk_WLTaG8heDoHQ3AgEg59y9f0v",
     "timestamp": 1603955217908
    },
    {
     "file_id": "126-leKywWg1oVxbfuH1_ORl8UMYHusn_",
     "timestamp": 1591364956450
    },
    {
     "file_id": "1Lb-WwE7STckIojvf1h3ADYX29-gfA6u-",
     "timestamp": 1590379038322
    },
    {
     "file_id": "1CnbOqwmJydQa8uCCpIR6HRVxw0YnveIP",
     "timestamp": 1590113304994
    }
   ],
   "toc_visible": true
  },
  "kernelspec": {
   "display_name": "Python 3",
   "language": "python",
   "name": "python3"
  },
  "language_info": {
   "codemirror_mode": {
    "name": "ipython",
    "version": 3
   },
   "file_extension": ".py",
   "mimetype": "text/x-python",
   "name": "python",
   "nbconvert_exporter": "python",
   "pygments_lexer": "ipython3",
   "version": "3.8.3"
  },
  "widgets": {
   "application/vnd.jupyter.widget-state+json": {
    "31d6f95171704d81b314a18221920792": {
     "model_module": "@jupyter-widgets/controls",
     "model_name": "HTMLModel",
     "state": {
      "_dom_classes": [],
      "_model_module": "@jupyter-widgets/controls",
      "_model_module_version": "1.5.0",
      "_model_name": "HTMLModel",
      "_view_count": null,
      "_view_module": "@jupyter-widgets/controls",
      "_view_module_version": "1.5.0",
      "_view_name": "HTMLView",
      "description": "",
      "description_tooltip": null,
      "layout": "IPY_MODEL_a1329cf7bc3441a990fcb870d12f3b18",
      "placeholder": "​",
      "style": "IPY_MODEL_d8bd7669f2314055bdc025f9a3448c0f",
      "value": " 4/4 [00:00&lt;00:00,  5.18 file/s]"
     }
    },
    "89f0e980e0e547bfaa2fb80cb1941282": {
     "model_module": "@jupyter-widgets/controls",
     "model_name": "HBoxModel",
     "state": {
      "_dom_classes": [],
      "_model_module": "@jupyter-widgets/controls",
      "_model_module_version": "1.5.0",
      "_model_name": "HBoxModel",
      "_view_count": null,
      "_view_module": "@jupyter-widgets/controls",
      "_view_module_version": "1.5.0",
      "_view_name": "HBoxView",
      "box_style": "",
      "children": [
       "IPY_MODEL_aaf993a00f4c4f96b974cf0c02f15684",
       "IPY_MODEL_31d6f95171704d81b314a18221920792"
      ],
      "layout": "IPY_MODEL_f862368e1be741c9853aa3d71f83b7ab"
     }
    },
    "a1329cf7bc3441a990fcb870d12f3b18": {
     "model_module": "@jupyter-widgets/base",
     "model_name": "LayoutModel",
     "state": {
      "_model_module": "@jupyter-widgets/base",
      "_model_module_version": "1.2.0",
      "_model_name": "LayoutModel",
      "_view_count": null,
      "_view_module": "@jupyter-widgets/base",
      "_view_module_version": "1.2.0",
      "_view_name": "LayoutView",
      "align_content": null,
      "align_items": null,
      "align_self": null,
      "border": null,
      "bottom": null,
      "display": null,
      "flex": null,
      "flex_flow": null,
      "grid_area": null,
      "grid_auto_columns": null,
      "grid_auto_flow": null,
      "grid_auto_rows": null,
      "grid_column": null,
      "grid_gap": null,
      "grid_row": null,
      "grid_template_areas": null,
      "grid_template_columns": null,
      "grid_template_rows": null,
      "height": null,
      "justify_content": null,
      "justify_items": null,
      "left": null,
      "margin": null,
      "max_height": null,
      "max_width": null,
      "min_height": null,
      "min_width": null,
      "object_fit": null,
      "object_position": null,
      "order": null,
      "overflow": null,
      "overflow_x": null,
      "overflow_y": null,
      "padding": null,
      "right": null,
      "top": null,
      "visibility": null,
      "width": null
     }
    },
    "aaf993a00f4c4f96b974cf0c02f15684": {
     "model_module": "@jupyter-widgets/controls",
     "model_name": "FloatProgressModel",
     "state": {
      "_dom_classes": [],
      "_model_module": "@jupyter-widgets/controls",
      "_model_module_version": "1.5.0",
      "_model_name": "FloatProgressModel",
      "_view_count": null,
      "_view_module": "@jupyter-widgets/controls",
      "_view_module_version": "1.5.0",
      "_view_name": "ProgressView",
      "bar_style": "success",
      "description": "Dl Completed...: 100%",
      "description_tooltip": null,
      "layout": "IPY_MODEL_ed0a49348c824d64ae3fd05c3d3181d3",
      "max": 4,
      "min": 0,
      "orientation": "horizontal",
      "style": "IPY_MODEL_d5355aa7aff44786b055461820ee73fb",
      "value": 4
     }
    },
    "d5355aa7aff44786b055461820ee73fb": {
     "model_module": "@jupyter-widgets/controls",
     "model_name": "ProgressStyleModel",
     "state": {
      "_model_module": "@jupyter-widgets/controls",
      "_model_module_version": "1.5.0",
      "_model_name": "ProgressStyleModel",
      "_view_count": null,
      "_view_module": "@jupyter-widgets/base",
      "_view_module_version": "1.2.0",
      "_view_name": "StyleView",
      "bar_color": null,
      "description_width": "initial"
     }
    },
    "d8bd7669f2314055bdc025f9a3448c0f": {
     "model_module": "@jupyter-widgets/controls",
     "model_name": "DescriptionStyleModel",
     "state": {
      "_model_module": "@jupyter-widgets/controls",
      "_model_module_version": "1.5.0",
      "_model_name": "DescriptionStyleModel",
      "_view_count": null,
      "_view_module": "@jupyter-widgets/base",
      "_view_module_version": "1.2.0",
      "_view_name": "StyleView",
      "description_width": ""
     }
    },
    "ed0a49348c824d64ae3fd05c3d3181d3": {
     "model_module": "@jupyter-widgets/base",
     "model_name": "LayoutModel",
     "state": {
      "_model_module": "@jupyter-widgets/base",
      "_model_module_version": "1.2.0",
      "_model_name": "LayoutModel",
      "_view_count": null,
      "_view_module": "@jupyter-widgets/base",
      "_view_module_version": "1.2.0",
      "_view_name": "LayoutView",
      "align_content": null,
      "align_items": null,
      "align_self": null,
      "border": null,
      "bottom": null,
      "display": null,
      "flex": null,
      "flex_flow": null,
      "grid_area": null,
      "grid_auto_columns": null,
      "grid_auto_flow": null,
      "grid_auto_rows": null,
      "grid_column": null,
      "grid_gap": null,
      "grid_row": null,
      "grid_template_areas": null,
      "grid_template_columns": null,
      "grid_template_rows": null,
      "height": null,
      "justify_content": null,
      "justify_items": null,
      "left": null,
      "margin": null,
      "max_height": null,
      "max_width": null,
      "min_height": null,
      "min_width": null,
      "object_fit": null,
      "object_position": null,
      "order": null,
      "overflow": null,
      "overflow_x": null,
      "overflow_y": null,
      "padding": null,
      "right": null,
      "top": null,
      "visibility": null,
      "width": null
     }
    },
    "f862368e1be741c9853aa3d71f83b7ab": {
     "model_module": "@jupyter-widgets/base",
     "model_name": "LayoutModel",
     "state": {
      "_model_module": "@jupyter-widgets/base",
      "_model_module_version": "1.2.0",
      "_model_name": "LayoutModel",
      "_view_count": null,
      "_view_module": "@jupyter-widgets/base",
      "_view_module_version": "1.2.0",
      "_view_name": "LayoutView",
      "align_content": null,
      "align_items": null,
      "align_self": null,
      "border": null,
      "bottom": null,
      "display": null,
      "flex": null,
      "flex_flow": null,
      "grid_area": null,
      "grid_auto_columns": null,
      "grid_auto_flow": null,
      "grid_auto_rows": null,
      "grid_column": null,
      "grid_gap": null,
      "grid_row": null,
      "grid_template_areas": null,
      "grid_template_columns": null,
      "grid_template_rows": null,
      "height": null,
      "justify_content": null,
      "justify_items": null,
      "left": null,
      "margin": null,
      "max_height": null,
      "max_width": null,
      "min_height": null,
      "min_width": null,
      "object_fit": null,
      "object_position": null,
      "order": null,
      "overflow": null,
      "overflow_x": null,
      "overflow_y": null,
      "padding": null,
      "right": null,
      "top": null,
      "visibility": null,
      "width": null
     }
    }
   }
  }
 },
 "nbformat": 4,
 "nbformat_minor": 1
}
