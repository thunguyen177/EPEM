{
 "cells": [
  {
   "cell_type": "markdown",
   "metadata": {
    "id": "01Q1wGI3uIdg"
   },
   "source": [
    "## libraries and function "
   ]
  },
  {
   "cell_type": "code",
   "execution_count": 1,
   "metadata": {
    "colab": {
     "base_uri": "https://localhost:8080/"
    },
    "executionInfo": {
     "elapsed": 8291,
     "status": "ok",
     "timestamp": 1605345904736,
     "user": {
      "displayName": "Thu Nguyễn",
      "photoUrl": "https://lh3.googleusercontent.com/a-/AOh14GjaRl8WgKOjLdrEa69IqFm__Rq7udZ763hhFDl9=s64",
      "userId": "04714273295929622355"
     },
     "user_tz": 360
    },
    "id": "iEdO9dJPION8",
    "outputId": "7cafef97-ef7e-4eae-b9da-73a2f3032d53"
   },
   "outputs": [
    {
     "name": "stdout",
     "output_type": "stream",
     "text": [
      "Collecting impyute\n",
      "  Downloading https://files.pythonhosted.org/packages/37/28/86829f67c9affb847facaab94687761d3555539ec675f7577778c5b2680a/impyute-0.0.8-py2.py3-none-any.whl\n",
      "Requirement already satisfied: scikit-learn in /usr/local/lib/python3.6/dist-packages (from impyute) (0.22.2.post1)\n",
      "Requirement already satisfied: scipy in /usr/local/lib/python3.6/dist-packages (from impyute) (1.4.1)\n",
      "Requirement already satisfied: numpy in /usr/local/lib/python3.6/dist-packages (from impyute) (1.18.5)\n",
      "Requirement already satisfied: joblib>=0.11 in /usr/local/lib/python3.6/dist-packages (from scikit-learn->impyute) (0.17.0)\n",
      "Installing collected packages: impyute\n",
      "Successfully installed impyute-0.0.8\n"
     ]
    },
    {
     "name": "stderr",
     "output_type": "stream",
     "text": [
      "/usr/local/lib/python3.6/dist-packages/sklearn/externals/six.py:31: FutureWarning: The module is deprecated in version 0.21 and will be removed in version 0.23 since we've dropped support for Python 2.7. Please rely on the official version of six (https://pypi.org/project/six/).\n",
      "  \"(https://pypi.org/project/six/).\", FutureWarning)\n"
     ]
    }
   ],
   "source": [
    "!pip install impyute\n",
    "from sklearn import datasets\n",
    "from sklearn.preprocessing import LabelEncoder, StandardScaler\n",
    "from sklearn.discriminant_analysis import LinearDiscriminantAnalysis as skLDA\n",
    "from sklearn.experimental import enable_iterative_imputer\n",
    "from sklearn.impute import IterativeImputer\n",
    "from scipy import stats\n",
    "import numpy as np\n",
    "import impyute as impy\n",
    "from fancyimpute import IterativeSVD, SoftImpute, NuclearNormMinimization\n",
    "import pandas as pd\n",
    "import time"
   ]
  },
  {
   "cell_type": "markdown",
   "metadata": {
    "id": "YxZbkGo8IOOS"
   },
   "source": [
    "The function `mle` allows us to compute the MLEs from training data with monotone missing data.\n",
    "\n",
    "We denote\n",
    "$$n = \\begin{pmatrix}\n",
    "n_1^{(1)} & n_1^{(2)} &...&n_1^{(K)}\\\\\n",
    "\\vdots & \\vdots &\\ddots&\\vdots\\\\\n",
    "n_G^{(1)} & n_G^{(2)} &...&n_G^{(K)}\n",
    "\\end{pmatrix}$$\n",
    "$$p = (p_1,p_2,...,p_K)$$\n",
    "G is the number of classes."
   ]
  },
  {
   "cell_type": "markdown",
   "metadata": {
    "id": "zJsxuiuVOWch"
   },
   "source": [
    "### MLE function "
   ]
  },
  {
   "cell_type": "code",
   "execution_count": 2,
   "metadata": {
    "executionInfo": {
     "elapsed": 8281,
     "status": "ok",
     "timestamp": 1605345904745,
     "user": {
      "displayName": "Thu Nguyễn",
      "photoUrl": "https://lh3.googleusercontent.com/a-/AOh14GjaRl8WgKOjLdrEa69IqFm__Rq7udZ763hhFDl9=s64",
      "userId": "04714273295929622355"
     },
     "user_tz": 360
    },
    "id": "9iL76sKnIOOU"
   },
   "outputs": [],
   "source": [
    "import numpy as np\n",
    "def mle(Xtrain, n, p, G):\n",
    "    '''\n",
    "    Xtrain: list of input. The ith element of the list contains the sample from\n",
    "    the ith class.\n",
    "    '''\n",
    "    if p[0]==1:\n",
    "        # the array that contains the means of each block for the 1st block\n",
    "        mus = [np.mean(Xtrain[g][:,0]) for g in np.arange(G)]\n",
    "        S = [(n[g,0]-1)*np.var(Xtrain[g][:,0]) for g in np.arange(G)]\n",
    "    else:\n",
    "        mus = [np.mean(Xtrain[g][:,0:p[0]], axis = 0) for g  in np.arange(G)]\n",
    "        S = [(n[g,0]-1)*np.cov(Xtrain[g][:,0:p[0]],rowvar =False) \n",
    "             for g in np.arange(G)]\n",
    "    \n",
    "    mus = np.asarray(mus).T # so that each column is the mean of a class\n",
    "    S = sum(S)/(sum(n[:,0])) \n",
    "    S = S.reshape((p[0],-1))\n",
    "    for i in np.arange(1,len(p)):\n",
    "        W = [(n[g,i]-1)*np.cov(Xtrain[g][0:n[g,i],0:p[i]],\n",
    "                              rowvar=False) for g in np.arange(G)]\n",
    "        W = sum(W)\n",
    "        \n",
    "        P = np.matmul(W[(p[i-1]):p[i], 0:p[i-1]],\n",
    "                      np.linalg.inv(W[0:p[i-1],0:p[i-1]]))\n",
    "        Q = (W[p[i-1]:p[i],p[i-1]:p[i]]-\n",
    "            np.matmul(P, W[0:p[i-1],p[i-1]:p[i]]))/sum(n[:,i])\n",
    "        xmeans = [np.mean(Xtrain[g][0:n[g,i],0:p[i]], axis = 0) \n",
    "                  for g in np.arange(G)]\n",
    "        \n",
    "        xmeans = np.asarray(xmeans)\n",
    "        xmeans = xmeans.T\n",
    "        mus = np.vstack((mus, xmeans[p[i-1]:p[i],:]\n",
    "                       - np.matmul(P, xmeans[0:p[i-1]]-mus)))\n",
    "        S21 = np.matmul(P, S)\n",
    "        S = np.vstack((np.hstack((S, S21.T)),\n",
    "                       np.hstack((S21, Q+np.matmul(P, S21.T)))))\n",
    "    return [mus, S]"
   ]
  },
  {
   "cell_type": "markdown",
   "metadata": {
    "id": "5Kk3Z0jcObqQ"
   },
   "source": [
    "### nan function \n"
   ]
  },
  {
   "cell_type": "code",
   "execution_count": 3,
   "metadata": {
    "executionInfo": {
     "elapsed": 8275,
     "status": "ok",
     "timestamp": 1605345904747,
     "user": {
      "displayName": "Thu Nguyễn",
      "photoUrl": "https://lh3.googleusercontent.com/a-/AOh14GjaRl8WgKOjLdrEa69IqFm__Rq7udZ763hhFDl9=s64",
      "userId": "04714273295929622355"
     },
     "user_tz": 360
    },
    "id": "V4-kNYKJIOOd"
   },
   "outputs": [],
   "source": [
    "'''\n",
    "function that create data list that contain missing values\n",
    "The input X is a numpy array, y is the label\n",
    "the function return a list where the ith element of \n",
    "the list belongs to the ith class\n",
    "'''\n",
    "\n",
    "def make_nan_list(X,y,G, n, p):\n",
    "    # note that the label should go from 0 to G-1\n",
    "    data = []\n",
    "    for g in np.arange(G):\n",
    "        data.append(X[y==g,:])\n",
    "        for k in np.arange(len(p)-1):\n",
    "            data[g][n[g,k+1]:n[g,k], p[k]:] = np.nan\n",
    "    return data\n"
   ]
  },
  {
   "cell_type": "code",
   "execution_count": 4,
   "metadata": {
    "executionInfo": {
     "elapsed": 1107,
     "status": "ok",
     "timestamp": 1605345905865,
     "user": {
      "displayName": "Thu Nguyễn",
      "photoUrl": "https://lh3.googleusercontent.com/a-/AOh14GjaRl8WgKOjLdrEa69IqFm__Rq7udZ763hhFDl9=s64",
      "userId": "04714273295929622355"
     },
     "user_tz": 360
    },
    "id": "8oXh1_ou0BPS"
   },
   "outputs": [],
   "source": [
    "def missing_rate(Xtrain, ytrain, n, p, G):\n",
    "    # function that compute the missing rate of a given pattern    \n",
    "    Xtr_nan_list = make_nan_list(Xtrain,ytrain,G, n, p)\n",
    "    # make NA data\n",
    "    # since making function changes the order of observation\n",
    "    # we need to generate new ytr from Xtr_nan    \n",
    "    Xtr_nan, ytr = Xtr_nan_list[0], np.repeat(0, len(Xtr_nan_list[0]))\n",
    "    for g in np.arange(1,G):\n",
    "        Xtr_nan = np.vstack((Xtr_nan, Xtr_nan_list[g]))\n",
    "        ytr = np.hstack((ytr, np.repeat(g, len(Xtr_nan_list[g]))))\n",
    "\n",
    "    # percentage of missing values\n",
    "    per_missing = np.mean(np.isnan(Xtr_nan))\n",
    "    return per_missing"
   ]
  },
  {
   "cell_type": "markdown",
   "metadata": {
    "id": "IwG2bsDOOxls"
   },
   "source": [
    "### compute_err function "
   ]
  },
  {
   "cell_type": "code",
   "execution_count": null,
   "metadata": {
    "id": "ChlCr7wvl2Uw"
   },
   "outputs": [],
   "source": [
    "def err(mus, S, mus_est, S_est):\n",
    "  err_rate = (np.linalg.norm(mus_est-mus))/mus.size \n",
    "  err_rate += (np.linalg.norm(S_est-S))/S.size \n",
    "  return err_rate"
   ]
  },
  {
   "cell_type": "code",
   "execution_count": null,
   "metadata": {
    "id": "PH3SDKirW3Zf"
   },
   "outputs": [],
   "source": [
    "def compute_err_EM(Xtrain, ytrain, n, p, G):      \n",
    "    # make NAs\n",
    "    Xtr_nan_list = make_nan_list(Xtrain,ytrain,G, n, p)\n",
    "    # make NA data\n",
    "    # since making function changes the order of observation\n",
    "    # we need to generate new ytr from Xtr_nan    \n",
    "    Xtr_nan, ytr = Xtr_nan_list[0], np.repeat(0, len(Xtr_nan_list[0]))\n",
    "    for g in np.arange(1,G):\n",
    "        Xtr_nan = np.vstack((Xtr_nan, Xtr_nan_list[g]))\n",
    "        ytr = np.hstack((ytr, np.repeat(g, len(Xtr_nan_list[g]))))\n",
    "\n",
    "    scaler = StandardScaler()\n",
    "    scaler.fit(Xtr_nan)\n",
    "    Xtr_nan = scaler.transform(Xtr_nan)\n",
    "    Xtrain = scaler.transform(Xtrain)\n",
    "    for g in range(G):\n",
    "      Xtr_nan_list[g] = scaler.transform(Xtr_nan_list[g])\n",
    "\n",
    "    mus = [np.mean(Xtrain[ytrain==g,:], axis=0) for g in np.arange(G)]\n",
    "    mus = np.asarray(mus) # each row is a mean of a class\n",
    "    S = [(sum(ytrain==g)-1)*np.cov(Xtrain[ytrain==g,:],rowvar =False) \n",
    "             for g in np.arange(G)]\n",
    "    S = np.asarray(S)/len(ytrain)\n",
    "\n",
    "    # percentage of missing values\n",
    "    per_missing = np.mean(np.isnan(Xtr_nan))\n",
    "\n",
    "    start = time.time()\n",
    "    Xtr_em = impy.em(Xtr_nan, loops=10)\n",
    "    mus_em = np.array([np.mean(Xtr_em[ytrain==g,:], axis=0) for g in np.arange(G)])\n",
    "    S_em = np.array([(sum(ytrain==g)-1)*np.cov(Xtr_em[ytrain==g,:], rowvar =False) \n",
    "             for g in np.arange(G)])\n",
    "    S_em = S_em/len(ytrain)\n",
    "    em_err = err(mus, S, mus_em, S_em)\n",
    "    em_time = time.time()-start   \n",
    "\n",
    "    return em_err, em_time, per_missing"
   ]
  },
  {
   "cell_type": "code",
   "execution_count": null,
   "metadata": {
    "id": "4l2VuOieLHzD"
   },
   "outputs": [],
   "source": [
    "def compute_err_MICE(Xtrain, ytrain, n, p, G):      \n",
    "    # make NAs\n",
    "    Xtr_nan_list = make_nan_list(Xtrain,ytrain,G, n, p)\n",
    "    # make NA data\n",
    "    # since making function changes the order of observation\n",
    "    # we need to generate new ytr from Xtr_nan    \n",
    "    Xtr_nan, ytr = Xtr_nan_list[0], np.repeat(0, len(Xtr_nan_list[0]))\n",
    "    for g in np.arange(1,G):\n",
    "        Xtr_nan = np.vstack((Xtr_nan, Xtr_nan_list[g]))\n",
    "        ytr = np.hstack((ytr, np.repeat(g, len(Xtr_nan_list[g]))))\n",
    "\n",
    "    scaler = StandardScaler()\n",
    "    scaler.fit(Xtr_nan)\n",
    "    Xtr_nan = scaler.transform(Xtr_nan)\n",
    "    Xtrain = scaler.transform(Xtrain)\n",
    "    for g in range(G):\n",
    "      Xtr_nan_list[g] = scaler.transform(Xtr_nan_list[g])\n",
    "\n",
    "    mus = [np.mean(Xtrain[ytrain==g,:], axis=0) for g in np.arange(G)]\n",
    "    mus = np.asarray(mus) # each row is a mean of a class\n",
    "    S = [(sum(ytrain==g)-1)*np.cov(Xtrain[ytrain==g,:],rowvar =False) \n",
    "             for g in np.arange(G)]\n",
    "    S = np.asarray(S)/len(ytrain)\n",
    "\n",
    "    # percentage of missing values\n",
    "    per_missing = np.mean(np.isnan(Xtr_nan))\n",
    "    # MLEs approach\n",
    "    start = time.time()\n",
    "    Xtr_mice = IterativeImputer(max_iter=10).fit(Xtr_nan).transform(Xtr_nan)\n",
    "    mus_mice = np.asarray([np.mean(Xtr_mice[ytrain==g,:], axis=0\n",
    "                                   ) for g in np.arange(G)])\n",
    "    S_mice = np.asarray([(sum(ytrain==g)-1)*np.cov(Xtr_mice[ytrain==g,:], rowvar =False) \n",
    "             for g in np.arange(G)])\n",
    "    S_mice = S_mice/len(ytrain)\n",
    "    mice_err = err(mus, S, mus_mice, S_mice)\n",
    "    mice_time = time.time()-start  \n",
    "\n",
    "    return mice_err, mice_time, per_missing"
   ]
  },
  {
   "cell_type": "code",
   "execution_count": null,
   "metadata": {
    "id": "6pqzH24ol-Ar"
   },
   "outputs": [],
   "source": [
    "def compute_err_MLE(Xtrain, ytrain, n, p, G):      \n",
    "    # make NAs\n",
    "    Xtr_nan_list = make_nan_list(Xtrain,ytrain,G, n, p)\n",
    "    # make NA data\n",
    "    # since making function changes the order of observation\n",
    "    # we need to generate new ytr from Xtr_nan    \n",
    "    Xtr_nan, ytr = Xtr_nan_list[0], np.repeat(0, len(Xtr_nan_list[0]))\n",
    "    for g in np.arange(1,G):\n",
    "        Xtr_nan = np.vstack((Xtr_nan, Xtr_nan_list[g]))\n",
    "        ytr = np.hstack((ytr, np.repeat(g, len(Xtr_nan_list[g]))))\n",
    "\n",
    "    scaler = StandardScaler()\n",
    "    scaler.fit(Xtr_nan)\n",
    "    Xtr_nan = scaler.transform(Xtr_nan)\n",
    "    Xtrain = scaler.transform(Xtrain)\n",
    "    for g in range(G):\n",
    "      Xtr_nan_list[g] = scaler.transform(Xtr_nan_list[g])\n",
    "\n",
    "    mus = [np.mean(Xtrain[ytrain==g,:], axis=0) for g in np.arange(G)]\n",
    "    mus = np.asarray(mus) # each row is a mean of a class\n",
    "    S = [(sum(ytrain==g)-1)*np.cov(Xtrain[ytrain==g,:],rowvar =False) \n",
    "             for g in np.arange(G)]\n",
    "    S = np.asarray(S)/len(ytrain)\n",
    "\n",
    "    # percentage of missing values\n",
    "    per_missing = np.mean(np.isnan(Xtr_nan))\n",
    "    # MLEs approach\n",
    "    start = time.time()\n",
    "    mus_mle, S_mle = mle(Xtr_nan_list, n, p, G)\n",
    "    mle_err = err(mus, S, mus_mle.T, S_mle)\n",
    "    mle_time = time.time()-start    \n",
    "\n",
    "    return mle_err, mle_time, per_missing"
   ]
  },
  {
   "cell_type": "code",
   "execution_count": null,
   "metadata": {
    "id": "ZB6GFD2lvbbE"
   },
   "outputs": [],
   "source": [
    "def compute_err_SOFT(Xtrain, ytrain, n, p, G):      \n",
    "    # make NAs\n",
    "    Xtr_nan_list = make_nan_list(Xtrain,ytrain,G, n, p)\n",
    "    # make NA data\n",
    "    # since making function changes the order of observation\n",
    "    # we need to generate new ytr from Xtr_nan    \n",
    "    Xtr_nan, ytr = Xtr_nan_list[0], np.repeat(0, len(Xtr_nan_list[0]))\n",
    "    for g in np.arange(1,G):\n",
    "        Xtr_nan = np.vstack((Xtr_nan, Xtr_nan_list[g]))\n",
    "        ytr = np.hstack((ytr, np.repeat(g, len(Xtr_nan_list[g]))))\n",
    "\n",
    "    scaler = StandardScaler()\n",
    "    scaler.fit(Xtr_nan)\n",
    "    Xtr_nan = scaler.transform(Xtr_nan)\n",
    "    Xtrain = scaler.transform(Xtrain)\n",
    "    for g in range(G):\n",
    "      Xtr_nan_list[g] = scaler.transform(Xtr_nan_list[g])\n",
    "\n",
    "    mus = [np.mean(Xtrain[ytrain==g,:], axis=0) for g in np.arange(G)]\n",
    "    mus = np.asarray(mus) # each row is a mean of a class\n",
    "    S = [(sum(ytrain==g)-1)*np.cov(Xtrain[ytrain==g,:],rowvar =False) \n",
    "             for g in np.arange(G)]\n",
    "    S = np.asarray(S)/len(ytrain)\n",
    "\n",
    "    # percentage of missing values\n",
    "    per_missing = np.mean(np.isnan(Xtr_nan))\n",
    "\n",
    "    start = time.time()\n",
    "    Xtr_softimpute = SoftImpute(max_iters = 100).fit_transform(Xtr_nan)\n",
    "    mus_softimpute = np.asarray([np.mean(Xtr_softimpute[ytrain==g,:], axis=0\n",
    "                                         ) for g in np.arange(G)])\n",
    "    S_softimpute = np.asarray([(sum(ytrain==g)-1)*np.cov(Xtr_softimpute[ytrain==g,:], rowvar =False) \n",
    "             for g in np.arange(G)])\n",
    "    S_softimpute = S_softimpute/len(ytrain)\n",
    "    softimpute_err =  err(mus, S, mus_softimpute, S_softimpute)\n",
    "    softimpute_time = time.time()-start    \n",
    "\n",
    "    return softimpute_err, softimpute_time, per_missing"
   ]
  },
  {
   "cell_type": "markdown",
   "metadata": {
    "id": "ORCtMttLn-8J"
   },
   "source": [
    "# Import Fashion MNIST"
   ]
  },
  {
   "cell_type": "code",
   "execution_count": 5,
   "metadata": {
    "colab": {
     "base_uri": "https://localhost:8080/"
    },
    "executionInfo": {
     "elapsed": 2463,
     "status": "ok",
     "timestamp": 1605345908340,
     "user": {
      "displayName": "Thu Nguyễn",
      "photoUrl": "https://lh3.googleusercontent.com/a-/AOh14GjaRl8WgKOjLdrEa69IqFm__Rq7udZ763hhFDl9=s64",
      "userId": "04714273295929622355"
     },
     "user_tz": 360
    },
    "id": "pmzNbWU8n-UW",
    "outputId": "7a1ce1c6-9f2e-4dc3-9362-26c1ac4eedd4"
   },
   "outputs": [
    {
     "name": "stdout",
     "output_type": "stream",
     "text": [
      "Downloading data from https://storage.googleapis.com/tensorflow/tf-keras-datasets/train-labels-idx1-ubyte.gz\n",
      "32768/29515 [=================================] - 0s 0us/step\n",
      "Downloading data from https://storage.googleapis.com/tensorflow/tf-keras-datasets/train-images-idx3-ubyte.gz\n",
      "26427392/26421880 [==============================] - 0s 0us/step\n",
      "Downloading data from https://storage.googleapis.com/tensorflow/tf-keras-datasets/t10k-labels-idx1-ubyte.gz\n",
      "8192/5148 [===============================================] - 0s 0us/step\n",
      "Downloading data from https://storage.googleapis.com/tensorflow/tf-keras-datasets/t10k-images-idx3-ubyte.gz\n",
      "4423680/4422102 [==============================] - 0s 0us/step\n"
     ]
    }
   ],
   "source": [
    "import tensorflow as tf\n",
    "fashion_mnist = tf.keras.datasets.fashion_mnist\n",
    "(Xtrain, ytrain), (Xtest, ytest) = fashion_mnist.load_data()"
   ]
  },
  {
   "cell_type": "code",
   "execution_count": 6,
   "metadata": {
    "executionInfo": {
     "elapsed": 2244,
     "status": "ok",
     "timestamp": 1605345908743,
     "user": {
      "displayName": "Thu Nguyễn",
      "photoUrl": "https://lh3.googleusercontent.com/a-/AOh14GjaRl8WgKOjLdrEa69IqFm__Rq7udZ763hhFDl9=s64",
      "userId": "04714273295929622355"
     },
     "user_tz": 360
    },
    "id": "Q9F0HbRaoVZR"
   },
   "outputs": [],
   "source": [
    "Xtrain = Xtrain.astype(float).reshape((60000,784))\n",
    "Xtest = Xtest.astype(float).reshape((10000,784))\n",
    "\n",
    "X = np.vstack((Xtrain, Xtest))\n",
    "y = np.hstack((ytrain, ytest))\n",
    "\n",
    "# set random seed and shuffle the data\n",
    "np.random.seed(1)\n",
    "idx = np.arange(len(y))\n",
    "np.random.shuffle(idx)\n",
    "X, y = X[idx,:], y[idx]  "
   ]
  },
  {
   "cell_type": "code",
   "execution_count": 7,
   "metadata": {
    "colab": {
     "base_uri": "https://localhost:8080/"
    },
    "executionInfo": {
     "elapsed": 2800,
     "status": "ok",
     "timestamp": 1605345910438,
     "user": {
      "displayName": "Thu Nguyễn",
      "photoUrl": "https://lh3.googleusercontent.com/a-/AOh14GjaRl8WgKOjLdrEa69IqFm__Rq7udZ763hhFDl9=s64",
      "userId": "04714273295929622355"
     },
     "user_tz": 360
    },
    "id": "x_MZbrKUo3JG",
    "outputId": "edd88aff-4bb9-4e22-f7e4-652ad97519fe"
   },
   "outputs": [
    {
     "data": {
      "text/plain": [
       "array([7000, 7000, 7000, 7000, 7000, 7000, 7000, 7000, 7000, 7000])"
      ]
     },
     "execution_count": 7,
     "metadata": {
      "tags": []
     },
     "output_type": "execute_result"
    }
   ],
   "source": [
    "# number of sample per class in training data\n",
    "ng = np.asarray([sum(y==i) for i in np.arange(10)])\n",
    "ng"
   ]
  },
  {
   "cell_type": "markdown",
   "metadata": {
    "id": "Yogx2GqgqOOE"
   },
   "source": [
    "### 20%"
   ]
  },
  {
   "cell_type": "code",
   "execution_count": null,
   "metadata": {
    "colab": {
     "base_uri": "https://localhost:8080/"
    },
    "executionInfo": {
     "elapsed": 1811,
     "status": "ok",
     "timestamp": 1605322052682,
     "user": {
      "displayName": "Thu Nguyễn",
      "photoUrl": "https://lh3.googleusercontent.com/a-/AOh14GjaRl8WgKOjLdrEa69IqFm__Rq7udZ763hhFDl9=s64",
      "userId": "04714273295929622355"
     },
     "user_tz": 360
    },
    "id": "VuOauwVRqRJc",
    "outputId": "2f24749c-b580-4bde-c8cf-5adf01bfd91a"
   },
   "outputs": [
    {
     "data": {
      "text/plain": [
       "0.20280612244897958"
      ]
     },
     "execution_count": 15,
     "metadata": {
      "tags": []
     },
     "output_type": "execute_result"
    }
   ],
   "source": [
    "n = np.hstack((ng.reshape((-1,1)), np.tile([5000,4500,4200, 4000],\n",
    "                                 10).reshape((10,-1))))\n",
    "p = np.array([380,450,500, 520,784])   \n",
    "missing_rate(X, y, n, p, 10)"
   ]
  },
  {
   "cell_type": "code",
   "execution_count": null,
   "metadata": {
    "colab": {
     "base_uri": "https://localhost:8080/"
    },
    "executionInfo": {
     "elapsed": 9689,
     "status": "ok",
     "timestamp": 1605322074320,
     "user": {
      "displayName": "Thu Nguyễn",
      "photoUrl": "https://lh3.googleusercontent.com/a-/AOh14GjaRl8WgKOjLdrEa69IqFm__Rq7udZ763hhFDl9=s64",
      "userId": "04714273295929622355"
     },
     "user_tz": 360
    },
    "id": "-pAcmGFpqPxE",
    "outputId": "30cfef9a-5aef-4d0c-b9bc-db9ac21f3670"
   },
   "outputs": [
    {
     "data": {
      "text/plain": [
       "(0.00010190720380898267, 2.4604036808013916, 0.20280612244897958)"
      ]
     },
     "execution_count": 16,
     "metadata": {
      "tags": []
     },
     "output_type": "execute_result"
    }
   ],
   "source": [
    "compute_err_MLE(X, y, n, p, 10)"
   ]
  },
  {
   "cell_type": "code",
   "execution_count": null,
   "metadata": {
    "colab": {
     "base_uri": "https://localhost:8080/"
    },
    "executionInfo": {
     "elapsed": 903533,
     "status": "ok",
     "timestamp": 1605322972587,
     "user": {
      "displayName": "Thu Nguyễn",
      "photoUrl": "https://lh3.googleusercontent.com/a-/AOh14GjaRl8WgKOjLdrEa69IqFm__Rq7udZ763hhFDl9=s64",
      "userId": "04714273295929622355"
     },
     "user_tz": 360
    },
    "id": "9H2CqXt8yyjM",
    "outputId": "9a0d770a-d2f9-4879-a959-4971178ccf5a"
   },
   "outputs": [
    {
     "name": "stdout",
     "output_type": "stream",
     "text": [
      "[SoftImpute] Max Singular Value of X_init = 3033.101261\n",
      "[SoftImpute] Iter 1: observed MAE=0.122119 rank=503\n",
      "[SoftImpute] Iter 2: observed MAE=0.122205 rank=497\n",
      "[SoftImpute] Iter 3: observed MAE=0.122250 rank=495\n",
      "[SoftImpute] Iter 4: observed MAE=0.122268 rank=494\n",
      "[SoftImpute] Iter 5: observed MAE=0.122273 rank=494\n",
      "[SoftImpute] Iter 6: observed MAE=0.122270 rank=493\n",
      "[SoftImpute] Iter 7: observed MAE=0.122264 rank=493\n",
      "[SoftImpute] Iter 8: observed MAE=0.122256 rank=493\n",
      "[SoftImpute] Iter 9: observed MAE=0.122247 rank=493\n",
      "[SoftImpute] Iter 10: observed MAE=0.122237 rank=493\n",
      "[SoftImpute] Iter 11: observed MAE=0.122228 rank=493\n",
      "[SoftImpute] Iter 12: observed MAE=0.122218 rank=493\n",
      "[SoftImpute] Iter 13: observed MAE=0.122209 rank=493\n",
      "[SoftImpute] Iter 14: observed MAE=0.122200 rank=493\n",
      "[SoftImpute] Iter 15: observed MAE=0.122191 rank=493\n",
      "[SoftImpute] Iter 16: observed MAE=0.122182 rank=493\n",
      "[SoftImpute] Iter 17: observed MAE=0.122174 rank=493\n",
      "[SoftImpute] Iter 18: observed MAE=0.122166 rank=493\n",
      "[SoftImpute] Iter 19: observed MAE=0.122159 rank=493\n",
      "[SoftImpute] Iter 20: observed MAE=0.122151 rank=493\n",
      "[SoftImpute] Iter 21: observed MAE=0.122144 rank=493\n",
      "[SoftImpute] Iter 22: observed MAE=0.122138 rank=493\n",
      "[SoftImpute] Iter 23: observed MAE=0.122131 rank=493\n",
      "[SoftImpute] Iter 24: observed MAE=0.122125 rank=493\n",
      "[SoftImpute] Iter 25: observed MAE=0.122119 rank=493\n",
      "[SoftImpute] Iter 26: observed MAE=0.122114 rank=493\n",
      "[SoftImpute] Iter 27: observed MAE=0.122108 rank=493\n",
      "[SoftImpute] Iter 28: observed MAE=0.122103 rank=493\n",
      "[SoftImpute] Iter 29: observed MAE=0.122098 rank=493\n",
      "[SoftImpute] Iter 30: observed MAE=0.122093 rank=493\n",
      "[SoftImpute] Iter 31: observed MAE=0.122088 rank=493\n",
      "[SoftImpute] Iter 32: observed MAE=0.122084 rank=493\n",
      "[SoftImpute] Iter 33: observed MAE=0.122080 rank=493\n",
      "[SoftImpute] Iter 34: observed MAE=0.122076 rank=493\n",
      "[SoftImpute] Iter 35: observed MAE=0.122072 rank=493\n",
      "[SoftImpute] Iter 36: observed MAE=0.122068 rank=493\n",
      "[SoftImpute] Iter 37: observed MAE=0.122064 rank=493\n",
      "[SoftImpute] Iter 38: observed MAE=0.122061 rank=493\n",
      "[SoftImpute] Iter 39: observed MAE=0.122057 rank=493\n",
      "[SoftImpute] Iter 40: observed MAE=0.122054 rank=493\n",
      "[SoftImpute] Iter 41: observed MAE=0.122051 rank=493\n",
      "[SoftImpute] Iter 42: observed MAE=0.122048 rank=493\n",
      "[SoftImpute] Iter 43: observed MAE=0.122045 rank=493\n",
      "[SoftImpute] Iter 44: observed MAE=0.122042 rank=493\n",
      "[SoftImpute] Iter 45: observed MAE=0.122039 rank=493\n",
      "[SoftImpute] Iter 46: observed MAE=0.122037 rank=493\n",
      "[SoftImpute] Iter 47: observed MAE=0.122034 rank=493\n",
      "[SoftImpute] Iter 48: observed MAE=0.122032 rank=493\n",
      "[SoftImpute] Iter 49: observed MAE=0.122029 rank=493\n",
      "[SoftImpute] Iter 50: observed MAE=0.122027 rank=493\n",
      "[SoftImpute] Iter 51: observed MAE=0.122025 rank=493\n",
      "[SoftImpute] Iter 52: observed MAE=0.122023 rank=493\n",
      "[SoftImpute] Iter 53: observed MAE=0.122021 rank=493\n",
      "[SoftImpute] Iter 54: observed MAE=0.122019 rank=493\n",
      "[SoftImpute] Iter 55: observed MAE=0.122017 rank=493\n",
      "[SoftImpute] Iter 56: observed MAE=0.122015 rank=493\n",
      "[SoftImpute] Iter 57: observed MAE=0.122014 rank=493\n",
      "[SoftImpute] Iter 58: observed MAE=0.122012 rank=493\n",
      "[SoftImpute] Iter 59: observed MAE=0.122010 rank=493\n",
      "[SoftImpute] Iter 60: observed MAE=0.122009 rank=493\n",
      "[SoftImpute] Iter 61: observed MAE=0.122007 rank=493\n",
      "[SoftImpute] Iter 62: observed MAE=0.122006 rank=493\n",
      "[SoftImpute] Iter 63: observed MAE=0.122005 rank=493\n",
      "[SoftImpute] Iter 64: observed MAE=0.122003 rank=493\n",
      "[SoftImpute] Iter 65: observed MAE=0.122002 rank=493\n",
      "[SoftImpute] Iter 66: observed MAE=0.122001 rank=493\n",
      "[SoftImpute] Iter 67: observed MAE=0.122000 rank=493\n",
      "[SoftImpute] Iter 68: observed MAE=0.121998 rank=493\n",
      "[SoftImpute] Iter 69: observed MAE=0.121997 rank=493\n",
      "[SoftImpute] Iter 70: observed MAE=0.121996 rank=493\n",
      "[SoftImpute] Iter 71: observed MAE=0.121995 rank=493\n",
      "[SoftImpute] Iter 72: observed MAE=0.121994 rank=493\n",
      "[SoftImpute] Iter 73: observed MAE=0.121993 rank=493\n",
      "[SoftImpute] Iter 74: observed MAE=0.121992 rank=493\n",
      "[SoftImpute] Iter 75: observed MAE=0.121991 rank=493\n",
      "[SoftImpute] Iter 76: observed MAE=0.121991 rank=493\n",
      "[SoftImpute] Iter 77: observed MAE=0.121990 rank=493\n",
      "[SoftImpute] Iter 78: observed MAE=0.121989 rank=493\n",
      "[SoftImpute] Iter 79: observed MAE=0.121988 rank=493\n",
      "[SoftImpute] Iter 80: observed MAE=0.121988 rank=493\n",
      "[SoftImpute] Iter 81: observed MAE=0.121987 rank=493\n",
      "[SoftImpute] Iter 82: observed MAE=0.121986 rank=493\n",
      "[SoftImpute] Iter 83: observed MAE=0.121985 rank=493\n",
      "[SoftImpute] Iter 84: observed MAE=0.121985 rank=493\n",
      "[SoftImpute] Iter 85: observed MAE=0.121984 rank=493\n",
      "[SoftImpute] Iter 86: observed MAE=0.121984 rank=493\n",
      "[SoftImpute] Iter 87: observed MAE=0.121983 rank=493\n",
      "[SoftImpute] Iter 88: observed MAE=0.121982 rank=493\n",
      "[SoftImpute] Iter 89: observed MAE=0.121982 rank=493\n",
      "[SoftImpute] Iter 90: observed MAE=0.121981 rank=493\n",
      "[SoftImpute] Iter 91: observed MAE=0.121981 rank=493\n",
      "[SoftImpute] Iter 92: observed MAE=0.121980 rank=493\n",
      "[SoftImpute] Iter 93: observed MAE=0.121980 rank=493\n",
      "[SoftImpute] Iter 94: observed MAE=0.121980 rank=493\n",
      "[SoftImpute] Iter 95: observed MAE=0.121979 rank=493\n",
      "[SoftImpute] Iter 96: observed MAE=0.121979 rank=493\n",
      "[SoftImpute] Stopped after iteration 96 for lambda=60.662025\n"
     ]
    },
    {
     "data": {
      "text/plain": [
       "(0.0064376999163578, 892.3388366699219, 0.20280612244897958)"
      ]
     },
     "execution_count": 17,
     "metadata": {
      "tags": []
     },
     "output_type": "execute_result"
    }
   ],
   "source": [
    "compute_err_SOFT(X, y, n, p, 10)"
   ]
  },
  {
   "cell_type": "markdown",
   "metadata": {
    "id": "k3us3LxFuzoS"
   },
   "source": [
    "### 30%"
   ]
  },
  {
   "cell_type": "code",
   "execution_count": null,
   "metadata": {
    "colab": {
     "base_uri": "https://localhost:8080/"
    },
    "executionInfo": {
     "elapsed": 1578,
     "status": "ok",
     "timestamp": 1605323028834,
     "user": {
      "displayName": "Thu Nguyễn",
      "photoUrl": "https://lh3.googleusercontent.com/a-/AOh14GjaRl8WgKOjLdrEa69IqFm__Rq7udZ763hhFDl9=s64",
      "userId": "04714273295929622355"
     },
     "user_tz": 360
    },
    "id": "mDpQc9YItJR0",
    "outputId": "38b5148a-dd30-4b2c-e60a-3fa31bdff718"
   },
   "outputs": [
    {
     "data": {
      "text/plain": [
       "0.30317055393586007"
      ]
     },
     "execution_count": 18,
     "metadata": {
      "tags": []
     },
     "output_type": "execute_result"
    }
   ],
   "source": [
    "    n = np.hstack((ng.reshape((-1,1)), np.tile([4000,3500,3000, 2800],\n",
    "                                 10).reshape((10,-1))))\n",
    "    p = np.array([350,450,500, 520,784])   \n",
    "    missing_rate(X, y, n, p, 10)"
   ]
  },
  {
   "cell_type": "code",
   "execution_count": null,
   "metadata": {
    "colab": {
     "base_uri": "https://localhost:8080/"
    },
    "executionInfo": {
     "elapsed": 9053,
     "status": "ok",
     "timestamp": 1605323041434,
     "user": {
      "displayName": "Thu Nguyễn",
      "photoUrl": "https://lh3.googleusercontent.com/a-/AOh14GjaRl8WgKOjLdrEa69IqFm__Rq7udZ763hhFDl9=s64",
      "userId": "04714273295929622355"
     },
     "user_tz": 360
    },
    "id": "1gM7Fh7auybP",
    "outputId": "7140cdc5-be9d-4cff-ac0d-ca455a9bbb57"
   },
   "outputs": [
    {
     "data": {
      "text/plain": [
       "(0.00012185129481936274, 1.9895505905151367, 0.30317055393586007)"
      ]
     },
     "execution_count": 19,
     "metadata": {
      "tags": []
     },
     "output_type": "execute_result"
    }
   ],
   "source": [
    "compute_err_MLE(X, y, n, p, 10)"
   ]
  },
  {
   "cell_type": "code",
   "execution_count": null,
   "metadata": {
    "colab": {
     "base_uri": "https://localhost:8080/"
    },
    "executionInfo": {
     "elapsed": 933749,
     "status": "ok",
     "timestamp": 1605323967579,
     "user": {
      "displayName": "Thu Nguyễn",
      "photoUrl": "https://lh3.googleusercontent.com/a-/AOh14GjaRl8WgKOjLdrEa69IqFm__Rq7udZ763hhFDl9=s64",
      "userId": "04714273295929622355"
     },
     "user_tz": 360
    },
    "id": "fY1IPp3X5fcD",
    "outputId": "0f4584a0-1f76-4d0c-e602-7fe5b2c155ff"
   },
   "outputs": [
    {
     "name": "stdout",
     "output_type": "stream",
     "text": [
      "[SoftImpute] Max Singular Value of X_init = 2853.791506\n",
      "[SoftImpute] Iter 1: observed MAE=0.120633 rank=492\n",
      "[SoftImpute] Iter 2: observed MAE=0.120694 rank=486\n",
      "[SoftImpute] Iter 3: observed MAE=0.120740 rank=483\n",
      "[SoftImpute] Iter 4: observed MAE=0.120762 rank=482\n",
      "[SoftImpute] Iter 5: observed MAE=0.120770 rank=481\n",
      "[SoftImpute] Iter 6: observed MAE=0.120770 rank=480\n",
      "[SoftImpute] Iter 7: observed MAE=0.120766 rank=479\n",
      "[SoftImpute] Iter 8: observed MAE=0.120759 rank=479\n",
      "[SoftImpute] Iter 9: observed MAE=0.120750 rank=479\n",
      "[SoftImpute] Iter 10: observed MAE=0.120741 rank=479\n",
      "[SoftImpute] Iter 11: observed MAE=0.120732 rank=479\n",
      "[SoftImpute] Iter 12: observed MAE=0.120723 rank=479\n",
      "[SoftImpute] Iter 13: observed MAE=0.120714 rank=478\n",
      "[SoftImpute] Iter 14: observed MAE=0.120705 rank=478\n",
      "[SoftImpute] Iter 15: observed MAE=0.120697 rank=478\n",
      "[SoftImpute] Iter 16: observed MAE=0.120688 rank=478\n",
      "[SoftImpute] Iter 17: observed MAE=0.120680 rank=478\n",
      "[SoftImpute] Iter 18: observed MAE=0.120672 rank=478\n",
      "[SoftImpute] Iter 19: observed MAE=0.120665 rank=478\n",
      "[SoftImpute] Iter 20: observed MAE=0.120658 rank=478\n",
      "[SoftImpute] Iter 21: observed MAE=0.120651 rank=478\n",
      "[SoftImpute] Iter 22: observed MAE=0.120644 rank=478\n",
      "[SoftImpute] Iter 23: observed MAE=0.120638 rank=478\n",
      "[SoftImpute] Iter 24: observed MAE=0.120632 rank=478\n",
      "[SoftImpute] Iter 25: observed MAE=0.120626 rank=478\n",
      "[SoftImpute] Iter 26: observed MAE=0.120620 rank=478\n",
      "[SoftImpute] Iter 27: observed MAE=0.120615 rank=478\n",
      "[SoftImpute] Iter 28: observed MAE=0.120610 rank=478\n",
      "[SoftImpute] Iter 29: observed MAE=0.120605 rank=478\n",
      "[SoftImpute] Iter 30: observed MAE=0.120600 rank=478\n",
      "[SoftImpute] Iter 31: observed MAE=0.120595 rank=478\n",
      "[SoftImpute] Iter 32: observed MAE=0.120590 rank=478\n",
      "[SoftImpute] Iter 33: observed MAE=0.120586 rank=478\n",
      "[SoftImpute] Iter 34: observed MAE=0.120582 rank=478\n",
      "[SoftImpute] Iter 35: observed MAE=0.120578 rank=478\n",
      "[SoftImpute] Iter 36: observed MAE=0.120574 rank=478\n",
      "[SoftImpute] Iter 37: observed MAE=0.120570 rank=478\n",
      "[SoftImpute] Iter 38: observed MAE=0.120567 rank=478\n",
      "[SoftImpute] Iter 39: observed MAE=0.120563 rank=478\n",
      "[SoftImpute] Iter 40: observed MAE=0.120560 rank=478\n",
      "[SoftImpute] Iter 41: observed MAE=0.120556 rank=478\n",
      "[SoftImpute] Iter 42: observed MAE=0.120553 rank=478\n",
      "[SoftImpute] Iter 43: observed MAE=0.120550 rank=478\n",
      "[SoftImpute] Iter 44: observed MAE=0.120547 rank=478\n",
      "[SoftImpute] Iter 45: observed MAE=0.120544 rank=478\n",
      "[SoftImpute] Iter 46: observed MAE=0.120541 rank=478\n",
      "[SoftImpute] Iter 47: observed MAE=0.120539 rank=478\n",
      "[SoftImpute] Iter 48: observed MAE=0.120536 rank=478\n",
      "[SoftImpute] Iter 49: observed MAE=0.120534 rank=478\n",
      "[SoftImpute] Iter 50: observed MAE=0.120531 rank=478\n",
      "[SoftImpute] Iter 51: observed MAE=0.120529 rank=478\n",
      "[SoftImpute] Iter 52: observed MAE=0.120527 rank=478\n",
      "[SoftImpute] Iter 53: observed MAE=0.120524 rank=478\n",
      "[SoftImpute] Iter 54: observed MAE=0.120522 rank=478\n",
      "[SoftImpute] Iter 55: observed MAE=0.120520 rank=478\n",
      "[SoftImpute] Iter 56: observed MAE=0.120518 rank=478\n",
      "[SoftImpute] Iter 57: observed MAE=0.120516 rank=478\n",
      "[SoftImpute] Iter 58: observed MAE=0.120514 rank=478\n",
      "[SoftImpute] Iter 59: observed MAE=0.120512 rank=478\n",
      "[SoftImpute] Iter 60: observed MAE=0.120511 rank=478\n",
      "[SoftImpute] Iter 61: observed MAE=0.120509 rank=478\n",
      "[SoftImpute] Iter 62: observed MAE=0.120507 rank=478\n",
      "[SoftImpute] Iter 63: observed MAE=0.120506 rank=478\n",
      "[SoftImpute] Iter 64: observed MAE=0.120504 rank=478\n",
      "[SoftImpute] Iter 65: observed MAE=0.120503 rank=478\n",
      "[SoftImpute] Iter 66: observed MAE=0.120501 rank=478\n",
      "[SoftImpute] Iter 67: observed MAE=0.120500 rank=478\n",
      "[SoftImpute] Iter 68: observed MAE=0.120498 rank=478\n",
      "[SoftImpute] Iter 69: observed MAE=0.120497 rank=478\n",
      "[SoftImpute] Iter 70: observed MAE=0.120496 rank=478\n",
      "[SoftImpute] Iter 71: observed MAE=0.120494 rank=478\n",
      "[SoftImpute] Iter 72: observed MAE=0.120493 rank=478\n",
      "[SoftImpute] Iter 73: observed MAE=0.120492 rank=478\n",
      "[SoftImpute] Iter 74: observed MAE=0.120491 rank=478\n",
      "[SoftImpute] Iter 75: observed MAE=0.120490 rank=478\n",
      "[SoftImpute] Iter 76: observed MAE=0.120489 rank=478\n",
      "[SoftImpute] Iter 77: observed MAE=0.120488 rank=478\n",
      "[SoftImpute] Iter 78: observed MAE=0.120487 rank=478\n",
      "[SoftImpute] Iter 79: observed MAE=0.120486 rank=478\n",
      "[SoftImpute] Iter 80: observed MAE=0.120485 rank=478\n",
      "[SoftImpute] Iter 81: observed MAE=0.120484 rank=478\n",
      "[SoftImpute] Iter 82: observed MAE=0.120483 rank=478\n",
      "[SoftImpute] Iter 83: observed MAE=0.120482 rank=478\n",
      "[SoftImpute] Iter 84: observed MAE=0.120481 rank=478\n",
      "[SoftImpute] Iter 85: observed MAE=0.120480 rank=478\n",
      "[SoftImpute] Iter 86: observed MAE=0.120479 rank=478\n",
      "[SoftImpute] Iter 87: observed MAE=0.120479 rank=478\n",
      "[SoftImpute] Iter 88: observed MAE=0.120478 rank=478\n",
      "[SoftImpute] Iter 89: observed MAE=0.120477 rank=478\n",
      "[SoftImpute] Iter 90: observed MAE=0.120477 rank=478\n",
      "[SoftImpute] Iter 91: observed MAE=0.120476 rank=478\n",
      "[SoftImpute] Iter 92: observed MAE=0.120475 rank=478\n",
      "[SoftImpute] Iter 93: observed MAE=0.120475 rank=478\n",
      "[SoftImpute] Iter 94: observed MAE=0.120474 rank=478\n",
      "[SoftImpute] Iter 95: observed MAE=0.120473 rank=478\n",
      "[SoftImpute] Iter 96: observed MAE=0.120473 rank=478\n",
      "[SoftImpute] Iter 97: observed MAE=0.120472 rank=478\n",
      "[SoftImpute] Iter 98: observed MAE=0.120472 rank=478\n",
      "[SoftImpute] Iter 99: observed MAE=0.120471 rank=478\n",
      "[SoftImpute] Iter 100: observed MAE=0.120471 rank=478\n",
      "[SoftImpute] Stopped after iteration 100 for lambda=57.075830\n"
     ]
    },
    {
     "data": {
      "text/plain": [
       "(0.006434659425644326, 920.1538162231445, 0.30317055393586007)"
      ]
     },
     "execution_count": 20,
     "metadata": {
      "tags": []
     },
     "output_type": "execute_result"
    }
   ],
   "source": [
    "compute_err_SOFT(X, y, n, p, 10)"
   ]
  },
  {
   "cell_type": "markdown",
   "metadata": {
    "id": "ZILx8177vKsh"
   },
   "source": [
    "## 40%"
   ]
  },
  {
   "cell_type": "code",
   "execution_count": null,
   "metadata": {
    "colab": {
     "base_uri": "https://localhost:8080/"
    },
    "executionInfo": {
     "elapsed": 1626,
     "status": "ok",
     "timestamp": 1605324230831,
     "user": {
      "displayName": "Thu Nguyễn",
      "photoUrl": "https://lh3.googleusercontent.com/a-/AOh14GjaRl8WgKOjLdrEa69IqFm__Rq7udZ763hhFDl9=s64",
      "userId": "04714273295929622355"
     },
     "user_tz": 360
    },
    "id": "dEkeZuU4u6Cq",
    "outputId": "16ce2688-81f8-45a8-cfe8-515243cf55cf"
   },
   "outputs": [
    {
     "data": {
      "text/plain": [
       "0.398432944606414"
      ]
     },
     "execution_count": 21,
     "metadata": {
      "tags": []
     },
     "output_type": "execute_result"
    }
   ],
   "source": [
    "n = np.hstack((ng.reshape((-1,1)), np.tile([4500,3490,3350, 3100],\n",
    "                                 10).reshape((10,-1))))\n",
    "p = np.array([180,250,400, 450,784])   \n",
    "missing_rate(X, y, n, p, 10)"
   ]
  },
  {
   "cell_type": "code",
   "execution_count": null,
   "metadata": {
    "colab": {
     "base_uri": "https://localhost:8080/"
    },
    "executionInfo": {
     "elapsed": 8443,
     "status": "ok",
     "timestamp": 1605324240095,
     "user": {
      "displayName": "Thu Nguyễn",
      "photoUrl": "https://lh3.googleusercontent.com/a-/AOh14GjaRl8WgKOjLdrEa69IqFm__Rq7udZ763hhFDl9=s64",
      "userId": "04714273295929622355"
     },
     "user_tz": 360
    },
    "id": "YwOKhnGpvJKX",
    "outputId": "b575e7cc-3c3b-4ee8-b512-9409255aed49"
   },
   "outputs": [
    {
     "data": {
      "text/plain": [
       "(0.00013589292309761314, 1.5331597328186035, 0.398432944606414)"
      ]
     },
     "execution_count": 22,
     "metadata": {
      "tags": []
     },
     "output_type": "execute_result"
    }
   ],
   "source": [
    "compute_err_MLE(X, y, n, p, 10)"
   ]
  },
  {
   "cell_type": "code",
   "execution_count": null,
   "metadata": {
    "colab": {
     "base_uri": "https://localhost:8080/"
    },
    "executionInfo": {
     "elapsed": 958257,
     "status": "ok",
     "timestamp": 1605325191525,
     "user": {
      "displayName": "Thu Nguyễn",
      "photoUrl": "https://lh3.googleusercontent.com/a-/AOh14GjaRl8WgKOjLdrEa69IqFm__Rq7udZ763hhFDl9=s64",
      "userId": "04714273295929622355"
     },
     "user_tz": 360
    },
    "id": "9EAlV-IYAPVA",
    "outputId": "0a4af28b-dd2c-4db8-f03f-5128968cc5aa"
   },
   "outputs": [
    {
     "name": "stdout",
     "output_type": "stream",
     "text": [
      "[SoftImpute] Max Singular Value of X_init = 2565.429677\n",
      "[SoftImpute] Iter 1: observed MAE=0.117258 rank=501\n",
      "[SoftImpute] Iter 2: observed MAE=0.117371 rank=495\n",
      "[SoftImpute] Iter 3: observed MAE=0.117440 rank=494\n",
      "[SoftImpute] Iter 4: observed MAE=0.117476 rank=493\n",
      "[SoftImpute] Iter 5: observed MAE=0.117494 rank=492\n",
      "[SoftImpute] Iter 6: observed MAE=0.117501 rank=492\n",
      "[SoftImpute] Iter 7: observed MAE=0.117502 rank=492\n",
      "[SoftImpute] Iter 8: observed MAE=0.117499 rank=492\n",
      "[SoftImpute] Iter 9: observed MAE=0.117494 rank=492\n",
      "[SoftImpute] Iter 10: observed MAE=0.117487 rank=492\n",
      "[SoftImpute] Iter 11: observed MAE=0.117480 rank=492\n",
      "[SoftImpute] Iter 12: observed MAE=0.117472 rank=492\n",
      "[SoftImpute] Iter 13: observed MAE=0.117464 rank=492\n",
      "[SoftImpute] Iter 14: observed MAE=0.117456 rank=492\n",
      "[SoftImpute] Iter 15: observed MAE=0.117448 rank=492\n",
      "[SoftImpute] Iter 16: observed MAE=0.117440 rank=492\n",
      "[SoftImpute] Iter 17: observed MAE=0.117432 rank=492\n",
      "[SoftImpute] Iter 18: observed MAE=0.117424 rank=492\n",
      "[SoftImpute] Iter 19: observed MAE=0.117417 rank=492\n",
      "[SoftImpute] Iter 20: observed MAE=0.117410 rank=492\n",
      "[SoftImpute] Iter 21: observed MAE=0.117403 rank=492\n",
      "[SoftImpute] Iter 22: observed MAE=0.117396 rank=492\n",
      "[SoftImpute] Iter 23: observed MAE=0.117389 rank=492\n",
      "[SoftImpute] Iter 24: observed MAE=0.117383 rank=492\n",
      "[SoftImpute] Iter 25: observed MAE=0.117377 rank=492\n",
      "[SoftImpute] Iter 26: observed MAE=0.117371 rank=492\n",
      "[SoftImpute] Iter 27: observed MAE=0.117366 rank=492\n",
      "[SoftImpute] Iter 28: observed MAE=0.117361 rank=492\n",
      "[SoftImpute] Iter 29: observed MAE=0.117355 rank=492\n",
      "[SoftImpute] Iter 30: observed MAE=0.117351 rank=491\n",
      "[SoftImpute] Iter 31: observed MAE=0.117346 rank=491\n",
      "[SoftImpute] Iter 32: observed MAE=0.117341 rank=491\n",
      "[SoftImpute] Iter 33: observed MAE=0.117337 rank=491\n",
      "[SoftImpute] Iter 34: observed MAE=0.117333 rank=491\n",
      "[SoftImpute] Iter 35: observed MAE=0.117329 rank=491\n",
      "[SoftImpute] Iter 36: observed MAE=0.117325 rank=491\n",
      "[SoftImpute] Iter 37: observed MAE=0.117321 rank=491\n",
      "[SoftImpute] Iter 38: observed MAE=0.117318 rank=491\n",
      "[SoftImpute] Iter 39: observed MAE=0.117314 rank=491\n",
      "[SoftImpute] Iter 40: observed MAE=0.117311 rank=491\n",
      "[SoftImpute] Iter 41: observed MAE=0.117308 rank=491\n",
      "[SoftImpute] Iter 42: observed MAE=0.117305 rank=491\n",
      "[SoftImpute] Iter 43: observed MAE=0.117302 rank=491\n",
      "[SoftImpute] Iter 44: observed MAE=0.117299 rank=491\n",
      "[SoftImpute] Iter 45: observed MAE=0.117296 rank=491\n",
      "[SoftImpute] Iter 46: observed MAE=0.117293 rank=491\n",
      "[SoftImpute] Iter 47: observed MAE=0.117291 rank=491\n",
      "[SoftImpute] Iter 48: observed MAE=0.117288 rank=491\n",
      "[SoftImpute] Iter 49: observed MAE=0.117286 rank=491\n",
      "[SoftImpute] Iter 50: observed MAE=0.117283 rank=491\n",
      "[SoftImpute] Iter 51: observed MAE=0.117281 rank=491\n",
      "[SoftImpute] Iter 52: observed MAE=0.117279 rank=491\n",
      "[SoftImpute] Iter 53: observed MAE=0.117277 rank=491\n",
      "[SoftImpute] Iter 54: observed MAE=0.117275 rank=491\n",
      "[SoftImpute] Iter 55: observed MAE=0.117273 rank=491\n",
      "[SoftImpute] Iter 56: observed MAE=0.117271 rank=491\n",
      "[SoftImpute] Iter 57: observed MAE=0.117269 rank=491\n",
      "[SoftImpute] Iter 58: observed MAE=0.117267 rank=491\n",
      "[SoftImpute] Iter 59: observed MAE=0.117265 rank=491\n",
      "[SoftImpute] Iter 60: observed MAE=0.117263 rank=491\n",
      "[SoftImpute] Iter 61: observed MAE=0.117262 rank=491\n",
      "[SoftImpute] Iter 62: observed MAE=0.117260 rank=491\n",
      "[SoftImpute] Iter 63: observed MAE=0.117258 rank=491\n",
      "[SoftImpute] Iter 64: observed MAE=0.117257 rank=491\n",
      "[SoftImpute] Iter 65: observed MAE=0.117255 rank=491\n",
      "[SoftImpute] Iter 66: observed MAE=0.117254 rank=491\n",
      "[SoftImpute] Iter 67: observed MAE=0.117253 rank=491\n",
      "[SoftImpute] Iter 68: observed MAE=0.117251 rank=491\n",
      "[SoftImpute] Iter 69: observed MAE=0.117250 rank=491\n",
      "[SoftImpute] Iter 70: observed MAE=0.117248 rank=491\n",
      "[SoftImpute] Iter 71: observed MAE=0.117247 rank=491\n",
      "[SoftImpute] Iter 72: observed MAE=0.117246 rank=491\n",
      "[SoftImpute] Iter 73: observed MAE=0.117245 rank=491\n",
      "[SoftImpute] Iter 74: observed MAE=0.117244 rank=491\n",
      "[SoftImpute] Iter 75: observed MAE=0.117242 rank=491\n",
      "[SoftImpute] Iter 76: observed MAE=0.117241 rank=491\n",
      "[SoftImpute] Iter 77: observed MAE=0.117240 rank=491\n",
      "[SoftImpute] Iter 78: observed MAE=0.117239 rank=491\n",
      "[SoftImpute] Iter 79: observed MAE=0.117238 rank=491\n",
      "[SoftImpute] Iter 80: observed MAE=0.117237 rank=491\n",
      "[SoftImpute] Iter 81: observed MAE=0.117236 rank=491\n",
      "[SoftImpute] Iter 82: observed MAE=0.117235 rank=491\n",
      "[SoftImpute] Iter 83: observed MAE=0.117234 rank=491\n",
      "[SoftImpute] Iter 84: observed MAE=0.117233 rank=491\n",
      "[SoftImpute] Iter 85: observed MAE=0.117232 rank=491\n",
      "[SoftImpute] Iter 86: observed MAE=0.117232 rank=491\n",
      "[SoftImpute] Iter 87: observed MAE=0.117231 rank=491\n",
      "[SoftImpute] Iter 88: observed MAE=0.117230 rank=491\n",
      "[SoftImpute] Iter 89: observed MAE=0.117229 rank=491\n",
      "[SoftImpute] Iter 90: observed MAE=0.117228 rank=491\n",
      "[SoftImpute] Iter 91: observed MAE=0.117228 rank=491\n",
      "[SoftImpute] Iter 92: observed MAE=0.117227 rank=491\n",
      "[SoftImpute] Iter 93: observed MAE=0.117226 rank=491\n",
      "[SoftImpute] Iter 94: observed MAE=0.117225 rank=491\n",
      "[SoftImpute] Iter 95: observed MAE=0.117225 rank=491\n",
      "[SoftImpute] Iter 96: observed MAE=0.117224 rank=491\n",
      "[SoftImpute] Iter 97: observed MAE=0.117223 rank=491\n",
      "[SoftImpute] Iter 98: observed MAE=0.117223 rank=491\n",
      "[SoftImpute] Iter 99: observed MAE=0.117222 rank=491\n",
      "[SoftImpute] Iter 100: observed MAE=0.117222 rank=491\n",
      "[SoftImpute] Stopped after iteration 100 for lambda=51.308594\n"
     ]
    },
    {
     "data": {
      "text/plain": [
       "(0.006428482656460864, 945.2519092559814, 0.398432944606414)"
      ]
     },
     "execution_count": 23,
     "metadata": {
      "tags": []
     },
     "output_type": "execute_result"
    }
   ],
   "source": [
    "compute_err_SOFT(X, y, n, p, 10)"
   ]
  },
  {
   "cell_type": "markdown",
   "metadata": {
    "id": "zi4yr_OP3Rze"
   },
   "source": [
    "## 50%"
   ]
  },
  {
   "cell_type": "code",
   "execution_count": null,
   "metadata": {
    "colab": {
     "base_uri": "https://localhost:8080/"
    },
    "executionInfo": {
     "elapsed": 1535,
     "status": "ok",
     "timestamp": 1605325363385,
     "user": {
      "displayName": "Thu Nguyễn",
      "photoUrl": "https://lh3.googleusercontent.com/a-/AOh14GjaRl8WgKOjLdrEa69IqFm__Rq7udZ763hhFDl9=s64",
      "userId": "04714273295929622355"
     },
     "user_tz": 360
    },
    "id": "hJZ0OioKAQtG",
    "outputId": "94895249-eb6a-4b26-e78a-fb5096e1e57d"
   },
   "outputs": [
    {
     "data": {
      "text/plain": [
       "0.4983418367346939"
      ]
     },
     "execution_count": 24,
     "metadata": {
      "tags": []
     },
     "output_type": "execute_result"
    }
   ],
   "source": [
    "n = np.hstack((ng.reshape((-1,1)), np.tile([3500,3290,3100, 3000],\n",
    "                                 10).reshape((10,-1))))\n",
    "p = np.array([90,110,200, 250,784])   \n",
    "missing_rate(X, y, n, p, 10)"
   ]
  },
  {
   "cell_type": "code",
   "execution_count": null,
   "metadata": {
    "colab": {
     "base_uri": "https://localhost:8080/"
    },
    "executionInfo": {
     "elapsed": 8012,
     "status": "ok",
     "timestamp": 1605325370770,
     "user": {
      "displayName": "Thu Nguyễn",
      "photoUrl": "https://lh3.googleusercontent.com/a-/AOh14GjaRl8WgKOjLdrEa69IqFm__Rq7udZ763hhFDl9=s64",
      "userId": "04714273295929622355"
     },
     "user_tz": 360
    },
    "id": "8WtawpIe3anp",
    "outputId": "fba7c757-2ffa-43c8-e8d0-af32ae380d94"
   },
   "outputs": [
    {
     "data": {
      "text/plain": [
       "(0.00015705266416606177, 0.971776008605957, 0.4983418367346939)"
      ]
     },
     "execution_count": 25,
     "metadata": {
      "tags": []
     },
     "output_type": "execute_result"
    }
   ],
   "source": [
    "compute_err_MLE(X, y, n, p, 10)"
   ]
  },
  {
   "cell_type": "code",
   "execution_count": null,
   "metadata": {
    "colab": {
     "base_uri": "https://localhost:8080/"
    },
    "executionInfo": {
     "elapsed": 175016,
     "status": "ok",
     "timestamp": 1605326310940,
     "user": {
      "displayName": "Thu Nguyễn",
      "photoUrl": "https://lh3.googleusercontent.com/a-/AOh14GjaRl8WgKOjLdrEa69IqFm__Rq7udZ763hhFDl9=s64",
      "userId": "04714273295929622355"
     },
     "user_tz": 360
    },
    "id": "GvHrg3oKfTpM",
    "outputId": "5c55654a-fca8-4336-e44f-00c4049cb25a"
   },
   "outputs": [
    {
     "name": "stdout",
     "output_type": "stream",
     "text": [
      "[SoftImpute] Max Singular Value of X_init = 2315.886393\n",
      "[SoftImpute] Iter 1: observed MAE=0.116056 rank=500\n",
      "[SoftImpute] Iter 2: observed MAE=0.116150 rank=497\n",
      "[SoftImpute] Iter 3: observed MAE=0.116210 rank=497\n",
      "[SoftImpute] Iter 4: observed MAE=0.116247 rank=496\n",
      "[SoftImpute] Iter 5: observed MAE=0.116270 rank=496\n",
      "[SoftImpute] Iter 6: observed MAE=0.116284 rank=496\n",
      "[SoftImpute] Iter 7: observed MAE=0.116293 rank=496\n",
      "[SoftImpute] Iter 8: observed MAE=0.116299 rank=496\n",
      "[SoftImpute] Iter 9: observed MAE=0.116302 rank=496\n",
      "[SoftImpute] Iter 10: observed MAE=0.116304 rank=496\n",
      "[SoftImpute] Iter 11: observed MAE=0.116305 rank=496\n",
      "[SoftImpute] Iter 12: observed MAE=0.116306 rank=496\n",
      "[SoftImpute] Iter 13: observed MAE=0.116305 rank=496\n",
      "[SoftImpute] Iter 14: observed MAE=0.116304 rank=496\n",
      "[SoftImpute] Iter 15: observed MAE=0.116303 rank=496\n",
      "[SoftImpute] Iter 16: observed MAE=0.116302 rank=496\n",
      "[SoftImpute] Iter 17: observed MAE=0.116301 rank=496\n",
      "[SoftImpute] Iter 18: observed MAE=0.116299 rank=496\n",
      "[SoftImpute] Iter 19: observed MAE=0.116298 rank=496\n",
      "[SoftImpute] Iter 20: observed MAE=0.116296 rank=496\n",
      "[SoftImpute] Iter 21: observed MAE=0.116295 rank=496\n",
      "[SoftImpute] Iter 22: observed MAE=0.116293 rank=496\n",
      "[SoftImpute] Iter 23: observed MAE=0.116292 rank=496\n",
      "[SoftImpute] Iter 24: observed MAE=0.116290 rank=496\n",
      "[SoftImpute] Iter 25: observed MAE=0.116288 rank=496\n",
      "[SoftImpute] Iter 26: observed MAE=0.116287 rank=496\n",
      "[SoftImpute] Iter 27: observed MAE=0.116285 rank=496\n",
      "[SoftImpute] Iter 28: observed MAE=0.116284 rank=496\n",
      "[SoftImpute] Iter 29: observed MAE=0.116282 rank=496\n",
      "[SoftImpute] Iter 30: observed MAE=0.116281 rank=496\n",
      "[SoftImpute] Iter 31: observed MAE=0.116280 rank=496\n",
      "[SoftImpute] Iter 32: observed MAE=0.116278 rank=496\n",
      "[SoftImpute] Iter 33: observed MAE=0.116277 rank=496\n",
      "[SoftImpute] Iter 34: observed MAE=0.116276 rank=496\n",
      "[SoftImpute] Iter 35: observed MAE=0.116274 rank=496\n",
      "[SoftImpute] Iter 36: observed MAE=0.116273 rank=496\n",
      "[SoftImpute] Iter 37: observed MAE=0.116272 rank=496\n",
      "[SoftImpute] Iter 38: observed MAE=0.116271 rank=496\n",
      "[SoftImpute] Iter 39: observed MAE=0.116270 rank=496\n",
      "[SoftImpute] Iter 40: observed MAE=0.116269 rank=496\n",
      "[SoftImpute] Iter 41: observed MAE=0.116267 rank=496\n",
      "[SoftImpute] Iter 42: observed MAE=0.116266 rank=496\n",
      "[SoftImpute] Iter 43: observed MAE=0.116265 rank=496\n",
      "[SoftImpute] Iter 44: observed MAE=0.116264 rank=496\n",
      "[SoftImpute] Iter 45: observed MAE=0.116264 rank=496\n",
      "[SoftImpute] Iter 46: observed MAE=0.116263 rank=496\n",
      "[SoftImpute] Iter 47: observed MAE=0.116262 rank=496\n",
      "[SoftImpute] Iter 48: observed MAE=0.116261 rank=496\n",
      "[SoftImpute] Iter 49: observed MAE=0.116260 rank=496\n",
      "[SoftImpute] Iter 50: observed MAE=0.116259 rank=496\n",
      "[SoftImpute] Iter 51: observed MAE=0.116258 rank=496\n",
      "[SoftImpute] Iter 52: observed MAE=0.116258 rank=496\n",
      "[SoftImpute] Iter 53: observed MAE=0.116257 rank=496\n",
      "[SoftImpute] Iter 54: observed MAE=0.116256 rank=496\n",
      "[SoftImpute] Iter 55: observed MAE=0.116255 rank=496\n",
      "[SoftImpute] Iter 56: observed MAE=0.116255 rank=496\n",
      "[SoftImpute] Iter 57: observed MAE=0.116254 rank=496\n",
      "[SoftImpute] Iter 58: observed MAE=0.116253 rank=496\n",
      "[SoftImpute] Iter 59: observed MAE=0.116253 rank=496\n",
      "[SoftImpute] Iter 60: observed MAE=0.116252 rank=496\n",
      "[SoftImpute] Iter 61: observed MAE=0.116252 rank=496\n",
      "[SoftImpute] Iter 62: observed MAE=0.116251 rank=496\n",
      "[SoftImpute] Iter 63: observed MAE=0.116250 rank=496\n",
      "[SoftImpute] Iter 64: observed MAE=0.116250 rank=496\n",
      "[SoftImpute] Iter 65: observed MAE=0.116249 rank=496\n",
      "[SoftImpute] Iter 66: observed MAE=0.116249 rank=496\n",
      "[SoftImpute] Iter 67: observed MAE=0.116248 rank=496\n",
      "[SoftImpute] Iter 68: observed MAE=0.116248 rank=496\n",
      "[SoftImpute] Iter 69: observed MAE=0.116247 rank=496\n",
      "[SoftImpute] Iter 70: observed MAE=0.116247 rank=496\n",
      "[SoftImpute] Iter 71: observed MAE=0.116246 rank=496\n",
      "[SoftImpute] Iter 72: observed MAE=0.116246 rank=496\n",
      "[SoftImpute] Iter 73: observed MAE=0.116245 rank=496\n",
      "[SoftImpute] Iter 74: observed MAE=0.116245 rank=496\n",
      "[SoftImpute] Iter 75: observed MAE=0.116244 rank=496\n",
      "[SoftImpute] Iter 76: observed MAE=0.116244 rank=496\n",
      "[SoftImpute] Iter 77: observed MAE=0.116244 rank=496\n",
      "[SoftImpute] Iter 78: observed MAE=0.116243 rank=496\n",
      "[SoftImpute] Iter 79: observed MAE=0.116243 rank=496\n",
      "[SoftImpute] Iter 80: observed MAE=0.116242 rank=496\n",
      "[SoftImpute] Iter 81: observed MAE=0.116242 rank=496\n",
      "[SoftImpute] Iter 82: observed MAE=0.116242 rank=496\n",
      "[SoftImpute] Iter 83: observed MAE=0.116241 rank=496\n",
      "[SoftImpute] Iter 84: observed MAE=0.116241 rank=496\n",
      "[SoftImpute] Iter 85: observed MAE=0.116241 rank=496\n",
      "[SoftImpute] Iter 86: observed MAE=0.116240 rank=496\n",
      "[SoftImpute] Iter 87: observed MAE=0.116240 rank=496\n",
      "[SoftImpute] Iter 88: observed MAE=0.116240 rank=496\n",
      "[SoftImpute] Iter 89: observed MAE=0.116239 rank=496\n",
      "[SoftImpute] Iter 90: observed MAE=0.116239 rank=496\n",
      "[SoftImpute] Iter 91: observed MAE=0.116239 rank=496\n",
      "[SoftImpute] Iter 92: observed MAE=0.116238 rank=496\n",
      "[SoftImpute] Iter 93: observed MAE=0.116238 rank=496\n",
      "[SoftImpute] Iter 94: observed MAE=0.116238 rank=496\n",
      "[SoftImpute] Iter 95: observed MAE=0.116238 rank=496\n",
      "[SoftImpute] Iter 96: observed MAE=0.116237 rank=496\n",
      "[SoftImpute] Iter 97: observed MAE=0.116237 rank=496\n",
      "[SoftImpute] Iter 98: observed MAE=0.116237 rank=496\n",
      "[SoftImpute] Iter 99: observed MAE=0.116236 rank=496\n",
      "[SoftImpute] Iter 100: observed MAE=0.116236 rank=496\n",
      "[SoftImpute] Stopped after iteration 100 for lambda=46.317728\n"
     ]
    },
    {
     "data": {
      "text/plain": [
       "(0.006425950734152229, 934.3220479488373, 0.4983418367346939)"
      ]
     },
     "execution_count": 26,
     "metadata": {
      "tags": []
     },
     "output_type": "execute_result"
    }
   ],
   "source": [
    "compute_err_SOFT(X, y, n, p, 10)"
   ]
  },
  {
   "cell_type": "code",
   "execution_count": null,
   "metadata": {
    "id": "M9Elw1T5feH8"
   },
   "outputs": [],
   "source": []
  }
 ],
 "metadata": {
  "colab": {
   "collapsed_sections": [],
   "machine_shape": "hm",
   "name": "Parameter estimation error FASHION MNIST shuffled.ipynb",
   "provenance": [
    {
     "file_id": "1UmizfVZMY-WBKEEAOMpjE_D6YjPzk0Cu",
     "timestamp": 1605321694908
    },
    {
     "file_id": "1pPLNIgIh1UBufB_1AbhK-0b6wVw-kFP2",
     "timestamp": 1604237151258
    },
    {
     "file_id": "1MF5wo74OJrNZ6-GtIQBCJymB0d1dm_Aw",
     "timestamp": 1603961946800
    },
    {
     "file_id": "1eazQvNk_WLTaG8heDoHQ3AgEg59y9f0v",
     "timestamp": 1603955217908
    },
    {
     "file_id": "126-leKywWg1oVxbfuH1_ORl8UMYHusn_",
     "timestamp": 1591364956450
    },
    {
     "file_id": "1Lb-WwE7STckIojvf1h3ADYX29-gfA6u-",
     "timestamp": 1590379038322
    },
    {
     "file_id": "1CnbOqwmJydQa8uCCpIR6HRVxw0YnveIP",
     "timestamp": 1590113304994
    }
   ],
   "toc_visible": true
  },
  "kernelspec": {
   "display_name": "Python 3",
   "language": "python",
   "name": "python3"
  },
  "language_info": {
   "codemirror_mode": {
    "name": "ipython",
    "version": 3
   },
   "file_extension": ".py",
   "mimetype": "text/x-python",
   "name": "python",
   "nbconvert_exporter": "python",
   "pygments_lexer": "ipython3",
   "version": "3.8.3"
  }
 },
 "nbformat": 4,
 "nbformat_minor": 1
}
