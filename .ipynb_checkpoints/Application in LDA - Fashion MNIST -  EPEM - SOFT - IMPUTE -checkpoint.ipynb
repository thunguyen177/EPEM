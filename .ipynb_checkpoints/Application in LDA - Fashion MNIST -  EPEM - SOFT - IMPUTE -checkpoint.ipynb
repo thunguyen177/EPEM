{
 "cells": [
  {
   "cell_type": "markdown",
   "metadata": {
    "id": "01Q1wGI3uIdg"
   },
   "source": [
    "## libraries and function \n"
   ]
  },
  {
   "cell_type": "code",
   "execution_count": 1,
   "metadata": {
    "colab": {
     "base_uri": "https://localhost:8080/"
    },
    "executionInfo": {
     "elapsed": 9283,
     "status": "ok",
     "timestamp": 1604530336527,
     "user": {
      "displayName": "Thu Nguyễn",
      "photoUrl": "https://lh3.googleusercontent.com/a-/AOh14GjaRl8WgKOjLdrEa69IqFm__Rq7udZ763hhFDl9=s64",
      "userId": "04714273295929622355"
     },
     "user_tz": 360
    },
    "id": "iEdO9dJPION8",
    "outputId": "f3318f74-6c9b-4b8e-a8eb-e3d541c7bb16"
   },
   "outputs": [
    {
     "name": "stdout",
     "output_type": "stream",
     "text": [
      "Collecting impyute\n",
      "  Downloading https://files.pythonhosted.org/packages/37/28/86829f67c9affb847facaab94687761d3555539ec675f7577778c5b2680a/impyute-0.0.8-py2.py3-none-any.whl\n",
      "Requirement already satisfied: numpy in /usr/local/lib/python3.6/dist-packages (from impyute) (1.18.5)\n",
      "Requirement already satisfied: scikit-learn in /usr/local/lib/python3.6/dist-packages (from impyute) (0.22.2.post1)\n",
      "Requirement already satisfied: scipy in /usr/local/lib/python3.6/dist-packages (from impyute) (1.4.1)\n",
      "Requirement already satisfied: joblib>=0.11 in /usr/local/lib/python3.6/dist-packages (from scikit-learn->impyute) (0.17.0)\n",
      "Installing collected packages: impyute\n",
      "Successfully installed impyute-0.0.8\n"
     ]
    },
    {
     "name": "stderr",
     "output_type": "stream",
     "text": [
      "/usr/local/lib/python3.6/dist-packages/sklearn/externals/six.py:31: FutureWarning: The module is deprecated in version 0.21 and will be removed in version 0.23 since we've dropped support for Python 2.7. Please rely on the official version of six (https://pypi.org/project/six/).\n",
      "  \"(https://pypi.org/project/six/).\", FutureWarning)\n"
     ]
    }
   ],
   "source": [
    "!pip install impyute\n",
    "from sklearn import datasets\n",
    "from sklearn.preprocessing import LabelEncoder, StandardScaler, MinMaxScaler\n",
    "from sklearn.discriminant_analysis import LinearDiscriminantAnalysis as skLDA\n",
    "from sklearn.experimental import enable_iterative_imputer\n",
    "from sklearn.impute import IterativeImputer\n",
    "from scipy import stats\n",
    "import numpy as np\n",
    "import impyute as impy\n",
    "from fancyimpute import IterativeSVD, SoftImpute, NuclearNormMinimization\n",
    "import pandas as pd\n",
    "import time"
   ]
  },
  {
   "cell_type": "markdown",
   "metadata": {
    "id": "YxZbkGo8IOOS"
   },
   "source": [
    "The function `mle` allows us to compute the MLEs from training data with monotone missing data.\n",
    "\n",
    "We denote\n",
    "$$n = \\begin{pmatrix}\n",
    "n_1^{(1)} & n_1^{(2)} &...&n_1^{(K)}\\\\\n",
    "\\vdots & \\vdots &\\ddots&\\vdots\\\\\n",
    "n_G^{(1)} & n_G^{(2)} &...&n_G^{(K)}\n",
    "\\end{pmatrix}$$\n",
    "$$p = (p_1,p_2,...,p_K)$$\n",
    "G is the number of classes."
   ]
  },
  {
   "cell_type": "markdown",
   "metadata": {
    "id": "zJsxuiuVOWch"
   },
   "source": [
    "### MLE function "
   ]
  },
  {
   "cell_type": "code",
   "execution_count": 2,
   "metadata": {
    "executionInfo": {
     "elapsed": 6327,
     "status": "ok",
     "timestamp": 1604530336533,
     "user": {
      "displayName": "Thu Nguyễn",
      "photoUrl": "https://lh3.googleusercontent.com/a-/AOh14GjaRl8WgKOjLdrEa69IqFm__Rq7udZ763hhFDl9=s64",
      "userId": "04714273295929622355"
     },
     "user_tz": 360
    },
    "id": "9iL76sKnIOOU"
   },
   "outputs": [],
   "source": [
    "import numpy as np\n",
    "def mle(Xtrain, n, p, G):\n",
    "    '''\n",
    "    Xtrain: list of input. The ith element of the list contains the sample from\n",
    "    the ith class.\n",
    "    '''\n",
    "    if p[0]==1:\n",
    "        # the array that contains the means of each block for the 1st block\n",
    "        mus = [np.mean(Xtrain[g][:,0]) for g in np.arange(G)]\n",
    "        S = [(n[g,0]-1)*np.var(Xtrain[g][:,0]) for g in np.arange(G)]\n",
    "    else:\n",
    "        mus = [np.mean(Xtrain[g][:,0:p[0]], axis = 0) for g  in np.arange(G)]\n",
    "        S = [(n[g,0]-1)*np.cov(Xtrain[g][:,0:p[0]],rowvar =False) \n",
    "             for g in np.arange(G)]\n",
    "    \n",
    "    mus = np.asarray(mus).T # so that each column is the mean of a class\n",
    "    S = sum(S)/(sum(n[:,0])) \n",
    "    S = S.reshape((p[0],-1))\n",
    "    for i in np.arange(1,len(p)):\n",
    "        W = [(n[g,i]-1)*np.cov(Xtrain[g][0:n[g,i],0:p[i]],\n",
    "                              rowvar=False) for g in np.arange(G)]\n",
    "        W = sum(W)\n",
    "        \n",
    "        P = np.matmul(W[(p[i-1]):p[i], 0:p[i-1]],\n",
    "                      np.linalg.inv(W[0:p[i-1],0:p[i-1]]))\n",
    "        Q = (W[p[i-1]:p[i],p[i-1]:p[i]]-\n",
    "            np.matmul(P, W[0:p[i-1],p[i-1]:p[i]]))/sum(n[:,i])\n",
    "        xmeans = [np.mean(Xtrain[g][0:n[g,i],0:p[i]], axis = 0) \n",
    "                  for g in np.arange(G)]\n",
    "        \n",
    "        xmeans = np.asarray(xmeans)\n",
    "        xmeans = xmeans.T\n",
    "        mus = np.vstack((mus, xmeans[p[i-1]:p[i],:]\n",
    "                       - np.matmul(P, xmeans[0:p[i-1]]-mus)))\n",
    "        S21 = np.matmul(P, S)\n",
    "        S = np.vstack((np.hstack((S, S21.T)),\n",
    "                       np.hstack((S21, Q+np.matmul(P, S21.T)))))\n",
    "    return [mus, S]"
   ]
  },
  {
   "cell_type": "markdown",
   "metadata": {
    "id": "5Kk3Z0jcObqQ"
   },
   "source": [
    "### LDA and nan function \n"
   ]
  },
  {
   "cell_type": "code",
   "execution_count": 3,
   "metadata": {
    "executionInfo": {
     "elapsed": 2897,
     "status": "ok",
     "timestamp": 1604530336536,
     "user": {
      "displayName": "Thu Nguyễn",
      "photoUrl": "https://lh3.googleusercontent.com/a-/AOh14GjaRl8WgKOjLdrEa69IqFm__Rq7udZ763hhFDl9=s64",
      "userId": "04714273295929622355"
     },
     "user_tz": 360
    },
    "id": "V4-kNYKJIOOd"
   },
   "outputs": [],
   "source": [
    "# function that return the misclassfication rate\n",
    "# for LDA with missing data\n",
    "def lda_miss(mus, S, Xtest, ytrain, ytest, G):\n",
    "    f = lambda g: np.log(np.mean(ytrain==g)) - np.matmul(\n",
    "                  np.matmul(mus[:,g].T, np.linalg.inv(S)), mus[:,g]/2)\n",
    "    last2 = [f(g) for g in np.arange(G)]\n",
    "    \n",
    "    h = lambda g,i: last2[g] + np.matmul(mus[:,g].T, np.matmul(\n",
    "                    np.linalg.inv(S), Xtest[i,:].T))\n",
    "    pred_label = [np.argmax([h(g,i) for g in np.arange(G)]) \n",
    "                  for i in np.arange(len(Xtest))]\n",
    "    pred_label = np.asarray(pred_label)\n",
    "    return np.mean(pred_label.flatten() != ytest)\n",
    "\n",
    "'''\n",
    "function that create data list that contain missing values\n",
    "The input X is a numpy array, y is the label\n",
    "the function return a list where the ith element of \n",
    "the list belongs to the ith class\n",
    "'''\n",
    "\n",
    "def make_nan_list(X,y,G, n, p):\n",
    "    # note that the label should go from 0 to G-1\n",
    "    data = []\n",
    "    for g in np.arange(G):\n",
    "        data.append(X[y==g,:])\n",
    "        for k in np.arange(len(p)-1):\n",
    "            data[g][n[g,k+1]:n[g,k], p[k]:] = np.nan\n",
    "    return data"
   ]
  },
  {
   "cell_type": "markdown",
   "metadata": {
    "id": "IwG2bsDOOxls"
   },
   "source": [
    "### compute_err function "
   ]
  },
  {
   "cell_type": "code",
   "execution_count": 4,
   "metadata": {
    "executionInfo": {
     "elapsed": 1365,
     "status": "ok",
     "timestamp": 1604530338885,
     "user": {
      "displayName": "Thu Nguyễn",
      "photoUrl": "https://lh3.googleusercontent.com/a-/AOh14GjaRl8WgKOjLdrEa69IqFm__Rq7udZ763hhFDl9=s64",
      "userId": "04714273295929622355"
     },
     "user_tz": 360
    },
    "id": "8oXh1_ou0BPS"
   },
   "outputs": [],
   "source": [
    "def missing_rate(Xtrain, ytrain, n, p, G):    \n",
    "    Xtr_nan_list = make_nan_list(Xtrain,ytrain,G, n, p)\n",
    "    # make NA data\n",
    "    # since making function changes the order of observation\n",
    "    # we need to generate new ytr from Xtr_nan    \n",
    "    Xtr_nan, ytr = Xtr_nan_list[0], np.repeat(0, len(Xtr_nan_list[0]))\n",
    "    for g in np.arange(1,G):\n",
    "        Xtr_nan = np.vstack((Xtr_nan, Xtr_nan_list[g]))\n",
    "        ytr = np.hstack((ytr, np.repeat(g, len(Xtr_nan_list[g]))))\n",
    "\n",
    "    # percentage of missing values\n",
    "    per_missing = np.mean(np.isnan(Xtr_nan))\n",
    "    return per_missing"
   ]
  },
  {
   "cell_type": "code",
   "execution_count": 5,
   "metadata": {
    "executionInfo": {
     "elapsed": 1581,
     "status": "ok",
     "timestamp": 1604530340800,
     "user": {
      "displayName": "Thu Nguyễn",
      "photoUrl": "https://lh3.googleusercontent.com/a-/AOh14GjaRl8WgKOjLdrEa69IqFm__Rq7udZ763hhFDl9=s64",
      "userId": "04714273295929622355"
     },
     "user_tz": 360
    },
    "id": "X8sXZ2KGPrPn"
   },
   "outputs": [],
   "source": [
    "def compute_err_MICE(Xtrain, ytrain, Xtest, ytest, n, p, G):    \n",
    "    Xtr_nan_list = make_nan_list(Xtrain,ytrain,G, n, p)\n",
    "    # make NA data\n",
    "    # since making function changes the order of observation\n",
    "    # we need to generate new ytr from Xtr_nan    \n",
    "    Xtr_nan, ytr = Xtr_nan_list[0], np.repeat(0, len(Xtr_nan_list[0]))\n",
    "    for g in np.arange(1,G):\n",
    "        Xtr_nan = np.vstack((Xtr_nan, Xtr_nan_list[g]))\n",
    "        ytr = np.hstack((ytr, np.repeat(g, len(Xtr_nan_list[g]))))\n",
    "\n",
    "    # percentage of missing values\n",
    "    per_missing = np.mean(np.isnan(Xtr_nan))\n",
    "\n",
    "    scaler = MinMaxScaler()\n",
    "    scaler.fit(Xtr_nan)\n",
    "    Xtr_nan = scaler.transform(Xtr_nan)\n",
    "    Xtest = scaler.transform(Xtest)\n",
    "    Xtr_nan_list2 = []\n",
    "    for g in range(G):\n",
    "      Xtr_nan_list2.append(scaler.transform(Xtr_nan_list[g]))\n",
    "\n",
    "    \n",
    "    #impute,classify and get the error rates for imputation approaches    \n",
    "    start = time.time()\n",
    "    Xtr_mice = IterativeImputer(max_iter=10).fit(Xtr_nan).transform(Xtr_nan)\n",
    "    clf_mice = skLDA().fit(Xtr_mice, ytr)\n",
    "    mice_err = np.mean(clf_mice.predict(Xtest).flatten() != ytest)\n",
    "    mice_time = time.time()-start\n",
    "\n",
    "    return mice_err, mice_time"
   ]
  },
  {
   "cell_type": "code",
   "execution_count": 6,
   "metadata": {
    "executionInfo": {
     "elapsed": 1188,
     "status": "ok",
     "timestamp": 1604530341852,
     "user": {
      "displayName": "Thu Nguyễn",
      "photoUrl": "https://lh3.googleusercontent.com/a-/AOh14GjaRl8WgKOjLdrEa69IqFm__Rq7udZ763hhFDl9=s64",
      "userId": "04714273295929622355"
     },
     "user_tz": 360
    },
    "id": "ZEAkkeS5IOOo"
   },
   "outputs": [],
   "source": [
    "def compute_err_MLE(Xtrain, ytrain, Xtest, ytest, n, p, G):    \n",
    "    Xtr_nan_list = make_nan_list(Xtrain,ytrain,G, n, p)\n",
    "    # make NA data\n",
    "    # since making function changes the order of observation\n",
    "    # we need to generate new ytr from Xtr_nan    \n",
    "    Xtr_nan, ytr = Xtr_nan_list[0], np.repeat(0, len(Xtr_nan_list[0]))\n",
    "    for g in np.arange(1,G):\n",
    "        Xtr_nan = np.vstack((Xtr_nan, Xtr_nan_list[g]))\n",
    "        ytr = np.hstack((ytr, np.repeat(g, len(Xtr_nan_list[g]))))\n",
    "\n",
    "    # percentage of missing values\n",
    "    per_missing = np.mean(np.isnan(Xtr_nan))\n",
    "\n",
    "    scaler = MinMaxScaler()\n",
    "    scaler.fit(Xtr_nan)\n",
    "    Xtr_nan = scaler.transform(Xtr_nan)\n",
    "    Xtest = scaler.transform(Xtest)\n",
    "    Xtr_nan_list2 = []\n",
    "    for g in range(G):\n",
    "      Xtr_nan_list2.append(scaler.transform(Xtr_nan_list[g]))\n",
    "\n",
    "    # MLEs approach\n",
    "    start = time.time()\n",
    "    mus, S = mle(Xtr_nan_list2, n, p, G)\n",
    "    mle_err = lda_miss(mus, S, Xtest, ytrain, ytest, G)\n",
    "    mle_time = time.time()-start\n",
    "  \n",
    "    return mle_err, mle_time"
   ]
  },
  {
   "cell_type": "code",
   "execution_count": 7,
   "metadata": {
    "executionInfo": {
     "elapsed": 1438,
     "status": "ok",
     "timestamp": 1604530343019,
     "user": {
      "displayName": "Thu Nguyễn",
      "photoUrl": "https://lh3.googleusercontent.com/a-/AOh14GjaRl8WgKOjLdrEa69IqFm__Rq7udZ763hhFDl9=s64",
      "userId": "04714273295929622355"
     },
     "user_tz": 360
    },
    "id": "odSfBibR5yAr"
   },
   "outputs": [],
   "source": [
    "def compute_err_SOFT(Xtrain, ytrain, Xtest, ytest, n, p, G):    \n",
    "    Xtr_nan_list = make_nan_list(Xtrain,ytrain,G, n, p)\n",
    "    # make NA data\n",
    "    # since making function changes the order of observation\n",
    "    # we need to generate new ytr from Xtr_nan    \n",
    "    Xtr_nan, ytr = Xtr_nan_list[0], np.repeat(0, len(Xtr_nan_list[0]))\n",
    "    for g in np.arange(1,G):\n",
    "        Xtr_nan = np.vstack((Xtr_nan, Xtr_nan_list[g]))\n",
    "        ytr = np.hstack((ytr, np.repeat(g, len(Xtr_nan_list[g]))))\n",
    "\n",
    "    # percentage of missing values\n",
    "    per_missing = np.mean(np.isnan(Xtr_nan))\n",
    "\n",
    "    scaler = MinMaxScaler()\n",
    "    scaler.fit(Xtr_nan)\n",
    "    Xtr_nan = scaler.transform(Xtr_nan)\n",
    "    Xtest = scaler.transform(Xtest)\n",
    "    Xtr_nan_list2 = []\n",
    "    for g in range(G):\n",
    "      Xtr_nan_list2.append(scaler.transform(Xtr_nan_list[g]))\n",
    "\n",
    "    start = time.time()\n",
    "    Xtr_softimpute = SoftImpute(max_iters = 100).fit_transform(Xtr_nan)\n",
    "    clf_softimpute = skLDA().fit(Xtr_softimpute, ytr)\n",
    "    softimpute_err = np.mean(clf_softimpute.predict(Xtest).flatten() != ytest)\n",
    "    softimpute_time = time.time()-start\n",
    "\n",
    "    return softimpute_err, softimpute_time"
   ]
  },
  {
   "cell_type": "markdown",
   "metadata": {
    "id": "AguK8ubkws4v"
   },
   "source": [
    "## Import Fashion MNIST"
   ]
  },
  {
   "cell_type": "code",
   "execution_count": 8,
   "metadata": {
    "colab": {
     "base_uri": "https://localhost:8080/"
    },
    "executionInfo": {
     "elapsed": 1530,
     "status": "ok",
     "timestamp": 1604530348129,
     "user": {
      "displayName": "Thu Nguyễn",
      "photoUrl": "https://lh3.googleusercontent.com/a-/AOh14GjaRl8WgKOjLdrEa69IqFm__Rq7udZ763hhFDl9=s64",
      "userId": "04714273295929622355"
     },
     "user_tz": 360
    },
    "id": "lYNb8Jsn6DVw",
    "outputId": "07d9e8c9-1ffc-4672-a4e8-ad32183f5df5"
   },
   "outputs": [
    {
     "name": "stdout",
     "output_type": "stream",
     "text": [
      "Downloading data from https://storage.googleapis.com/tensorflow/tf-keras-datasets/train-labels-idx1-ubyte.gz\n",
      "32768/29515 [=================================] - 0s 0us/step\n",
      "Downloading data from https://storage.googleapis.com/tensorflow/tf-keras-datasets/train-images-idx3-ubyte.gz\n",
      "26427392/26421880 [==============================] - 0s 0us/step\n",
      "Downloading data from https://storage.googleapis.com/tensorflow/tf-keras-datasets/t10k-labels-idx1-ubyte.gz\n",
      "8192/5148 [===============================================] - 0s 0us/step\n",
      "Downloading data from https://storage.googleapis.com/tensorflow/tf-keras-datasets/t10k-images-idx3-ubyte.gz\n",
      "4423680/4422102 [==============================] - 0s 0us/step\n"
     ]
    }
   ],
   "source": [
    "import tensorflow as tf\n",
    "fashion_mnist = tf.keras.datasets.fashion_mnist\n",
    "(Xtrain, ytrain), (Xtest, ytest) = fashion_mnist.load_data()"
   ]
  },
  {
   "cell_type": "code",
   "execution_count": 9,
   "metadata": {
    "colab": {
     "base_uri": "https://localhost:8080/"
    },
    "executionInfo": {
     "elapsed": 829,
     "status": "ok",
     "timestamp": 1604530350391,
     "user": {
      "displayName": "Thu Nguyễn",
      "photoUrl": "https://lh3.googleusercontent.com/a-/AOh14GjaRl8WgKOjLdrEa69IqFm__Rq7udZ763hhFDl9=s64",
      "userId": "04714273295929622355"
     },
     "user_tz": 360
    },
    "id": "phuKV8AW6yVh",
    "outputId": "306b3978-b62d-4c5a-cdc0-1693277c8066"
   },
   "outputs": [
    {
     "data": {
      "text/plain": [
       "((60000, 28, 28), (10000, 28, 28), (60000,), (10000,))"
      ]
     },
     "execution_count": 9,
     "metadata": {
      "tags": []
     },
     "output_type": "execute_result"
    }
   ],
   "source": [
    "Xtrain.shape, Xtest.shape, ytrain.shape, ytest.shape"
   ]
  },
  {
   "cell_type": "code",
   "execution_count": 10,
   "metadata": {
    "colab": {
     "base_uri": "https://localhost:8080/"
    },
    "executionInfo": {
     "elapsed": 1047,
     "status": "ok",
     "timestamp": 1604530351720,
     "user": {
      "displayName": "Thu Nguyễn",
      "photoUrl": "https://lh3.googleusercontent.com/a-/AOh14GjaRl8WgKOjLdrEa69IqFm__Rq7udZ763hhFDl9=s64",
      "userId": "04714273295929622355"
     },
     "user_tz": 360
    },
    "id": "5UuDesEv7FSe",
    "outputId": "27c6675a-c5ab-4711-dd39-d8bd0d9a723d"
   },
   "outputs": [
    {
     "data": {
      "text/plain": [
       "((60000, 784), (60000,))"
      ]
     },
     "execution_count": 10,
     "metadata": {
      "tags": []
     },
     "output_type": "execute_result"
    }
   ],
   "source": [
    "Xtrain = Xtrain.astype(float).reshape((60000,784))\n",
    "\n",
    "# set random seed and shuffle the data\n",
    "np.random.seed(1)\n",
    "idx = np.arange(len(ytrain))\n",
    "np.random.shuffle(idx)\n",
    "Xtrain, ytrain = Xtrain[idx,:], ytrain[idx]  \n",
    "\n",
    "Xtrain.shape, ytrain.shape "
   ]
  },
  {
   "cell_type": "code",
   "execution_count": 11,
   "metadata": {
    "executionInfo": {
     "elapsed": 510,
     "status": "ok",
     "timestamp": 1604530352778,
     "user": {
      "displayName": "Thu Nguyễn",
      "photoUrl": "https://lh3.googleusercontent.com/a-/AOh14GjaRl8WgKOjLdrEa69IqFm__Rq7udZ763hhFDl9=s64",
      "userId": "04714273295929622355"
     },
     "user_tz": 360
    },
    "id": "kDzlDpqu6k3C"
   },
   "outputs": [],
   "source": [
    "# convert the test set to NumPy arrays and flatten the data\n",
    "Xtest = Xtest.astype(float).reshape((10000,784))"
   ]
  },
  {
   "cell_type": "code",
   "execution_count": 12,
   "metadata": {
    "colab": {
     "base_uri": "https://localhost:8080/"
    },
    "executionInfo": {
     "elapsed": 2296,
     "status": "ok",
     "timestamp": 1604530355842,
     "user": {
      "displayName": "Thu Nguyễn",
      "photoUrl": "https://lh3.googleusercontent.com/a-/AOh14GjaRl8WgKOjLdrEa69IqFm__Rq7udZ763hhFDl9=s64",
      "userId": "04714273295929622355"
     },
     "user_tz": 360
    },
    "id": "AQvbp-Hy2-dB",
    "outputId": "ad46e9b6-9a32-456c-cf97-122433bac1e5"
   },
   "outputs": [
    {
     "data": {
      "text/plain": [
       "array([6000, 6000, 6000, 6000, 6000, 6000, 6000, 6000, 6000, 6000])"
      ]
     },
     "execution_count": 12,
     "metadata": {
      "tags": []
     },
     "output_type": "execute_result"
    }
   ],
   "source": [
    "    # number of sample per class in training data\n",
    "    ng = np.asarray([sum(ytrain==i) for i in np.arange(10)])\n",
    "    ng"
   ]
  },
  {
   "cell_type": "markdown",
   "metadata": {
    "id": "SY0XX7TS1p_6"
   },
   "source": [
    "## 20%"
   ]
  },
  {
   "cell_type": "code",
   "execution_count": 12,
   "metadata": {
    "colab": {
     "base_uri": "https://localhost:8080/"
    },
    "executionInfo": {
     "elapsed": 1802,
     "status": "ok",
     "timestamp": 1604358377823,
     "user": {
      "displayName": "Thu Nguyễn",
      "photoUrl": "https://lh3.googleusercontent.com/a-/AOh14GjaRl8WgKOjLdrEa69IqFm__Rq7udZ763hhFDl9=s64",
      "userId": "04714273295929622355"
     },
     "user_tz": 360
    },
    "id": "5qBxF28a26Ub",
    "outputId": "ee962033-ee69-402f-d373-0b08a4f19bda"
   },
   "outputs": [
    {
     "data": {
      "text/plain": [
       "0.1997874149659864"
      ]
     },
     "execution_count": 12,
     "metadata": {
      "tags": []
     },
     "output_type": "execute_result"
    }
   ],
   "source": [
    "n = np.hstack((ng.reshape((-1,1)), np.tile([4500,4200,4000, 3800],\n",
    "                                 10).reshape((10,-1))))\n",
    "p = np.array([310,400,480, 520,784])   \n",
    "missing_rate(Xtrain, ytrain, n, p, 10)"
   ]
  },
  {
   "cell_type": "code",
   "execution_count": null,
   "metadata": {
    "colab": {
     "base_uri": "https://localhost:8080/"
    },
    "executionInfo": {
     "elapsed": 41,
     "status": "ok",
     "timestamp": 1604226235106,
     "user": {
      "displayName": "Thu Nguyễn",
      "photoUrl": "https://lh3.googleusercontent.com/a-/AOh14GjaRl8WgKOjLdrEa69IqFm__Rq7udZ763hhFDl9=s64",
      "userId": "04714273295929622355"
     },
     "user_tz": 360
    },
    "id": "ox0Gj05GSkWi",
    "outputId": "b6c36617-1319-4874-ae36-54a449e26610"
   },
   "outputs": [
    {
     "data": {
      "text/plain": [
       "(0.1842, 6260.772351264954)"
      ]
     },
     "execution_count": 32,
     "metadata": {
      "tags": []
     },
     "output_type": "execute_result"
    }
   ],
   "source": [
    "compute_err_MLE(Xtrain, ytrain, Xtest, ytest, n, p, 10)"
   ]
  },
  {
   "cell_type": "code",
   "execution_count": null,
   "metadata": {
    "colab": {
     "base_uri": "https://localhost:8080/"
    },
    "executionInfo": {
     "elapsed": 2000,
     "status": "ok",
     "timestamp": 1604229110552,
     "user": {
      "displayName": "Thu Nguyễn",
      "photoUrl": "https://lh3.googleusercontent.com/a-/AOh14GjaRl8WgKOjLdrEa69IqFm__Rq7udZ763hhFDl9=s64",
      "userId": "04714273295929622355"
     },
     "user_tz": 360
    },
    "id": "iEBoTGZt8lXg",
    "outputId": "3f1a5674-a6c9-4927-b007-75506c297622"
   },
   "outputs": [
    {
     "name": "stdout",
     "output_type": "stream",
     "text": [
      "[SoftImpute] Max Singular Value of X_init = 2160.256657\n",
      "[SoftImpute] Iter 1: observed MAE=0.066428 rank=115\n",
      "[SoftImpute] Iter 2: observed MAE=0.066349 rank=113\n",
      "[SoftImpute] Iter 3: observed MAE=0.066339 rank=111\n",
      "[SoftImpute] Iter 4: observed MAE=0.066337 rank=111\n",
      "[SoftImpute] Iter 5: observed MAE=0.066336 rank=111\n",
      "[SoftImpute] Iter 6: observed MAE=0.066334 rank=111\n",
      "[SoftImpute] Iter 7: observed MAE=0.066333 rank=111\n",
      "[SoftImpute] Iter 8: observed MAE=0.066331 rank=110\n",
      "[SoftImpute] Iter 9: observed MAE=0.066329 rank=110\n",
      "[SoftImpute] Iter 10: observed MAE=0.066328 rank=110\n",
      "[SoftImpute] Iter 11: observed MAE=0.066326 rank=110\n",
      "[SoftImpute] Iter 12: observed MAE=0.066325 rank=110\n",
      "[SoftImpute] Iter 13: observed MAE=0.066324 rank=110\n",
      "[SoftImpute] Iter 14: observed MAE=0.066323 rank=110\n",
      "[SoftImpute] Iter 15: observed MAE=0.066322 rank=110\n",
      "[SoftImpute] Iter 16: observed MAE=0.066321 rank=110\n",
      "[SoftImpute] Iter 17: observed MAE=0.066320 rank=110\n",
      "[SoftImpute] Iter 18: observed MAE=0.066320 rank=110\n",
      "[SoftImpute] Iter 19: observed MAE=0.066320 rank=110\n",
      "[SoftImpute] Iter 20: observed MAE=0.066319 rank=110\n",
      "[SoftImpute] Iter 21: observed MAE=0.066319 rank=110\n",
      "[SoftImpute] Iter 22: observed MAE=0.066319 rank=110\n",
      "[SoftImpute] Iter 23: observed MAE=0.066318 rank=110\n",
      "[SoftImpute] Iter 24: observed MAE=0.066318 rank=110\n",
      "[SoftImpute] Iter 25: observed MAE=0.066318 rank=110\n",
      "[SoftImpute] Iter 26: observed MAE=0.066318 rank=110\n",
      "[SoftImpute] Iter 27: observed MAE=0.066318 rank=110\n",
      "[SoftImpute] Iter 28: observed MAE=0.066318 rank=110\n",
      "[SoftImpute] Iter 29: observed MAE=0.066318 rank=110\n",
      "[SoftImpute] Iter 30: observed MAE=0.066318 rank=110\n",
      "[SoftImpute] Iter 31: observed MAE=0.066317 rank=110\n",
      "[SoftImpute] Iter 32: observed MAE=0.066317 rank=110\n",
      "[SoftImpute] Iter 33: observed MAE=0.066317 rank=110\n",
      "[SoftImpute] Iter 34: observed MAE=0.066317 rank=110\n",
      "[SoftImpute] Iter 35: observed MAE=0.066317 rank=110\n",
      "[SoftImpute] Iter 36: observed MAE=0.066317 rank=110\n",
      "[SoftImpute] Iter 37: observed MAE=0.066317 rank=110\n",
      "[SoftImpute] Iter 38: observed MAE=0.066317 rank=110\n",
      "[SoftImpute] Iter 39: observed MAE=0.066317 rank=110\n",
      "[SoftImpute] Iter 40: observed MAE=0.066317 rank=110\n",
      "[SoftImpute] Iter 41: observed MAE=0.066316 rank=110\n",
      "[SoftImpute] Iter 42: observed MAE=0.066316 rank=110\n",
      "[SoftImpute] Iter 43: observed MAE=0.066316 rank=110\n",
      "[SoftImpute] Iter 44: observed MAE=0.066316 rank=110\n",
      "[SoftImpute] Iter 45: observed MAE=0.066316 rank=110\n",
      "[SoftImpute] Iter 46: observed MAE=0.066316 rank=110\n",
      "[SoftImpute] Iter 47: observed MAE=0.066316 rank=110\n",
      "[SoftImpute] Iter 48: observed MAE=0.066316 rank=110\n",
      "[SoftImpute] Iter 49: observed MAE=0.066316 rank=110\n",
      "[SoftImpute] Iter 50: observed MAE=0.066315 rank=110\n",
      "[SoftImpute] Iter 51: observed MAE=0.066315 rank=110\n",
      "[SoftImpute] Iter 52: observed MAE=0.066315 rank=110\n",
      "[SoftImpute] Iter 53: observed MAE=0.066315 rank=110\n",
      "[SoftImpute] Iter 54: observed MAE=0.066315 rank=110\n",
      "[SoftImpute] Iter 55: observed MAE=0.066315 rank=110\n",
      "[SoftImpute] Iter 56: observed MAE=0.066315 rank=110\n",
      "[SoftImpute] Iter 57: observed MAE=0.066315 rank=110\n",
      "[SoftImpute] Iter 58: observed MAE=0.066315 rank=110\n",
      "[SoftImpute] Iter 59: observed MAE=0.066314 rank=110\n",
      "[SoftImpute] Iter 60: observed MAE=0.066314 rank=110\n",
      "[SoftImpute] Iter 61: observed MAE=0.066314 rank=110\n",
      "[SoftImpute] Iter 62: observed MAE=0.066314 rank=110\n",
      "[SoftImpute] Iter 63: observed MAE=0.066314 rank=110\n",
      "[SoftImpute] Iter 64: observed MAE=0.066314 rank=110\n",
      "[SoftImpute] Iter 65: observed MAE=0.066314 rank=110\n",
      "[SoftImpute] Iter 66: observed MAE=0.066314 rank=110\n",
      "[SoftImpute] Iter 67: observed MAE=0.066314 rank=110\n",
      "[SoftImpute] Iter 68: observed MAE=0.066314 rank=110\n",
      "[SoftImpute] Iter 69: observed MAE=0.066314 rank=110\n",
      "[SoftImpute] Iter 70: observed MAE=0.066313 rank=110\n",
      "[SoftImpute] Iter 71: observed MAE=0.066313 rank=110\n",
      "[SoftImpute] Iter 72: observed MAE=0.066313 rank=110\n",
      "[SoftImpute] Iter 73: observed MAE=0.066313 rank=110\n",
      "[SoftImpute] Iter 74: observed MAE=0.066313 rank=110\n",
      "[SoftImpute] Iter 75: observed MAE=0.066313 rank=110\n",
      "[SoftImpute] Iter 76: observed MAE=0.066313 rank=110\n",
      "[SoftImpute] Iter 77: observed MAE=0.066313 rank=110\n",
      "[SoftImpute] Iter 78: observed MAE=0.066313 rank=110\n",
      "[SoftImpute] Iter 79: observed MAE=0.066313 rank=110\n",
      "[SoftImpute] Iter 80: observed MAE=0.066313 rank=110\n",
      "[SoftImpute] Iter 81: observed MAE=0.066313 rank=110\n",
      "[SoftImpute] Iter 82: observed MAE=0.066313 rank=110\n",
      "[SoftImpute] Iter 83: observed MAE=0.066313 rank=110\n",
      "[SoftImpute] Iter 84: observed MAE=0.066313 rank=110\n",
      "[SoftImpute] Iter 85: observed MAE=0.066312 rank=110\n",
      "[SoftImpute] Iter 86: observed MAE=0.066312 rank=110\n",
      "[SoftImpute] Iter 87: observed MAE=0.066312 rank=110\n",
      "[SoftImpute] Iter 88: observed MAE=0.066312 rank=110\n",
      "[SoftImpute] Iter 89: observed MAE=0.066312 rank=110\n",
      "[SoftImpute] Iter 90: observed MAE=0.066312 rank=110\n",
      "[SoftImpute] Iter 91: observed MAE=0.066312 rank=110\n",
      "[SoftImpute] Iter 92: observed MAE=0.066312 rank=110\n",
      "[SoftImpute] Iter 93: observed MAE=0.066312 rank=110\n",
      "[SoftImpute] Iter 94: observed MAE=0.066312 rank=110\n",
      "[SoftImpute] Iter 95: observed MAE=0.066312 rank=110\n",
      "[SoftImpute] Iter 96: observed MAE=0.066312 rank=110\n",
      "[SoftImpute] Iter 97: observed MAE=0.066312 rank=110\n",
      "[SoftImpute] Iter 98: observed MAE=0.066312 rank=110\n",
      "[SoftImpute] Iter 99: observed MAE=0.066312 rank=110\n",
      "[SoftImpute] Iter 100: observed MAE=0.066312 rank=110\n",
      "[SoftImpute] Stopped after iteration 100 for lambda=43.205133\n"
     ]
    },
    {
     "data": {
      "text/plain": [
       "(0.1891, 1351.6873190402985)"
      ]
     },
     "execution_count": 46,
     "metadata": {
      "tags": []
     },
     "output_type": "execute_result"
    }
   ],
   "source": [
    "compute_err_SOFT(Xtrain, ytrain, Xtest, ytest, n, p, 10)"
   ]
  },
  {
   "cell_type": "markdown",
   "metadata": {
    "id": "Hu8vWyBU8Ml4"
   },
   "source": [
    "## 30%"
   ]
  },
  {
   "cell_type": "code",
   "execution_count": null,
   "metadata": {
    "colab": {
     "base_uri": "https://localhost:8080/"
    },
    "executionInfo": {
     "elapsed": 1685,
     "status": "ok",
     "timestamp": 1604229201499,
     "user": {
      "displayName": "Thu Nguyễn",
      "photoUrl": "https://lh3.googleusercontent.com/a-/AOh14GjaRl8WgKOjLdrEa69IqFm__Rq7udZ763hhFDl9=s64",
      "userId": "04714273295929622355"
     },
     "user_tz": 360
    },
    "id": "u_D1IsiBVOJ4",
    "outputId": "0951b91b-ae3b-4974-8de6-b7bf1091691f"
   },
   "outputs": [
    {
     "data": {
      "text/plain": [
       "0.29931972789115646"
      ]
     },
     "execution_count": 52,
     "metadata": {
      "tags": []
     },
     "output_type": "execute_result"
    }
   ],
   "source": [
    "n = np.hstack((ng.reshape((-1,1)), np.tile([4400,4000,3400, 3000],\n",
    "                                 10).reshape((10,-1))))\n",
    "p = np.array([250,310,400, 450,784])   \n",
    "missing_rate(Xtrain, ytrain, n, p, 10)"
   ]
  },
  {
   "cell_type": "code",
   "execution_count": null,
   "metadata": {
    "colab": {
     "base_uri": "https://localhost:8080/"
    },
    "executionInfo": {
     "elapsed": 1583631,
     "status": "ok",
     "timestamp": 1604235479644,
     "user": {
      "displayName": "Thu Nguyễn",
      "photoUrl": "https://lh3.googleusercontent.com/a-/AOh14GjaRl8WgKOjLdrEa69IqFm__Rq7udZ763hhFDl9=s64",
      "userId": "04714273295929622355"
     },
     "user_tz": 360
    },
    "id": "Dble5Apotptn",
    "outputId": "aafd3ea7-7830-49dc-8d0b-6843e2bec0af"
   },
   "outputs": [
    {
     "data": {
      "text/plain": [
       "(0.1842, 6270.7891061306)"
      ]
     },
     "execution_count": 53,
     "metadata": {
      "tags": []
     },
     "output_type": "execute_result"
    }
   ],
   "source": [
    "compute_err_MLE(Xtrain, ytrain, Xtest, ytest, n, p, 10)"
   ]
  },
  {
   "cell_type": "code",
   "execution_count": null,
   "metadata": {
    "colab": {
     "base_uri": "https://localhost:8080/"
    },
    "executionInfo": {
     "elapsed": 123074,
     "status": "ok",
     "timestamp": 1604237190495,
     "user": {
      "displayName": "Thu Nguyễn",
      "photoUrl": "https://lh3.googleusercontent.com/a-/AOh14GjaRl8WgKOjLdrEa69IqFm__Rq7udZ763hhFDl9=s64",
      "userId": "04714273295929622355"
     },
     "user_tz": 360
    },
    "id": "0cECrXjtBrn0",
    "outputId": "78a7e8ba-9068-4223-b713-bbc8ddf3f2f4"
   },
   "outputs": [
    {
     "name": "stdout",
     "output_type": "stream",
     "text": [
      "[SoftImpute] Max Singular Value of X_init = 1953.152221\n",
      "[SoftImpute] Iter 1: observed MAE=0.064632 rank=124\n",
      "[SoftImpute] Iter 2: observed MAE=0.064510 rank=118\n",
      "[SoftImpute] Iter 3: observed MAE=0.064479 rank=116\n",
      "[SoftImpute] Iter 4: observed MAE=0.064468 rank=115\n",
      "[SoftImpute] Iter 5: observed MAE=0.064462 rank=115\n",
      "[SoftImpute] Iter 6: observed MAE=0.064458 rank=115\n",
      "[SoftImpute] Iter 7: observed MAE=0.064454 rank=115\n",
      "[SoftImpute] Iter 8: observed MAE=0.064450 rank=115\n",
      "[SoftImpute] Iter 9: observed MAE=0.064447 rank=115\n",
      "[SoftImpute] Iter 10: observed MAE=0.064443 rank=115\n",
      "[SoftImpute] Iter 11: observed MAE=0.064439 rank=115\n",
      "[SoftImpute] Iter 12: observed MAE=0.064436 rank=115\n",
      "[SoftImpute] Iter 13: observed MAE=0.064433 rank=115\n",
      "[SoftImpute] Iter 14: observed MAE=0.064429 rank=115\n",
      "[SoftImpute] Iter 15: observed MAE=0.064426 rank=114\n",
      "[SoftImpute] Iter 16: observed MAE=0.064424 rank=114\n",
      "[SoftImpute] Iter 17: observed MAE=0.064421 rank=114\n",
      "[SoftImpute] Iter 18: observed MAE=0.064418 rank=114\n",
      "[SoftImpute] Iter 19: observed MAE=0.064416 rank=114\n",
      "[SoftImpute] Iter 20: observed MAE=0.064414 rank=114\n",
      "[SoftImpute] Iter 21: observed MAE=0.064412 rank=114\n",
      "[SoftImpute] Iter 22: observed MAE=0.064410 rank=114\n",
      "[SoftImpute] Iter 23: observed MAE=0.064408 rank=114\n",
      "[SoftImpute] Iter 24: observed MAE=0.064407 rank=114\n",
      "[SoftImpute] Iter 25: observed MAE=0.064405 rank=114\n",
      "[SoftImpute] Iter 26: observed MAE=0.064403 rank=114\n",
      "[SoftImpute] Iter 27: observed MAE=0.064402 rank=114\n",
      "[SoftImpute] Iter 28: observed MAE=0.064401 rank=114\n",
      "[SoftImpute] Iter 29: observed MAE=0.064400 rank=114\n",
      "[SoftImpute] Iter 30: observed MAE=0.064399 rank=114\n",
      "[SoftImpute] Iter 31: observed MAE=0.064398 rank=114\n",
      "[SoftImpute] Iter 32: observed MAE=0.064397 rank=114\n",
      "[SoftImpute] Iter 33: observed MAE=0.064396 rank=114\n",
      "[SoftImpute] Iter 34: observed MAE=0.064395 rank=114\n",
      "[SoftImpute] Iter 35: observed MAE=0.064394 rank=114\n",
      "[SoftImpute] Iter 36: observed MAE=0.064393 rank=114\n",
      "[SoftImpute] Iter 37: observed MAE=0.064393 rank=114\n",
      "[SoftImpute] Iter 38: observed MAE=0.064392 rank=114\n",
      "[SoftImpute] Iter 39: observed MAE=0.064391 rank=114\n",
      "[SoftImpute] Iter 40: observed MAE=0.064391 rank=114\n",
      "[SoftImpute] Iter 41: observed MAE=0.064390 rank=114\n",
      "[SoftImpute] Iter 42: observed MAE=0.064390 rank=114\n",
      "[SoftImpute] Iter 43: observed MAE=0.064389 rank=114\n",
      "[SoftImpute] Iter 44: observed MAE=0.064389 rank=114\n",
      "[SoftImpute] Iter 45: observed MAE=0.064388 rank=114\n",
      "[SoftImpute] Iter 46: observed MAE=0.064388 rank=114\n",
      "[SoftImpute] Iter 47: observed MAE=0.064388 rank=114\n",
      "[SoftImpute] Iter 48: observed MAE=0.064387 rank=114\n",
      "[SoftImpute] Iter 49: observed MAE=0.064387 rank=114\n",
      "[SoftImpute] Iter 50: observed MAE=0.064387 rank=114\n",
      "[SoftImpute] Iter 51: observed MAE=0.064386 rank=114\n",
      "[SoftImpute] Iter 52: observed MAE=0.064386 rank=114\n",
      "[SoftImpute] Iter 53: observed MAE=0.064386 rank=114\n",
      "[SoftImpute] Iter 54: observed MAE=0.064385 rank=114\n",
      "[SoftImpute] Iter 55: observed MAE=0.064385 rank=114\n",
      "[SoftImpute] Iter 56: observed MAE=0.064385 rank=114\n",
      "[SoftImpute] Iter 57: observed MAE=0.064385 rank=114\n",
      "[SoftImpute] Iter 58: observed MAE=0.064384 rank=114\n",
      "[SoftImpute] Iter 59: observed MAE=0.064384 rank=114\n",
      "[SoftImpute] Iter 60: observed MAE=0.064384 rank=114\n",
      "[SoftImpute] Iter 61: observed MAE=0.064384 rank=114\n",
      "[SoftImpute] Iter 62: observed MAE=0.064383 rank=114\n",
      "[SoftImpute] Iter 63: observed MAE=0.064383 rank=114\n",
      "[SoftImpute] Iter 64: observed MAE=0.064383 rank=114\n",
      "[SoftImpute] Iter 65: observed MAE=0.064383 rank=114\n",
      "[SoftImpute] Iter 66: observed MAE=0.064383 rank=114\n",
      "[SoftImpute] Iter 67: observed MAE=0.064383 rank=114\n",
      "[SoftImpute] Iter 68: observed MAE=0.064382 rank=114\n",
      "[SoftImpute] Iter 69: observed MAE=0.064382 rank=114\n",
      "[SoftImpute] Iter 70: observed MAE=0.064382 rank=114\n",
      "[SoftImpute] Iter 71: observed MAE=0.064382 rank=114\n",
      "[SoftImpute] Iter 72: observed MAE=0.064382 rank=114\n",
      "[SoftImpute] Iter 73: observed MAE=0.064382 rank=114\n",
      "[SoftImpute] Iter 74: observed MAE=0.064381 rank=114\n",
      "[SoftImpute] Iter 75: observed MAE=0.064381 rank=114\n",
      "[SoftImpute] Iter 76: observed MAE=0.064381 rank=114\n",
      "[SoftImpute] Iter 77: observed MAE=0.064381 rank=114\n",
      "[SoftImpute] Iter 78: observed MAE=0.064381 rank=114\n",
      "[SoftImpute] Iter 79: observed MAE=0.064381 rank=114\n",
      "[SoftImpute] Iter 80: observed MAE=0.064381 rank=114\n",
      "[SoftImpute] Iter 81: observed MAE=0.064381 rank=114\n",
      "[SoftImpute] Iter 82: observed MAE=0.064381 rank=114\n",
      "[SoftImpute] Iter 83: observed MAE=0.064380 rank=114\n",
      "[SoftImpute] Iter 84: observed MAE=0.064380 rank=114\n",
      "[SoftImpute] Iter 85: observed MAE=0.064380 rank=114\n",
      "[SoftImpute] Iter 86: observed MAE=0.064380 rank=114\n",
      "[SoftImpute] Iter 87: observed MAE=0.064380 rank=114\n",
      "[SoftImpute] Iter 88: observed MAE=0.064380 rank=114\n",
      "[SoftImpute] Iter 89: observed MAE=0.064380 rank=114\n",
      "[SoftImpute] Iter 90: observed MAE=0.064380 rank=114\n",
      "[SoftImpute] Iter 91: observed MAE=0.064380 rank=114\n",
      "[SoftImpute] Iter 92: observed MAE=0.064380 rank=114\n",
      "[SoftImpute] Iter 93: observed MAE=0.064380 rank=114\n",
      "[SoftImpute] Iter 94: observed MAE=0.064380 rank=114\n",
      "[SoftImpute] Iter 95: observed MAE=0.064379 rank=114\n",
      "[SoftImpute] Iter 96: observed MAE=0.064379 rank=114\n",
      "[SoftImpute] Iter 97: observed MAE=0.064379 rank=114\n",
      "[SoftImpute] Iter 98: observed MAE=0.064379 rank=114\n",
      "[SoftImpute] Iter 99: observed MAE=0.064379 rank=114\n",
      "[SoftImpute] Iter 100: observed MAE=0.064379 rank=114\n",
      "[SoftImpute] Stopped after iteration 100 for lambda=39.063044\n"
     ]
    },
    {
     "data": {
      "text/plain": [
       "(0.1947, 1621.440566778183)"
      ]
     },
     "execution_count": 54,
     "metadata": {
      "tags": []
     },
     "output_type": "execute_result"
    }
   ],
   "source": [
    "compute_err_SOFT(Xtrain, ytrain, Xtest, ytest, n, p, 10)"
   ]
  },
  {
   "cell_type": "markdown",
   "metadata": {
    "id": "Xo5PeajJ9uwb"
   },
   "source": [
    "## 40% \n",
    "\n"
   ]
  },
  {
   "cell_type": "code",
   "execution_count": 13,
   "metadata": {
    "colab": {
     "base_uri": "https://localhost:8080/"
    },
    "executionInfo": {
     "elapsed": 1138,
     "status": "ok",
     "timestamp": 1604358386562,
     "user": {
      "displayName": "Thu Nguyễn",
      "photoUrl": "https://lh3.googleusercontent.com/a-/AOh14GjaRl8WgKOjLdrEa69IqFm__Rq7udZ763hhFDl9=s64",
      "userId": "04714273295929622355"
     },
     "user_tz": 360
    },
    "id": "H_cOdfIt9s1r",
    "outputId": "0deb1b6e-a6d4-4d9a-c493-f6b2cd3d3d84"
   },
   "outputs": [
    {
     "data": {
      "text/plain": [
       "0.4039115646258503"
      ]
     },
     "execution_count": 13,
     "metadata": {
      "tags": []
     },
     "output_type": "execute_result"
    }
   ],
   "source": [
    "n = np.hstack((ng.reshape((-1,1)), np.tile([3600,3400,3000, 2500],\n",
    "                                 10).reshape((10,-1))))\n",
    "p = np.array([200,220,300, 400,784])   \n",
    "missing_rate(Xtrain, ytrain, n, p, 10)"
   ]
  },
  {
   "cell_type": "code",
   "execution_count": null,
   "metadata": {
    "colab": {
     "base_uri": "https://localhost:8080/"
    },
    "executionInfo": {
     "elapsed": 36,
     "status": "ok",
     "timestamp": 1604243983757,
     "user": {
      "displayName": "Thu Nguyễn",
      "photoUrl": "https://lh3.googleusercontent.com/a-/AOh14GjaRl8WgKOjLdrEa69IqFm__Rq7udZ763hhFDl9=s64",
      "userId": "04714273295929622355"
     },
     "user_tz": 360
    },
    "id": "7kXdgcRD-IAJ",
    "outputId": "525a4005-9b0d-4d78-f080-245a779cb69b"
   },
   "outputs": [
    {
     "data": {
      "text/plain": [
       "(0.1844, 6533.909581661224)"
      ]
     },
     "execution_count": 63,
     "metadata": {
      "tags": []
     },
     "output_type": "execute_result"
    }
   ],
   "source": [
    "compute_err_MLE(Xtrain, ytrain, Xtest, ytest, n, p, 10)"
   ]
  },
  {
   "cell_type": "code",
   "execution_count": null,
   "metadata": {
    "colab": {
     "base_uri": "https://localhost:8080/"
    },
    "executionInfo": {
     "elapsed": 1368987,
     "status": "ok",
     "timestamp": 1604274773732,
     "user": {
      "displayName": "Thu Nguyễn",
      "photoUrl": "https://lh3.googleusercontent.com/a-/AOh14GjaRl8WgKOjLdrEa69IqFm__Rq7udZ763hhFDl9=s64",
      "userId": "04714273295929622355"
     },
     "user_tz": 360
    },
    "id": "5VyKp6LP-KEE",
    "outputId": "e695bf5d-0642-4e7b-c15e-88bf85039c0e"
   },
   "outputs": [
    {
     "name": "stdout",
     "output_type": "stream",
     "text": [
      "[SoftImpute] Max Singular Value of X_init = 1752.070804\n",
      "[SoftImpute] Iter 1: observed MAE=0.062324 rank=125\n",
      "[SoftImpute] Iter 2: observed MAE=0.062224 rank=121\n",
      "[SoftImpute] Iter 3: observed MAE=0.062203 rank=119\n",
      "[SoftImpute] Iter 4: observed MAE=0.062197 rank=118\n",
      "[SoftImpute] Iter 5: observed MAE=0.062195 rank=118\n",
      "[SoftImpute] Iter 6: observed MAE=0.062193 rank=118\n",
      "[SoftImpute] Iter 7: observed MAE=0.062191 rank=118\n",
      "[SoftImpute] Iter 8: observed MAE=0.062188 rank=118\n",
      "[SoftImpute] Iter 9: observed MAE=0.062186 rank=118\n",
      "[SoftImpute] Iter 10: observed MAE=0.062184 rank=118\n",
      "[SoftImpute] Iter 11: observed MAE=0.062182 rank=118\n",
      "[SoftImpute] Iter 12: observed MAE=0.062180 rank=118\n",
      "[SoftImpute] Iter 13: observed MAE=0.062178 rank=118\n",
      "[SoftImpute] Iter 14: observed MAE=0.062176 rank=118\n",
      "[SoftImpute] Iter 15: observed MAE=0.062174 rank=118\n",
      "[SoftImpute] Iter 16: observed MAE=0.062173 rank=118\n",
      "[SoftImpute] Iter 17: observed MAE=0.062171 rank=118\n",
      "[SoftImpute] Iter 18: observed MAE=0.062170 rank=118\n",
      "[SoftImpute] Iter 19: observed MAE=0.062169 rank=118\n",
      "[SoftImpute] Iter 20: observed MAE=0.062167 rank=118\n",
      "[SoftImpute] Iter 21: observed MAE=0.062166 rank=118\n",
      "[SoftImpute] Iter 22: observed MAE=0.062165 rank=118\n",
      "[SoftImpute] Iter 23: observed MAE=0.062164 rank=118\n",
      "[SoftImpute] Iter 24: observed MAE=0.062163 rank=118\n",
      "[SoftImpute] Iter 25: observed MAE=0.062162 rank=118\n",
      "[SoftImpute] Iter 26: observed MAE=0.062161 rank=118\n",
      "[SoftImpute] Iter 27: observed MAE=0.062161 rank=118\n",
      "[SoftImpute] Iter 28: observed MAE=0.062160 rank=118\n",
      "[SoftImpute] Iter 29: observed MAE=0.062159 rank=118\n",
      "[SoftImpute] Iter 30: observed MAE=0.062159 rank=118\n",
      "[SoftImpute] Iter 31: observed MAE=0.062158 rank=118\n",
      "[SoftImpute] Iter 32: observed MAE=0.062157 rank=118\n",
      "[SoftImpute] Iter 33: observed MAE=0.062157 rank=118\n",
      "[SoftImpute] Iter 34: observed MAE=0.062156 rank=118\n",
      "[SoftImpute] Iter 35: observed MAE=0.062156 rank=118\n",
      "[SoftImpute] Iter 36: observed MAE=0.062155 rank=118\n",
      "[SoftImpute] Iter 37: observed MAE=0.062155 rank=118\n",
      "[SoftImpute] Iter 38: observed MAE=0.062154 rank=118\n",
      "[SoftImpute] Iter 39: observed MAE=0.062154 rank=118\n",
      "[SoftImpute] Iter 40: observed MAE=0.062153 rank=118\n",
      "[SoftImpute] Iter 41: observed MAE=0.062153 rank=118\n",
      "[SoftImpute] Iter 42: observed MAE=0.062153 rank=118\n",
      "[SoftImpute] Iter 43: observed MAE=0.062152 rank=118\n",
      "[SoftImpute] Iter 44: observed MAE=0.062152 rank=118\n",
      "[SoftImpute] Iter 45: observed MAE=0.062151 rank=118\n",
      "[SoftImpute] Iter 46: observed MAE=0.062151 rank=118\n",
      "[SoftImpute] Iter 47: observed MAE=0.062151 rank=118\n",
      "[SoftImpute] Iter 48: observed MAE=0.062151 rank=118\n",
      "[SoftImpute] Iter 49: observed MAE=0.062150 rank=118\n",
      "[SoftImpute] Iter 50: observed MAE=0.062150 rank=118\n",
      "[SoftImpute] Iter 51: observed MAE=0.062150 rank=118\n",
      "[SoftImpute] Iter 52: observed MAE=0.062150 rank=118\n",
      "[SoftImpute] Iter 53: observed MAE=0.062149 rank=118\n",
      "[SoftImpute] Iter 54: observed MAE=0.062149 rank=118\n",
      "[SoftImpute] Iter 55: observed MAE=0.062149 rank=118\n",
      "[SoftImpute] Iter 56: observed MAE=0.062149 rank=118\n",
      "[SoftImpute] Iter 57: observed MAE=0.062149 rank=118\n",
      "[SoftImpute] Iter 58: observed MAE=0.062148 rank=118\n",
      "[SoftImpute] Iter 59: observed MAE=0.062148 rank=118\n",
      "[SoftImpute] Iter 60: observed MAE=0.062148 rank=118\n",
      "[SoftImpute] Iter 61: observed MAE=0.062148 rank=118\n",
      "[SoftImpute] Iter 62: observed MAE=0.062148 rank=118\n",
      "[SoftImpute] Iter 63: observed MAE=0.062148 rank=118\n",
      "[SoftImpute] Iter 64: observed MAE=0.062147 rank=118\n",
      "[SoftImpute] Iter 65: observed MAE=0.062147 rank=118\n",
      "[SoftImpute] Iter 66: observed MAE=0.062147 rank=118\n",
      "[SoftImpute] Iter 67: observed MAE=0.062147 rank=118\n",
      "[SoftImpute] Iter 68: observed MAE=0.062147 rank=118\n",
      "[SoftImpute] Iter 69: observed MAE=0.062147 rank=118\n",
      "[SoftImpute] Iter 70: observed MAE=0.062147 rank=118\n",
      "[SoftImpute] Iter 71: observed MAE=0.062146 rank=118\n",
      "[SoftImpute] Iter 72: observed MAE=0.062146 rank=118\n",
      "[SoftImpute] Iter 73: observed MAE=0.062146 rank=118\n",
      "[SoftImpute] Iter 74: observed MAE=0.062146 rank=118\n",
      "[SoftImpute] Iter 75: observed MAE=0.062146 rank=118\n",
      "[SoftImpute] Iter 76: observed MAE=0.062146 rank=118\n",
      "[SoftImpute] Iter 77: observed MAE=0.062146 rank=118\n",
      "[SoftImpute] Iter 78: observed MAE=0.062146 rank=118\n",
      "[SoftImpute] Iter 79: observed MAE=0.062146 rank=118\n",
      "[SoftImpute] Iter 80: observed MAE=0.062146 rank=118\n",
      "[SoftImpute] Iter 81: observed MAE=0.062145 rank=118\n",
      "[SoftImpute] Iter 82: observed MAE=0.062145 rank=118\n",
      "[SoftImpute] Iter 83: observed MAE=0.062145 rank=118\n",
      "[SoftImpute] Iter 84: observed MAE=0.062145 rank=118\n",
      "[SoftImpute] Iter 85: observed MAE=0.062145 rank=118\n",
      "[SoftImpute] Iter 86: observed MAE=0.062145 rank=118\n",
      "[SoftImpute] Iter 87: observed MAE=0.062145 rank=118\n",
      "[SoftImpute] Iter 88: observed MAE=0.062145 rank=118\n",
      "[SoftImpute] Iter 89: observed MAE=0.062145 rank=118\n",
      "[SoftImpute] Iter 90: observed MAE=0.062145 rank=118\n",
      "[SoftImpute] Iter 91: observed MAE=0.062145 rank=118\n",
      "[SoftImpute] Iter 92: observed MAE=0.062145 rank=118\n",
      "[SoftImpute] Iter 93: observed MAE=0.062145 rank=118\n",
      "[SoftImpute] Iter 94: observed MAE=0.062145 rank=118\n",
      "[SoftImpute] Iter 95: observed MAE=0.062144 rank=118\n",
      "[SoftImpute] Iter 96: observed MAE=0.062144 rank=118\n",
      "[SoftImpute] Iter 97: observed MAE=0.062144 rank=118\n",
      "[SoftImpute] Iter 98: observed MAE=0.062144 rank=118\n",
      "[SoftImpute] Iter 99: observed MAE=0.062144 rank=118\n",
      "[SoftImpute] Iter 100: observed MAE=0.062144 rank=118\n",
      "[SoftImpute] Stopped after iteration 100 for lambda=35.041416\n"
     ]
    },
    {
     "data": {
      "text/plain": [
       "(0.2024, 1366.3064613342285)"
      ]
     },
     "execution_count": 13,
     "metadata": {
      "tags": []
     },
     "output_type": "execute_result"
    }
   ],
   "source": [
    "compute_err_SOFT(Xtrain, ytrain, Xtest, ytest, n, p, 10)"
   ]
  },
  {
   "cell_type": "code",
   "execution_count": null,
   "metadata": {
    "id": "pJiYMmmSJXnY"
   },
   "outputs": [],
   "source": []
  },
  {
   "cell_type": "markdown",
   "metadata": {
    "id": "RLQMYtdXxvZw"
   },
   "source": [
    "## 50%"
   ]
  },
  {
   "cell_type": "code",
   "execution_count": 13,
   "metadata": {
    "colab": {
     "base_uri": "https://localhost:8080/"
    },
    "executionInfo": {
     "elapsed": 1830,
     "status": "ok",
     "timestamp": 1604530363940,
     "user": {
      "displayName": "Thu Nguyễn",
      "photoUrl": "https://lh3.googleusercontent.com/a-/AOh14GjaRl8WgKOjLdrEa69IqFm__Rq7udZ763hhFDl9=s64",
      "userId": "04714273295929622355"
     },
     "user_tz": 360
    },
    "id": "mgE7aglKxw6Y",
    "outputId": "ddcaf6ce-15bd-4f75-b48b-5770a14d2f57"
   },
   "outputs": [
    {
     "data": {
      "text/plain": [
       "0.4963860544217687"
      ]
     },
     "execution_count": 13,
     "metadata": {
      "tags": []
     },
     "output_type": "execute_result"
    }
   ],
   "source": [
    "n = np.hstack((ng.reshape((-1,1)), np.tile([3000,2900,2700, 2500],\n",
    "                                 10).reshape((10,-1))))\n",
    "p = np.array([100,150,220, 250,784])   \n",
    "missing_rate(Xtrain, ytrain, n, p, 10)"
   ]
  },
  {
   "cell_type": "code",
   "execution_count": 14,
   "metadata": {
    "colab": {
     "base_uri": "https://localhost:8080/"
    },
    "executionInfo": {
     "elapsed": 1274,
     "status": "ok",
     "timestamp": 1604536582009,
     "user": {
      "displayName": "Thu Nguyễn",
      "photoUrl": "https://lh3.googleusercontent.com/a-/AOh14GjaRl8WgKOjLdrEa69IqFm__Rq7udZ763hhFDl9=s64",
      "userId": "04714273295929622355"
     },
     "user_tz": 360
    },
    "id": "Ss1j_Wzux60w",
    "outputId": "868c9236-7387-4842-d447-4eaeddf1878e"
   },
   "outputs": [
    {
     "data": {
      "text/plain": [
       "(0.185, 3550.665013074875)"
      ]
     },
     "execution_count": 14,
     "metadata": {
      "tags": []
     },
     "output_type": "execute_result"
    }
   ],
   "source": [
    "compute_err_MLE(Xtrain, ytrain, Xtest, ytest, n, p, 10)"
   ]
  },
  {
   "cell_type": "code",
   "execution_count": 15,
   "metadata": {
    "colab": {
     "base_uri": "https://localhost:8080/"
    },
    "executionInfo": {
     "elapsed": 344087,
     "status": "ok",
     "timestamp": 1604537919355,
     "user": {
      "displayName": "Thu Nguyễn",
      "photoUrl": "https://lh3.googleusercontent.com/a-/AOh14GjaRl8WgKOjLdrEa69IqFm__Rq7udZ763hhFDl9=s64",
      "userId": "04714273295929622355"
     },
     "user_tz": 360
    },
    "id": "dOsCe-DUdpNY",
    "outputId": "abe50399-7feb-4b9f-e94a-7bce44b8e8af"
   },
   "outputs": [
    {
     "name": "stdout",
     "output_type": "stream",
     "text": [
      "[SoftImpute] Max Singular Value of X_init = 1679.875710\n",
      "[SoftImpute] Iter 1: observed MAE=0.063546 rank=115\n",
      "[SoftImpute] Iter 2: observed MAE=0.063487 rank=112\n",
      "[SoftImpute] Iter 3: observed MAE=0.063484 rank=112\n",
      "[SoftImpute] Iter 4: observed MAE=0.063489 rank=112\n",
      "[SoftImpute] Iter 5: observed MAE=0.063495 rank=112\n",
      "[SoftImpute] Iter 6: observed MAE=0.063498 rank=111\n",
      "[SoftImpute] Iter 7: observed MAE=0.063501 rank=111\n",
      "[SoftImpute] Iter 8: observed MAE=0.063502 rank=111\n",
      "[SoftImpute] Iter 9: observed MAE=0.063504 rank=111\n",
      "[SoftImpute] Iter 10: observed MAE=0.063505 rank=111\n",
      "[SoftImpute] Iter 11: observed MAE=0.063506 rank=111\n",
      "[SoftImpute] Iter 12: observed MAE=0.063506 rank=111\n",
      "[SoftImpute] Iter 13: observed MAE=0.063507 rank=111\n",
      "[SoftImpute] Iter 14: observed MAE=0.063508 rank=111\n",
      "[SoftImpute] Iter 15: observed MAE=0.063508 rank=111\n",
      "[SoftImpute] Iter 16: observed MAE=0.063508 rank=111\n",
      "[SoftImpute] Iter 17: observed MAE=0.063509 rank=111\n",
      "[SoftImpute] Iter 18: observed MAE=0.063509 rank=111\n",
      "[SoftImpute] Iter 19: observed MAE=0.063509 rank=111\n",
      "[SoftImpute] Iter 20: observed MAE=0.063510 rank=111\n",
      "[SoftImpute] Iter 21: observed MAE=0.063510 rank=111\n",
      "[SoftImpute] Iter 22: observed MAE=0.063510 rank=111\n",
      "[SoftImpute] Iter 23: observed MAE=0.063510 rank=111\n",
      "[SoftImpute] Iter 24: observed MAE=0.063510 rank=111\n",
      "[SoftImpute] Iter 25: observed MAE=0.063511 rank=111\n",
      "[SoftImpute] Iter 26: observed MAE=0.063511 rank=111\n",
      "[SoftImpute] Iter 27: observed MAE=0.063511 rank=111\n",
      "[SoftImpute] Iter 28: observed MAE=0.063511 rank=111\n",
      "[SoftImpute] Iter 29: observed MAE=0.063511 rank=111\n",
      "[SoftImpute] Iter 30: observed MAE=0.063512 rank=111\n",
      "[SoftImpute] Iter 31: observed MAE=0.063512 rank=111\n",
      "[SoftImpute] Iter 32: observed MAE=0.063512 rank=111\n",
      "[SoftImpute] Iter 33: observed MAE=0.063512 rank=111\n",
      "[SoftImpute] Iter 34: observed MAE=0.063512 rank=111\n",
      "[SoftImpute] Iter 35: observed MAE=0.063512 rank=111\n",
      "[SoftImpute] Iter 36: observed MAE=0.063513 rank=111\n",
      "[SoftImpute] Iter 37: observed MAE=0.063513 rank=111\n",
      "[SoftImpute] Iter 38: observed MAE=0.063513 rank=111\n",
      "[SoftImpute] Iter 39: observed MAE=0.063513 rank=111\n",
      "[SoftImpute] Iter 40: observed MAE=0.063513 rank=111\n",
      "[SoftImpute] Iter 41: observed MAE=0.063513 rank=111\n",
      "[SoftImpute] Iter 42: observed MAE=0.063513 rank=111\n",
      "[SoftImpute] Iter 43: observed MAE=0.063514 rank=111\n",
      "[SoftImpute] Iter 44: observed MAE=0.063514 rank=111\n",
      "[SoftImpute] Iter 45: observed MAE=0.063514 rank=111\n",
      "[SoftImpute] Iter 46: observed MAE=0.063514 rank=111\n",
      "[SoftImpute] Iter 47: observed MAE=0.063514 rank=111\n",
      "[SoftImpute] Iter 48: observed MAE=0.063514 rank=111\n",
      "[SoftImpute] Iter 49: observed MAE=0.063514 rank=111\n",
      "[SoftImpute] Iter 50: observed MAE=0.063514 rank=111\n",
      "[SoftImpute] Iter 51: observed MAE=0.063514 rank=111\n",
      "[SoftImpute] Iter 52: observed MAE=0.063514 rank=111\n",
      "[SoftImpute] Iter 53: observed MAE=0.063515 rank=111\n",
      "[SoftImpute] Iter 54: observed MAE=0.063515 rank=111\n",
      "[SoftImpute] Iter 55: observed MAE=0.063515 rank=111\n",
      "[SoftImpute] Iter 56: observed MAE=0.063515 rank=111\n",
      "[SoftImpute] Iter 57: observed MAE=0.063515 rank=111\n",
      "[SoftImpute] Iter 58: observed MAE=0.063515 rank=111\n",
      "[SoftImpute] Iter 59: observed MAE=0.063515 rank=111\n",
      "[SoftImpute] Iter 60: observed MAE=0.063515 rank=111\n",
      "[SoftImpute] Iter 61: observed MAE=0.063515 rank=111\n",
      "[SoftImpute] Iter 62: observed MAE=0.063515 rank=111\n",
      "[SoftImpute] Iter 63: observed MAE=0.063515 rank=111\n",
      "[SoftImpute] Iter 64: observed MAE=0.063515 rank=111\n",
      "[SoftImpute] Iter 65: observed MAE=0.063515 rank=111\n",
      "[SoftImpute] Iter 66: observed MAE=0.063515 rank=111\n",
      "[SoftImpute] Iter 67: observed MAE=0.063516 rank=111\n",
      "[SoftImpute] Iter 68: observed MAE=0.063516 rank=111\n",
      "[SoftImpute] Iter 69: observed MAE=0.063516 rank=111\n",
      "[SoftImpute] Iter 70: observed MAE=0.063516 rank=111\n",
      "[SoftImpute] Iter 71: observed MAE=0.063516 rank=111\n",
      "[SoftImpute] Iter 72: observed MAE=0.063516 rank=111\n",
      "[SoftImpute] Iter 73: observed MAE=0.063516 rank=111\n",
      "[SoftImpute] Iter 74: observed MAE=0.063516 rank=111\n",
      "[SoftImpute] Iter 75: observed MAE=0.063516 rank=111\n",
      "[SoftImpute] Iter 76: observed MAE=0.063516 rank=111\n",
      "[SoftImpute] Iter 77: observed MAE=0.063516 rank=111\n",
      "[SoftImpute] Iter 78: observed MAE=0.063516 rank=111\n",
      "[SoftImpute] Iter 79: observed MAE=0.063516 rank=111\n",
      "[SoftImpute] Iter 80: observed MAE=0.063516 rank=111\n",
      "[SoftImpute] Iter 81: observed MAE=0.063516 rank=111\n",
      "[SoftImpute] Iter 82: observed MAE=0.063516 rank=111\n",
      "[SoftImpute] Iter 83: observed MAE=0.063516 rank=111\n",
      "[SoftImpute] Iter 84: observed MAE=0.063516 rank=111\n",
      "[SoftImpute] Iter 85: observed MAE=0.063516 rank=111\n",
      "[SoftImpute] Iter 86: observed MAE=0.063516 rank=111\n",
      "[SoftImpute] Iter 87: observed MAE=0.063516 rank=111\n",
      "[SoftImpute] Iter 88: observed MAE=0.063516 rank=111\n",
      "[SoftImpute] Iter 89: observed MAE=0.063516 rank=111\n",
      "[SoftImpute] Iter 90: observed MAE=0.063516 rank=111\n",
      "[SoftImpute] Iter 91: observed MAE=0.063516 rank=111\n",
      "[SoftImpute] Iter 92: observed MAE=0.063516 rank=111\n",
      "[SoftImpute] Iter 93: observed MAE=0.063516 rank=111\n",
      "[SoftImpute] Iter 94: observed MAE=0.063516 rank=111\n",
      "[SoftImpute] Iter 95: observed MAE=0.063516 rank=111\n",
      "[SoftImpute] Iter 96: observed MAE=0.063516 rank=111\n",
      "[SoftImpute] Iter 97: observed MAE=0.063516 rank=111\n",
      "[SoftImpute] Iter 98: observed MAE=0.063516 rank=111\n",
      "[SoftImpute] Iter 99: observed MAE=0.063516 rank=111\n",
      "[SoftImpute] Iter 100: observed MAE=0.063516 rank=111\n",
      "[SoftImpute] Stopped after iteration 100 for lambda=33.597514\n"
     ]
    },
    {
     "data": {
      "text/plain": [
       "(0.1977, 770.5144274234772)"
      ]
     },
     "execution_count": 15,
     "metadata": {
      "tags": []
     },
     "output_type": "execute_result"
    }
   ],
   "source": [
    "compute_err_SOFT(Xtrain, ytrain, Xtest, ytest, n, p, 10)"
   ]
  }
 ],
 "metadata": {
  "colab": {
   "collapsed_sections": [],
   "machine_shape": "hm",
   "name": "Application in LDA - Fashion MNIST - MICE -  MLE - SOFT - IMPUTE .ipynb",
   "provenance": [
    {
     "file_id": "19SoV4xZ6z1YX1a6dR0QIhrKxrU3HWZJV",
     "timestamp": 1604218722623
    },
    {
     "file_id": "1UPCB9FT9px24oZYoQRXSsOmvBFbAACF3",
     "timestamp": 1603789837370
    },
    {
     "file_id": "1tR40bOS9ThPI2uK0uthQ8LnWLmmQaDr8",
     "timestamp": 1603678172225
    },
    {
     "file_id": "1CnbOqwmJydQa8uCCpIR6HRVxw0YnveIP",
     "timestamp": 1591365193693
    }
   ],
   "toc_visible": true
  },
  "kernelspec": {
   "display_name": "Python 3",
   "language": "python",
   "name": "python3"
  },
  "language_info": {
   "codemirror_mode": {
    "name": "ipython",
    "version": 3
   },
   "file_extension": ".py",
   "mimetype": "text/x-python",
   "name": "python",
   "nbconvert_exporter": "python",
   "pygments_lexer": "ipython3",
   "version": "3.8.3"
  }
 },
 "nbformat": 4,
 "nbformat_minor": 1
}
